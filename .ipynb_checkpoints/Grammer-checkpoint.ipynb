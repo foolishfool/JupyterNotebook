{
 "cells": [
  {
   "cell_type": "code",
   "execution_count": null,
   "id": "b480f746",
   "metadata": {},
   "outputs": [],
   "source": [
    "import plotly.express as px\n",
    "fig = px.scatter_matrix(weights2)\n",
    "fig.show()"
   ]
  },
  {
   "cell_type": "code",
   "execution_count": null,
   "id": "3f1bf314",
   "metadata": {},
   "outputs": [],
   "source": [
    "EuclideanDistance(weights1,weights2)"
   ]
  },
  {
   "cell_type": "code",
   "execution_count": null,
   "id": "c283f1c0",
   "metadata": {},
   "outputs": [],
   "source": [
    "print(weights1)\n",
    "plt.plot(weights1,'ro') # show matrix in a plot"
   ]
  },
  {
   "cell_type": "code",
   "execution_count": null,
   "id": "8859a143",
   "metadata": {},
   "outputs": [],
   "source": [
    "from mayavi import mlab\n",
    "mlab.surf(weights1)\n",
    "mlab.show()  #3D visualization of matrix"
   ]
  },
  {
   "cell_type": "code",
   "execution_count": null,
   "id": "e92ee817",
   "metadata": {},
   "outputs": [],
   "source": [
    "[x]*(m*n)\n",
    "# = [x],\n",
    "#   [x],\n",
    "#   [x],\n",
    "#   [x],\n",
    "#   [x],\n",
    "\n",
    "# mxn row"
   ]
  },
  {
   "cell_type": "code",
   "execution_count": null,
   "id": "45297573",
   "metadata": {},
   "outputs": [],
   "source": [
    "x_stack = np.stack([x]*(m*n), axis=0)\n",
    "#stack multiple arrays to be one array "
   ]
  },
  {
   "cell_type": "code",
   "execution_count": null,
   "id": "b2ffea8c",
   "metadata": {},
   "outputs": [],
   "source": [
    "numpy.linalg.norm\n",
    "#get the norm of a vector or a matrix"
   ]
  },
  {
   "cell_type": "code",
   "execution_count": 2,
   "id": "5394f1f9",
   "metadata": {},
   "outputs": [
    {
     "ename": "NameError",
     "evalue": "name 'rng' is not defined",
     "output_type": "error",
     "traceback": [
      "\u001b[1;31m---------------------------------------------------------------------------\u001b[0m",
      "\u001b[1;31mNameError\u001b[0m                                 Traceback (most recent call last)",
      "Input \u001b[1;32mIn [2]\u001b[0m, in \u001b[0;36m<cell line: 2>\u001b[1;34m()\u001b[0m\n\u001b[0;32m      1\u001b[0m \u001b[38;5;28;01mimport\u001b[39;00m \u001b[38;5;21;01mnumpy\u001b[39;00m \u001b[38;5;28;01mas\u001b[39;00m \u001b[38;5;21;01mnp\u001b[39;00m\n\u001b[1;32m----> 2\u001b[0m \u001b[43mrng\u001b[49m\u001b[38;5;241m.\u001b[39mnormal(size\u001b[38;5;241m=\u001b[39m(\u001b[38;5;241m9\u001b[39m, \u001b[38;5;241m4\u001b[39m))\n",
      "\u001b[1;31mNameError\u001b[0m: name 'rng' is not defined"
     ]
    }
   ],
   "source": [
    "import numpy as np\n",
    " rng = np.random.default_rng(random_state)\n",
    "rng.normal(size=(9, 4))"
   ]
  },
  {
   "cell_type": "code",
   "execution_count": null,
   "id": "78fde304",
   "metadata": {},
   "outputs": [],
   "source": [
    "  return np.argwhere(np.ones(shape=(m, n))).astype(np.int64)\n",
    "        # the element in these indices are non-zero\n",
    "        #return a group of indices for each suitable elements in a group or matrix \n",
    "\n",
    "# return : if m =n=3  np.ones(shape=(m, n)) is    [[1. 1. 1.]\n",
    "                                                # [1. 1. 1.]\n",
    "# result\"                                       # [1. 1. 1.]]\n",
    "[[0 0]\n",
    " [0 1]\n",
    " [0 2]\n",
    " [1 0]\n",
    " [1 1]\n",
    " [1 2]\n",
    " [2 0]\n",
    " [2 1]\n",
    " [2 2]]"
   ]
  },
  {
   "cell_type": "code",
   "execution_count": null,
   "id": "2f9bf4eb",
   "metadata": {},
   "outputs": [],
   "source": [
    "x is np.array\n",
    "x[a,:] get the all the elements that the indice is a in x\n",
    "x = [[1,2],[3,3],[2,2],[22,2]]\n",
    "x[1,:] =[3,3]\n",
    "\n",
    "x[0,:] =[1,2]\n",
    "x[3,:] =[22,2]\n",
    "\n",
    "x[:,n] get the nth elements in each row\n",
    "x[:,0] =[1,3,2,22]\n",
    "x[:,1] =[2,3,2,2]"
   ]
  },
  {
   "cell_type": "code",
   "execution_count": null,
   "id": "f4eaca31",
   "metadata": {},
   "outputs": [],
   "source": [
    "df = pd.DataFrame(iris_data)\n",
    "df1 = df.sample(150)\n",
    "df2 = df.sample(int(150*0.9))\n",
    "print(int(150*0.9))"
   ]
  },
  {
   "cell_type": "code",
   "execution_count": null,
   "id": "01055602",
   "metadata": {},
   "outputs": [],
   "source": [
    "csv = np.genfromtxt ('online_shoppers_intention.csv', delimiter=\",\")\n",
    "second = csv[:,0]\n"
   ]
  },
  {
   "cell_type": "code",
   "execution_count": null,
   "id": "491aea2d",
   "metadata": {},
   "outputs": [],
   "source": [
    "iris = datasets.load_iris()\n",
    "iris_data = iris.data\n",
    "iris_label = iris.target\n",
    "#print (iris_data)\n",
    "print (\"label_true:\\n {}\".format(iris_label))\n",
    "number_of_rows = iris_data.shape[0]\n",
    "subset = np.random.choice(number_of_rows,148,replace = False)\n",
    "subset = np.sort(subset)\n",
    "subset1 = iris_data[subset, :]\n",
    "subset1_label = iris_label[subset]\n",
    "#print(subset)\n",
    "df = pd.DataFrame(iris_data)\n",
    "df_label = pd.DataFrame(iris_label)"
   ]
  },
  {
   "cell_type": "code",
   "execution_count": null,
   "id": "70228e01",
   "metadata": {},
   "outputs": [],
   "source": [
    "csv[\"Revenue\"]= np.multiply(csv[\"Revenue\"], 1)"
   ]
  },
  {
   "cell_type": "code",
   "execution_count": null,
   "id": "fe355989",
   "metadata": {},
   "outputs": [],
   "source": [
    "csv = pd.read_csv(\"online_shoppers_intention.csv\")\n",
    "del csv[\"Month\"]\n",
    "del csv[\"Weekend\"]\n",
    "stringToInt(csv,\"VisitorType\")\n",
    "stringToInt(csv,\"Revenue\")"
   ]
  }
 ],
 "metadata": {
  "kernelspec": {
   "display_name": "Python 3 (ipykernel)",
   "language": "python",
   "name": "python3"
  },
  "language_info": {
   "codemirror_mode": {
    "name": "ipython",
    "version": 3
   },
   "file_extension": ".py",
   "mimetype": "text/x-python",
   "name": "python",
   "nbconvert_exporter": "python",
   "pygments_lexer": "ipython3",
   "version": "3.9.12"
  }
 },
 "nbformat": 4,
 "nbformat_minor": 5
}
