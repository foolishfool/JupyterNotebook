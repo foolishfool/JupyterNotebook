{
 "cells": [
  {
   "cell_type": "code",
   "execution_count": 1,
   "id": "bfe73aa3",
   "metadata": {},
   "outputs": [],
   "source": [
    "#THIS CODE ONLY DO THE WHOLE DATA TRAINING, NO CROSS_VALIDATION AND FEATURE SELECTION\n",
    "import pandas as pd\n",
    "#numpy-1.21.4\n",
    "import numpy as np\n",
    "import newSom\n",
    "import experiment\n",
    "import dataset_read\n",
    "import researchpy as rp\n",
    "import scipy.stats as stats\n",
    "import matplotlib.pyplot as plt\n",
    "import collections\n",
    "import warnings\n",
    "warnings.filterwarnings(\"ignore\", category=np.VisibleDeprecationWarning) \n"
   ]
  },
  {
   "cell_type": "code",
   "execution_count": 2,
   "id": "4bcbf78d",
   "metadata": {},
   "outputs": [],
   "source": [
    "dataread = dataset_read.DATAREAD()"
   ]
  },
  {
   "cell_type": "code",
   "execution_count": 3,
   "id": "6087d459",
   "metadata": {
    "scrolled": true
   },
   "outputs": [
    {
     "name": "stdout",
     "output_type": "stream",
     "text": [
      "self.continuous_feature_num 7\n",
      "self.data_discrete_indexes ['Checkup', 'Exercise', 'Heart_Disease', 'Skin_Cancer', 'Other_Cancer', 'Depression', 'Diabetes', 'Arthritis', 'Sex', 'Age_Category', 'Smoking_History'] \n"
     ]
    }
   ],
   "source": [
    "csv = pd.read_csv(\"CVD_cleaned.csv\")\n",
    "csv = csv.sample(int(csv.shape[0]*0.01))\n",
    "\n",
    "\n",
    "dataread.label_encoding(csv,\"General_Health\")\n",
    "dataread.label_encoding(csv,\"Checkup\")\n",
    "dataread.label_encoding(csv,\"Exercise\")\n",
    "dataread.label_encoding(csv,\"Heart_Disease\")\n",
    "dataread.label_encoding(csv,\"Skin_Cancer\")\n",
    "dataread.label_encoding(csv,\"Other_Cancer\")\n",
    "dataread.label_encoding(csv,\"Depression\")\n",
    "dataread.label_encoding(csv,\"Diabetes\")\n",
    "dataread.label_encoding(csv,\"Arthritis\")\n",
    "dataread.label_encoding(csv,\"Sex\")\n",
    "dataread.label_encoding(csv,\"Age_Category\")\n",
    "dataread.label_encoding(csv,\"Smoking_History\")\n",
    "\n",
    "\n",
    "\n",
    "csv_test = csv.sample(int(csv.shape[0]*0.3))\n",
    "csv_training = csv.drop(csv_test.index,axis = 0)\n",
    "csv_training = csv\n",
    "dataread.initializedataset(csv,csv_training,csv_test,\"General_Health\")"
   ]
  },
  {
   "cell_type": "code",
   "execution_count": 4,
   "id": "4749177c",
   "metadata": {
    "scrolled": true
   },
   "outputs": [
    {
     "name": "stdout",
     "output_type": "stream",
     "text": [
      "Neuron number: 5\n",
      "test_score_W0_p0.36393088552915764\n",
      "test_score_W0_n 0.006963600606102037\n",
      "test_score_W0_a  0.00916334781789091\n",
      "test_score_W_combine_p 0.3509719222462203\n",
      "test_score_W_combine_n 0.004535667307294996\n",
      "test_score_W_combine_a 0.0018748846891604321\n",
      "Not good purity result !!!!!\n",
      "Not good nmi result !!!!!\n",
      "Not good ari !!!!!\n",
      "Neuron number: 10\n",
      "test_score_W0_p0.3833693304535637\n",
      "test_score_W0_n 0.01696889008735459\n",
      "test_score_W0_a  0.01542096397690327\n",
      "test_score_W_combine_p 0.38660907127429806\n",
      "test_score_W_combine_n 0.02111855763579611\n",
      "test_score_W_combine_a 0.01713286765439924\n",
      "Neuron number: 15\n",
      "test_score_W0_p0.38660907127429806\n",
      "test_score_W0_n 0.02778694726577687\n",
      "test_score_W0_a  0.02177110548036934\n",
      "test_score_W_combine_p 0.38228941684665224\n",
      "test_score_W_combine_n 0.0217509579263488\n",
      "test_score_W_combine_a 0.0201567294189513\n",
      "Not good purity result !!!!!\n",
      "Not good nmi result !!!!!\n",
      "Not good ari !!!!!\n",
      "Neuron number: 20\n",
      "test_score_W0_p0.3930885529157667\n",
      "test_score_W0_n 0.02558641283595953\n",
      "test_score_W0_a  0.018429026186175854\n"
     ]
    },
    {
     "ename": "KeyboardInterrupt",
     "evalue": "",
     "output_type": "error",
     "traceback": [
      "\u001b[1;31m---------------------------------------------------------------------------\u001b[0m",
      "\u001b[1;31mKeyboardInterrupt\u001b[0m                         Traceback (most recent call last)",
      "Cell \u001b[1;32mIn[4], line 14\u001b[0m\n\u001b[0;32m     12\u001b[0m feature_combination_number \u001b[38;5;241m=\u001b[39m \u001b[38;5;241m2\u001b[39m\n\u001b[0;32m     13\u001b[0m experiment \u001b[38;5;241m=\u001b[39m experiment\u001b[38;5;241m.\u001b[39mExperiment()\n\u001b[1;32m---> 14\u001b[0m \u001b[43mexperiment\u001b[49m\u001b[38;5;241;43m.\u001b[39;49m\u001b[43mUTtest_Discrete\u001b[49m\u001b[43m(\u001b[49m\u001b[43mdataread\u001b[49m\u001b[43m,\u001b[49m\u001b[43mclass_num\u001b[49m\u001b[43m,\u001b[49m\u001b[43mscope_num\u001b[49m\u001b[43m,\u001b[49m\u001b[43minterval\u001b[49m\u001b[43m,\u001b[49m\u001b[43mfeatures_chosen\u001b[49m\u001b[43m,\u001b[49m\u001b[43mfeature_combination_number\u001b[49m\u001b[43m)\u001b[49m\n",
      "File \u001b[1;32mC:\\JupyterDoc\\SOM\\experiment.py:171\u001b[0m, in \u001b[0;36mExperiment.UTtest_Discrete\u001b[1;34m(self, dataread, class_num, scope_num, interval, features_choosen, feature_combination_number)\u001b[0m\n\u001b[0;32m    169\u001b[0m \u001b[38;5;28;01mwhile\u001b[39;00m y \u001b[38;5;241m<\u001b[39m\u001b[38;5;241m=\u001b[39m scope_num:\n\u001b[0;32m    170\u001b[0m     \u001b[38;5;28mprint\u001b[39m(\u001b[38;5;124m\"\u001b[39m\u001b[38;5;124mNeuron number: \u001b[39m\u001b[38;5;132;01m{}\u001b[39;00m\u001b[38;5;124m\"\u001b[39m\u001b[38;5;241m.\u001b[39mformat(y))           \n\u001b[1;32m--> 171\u001b[0m     \u001b[38;5;28;43mself\u001b[39;49m\u001b[38;5;241;43m.\u001b[39;49m\u001b[43mInitializedExperimentDataList\u001b[49m\u001b[43m(\u001b[49m\n\u001b[0;32m    172\u001b[0m \u001b[43m                            \u001b[49m\u001b[43mdataread\u001b[49m\u001b[43m,\u001b[49m\n\u001b[0;32m    173\u001b[0m \u001b[43m                            \u001b[49m\u001b[43my\u001b[49m\u001b[43m,\u001b[49m\n\u001b[0;32m    174\u001b[0m \u001b[43m                            \u001b[49m\u001b[43mall_test_score_W0_p\u001b[49m\u001b[43m,\u001b[49m\n\u001b[0;32m    175\u001b[0m \u001b[43m                            \u001b[49m\u001b[43mall_test_score_W0_n\u001b[49m\u001b[43m,\u001b[49m\n\u001b[0;32m    176\u001b[0m \u001b[43m                            \u001b[49m\u001b[43mall_test_score_W0_a\u001b[49m\u001b[43m,\u001b[49m\n\u001b[0;32m    177\u001b[0m \u001b[43m                            \u001b[49m\u001b[43mall_test_score_W_combine_p\u001b[49m\u001b[43m \u001b[49m\u001b[43m,\u001b[49m\n\u001b[0;32m    178\u001b[0m \u001b[43m                            \u001b[49m\u001b[43mall_test_score_W_combine_n\u001b[49m\u001b[43m \u001b[49m\u001b[43m,\u001b[49m\n\u001b[0;32m    179\u001b[0m \u001b[43m                            \u001b[49m\u001b[43mall_test_score_W_combine_a\u001b[49m\u001b[43m \u001b[49m\u001b[43m,\u001b[49m\n\u001b[0;32m    180\u001b[0m \u001b[43m                            \u001b[49m\u001b[43mfeatures_choosen\u001b[49m\u001b[43m,\u001b[49m\u001b[43mfeature_combination_number\u001b[49m\u001b[43m                                  \u001b[49m\n\u001b[0;32m    181\u001b[0m \u001b[43m                            \u001b[49m\u001b[43m)\u001b[49m        \n\u001b[0;32m    182\u001b[0m     y \u001b[38;5;241m=\u001b[39my \u001b[38;5;241m+\u001b[39m interval\n\u001b[0;32m    183\u001b[0m     \u001b[38;5;28;01mif\u001b[39;00m(y\u001b[38;5;241m<\u001b[39m\u001b[38;5;241m=\u001b[39m scope_num):\n",
      "File \u001b[1;32mC:\\JupyterDoc\\SOM\\experiment.py:136\u001b[0m, in \u001b[0;36mExperiment.InitializedExperimentDataList\u001b[1;34m(self, dataread, y, test_score_W0_p, test_score_W0_n, atest_score_W0_a, test_score_W_combine_p, test_score_W_combine_n, test_score_W_combine_a, features_choosen, feature_combination_number)\u001b[0m\n\u001b[0;32m    116\u001b[0m     som_total_discrete \u001b[38;5;241m=\u001b[39m som_continusous  \n\u001b[0;32m    120\u001b[0m optimize_W \u001b[38;5;241m=\u001b[39m CDSOM\u001b[38;5;241m.\u001b[39mCDSOM(som,\n\u001b[0;32m    121\u001b[0m          som_continusous,\n\u001b[0;32m    122\u001b[0m          som_discrete_original,\n\u001b[1;32m   (...)\u001b[0m\n\u001b[0;32m    132\u001b[0m          dataread\u001b[38;5;241m.\u001b[39mlabel_train,\n\u001b[0;32m    133\u001b[0m          dataread\u001b[38;5;241m.\u001b[39mlabel_test)                        \n\u001b[1;32m--> 136\u001b[0m \u001b[43moptimize_W\u001b[49m\u001b[38;5;241;43m.\u001b[39;49m\u001b[43mdo_DOSOM\u001b[49m\u001b[43m(\u001b[49m\u001b[43mfeatures_choosen\u001b[49m\u001b[43m,\u001b[49m\u001b[43mfeature_combination_number\u001b[49m\u001b[43m)\u001b[49m\n\u001b[0;32m    141\u001b[0m test_score_W0_p\u001b[38;5;241m.\u001b[39mappend(optimize_W\u001b[38;5;241m.\u001b[39mtest_score_W0_p)\n\u001b[0;32m    142\u001b[0m test_score_W0_n\u001b[38;5;241m.\u001b[39mappend(optimize_W\u001b[38;5;241m.\u001b[39mtest_score_W0_n)\n",
      "File \u001b[1;32mC:\\JupyterDoc\\SOM\\CDSOM.py:1449\u001b[0m, in \u001b[0;36mCDSOM.do_DOSOM\u001b[1;34m(self, all_feature_column, features_chosoen)\u001b[0m\n\u001b[0;32m   1447\u001b[0m \u001b[38;5;66;03m# print(f\"self.train_hybrid_embedding_sog  {self.train_hybrid_embedding_sog }\")\u001b[39;00m\n\u001b[0;32m   1448\u001b[0m  \u001b[38;5;28mself\u001b[39m\u001b[38;5;241m.\u001b[39msom_sog \u001b[38;5;241m=\u001b[39m KLSom\u001b[38;5;241m.\u001b[39mKLSOM(m\u001b[38;5;241m=\u001b[39m\u001b[38;5;28mself\u001b[39m\u001b[38;5;241m.\u001b[39msom_discrete\u001b[38;5;241m.\u001b[39mm, n\u001b[38;5;241m=\u001b[39m \u001b[38;5;28mself\u001b[39m\u001b[38;5;241m.\u001b[39msom_discrete\u001b[38;5;241m.\u001b[39mn, dim\u001b[38;5;241m=\u001b[39m \u001b[38;5;28mself\u001b[39m\u001b[38;5;241m.\u001b[39mtrain_hybrid_embedding_sog\u001b[38;5;241m.\u001b[39mshape[\u001b[38;5;241m1\u001b[39m]) \n\u001b[1;32m-> 1449\u001b[0m  \u001b[38;5;28;43mself\u001b[39;49m\u001b[38;5;241;43m.\u001b[39;49m\u001b[43msom_sog\u001b[49m\u001b[38;5;241;43m.\u001b[39;49m\u001b[43mfit\u001b[49m\u001b[43m(\u001b[49m\u001b[38;5;28;43mself\u001b[39;49m\u001b[38;5;241;43m.\u001b[39;49m\u001b[43mtrain_hybrid_embedding_sog\u001b[49m\u001b[43m,\u001b[49m\u001b[43mshowlog\u001b[49m\u001b[38;5;241;43m=\u001b[39;49m\u001b[38;5;28;43;01mFalse\u001b[39;49;00m\u001b[43m)\u001b[49m   \n\u001b[0;32m   1450\u001b[0m  weight_JSD \u001b[38;5;241m=\u001b[39m \u001b[38;5;28mself\u001b[39m\u001b[38;5;241m.\u001b[39msom_sog\u001b[38;5;241m.\u001b[39mweights0\n\u001b[0;32m   1451\u001b[0m \u001b[38;5;66;03m# print(f\"weight_JSD {weight_JSD}\")\u001b[39;00m\n",
      "File \u001b[1;32mC:\\JupyterDoc\\SOM\\KLSom.py:328\u001b[0m, in \u001b[0;36mKLSOM.fit\u001b[1;34m(self, X, weightIndex, epochs, shuffle, showlog)\u001b[0m\n\u001b[0;32m    323\u001b[0m \u001b[38;5;28minput\u001b[39m \u001b[38;5;241m=\u001b[39m X[idx]\n\u001b[0;32m    325\u001b[0m \u001b[38;5;66;03m#if (type(input) is np.float64):\u001b[39;00m\n\u001b[0;32m    326\u001b[0m \u001b[38;5;66;03m#    input = [input]\u001b[39;00m\n\u001b[0;32m    327\u001b[0m \u001b[38;5;66;03m# Do one step of training\u001b[39;00m\n\u001b[1;32m--> 328\u001b[0m \u001b[38;5;28;43mself\u001b[39;49m\u001b[38;5;241;43m.\u001b[39;49m\u001b[43mstep\u001b[49m\u001b[43m(\u001b[49m\u001b[38;5;28;43minput\u001b[39;49m\u001b[43m,\u001b[49m\u001b[43mshowlog\u001b[49m\u001b[43m)\u001b[49m\n\u001b[0;32m    329\u001b[0m \u001b[38;5;66;03m# Update learning rate\u001b[39;00m\n\u001b[0;32m    330\u001b[0m global_iter_counter \u001b[38;5;241m+\u001b[39m\u001b[38;5;241m=\u001b[39m \u001b[38;5;241m1\u001b[39m\n",
      "File \u001b[1;32mC:\\JupyterDoc\\SOM\\KLSom.py:236\u001b[0m, in \u001b[0;36mKLSOM.step\u001b[1;34m(self, x, showlog)\u001b[0m\n\u001b[0;32m    234\u001b[0m  delta \u001b[38;5;241m=\u001b[39m local_step \u001b[38;5;241m*\u001b[39m (x_stack_weights_difference)\n\u001b[0;32m    235\u001b[0m \u001b[38;5;66;03m# print(\"delta:{}\".format(delta))\u001b[39;00m\n\u001b[1;32m--> 236\u001b[0m  delta \u001b[38;5;241m=\u001b[39m  \u001b[43mnp\u001b[49m\u001b[38;5;241;43m.\u001b[39;49m\u001b[43mstack\u001b[49m\u001b[43m(\u001b[49m\u001b[43m[\u001b[49m\u001b[43mdelta\u001b[49m\u001b[43m]\u001b[49m\u001b[38;5;241;43m*\u001b[39;49m\u001b[43m(\u001b[49m\u001b[38;5;28;43mself\u001b[39;49m\u001b[38;5;241;43m.\u001b[39;49m\u001b[43mdim\u001b[49m\u001b[43m)\u001b[49m\u001b[43m,\u001b[49m\u001b[43m \u001b[49m\u001b[43maxis\u001b[49m\u001b[38;5;241;43m=\u001b[39;49m\u001b[38;5;241;43m1\u001b[39;49m\u001b[43m)\u001b[49m\n\u001b[0;32m    237\u001b[0m  \u001b[38;5;66;03m#print(\"delta2:{}\".format(delta))\u001b[39;00m\n\u001b[0;32m    238\u001b[0m  \u001b[38;5;66;03m#print(\"weights:{}\".format(self.weights))\u001b[39;00m\n\u001b[0;32m    239\u001b[0m  \u001b[38;5;66;03m# Update weights\u001b[39;00m\n\u001b[0;32m    240\u001b[0m  \u001b[38;5;28mself\u001b[39m\u001b[38;5;241m.\u001b[39mweights \u001b[38;5;241m+\u001b[39m\u001b[38;5;241m=\u001b[39m delta\n",
      "File \u001b[1;32m<__array_function__ internals>:180\u001b[0m, in \u001b[0;36mstack\u001b[1;34m(*args, **kwargs)\u001b[0m\n",
      "File \u001b[1;32m~\\anaconda3\\envs\\gpu_env\\lib\\site-packages\\numpy\\core\\shape_base.py:433\u001b[0m, in \u001b[0;36mstack\u001b[1;34m(arrays, axis, out)\u001b[0m\n\u001b[0;32m    431\u001b[0m sl \u001b[38;5;241m=\u001b[39m (\u001b[38;5;28mslice\u001b[39m(\u001b[38;5;28;01mNone\u001b[39;00m),) \u001b[38;5;241m*\u001b[39m axis \u001b[38;5;241m+\u001b[39m (_nx\u001b[38;5;241m.\u001b[39mnewaxis,)\n\u001b[0;32m    432\u001b[0m expanded_arrays \u001b[38;5;241m=\u001b[39m [arr[sl] \u001b[38;5;28;01mfor\u001b[39;00m arr \u001b[38;5;129;01min\u001b[39;00m arrays]\n\u001b[1;32m--> 433\u001b[0m \u001b[38;5;28;01mreturn\u001b[39;00m \u001b[43m_nx\u001b[49m\u001b[38;5;241;43m.\u001b[39;49m\u001b[43mconcatenate\u001b[49m\u001b[43m(\u001b[49m\u001b[43mexpanded_arrays\u001b[49m\u001b[43m,\u001b[49m\u001b[43m \u001b[49m\u001b[43maxis\u001b[49m\u001b[38;5;241;43m=\u001b[39;49m\u001b[43maxis\u001b[49m\u001b[43m,\u001b[49m\u001b[43m \u001b[49m\u001b[43mout\u001b[49m\u001b[38;5;241;43m=\u001b[39;49m\u001b[43mout\u001b[49m\u001b[43m)\u001b[49m\n",
      "File \u001b[1;32m<__array_function__ internals>:180\u001b[0m, in \u001b[0;36mconcatenate\u001b[1;34m(*args, **kwargs)\u001b[0m\n",
      "\u001b[1;31mKeyboardInterrupt\u001b[0m: "
     ]
    }
   ],
   "source": [
    "#LogisticRegression\n",
    "import experiment\n",
    "unstable_repeat_num= 30\n",
    "scope_num = 100\n",
    "class_num = 5\n",
    "best_num = 48\n",
    "interval = 5\n",
    "\n",
    "#features = 2 #[0,1,2,3,5,6,7,8,9,10]\n",
    "\n",
    "features_chosen =[0,1,2,3,5,6,7,8,9,10]\n",
    "feature_combination_number = 2\n",
    "experiment = experiment.Experiment()\n",
    "experiment.UTtest_Discrete(dataread,class_num,scope_num,interval,features_chosen,feature_combination_number)"
   ]
  },
  {
   "cell_type": "code",
   "execution_count": null,
   "id": "7b0ea935",
   "metadata": {},
   "outputs": [],
   "source": []
  }
 ],
 "metadata": {
  "kernelspec": {
   "display_name": "Python (GPU)",
   "language": "python",
   "name": "gpu_env"
  },
  "language_info": {
   "codemirror_mode": {
    "name": "ipython",
    "version": 3
   },
   "file_extension": ".py",
   "mimetype": "text/x-python",
   "name": "python",
   "nbconvert_exporter": "python",
   "pygments_lexer": "ipython3",
   "version": "3.9.18"
  }
 },
 "nbformat": 4,
 "nbformat_minor": 5
}
