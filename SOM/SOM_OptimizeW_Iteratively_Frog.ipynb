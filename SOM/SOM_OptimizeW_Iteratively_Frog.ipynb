{
 "cells": [
  {
   "cell_type": "code",
   "execution_count": 1,
   "id": "e9d34dde",
   "metadata": {},
   "outputs": [],
   "source": [
    "#THIS CODE ONLY DO THE WHOLE DATA TRAINING, NO CROSS_VALIDATION AND FEATURE SELECTION\n",
    "import pandas as pd\n",
    "import numpy as np\n",
    "from scipy import stats\n",
    "import researchpy as rp\n",
    "import newSom\n",
    "import optimizeW_CM_MultipleTrainingy_Frog\n",
    "import dataset_read\n",
    "import matplotlib.pyplot as plt"
   ]
  },
  {
   "cell_type": "code",
   "execution_count": 2,
   "id": "6aee060f",
   "metadata": {},
   "outputs": [],
   "source": [
    "dataread = dataset_read.DATAREAD()"
   ]
  },
  {
   "cell_type": "code",
   "execution_count": 3,
   "id": "de6b4ea1",
   "metadata": {},
   "outputs": [],
   "source": [
    "csv = pd.read_csv(\"FrogCall/Frogs_MFCCs.csv\")\n",
    "csv = csv.drop(columns=['Family', 'Genus','RecordID'])\n",
    "dataread.stringToIntFrogCallDataSet(csv,\"Species\")\n",
    "csv_test = csv.sample(int(csv.shape[0]*0.3))\n",
    "csv_training = csv.drop(csv_test.index,axis = 0)\n"
   ]
  },
  {
   "cell_type": "code",
   "execution_count": 4,
   "id": "5e073e41",
   "metadata": {},
   "outputs": [
    {
     "name": "stdout",
     "output_type": "stream",
     "text": [
      "right_data0_score_W1 1.0 \n",
      "error_data0_score_W3 0.6101231190150479 \n",
      "error_data0_score_W1 0.48153214774281805\n",
      "right_data0_score_W_combnie 0.9375290292614956 \n",
      "Finish one training *********\n",
      "1\n",
      "right_data1_score_W1 1.0 \n",
      "error_data1_score_W3 0.6666666666666666 \n",
      "error_data1_score_W1 0.5754385964912281\n",
      "right_data1_score_W_combnie 0.7668161434977578 \n",
      "Finish one training *********\n",
      "2\n",
      "right_data2_score_W1 1.0 \n",
      "error_data2_score_W3 0.6526315789473685 \n",
      "error_data2_score_W1 0.4631578947368421\n",
      "right_data2_score_W_combnie 0.7842105263157895 \n",
      "Finish one training *********\n",
      "3\n",
      "right_data3_score_W1 1.0 "
     ]
    },
    {
     "name": "stderr",
     "output_type": "stream",
     "text": [
      "C:\\JupyterDoc\\SOM\\optimizeW_CM_MultipleTrainingy_Frog.py:329: VisibleDeprecationWarning: Creating an ndarray from ragged nested sequences (which is a list-or-tuple of lists-or-tuples-or ndarrays with different lengths or shapes) is deprecated. If you meant to do this, you must specify 'dtype=object' when creating the ndarray.\n",
      "  A = np.array(newlist)\n"
     ]
    },
    {
     "name": "stdout",
     "output_type": "stream",
     "text": [
      "\n",
      "error_data3_score_W3 0.7272727272727273 \n",
      "error_data3_score_W1 0.45454545454545453\n",
      "right_data3_score_W_combnie 0.7903225806451613 \n",
      "Finish one training *********\n",
      "4\n",
      "right_data4_score_W1 1.0 \n",
      "error_data4_score_W3 1.0 \n",
      "error_data4_score_W1 0.7777777777777778\n",
      "right_data4_score_W_combnie 0.7916666666666666 \n",
      "Finish one training *********\n",
      "5\n",
      " NO Error Data, Finish Training!\n",
      "all_train_score_W1: [0.8548739328965654]\n",
      "all_train_score_W_combine: [0.8197339686321223]\n",
      "test_score_W1 : [0.8382761816496757]\n",
      "test_score_W_combine: [0.7970342910101946]\n"
     ]
    }
   ],
   "source": [
    "som = newSom.SOM(m= 10, n= 2, dim=22) \n",
    "optimize_W1 = optimizeW_CM_MultipleTrainingy_Frog.OptimizeW(som,csv_training,csv_test,10)\n",
    "optimize_W1.runOptimize()"
   ]
  },
  {
   "cell_type": "code",
   "execution_count": 7,
   "id": "98c8408f",
   "metadata": {},
   "outputs": [
    {
     "name": "stdout",
     "output_type": "stream",
     "text": [
      "neuron unit number: 20\n",
      "*******************\n",
      "\n",
      "right_data0_score_W1 1.0 \n",
      "error_data0_score_W3 0.7055837563451777 \n",
      "error_data0_score_W1 0.5469543147208121\n",
      "right_data0_score_W_combnie 0.9324546952224053 \n",
      "Finish one training *********\n",
      "1\n",
      "right_data1_score_W1 1.0 \n",
      "error_data1_score_W3 0.6681034482758621 \n",
      "error_data1_score_W1 0.6637931034482759\n",
      "right_data1_score_W_combnie 0.9406474820143885 \n",
      "Finish one training *********\n",
      "2\n",
      "right_data2_score_W1 1.0 \n",
      "error_data2_score_W3 0.5974025974025974 \n",
      "error_data2_score_W1 0.45454545454545453\n",
      "right_data2_score_W_combnie 0.7806451612903226 \n",
      "Finish one training *********\n",
      "3\n",
      "right_data3_score_W1 1.0 \n",
      "error_data3_score_W3 0.7741935483870968 \n",
      "error_data3_score_W1 0.5483870967741935\n",
      "right_data3_score_W_combnie 0.7608695652173914 \n",
      "Finish one training *********\n",
      "4\n",
      "right_data4_score_W1 1.0 \n",
      "error_data4_score_W3 1.0 \n",
      "error_data4_score_W1 0.7142857142857143\n",
      "right_data4_score_W_combnie 0.9166666666666666 \n",
      "Finish one training *********\n",
      "5\n",
      " NO Error Data, Finish Training!\n"
     ]
    },
    {
     "name": "stderr",
     "output_type": "stream",
     "text": [
      "C:\\JupyterDoc\\SOM\\optimizeW_CM_MultipleTrainingy_Frog.py:329: VisibleDeprecationWarning: Creating an ndarray from ragged nested sequences (which is a list-or-tuple of lists-or-tuples-or ndarrays with different lengths or shapes) is deprecated. If you meant to do this, you must specify 'dtype=object' when creating the ndarray.\n",
      "  A = np.array(newlist)\n"
     ]
    },
    {
     "name": "stdout",
     "output_type": "stream",
     "text": [
      "all_train_score_W1: [0.8435576732181854]\n",
      "all_train_score_W_combine: [0.8642048838594402]\n",
      "test_score_W1 : [0.8266913809082483]\n",
      "test_score_W_combine: [0.865616311399444]\n",
      "neuron unit number: 50\n",
      "*******************\n",
      "\n",
      "right_data0_score_W1 1.0 \n",
      "error_data0_score_W3 0.7232289950576606 \n",
      "error_data0_score_W1 0.5238879736408567\n",
      "right_data0_score_W_combnie 0.964334085778781 \n",
      "Finish one training *********\n",
      "1\n",
      "right_data1_score_W1 1.0 \n",
      "error_data1_score_W3 0.7261904761904762 \n",
      "error_data1_score_W1 0.47619047619047616\n",
      "right_data1_score_W_combnie 0.7813211845102506 \n",
      "Finish one training *********\n",
      "2\n",
      "right_data2_score_W1 1.0 \n"
     ]
    },
    {
     "name": "stderr",
     "output_type": "stream",
     "text": [
      "C:\\JupyterDoc\\SOM\\optimizeW_CM_MultipleTrainingy_Frog.py:329: VisibleDeprecationWarning: Creating an ndarray from ragged nested sequences (which is a list-or-tuple of lists-or-tuples-or ndarrays with different lengths or shapes) is deprecated. If you meant to do this, you must specify 'dtype=object' when creating the ndarray.\n",
      "  A = np.array(newlist)\n"
     ]
    },
    {
     "name": "stdout",
     "output_type": "stream",
     "text": [
      "error_data2_score_W3 0.8695652173913043 \n",
      "error_data2_score_W1 0.45652173913043476\n",
      "right_data2_score_W_combnie 0.680327868852459 \n",
      "Finish one training *********\n",
      "3\n",
      "right_data3_score_W1 1.0 \n",
      "error_data3_score_W3 1.0 \n",
      "error_data3_score_W1 1.0\n",
      "right_data3_score_W_combnie 0.8 \n",
      "Finish one training *********\n",
      "4\n",
      " NO Error Data, Finish Training!\n",
      "all_train_score_W1: [0.8794917609688306]\n",
      "all_train_score_W_combine: [0.9064919594997022]\n",
      "test_score_W1 : [0.8670064874884152]\n",
      "test_score_W_combine: [0.8911028730305839]\n",
      "neuron unit number: 60\n",
      "*******************\n",
      "\n",
      "right_data0_score_W1 1.0 \n",
      "error_data0_score_W3 0.7827004219409283 \n",
      "error_data0_score_W1 0.44936708860759494\n",
      "right_data0_score_W_combnie 0.9590181897874206 \n",
      "Finish one training *********\n",
      "1\n",
      "right_data1_score_W1 1.0 \n",
      "error_data1_score_W3 0.8058252427184466 \n",
      "error_data1_score_W1 0.4368932038834951\n",
      "right_data1_score_W_combnie 0.8975741239892183 \n",
      "Finish one training *********\n",
      "2\n",
      "right_data2_score_W1 1.0 \n",
      "error_data2_score_W3 1.0 \n",
      "error_data2_score_W1 0.55\n",
      "right_data2_score_W_combnie 0.7831325301204819 \n",
      "Finish one training *********\n",
      "3\n",
      " NO Error Data, Finish Training!\n"
     ]
    },
    {
     "name": "stderr",
     "output_type": "stream",
     "text": [
      "C:\\JupyterDoc\\SOM\\optimizeW_CM_MultipleTrainingy_Frog.py:329: VisibleDeprecationWarning: Creating an ndarray from ragged nested sequences (which is a list-or-tuple of lists-or-tuples-or ndarrays with different lengths or shapes) is deprecated. If you meant to do this, you must specify 'dtype=object' when creating the ndarray.\n",
      "  A = np.array(newlist)\n"
     ]
    },
    {
     "name": "stdout",
     "output_type": "stream",
     "text": [
      "all_train_score_W1: [0.9058963668850506]\n",
      "all_train_score_W_combine: [0.9247567996823506]\n",
      "test_score_W1 : [0.892029657089898]\n",
      "test_score_W_combine: [0.9147358665430955]\n",
      "neuron unit number: 80\n",
      "*******************\n",
      "\n",
      "right_data0_score_W1 1.0 \n",
      "error_data0_score_W3 0.7904040404040404 \n",
      "error_data0_score_W1 0.5151515151515151\n",
      "right_data0_score_W_combnie 0.9644473173884939 \n",
      "Finish one training *********\n",
      "1\n",
      "right_data1_score_W1 1.0 \n",
      "error_data1_score_W3 0.8674698795180723 \n",
      "error_data1_score_W1 0.4457831325301205\n",
      "right_data1_score_W_combnie 0.8370607028753994 \n",
      "Finish one training *********\n",
      "2\n"
     ]
    },
    {
     "name": "stderr",
     "output_type": "stream",
     "text": [
      "C:\\JupyterDoc\\SOM\\optimizeW_CM_MultipleTrainingy_Frog.py:329: VisibleDeprecationWarning: Creating an ndarray from ragged nested sequences (which is a list-or-tuple of lists-or-tuples-or ndarrays with different lengths or shapes) is deprecated. If you meant to do this, you must specify 'dtype=object' when creating the ndarray.\n",
      "  A = np.array(newlist)\n"
     ]
    },
    {
     "name": "stdout",
     "output_type": "stream",
     "text": [
      "right_data2_score_W1 1.0 \n",
      "error_data2_score_W3 1.0 \n",
      "error_data2_score_W1 0.7272727272727273\n",
      "right_data2_score_W_combnie 0.6944444444444444 \n",
      "Finish one training *********\n",
      "3\n",
      " NO Error Data, Finish Training!\n",
      "all_train_score_W1: [0.9213817748659917]\n",
      "all_train_score_W_combine: [0.935080405002978]\n",
      "test_score_W1 : [0.9077849860982391]\n",
      "test_score_W_combine: [0.9147358665430955]\n",
      "neuron unit number: 100\n",
      "*******************\n",
      "\n",
      "right_data0_score_W1 1.0 \n",
      "error_data0_score_W3 0.8402366863905325 \n",
      "error_data0_score_W1 0.5088757396449705\n",
      "right_data0_score_W_combnie 0.9431793998723133 \n",
      "Finish one training *********\n",
      "1\n",
      "right_data1_score_W1 1.0 \n",
      "error_data1_score_W3 0.9629629629629629 \n",
      "error_data1_score_W1 0.4444444444444444\n",
      "right_data1_score_W_combnie 0.8697183098591549 \n",
      "Finish one training *********\n",
      "2\n"
     ]
    },
    {
     "name": "stderr",
     "output_type": "stream",
     "text": [
      "C:\\JupyterDoc\\SOM\\optimizeW_CM_MultipleTrainingy_Frog.py:329: VisibleDeprecationWarning: Creating an ndarray from ragged nested sequences (which is a list-or-tuple of lists-or-tuples-or ndarrays with different lengths or shapes) is deprecated. If you meant to do this, you must specify 'dtype=object' when creating the ndarray.\n",
      "  A = np.array(newlist)\n"
     ]
    },
    {
     "name": "stdout",
     "output_type": "stream",
     "text": [
      "right_data2_score_W1 1.0 \n",
      "error_data2_score_W3 1.0 \n",
      "error_data2_score_W1 1.0\n",
      "right_data2_score_W_combnie 0.8076923076923077 \n",
      "Finish one training *********\n",
      "3\n",
      " NO Error Data, Finish Training!\n",
      "all_train_score_W1: [0.9328965654159221]\n",
      "all_train_score_W_combine: [0.9164185030772285]\n",
      "test_score_W1 : [0.922613531047266]\n",
      "test_score_W_combine: [0.9045412418906394]\n",
      "neuron unit number: 150\n",
      "*******************\n",
      "\n",
      "right_data0_score_W1 1.0 \n",
      "error_data0_score_W3 0.891156462585034 \n",
      "error_data0_score_W1 0.5680272108843537\n",
      "right_data0_score_W_combnie 0.954248366013072 \n",
      "Finish one training *********\n",
      "1\n",
      "right_data1_score_W1 1.0 \n",
      "error_data1_score_W3 0.96875 \n",
      "error_data1_score_W1 0.4375\n"
     ]
    },
    {
     "name": "stderr",
     "output_type": "stream",
     "text": [
      "C:\\JupyterDoc\\SOM\\optimizeW_CM_MultipleTrainingy_Frog.py:329: VisibleDeprecationWarning: Creating an ndarray from ragged nested sequences (which is a list-or-tuple of lists-or-tuples-or ndarrays with different lengths or shapes) is deprecated. If you meant to do this, you must specify 'dtype=object' when creating the ndarray.\n",
      "  A = np.array(newlist)\n"
     ]
    },
    {
     "name": "stdout",
     "output_type": "stream",
     "text": [
      "right_data1_score_W_combnie 0.7175572519083969 \n",
      "Finish one training *********\n",
      "2\n",
      "right_data2_score_W1 1.0 \n",
      "error_data2_score_W3 1.0 \n",
      "error_data2_score_W1 1.0\n",
      "right_data2_score_W_combnie 0.8387096774193549 \n",
      "Finish one training *********\n",
      "3\n",
      " NO Error Data, Finish Training!\n",
      "all_train_score_W1: [0.9416319237641453]\n",
      "all_train_score_W_combine: [0.9197935278935875]\n",
      "test_score_W1 : [0.9346617238183503]\n",
      "test_score_W_combine: [0.9003707136237257]\n",
      "neuron unit number: 200\n",
      "*******************\n",
      "\n",
      "right_data0_score_W1 1.0 \n",
      "error_data0_score_W3 0.8744588744588745 \n",
      "error_data0_score_W1 0.5108225108225108\n",
      "right_data0_score_W_combnie 0.9577611319184353 \n",
      "Finish one training *********\n",
      "1\n",
      "right_data1_score_W1 1.0 \n",
      "error_data1_score_W3 0.9655172413793104 \n",
      "error_data1_score_W1 0.5517241379310345\n"
     ]
    },
    {
     "name": "stderr",
     "output_type": "stream",
     "text": [
      "C:\\JupyterDoc\\SOM\\optimizeW_CM_MultipleTrainingy_Frog.py:329: VisibleDeprecationWarning: Creating an ndarray from ragged nested sequences (which is a list-or-tuple of lists-or-tuples-or ndarrays with different lengths or shapes) is deprecated. If you meant to do this, you must specify 'dtype=object' when creating the ndarray.\n",
      "  A = np.array(newlist)\n"
     ]
    },
    {
     "name": "stdout",
     "output_type": "stream",
     "text": [
      "right_data1_score_W_combnie 0.8366336633663366 \n",
      "Finish one training *********\n",
      "2\n",
      "right_data2_score_W1 1.0 \n",
      "error_data2_score_W3 1.0 \n",
      "error_data2_score_W1 1.0\n",
      "right_data2_score_W_combnie 0.8928571428571429 \n",
      "Finish one training *********\n",
      "3\n",
      " NO Error Data, Finish Training!\n",
      "all_train_score_W1: [0.9541393686718285]\n",
      "all_train_score_W_combine: [0.9253523922970022]\n",
      "test_score_W1 : [0.9416126042632067]\n",
      "test_score_W_combine: [0.9026876737720111]\n",
      "neuron unit number: 250\n",
      "*******************\n",
      "\n",
      "right_data0_score_W1 1.0 \n",
      "error_data0_score_W3 0.8664383561643836 \n",
      "error_data0_score_W1 0.4554794520547945\n",
      "right_data0_score_W_combnie 0.9671232876712329 \n",
      "Finish one training *********\n",
      "1\n",
      "right_data1_score_W1 1.0 \n",
      "error_data1_score_W3 0.9487179487179487 \n",
      "error_data1_score_W1 0.5128205128205128\n"
     ]
    },
    {
     "name": "stderr",
     "output_type": "stream",
     "text": [
      "C:\\JupyterDoc\\SOM\\optimizeW_CM_MultipleTrainingy_Frog.py:329: VisibleDeprecationWarning: Creating an ndarray from ragged nested sequences (which is a list-or-tuple of lists-or-tuples-or ndarrays with different lengths or shapes) is deprecated. If you meant to do this, you must specify 'dtype=object' when creating the ndarray.\n",
      "  A = np.array(newlist)\n"
     ]
    },
    {
     "name": "stdout",
     "output_type": "stream",
     "text": [
      "right_data1_score_W_combnie 0.7747035573122529 \n",
      "Finish one training *********\n",
      "2\n",
      "right_data2_score_W1 1.0 \n",
      "error_data2_score_W3 1.0 \n",
      "error_data2_score_W1 1.0\n",
      "right_data2_score_W_combnie 0.8918918918918919 \n",
      "Finish one training *********\n",
      "3\n",
      " NO Error Data, Finish Training!\n",
      "all_train_score_W1: [0.9420289855072463]\n",
      "all_train_score_W_combine: [0.9378598372046854]\n",
      "test_score_W1 : [0.928174235403151]\n",
      "test_score_W_combine: [0.9151992585727525]\n",
      "neuron unit number: 300\n",
      "*******************\n",
      "\n",
      "right_data0_score_W1 1.0 \n",
      "error_data0_score_W3 0.8540925266903915 \n",
      "error_data0_score_W1 0.4804270462633452\n",
      "right_data0_score_W_combnie 0.9671993271656855 \n",
      "Finish one training *********\n",
      "1\n",
      "right_data1_score_W1 1.0 \n",
      "error_data1_score_W3 0.926829268292683 \n",
      "error_data1_score_W1 0.43902439024390244\n"
     ]
    },
    {
     "name": "stderr",
     "output_type": "stream",
     "text": [
      "C:\\JupyterDoc\\SOM\\optimizeW_CM_MultipleTrainingy_Frog.py:329: VisibleDeprecationWarning: Creating an ndarray from ragged nested sequences (which is a list-or-tuple of lists-or-tuples-or ndarrays with different lengths or shapes) is deprecated. If you meant to do this, you must specify 'dtype=object' when creating the ndarray.\n",
      "  A = np.array(newlist)\n"
     ]
    },
    {
     "name": "stdout",
     "output_type": "stream",
     "text": [
      "right_data1_score_W_combnie 0.8 \n",
      "Finish one training *********\n",
      "2\n",
      "right_data2_score_W1 1.0 \n",
      "error_data2_score_W3 1.0 \n",
      "error_data2_score_W1 0.6666666666666666\n",
      "right_data2_score_W_combnie 0.7105263157894737 \n",
      "Finish one training *********\n",
      "3\n",
      " NO Error Data, Finish Training!\n",
      "all_train_score_W1: [0.9442128250943022]\n",
      "all_train_score_W_combine: [0.9259479849116538]\n",
      "test_score_W1 : [0.933271547729379]\n",
      "test_score_W_combine: [0.9170528266913809]\n",
      "neuron unit number: 400\n",
      "*******************\n",
      "\n",
      "right_data0_score_W1 1.0 \n",
      "error_data0_score_W3 0.8791208791208791 \n",
      "error_data0_score_W1 0.5384615384615384\n",
      "right_data0_score_W_combnie 0.9716624685138538 \n",
      "Finish one training *********\n",
      "1\n",
      "right_data1_score_W1 1.0 \n",
      "error_data1_score_W3 0.9696969696969697 \n"
     ]
    },
    {
     "name": "stderr",
     "output_type": "stream",
     "text": [
      "C:\\JupyterDoc\\SOM\\optimizeW_CM_MultipleTrainingy_Frog.py:329: VisibleDeprecationWarning: Creating an ndarray from ragged nested sequences (which is a list-or-tuple of lists-or-tuples-or ndarrays with different lengths or shapes) is deprecated. If you meant to do this, you must specify 'dtype=object' when creating the ndarray.\n",
      "  A = np.array(newlist)\n"
     ]
    },
    {
     "name": "stdout",
     "output_type": "stream",
     "text": [
      "error_data1_score_W1 0.48484848484848486\n",
      "right_data1_score_W_combnie 0.7541666666666667 \n",
      "Finish one training *********\n",
      "2\n",
      "right_data2_score_W1 1.0 \n",
      "error_data2_score_W3 1.0 \n",
      "error_data2_score_W1 1.0\n",
      "right_data2_score_W_combnie 0.84375 \n",
      "Finish one training *********\n",
      "3\n",
      " NO Error Data, Finish Training!\n",
      "all_train_score_W1: [0.9458010720667064]\n",
      "all_train_score_W_combine: [0.9311097875719675]\n",
      "test_score_W1 : [0.9425393883225208]\n",
      "test_score_W_combine: [0.9050046339202966]\n",
      "neuron unit number: 500\n",
      "*******************\n",
      "\n",
      "right_data0_score_W1 1.0 \n",
      "error_data0_score_W3 0.8544303797468354 \n",
      "error_data0_score_W1 0.5221518987341772\n",
      "right_data0_score_W_combnie 0.9673797924168608 \n",
      "Finish one training *********\n",
      "1\n",
      "right_data1_score_W1 1.0 \n"
     ]
    },
    {
     "name": "stderr",
     "output_type": "stream",
     "text": [
      "C:\\JupyterDoc\\SOM\\optimizeW_CM_MultipleTrainingy_Frog.py:329: VisibleDeprecationWarning: Creating an ndarray from ragged nested sequences (which is a list-or-tuple of lists-or-tuples-or ndarrays with different lengths or shapes) is deprecated. If you meant to do this, you must specify 'dtype=object' when creating the ndarray.\n",
      "  A = np.array(newlist)\n"
     ]
    },
    {
     "name": "stdout",
     "output_type": "stream",
     "text": [
      "error_data1_score_W3 0.9130434782608695 \n",
      "error_data1_score_W1 0.4782608695652174\n",
      "right_data1_score_W_combnie 0.8555555555555555 \n",
      "Finish one training *********\n",
      "2\n",
      "right_data2_score_W1 1.0 \n",
      "error_data2_score_W3 1.0 \n",
      "error_data2_score_W1 0.5\n",
      "right_data2_score_W_combnie 0.8809523809523809 \n",
      "Finish one training *********\n",
      "3\n",
      " NO Error Data, Finish Training!\n",
      "all_train_score_W1: [0.9372642445900338]\n",
      "all_train_score_W_combine: [0.9450069485805043]\n",
      "test_score_W1 : [0.933271547729379]\n",
      "test_score_W_combine: [0.9216867469879518]\n"
     ]
    },
    {
     "data": {
      "image/png": "[encoded data removed]",
      "text/plain": [
       "<Figure size 432x288 with 1 Axes>"
      ]
     },
     "metadata": {
      "needs_background": "light"
     },
     "output_type": "display_data"
    }
   ],
   "source": [
    "max_num = [2,5,6,8,10,15,20,25,30,40,50]\n",
    "unit_list = []\n",
    "for x in max_num:\n",
    "    unit_list.append(10*x)\n",
    "all_train_score_W1 =[]\n",
    "all_train_score_W_combine =[]\n",
    "test_score_W1 = []\n",
    "test_score_W_combine= []\n",
    "\n",
    "for x in max_num:\n",
    "    print(\"neuron unit number: {}\".format(10*x))\n",
    "    print(\"*******************\\n\")\n",
    "    som = newSom.SOM(m= 10, n= x, dim=22) \n",
    "    optimize_W1 = optimizeW_CM_MultipleTrainingy_Frog.OptimizeW(som,csv_training,csv_test,10)\n",
    "    optimize_W1.runOptimize()\n",
    "    all_train_score_W1.append(optimize_W1.all_train_score_W1)\n",
    "    all_train_score_W_combine.append(optimize_W1.all_train_score_W_Combined)\n",
    "    test_score_W1.append(optimize_W1.test_score_W1)\n",
    "    test_score_W_combine.append(optimize_W1.test_score_W_combined)\n",
    "\n",
    "plt.plot(unit_list,all_train_score_W1,'r',label ='all_train_score_W1')\n",
    "plt.plot(unit_list,all_train_score_W_combine,'c',label ='all_train_score_W_combine')\n",
    "plt.plot(unit_list,test_score_W1,'y',label ='test_score_W1')\n",
    "plt.plot(unit_list,test_score_W_combine,'k',label ='test_score_W_combine')\n",
    "plt.legend()\n",
    "plt.show()"
   ]
  },
  {
   "cell_type": "code",
   "execution_count": 11,
   "id": "3d3b1cc8",
   "metadata": {},
   "outputs": [
    {
     "name": "stdout",
     "output_type": "stream",
     "text": [
      "neuron unit number: 10\n",
      "*******************\n",
      "\n",
      "right_data0_score_W1 1.0 \n",
      "error_data0_score_W3 0.6180438448566611 \n",
      "error_data0_score_W1 0.5345699831365935\n",
      "right_data0_score_W_combnie 0.9319657231887821 \n",
      "Finish one training *********\n",
      "1\n",
      "right_data1_score_W1 1.0 \n",
      "error_data1_score_W3 0.5408388520971302 \n",
      "error_data1_score_W1 0.44370860927152317\n",
      "right_data1_score_W_combnie 0.9263301500682128 \n",
      "Finish one training *********\n",
      "2\n",
      "right_data2_score_W1 1.0 \n",
      "error_data2_score_W3 0.6586538461538461 \n",
      "error_data2_score_W1 0.42788461538461536\n",
      "right_data2_score_W_combnie 0.9428571428571428 \n",
      "Finish one training *********\n",
      "3\n"
     ]
    },
    {
     "name": "stderr",
     "output_type": "stream",
     "text": [
      "C:\\JupyterDoc\\SOM\\optimizeW_CM_MultipleTrainingy_Frog.py:329: VisibleDeprecationWarning: Creating an ndarray from ragged nested sequences (which is a list-or-tuple of lists-or-tuples-or ndarrays with different lengths or shapes) is deprecated. If you meant to do this, you must specify 'dtype=object' when creating the ndarray.\n",
      "  A = np.array(newlist)\n"
     ]
    },
    {
     "name": "stdout",
     "output_type": "stream",
     "text": [
      "right_data3_score_W1 1.0 \n",
      "error_data3_score_W3 0.5633802816901409 \n",
      "error_data3_score_W1 0.29577464788732394\n",
      "right_data3_score_W_combnie 0.7518248175182481 \n",
      "Finish one training *********\n",
      "4\n",
      "right_data4_score_W1 1.0 \n",
      "error_data4_score_W3 0.5483870967741935 \n",
      "error_data4_score_W1 0.45161290322580644\n",
      "right_data4_score_W_combnie 0.925 \n",
      "Finish one training *********\n",
      "5\n",
      "right_data5_score_W1 1.0 \n",
      "error_data5_score_W3 0.9285714285714286 \n",
      "error_data5_score_W1 0.5\n",
      "right_data5_score_W_combnie 0.8235294117647058 \n",
      "Finish one training *********\n",
      "6\n",
      "right_data6_score_W1 1.0 \n",
      "error_data6_score_W3 1.0 \n",
      "error_data6_score_W1 1.0\n",
      "right_data6_score_W_combnie 0.8461538461538461 \n",
      "Finish one training *********\n",
      "7\n",
      " NO Error Data, Finish Training!\n",
      "all_train_score_W1: [0.7645423863410761]\n",
      "all_train_score_W_combine: [0.8197339686321223]\n",
      "test_score_W1 : [0.7502316960148285]\n",
      "test_score_W_combine: [0.8030583873957368]\n",
      "neuron unit number: 16\n",
      "*******************\n",
      "\n",
      "right_data0_score_W1 1.0 \n",
      "error_data0_score_W3 0.6785714285714286 \n",
      "error_data0_score_W1 0.5387755102040817\n",
      "right_data0_score_W_combnie 0.927039684495933 \n",
      "Finish one training *********\n",
      "1\n"
     ]
    },
    {
     "name": "stderr",
     "output_type": "stream",
     "text": [
      "C:\\JupyterDoc\\SOM\\optimizeW_CM_MultipleTrainingy_Frog.py:329: VisibleDeprecationWarning: Creating an ndarray from ragged nested sequences (which is a list-or-tuple of lists-or-tuples-or ndarrays with different lengths or shapes) is deprecated. If you meant to do this, you must specify 'dtype=object' when creating the ndarray.\n",
      "  A = np.array(newlist)\n"
     ]
    },
    {
     "name": "stdout",
     "output_type": "stream",
     "text": [
      "right_data1_score_W1 1.0 \n",
      "error_data1_score_W3 0.5619047619047619 \n",
      "error_data1_score_W1 0.43492063492063493\n",
      "right_data1_score_W_combnie 0.7909774436090226 \n",
      "Finish one training *********\n",
      "2\n",
      "right_data2_score_W1 1.0 \n",
      "error_data2_score_W3 0.6594202898550725 \n",
      "error_data2_score_W1 0.5507246376811594\n",
      "right_data2_score_W_combnie 0.6440677966101694 \n",
      "Finish one training *********\n",
      "3\n",
      "right_data3_score_W1 1.0 \n",
      "error_data3_score_W3 0.5531914893617021 \n",
      "error_data3_score_W1 0.425531914893617\n",
      "right_data3_score_W_combnie 0.8791208791208791 \n",
      "Finish one training *********\n",
      "4\n",
      "right_data4_score_W1 1.0 \n",
      "error_data4_score_W3 0.6666666666666666 \n",
      "error_data4_score_W1 0.42857142857142855\n",
      "right_data4_score_W_combnie 0.8076923076923077 \n",
      "Finish one training *********\n",
      "5\n",
      "right_data5_score_W1 1.0 \n",
      "error_data5_score_W3 1.0 \n",
      "error_data5_score_W1 0.8571428571428571\n",
      "right_data5_score_W_combnie 0.6428571428571429 \n",
      "Finish one training *********\n",
      "6\n",
      " NO Error Data, Finish Training!\n",
      "all_train_score_W1: [0.8054397458804844]\n",
      "all_train_score_W_combine: [0.8334325987691086]\n",
      "test_score_W1 : [0.8025949953660797]\n",
      "test_score_W_combine: [0.8137164040778498]\n",
      "neuron unit number: 20\n",
      "*******************\n",
      "\n",
      "right_data0_score_W1 1.0 \n",
      "error_data0_score_W3 0.681877444589309 \n",
      "error_data0_score_W1 0.530638852672751\n",
      "right_data0_score_W_combnie 0.9421545667447306 \n",
      "Finish one training *********\n",
      "1\n",
      "right_data1_score_W1 1.0 \n",
      "error_data1_score_W3 0.6475409836065574 \n",
      "error_data1_score_W1 0.5040983606557377\n",
      "right_data1_score_W_combnie 0.8451242829827916 \n",
      "Finish one training *********\n",
      "2\n",
      "right_data2_score_W1 1.0 \n",
      "error_data2_score_W3 0.627906976744186 \n",
      "error_data2_score_W1 0.4418604651162791\n",
      "right_data2_score_W_combnie 0.7784810126582279 \n",
      "Finish one training *********\n",
      "3\n",
      "right_data3_score_W1 1.0 \n",
      "error_data3_score_W3 0.8125 \n",
      "error_data3_score_W1 0.53125"
     ]
    },
    {
     "name": "stderr",
     "output_type": "stream",
     "text": [
      "C:\\JupyterDoc\\SOM\\optimizeW_CM_MultipleTrainingy_Frog.py:329: VisibleDeprecationWarning: Creating an ndarray from ragged nested sequences (which is a list-or-tuple of lists-or-tuples-or ndarrays with different lengths or shapes) is deprecated. If you meant to do this, you must specify 'dtype=object' when creating the ndarray.\n",
      "  A = np.array(newlist)\n"
     ]
    },
    {
     "name": "stdout",
     "output_type": "stream",
     "text": [
      "\n",
      "right_data3_score_W_combnie 0.7407407407407407 \n",
      "Finish one training *********\n",
      "4\n",
      "right_data4_score_W1 1.0 \n",
      "error_data4_score_W3 1.0 \n",
      "error_data4_score_W1 0.5\n",
      "right_data4_score_W_combnie 0.7692307692307693 \n",
      "Finish one training *********\n",
      "5\n",
      " NO Error Data, Finish Training!\n",
      "all_train_score_W1: [0.8477268215207465]\n",
      "all_train_score_W_combine: [0.8699622791344054]\n",
      "test_score_W1 : [0.8313253012048193]\n",
      "test_score_W_combine: [0.8568118628359592]\n",
      "neuron unit number: 30\n",
      "*******************\n",
      "\n",
      "right_data0_score_W1 1.0 \n",
      "error_data0_score_W3 0.6972477064220184 \n",
      "error_data0_score_W1 0.5076452599388379\n",
      "right_data0_score_W_combnie 0.9593885466575405 \n",
      "Finish one training *********\n",
      "1\n",
      "right_data1_score_W1 1.0 \n",
      "error_data1_score_W3 0.6515151515151515 \n",
      "error_data1_score_W1 0.42424242424242425\n",
      "right_data1_score_W_combnie 0.8179824561403509 \n",
      "Finish one training *********\n",
      "2\n",
      "right_data2_score_W1 1.0 \n",
      "error_data2_score_W3 0.8260869565217391 \n",
      "error_data2_score_W1 0.5072463768115942\n",
      "right_data2_score_W_combnie 0.6976744186046512 \n",
      "Finish one training *********\n",
      "3\n"
     ]
    },
    {
     "name": "stderr",
     "output_type": "stream",
     "text": [
      "C:\\JupyterDoc\\SOM\\optimizeW_CM_MultipleTrainingy_Frog.py:329: VisibleDeprecationWarning: Creating an ndarray from ragged nested sequences (which is a list-or-tuple of lists-or-tuples-or ndarrays with different lengths or shapes) is deprecated. If you meant to do this, you must specify 'dtype=object' when creating the ndarray.\n",
      "  A = np.array(newlist)\n"
     ]
    },
    {
     "name": "stdout",
     "output_type": "stream",
     "text": [
      "right_data3_score_W1 1.0 \n",
      "error_data3_score_W3 1.0 \n",
      "error_data3_score_W1 0.5\n",
      "right_data3_score_W_combnie 0.8771929824561403 \n",
      "Finish one training *********\n",
      "4\n",
      " NO Error Data, Finish Training!\n",
      "all_train_score_W1: [0.8701608100059559]\n",
      "all_train_score_W_combine: [0.9217788366090928]\n",
      "test_score_W1 : [0.8554216867469879]\n",
      "test_score_W_combine: [0.9101019462465245]\n",
      "neuron unit number: 36\n",
      "*******************\n",
      "\n",
      "right_data0_score_W1 1.0 \n",
      "error_data0_score_W3 0.7293729372937293 \n",
      "error_data0_score_W1 0.5775577557755776\n",
      "right_data0_score_W_combnie 0.9650191830286617 \n",
      "Finish one training *********\n",
      "1\n",
      "right_data1_score_W1 1.0 \n",
      "error_data1_score_W3 0.7134146341463414 \n",
      "error_data1_score_W1 0.5426829268292683\n",
      "right_data1_score_W_combnie 0.8642533936651584 \n",
      "Finish one training *********\n",
      "2\n",
      "right_data2_score_W1 1.0 \n",
      "error_data2_score_W3 0.8723404255319149 \n",
      "error_data2_score_W1 0.5106382978723404\n",
      "right_data2_score_W_combnie 0.8376068376068376 \n",
      "Finish one training *********\n",
      "3\n"
     ]
    },
    {
     "name": "stderr",
     "output_type": "stream",
     "text": [
      "C:\\JupyterDoc\\SOM\\optimizeW_CM_MultipleTrainingy_Frog.py:329: VisibleDeprecationWarning: Creating an ndarray from ragged nested sequences (which is a list-or-tuple of lists-or-tuples-or ndarrays with different lengths or shapes) is deprecated. If you meant to do this, you must specify 'dtype=object' when creating the ndarray.\n",
      "  A = np.array(newlist)\n"
     ]
    },
    {
     "name": "stdout",
     "output_type": "stream",
     "text": [
      "right_data3_score_W1 1.0 \n",
      "error_data3_score_W3 1.0 \n",
      "error_data3_score_W1 0.8333333333333334\n",
      "right_data3_score_W_combnie 0.7073170731707317 \n",
      "Finish one training *********\n",
      "4\n",
      " NO Error Data, Finish Training!\n",
      "all_train_score_W1: [0.8796902918403812]\n",
      "all_train_score_W_combine: [0.9088743299583085]\n",
      "test_score_W1 : [0.8665430954587581]\n",
      "test_score_W_combine: [0.8962001853568119]\n",
      "neuron unit number: 40\n",
      "*******************\n",
      "\n",
      "right_data0_score_W1 1.0 \n",
      "error_data0_score_W3 0.8064516129032258 \n",
      "error_data0_score_W1 0.4941348973607038\n",
      "right_data0_score_W_combnie 0.9857634902411022 \n",
      "Finish one training *********\n",
      "1\n",
      "right_data1_score_W1 1.0 \n",
      "error_data1_score_W3 0.7878787878787878 \n",
      "error_data1_score_W1 0.4696969696969697\n",
      "right_data1_score_W_combnie 0.8672727272727273 \n",
      "Finish one training *********\n",
      "2\n",
      "right_data2_score_W1 1.0 \n",
      "error_data2_score_W3 0.7857142857142857 \n",
      "error_data2_score_W1 0.42857142857142855\n",
      "right_data2_score_W_combnie 0.8076923076923077 \n",
      "Finish one training *********\n",
      "3\n"
     ]
    },
    {
     "name": "stderr",
     "output_type": "stream",
     "text": [
      "C:\\JupyterDoc\\SOM\\optimizeW_CM_MultipleTrainingy_Frog.py:329: VisibleDeprecationWarning: Creating an ndarray from ragged nested sequences (which is a list-or-tuple of lists-or-tuples-or ndarrays with different lengths or shapes) is deprecated. If you meant to do this, you must specify 'dtype=object' when creating the ndarray.\n",
      "  A = np.array(newlist)\n"
     ]
    },
    {
     "name": "stdout",
     "output_type": "stream",
     "text": [
      "right_data3_score_W1 1.0 \n",
      "error_data3_score_W3 1.0 \n",
      "error_data3_score_W1 0.5\n",
      "right_data3_score_W_combnie 0.7272727272727273 \n",
      "Finish one training *********\n",
      "4\n",
      " NO Error Data, Finish Training!\n",
      "all_train_score_W1: [0.8646019456025412]\n",
      "all_train_score_W_combine: [0.9378598372046854]\n",
      "test_score_W1 : [0.8582020389249305]\n",
      "test_score_W_combine: [0.9309545875810936]\n",
      "neuron unit number: 46\n",
      "*******************\n",
      "\n",
      "right_data0_score_W1 1.0 \n",
      "error_data0_score_W3 0.7395659432387313 \n",
      "error_data0_score_W1 0.5191986644407346\n",
      "right_data0_score_W_combnie 0.9605678233438486 \n",
      "Finish one training *********\n",
      "1\n",
      "right_data1_score_W1 1.0 \n",
      "error_data1_score_W3 0.7948717948717948 \n",
      "error_data1_score_W1 0.5961538461538461\n",
      "right_data1_score_W_combnie 0.8397291196388262 \n",
      "Finish one training *********\n",
      "2\n",
      "right_data2_score_W1 1.0 \n",
      "error_data2_score_W3 0.90625 \n"
     ]
    },
    {
     "name": "stderr",
     "output_type": "stream",
     "text": [
      "C:\\JupyterDoc\\SOM\\optimizeW_CM_MultipleTrainingy_Frog.py:329: VisibleDeprecationWarning: Creating an ndarray from ragged nested sequences (which is a list-or-tuple of lists-or-tuples-or ndarrays with different lengths or shapes) is deprecated. If you meant to do this, you must specify 'dtype=object' when creating the ndarray.\n",
      "  A = np.array(newlist)\n"
     ]
    },
    {
     "name": "stdout",
     "output_type": "stream",
     "text": [
      "error_data2_score_W1 0.5625\n",
      "right_data2_score_W_combnie 0.6532258064516129 \n",
      "Finish one training *********\n",
      "3\n",
      "right_data3_score_W1 1.0 \n",
      "error_data3_score_W3 1.0 \n",
      "error_data3_score_W1 0.6666666666666666\n",
      "right_data3_score_W_combnie 0.8620689655172413 \n",
      "Finish one training *********\n",
      "4\n",
      " NO Error Data, Finish Training!\n",
      "all_train_score_W1: [0.8810800079412349]\n",
      "all_train_score_W_combine: [0.9324995036728211]\n",
      "test_score_W1 : [0.865616311399444]\n",
      "test_score_W_combine: [0.9170528266913809]\n",
      "neuron unit number: 50\n",
      "*******************\n",
      "\n",
      "right_data0_score_W1 1.0 \n",
      "error_data0_score_W3 0.7386934673366834 \n",
      "error_data0_score_W1 0.4723618090452261\n",
      "right_data0_score_W_combnie 0.9542792792792792 \n",
      "Finish one training *********\n",
      "1\n",
      "right_data1_score_W1 1.0 \n",
      "error_data1_score_W3 0.7307692307692307 \n",
      "error_data1_score_W1 0.44871794871794873\n",
      "right_data1_score_W_combnie 0.8027210884353742 \n",
      "Finish one training *********\n",
      "2\n"
     ]
    },
    {
     "name": "stderr",
     "output_type": "stream",
     "text": [
      "C:\\JupyterDoc\\SOM\\optimizeW_CM_MultipleTrainingy_Frog.py:329: VisibleDeprecationWarning: Creating an ndarray from ragged nested sequences (which is a list-or-tuple of lists-or-tuples-or ndarrays with different lengths or shapes) is deprecated. If you meant to do this, you must specify 'dtype=object' when creating the ndarray.\n",
      "  A = np.array(newlist)\n"
     ]
    },
    {
     "name": "stdout",
     "output_type": "stream",
     "text": [
      "right_data2_score_W1 1.0 \n",
      "error_data2_score_W3 0.8809523809523809 \n",
      "error_data2_score_W1 0.42857142857142855\n",
      "right_data2_score_W_combnie 0.7543859649122807 \n",
      "Finish one training *********\n",
      "3\n",
      "right_data3_score_W1 1.0 \n",
      "error_data3_score_W3 1.0 \n",
      "error_data3_score_W1 1.0\n",
      "right_data3_score_W_combnie 0.7297297297297297 \n",
      "Finish one training *********\n",
      "4\n",
      " NO Error Data, Finish Training!\n",
      "all_train_score_W1: [0.8814770696843359]\n",
      "all_train_score_W_combine: [0.9136390708755211]\n",
      "test_score_W1 : [0.8785912882298424]\n",
      "test_score_W_combine: [0.9059314179796107]\n",
      "neuron unit number: 60\n",
      "*******************\n",
      "\n",
      "right_data0_score_W1 1.0 \n",
      "error_data0_score_W3 0.7441441441441441 \n",
      "error_data0_score_W1 0.4918918918918919\n",
      "right_data0_score_W_combnie 0.9596162427487729 \n",
      "Finish one training *********\n",
      "1\n",
      "right_data1_score_W1 1.0 \n",
      "error_data1_score_W3 0.7887323943661971 \n",
      "error_data1_score_W1 0.4507042253521127\n",
      "right_data1_score_W_combnie 0.7796610169491526 \n",
      "Finish one training *********\n",
      "2\n"
     ]
    },
    {
     "name": "stderr",
     "output_type": "stream",
     "text": [
      "C:\\JupyterDoc\\SOM\\optimizeW_CM_MultipleTrainingy_Frog.py:329: VisibleDeprecationWarning: Creating an ndarray from ragged nested sequences (which is a list-or-tuple of lists-or-tuples-or ndarrays with different lengths or shapes) is deprecated. If you meant to do this, you must specify 'dtype=object' when creating the ndarray.\n",
      "  A = np.array(newlist)\n"
     ]
    },
    {
     "name": "stdout",
     "output_type": "stream",
     "text": [
      "right_data2_score_W1 1.0 \n",
      "error_data2_score_W3 0.9 \n",
      "error_data2_score_W1 0.4666666666666667\n",
      "right_data2_score_W_combnie 0.7053571428571429 \n",
      "Finish one training *********\n",
      "3\n",
      "right_data3_score_W1 1.0 \n",
      "error_data3_score_W3 1.0 \n",
      "error_data3_score_W1 0.6666666666666666\n",
      "right_data3_score_W_combnie 0.7407407407407407 \n",
      "Finish one training *********\n",
      "4\n",
      " NO Error Data, Finish Training!\n",
      "all_train_score_W1: [0.889815366289458]\n",
      "all_train_score_W_combine: [0.9182052809211833]\n",
      "test_score_W1 : [0.8776645041705282]\n",
      "test_score_W_combine: [0.892029657089898]\n",
      "neuron unit number: 70\n",
      "*******************\n",
      "\n",
      "right_data0_score_W1 1.0 \n",
      "error_data0_score_W3 0.7832310838445807 \n",
      "error_data0_score_W1 0.46830265848670755\n",
      "right_data0_score_W_combnie 0.9742744063324539 \n",
      "Finish one training *********\n",
      "1\n",
      "right_data1_score_W1 1.0 \n",
      "error_data1_score_W3 0.6981132075471698 \n",
      "error_data1_score_W1 0.46226415094339623\n"
     ]
    },
    {
     "name": "stderr",
     "output_type": "stream",
     "text": [
      "C:\\JupyterDoc\\SOM\\optimizeW_CM_MultipleTrainingy_Frog.py:329: VisibleDeprecationWarning: Creating an ndarray from ragged nested sequences (which is a list-or-tuple of lists-or-tuples-or ndarrays with different lengths or shapes) is deprecated. If you meant to do this, you must specify 'dtype=object' when creating the ndarray.\n",
      "  A = np.array(newlist)\n"
     ]
    },
    {
     "name": "stdout",
     "output_type": "stream",
     "text": [
      "right_data1_score_W_combnie 0.8407310704960835 \n",
      "Finish one training *********\n",
      "2\n",
      "right_data2_score_W1 1.0 \n",
      "error_data2_score_W3 0.9375 \n",
      "error_data2_score_W1 0.5\n",
      "right_data2_score_W_combnie 0.7567567567567568 \n",
      "Finish one training *********\n",
      "3\n",
      "right_data3_score_W1 1.0 \n",
      "error_data3_score_W3 1.0 \n",
      "error_data3_score_W1 1.0\n",
      "right_data3_score_W_combnie 0.8333333333333334 \n",
      "Finish one training *********\n",
      "4\n",
      " NO Error Data, Finish Training!\n",
      "all_train_score_W1: [0.9029184038117928]\n",
      "all_train_score_W_combine: [0.9487790351399643]\n",
      "test_score_W1 : [0.8887859128822985]\n",
      "test_score_W_combine: [0.9318813716404077]\n",
      "neuron unit number: 80\n",
      "*******************\n",
      "\n",
      "right_data0_score_W1 1.0 \n",
      "error_data0_score_W3 0.7922912205567452 \n",
      "error_data0_score_W1 0.5310492505353319\n",
      "right_data0_score_W_combnie 0.9719912472647703 \n",
      "Finish one training *********\n",
      "1\n",
      "right_data1_score_W1 1.0 \n",
      "error_data1_score_W3 0.8144329896907216 \n",
      "error_data1_score_W1 0.5154639175257731\n"
     ]
    },
    {
     "name": "stderr",
     "output_type": "stream",
     "text": [
      "C:\\JupyterDoc\\SOM\\optimizeW_CM_MultipleTrainingy_Frog.py:329: VisibleDeprecationWarning: Creating an ndarray from ragged nested sequences (which is a list-or-tuple of lists-or-tuples-or ndarrays with different lengths or shapes) is deprecated. If you meant to do this, you must specify 'dtype=object' when creating the ndarray.\n",
      "  A = np.array(newlist)\n"
     ]
    },
    {
     "name": "stdout",
     "output_type": "stream",
     "text": [
      "right_data1_score_W_combnie 0.7810810810810811 \n",
      "Finish one training *********\n",
      "2\n",
      "right_data2_score_W1 1.0 \n",
      "error_data2_score_W3 0.9444444444444444 \n",
      "error_data2_score_W1 0.3888888888888889\n",
      "right_data2_score_W_combnie 0.7088607594936709 \n",
      "Finish one training *********\n",
      "3\n",
      "right_data3_score_W1 1.0 \n",
      "error_data3_score_W3 1.0 \n",
      "error_data3_score_W1 1.0\n",
      "right_data3_score_W_combnie 0.8823529411764706 \n",
      "Finish one training *********\n",
      "4\n",
      " NO Error Data, Finish Training!\n",
      "all_train_score_W1: [0.9072860829859043]\n",
      "all_train_score_W_combine: [0.9416319237641453]\n",
      "test_score_W1 : [0.8924930491195552]\n",
      "test_score_W_combine: [0.9240037071362373]\n",
      "neuron unit number: 100\n",
      "*******************\n",
      "\n",
      "right_data0_score_W1 1.0 \n",
      "error_data0_score_W3 0.8014018691588785 \n",
      "error_data0_score_W1 0.5350467289719626\n",
      "right_data0_score_W_combnie 0.9700585810371013 \n",
      "Finish one training *********\n",
      "1\n",
      "right_data1_score_W1 1.0 \n",
      "error_data1_score_W3 0.8588235294117647 \n",
      "error_data1_score_W1 0.5411764705882353\n"
     ]
    },
    {
     "name": "stderr",
     "output_type": "stream",
     "text": [
      "C:\\JupyterDoc\\SOM\\optimizeW_CM_MultipleTrainingy_Frog.py:329: VisibleDeprecationWarning: Creating an ndarray from ragged nested sequences (which is a list-or-tuple of lists-or-tuples-or ndarrays with different lengths or shapes) is deprecated. If you meant to do this, you must specify 'dtype=object' when creating the ndarray.\n",
      "  A = np.array(newlist)\n"
     ]
    },
    {
     "name": "stdout",
     "output_type": "stream",
     "text": [
      "right_data1_score_W_combnie 0.8309037900874635 \n",
      "Finish one training *********\n",
      "2\n",
      "right_data2_score_W1 1.0 \n",
      "error_data2_score_W3 1.0 \n",
      "error_data2_score_W1 0.5833333333333334\n",
      "right_data2_score_W_combnie 0.7123287671232876 \n",
      "Finish one training *********\n",
      "3\n",
      " NO Error Data, Finish Training!\n",
      "all_train_score_W1: [0.9150287869763748]\n",
      "all_train_score_W_combine: [0.9416319237641453]\n",
      "test_score_W1 : [0.8962001853568119]\n",
      "test_score_W_combine: [0.9318813716404077]\n",
      "neuron unit number: 120\n",
      "*******************\n",
      "\n",
      "right_data0_score_W1 1.0 \n",
      "error_data0_score_W3 0.7942583732057417 \n",
      "error_data0_score_W1 0.44019138755980863\n",
      "right_data0_score_W_combnie 0.9779172981164754 \n",
      "Finish one training *********\n",
      "1\n",
      "right_data1_score_W1 1.0 \n",
      "error_data1_score_W3 0.8488372093023255 \n",
      "error_data1_score_W1 0.46511627906976744\n"
     ]
    },
    {
     "name": "stderr",
     "output_type": "stream",
     "text": [
      "C:\\JupyterDoc\\SOM\\optimizeW_CM_MultipleTrainingy_Frog.py:329: VisibleDeprecationWarning: Creating an ndarray from ragged nested sequences (which is a list-or-tuple of lists-or-tuples-or ndarrays with different lengths or shapes) is deprecated. If you meant to do this, you must specify 'dtype=object' when creating the ndarray.\n",
      "  A = np.array(newlist)\n"
     ]
    },
    {
     "name": "stdout",
     "output_type": "stream",
     "text": [
      "right_data1_score_W_combnie 0.786144578313253 \n",
      "Finish one training *********\n",
      "2\n",
      "right_data2_score_W1 1.0 \n",
      "error_data2_score_W3 1.0 \n",
      "error_data2_score_W1 0.46153846153846156\n",
      "right_data2_score_W_combnie 0.7397260273972602 \n",
      "Finish one training *********\n",
      "3\n",
      " NO Error Data, Finish Training!\n",
      "all_train_score_W1: [0.9170140956918801]\n",
      "all_train_score_W_combine: [0.9515584673416716]\n",
      "test_score_W1 : [0.9050046339202966]\n",
      "test_score_W_combine: [0.9295644114921223]\n",
      "neuron unit number: 160\n",
      "*******************\n",
      "\n",
      "right_data0_score_W1 1.0 \n",
      "error_data0_score_W3 0.7740384615384616 \n",
      "error_data0_score_W1 0.4375\n",
      "right_data0_score_W_combnie 0.9461155594027267 \n",
      "Finish one training *********\n",
      "1\n",
      "right_data1_score_W1 1.0 \n",
      "error_data1_score_W3 0.8085106382978723 \n",
      "error_data1_score_W1 0.46808510638297873\n"
     ]
    },
    {
     "name": "stderr",
     "output_type": "stream",
     "text": [
      "C:\\JupyterDoc\\SOM\\optimizeW_CM_MultipleTrainingy_Frog.py:329: VisibleDeprecationWarning: Creating an ndarray from ragged nested sequences (which is a list-or-tuple of lists-or-tuples-or ndarrays with different lengths or shapes) is deprecated. If you meant to do this, you must specify 'dtype=object' when creating the ndarray.\n",
      "  A = np.array(newlist)\n"
     ]
    },
    {
     "name": "stdout",
     "output_type": "stream",
     "text": [
      "right_data1_score_W_combnie 0.8478260869565217 \n",
      "Finish one training *********\n",
      "2\n",
      "right_data2_score_W1 1.0 \n",
      "error_data2_score_W3 0.9444444444444444 \n",
      "error_data2_score_W1 0.5\n",
      "right_data2_score_W_combnie 0.7763157894736842 \n",
      "Finish one training *********\n",
      "3\n",
      "right_data3_score_W1 1.0 \n",
      "error_data3_score_W3 1.0 \n",
      "error_data3_score_W1 1.0\n",
      "right_data3_score_W_combnie 0.8823529411764706 \n",
      "Finish one training *********\n",
      "4\n",
      " NO Error Data, Finish Training!\n",
      "all_train_score_W1: [0.9174111574349811]\n",
      "all_train_score_W_combine: [0.9189994044073854]\n",
      "test_score_W1 : [0.897126969416126]\n",
      "test_score_W_combine: [0.9114921223354958]\n",
      "neuron unit number: 200\n",
      "*******************\n",
      "\n",
      "right_data0_score_W1 1.0 \n",
      "error_data0_score_W3 0.7920792079207921 \n",
      "error_data0_score_W1 0.5272277227722773\n",
      "right_data0_score_W_combnie 0.945607597668897 \n",
      "Finish one training *********\n",
      "1\n",
      "right_data1_score_W1 1.0 \n",
      "error_data1_score_W3 0.8690476190476191 \n",
      "error_data1_score_W1 0.4166666666666667\n"
     ]
    },
    {
     "name": "stderr",
     "output_type": "stream",
     "text": [
      "C:\\JupyterDoc\\SOM\\optimizeW_CM_MultipleTrainingy_Frog.py:329: VisibleDeprecationWarning: Creating an ndarray from ragged nested sequences (which is a list-or-tuple of lists-or-tuples-or ndarrays with different lengths or shapes) is deprecated. If you meant to do this, you must specify 'dtype=object' when creating the ndarray.\n",
      "  A = np.array(newlist)\n"
     ]
    },
    {
     "name": "stdout",
     "output_type": "stream",
     "text": [
      "right_data1_score_W_combnie 0.7375 \n",
      "Finish one training *********\n",
      "2\n",
      "right_data2_score_W1 1.0 \n",
      "error_data2_score_W3 1.0 \n",
      "error_data2_score_W1 0.6363636363636364\n",
      "right_data2_score_W_combnie 0.6986301369863014 \n",
      "Finish one training *********\n",
      "3\n",
      " NO Error Data, Finish Training!\n",
      "all_train_score_W1: [0.9197935278935875]\n",
      "all_train_score_W_combine: [0.8921977367480644]\n",
      "test_score_W1 : [0.9147358665430955]\n",
      "test_score_W_combine: [0.8758109360518999]\n",
      "neuron unit number: 240\n",
      "*******************\n",
      "\n",
      "right_data0_score_W1 1.0 \n",
      "error_data0_score_W3 0.830423940149626 \n",
      "error_data0_score_W1 0.5211970074812967\n",
      "right_data0_score_W_combnie 0.9667817083692839 \n",
      "Finish one training *********\n",
      "1\n",
      "right_data1_score_W1 1.0 \n",
      "error_data1_score_W3 0.8529411764705882 \n"
     ]
    },
    {
     "name": "stderr",
     "output_type": "stream",
     "text": [
      "C:\\JupyterDoc\\SOM\\optimizeW_CM_MultipleTrainingy_Frog.py:329: VisibleDeprecationWarning: Creating an ndarray from ragged nested sequences (which is a list-or-tuple of lists-or-tuples-or ndarrays with different lengths or shapes) is deprecated. If you meant to do this, you must specify 'dtype=object' when creating the ndarray.\n",
      "  A = np.array(newlist)\n"
     ]
    },
    {
     "name": "stdout",
     "output_type": "stream",
     "text": [
      "error_data1_score_W1 0.4852941176470588\n",
      "right_data1_score_W_combnie 0.8708708708708709 \n",
      "Finish one training *********\n",
      "2\n",
      "right_data2_score_W1 1.0 \n",
      "error_data2_score_W3 1.0 \n",
      "error_data2_score_W1 0.6\n",
      "right_data2_score_W_combnie 0.7758620689655172 \n",
      "Finish one training *********\n",
      "3\n",
      " NO Error Data, Finish Training!\n",
      "all_train_score_W1: [0.9203891205082391]\n",
      "all_train_score_W_combine: [0.9450069485805043]\n",
      "test_score_W1 : [0.906858202038925]\n",
      "test_score_W_combine: [0.9323447636700649]\n",
      "neuron unit number: 300\n",
      "*******************\n",
      "\n",
      "right_data0_score_W1 1.0 \n",
      "error_data0_score_W3 0.7626527050610821 \n",
      "error_data0_score_W1 0.47643979057591623\n",
      "right_data0_score_W_combnie 0.9650537634408602 \n",
      "Finish one training *********\n",
      "1\n",
      "right_data1_score_W1 1.0 \n"
     ]
    },
    {
     "name": "stderr",
     "output_type": "stream",
     "text": [
      "C:\\JupyterDoc\\SOM\\optimizeW_CM_MultipleTrainingy_Frog.py:329: VisibleDeprecationWarning: Creating an ndarray from ragged nested sequences (which is a list-or-tuple of lists-or-tuples-or ndarrays with different lengths or shapes) is deprecated. If you meant to do this, you must specify 'dtype=object' when creating the ndarray.\n",
      "  A = np.array(newlist)\n"
     ]
    },
    {
     "name": "stdout",
     "output_type": "stream",
     "text": [
      "error_data1_score_W3 0.7867647058823529 \n",
      "error_data1_score_W1 0.5588235294117647\n",
      "right_data1_score_W_combnie 0.7940503432494279 \n",
      "Finish one training *********\n",
      "2\n",
      "right_data2_score_W1 1.0 \n",
      "error_data2_score_W3 0.896551724137931 \n",
      "error_data2_score_W1 0.5517241379310345\n",
      "right_data2_score_W_combnie 0.8037383177570093 \n",
      "Finish one training *********\n",
      "3\n",
      "right_data3_score_W1 1.0 \n",
      "error_data3_score_W3 1.0 \n",
      "error_data3_score_W1 1.0\n",
      "right_data3_score_W_combnie 0.6923076923076923 \n",
      "Finish one training *********\n",
      "4\n",
      " NO Error Data, Finish Training!\n",
      "all_train_score_W1: [0.8862418106015485]\n",
      "all_train_score_W_combine: [0.9047051816557474]\n",
      "test_score_W1 : [0.8850787766450418]\n",
      "test_score_W_combine: [0.897126969416126]\n",
      "neuron unit number: 400\n",
      "*******************\n",
      "\n",
      "right_data0_score_W1 1.0 \n",
      "error_data0_score_W3 0.8317972350230415 \n",
      "error_data0_score_W1 0.4608294930875576\n",
      "right_data0_score_W_combnie 0.9572018248968064 \n",
      "Finish one training *********\n",
      "1\n",
      "right_data1_score_W1 1.0 \n"
     ]
    },
    {
     "name": "stderr",
     "output_type": "stream",
     "text": [
      "C:\\JupyterDoc\\SOM\\optimizeW_CM_MultipleTrainingy_Frog.py:329: VisibleDeprecationWarning: Creating an ndarray from ragged nested sequences (which is a list-or-tuple of lists-or-tuples-or ndarrays with different lengths or shapes) is deprecated. If you meant to do this, you must specify 'dtype=object' when creating the ndarray.\n",
      "  A = np.array(newlist)\n"
     ]
    },
    {
     "name": "stdout",
     "output_type": "stream",
     "text": [
      "error_data1_score_W3 0.8082191780821918 \n",
      "error_data1_score_W1 0.410958904109589\n",
      "right_data1_score_W_combnie 0.8033240997229917 \n",
      "Finish one training *********\n",
      "2\n",
      "right_data2_score_W1 1.0 \n",
      "error_data2_score_W3 1.0 \n",
      "error_data2_score_W1 0.5\n",
      "right_data2_score_W_combnie 0.7627118644067796 \n",
      "Finish one training *********\n",
      "3\n",
      " NO Error Data, Finish Training!\n",
      "all_train_score_W1: [0.9138376017470716]\n",
      "all_train_score_W_combine: [0.9041095890410958]\n",
      "test_score_W1 : [0.9059314179796107]\n",
      "test_score_W_combine: [0.8911028730305839]\n"
     ]
    },
    {
     "data": {
      "image/png": "[encoded data removed]",
      "text/plain": [
       "<Figure size 432x288 with 1 Axes>"
      ]
     },
     "metadata": {
      "needs_background": "light"
     },
     "output_type": "display_data"
    }
   ],
   "source": [
    "max_num = [5,8,10,15,18,20,23,25,30,35,40,50,60,80,100,120,150,200]\n",
    "unit_list = []\n",
    "for x in max_num:\n",
    "    unit_list.append(2*x)\n",
    "all_train_score_W1 =[]\n",
    "all_train_score_W_combine =[]\n",
    "test_score_W1 = []\n",
    "test_score_W_combine= []\n",
    "\n",
    "for x in max_num:\n",
    "    print(\"neuron unit number: {}\".format(2*x))\n",
    "    print(\"*******************\\n\")\n",
    "    som = newSom.SOM(m= 2, n= x, dim=22) \n",
    "    optimize_W1 = optimizeW_CM_MultipleTrainingy_Frog.OptimizeW(som,csv_training,csv_test,10)\n",
    "    optimize_W1.runOptimize()\n",
    "    all_train_score_W1.append(optimize_W1.all_train_score_W1)\n",
    "    all_train_score_W_combine.append(optimize_W1.all_train_score_W_Combined)\n",
    "    test_score_W1.append(optimize_W1.test_score_W1)\n",
    "    test_score_W_combine.append(optimize_W1.test_score_W_combined)\n",
    "\n",
    "plt.plot(unit_list,all_train_score_W1,'r',label ='all_train_score_W1')\n",
    "plt.plot(unit_list,all_train_score_W_combine,'c',label ='all_train_score_W_combine')\n",
    "plt.plot(unit_list,test_score_W1,'y',label ='test_score_W1')\n",
    "plt.plot(unit_list,test_score_W_combine,'k',label ='test_score_W_combine')\n",
    "plt.legend()\n",
    "plt.show()"
   ]
  },
  {
   "cell_type": "code",
   "execution_count": 12,
   "id": "4c8d0647",
   "metadata": {},
   "outputs": [
    {
     "name": "stdout",
     "output_type": "stream",
     "text": [
      "neuron unit number: 10\n",
      "*******************\n",
      "\n",
      "right_data0_score_W1 1.0 \n",
      "error_data0_score_W3 0.586756077116513 \n",
      "error_data0_score_W1 0.40486169321039395\n",
      "right_data0_score_W_combnie 0.9685223725286161 \n",
      "Finish one training *********\n",
      "1\n",
      "right_data1_score_W1 1.0 \n",
      "error_data1_score_W3 0.5598377281947262 \n"
     ]
    },
    {
     "name": "stderr",
     "output_type": "stream",
     "text": [
      "C:\\JupyterDoc\\SOM\\optimizeW_CM_MultipleTrainingy_Frog.py:329: VisibleDeprecationWarning: Creating an ndarray from ragged nested sequences (which is a list-or-tuple of lists-or-tuples-or ndarrays with different lengths or shapes) is deprecated. If you meant to do this, you must specify 'dtype=object' when creating the ndarray.\n",
      "  A = np.array(newlist)\n"
     ]
    },
    {
     "name": "stdout",
     "output_type": "stream",
     "text": [
      "error_data1_score_W1 0.3448275862068966\n",
      "right_data1_score_W_combnie 0.9357142857142857 \n",
      "Finish one training *********\n",
      "2\n",
      " Max Training Time !\n",
      "all_train_score_W1: [0.7631526702402224]\n",
      "all_train_score_W_combine: [0.8959698233075243]\n",
      "test_score_W1 : [0.7590361445783133]\n",
      "test_score_W_combine: [0.8873957367933272]\n",
      "neuron unit number: 16\n",
      "*******************\n",
      "\n",
      "right_data0_score_W1 1.0 \n",
      "error_data0_score_W3 0.6384120171673819 \n",
      "error_data0_score_W1 0.4678111587982833\n",
      "right_data0_score_W_combnie 0.9583434835566382 \n",
      "Finish one training *********\n",
      "1\n",
      "right_data1_score_W1 1.0 \n",
      "error_data1_score_W3 0.5667655786350149 \n",
      "error_data1_score_W1 0.4599406528189911\n",
      "right_data1_score_W_combnie 0.7815126050420168 \n",
      "Finish one training *********\n",
      "2\n",
      " Max Training Time !\n"
     ]
    },
    {
     "name": "stderr",
     "output_type": "stream",
     "text": [
      "C:\\JupyterDoc\\SOM\\optimizeW_CM_MultipleTrainingy_Frog.py:329: VisibleDeprecationWarning: Creating an ndarray from ragged nested sequences (which is a list-or-tuple of lists-or-tuples-or ndarrays with different lengths or shapes) is deprecated. If you meant to do this, you must specify 'dtype=object' when creating the ndarray.\n",
      "  A = np.array(newlist)\n"
     ]
    },
    {
     "name": "stdout",
     "output_type": "stream",
     "text": [
      "all_train_score_W1: [0.8149692277149096]\n",
      "all_train_score_W_combine: [0.8244987095493349]\n",
      "test_score_W1 : [0.7970342910101946]\n",
      "test_score_W_combine: [0.8132530120481928]\n",
      "neuron unit number: 20\n",
      "*******************\n",
      "\n",
      "right_data0_score_W1 1.0 \n",
      "error_data0_score_W3 0.6338862559241706 \n",
      "error_data0_score_W1 0.4561611374407583\n",
      "right_data0_score_W_combnie 0.9568328165990937 \n",
      "Finish one training *********\n",
      "1\n",
      "right_data1_score_W1 1.0 \n",
      "error_data1_score_W3 0.6343042071197411 \n",
      "error_data1_score_W1 0.5048543689320388\n",
      "right_data1_score_W_combnie 0.680373831775701 \n",
      "Finish one training *********\n",
      "2\n",
      " Max Training Time !\n"
     ]
    },
    {
     "name": "stderr",
     "output_type": "stream",
     "text": [
      "C:\\JupyterDoc\\SOM\\optimizeW_CM_MultipleTrainingy_Frog.py:329: VisibleDeprecationWarning: Creating an ndarray from ragged nested sequences (which is a list-or-tuple of lists-or-tuples-or ndarrays with different lengths or shapes) is deprecated. If you meant to do this, you must specify 'dtype=object' when creating the ndarray.\n",
      "  A = np.array(newlist)\n"
     ]
    },
    {
     "name": "stdout",
     "output_type": "stream",
     "text": [
      "all_train_score_W1: [0.8324399444113559]\n",
      "all_train_score_W_combine: [0.8701608100059559]\n",
      "test_score_W1 : [0.82483781278962]\n",
      "test_score_W_combine: [0.8697868396663577]\n",
      "neuron unit number: 30\n",
      "*******************\n",
      "\n",
      "right_data0_score_W1 1.0 \n",
      "error_data0_score_W3 0.6512 \n",
      "error_data0_score_W1 0.48\n",
      "right_data0_score_W_combnie 0.9696282864913871 \n",
      "Finish one training *********\n",
      "1\n",
      "right_data1_score_W1 1.0 \n",
      "error_data1_score_W3 0.7477064220183486 \n",
      "error_data1_score_W1 0.4908256880733945\n",
      "right_data1_score_W_combnie 0.7174447174447175 \n",
      "Finish one training *********\n",
      "2\n",
      " Max Training Time !\n"
     ]
    },
    {
     "name": "stderr",
     "output_type": "stream",
     "text": [
      "C:\\JupyterDoc\\SOM\\optimizeW_CM_MultipleTrainingy_Frog.py:329: VisibleDeprecationWarning: Creating an ndarray from ragged nested sequences (which is a list-or-tuple of lists-or-tuples-or ndarrays with different lengths or shapes) is deprecated. If you meant to do this, you must specify 'dtype=object' when creating the ndarray.\n",
      "  A = np.array(newlist)\n"
     ]
    },
    {
     "name": "stdout",
     "output_type": "stream",
     "text": [
      "all_train_score_W1: [0.8759182052809212]\n",
      "all_train_score_W_combine: [0.8991463172523327]\n",
      "test_score_W1 : [0.8739573679332715]\n",
      "test_score_W_combine: [0.8934198331788693]\n",
      "neuron unit number: 36\n",
      "*******************\n",
      "\n",
      "right_data0_score_W1 1.0 \n",
      "error_data0_score_W3 0.7242524916943521 \n",
      "error_data0_score_W1 0.4850498338870432\n",
      "right_data0_score_W_combnie 0.9790304396843292 \n",
      "Finish one training *********\n",
      "1\n",
      "right_data1_score_W1 1.0 \n",
      "error_data1_score_W3 0.7349397590361446 \n",
      "error_data1_score_W1 0.3614457831325301\n",
      "right_data1_score_W_combnie 0.8302752293577982 \n",
      "Finish one training *********\n",
      "2\n",
      " Max Training Time !\n"
     ]
    },
    {
     "name": "stderr",
     "output_type": "stream",
     "text": [
      "C:\\JupyterDoc\\SOM\\optimizeW_CM_MultipleTrainingy_Frog.py:329: VisibleDeprecationWarning: Creating an ndarray from ragged nested sequences (which is a list-or-tuple of lists-or-tuples-or ndarrays with different lengths or shapes) is deprecated. If you meant to do this, you must specify 'dtype=object' when creating the ndarray.\n",
      "  A = np.array(newlist)\n"
     ]
    },
    {
     "name": "stdout",
     "output_type": "stream",
     "text": [
      "all_train_score_W1: [0.8804844153265833]\n",
      "all_train_score_W_combine: [0.9140361326186222]\n",
      "test_score_W1 : [0.8702502316960148]\n",
      "test_score_W_combine: [0.906858202038925]\n",
      "neuron unit number: 40\n",
      "*******************\n",
      "\n",
      "right_data0_score_W1 1.0 \n",
      "error_data0_score_W3 0.8234482758620689 \n",
      "error_data0_score_W1 0.44\n",
      "right_data0_score_W_combnie 0.948051948051948 \n",
      "Finish one training *********\n",
      "1\n",
      "right_data1_score_W1 1.0 \n",
      "error_data1_score_W3 0.7265625 \n",
      "error_data1_score_W1 0.4296875\n",
      "right_data1_score_W_combnie 0.8961474036850922 \n"
     ]
    },
    {
     "name": "stderr",
     "output_type": "stream",
     "text": [
      "C:\\JupyterDoc\\SOM\\optimizeW_CM_MultipleTrainingy_Frog.py:329: VisibleDeprecationWarning: Creating an ndarray from ragged nested sequences (which is a list-or-tuple of lists-or-tuples-or ndarrays with different lengths or shapes) is deprecated. If you meant to do this, you must specify 'dtype=object' when creating the ndarray.\n",
      "  A = np.array(newlist)\n"
     ]
    },
    {
     "name": "stdout",
     "output_type": "stream",
     "text": [
      "Finish one training *********\n",
      "2\n",
      " Max Training Time !\n",
      "all_train_score_W1: [0.8560651181258686]\n",
      "all_train_score_W_combine: [0.9138376017470716]\n",
      "test_score_W1 : [0.8475440222428174]\n",
      "test_score_W_combine: [0.896663577386469]\n",
      "neuron unit number: 46\n",
      "*******************\n",
      "\n",
      "right_data0_score_W1 1.0 \n",
      "error_data0_score_W3 0.789103690685413 \n",
      "error_data0_score_W1 0.4850615114235501\n",
      "right_data0_score_W_combnie 0.9429274843330349 \n",
      "Finish one training *********\n",
      "1\n",
      "right_data1_score_W1 1.0 \n",
      "error_data1_score_W3 0.775 \n",
      "error_data1_score_W1 0.39166666666666666\n",
      "right_data1_score_W_combnie 0.8173719376391982 \n",
      "Finish one training *********\n",
      "2\n",
      " Max Training Time !\n"
     ]
    },
    {
     "name": "stderr",
     "output_type": "stream",
     "text": [
      "C:\\JupyterDoc\\SOM\\optimizeW_CM_MultipleTrainingy_Frog.py:329: VisibleDeprecationWarning: Creating an ndarray from ragged nested sequences (which is a list-or-tuple of lists-or-tuples-or ndarrays with different lengths or shapes) is deprecated. If you meant to do this, you must specify 'dtype=object' when creating the ndarray.\n",
      "  A = np.array(newlist)\n"
     ]
    },
    {
     "name": "stdout",
     "output_type": "stream",
     "text": [
      "all_train_score_W1: [0.8870359340877506]\n",
      "all_train_score_W_combine: [0.9078816756005559]\n",
      "test_score_W1 : [0.8818350324374421]\n",
      "test_score_W_combine: [0.8934198331788693]\n",
      "neuron unit number: 50\n",
      "*******************\n",
      "\n",
      "right_data0_score_W1 1.0 \n",
      "error_data0_score_W3 0.7594654788418709 \n",
      "error_data0_score_W1 0.5701559020044543\n",
      "right_data0_score_W_combnie 0.9533565823888405 \n",
      "Finish one training *********\n",
      "1\n",
      "right_data1_score_W1 1.0 \n",
      "error_data1_score_W3 0.7407407407407407 \n",
      "error_data1_score_W1 0.5092592592592593\n",
      "right_data1_score_W_combnie 0.8181818181818182 \n",
      "Finish one training *********\n",
      "2\n",
      " Max Training Time !\n"
     ]
    },
    {
     "name": "stderr",
     "output_type": "stream",
     "text": [
      "C:\\JupyterDoc\\SOM\\optimizeW_CM_MultipleTrainingy_Frog.py:329: VisibleDeprecationWarning: Creating an ndarray from ragged nested sequences (which is a list-or-tuple of lists-or-tuples-or ndarrays with different lengths or shapes) is deprecated. If you meant to do this, you must specify 'dtype=object' when creating the ndarray.\n",
      "  A = np.array(newlist)\n"
     ]
    },
    {
     "name": "stdout",
     "output_type": "stream",
     "text": [
      "all_train_score_W1: [0.9108596386738138]\n",
      "all_train_score_W_combine: [0.8937859837204686]\n",
      "test_score_W1 : [0.9036144578313253]\n",
      "test_score_W_combine: [0.8901760889712697]\n",
      "neuron unit number: 60\n",
      "*******************\n",
      "\n",
      "right_data0_score_W1 1.0 \n",
      "error_data0_score_W3 0.7547169811320755 \n",
      "error_data0_score_W1 0.4109014675052411\n",
      "right_data0_score_W_combnie 0.9589912280701754 \n",
      "Finish one training *********\n",
      "1\n",
      "right_data1_score_W1 1.0 \n",
      "error_data1_score_W3 0.7777777777777778 \n",
      "error_data1_score_W1 0.47863247863247865\n",
      "right_data1_score_W_combnie 0.8111111111111111 \n",
      "Finish one training *********\n",
      "2\n",
      " Max Training Time !\n"
     ]
    },
    {
     "name": "stderr",
     "output_type": "stream",
     "text": [
      "C:\\JupyterDoc\\SOM\\optimizeW_CM_MultipleTrainingy_Frog.py:329: VisibleDeprecationWarning: Creating an ndarray from ragged nested sequences (which is a list-or-tuple of lists-or-tuples-or ndarrays with different lengths or shapes) is deprecated. If you meant to do this, you must specify 'dtype=object' when creating the ndarray.\n",
      "  A = np.array(newlist)\n"
     ]
    },
    {
     "name": "stdout",
     "output_type": "stream",
     "text": [
      "all_train_score_W1: [0.905300774270399]\n",
      "all_train_score_W_combine: [0.9247567996823506]\n",
      "test_score_W1 : [0.8989805375347544]\n",
      "test_score_W_combine: [0.9082483781278962]\n",
      "neuron unit number: 70\n",
      "*******************\n",
      "\n",
      "right_data0_score_W1 1.0 \n",
      "error_data0_score_W3 0.8552338530066815 \n",
      "error_data0_score_W1 0.4298440979955457\n",
      "right_data0_score_W_combnie 0.9483435047951178 \n",
      "Finish one training *********\n",
      "1\n",
      "right_data1_score_W1 1.0 \n",
      "error_data1_score_W3 0.8923076923076924 \n",
      "error_data1_score_W1 0.4\n",
      "right_data1_score_W_combnie 0.7526041666666666 \n",
      "Finish one training *********\n",
      "2\n",
      " Max Training Time !\n"
     ]
    },
    {
     "name": "stderr",
     "output_type": "stream",
     "text": [
      "C:\\JupyterDoc\\SOM\\optimizeW_CM_MultipleTrainingy_Frog.py:329: VisibleDeprecationWarning: Creating an ndarray from ragged nested sequences (which is a list-or-tuple of lists-or-tuples-or ndarrays with different lengths or shapes) is deprecated. If you meant to do this, you must specify 'dtype=object' when creating the ndarray.\n",
      "  A = np.array(newlist)\n"
     ]
    },
    {
     "name": "stdout",
     "output_type": "stream",
     "text": [
      "all_train_score_W1: [0.9108596386738138]\n",
      "all_train_score_W_combine: [0.9319039110581695]\n",
      "test_score_W1 : [0.9026876737720111]\n",
      "test_score_W_combine: [0.9216867469879518]\n",
      "neuron unit number: 80\n",
      "*******************\n",
      "\n",
      "right_data0_score_W1 1.0 \n",
      "error_data0_score_W3 0.7829787234042553 \n",
      "error_data0_score_W1 0.5468085106382978\n",
      "right_data0_score_W_combnie 0.9264287278300853 \n",
      "Finish one training *********\n",
      "1\n",
      "right_data1_score_W1 1.0 \n",
      "error_data1_score_W3 0.7745098039215687 \n",
      "error_data1_score_W1 0.4215686274509804\n",
      "right_data1_score_W_combnie 0.8913043478260869 \n",
      "Finish one training *********\n",
      "2\n",
      " Max Training Time !\n"
     ]
    },
    {
     "name": "stderr",
     "output_type": "stream",
     "text": [
      "C:\\JupyterDoc\\SOM\\optimizeW_CM_MultipleTrainingy_Frog.py:329: VisibleDeprecationWarning: Creating an ndarray from ragged nested sequences (which is a list-or-tuple of lists-or-tuples-or ndarrays with different lengths or shapes) is deprecated. If you meant to do this, you must specify 'dtype=object' when creating the ndarray.\n",
      "  A = np.array(newlist)\n"
     ]
    },
    {
     "name": "stdout",
     "output_type": "stream",
     "text": [
      "all_train_score_W1: [0.9066904903712527]\n",
      "all_train_score_W_combine: [0.9080802064721064]\n",
      "test_score_W1 : [0.9087117701575533]\n",
      "test_score_W_combine: [0.8985171455050973]\n",
      "neuron unit number: 100\n",
      "*******************\n",
      "\n",
      "right_data0_score_W1 1.0 \n",
      "error_data0_score_W3 0.7663755458515283 \n",
      "error_data0_score_W1 0.4432314410480349\n",
      "right_data0_score_W_combnie 0.9727014632015724 \n",
      "Finish one training *********\n",
      "1\n",
      "right_data1_score_W1 1.0 \n",
      "error_data1_score_W3 0.8037383177570093 \n",
      "error_data1_score_W1 0.48598130841121495\n"
     ]
    },
    {
     "name": "stderr",
     "output_type": "stream",
     "text": [
      "C:\\JupyterDoc\\SOM\\optimizeW_CM_MultipleTrainingy_Frog.py:329: VisibleDeprecationWarning: Creating an ndarray from ragged nested sequences (which is a list-or-tuple of lists-or-tuples-or ndarrays with different lengths or shapes) is deprecated. If you meant to do this, you must specify 'dtype=object' when creating the ndarray.\n",
      "  A = np.array(newlist)\n"
     ]
    },
    {
     "name": "stdout",
     "output_type": "stream",
     "text": [
      "right_data1_score_W_combnie 0.8262108262108262 \n",
      "Finish one training *********\n",
      "2\n",
      " Max Training Time !\n",
      "all_train_score_W1: [0.909072860829859]\n",
      "all_train_score_W_combine: [0.9283303553702601]\n",
      "test_score_W1 : [0.9008341056533827]\n",
      "test_score_W_combine: [0.9202965708989805]\n",
      "neuron unit number: 120\n",
      "*******************\n",
      "\n",
      "right_data0_score_W1 1.0 \n",
      "error_data0_score_W3 0.8302238805970149 \n",
      "error_data0_score_W1 0.44402985074626866\n",
      "right_data0_score_W_combnie 0.9677849366807376 \n",
      "Finish one training *********\n",
      "1\n",
      "right_data1_score_W1 1.0 \n",
      "error_data1_score_W3 0.8241758241758241 \n",
      "error_data1_score_W1 0.3956043956043956\n"
     ]
    },
    {
     "name": "stderr",
     "output_type": "stream",
     "text": [
      "C:\\JupyterDoc\\SOM\\optimizeW_CM_MultipleTrainingy_Frog.py:329: VisibleDeprecationWarning: Creating an ndarray from ragged nested sequences (which is a list-or-tuple of lists-or-tuples-or ndarrays with different lengths or shapes) is deprecated. If you meant to do this, you must specify 'dtype=object' when creating the ndarray.\n",
      "  A = np.array(newlist)\n"
     ]
    },
    {
     "name": "stdout",
     "output_type": "stream",
     "text": [
      "right_data1_score_W_combnie 0.8651685393258427 \n",
      "Finish one training *********\n",
      "2\n",
      " Max Training Time !\n",
      "all_train_score_W1: [0.893587452848918]\n",
      "all_train_score_W_combine: [0.9511614055985705]\n",
      "test_score_W1 : [0.876274328081557]\n",
      "test_score_W_combine: [0.9323447636700649]\n",
      "neuron unit number: 160\n",
      "*******************\n",
      "\n",
      "right_data0_score_W1 1.0 \n",
      "error_data0_score_W3 0.8064516129032258 \n",
      "error_data0_score_W1 0.49731182795698925\n",
      "right_data0_score_W_combnie 0.9579849946409432 \n",
      "Finish one training *********\n",
      "1\n",
      "right_data1_score_W1 1.0 \n",
      "error_data1_score_W3 0.9166666666666666 \n",
      "error_data1_score_W1 0.4166666666666667\n"
     ]
    },
    {
     "name": "stderr",
     "output_type": "stream",
     "text": [
      "C:\\JupyterDoc\\SOM\\optimizeW_CM_MultipleTrainingy_Frog.py:329: VisibleDeprecationWarning: Creating an ndarray from ragged nested sequences (which is a list-or-tuple of lists-or-tuples-or ndarrays with different lengths or shapes) is deprecated. If you meant to do this, you must specify 'dtype=object' when creating the ndarray.\n",
      "  A = np.array(newlist)\n"
     ]
    },
    {
     "name": "stdout",
     "output_type": "stream",
     "text": [
      "right_data1_score_W_combnie 0.8 \n",
      "Finish one training *********\n",
      "2\n",
      " Max Training Time !\n",
      "all_train_score_W1: [0.9261465157832043]\n",
      "all_train_score_W_combine: [0.9400436767917412]\n",
      "test_score_W1 : [0.9170528266913809]\n",
      "test_score_W_combine: [0.9341983317886933]\n",
      "neuron unit number: 200\n",
      "*******************\n",
      "\n",
      "right_data0_score_W1 1.0 \n",
      "error_data0_score_W3 0.8190045248868778 \n",
      "error_data0_score_W1 0.504524886877828\n",
      "right_data0_score_W_combnie 0.9588683351468988 \n",
      "Finish one training *********\n",
      "1\n",
      "right_data1_score_W1 1.0 \n",
      "error_data1_score_W3 0.8625 \n"
     ]
    },
    {
     "name": "stderr",
     "output_type": "stream",
     "text": [
      "C:\\JupyterDoc\\SOM\\optimizeW_CM_MultipleTrainingy_Frog.py:329: VisibleDeprecationWarning: Creating an ndarray from ragged nested sequences (which is a list-or-tuple of lists-or-tuples-or ndarrays with different lengths or shapes) is deprecated. If you meant to do this, you must specify 'dtype=object' when creating the ndarray.\n",
      "  A = np.array(newlist)\n"
     ]
    },
    {
     "name": "stdout",
     "output_type": "stream",
     "text": [
      "error_data1_score_W1 0.475\n",
      "right_data1_score_W_combnie 0.8425414364640884 \n",
      "Finish one training *********\n",
      "2\n",
      " Max Training Time !\n",
      "all_train_score_W1: [0.9122493547746675]\n",
      "all_train_score_W_combine: [0.9295215405995633]\n",
      "test_score_W1 : [0.9105653382761817]\n",
      "test_score_W_combine: [0.9216867469879518]\n",
      "neuron unit number: 240\n",
      "*******************\n",
      "\n",
      "right_data0_score_W1 1.0 \n",
      "error_data0_score_W3 0.7906403940886699 \n",
      "error_data0_score_W1 0.49014778325123154\n",
      "right_data0_score_W_combnie 0.9587562081623839 \n",
      "Finish one training *********\n",
      "1\n",
      "right_data1_score_W1 1.0 \n"
     ]
    },
    {
     "name": "stderr",
     "output_type": "stream",
     "text": [
      "C:\\JupyterDoc\\SOM\\optimizeW_CM_MultipleTrainingy_Frog.py:329: VisibleDeprecationWarning: Creating an ndarray from ragged nested sequences (which is a list-or-tuple of lists-or-tuples-or ndarrays with different lengths or shapes) is deprecated. If you meant to do this, you must specify 'dtype=object' when creating the ndarray.\n",
      "  A = np.array(newlist)\n"
     ]
    },
    {
     "name": "stdout",
     "output_type": "stream",
     "text": [
      "error_data1_score_W3 0.8 \n",
      "error_data1_score_W1 0.4470588235294118\n",
      "right_data1_score_W_combnie 0.7538940809968847 \n",
      "Finish one training *********\n",
      "2\n",
      " Max Training Time !\n",
      "all_train_score_W1: [0.9193964661504864]\n",
      "all_train_score_W_combine: [0.9188008735358348]\n",
      "test_score_W1 : [0.917516218721038]\n",
      "test_score_W_combine: [0.8934198331788693]\n",
      "neuron unit number: 300\n",
      "*******************\n",
      "\n",
      "right_data0_score_W1 1.0 \n",
      "error_data0_score_W3 0.8423529411764706 \n",
      "error_data0_score_W1 0.4611764705882353\n",
      "right_data0_score_W_combnie 0.9555507372072853 \n",
      "Finish one training *********\n",
      "1\n",
      "right_data1_score_W1 1.0 \n"
     ]
    },
    {
     "name": "stderr",
     "output_type": "stream",
     "text": [
      "C:\\JupyterDoc\\SOM\\optimizeW_CM_MultipleTrainingy_Frog.py:329: VisibleDeprecationWarning: Creating an ndarray from ragged nested sequences (which is a list-or-tuple of lists-or-tuples-or ndarrays with different lengths or shapes) is deprecated. If you meant to do this, you must specify 'dtype=object' when creating the ndarray.\n",
      "  A = np.array(newlist)\n"
     ]
    },
    {
     "name": "stdout",
     "output_type": "stream",
     "text": [
      "error_data1_score_W3 0.8805970149253731 \n",
      "error_data1_score_W1 0.3880597014925373\n",
      "right_data1_score_W_combnie 0.7849162011173184 \n",
      "Finish one training *********\n",
      "2\n",
      " Max Training Time !\n",
      "all_train_score_W1: [0.9156243795910264]\n",
      "all_train_score_W_combine: [0.9186023426642843]\n",
      "test_score_W1 : [0.9059314179796107]\n",
      "test_score_W_combine: [0.9012974976830399]\n"
     ]
    },
    {
     "data": {
      "image/png": "[encoded data removed]",
      "text/plain": [
       "<Figure size 432x288 with 1 Axes>"
      ]
     },
     "metadata": {
      "needs_background": "light"
     },
     "output_type": "display_data"
    }
   ],
   "source": [
    "max_num = [5,8,10,15,18,20,23,25,30,35,40,50,60,80,100,120,150]\n",
    "unit_list = []\n",
    "for x in max_num:\n",
    "    unit_list.append(2*x)\n",
    "all_train_score_W1 =[]\n",
    "all_train_score_W_combine =[]\n",
    "test_score_W1 = []\n",
    "test_score_W_combine= []\n",
    "\n",
    "for x in max_num:\n",
    "    print(\"neuron unit number: {}\".format(2*x))\n",
    "    print(\"*******************\\n\")\n",
    "    som = newSom.SOM(m= 2, n= x, dim=22) \n",
    "    optimize_W1 = optimizeW_CM_MultipleTrainingy_Frog.OptimizeW(som,csv_training,csv_test,10)\n",
    "    optimize_W1.runOptimize(2)\n",
    "    all_train_score_W1.append(optimize_W1.all_train_score_W1)\n",
    "    all_train_score_W_combine.append(optimize_W1.all_train_score_W_Combined)\n",
    "    test_score_W1.append(optimize_W1.test_score_W1)\n",
    "    test_score_W_combine.append(optimize_W1.test_score_W_combined)\n",
    "\n",
    "plt.plot(unit_list,all_train_score_W1,'r',label ='all_train_score_W1')\n",
    "plt.plot(unit_list,all_train_score_W_combine,'c',label ='all_train_score_W_combine')\n",
    "plt.plot(unit_list,test_score_W1,'y',label ='test_score_W1')\n",
    "plt.plot(unit_list,test_score_W_combine,'k',label ='test_score_W_combine')\n",
    "plt.legend()\n",
    "plt.show()"
   ]
  },
  {
   "cell_type": "code",
   "execution_count": 13,
   "id": "39bd5468",
   "metadata": {},
   "outputs": [
    {
     "name": "stdout",
     "output_type": "stream",
     "text": [
      "neuron unit number: 10\n",
      "*******************\n",
      "\n",
      "right_data0_score_W1 1.0 \n",
      "error_data0_score_W3 0.6051324503311258 \n",
      "error_data0_score_W1 0.38658940397350994\n",
      "right_data0_score_W_combnie 0.9642204230869679 \n",
      "Finish one training *********\n",
      "1\n",
      "right_data1_score_W1 1.0 \n",
      "error_data1_score_W3 0.5870020964360587 \n",
      "error_data1_score_W1 0.480083857442348\n",
      "right_data1_score_W_combnie 0.811217510259918 \n",
      "Finish one training *********\n",
      "2\n",
      "right_data2_score_W1 1.0 \n",
      "error_data2_score_W3 0.5685279187817259 \n",
      "error_data2_score_W1 0.47715736040609136\n",
      "right_data2_score_W_combnie 0.7571428571428571 \n",
      "Finish one training *********\n",
      "3\n",
      " Max Training Time !\n"
     ]
    },
    {
     "name": "stderr",
     "output_type": "stream",
     "text": [
      "C:\\JupyterDoc\\SOM\\optimizeW_CM_MultipleTrainingy_Frog.py:329: VisibleDeprecationWarning: Creating an ndarray from ragged nested sequences (which is a list-or-tuple of lists-or-tuples-or ndarrays with different lengths or shapes) is deprecated. If you meant to do this, you must specify 'dtype=object' when creating the ndarray.\n",
      "  A = np.array(newlist)\n"
     ]
    },
    {
     "name": "stdout",
     "output_type": "stream",
     "text": [
      "all_train_score_W1: [0.7601747071669644]\n",
      "all_train_score_W_combine: [0.8582489577129243]\n",
      "test_score_W1 : [0.7557924003707136]\n",
      "test_score_W_combine: [0.8433734939759037]\n",
      "neuron unit number: 16\n",
      "*******************\n",
      "\n",
      "right_data0_score_W1 1.0 \n",
      "error_data0_score_W3 0.574398249452954 \n",
      "error_data0_score_W1 0.43544857768052514\n",
      "right_data0_score_W_combnie 0.9582828037836527 \n",
      "Finish one training *********\n",
      "1\n",
      "right_data1_score_W1 1.0 \n",
      "error_data1_score_W3 0.5295629820051414 \n",
      "error_data1_score_W1 0.4241645244215938\n",
      "right_data1_score_W_combnie 0.84 \n",
      "Finish one training *********\n",
      "2\n",
      "right_data2_score_W1 1.0 \n",
      "error_data2_score_W3 0.639344262295082 \n",
      "error_data2_score_W1 0.40437158469945356\n",
      "right_data2_score_W_combnie 0.7087378640776699 \n",
      "Finish one training *********\n",
      "3\n",
      " Max Training Time !\n"
     ]
    },
    {
     "name": "stderr",
     "output_type": "stream",
     "text": [
      "C:\\JupyterDoc\\SOM\\optimizeW_CM_MultipleTrainingy_Frog.py:329: VisibleDeprecationWarning: Creating an ndarray from ragged nested sequences (which is a list-or-tuple of lists-or-tuples-or ndarrays with different lengths or shapes) is deprecated. If you meant to do this, you must specify 'dtype=object' when creating the ndarray.\n",
      "  A = np.array(newlist)\n"
     ]
    },
    {
     "name": "stdout",
     "output_type": "stream",
     "text": [
      "all_train_score_W1: [0.8185427834028192]\n",
      "all_train_score_W_combine: [0.8368076235854676]\n",
      "test_score_W1 : [0.7905468025949953]\n",
      "test_score_W_combine: [0.830398517145505]\n",
      "neuron unit number: 20\n",
      "*******************\n",
      "\n",
      "right_data0_score_W1 1.0 \n",
      "error_data0_score_W3 0.7271407837445574 \n",
      "error_data0_score_W1 0.5239477503628447\n",
      "right_data0_score_W_combnie 0.9280128794848206 \n",
      "Finish one training *********\n",
      "1\n",
      "right_data1_score_W1 1.0 \n",
      "error_data1_score_W3 0.675531914893617 \n",
      "error_data1_score_W1 0.4148936170212766\n",
      "right_data1_score_W_combnie 0.8383233532934131 \n",
      "Finish one training *********\n",
      "2\n",
      "right_data2_score_W1 1.0 \n",
      "error_data2_score_W3 0.6065573770491803 \n",
      "error_data2_score_W1 0.4262295081967213\n",
      "right_data2_score_W_combnie 0.7795275590551181 \n",
      "Finish one training *********\n",
      "3\n",
      " Max Training Time !\n"
     ]
    },
    {
     "name": "stderr",
     "output_type": "stream",
     "text": [
      "C:\\JupyterDoc\\SOM\\optimizeW_CM_MultipleTrainingy_Frog.py:329: VisibleDeprecationWarning: Creating an ndarray from ragged nested sequences (which is a list-or-tuple of lists-or-tuples-or ndarrays with different lengths or shapes) is deprecated. If you meant to do this, you must specify 'dtype=object' when creating the ndarray.\n",
      "  A = np.array(newlist)\n"
     ]
    },
    {
     "name": "stdout",
     "output_type": "stream",
     "text": [
      "all_train_score_W1: [0.8632122295016875]\n",
      "all_train_score_W_combine: [0.8143736351002581]\n",
      "test_score_W1 : [0.8498609823911029]\n",
      "test_score_W_combine: [0.8100092678405931]\n",
      "neuron unit number: 30\n",
      "*******************\n",
      "\n",
      "right_data0_score_W1 1.0 \n",
      "error_data0_score_W3 0.8104395604395604 \n",
      "error_data0_score_W1 0.5576923076923077\n",
      "right_data0_score_W_combnie 0.9675098630772802 \n",
      "Finish one training *********\n",
      "1\n",
      "right_data1_score_W1 1.0 \n",
      "error_data1_score_W3 0.6811594202898551 \n",
      "error_data1_score_W1 0.42028985507246375\n",
      "right_data1_score_W_combnie 0.8322033898305085 \n",
      "Finish one training *********\n",
      "2\n",
      "right_data2_score_W1 1.0 \n",
      "error_data2_score_W3 0.8409090909090909 \n",
      "error_data2_score_W1 0.4772727272727273\n",
      "right_data2_score_W_combnie 0.7446808510638298 \n",
      "Finish one training *********\n",
      "3\n",
      " Max Training Time !\n"
     ]
    },
    {
     "name": "stderr",
     "output_type": "stream",
     "text": [
      "C:\\JupyterDoc\\SOM\\optimizeW_CM_MultipleTrainingy_Frog.py:329: VisibleDeprecationWarning: Creating an ndarray from ragged nested sequences (which is a list-or-tuple of lists-or-tuples-or ndarrays with different lengths or shapes) is deprecated. If you meant to do this, you must specify 'dtype=object' when creating the ndarray.\n",
      "  A = np.array(newlist)\n"
     ]
    },
    {
     "name": "stdout",
     "output_type": "stream",
     "text": [
      "all_train_score_W1: [0.855469525511217]\n",
      "all_train_score_W_combine: [0.8644034147309907]\n",
      "test_score_W1 : [0.8535681186283596]\n",
      "test_score_W_combine: [0.8544949026876738]\n",
      "neuron unit number: 36\n",
      "*******************\n",
      "\n",
      "right_data0_score_W1 1.0 \n",
      "error_data0_score_W3 0.7339312406576981 \n",
      "error_data0_score_W1 0.5276532137518685\n",
      "right_data0_score_W_combnie 0.959478021978022 \n",
      "Finish one training *********\n",
      "1\n",
      "right_data1_score_W1 1.0 \n",
      "error_data1_score_W3 0.651685393258427 \n",
      "error_data1_score_W1 0.46629213483146065\n",
      "right_data1_score_W_combnie 0.9144602851323829 \n",
      "Finish one training *********\n",
      "2\n",
      "right_data2_score_W1 1.0 \n",
      "error_data2_score_W3 0.7580645161290323 \n"
     ]
    },
    {
     "name": "stderr",
     "output_type": "stream",
     "text": [
      "C:\\JupyterDoc\\SOM\\optimizeW_CM_MultipleTrainingy_Frog.py:329: VisibleDeprecationWarning: Creating an ndarray from ragged nested sequences (which is a list-or-tuple of lists-or-tuples-or ndarrays with different lengths or shapes) is deprecated. If you meant to do this, you must specify 'dtype=object' when creating the ndarray.\n",
      "  A = np.array(newlist)\n"
     ]
    },
    {
     "name": "stdout",
     "output_type": "stream",
     "text": [
      "error_data2_score_W1 0.41935483870967744\n",
      "right_data2_score_W_combnie 0.75 \n",
      "Finish one training *********\n",
      "3\n",
      " Max Training Time !\n",
      "all_train_score_W1: [0.867182846932698]\n",
      "all_train_score_W_combine: [0.9164185030772285]\n",
      "test_score_W1 : [0.8563484708063022]\n",
      "test_score_W_combine: [0.9036144578313253]\n",
      "neuron unit number: 40\n",
      "*******************\n",
      "\n",
      "right_data0_score_W1 1.0 \n",
      "error_data0_score_W3 0.748546511627907 \n",
      "error_data0_score_W1 0.5436046511627907\n",
      "right_data0_score_W_combnie 0.9721775120717406 \n",
      "Finish one training *********\n",
      "1\n",
      "right_data1_score_W1 1.0 \n",
      "error_data1_score_W3 0.7225433526011561 \n",
      "error_data1_score_W1 0.48554913294797686\n",
      "right_data1_score_W_combnie 0.7300970873786408 \n",
      "Finish one training *********\n",
      "2\n"
     ]
    },
    {
     "name": "stderr",
     "output_type": "stream",
     "text": [
      "C:\\JupyterDoc\\SOM\\optimizeW_CM_MultipleTrainingy_Frog.py:329: VisibleDeprecationWarning: Creating an ndarray from ragged nested sequences (which is a list-or-tuple of lists-or-tuples-or ndarrays with different lengths or shapes) is deprecated. If you meant to do this, you must specify 'dtype=object' when creating the ndarray.\n",
      "  A = np.array(newlist)\n"
     ]
    },
    {
     "name": "stdout",
     "output_type": "stream",
     "text": [
      "right_data2_score_W1 1.0 \n",
      "error_data2_score_W3 0.875 \n",
      "error_data2_score_W1 0.5208333333333334\n",
      "right_data2_score_W_combnie 0.712 \n",
      "Finish one training *********\n",
      "3\n",
      " Max Training Time !\n",
      "all_train_score_W1: [0.863410760373238]\n",
      "all_train_score_W_combine: [0.9039110581695453]\n",
      "test_score_W1 : [0.8540315106580166]\n",
      "test_score_W_combine: [0.8883225208526413]\n",
      "neuron unit number: 46\n",
      "*******************\n",
      "\n",
      "right_data0_score_W1 1.0 \n",
      "error_data0_score_W3 0.7897350993377483 \n",
      "error_data0_score_W1 0.35596026490066224\n",
      "right_data0_score_W_combnie 0.9855628242725016 \n",
      "Finish one training *********\n",
      "1\n",
      "right_data1_score_W1 1.0 \n",
      "error_data1_score_W3 0.7716535433070866 \n",
      "error_data1_score_W1 0.4566929133858268\n",
      "right_data1_score_W_combnie 0.8427672955974843 \n",
      "Finish one training *********\n",
      "2\n",
      "right_data2_score_W1 1.0 \n",
      "error_data2_score_W3 0.8620689655172413 \n"
     ]
    },
    {
     "name": "stderr",
     "output_type": "stream",
     "text": [
      "C:\\JupyterDoc\\SOM\\optimizeW_CM_MultipleTrainingy_Frog.py:329: VisibleDeprecationWarning: Creating an ndarray from ragged nested sequences (which is a list-or-tuple of lists-or-tuples-or ndarrays with different lengths or shapes) is deprecated. If you meant to do this, you must specify 'dtype=object' when creating the ndarray.\n",
      "  A = np.array(newlist)\n"
     ]
    },
    {
     "name": "stdout",
     "output_type": "stream",
     "text": [
      "error_data2_score_W1 0.5172413793103449\n",
      "right_data2_score_W_combnie 0.8367346938775511 \n",
      "Finish one training *********\n",
      "3\n",
      " Max Training Time !\n",
      "all_train_score_W1: [0.8800873535834822]\n",
      "all_train_score_W_combine: [0.9072860829859043]\n",
      "test_score_W1 : [0.871177015755329]\n",
      "test_score_W_combine: [0.8985171455050973]\n",
      "neuron unit number: 50\n",
      "*******************\n",
      "\n",
      "right_data0_score_W1 1.0 \n",
      "error_data0_score_W3 0.7423167848699763 \n",
      "error_data0_score_W1 0.508274231678487\n",
      "right_data0_score_W_combnie 0.9516688339835284 \n",
      "Finish one training *********\n",
      "1\n",
      "right_data1_score_W1 1.0 \n",
      "error_data1_score_W3 0.7798165137614679 \n",
      "error_data1_score_W1 0.45871559633027525\n",
      "right_data1_score_W_combnie 0.8057324840764332 \n",
      "Finish one training *********\n",
      "2\n",
      "right_data2_score_W1 1.0 \n",
      "error_data2_score_W3 0.8333333333333334 \n",
      "error_data2_score_W1 0.625\n",
      "right_data2_score_W_combnie 0.7176470588235294 \n",
      "Finish one training *********\n",
      "3\n",
      " Max Training Time !\n"
     ]
    },
    {
     "name": "stderr",
     "output_type": "stream",
     "text": [
      "C:\\JupyterDoc\\SOM\\optimizeW_CM_MultipleTrainingy_Frog.py:329: VisibleDeprecationWarning: Creating an ndarray from ragged nested sequences (which is a list-or-tuple of lists-or-tuples-or ndarrays with different lengths or shapes) is deprecated. If you meant to do this, you must specify 'dtype=object' when creating the ndarray.\n",
      "  A = np.array(newlist)\n"
     ]
    },
    {
     "name": "stdout",
     "output_type": "stream",
     "text": [
      "all_train_score_W1: [0.9160214413341274]\n",
      "all_train_score_W_combine: [0.9247567996823506]\n",
      "test_score_W1 : [0.9119555143651529]\n",
      "test_score_W_combine: [0.9128822984244671]\n",
      "neuron unit number: 60\n",
      "*******************\n",
      "\n",
      "right_data0_score_W1 1.0 \n",
      "error_data0_score_W3 0.8208661417322834 \n",
      "error_data0_score_W1 0.6200787401574803\n",
      "right_data0_score_W_combnie 0.9701920953852947 \n",
      "Finish one training *********\n",
      "1\n",
      "right_data1_score_W1 1.0 \n",
      "error_data1_score_W3 0.7912087912087912 \n",
      "error_data1_score_W1 0.4065934065934066\n",
      "right_data1_score_W_combnie 0.8896882494004796 \n",
      "Finish one training *********\n",
      "2\n"
     ]
    },
    {
     "name": "stderr",
     "output_type": "stream",
     "text": [
      "C:\\JupyterDoc\\SOM\\optimizeW_CM_MultipleTrainingy_Frog.py:329: VisibleDeprecationWarning: Creating an ndarray from ragged nested sequences (which is a list-or-tuple of lists-or-tuples-or ndarrays with different lengths or shapes) is deprecated. If you meant to do this, you must specify 'dtype=object' when creating the ndarray.\n",
      "  A = np.array(newlist)\n"
     ]
    },
    {
     "name": "stdout",
     "output_type": "stream",
     "text": [
      "right_data2_score_W1 1.0 \n",
      "error_data2_score_W3 0.8421052631578947 \n",
      "error_data2_score_W1 0.5263157894736842\n",
      "right_data2_score_W_combnie 0.7083333333333334 \n",
      "Finish one training *********\n",
      "3\n",
      " Max Training Time !\n",
      "all_train_score_W1: [0.8991463172523327]\n",
      "all_train_score_W_combine: [0.9452054794520548]\n",
      "test_score_W1 : [0.8897126969416126]\n",
      "test_score_W_combine: [0.9323447636700649]\n",
      "neuron unit number: 70\n",
      "*******************\n",
      "\n",
      "right_data0_score_W1 1.0 \n",
      "error_data0_score_W3 0.7757936507936508 \n",
      "error_data0_score_W1 0.47023809523809523\n",
      "right_data0_score_W_combnie 0.9485991617030664 \n",
      "Finish one training *********\n",
      "1\n",
      "right_data1_score_W1 1.0 \n",
      "error_data1_score_W3 0.7699115044247787 \n",
      "error_data1_score_W1 0.415929203539823\n",
      "right_data1_score_W_combnie 0.8465473145780051 \n",
      "Finish one training *********\n",
      "2\n"
     ]
    },
    {
     "name": "stderr",
     "output_type": "stream",
     "text": [
      "C:\\JupyterDoc\\SOM\\optimizeW_CM_MultipleTrainingy_Frog.py:329: VisibleDeprecationWarning: Creating an ndarray from ragged nested sequences (which is a list-or-tuple of lists-or-tuples-or ndarrays with different lengths or shapes) is deprecated. If you meant to do this, you must specify 'dtype=object' when creating the ndarray.\n",
      "  A = np.array(newlist)\n"
     ]
    },
    {
     "name": "stdout",
     "output_type": "stream",
     "text": [
      "right_data2_score_W1 1.0 \n",
      "error_data2_score_W3 0.9615384615384616 \n",
      "error_data2_score_W1 0.5\n",
      "right_data2_score_W_combnie 0.6551724137931034 \n",
      "Finish one training *********\n",
      "3\n",
      " Max Training Time !\n",
      "all_train_score_W1: [0.8999404407385349]\n",
      "all_train_score_W_combine: [0.93210244192972]\n",
      "test_score_W1 : [0.8948100092678406]\n",
      "test_score_W_combine: [0.9101019462465245]\n",
      "neuron unit number: 80\n",
      "*******************\n",
      "\n",
      "right_data0_score_W1 1.0 \n",
      "error_data0_score_W3 0.7935656836461126 \n",
      "error_data0_score_W1 0.49865951742627346\n",
      "right_data0_score_W_combnie 0.9504716981132075 \n",
      "Finish one training *********\n",
      "1\n",
      "right_data1_score_W1 1.0 \n",
      "error_data1_score_W3 0.8311688311688312 \n",
      "error_data1_score_W1 0.38961038961038963\n",
      "right_data1_score_W_combnie 0.8040540540540541 \n",
      "Finish one training *********\n",
      "2\n",
      "right_data2_score_W1 1.0 \n"
     ]
    },
    {
     "name": "stderr",
     "output_type": "stream",
     "text": [
      "C:\\JupyterDoc\\SOM\\optimizeW_CM_MultipleTrainingy_Frog.py:329: VisibleDeprecationWarning: Creating an ndarray from ragged nested sequences (which is a list-or-tuple of lists-or-tuples-or ndarrays with different lengths or shapes) is deprecated. If you meant to do this, you must specify 'dtype=object' when creating the ndarray.\n",
      "  A = np.array(newlist)\n"
     ]
    },
    {
     "name": "stdout",
     "output_type": "stream",
     "text": [
      "error_data2_score_W3 1.0 \n",
      "error_data2_score_W1 0.5384615384615384\n",
      "right_data2_score_W_combnie 0.75 \n",
      "Finish one training *********\n",
      "3\n",
      " NO Error Data, Finish Training!\n",
      "all_train_score_W1: [0.9259479849116538]\n",
      "all_train_score_W_combine: [0.9235656144530474]\n",
      "test_score_W1 : [0.9240037071362373]\n",
      "test_score_W_combine: [0.9063948100092678]\n",
      "neuron unit number: 100\n",
      "*******************\n",
      "\n",
      "right_data0_score_W1 1.0 \n",
      "error_data0_score_W3 0.8 \n",
      "error_data0_score_W1 0.485\n",
      "right_data0_score_W_combnie 0.966788872115592 \n",
      "Finish one training *********\n",
      "1\n",
      "right_data1_score_W1 1.0 \n",
      "error_data1_score_W3 0.9125 \n",
      "error_data1_score_W1 0.475\n"
     ]
    },
    {
     "name": "stderr",
     "output_type": "stream",
     "text": [
      "C:\\JupyterDoc\\SOM\\optimizeW_CM_MultipleTrainingy_Frog.py:329: VisibleDeprecationWarning: Creating an ndarray from ragged nested sequences (which is a list-or-tuple of lists-or-tuples-or ndarrays with different lengths or shapes) is deprecated. If you meant to do this, you must specify 'dtype=object' when creating the ndarray.\n",
      "  A = np.array(newlist)\n"
     ]
    },
    {
     "name": "stdout",
     "output_type": "stream",
     "text": [
      "right_data1_score_W_combnie 0.8 \n",
      "Finish one training *********\n",
      "2\n",
      "right_data2_score_W1 1.0 \n",
      "error_data2_score_W3 1.0 \n",
      "error_data2_score_W1 0.7142857142857143\n",
      "right_data2_score_W_combnie 0.7808219178082192 \n",
      "Finish one training *********\n",
      "3\n",
      " NO Error Data, Finish Training!\n",
      "all_train_score_W1: [0.9205876513797896]\n",
      "all_train_score_W_combine: [0.9301171332142149]\n",
      "test_score_W1 : [0.9133456904541242]\n",
      "test_score_W_combine: [0.9184430027803522]\n",
      "neuron unit number: 120\n",
      "*******************\n",
      "\n",
      "right_data0_score_W1 1.0 \n",
      "error_data0_score_W3 0.8333333333333334 \n",
      "error_data0_score_W1 0.6056338028169014\n",
      "right_data0_score_W_combnie 0.9399262632834526 \n",
      "Finish one training *********\n",
      "1\n",
      "right_data1_score_W1 1.0 \n",
      "error_data1_score_W3 0.8873239436619719 \n",
      "error_data1_score_W1 0.4225352112676056\n"
     ]
    },
    {
     "name": "stderr",
     "output_type": "stream",
     "text": [
      "C:\\JupyterDoc\\SOM\\optimizeW_CM_MultipleTrainingy_Frog.py:329: VisibleDeprecationWarning: Creating an ndarray from ragged nested sequences (which is a list-or-tuple of lists-or-tuples-or ndarrays with different lengths or shapes) is deprecated. If you meant to do this, you must specify 'dtype=object' when creating the ndarray.\n",
      "  A = np.array(newlist)\n"
     ]
    },
    {
     "name": "stdout",
     "output_type": "stream",
     "text": [
      "right_data1_score_W_combnie 0.828169014084507 \n",
      "Finish one training *********\n",
      "2\n",
      "right_data2_score_W1 1.0 \n",
      "error_data2_score_W3 0.875 \n",
      "error_data2_score_W1 0.625\n",
      "right_data2_score_W_combnie 0.7142857142857143 \n",
      "Finish one training *********\n",
      "3\n",
      " Max Training Time !\n",
      "all_train_score_W1: [0.9154258487194759]\n",
      "all_train_score_W_combine: [0.9080802064721064]\n",
      "test_score_W1 : [0.9091751621872104]\n",
      "test_score_W_combine: [0.8952734012974977]\n",
      "neuron unit number: 160\n",
      "*******************\n",
      "\n",
      "right_data0_score_W1 1.0 \n",
      "error_data0_score_W3 0.7420814479638009 \n",
      "error_data0_score_W1 0.47058823529411764\n",
      "right_data0_score_W_combnie 0.9590859630032644 \n",
      "Finish one training *********\n",
      "1\n",
      "right_data1_score_W1 1.0 \n",
      "error_data1_score_W3 0.8421052631578947 \n",
      "error_data1_score_W1 0.4824561403508772\n"
     ]
    },
    {
     "name": "stderr",
     "output_type": "stream",
     "text": [
      "C:\\JupyterDoc\\SOM\\optimizeW_CM_MultipleTrainingy_Frog.py:329: VisibleDeprecationWarning: Creating an ndarray from ragged nested sequences (which is a list-or-tuple of lists-or-tuples-or ndarrays with different lengths or shapes) is deprecated. If you meant to do this, you must specify 'dtype=object' when creating the ndarray.\n",
      "  A = np.array(newlist)\n"
     ]
    },
    {
     "name": "stdout",
     "output_type": "stream",
     "text": [
      "right_data1_score_W_combnie 0.8170731707317073 \n",
      "Finish one training *********\n",
      "2\n",
      "right_data2_score_W1 1.0 \n",
      "error_data2_score_W3 0.8888888888888888 \n",
      "error_data2_score_W1 0.6666666666666666\n",
      "right_data2_score_W_combnie 0.6979166666666666 \n",
      "Finish one training *********\n",
      "3\n",
      " Max Training Time !\n",
      "all_train_score_W1: [0.9122493547746675]\n",
      "all_train_score_W_combine: [0.9291244788564622]\n",
      "test_score_W1 : [0.906858202038925]\n",
      "test_score_W_combine: [0.9193697868396663]\n",
      "neuron unit number: 200\n",
      "*******************\n",
      "\n",
      "right_data0_score_W1 1.0 \n",
      "error_data0_score_W3 0.7925407925407926 \n",
      "error_data0_score_W1 0.49184149184149184\n",
      "right_data0_score_W_combnie 0.9576822916666666 \n",
      "Finish one training *********\n",
      "1\n",
      "right_data1_score_W1 1.0 \n",
      "error_data1_score_W3 0.8314606741573034 \n"
     ]
    },
    {
     "name": "stderr",
     "output_type": "stream",
     "text": [
      "C:\\JupyterDoc\\SOM\\optimizeW_CM_MultipleTrainingy_Frog.py:329: VisibleDeprecationWarning: Creating an ndarray from ragged nested sequences (which is a list-or-tuple of lists-or-tuples-or ndarrays with different lengths or shapes) is deprecated. If you meant to do this, you must specify 'dtype=object' when creating the ndarray.\n",
      "  A = np.array(newlist)\n"
     ]
    },
    {
     "name": "stdout",
     "output_type": "stream",
     "text": [
      "error_data1_score_W1 0.43820224719101125\n",
      "right_data1_score_W_combnie 0.8323529411764706 \n",
      "Finish one training *********\n",
      "2\n",
      "right_data2_score_W1 1.0 \n",
      "error_data2_score_W3 1.0 \n",
      "error_data2_score_W1 0.6\n",
      "right_data2_score_W_combnie 0.6756756756756757 \n",
      "Finish one training *********\n",
      "3\n",
      " NO Error Data, Finish Training!\n",
      "all_train_score_W1: [0.9148302561048243]\n",
      "all_train_score_W_combine: [0.9239626761961485]\n",
      "test_score_W1 : [0.9110287303058388]\n",
      "test_score_W_combine: [0.9101019462465245]\n",
      "neuron unit number: 240\n",
      "*******************\n",
      "\n",
      "right_data0_score_W1 1.0 \n",
      "error_data0_score_W3 0.8347457627118644 \n",
      "error_data0_score_W1 0.4470338983050847\n",
      "right_data0_score_W_combnie 0.9693318729463308 \n",
      "Finish one training *********\n",
      "1\n",
      "right_data1_score_W1 1.0 \n",
      "error_data1_score_W3 0.8846153846153846 \n"
     ]
    },
    {
     "name": "stderr",
     "output_type": "stream",
     "text": [
      "C:\\JupyterDoc\\SOM\\optimizeW_CM_MultipleTrainingy_Frog.py:329: VisibleDeprecationWarning: Creating an ndarray from ragged nested sequences (which is a list-or-tuple of lists-or-tuples-or ndarrays with different lengths or shapes) is deprecated. If you meant to do this, you must specify 'dtype=object' when creating the ndarray.\n",
      "  A = np.array(newlist)\n"
     ]
    },
    {
     "name": "stdout",
     "output_type": "stream",
     "text": [
      "error_data1_score_W1 0.5128205128205128\n",
      "right_data1_score_W_combnie 0.7741116751269036 \n",
      "Finish one training *********\n",
      "2\n",
      "right_data2_score_W1 1.0 \n",
      "error_data2_score_W3 1.0 \n",
      "error_data2_score_W1 0.7777777777777778\n",
      "right_data2_score_W_combnie 0.7101449275362319 \n",
      "Finish one training *********\n",
      "3\n",
      " NO Error Data, Finish Training!\n",
      "all_train_score_W1: [0.9062934286281517]\n",
      "all_train_score_W_combine: [0.9334921580305737]\n",
      "test_score_W1 : [0.8924930491195552]\n",
      "test_score_W_combine: [0.9235403151065802]\n",
      "neuron unit number: 300\n",
      "*******************\n",
      "\n",
      "right_data0_score_W1 1.0 \n",
      "error_data0_score_W3 0.8308026030368764 \n",
      "error_data0_score_W1 0.6507592190889371\n",
      "right_data0_score_W_combnie 0.9737762237762237 \n",
      "Finish one training *********\n",
      "1\n",
      "right_data1_score_W1 1.0 \n"
     ]
    },
    {
     "name": "stderr",
     "output_type": "stream",
     "text": [
      "C:\\JupyterDoc\\SOM\\optimizeW_CM_MultipleTrainingy_Frog.py:329: VisibleDeprecationWarning: Creating an ndarray from ragged nested sequences (which is a list-or-tuple of lists-or-tuples-or ndarrays with different lengths or shapes) is deprecated. If you meant to do this, you must specify 'dtype=object' when creating the ndarray.\n",
      "  A = np.array(newlist)\n"
     ]
    },
    {
     "name": "stdout",
     "output_type": "stream",
     "text": [
      "error_data1_score_W3 0.8589743589743589 \n",
      "error_data1_score_W1 0.47435897435897434\n",
      "right_data1_score_W_combnie 0.7859007832898173 \n",
      "Finish one training *********\n",
      "2\n",
      "right_data2_score_W1 1.0 \n",
      "error_data2_score_W3 1.0 \n",
      "error_data2_score_W1 0.7272727272727273\n",
      "right_data2_score_W_combnie 0.8059701492537313 \n",
      "Finish one training *********\n",
      "3\n",
      " NO Error Data, Finish Training!\n",
      "all_train_score_W1: [0.9084772682152075]\n",
      "all_train_score_W_combine: [0.9432201707365495]\n",
      "test_score_W1 : [0.9036144578313253]\n",
      "test_score_W_combine: [0.9207599629286376]\n"
     ]
    },
    {
     "data": {
      "image/png": "[encoded data removed]",
      "text/plain": [
       "<Figure size 432x288 with 1 Axes>"
      ]
     },
     "metadata": {
      "needs_background": "light"
     },
     "output_type": "display_data"
    }
   ],
   "source": [
    "max_num = [5,8,10,15,18,20,23,25,30,35,40,50,60,80,100,120,150]\n",
    "unit_list = []\n",
    "for x in max_num:\n",
    "    unit_list.append(2*x)\n",
    "all_train_score_W1 =[]\n",
    "all_train_score_W_combine =[]\n",
    "test_score_W1 = []\n",
    "test_score_W_combine= []\n",
    "\n",
    "for x in max_num:\n",
    "    print(\"neuron unit number: {}\".format(2*x))\n",
    "    print(\"*******************\\n\")\n",
    "    som = newSom.SOM(m= 2, n= x, dim=22) \n",
    "    optimize_W1 = optimizeW_CM_MultipleTrainingy_Frog.OptimizeW(som,csv_training,csv_test,10)\n",
    "    optimize_W1.runOptimize(3)\n",
    "    all_train_score_W1.append(optimize_W1.all_train_score_W1)\n",
    "    all_train_score_W_combine.append(optimize_W1.all_train_score_W_Combined)\n",
    "    test_score_W1.append(optimize_W1.test_score_W1)\n",
    "    test_score_W_combine.append(optimize_W1.test_score_W_combined)\n",
    "\n",
    "plt.plot(unit_list,all_train_score_W1,'r',label ='all_train_score_W1')\n",
    "plt.plot(unit_list,all_train_score_W_combine,'c',label ='all_train_score_W_combine')\n",
    "plt.plot(unit_list,test_score_W1,'y',label ='test_score_W1')\n",
    "plt.plot(unit_list,test_score_W_combine,'k',label ='test_score_W_combine')\n",
    "plt.legend()\n",
    "plt.show()"
   ]
  },
  {
   "cell_type": "code",
   "execution_count": 5,
   "id": "92868850",
   "metadata": {},
   "outputs": [
    {
     "name": "stdout",
     "output_type": "stream",
     "text": [
      "neuron unit number: 10\n",
      "*******************\n",
      "\n",
      "right_data0_score_W1 1.0 \n",
      "error_data0_score_W3 0.6161689730517116 \n",
      "error_data0_score_W1 0.34741442097596503\n",
      "right_data0_score_W_combnie 0.9508733624454149 \n",
      "Finish one training *********\n",
      "1\n"
     ]
    },
    {
     "name": "stderr",
     "output_type": "stream",
     "text": [
      "C:\\JupyterDoc\\SOM\\optimizeW_CM_MultipleTrainingy_Frog.py:329: VisibleDeprecationWarning: Creating an ndarray from ragged nested sequences (which is a list-or-tuple of lists-or-tuples-or ndarrays with different lengths or shapes) is deprecated. If you meant to do this, you must specify 'dtype=object' when creating the ndarray.\n",
      "  A = np.array(newlist)\n"
     ]
    },
    {
     "name": "stdout",
     "output_type": "stream",
     "text": [
      "right_data1_score_W1 1.0 \n",
      "error_data1_score_W3 0.5920303605313093 \n",
      "error_data1_score_W1 0.43453510436432635\n",
      "right_data1_score_W_combnie 0.7872340425531915 \n",
      "Finish one training *********\n",
      "2\n",
      "right_data2_score_W1 1.0 \n",
      "error_data2_score_W3 0.5674418604651162 \n",
      "error_data2_score_W1 0.4790697674418605\n",
      "right_data2_score_W_combnie 0.8974358974358975 \n",
      "Finish one training *********\n",
      "3\n",
      " Max Training Time !\n",
      "all_train_score_W1: [0.7274171133611277]\n",
      "all_train_score_W_combine: [0.8346237839984118]\n",
      "test_score_W1 : [0.7187210379981465]\n",
      "test_score_W_combine: [0.8271547729379055]\n",
      "neuron unit number: 16\n",
      "*******************\n",
      "\n",
      "right_data0_score_W1 1.0 \n",
      "error_data0_score_W3 0.6421370967741935 \n",
      "error_data0_score_W1 0.4153225806451613\n",
      "right_data0_score_W_combnie 0.9928306551297899 \n",
      "Finish one training *********\n",
      "1\n",
      "right_data1_score_W1 1.0 \n",
      "error_data1_score_W3 0.6338028169014085 \n",
      "error_data1_score_W1 0.4507042253521127\n",
      "right_data1_score_W_combnie 0.9089481946624803 \n",
      "Finish one training *********\n",
      "2\n",
      "right_data2_score_W1 1.0 \n",
      "error_data2_score_W3 0.6692307692307692 \n"
     ]
    },
    {
     "name": "stderr",
     "output_type": "stream",
     "text": [
      "C:\\JupyterDoc\\SOM\\optimizeW_CM_MultipleTrainingy_Frog.py:329: VisibleDeprecationWarning: Creating an ndarray from ragged nested sequences (which is a list-or-tuple of lists-or-tuples-or ndarrays with different lengths or shapes) is deprecated. If you meant to do this, you must specify 'dtype=object' when creating the ndarray.\n",
      "  A = np.array(newlist)\n"
     ]
    },
    {
     "name": "stdout",
     "output_type": "stream",
     "text": [
      "error_data2_score_W1 0.5076923076923077\n",
      "right_data2_score_W_combnie 0.76 \n",
      "Finish one training *********\n",
      "3\n",
      " Max Training Time !\n",
      "all_train_score_W1: [0.803057375421878]\n",
      "all_train_score_W_combine: [0.8963668850506253]\n",
      "test_score_W1 : [0.8002780352177943]\n",
      "test_score_W_combine: [0.8897126969416126]\n",
      "neuron unit number: 20\n",
      "*******************\n",
      "\n",
      "right_data0_score_W1 1.0 \n",
      "error_data0_score_W3 0.6442542787286064 \n",
      "error_data0_score_W1 0.3801955990220049\n",
      "right_data0_score_W_combnie 0.9623133443944063 \n",
      "Finish one training *********\n",
      "1\n",
      "right_data1_score_W1 1.0 \n",
      "error_data1_score_W3 0.6701030927835051 \n",
      "error_data1_score_W1 0.3470790378006873\n",
      "right_data1_score_W_combnie 0.8311195445920304 \n",
      "Finish one training *********\n",
      "2\n",
      "right_data2_score_W1 1.0 \n",
      "error_data2_score_W3 0.6666666666666666 \n",
      "error_data2_score_W1 0.3333333333333333\n"
     ]
    },
    {
     "name": "stderr",
     "output_type": "stream",
     "text": [
      "C:\\JupyterDoc\\SOM\\optimizeW_CM_MultipleTrainingy_Frog.py:329: VisibleDeprecationWarning: Creating an ndarray from ragged nested sequences (which is a list-or-tuple of lists-or-tuples-or ndarrays with different lengths or shapes) is deprecated. If you meant to do this, you must specify 'dtype=object' when creating the ndarray.\n",
      "  A = np.array(newlist)\n"
     ]
    },
    {
     "name": "stdout",
     "output_type": "stream",
     "text": [
      "right_data2_score_W_combnie 0.7025641025641025 \n",
      "Finish one training *********\n",
      "3\n",
      " Max Training Time !\n",
      "all_train_score_W1: [0.8376017470716697]\n",
      "all_train_score_W_combine: [0.8141751042287075]\n",
      "test_score_W1 : [0.8364226135310473]\n",
      "test_score_W_combine: [0.8127896200185357]\n",
      "neuron unit number: 24\n",
      "*******************\n",
      "\n",
      "right_data0_score_W1 1.0 \n",
      "error_data0_score_W3 0.7316455696202532 \n",
      "error_data0_score_W1 0.4443037974683544\n",
      "right_data0_score_W_combnie 0.9646809512597128 \n",
      "Finish one training *********\n",
      "1\n",
      "right_data1_score_W1 1.0 \n",
      "error_data1_score_W3 0.6698113207547169 \n",
      "error_data1_score_W1 0.4056603773584906\n",
      "right_data1_score_W_combnie 0.7560553633217993 \n",
      "Finish one training *********\n",
      "2\n",
      "right_data2_score_W1 1.0 \n",
      "error_data2_score_W3 0.7 \n"
     ]
    },
    {
     "name": "stderr",
     "output_type": "stream",
     "text": [
      "C:\\JupyterDoc\\SOM\\optimizeW_CM_MultipleTrainingy_Frog.py:329: VisibleDeprecationWarning: Creating an ndarray from ragged nested sequences (which is a list-or-tuple of lists-or-tuples-or ndarrays with different lengths or shapes) is deprecated. If you meant to do this, you must specify 'dtype=object' when creating the ndarray.\n",
      "  A = np.array(newlist)\n"
     ]
    },
    {
     "name": "stdout",
     "output_type": "stream",
     "text": [
      "error_data2_score_W1 0.42857142857142855\n",
      "right_data2_score_W_combnie 0.6830985915492958 \n",
      "Finish one training *********\n",
      "3\n",
      " Max Training Time !\n",
      "all_train_score_W1: [0.8431606114750844]\n",
      "all_train_score_W_combine: [0.8751240817947191]\n",
      "test_score_W1 : [0.8438368860055607]\n",
      "test_score_W_combine: [0.8744207599629287]\n",
      "neuron unit number: 30\n",
      "*******************\n",
      "\n",
      "right_data0_score_W1 1.0 \n",
      "error_data0_score_W3 0.6440217391304348 \n",
      "error_data0_score_W1 0.4320652173913043\n",
      "right_data0_score_W_combnie 0.9588467798186469 \n",
      "Finish one training *********\n",
      "1\n",
      "right_data1_score_W1 1.0 \n",
      "error_data1_score_W3 0.648854961832061 \n",
      "error_data1_score_W1 0.5114503816793893\n"
     ]
    },
    {
     "name": "stderr",
     "output_type": "stream",
     "text": [
      "C:\\JupyterDoc\\SOM\\optimizeW_CM_MultipleTrainingy_Frog.py:329: VisibleDeprecationWarning: Creating an ndarray from ragged nested sequences (which is a list-or-tuple of lists-or-tuples-or ndarrays with different lengths or shapes) is deprecated. If you meant to do this, you must specify 'dtype=object' when creating the ndarray.\n",
      "  A = np.array(newlist)\n"
     ]
    },
    {
     "name": "stdout",
     "output_type": "stream",
     "text": [
      "right_data1_score_W_combnie 0.8016877637130801 \n",
      "Finish one training *********\n",
      "2\n",
      "right_data2_score_W1 1.0 \n",
      "error_data2_score_W3 0.7391304347826086 \n",
      "error_data2_score_W1 0.391304347826087\n",
      "right_data2_score_W_combnie 0.7058823529411765 \n",
      "Finish one training *********\n",
      "3\n",
      " Max Training Time !\n",
      "all_train_score_W1: [0.8538812785388128]\n",
      "all_train_score_W_combine: [0.855072463768116]\n",
      "test_score_W1 : [0.8540315106580166]\n",
      "test_score_W_combine: [0.8392029657089898]\n",
      "neuron unit number: 36\n",
      "*******************\n",
      "\n",
      "right_data0_score_W1 1.0 \n",
      "error_data0_score_W3 0.7458563535911602 \n",
      "error_data0_score_W1 0.39594843462246776\n",
      "right_data0_score_W_combnie 0.9755229194481531 \n",
      "Finish one training *********\n",
      "1\n",
      "right_data1_score_W1 1.0 \n",
      "error_data1_score_W3 0.7753623188405797 \n",
      "error_data1_score_W1 0.38405797101449274\n",
      "right_data1_score_W_combnie 0.8567901234567902 \n",
      "Finish one training *********\n",
      "2\n"
     ]
    },
    {
     "name": "stderr",
     "output_type": "stream",
     "text": [
      "C:\\JupyterDoc\\SOM\\optimizeW_CM_MultipleTrainingy_Frog.py:329: VisibleDeprecationWarning: Creating an ndarray from ragged nested sequences (which is a list-or-tuple of lists-or-tuples-or ndarrays with different lengths or shapes) is deprecated. If you meant to do this, you must specify 'dtype=object' when creating the ndarray.\n",
      "  A = np.array(newlist)\n"
     ]
    },
    {
     "name": "stdout",
     "output_type": "stream",
     "text": [
      "right_data2_score_W1 1.0 \n",
      "error_data2_score_W3 0.9032258064516129 \n",
      "error_data2_score_W1 0.41935483870967744\n",
      "right_data2_score_W_combnie 0.7850467289719626 \n",
      "Finish one training *********\n",
      "3\n",
      " Max Training Time !\n",
      "all_train_score_W1: [0.8921977367480644]\n",
      "all_train_score_W_combine: [0.9201905896366885]\n",
      "test_score_W1 : [0.8929564411492122]\n",
      "test_score_W_combine: [0.9147358665430955]\n",
      "neuron unit number: 40\n",
      "*******************\n",
      "\n",
      "right_data0_score_W1 1.0 \n",
      "error_data0_score_W3 0.7504078303425775 \n",
      "error_data0_score_W1 0.4567699836867863\n",
      "right_data0_score_W_combnie 0.9751356238698011 \n",
      "Finish one training *********\n",
      "1\n",
      "right_data1_score_W1 1.0 \n",
      "error_data1_score_W3 0.7581699346405228 \n",
      "error_data1_score_W1 0.45098039215686275\n"
     ]
    },
    {
     "name": "stderr",
     "output_type": "stream",
     "text": [
      "C:\\JupyterDoc\\SOM\\optimizeW_CM_MultipleTrainingy_Frog.py:329: VisibleDeprecationWarning: Creating an ndarray from ragged nested sequences (which is a list-or-tuple of lists-or-tuples-or ndarrays with different lengths or shapes) is deprecated. If you meant to do this, you must specify 'dtype=object' when creating the ndarray.\n",
      "  A = np.array(newlist)\n"
     ]
    },
    {
     "name": "stdout",
     "output_type": "stream",
     "text": [
      "right_data1_score_W_combnie 0.8347826086956521 \n",
      "Finish one training *********\n",
      "2\n",
      "right_data2_score_W1 1.0 \n",
      "error_data2_score_W3 0.8648648648648649 \n",
      "error_data2_score_W1 0.4864864864864865\n",
      "right_data2_score_W_combnie 0.6896551724137931 \n",
      "Finish one training *********\n",
      "3\n",
      " Max Training Time !\n",
      "all_train_score_W1: [0.8783005757395275]\n",
      "all_train_score_W_combine: [0.912844947389319]\n",
      "test_score_W1 : [0.8850787766450418]\n",
      "test_score_W_combine: [0.9050046339202966]\n",
      "neuron unit number: 46\n",
      "*******************\n",
      "\n",
      "right_data0_score_W1 1.0 \n",
      "error_data0_score_W3 0.735494880546075 \n",
      "error_data0_score_W1 0.4590443686006826\n",
      "right_data0_score_W_combnie 0.9678723882273647 \n",
      "Finish one training *********\n",
      "1\n",
      "right_data1_score_W1 1.0 \n",
      "error_data1_score_W3 0.7419354838709677 \n",
      "error_data1_score_W1 0.41935483870967744\n"
     ]
    },
    {
     "name": "stderr",
     "output_type": "stream",
     "text": [
      "C:\\JupyterDoc\\SOM\\optimizeW_CM_MultipleTrainingy_Frog.py:329: VisibleDeprecationWarning: Creating an ndarray from ragged nested sequences (which is a list-or-tuple of lists-or-tuples-or ndarrays with different lengths or shapes) is deprecated. If you meant to do this, you must specify 'dtype=object' when creating the ndarray.\n",
      "  A = np.array(newlist)\n"
     ]
    },
    {
     "name": "stdout",
     "output_type": "stream",
     "text": [
      "right_data1_score_W_combnie 0.7795823665893271 \n",
      "Finish one training *********\n",
      "2\n",
      "right_data2_score_W1 1.0 \n",
      "error_data2_score_W3 0.875 \n",
      "error_data2_score_W1 0.5\n",
      "right_data2_score_W_combnie 0.7130434782608696 \n",
      "Finish one training *********\n",
      "3\n",
      " Max Training Time !\n",
      "all_train_score_W1: [0.8836609092713917]\n",
      "all_train_score_W_combine: [0.889418304546357]\n",
      "test_score_W1 : [0.8822984244670992]\n",
      "test_score_W_combine: [0.8846153846153846]\n",
      "neuron unit number: 50\n",
      "*******************\n",
      "\n",
      "right_data0_score_W1 1.0 \n",
      "error_data0_score_W3 0.8196994991652755 \n",
      "error_data0_score_W1 0.5559265442404007\n",
      "right_data0_score_W_combnie 0.9666516448850834 \n",
      "Finish one training *********\n",
      "1\n",
      "right_data1_score_W1 1.0 \n",
      "error_data1_score_W3 0.7777777777777778 \n",
      "error_data1_score_W1 0.48148148148148145\n"
     ]
    },
    {
     "name": "stderr",
     "output_type": "stream",
     "text": [
      "C:\\JupyterDoc\\SOM\\optimizeW_CM_MultipleTrainingy_Frog.py:329: VisibleDeprecationWarning: Creating an ndarray from ragged nested sequences (which is a list-or-tuple of lists-or-tuples-or ndarrays with different lengths or shapes) is deprecated. If you meant to do this, you must specify 'dtype=object' when creating the ndarray.\n",
      "  A = np.array(newlist)\n"
     ]
    },
    {
     "name": "stdout",
     "output_type": "stream",
     "text": [
      "right_data1_score_W_combnie 0.8329938900203666 \n",
      "Finish one training *********\n",
      "2\n",
      "right_data2_score_W1 1.0 \n",
      "error_data2_score_W3 0.9166666666666666 \n",
      "error_data2_score_W1 0.6666666666666666\n",
      "right_data2_score_W_combnie 0.7738095238095238 \n",
      "Finish one training *********\n",
      "3\n",
      " Max Training Time !\n",
      "all_train_score_W1: [0.8810800079412349]\n",
      "all_train_score_W_combine: [0.9295215405995633]\n",
      "test_score_W1 : [0.8799814643188137]\n",
      "test_score_W_combine: [0.9207599629286376]\n",
      "neuron unit number: 56\n",
      "*******************\n",
      "\n",
      "right_data0_score_W1 1.0 \n",
      "error_data0_score_W3 0.7471264367816092 \n",
      "error_data0_score_W1 0.4885057471264368\n",
      "right_data0_score_W_combnie 0.9729789590254706 \n",
      "Finish one training *********\n",
      "1\n",
      "right_data1_score_W1 1.0 \n",
      "error_data1_score_W3 0.803030303030303 \n",
      "error_data1_score_W1 0.45454545454545453\n",
      "right_data1_score_W_combnie 0.8435897435897436 \n",
      "Finish one training *********\n",
      "2\n"
     ]
    },
    {
     "name": "stderr",
     "output_type": "stream",
     "text": [
      "C:\\JupyterDoc\\SOM\\optimizeW_CM_MultipleTrainingy_Frog.py:329: VisibleDeprecationWarning: Creating an ndarray from ragged nested sequences (which is a list-or-tuple of lists-or-tuples-or ndarrays with different lengths or shapes) is deprecated. If you meant to do this, you must specify 'dtype=object' when creating the ndarray.\n",
      "  A = np.array(newlist)\n"
     ]
    },
    {
     "name": "stdout",
     "output_type": "stream",
     "text": [
      "right_data2_score_W1 1.0 \n",
      "error_data2_score_W3 0.9615384615384616 \n",
      "error_data2_score_W1 0.5\n",
      "right_data2_score_W_combnie 0.7264150943396226 \n",
      "Finish one training *********\n",
      "3\n",
      " Max Training Time !\n",
      "all_train_score_W1: [0.8963668850506253]\n",
      "all_train_score_W_combine: [0.9249553305539011]\n",
      "test_score_W1 : [0.8948100092678406]\n",
      "test_score_W_combine: [0.9036144578313253]\n",
      "neuron unit number: 60\n",
      "*******************\n",
      "\n",
      "right_data0_score_W1 1.0 \n",
      "error_data0_score_W3 0.8084210526315789 \n",
      "error_data0_score_W1 0.511578947368421\n",
      "right_data0_score_W_combnie 0.9868478737395879 \n",
      "Finish one training *********\n",
      "1\n",
      "right_data1_score_W1 1.0 \n",
      "error_data1_score_W3 0.7802197802197802 \n",
      "error_data1_score_W1 0.3956043956043956\n"
     ]
    },
    {
     "name": "stderr",
     "output_type": "stream",
     "text": [
      "C:\\JupyterDoc\\SOM\\optimizeW_CM_MultipleTrainingy_Frog.py:329: VisibleDeprecationWarning: Creating an ndarray from ragged nested sequences (which is a list-or-tuple of lists-or-tuples-or ndarrays with different lengths or shapes) is deprecated. If you meant to do this, you must specify 'dtype=object' when creating the ndarray.\n",
      "  A = np.array(newlist)\n"
     ]
    },
    {
     "name": "stdout",
     "output_type": "stream",
     "text": [
      "right_data1_score_W_combnie 0.8645833333333334 \n",
      "Finish one training *********\n",
      "2\n",
      "right_data2_score_W1 1.0 \n",
      "error_data2_score_W3 1.0 \n",
      "error_data2_score_W1 0.5\n",
      "right_data2_score_W_combnie 0.676056338028169 \n",
      "Finish one training *********\n",
      "3\n",
      " NO Error Data, Finish Training!\n",
      "all_train_score_W1: [0.9056978360135001]\n",
      "all_train_score_W_combine: [0.9517569982132221]\n",
      "test_score_W1 : [0.9063948100092678]\n",
      "test_score_W_combine: [0.9374420759962928]\n",
      "neuron unit number: 64\n",
      "*******************\n",
      "\n",
      "right_data0_score_W1 1.0 \n",
      "error_data0_score_W3 0.8040665434380776 \n",
      "error_data0_score_W1 0.5804066543438078\n",
      "right_data0_score_W_combnie 0.9584074733096085 \n",
      "Finish one training *********\n",
      "1\n",
      "right_data1_score_W1 1.0 \n",
      "error_data1_score_W3 0.8490566037735849 \n",
      "error_data1_score_W1 0.5566037735849056\n"
     ]
    },
    {
     "name": "stderr",
     "output_type": "stream",
     "text": [
      "C:\\JupyterDoc\\SOM\\optimizeW_CM_MultipleTrainingy_Frog.py:329: VisibleDeprecationWarning: Creating an ndarray from ragged nested sequences (which is a list-or-tuple of lists-or-tuples-or ndarrays with different lengths or shapes) is deprecated. If you meant to do this, you must specify 'dtype=object' when creating the ndarray.\n",
      "  A = np.array(newlist)\n"
     ]
    },
    {
     "name": "stdout",
     "output_type": "stream",
     "text": [
      "right_data1_score_W_combnie 0.8390804597701149 \n",
      "Finish one training *********\n",
      "2\n",
      "right_data2_score_W1 1.0 \n",
      "error_data2_score_W3 0.875 \n",
      "error_data2_score_W1 0.5625\n",
      "right_data2_score_W_combnie 0.8 \n",
      "Finish one training *********\n",
      "3\n",
      " Max Training Time !\n",
      "all_train_score_W1: [0.8925947984911654]\n",
      "all_train_score_W_combine: [0.9205876513797896]\n",
      "test_score_W1 : [0.8822984244670992]\n",
      "test_score_W_combine: [0.9128822984244671]\n",
      "neuron unit number: 70\n",
      "*******************\n",
      "\n",
      "right_data0_score_W1 1.0 \n",
      "error_data0_score_W3 0.782258064516129 \n",
      "error_data0_score_W1 0.5342741935483871\n",
      "right_data0_score_W_combnie 0.9585994274388902 \n",
      "Finish one training *********\n",
      "1\n",
      "right_data1_score_W1 1.0 \n",
      "error_data1_score_W3 0.8148148148148148 \n",
      "error_data1_score_W1 0.48148148148148145\n"
     ]
    },
    {
     "name": "stderr",
     "output_type": "stream",
     "text": [
      "C:\\JupyterDoc\\SOM\\optimizeW_CM_MultipleTrainingy_Frog.py:329: VisibleDeprecationWarning: Creating an ndarray from ragged nested sequences (which is a list-or-tuple of lists-or-tuples-or ndarrays with different lengths or shapes) is deprecated. If you meant to do this, you must specify 'dtype=object' when creating the ndarray.\n",
      "  A = np.array(newlist)\n"
     ]
    },
    {
     "name": "stdout",
     "output_type": "stream",
     "text": [
      "right_data1_score_W_combnie 0.8865979381443299 \n",
      "Finish one training *********\n",
      "2\n",
      "right_data2_score_W1 1.0 \n",
      "error_data2_score_W3 1.0 \n",
      "error_data2_score_W1 0.75\n",
      "right_data2_score_W_combnie 0.7840909090909091 \n",
      "Finish one training *********\n",
      "3\n",
      " NO Error Data, Finish Training!\n",
      "all_train_score_W1: [0.9015286877109391]\n",
      "all_train_score_W_combine: [0.9338892197736748]\n",
      "test_score_W1 : [0.8957367933271547]\n",
      "test_score_W_combine: [0.9193697868396663]\n",
      "neuron unit number: 76\n",
      "*******************\n",
      "\n",
      "right_data0_score_W1 1.0 \n",
      "error_data0_score_W3 0.8238341968911918 \n",
      "error_data0_score_W1 0.4844559585492228\n",
      "right_data0_score_W_combnie 0.9798358733880422 \n",
      "Finish one training *********\n",
      "1\n",
      "right_data1_score_W1 1.0 \n",
      "error_data1_score_W3 0.7941176470588235 \n"
     ]
    },
    {
     "name": "stderr",
     "output_type": "stream",
     "text": [
      "C:\\JupyterDoc\\SOM\\optimizeW_CM_MultipleTrainingy_Frog.py:329: VisibleDeprecationWarning: Creating an ndarray from ragged nested sequences (which is a list-or-tuple of lists-or-tuples-or ndarrays with different lengths or shapes) is deprecated. If you meant to do this, you must specify 'dtype=object' when creating the ndarray.\n",
      "  A = np.array(newlist)\n"
     ]
    },
    {
     "name": "stdout",
     "output_type": "stream",
     "text": [
      "error_data1_score_W1 0.38235294117647056\n",
      "right_data1_score_W_combnie 0.8207547169811321 \n",
      "Finish one training *********\n",
      "2\n",
      "right_data2_score_W1 1.0 \n",
      "error_data2_score_W3 0.8928571428571429 \n",
      "error_data2_score_W1 0.5714285714285714\n",
      "right_data2_score_W_combnie 0.75 \n",
      "Finish one training *********\n",
      "3\n",
      " Max Training Time !\n",
      "all_train_score_W1: [0.8467341671629939]\n",
      "all_train_score_W_combine: [0.9118522930315665]\n",
      "test_score_W1 : [0.8512511584800742]\n",
      "test_score_W_combine: [0.906858202038925]\n",
      "neuron unit number: 80\n",
      "*******************\n",
      "\n",
      "right_data0_score_W1 1.0 \n",
      "error_data0_score_W3 0.8097087378640777 \n",
      "error_data0_score_W1 0.37281553398058254\n",
      "right_data0_score_W_combnie 0.9765590446704998 \n",
      "Finish one training *********\n",
      "1\n",
      "right_data1_score_W1 1.0 \n",
      "error_data1_score_W3 0.826530612244898 \n",
      "error_data1_score_W1 0.4489795918367347\n"
     ]
    },
    {
     "name": "stderr",
     "output_type": "stream",
     "text": [
      "C:\\JupyterDoc\\SOM\\optimizeW_CM_MultipleTrainingy_Frog.py:329: VisibleDeprecationWarning: Creating an ndarray from ragged nested sequences (which is a list-or-tuple of lists-or-tuples-or ndarrays with different lengths or shapes) is deprecated. If you meant to do this, you must specify 'dtype=object' when creating the ndarray.\n",
      "  A = np.array(newlist)\n"
     ]
    },
    {
     "name": "stdout",
     "output_type": "stream",
     "text": [
      "right_data1_score_W_combnie 0.7745803357314148 \n",
      "Finish one training *********\n",
      "2\n",
      "right_data2_score_W1 1.0 \n",
      "error_data2_score_W3 1.0 \n",
      "error_data2_score_W1 0.47058823529411764\n",
      "right_data2_score_W_combnie 0.7037037037037037 \n",
      "Finish one training *********\n",
      "3\n",
      " NO Error Data, Finish Training!\n",
      "all_train_score_W1: [0.897756601151479]\n",
      "all_train_score_W_combine: [0.9273377010125075]\n",
      "test_score_W1 : [0.8957367933271547]\n",
      "test_score_W_combine: [0.9249304911955515]\n",
      "neuron unit number: 90\n",
      "*******************\n",
      "\n",
      "right_data0_score_W1 1.0 \n",
      "error_data0_score_W3 0.8127962085308057 \n",
      "error_data0_score_W1 0.5260663507109005\n",
      "right_data0_score_W_combnie 0.9635969664138678 \n",
      "Finish one training *********\n",
      "1\n",
      "right_data1_score_W1 1.0 \n",
      "error_data1_score_W3 0.7974683544303798 \n",
      "error_data1_score_W1 0.4810126582278481\n"
     ]
    },
    {
     "name": "stderr",
     "output_type": "stream",
     "text": [
      "C:\\JupyterDoc\\SOM\\optimizeW_CM_MultipleTrainingy_Frog.py:329: VisibleDeprecationWarning: Creating an ndarray from ragged nested sequences (which is a list-or-tuple of lists-or-tuples-or ndarrays with different lengths or shapes) is deprecated. If you meant to do this, you must specify 'dtype=object' when creating the ndarray.\n",
      "  A = np.array(newlist)\n"
     ]
    },
    {
     "name": "stdout",
     "output_type": "stream",
     "text": [
      "right_data1_score_W_combnie 0.8775510204081632 \n",
      "Finish one training *********\n",
      "2\n",
      "right_data2_score_W1 1.0 \n",
      "error_data2_score_W3 0.8125 \n",
      "error_data2_score_W1 0.5\n",
      "right_data2_score_W_combnie 0.7142857142857143 \n",
      "Finish one training *********\n",
      "3\n",
      " Max Training Time !\n",
      "all_train_score_W1: [0.916219972205678]\n",
      "all_train_score_W_combine: [0.9384554298193369]\n",
      "test_score_W1 : [0.917516218721038]\n",
      "test_score_W_combine: [0.9202965708989805]\n",
      "neuron unit number: 100\n",
      "*******************\n",
      "\n",
      "right_data0_score_W1 1.0 \n",
      "error_data0_score_W3 0.7567567567567568 \n",
      "error_data0_score_W1 0.47876447876447875\n",
      "right_data0_score_W_combnie 0.9378181013498562 \n",
      "Finish one training *********\n",
      "1\n",
      "right_data1_score_W1 1.0 \n",
      "error_data1_score_W3 0.8492063492063492 \n",
      "error_data1_score_W1 0.4444444444444444\n"
     ]
    },
    {
     "name": "stderr",
     "output_type": "stream",
     "text": [
      "C:\\JupyterDoc\\SOM\\optimizeW_CM_MultipleTrainingy_Frog.py:329: VisibleDeprecationWarning: Creating an ndarray from ragged nested sequences (which is a list-or-tuple of lists-or-tuples-or ndarrays with different lengths or shapes) is deprecated. If you meant to do this, you must specify 'dtype=object' when creating the ndarray.\n",
      "  A = np.array(newlist)\n"
     ]
    },
    {
     "name": "stdout",
     "output_type": "stream",
     "text": [
      "right_data1_score_W_combnie 0.8392857142857143 \n",
      "Finish one training *********\n",
      "2\n",
      "right_data2_score_W1 1.0 \n",
      "error_data2_score_W3 1.0 \n",
      "error_data2_score_W1 0.6842105263157895\n",
      "right_data2_score_W_combnie 0.6728971962616822 \n",
      "Finish one training *********\n",
      "3\n",
      " NO Error Data, Finish Training!\n",
      "all_train_score_W1: [0.8971610085368275]\n",
      "all_train_score_W_combine: [0.886440341473099]\n",
      "test_score_W1 : [0.8980537534754403]\n",
      "test_score_W_combine: [0.8781278962001854]\n",
      "neuron unit number: 110\n",
      "*******************\n",
      "\n",
      "right_data0_score_W1 1.0 \n",
      "error_data0_score_W3 0.8565310492505354 \n",
      "error_data0_score_W1 0.48822269807280516\n",
      "right_data0_score_W_combnie 0.9505470459518599 \n",
      "Finish one training *********\n",
      "1\n",
      "right_data1_score_W1 1.0 \n",
      "error_data1_score_W3 0.835820895522388 \n",
      "error_data1_score_W1 0.43283582089552236\n"
     ]
    },
    {
     "name": "stderr",
     "output_type": "stream",
     "text": [
      "C:\\JupyterDoc\\SOM\\optimizeW_CM_MultipleTrainingy_Frog.py:329: VisibleDeprecationWarning: Creating an ndarray from ragged nested sequences (which is a list-or-tuple of lists-or-tuples-or ndarrays with different lengths or shapes) is deprecated. If you meant to do this, you must specify 'dtype=object' when creating the ndarray.\n",
      "  A = np.array(newlist)\n"
     ]
    },
    {
     "name": "stdout",
     "output_type": "stream",
     "text": [
      "right_data1_score_W_combnie 0.8325 \n",
      "Finish one training *********\n",
      "2\n",
      "right_data2_score_W1 1.0 \n",
      "error_data2_score_W3 1.0 \n",
      "error_data2_score_W1 0.5454545454545454\n",
      "right_data2_score_W_combnie 0.7142857142857143 \n",
      "Finish one training *********\n",
      "3\n",
      " NO Error Data, Finish Training!\n",
      "all_train_score_W1: [0.9072860829859043]\n",
      "all_train_score_W_combine: [0.9096684534445106]\n",
      "test_score_W1 : [0.9091751621872104]\n",
      "test_score_W_combine: [0.9008341056533827]\n",
      "neuron unit number: 120\n",
      "*******************\n",
      "\n",
      "right_data0_score_W1 1.0 \n",
      "error_data0_score_W3 0.8526522593320236 \n",
      "error_data0_score_W1 0.5599214145383105\n",
      "right_data0_score_W_combnie 0.9604681978798587 \n",
      "Finish one training *********\n",
      "1\n",
      "right_data1_score_W1 1.0 \n",
      "error_data1_score_W3 0.8 \n",
      "error_data1_score_W1 0.49333333333333335\n"
     ]
    },
    {
     "name": "stderr",
     "output_type": "stream",
     "text": [
      "C:\\JupyterDoc\\SOM\\optimizeW_CM_MultipleTrainingy_Frog.py:329: VisibleDeprecationWarning: Creating an ndarray from ragged nested sequences (which is a list-or-tuple of lists-or-tuples-or ndarrays with different lengths or shapes) is deprecated. If you meant to do this, you must specify 'dtype=object' when creating the ndarray.\n",
      "  A = np.array(newlist)\n"
     ]
    },
    {
     "name": "stdout",
     "output_type": "stream",
     "text": [
      "right_data1_score_W_combnie 0.8179723502304147 \n",
      "Finish one training *********\n",
      "2\n",
      "right_data2_score_W1 1.0 \n",
      "error_data2_score_W3 1.0 \n",
      "error_data2_score_W1 0.5333333333333333\n",
      "right_data2_score_W_combnie 0.7833333333333333 \n",
      "Finish one training *********\n",
      "3\n",
      " NO Error Data, Finish Training!\n",
      "all_train_score_W1: [0.8989477863807822]\n",
      "all_train_score_W_combine: [0.9281318244987096]\n",
      "test_score_W1 : [0.8985171455050973]\n",
      "test_score_W_combine: [0.9087117701575533]\n",
      "neuron unit number: 130\n",
      "*******************\n",
      "\n",
      "right_data0_score_W1 1.0 \n",
      "error_data0_score_W3 0.8100263852242744 \n",
      "error_data0_score_W1 0.5145118733509235\n",
      "right_data0_score_W_combnie 0.9639330184628596 \n",
      "Finish one training *********\n",
      "1\n",
      "right_data1_score_W1 1.0 \n",
      "error_data1_score_W3 0.8333333333333334 \n",
      "error_data1_score_W1 0.3888888888888889\n"
     ]
    },
    {
     "name": "stderr",
     "output_type": "stream",
     "text": [
      "C:\\JupyterDoc\\SOM\\optimizeW_CM_MultipleTrainingy_Frog.py:329: VisibleDeprecationWarning: Creating an ndarray from ragged nested sequences (which is a list-or-tuple of lists-or-tuples-or ndarrays with different lengths or shapes) is deprecated. If you meant to do this, you must specify 'dtype=object' when creating the ndarray.\n",
      "  A = np.array(newlist)\n"
     ]
    },
    {
     "name": "stdout",
     "output_type": "stream",
     "text": [
      "right_data1_score_W_combnie 0.8501628664495114 \n",
      "Finish one training *********\n",
      "2\n",
      "right_data2_score_W1 1.0 \n",
      "error_data2_score_W3 1.0 \n",
      "error_data2_score_W1 0.5833333333333334\n",
      "right_data2_score_W_combnie 0.75 \n",
      "Finish one training *********\n",
      "3\n",
      " NO Error Data, Finish Training!\n",
      "all_train_score_W1: [0.9247567996823506]\n",
      "all_train_score_W_combine: [0.9152273178479253]\n",
      "test_score_W1 : [0.9161260426320668]\n",
      "test_score_W_combine: [0.9110287303058388]\n",
      "neuron unit number: 140\n",
      "*******************\n",
      "\n",
      "right_data0_score_W1 1.0 \n",
      "error_data0_score_W3 0.8101503759398496 \n",
      "error_data0_score_W1 0.5338345864661654\n",
      "right_data0_score_W_combnie 0.9647058823529412 \n",
      "Finish one training *********\n",
      "1\n",
      "right_data1_score_W1 1.0 \n",
      "error_data1_score_W3 0.8811881188118812 \n"
     ]
    },
    {
     "name": "stderr",
     "output_type": "stream",
     "text": [
      "C:\\JupyterDoc\\SOM\\optimizeW_CM_MultipleTrainingy_Frog.py:329: VisibleDeprecationWarning: Creating an ndarray from ragged nested sequences (which is a list-or-tuple of lists-or-tuples-or ndarrays with different lengths or shapes) is deprecated. If you meant to do this, you must specify 'dtype=object' when creating the ndarray.\n",
      "  A = np.array(newlist)\n"
     ]
    },
    {
     "name": "stdout",
     "output_type": "stream",
     "text": [
      "error_data1_score_W1 0.43564356435643564\n",
      "right_data1_score_W_combnie 0.8793503480278422 \n",
      "Finish one training *********\n",
      "2\n",
      "right_data2_score_W1 1.0 \n",
      "error_data2_score_W3 1.0 \n",
      "error_data2_score_W1 0.5833333333333334\n",
      "right_data2_score_W_combnie 0.7640449438202247 \n",
      "Finish one training *********\n",
      "3\n",
      " NO Error Data, Finish Training!\n",
      "all_train_score_W1: [0.8943815763351202]\n",
      "all_train_score_W_combine: [0.9243597379392495]\n",
      "test_score_W1 : [0.8911028730305839]\n",
      "test_score_W_combine: [0.9012974976830399]\n",
      "neuron unit number: 150\n",
      "*******************\n",
      "\n",
      "right_data0_score_W1 1.0 \n",
      "error_data0_score_W3 0.7765089722675367 \n",
      "error_data0_score_W1 0.499184339314845\n",
      "right_data0_score_W_combnie 0.9622513562386981 \n",
      "Finish one training *********\n",
      "1\n",
      "right_data1_score_W1 1.0 \n"
     ]
    },
    {
     "name": "stderr",
     "output_type": "stream",
     "text": [
      "C:\\JupyterDoc\\SOM\\optimizeW_CM_MultipleTrainingy_Frog.py:329: VisibleDeprecationWarning: Creating an ndarray from ragged nested sequences (which is a list-or-tuple of lists-or-tuples-or ndarrays with different lengths or shapes) is deprecated. If you meant to do this, you must specify 'dtype=object' when creating the ndarray.\n",
      "  A = np.array(newlist)\n"
     ]
    },
    {
     "name": "stdout",
     "output_type": "stream",
     "text": [
      "error_data1_score_W3 0.8540145985401459 \n",
      "error_data1_score_W1 0.4744525547445255\n",
      "right_data1_score_W_combnie 0.8361344537815126 \n",
      "Finish one training *********\n",
      "2\n",
      "right_data2_score_W1 1.0 \n",
      "error_data2_score_W3 0.95 \n",
      "error_data2_score_W1 0.65\n",
      "right_data2_score_W_combnie 0.7435897435897436 \n",
      "Finish one training *********\n",
      "3\n",
      " Max Training Time !\n",
      "all_train_score_W1: [0.8783005757395275]\n",
      "all_train_score_W_combine: [0.9287274171133612]\n",
      "test_score_W1 : [0.8790546802594995]\n",
      "test_score_W_combine: [0.91241890639481]\n",
      "neuron unit number: 160\n",
      "*******************\n",
      "\n",
      "right_data0_score_W1 1.0 \n",
      "error_data0_score_W3 0.7963386727688787 \n",
      "error_data0_score_W1 0.551487414187643\n",
      "right_data0_score_W_combnie 0.9686956521739131 \n",
      "Finish one training *********\n",
      "1\n",
      "right_data1_score_W1 1.0 \n",
      "error_data1_score_W3 0.797752808988764 \n"
     ]
    },
    {
     "name": "stderr",
     "output_type": "stream",
     "text": [
      "C:\\JupyterDoc\\SOM\\optimizeW_CM_MultipleTrainingy_Frog.py:329: VisibleDeprecationWarning: Creating an ndarray from ragged nested sequences (which is a list-or-tuple of lists-or-tuples-or ndarrays with different lengths or shapes) is deprecated. If you meant to do this, you must specify 'dtype=object' when creating the ndarray.\n",
      "  A = np.array(newlist)\n"
     ]
    },
    {
     "name": "stdout",
     "output_type": "stream",
     "text": [
      "error_data1_score_W1 0.47191011235955055\n",
      "right_data1_score_W_combnie 0.8764367816091954 \n",
      "Finish one training *********\n",
      "2\n",
      "right_data2_score_W1 1.0 \n",
      "error_data2_score_W3 0.9444444444444444 \n",
      "error_data2_score_W1 0.5\n",
      "right_data2_score_W_combnie 0.7464788732394366 \n",
      "Finish one training *********\n",
      "3\n",
      " Max Training Time !\n",
      "all_train_score_W1: [0.91324200913242]\n",
      "all_train_score_W_combine: [0.9380583680762359]\n",
      "test_score_W1 : [0.8948100092678406]\n",
      "test_score_W_combine: [0.9240037071362373]\n",
      "neuron unit number: 180\n",
      "*******************\n",
      "\n",
      "right_data0_score_W1 1.0 \n",
      "error_data0_score_W3 0.8445378151260504 \n",
      "error_data0_score_W1 0.5483193277310925\n",
      "right_data0_score_W_combnie 0.9782942337206753 \n",
      "Finish one training *********\n",
      "1\n",
      "right_data1_score_W1 1.0 \n"
     ]
    },
    {
     "name": "stderr",
     "output_type": "stream",
     "text": [
      "C:\\JupyterDoc\\SOM\\optimizeW_CM_MultipleTrainingy_Frog.py:329: VisibleDeprecationWarning: Creating an ndarray from ragged nested sequences (which is a list-or-tuple of lists-or-tuples-or ndarrays with different lengths or shapes) is deprecated. If you meant to do this, you must specify 'dtype=object' when creating the ndarray.\n",
      "  A = np.array(newlist)\n"
     ]
    },
    {
     "name": "stdout",
     "output_type": "stream",
     "text": [
      "error_data1_score_W3 0.8513513513513513 \n",
      "error_data1_score_W1 0.5135135135135135\n",
      "right_data1_score_W_combnie 0.7711442786069652 \n",
      "Finish one training *********\n",
      "2\n",
      "right_data2_score_W1 1.0 \n",
      "error_data2_score_W3 1.0 \n",
      "error_data2_score_W1 0.6363636363636364\n",
      "right_data2_score_W_combnie 0.746031746031746 \n",
      "Finish one training *********\n",
      "3\n",
      " NO Error Data, Finish Training!\n",
      "all_train_score_W1: [0.9054993051419495]\n",
      "all_train_score_W_combine: [0.9342862815167758]\n",
      "test_score_W1 : [0.8948100092678406]\n",
      "test_score_W_combine: [0.9165894346617238]\n",
      "neuron unit number: 200\n",
      "*******************\n",
      "\n",
      "right_data0_score_W1 1.0 \n",
      "error_data0_score_W3 0.7922077922077922 \n",
      "error_data0_score_W1 0.5231910946196661\n",
      "right_data0_score_W_combnie 0.9566473988439307 \n",
      "Finish one training *********\n",
      "1\n",
      "right_data1_score_W1 1.0 \n"
     ]
    },
    {
     "name": "stderr",
     "output_type": "stream",
     "text": [
      "C:\\JupyterDoc\\SOM\\optimizeW_CM_MultipleTrainingy_Frog.py:329: VisibleDeprecationWarning: Creating an ndarray from ragged nested sequences (which is a list-or-tuple of lists-or-tuples-or ndarrays with different lengths or shapes) is deprecated. If you meant to do this, you must specify 'dtype=object' when creating the ndarray.\n",
      "  A = np.array(newlist)\n"
     ]
    },
    {
     "name": "stdout",
     "output_type": "stream",
     "text": [
      "error_data1_score_W3 0.8571428571428571 \n",
      "error_data1_score_W1 0.5535714285714286\n",
      "right_data1_score_W_combnie 0.8407494145199064 \n",
      "Finish one training *********\n",
      "2\n",
      "right_data2_score_W1 1.0 \n",
      "error_data2_score_W3 1.0 \n",
      "error_data2_score_W1 0.5625\n",
      "right_data2_score_W_combnie 0.78125 \n",
      "Finish one training *********\n",
      "3\n",
      " NO Error Data, Finish Training!\n",
      "all_train_score_W1: [0.8929918602342665]\n",
      "all_train_score_W_combine: [0.9253523922970022]\n",
      "test_score_W1 : [0.8901760889712697]\n",
      "test_score_W_combine: [0.9147358665430955]\n",
      "neuron unit number: 220\n",
      "*******************\n",
      "\n",
      "right_data0_score_W1 1.0 \n",
      "error_data0_score_W3 0.8719723183391004 \n",
      "error_data0_score_W1 0.5103806228373703\n",
      "right_data0_score_W_combnie 0.9654631083202512 \n",
      "Finish one training *********\n",
      "1\n",
      "right_data1_score_W1 1.0 \n"
     ]
    },
    {
     "name": "stderr",
     "output_type": "stream",
     "text": [
      "C:\\JupyterDoc\\SOM\\optimizeW_CM_MultipleTrainingy_Frog.py:329: VisibleDeprecationWarning: Creating an ndarray from ragged nested sequences (which is a list-or-tuple of lists-or-tuples-or ndarrays with different lengths or shapes) is deprecated. If you meant to do this, you must specify 'dtype=object' when creating the ndarray.\n",
      "  A = np.array(newlist)\n"
     ]
    },
    {
     "name": "stdout",
     "output_type": "stream",
     "text": [
      "error_data1_score_W3 0.8783783783783784 \n",
      "error_data1_score_W1 0.5675675675675675\n",
      "right_data1_score_W_combnie 0.8015873015873016 \n",
      "Finish one training *********\n",
      "2\n",
      "right_data2_score_W1 1.0 \n",
      "error_data2_score_W3 1.0 \n",
      "error_data2_score_W1 0.6666666666666666\n",
      "right_data2_score_W_combnie 0.7384615384615385 \n",
      "Finish one training *********\n",
      "3\n",
      " NO Error Data, Finish Training!\n",
      "all_train_score_W1: [0.885249156243796]\n",
      "all_train_score_W_combine: [0.927536231884058]\n",
      "test_score_W1 : [0.8716404077849861]\n",
      "test_score_W_combine: [0.9193697868396663]\n",
      "neuron unit number: 240\n",
      "*******************\n",
      "\n",
      "right_data0_score_W1 1.0 \n",
      "error_data0_score_W3 0.7905982905982906 \n",
      "error_data0_score_W1 0.561965811965812\n",
      "right_data0_score_W_combnie 0.9420004377325454 \n",
      "Finish one training *********\n",
      "1\n",
      "right_data1_score_W1 1.0 \n"
     ]
    },
    {
     "name": "stderr",
     "output_type": "stream",
     "text": [
      "C:\\JupyterDoc\\SOM\\optimizeW_CM_MultipleTrainingy_Frog.py:329: VisibleDeprecationWarning: Creating an ndarray from ragged nested sequences (which is a list-or-tuple of lists-or-tuples-or ndarrays with different lengths or shapes) is deprecated. If you meant to do this, you must specify 'dtype=object' when creating the ndarray.\n",
      "  A = np.array(newlist)\n"
     ]
    },
    {
     "name": "stdout",
     "output_type": "stream",
     "text": [
      "error_data1_score_W3 0.8163265306122449 \n",
      "error_data1_score_W1 0.5102040816326531\n",
      "right_data1_score_W_combnie 0.8162162162162162 \n",
      "Finish one training *********\n",
      "2\n",
      "right_data2_score_W1 1.0 \n",
      "error_data2_score_W3 0.8888888888888888 \n",
      "error_data2_score_W1 0.5\n",
      "right_data2_score_W_combnie 0.875 \n",
      "Finish one training *********\n",
      "3\n",
      " Max Training Time !\n",
      "all_train_score_W1: [0.9070875521143538]\n",
      "all_train_score_W_combine: [0.9058963668850506]\n",
      "test_score_W1 : [0.9133456904541242]\n",
      "test_score_W_combine: [0.8943466172381835]\n",
      "neuron unit number: 260\n",
      "*******************\n",
      "\n",
      "right_data0_score_W1 1.0 \n",
      "error_data0_score_W3 0.8382978723404255 \n",
      "error_data0_score_W1 0.4765957446808511\n",
      "right_data0_score_W_combnie 0.9623385154368295 \n",
      "Finish one training *********\n",
      "1\n",
      "right_data1_score_W1 1.0 \n"
     ]
    },
    {
     "name": "stderr",
     "output_type": "stream",
     "text": [
      "C:\\JupyterDoc\\SOM\\optimizeW_CM_MultipleTrainingy_Frog.py:329: VisibleDeprecationWarning: Creating an ndarray from ragged nested sequences (which is a list-or-tuple of lists-or-tuples-or ndarrays with different lengths or shapes) is deprecated. If you meant to do this, you must specify 'dtype=object' when creating the ndarray.\n",
      "  A = np.array(newlist)\n"
     ]
    },
    {
     "name": "stdout",
     "output_type": "stream",
     "text": [
      "error_data1_score_W3 0.8947368421052632 \n",
      "error_data1_score_W1 0.4473684210526316\n",
      "right_data1_score_W_combnie 0.7817258883248731 \n",
      "Finish one training *********\n",
      "2\n",
      "right_data2_score_W1 1.0 \n",
      "error_data2_score_W3 1.0 \n",
      "error_data2_score_W1 0.625\n",
      "right_data2_score_W_combnie 0.8088235294117647 \n",
      "Finish one training *********\n",
      "3\n",
      " NO Error Data, Finish Training!\n",
      "all_train_score_W1: [0.9066904903712527]\n",
      "all_train_score_W_combine: [0.9285288862418106]\n",
      "test_score_W1 : [0.9105653382761817]\n",
      "test_score_W_combine: [0.9170528266913809]\n",
      "neuron unit number: 280\n",
      "*******************\n",
      "\n",
      "right_data0_score_W1 1.0 \n",
      "error_data0_score_W3 0.8281622911694511 \n",
      "error_data0_score_W1 0.5894988066825776\n",
      "right_data0_score_W_combnie 0.958207016024253 \n",
      "Finish one training *********\n",
      "1\n",
      "right_data1_score_W1 1.0 \n"
     ]
    },
    {
     "name": "stderr",
     "output_type": "stream",
     "text": [
      "C:\\JupyterDoc\\SOM\\optimizeW_CM_MultipleTrainingy_Frog.py:329: VisibleDeprecationWarning: Creating an ndarray from ragged nested sequences (which is a list-or-tuple of lists-or-tuples-or ndarrays with different lengths or shapes) is deprecated. If you meant to do this, you must specify 'dtype=object' when creating the ndarray.\n",
      "  A = np.array(newlist)\n"
     ]
    },
    {
     "name": "stdout",
     "output_type": "stream",
     "text": [
      "error_data1_score_W3 0.8888888888888888 \n",
      "error_data1_score_W1 0.375\n",
      "right_data1_score_W_combnie 0.8443804034582133 \n",
      "Finish one training *********\n",
      "2\n",
      "right_data2_score_W1 1.0 \n",
      "error_data2_score_W3 1.0 \n",
      "error_data2_score_W1 0.75\n",
      "right_data2_score_W_combnie 0.8125 \n",
      "Finish one training *********\n",
      "3\n",
      " NO Error Data, Finish Training!\n",
      "all_train_score_W1: [0.9168155648203296]\n",
      "all_train_score_W_combine: [0.9362715902322811]\n",
      "test_score_W1 : [0.9114921223354958]\n",
      "test_score_W_combine: [0.9189063948100092]\n",
      "neuron unit number: 300\n",
      "*******************\n",
      "\n",
      "right_data0_score_W1 1.0 \n",
      "error_data0_score_W3 0.8396436525612472 \n",
      "error_data0_score_W1 0.44766146993318484\n",
      "right_data0_score_W_combnie 0.9649084568439407 \n",
      "Finish one training *********\n",
      "1\n",
      "right_data1_score_W1 1.0 \n"
     ]
    },
    {
     "name": "stderr",
     "output_type": "stream",
     "text": [
      "C:\\JupyterDoc\\SOM\\optimizeW_CM_MultipleTrainingy_Frog.py:329: VisibleDeprecationWarning: Creating an ndarray from ragged nested sequences (which is a list-or-tuple of lists-or-tuples-or ndarrays with different lengths or shapes) is deprecated. If you meant to do this, you must specify 'dtype=object' when creating the ndarray.\n",
      "  A = np.array(newlist)\n"
     ]
    },
    {
     "name": "stdout",
     "output_type": "stream",
     "text": [
      "error_data1_score_W3 0.8472222222222222 \n",
      "error_data1_score_W1 0.4722222222222222\n",
      "right_data1_score_W_combnie 0.8037135278514589 \n",
      "Finish one training *********\n",
      "2\n",
      "right_data2_score_W1 1.0 \n",
      "error_data2_score_W3 1.0 \n",
      "error_data2_score_W1 0.6363636363636364\n",
      "right_data2_score_W_combnie 0.7213114754098361 \n",
      "Finish one training *********\n",
      "3\n",
      " NO Error Data, Finish Training!\n",
      "all_train_score_W1: [0.9108596386738138]\n",
      "all_train_score_W_combine: [0.9231685527099464]\n",
      "test_score_W1 : [0.9114921223354958]\n",
      "test_score_W_combine: [0.9036144578313253]\n"
     ]
    },
    {
     "data": {
      "image/png": "[encoded data removed]",
      "text/plain": [
       "<Figure size 432x288 with 1 Axes>"
      ]
     },
     "metadata": {
      "needs_background": "light"
     },
     "output_type": "display_data"
    },
    {
     "data": {
      "text/plain": [
       "Ttest_indResult(statistic=array([-2.15218242]), pvalue=array([0.01777848]))"
      ]
     },
     "execution_count": 5,
     "metadata": {},
     "output_type": "execute_result"
    }
   ],
   "source": [
    "max_num = [5,8,10,12,15,18,20,23,25,28,30,32,35,38,40,45,50,55,60,65,70,75,80,90,100,110,120,130,140,150]\n",
    "unit_list = []\n",
    "for x in max_num:\n",
    "    unit_list.append(2*x)\n",
    "all_train_score_W1 =[]\n",
    "all_train_score_W_combine =[]\n",
    "test_score_W1 = []\n",
    "test_score_W_combine= []\n",
    "\n",
    "for x in max_num:\n",
    "    print(\"neuron unit number: {}\".format(2*x))\n",
    "    print(\"*******************\\n\")\n",
    "    som = newSom.SOM(m= 2, n= x, dim=22) \n",
    "    optimize_W1 = optimizeW_CM_MultipleTrainingy_Frog.OptimizeW(som,csv_training,csv_test,10)\n",
    "    optimize_W1.runOptimize(3)\n",
    "    all_train_score_W1.append(optimize_W1.all_train_score_W1)\n",
    "    all_train_score_W_combine.append(optimize_W1.all_train_score_W_Combined)\n",
    "    test_score_W1.append(optimize_W1.test_score_W1)\n",
    "    test_score_W_combine.append(optimize_W1.test_score_W_combined)\n",
    "\n",
    "plt.plot(unit_list,all_train_score_W1,'r',label ='all_train_score_W1')\n",
    "plt.plot(unit_list,all_train_score_W_combine,'c',label ='all_train_score_W_combine')\n",
    "plt.plot(unit_list,test_score_W1,'y',label ='test_score_W1')\n",
    "plt.plot(unit_list,test_score_W_combine,'k',label ='test_score_W_combine')\n",
    "plt.legend()\n",
    "plt.show()\n",
    "\n",
    "stats.ttest_ind(test_score_W1, test_score_W_combine,alternative = 'less')"
   ]
  },
  {
   "cell_type": "code",
   "execution_count": 10,
   "id": "2f0a47a1",
   "metadata": {},
   "outputs": [
    {
     "name": "stdout",
     "output_type": "stream",
     "text": [
      "neuron unit number: 10\n",
      "*******************\n",
      "\n",
      "right_data0_score_W1 1.0 \n",
      "error_data0_score_W3 0.5839028094153379 \n",
      "error_data0_score_W1 0.41154138192862566\n",
      "right_data0_score_W_combnie 0.9956989247311828 \n",
      "Finish one training *********\n",
      "1\n",
      "right_data1_score_W1 1.0 \n",
      "error_data1_score_W3 0.5547445255474452 \n",
      "error_data1_score_W1 0.34306569343065696\n",
      "right_data1_score_W_combnie 0.9453836150845254 \n",
      "Finish one training *********\n",
      "2\n"
     ]
    },
    {
     "name": "stderr",
     "output_type": "stream",
     "text": [
      "C:\\JupyterDoc\\SOM\\optimizeW_CM_MultipleTrainingy_Frog.py:329: VisibleDeprecationWarning: Creating an ndarray from ragged nested sequences (which is a list-or-tuple of lists-or-tuples-or ndarrays with different lengths or shapes) is deprecated. If you meant to do this, you must specify 'dtype=object' when creating the ndarray.\n",
      "  A = np.array(newlist)\n"
     ]
    },
    {
     "name": "stdout",
     "output_type": "stream",
     "text": [
      "right_data2_score_W1 1.0 \n",
      "error_data2_score_W3 0.680327868852459 \n",
      "error_data2_score_W1 0.45081967213114754\n",
      "right_data2_score_W_combnie 0.8848684210526315 \n",
      "Finish one training *********\n",
      "3\n",
      " Max Training Time !\n",
      "all_train_score_W1: [0.7385348421679571]\n",
      "all_train_score_W_combine: [0.8205280921183244]\n",
      "test_score_W1 : [0.7493049119555144]\n",
      "test_score_W_combine: [0.8368860055607044]\n",
      "neuron unit number: 16\n",
      "*******************\n",
      "\n",
      "right_data0_score_W1 1.0 \n",
      "error_data0_score_W3 0.5677339901477833 \n",
      "error_data0_score_W1 0.4766009852216749\n",
      "right_data0_score_W_combnie 0.9663905325443787 \n",
      "Finish one training *********\n",
      "1\n",
      "right_data1_score_W1 1.0 \n",
      "error_data1_score_W3 0.5897435897435898 \n",
      "error_data1_score_W1 0.5384615384615384\n",
      "right_data1_score_W_combnie 0.7483731019522777 \n",
      "Finish one training *********\n",
      "2\n",
      "right_data2_score_W1 1.0 \n",
      "error_data2_score_W3 0.5625 \n"
     ]
    },
    {
     "name": "stderr",
     "output_type": "stream",
     "text": [
      "C:\\JupyterDoc\\SOM\\optimizeW_CM_MultipleTrainingy_Frog.py:329: VisibleDeprecationWarning: Creating an ndarray from ragged nested sequences (which is a list-or-tuple of lists-or-tuples-or ndarrays with different lengths or shapes) is deprecated. If you meant to do this, you must specify 'dtype=object' when creating the ndarray.\n",
      "  A = np.array(newlist)\n"
     ]
    },
    {
     "name": "stdout",
     "output_type": "stream",
     "text": [
      "error_data2_score_W1 0.3402777777777778\n",
      "right_data2_score_W_combnie 0.7777777777777778 \n",
      "Finish one training *********\n",
      "3\n",
      " Max Training Time !\n",
      "all_train_score_W1: [0.8387929323009728]\n",
      "all_train_score_W_combine: [0.8624181060154854]\n",
      "test_score_W1 : [0.8517145505097312]\n",
      "test_score_W_combine: [0.8702502316960148]\n",
      "neuron unit number: 20\n",
      "*******************\n",
      "\n",
      "right_data0_score_W1 1.0 \n",
      "error_data0_score_W3 0.6725888324873096 \n",
      "error_data0_score_W1 0.5215736040609137\n",
      "right_data0_score_W_combnie 0.9884678747940692 \n",
      "Finish one training *********\n",
      "1\n",
      "right_data1_score_W1 1.0 \n",
      "error_data1_score_W3 0.5542635658914729 \n",
      "error_data1_score_W1 0.38372093023255816\n",
      "right_data1_score_W_combnie 0.9264150943396227 \n",
      "Finish one training *********\n",
      "2\n",
      "right_data2_score_W1 1.0 \n"
     ]
    },
    {
     "name": "stderr",
     "output_type": "stream",
     "text": [
      "C:\\JupyterDoc\\SOM\\optimizeW_CM_MultipleTrainingy_Frog.py:329: VisibleDeprecationWarning: Creating an ndarray from ragged nested sequences (which is a list-or-tuple of lists-or-tuples-or ndarrays with different lengths or shapes) is deprecated. If you meant to do this, you must specify 'dtype=object' when creating the ndarray.\n",
      "  A = np.array(newlist)\n"
     ]
    },
    {
     "name": "stdout",
     "output_type": "stream",
     "text": [
      "error_data2_score_W3 0.5478260869565217 \n",
      "error_data2_score_W1 0.45217391304347826\n",
      "right_data2_score_W_combnie 0.8181818181818182 \n",
      "Finish one training *********\n",
      "3\n",
      " Max Training Time !\n",
      "all_train_score_W1: [0.8435576732181854]\n",
      "all_train_score_W_combine: [0.8800873535834822]\n",
      "test_score_W1 : [0.8623725671918443]\n",
      "test_score_W_combine: [0.8892493049119555]\n",
      "neuron unit number: 24\n",
      "*******************\n",
      "\n",
      "right_data0_score_W1 1.0 \n",
      "error_data0_score_W3 0.6945722171113156 \n",
      "error_data0_score_W1 0.44894204231830726\n",
      "right_data0_score_W_combnie 0.9827848101265823 \n",
      "Finish one training *********\n",
      "1\n",
      "right_data1_score_W1 1.0 \n",
      "error_data1_score_W3 0.6867469879518072 \n",
      "error_data1_score_W1 0.4457831325301205\n",
      "right_data1_score_W_combnie 0.7933774834437086 \n"
     ]
    },
    {
     "name": "stderr",
     "output_type": "stream",
     "text": [
      "C:\\JupyterDoc\\SOM\\optimizeW_CM_MultipleTrainingy_Frog.py:329: VisibleDeprecationWarning: Creating an ndarray from ragged nested sequences (which is a list-or-tuple of lists-or-tuples-or ndarrays with different lengths or shapes) is deprecated. If you meant to do this, you must specify 'dtype=object' when creating the ndarray.\n",
      "  A = np.array(newlist)\n"
     ]
    },
    {
     "name": "stdout",
     "output_type": "stream",
     "text": [
      "Finish one training *********\n",
      "2\n",
      "right_data2_score_W1 1.0 \n",
      "error_data2_score_W3 0.5480769230769231 \n",
      "error_data2_score_W1 0.38461538461538464\n",
      "right_data2_score_W_combnie 0.6052631578947368 \n",
      "Finish one training *********\n",
      "3\n",
      " Max Training Time !\n",
      "all_train_score_W1: [0.7841969426245782]\n",
      "all_train_score_W_combine: [0.8689696247766527]\n",
      "test_score_W1 : [0.8016682113067656]\n",
      "test_score_W_combine: [0.8683966635773864]\n",
      "neuron unit number: 30\n",
      "*******************\n",
      "\n",
      "right_data0_score_W1 1.0 \n",
      "error_data0_score_W3 0.7344262295081967 \n",
      "error_data0_score_W1 0.5770491803278689\n",
      "right_data0_score_W_combnie 0.9769595662977185 \n",
      "Finish one training *********\n",
      "1\n",
      "right_data1_score_W1 1.0 \n",
      "error_data1_score_W3 0.6111111111111112 \n",
      "error_data1_score_W1 0.41358024691358025\n",
      "right_data1_score_W_combnie 0.8392857142857143 \n",
      "Finish one training *********\n",
      "2\n",
      "right_data2_score_W1 1.0 \n",
      "error_data2_score_W3 0.8095238095238095 \n",
      "error_data2_score_W1 0.4444444444444444\n"
     ]
    },
    {
     "name": "stderr",
     "output_type": "stream",
     "text": [
      "C:\\JupyterDoc\\SOM\\optimizeW_CM_MultipleTrainingy_Frog.py:329: VisibleDeprecationWarning: Creating an ndarray from ragged nested sequences (which is a list-or-tuple of lists-or-tuples-or ndarrays with different lengths or shapes) is deprecated. If you meant to do this, you must specify 'dtype=object' when creating the ndarray.\n",
      "  A = np.array(newlist)\n"
     ]
    },
    {
     "name": "stdout",
     "output_type": "stream",
     "text": [
      "right_data2_score_W_combnie 0.7878787878787878 \n",
      "Finish one training *********\n",
      "3\n",
      " Max Training Time !\n",
      "all_train_score_W1: [0.878896168354179]\n",
      "all_train_score_W_combine: [0.9186023426642843]\n",
      "test_score_W1 : [0.881371640407785]\n",
      "test_score_W_combine: [0.9189063948100092]\n",
      "neuron unit number: 36\n",
      "*******************\n",
      "\n",
      "right_data0_score_W1 1.0 \n",
      "error_data0_score_W3 0.6673040152963671 \n",
      "error_data0_score_W1 0.5296367112810707\n",
      "right_data0_score_W_combnie 0.9596809924678777 \n",
      "Finish one training *********\n",
      "1\n",
      "right_data1_score_W1 1.0 \n",
      "error_data1_score_W3 0.6839080459770115 \n",
      "error_data1_score_W1 0.5057471264367817\n",
      "right_data1_score_W_combnie 0.6934097421203438 \n",
      "Finish one training *********\n",
      "2\n",
      "right_data2_score_W1 1.0 \n",
      "error_data2_score_W3 0.7818181818181819 \n",
      "error_data2_score_W1 0.509090909090909\n",
      "right_data2_score_W_combnie 0.6638655462184874 \n",
      "Finish one training *********\n",
      "3\n",
      " Max Training Time !\n"
     ]
    },
    {
     "name": "stderr",
     "output_type": "stream",
     "text": [
      "C:\\JupyterDoc\\SOM\\optimizeW_CM_MultipleTrainingy_Frog.py:329: VisibleDeprecationWarning: Creating an ndarray from ragged nested sequences (which is a list-or-tuple of lists-or-tuples-or ndarrays with different lengths or shapes) is deprecated. If you meant to do this, you must specify 'dtype=object' when creating the ndarray.\n",
      "  A = np.array(newlist)\n"
     ]
    },
    {
     "name": "stdout",
     "output_type": "stream",
     "text": [
      "all_train_score_W1: [0.8961683541790748]\n",
      "all_train_score_W_combine: [0.9203891205082391]\n",
      "test_score_W1 : [0.8975903614457831]\n",
      "test_score_W_combine: [0.9091751621872104]\n",
      "neuron unit number: 40\n",
      "*******************\n",
      "\n",
      "right_data0_score_W1 1.0 \n",
      "error_data0_score_W3 0.7696709585121603 \n",
      "error_data0_score_W1 0.4520743919885551\n",
      "right_data0_score_W_combnie 0.9727985246657446 \n",
      "Finish one training *********\n",
      "1\n",
      "right_data1_score_W1 1.0 \n",
      "error_data1_score_W3 0.7080745341614907 \n",
      "error_data1_score_W1 0.40372670807453415\n"
     ]
    },
    {
     "name": "stderr",
     "output_type": "stream",
     "text": [
      "C:\\JupyterDoc\\SOM\\optimizeW_CM_MultipleTrainingy_Frog.py:329: VisibleDeprecationWarning: Creating an ndarray from ragged nested sequences (which is a list-or-tuple of lists-or-tuples-or ndarrays with different lengths or shapes) is deprecated. If you meant to do this, you must specify 'dtype=object' when creating the ndarray.\n",
      "  A = np.array(newlist)\n"
     ]
    },
    {
     "name": "stdout",
     "output_type": "stream",
     "text": [
      "right_data1_score_W_combnie 0.8327137546468402 \n",
      "Finish one training *********\n",
      "2\n",
      "right_data2_score_W1 1.0 \n",
      "error_data2_score_W3 0.9361702127659575 \n",
      "error_data2_score_W1 0.44680851063829785\n",
      "right_data2_score_W_combnie 0.7368421052631579 \n",
      "Finish one training *********\n",
      "3\n",
      " Max Training Time !\n",
      "all_train_score_W1: [0.8612269207861822]\n",
      "all_train_score_W_combine: [0.9031169346833433]\n",
      "test_score_W1 : [0.8744207599629287]\n",
      "test_score_W_combine: [0.9114921223354958]\n",
      "neuron unit number: 46\n",
      "*******************\n",
      "\n",
      "right_data0_score_W1 1.0 \n",
      "error_data0_score_W3 0.7796852646638054 \n",
      "error_data0_score_W1 0.45779685264663805\n",
      "right_data0_score_W_combnie 0.9522821576763485 \n",
      "Finish one training *********\n",
      "1\n",
      "right_data1_score_W1 1.0 \n",
      "error_data1_score_W3 0.7922077922077922 \n",
      "error_data1_score_W1 0.5\n"
     ]
    },
    {
     "name": "stderr",
     "output_type": "stream",
     "text": [
      "C:\\JupyterDoc\\SOM\\optimizeW_CM_MultipleTrainingy_Frog.py:329: VisibleDeprecationWarning: Creating an ndarray from ragged nested sequences (which is a list-or-tuple of lists-or-tuples-or ndarrays with different lengths or shapes) is deprecated. If you meant to do this, you must specify 'dtype=object' when creating the ndarray.\n",
      "  A = np.array(newlist)\n"
     ]
    },
    {
     "name": "stdout",
     "output_type": "stream",
     "text": [
      "right_data1_score_W_combnie 0.8550458715596331 \n",
      "Finish one training *********\n",
      "2\n",
      "right_data2_score_W1 1.0 \n",
      "error_data2_score_W3 0.90625 \n",
      "error_data2_score_W1 0.4375\n",
      "right_data2_score_W_combnie 0.7622950819672131 \n",
      "Finish one training *********\n",
      "3\n",
      " Max Training Time !\n",
      "all_train_score_W1: [0.8612269207861822]\n",
      "all_train_score_W_combine: [0.9174111574349811]\n",
      "test_score_W1 : [0.8651529193697869]\n",
      "test_score_W_combine: [0.9184430027803522]\n",
      "neuron unit number: 50\n",
      "*******************\n",
      "\n",
      "right_data0_score_W1 1.0 \n",
      "error_data0_score_W3 0.7957198443579766 \n",
      "error_data0_score_W1 0.6011673151750972\n",
      "right_data0_score_W_combnie 0.9356621711253593 \n",
      "Finish one training *********\n",
      "1\n",
      "right_data1_score_W1 1.0 \n",
      "error_data1_score_W3 0.7619047619047619 \n",
      "error_data1_score_W1 0.4857142857142857\n",
      "right_data1_score_W_combnie 0.8533007334963325 \n",
      "Finish one training *********\n",
      "2\n",
      "right_data2_score_W1 1.0 \n"
     ]
    },
    {
     "name": "stderr",
     "output_type": "stream",
     "text": [
      "C:\\JupyterDoc\\SOM\\optimizeW_CM_MultipleTrainingy_Frog.py:329: VisibleDeprecationWarning: Creating an ndarray from ragged nested sequences (which is a list-or-tuple of lists-or-tuples-or ndarrays with different lengths or shapes) is deprecated. If you meant to do this, you must specify 'dtype=object' when creating the ndarray.\n",
      "  A = np.array(newlist)\n"
     ]
    },
    {
     "name": "stdout",
     "output_type": "stream",
     "text": [
      "error_data2_score_W3 0.96 \n",
      "error_data2_score_W1 0.68\n",
      "right_data2_score_W_combnie 0.8 \n",
      "Finish one training *********\n",
      "3\n",
      " Max Training Time !\n",
      "all_train_score_W1: [0.8979551320230296]\n",
      "all_train_score_W_combine: [0.916219972205678]\n",
      "test_score_W1 : [0.9008341056533827]\n",
      "test_score_W_combine: [0.917516218721038]\n",
      "neuron unit number: 56\n",
      "*******************\n",
      "\n",
      "right_data0_score_W1 1.0 \n",
      "error_data0_score_W3 0.8118081180811808 \n",
      "error_data0_score_W1 0.533210332103321\n",
      "right_data0_score_W_combnie 0.9672969966629589 \n",
      "Finish one training *********\n",
      "1\n",
      "right_data1_score_W1 1.0 \n",
      "error_data1_score_W3 0.8529411764705882 \n",
      "error_data1_score_W1 0.5098039215686274\n",
      "right_data1_score_W_combnie 0.7863636363636364 \n",
      "Finish one training *********\n",
      "2\n"
     ]
    },
    {
     "name": "stderr",
     "output_type": "stream",
     "text": [
      "C:\\JupyterDoc\\SOM\\optimizeW_CM_MultipleTrainingy_Frog.py:329: VisibleDeprecationWarning: Creating an ndarray from ragged nested sequences (which is a list-or-tuple of lists-or-tuples-or ndarrays with different lengths or shapes) is deprecated. If you meant to do this, you must specify 'dtype=object' when creating the ndarray.\n",
      "  A = np.array(newlist)\n"
     ]
    },
    {
     "name": "stdout",
     "output_type": "stream",
     "text": [
      "right_data2_score_W1 1.0 \n",
      "error_data2_score_W3 1.0 \n",
      "error_data2_score_W1 0.6666666666666666\n",
      "right_data2_score_W_combnie 0.7241379310344828 \n",
      "Finish one training *********\n",
      "3\n",
      " NO Error Data, Finish Training!\n",
      "all_train_score_W1: [0.8923962676196149]\n",
      "all_train_score_W_combine: [0.9058963668850506]\n",
      "test_score_W1 : [0.8934198331788693]\n",
      "test_score_W_combine: [0.9008341056533827]\n",
      "neuron unit number: 60\n",
      "*******************\n",
      "\n",
      "right_data0_score_W1 1.0 \n",
      "error_data0_score_W3 0.7903780068728522 \n",
      "error_data0_score_W1 0.5498281786941581\n",
      "right_data0_score_W_combnie 0.9658810325476992 \n",
      "Finish one training *********\n",
      "1\n",
      "right_data1_score_W1 1.0 \n",
      "error_data1_score_W3 0.7622950819672131 \n",
      "error_data1_score_W1 0.4426229508196721\n"
     ]
    },
    {
     "name": "stderr",
     "output_type": "stream",
     "text": [
      "C:\\JupyterDoc\\SOM\\optimizeW_CM_MultipleTrainingy_Frog.py:329: VisibleDeprecationWarning: Creating an ndarray from ragged nested sequences (which is a list-or-tuple of lists-or-tuples-or ndarrays with different lengths or shapes) is deprecated. If you meant to do this, you must specify 'dtype=object' when creating the ndarray.\n",
      "  A = np.array(newlist)\n"
     ]
    },
    {
     "name": "stdout",
     "output_type": "stream",
     "text": [
      "right_data1_score_W_combnie 0.8521739130434782 \n",
      "Finish one training *********\n",
      "2\n",
      "right_data2_score_W1 1.0 \n",
      "error_data2_score_W3 0.9655172413793104 \n",
      "error_data2_score_W1 0.4827586206896552\n",
      "right_data2_score_W_combnie 0.7204301075268817 \n",
      "Finish one training *********\n",
      "3\n",
      " Max Training Time !\n",
      "all_train_score_W1: [0.8844550327575939]\n",
      "all_train_score_W_combine: [0.9332936271590232]\n",
      "test_score_W1 : [0.8924930491195552]\n",
      "test_score_W_combine: [0.9267840593141798]\n",
      "neuron unit number: 64\n",
      "*******************\n",
      "\n",
      "right_data0_score_W1 1.0 \n",
      "error_data0_score_W3 0.8133086876155268 \n",
      "error_data0_score_W1 0.5157116451016636\n",
      "right_data0_score_W_combnie 0.9762010676156584 \n",
      "Finish one training *********\n",
      "1\n",
      "right_data1_score_W1 1.0 \n",
      "error_data1_score_W3 0.801980198019802 \n",
      "error_data1_score_W1 0.5247524752475248\n"
     ]
    },
    {
     "name": "stderr",
     "output_type": "stream",
     "text": [
      "C:\\JupyterDoc\\SOM\\optimizeW_CM_MultipleTrainingy_Frog.py:329: VisibleDeprecationWarning: Creating an ndarray from ragged nested sequences (which is a list-or-tuple of lists-or-tuples-or ndarrays with different lengths or shapes) is deprecated. If you meant to do this, you must specify 'dtype=object' when creating the ndarray.\n",
      "  A = np.array(newlist)\n"
     ]
    },
    {
     "name": "stdout",
     "output_type": "stream",
     "text": [
      "right_data1_score_W_combnie 0.8340909090909091 \n",
      "Finish one training *********\n",
      "2\n",
      "right_data2_score_W1 1.0 \n",
      "error_data2_score_W3 0.9 \n",
      "error_data2_score_W1 0.45\n",
      "right_data2_score_W_combnie 0.7530864197530864 \n",
      "Finish one training *********\n",
      "3\n",
      " Max Training Time !\n",
      "all_train_score_W1: [0.8925947984911654]\n",
      "all_train_score_W_combine: [0.9273377010125075]\n",
      "test_score_W1 : [0.9050046339202966]\n",
      "test_score_W_combine: [0.9286376274328082]\n",
      "neuron unit number: 70\n",
      "*******************\n",
      "\n",
      "right_data0_score_W1 1.0 \n",
      "error_data0_score_W3 0.8232931726907631 \n",
      "error_data0_score_W1 0.5120481927710844\n",
      "right_data0_score_W_combnie 0.9742233972240582 \n",
      "Finish one training *********\n",
      "1\n",
      "right_data1_score_W1 1.0 \n",
      "error_data1_score_W3 0.8409090909090909 \n",
      "error_data1_score_W1 0.4318181818181818\n",
      "right_data1_score_W_combnie 0.8512195121951219 \n",
      "Finish one training *********\n",
      "2\n"
     ]
    },
    {
     "name": "stderr",
     "output_type": "stream",
     "text": [
      "C:\\JupyterDoc\\SOM\\optimizeW_CM_MultipleTrainingy_Frog.py:329: VisibleDeprecationWarning: Creating an ndarray from ragged nested sequences (which is a list-or-tuple of lists-or-tuples-or ndarrays with different lengths or shapes) is deprecated. If you meant to do this, you must specify 'dtype=object' when creating the ndarray.\n",
      "  A = np.array(newlist)\n"
     ]
    },
    {
     "name": "stdout",
     "output_type": "stream",
     "text": [
      "right_data2_score_W1 1.0 \n",
      "error_data2_score_W3 0.9285714285714286 \n",
      "error_data2_score_W1 0.5714285714285714\n",
      "right_data2_score_W_combnie 0.7027027027027027 \n",
      "Finish one training *********\n",
      "3\n",
      " Max Training Time !\n",
      "all_train_score_W1: [0.901131625967838]\n",
      "all_train_score_W_combine: [0.9412348620210442]\n",
      "test_score_W1 : [0.9082483781278962]\n",
      "test_score_W_combine: [0.9309545875810936]\n",
      "neuron unit number: 76\n",
      "*******************\n",
      "\n",
      "right_data0_score_W1 1.0 \n",
      "error_data0_score_W3 0.8096330275229358 \n",
      "error_data0_score_W1 0.45871559633027525\n",
      "right_data0_score_W_combnie 0.9608780699847859 \n",
      "Finish one training *********\n",
      "1\n",
      "right_data1_score_W1 1.0 \n",
      "error_data1_score_W3 0.8192771084337349 \n",
      "error_data1_score_W1 0.43373493975903615\n"
     ]
    },
    {
     "name": "stderr",
     "output_type": "stream",
     "text": [
      "C:\\JupyterDoc\\SOM\\optimizeW_CM_MultipleTrainingy_Frog.py:329: VisibleDeprecationWarning: Creating an ndarray from ragged nested sequences (which is a list-or-tuple of lists-or-tuples-or ndarrays with different lengths or shapes) is deprecated. If you meant to do this, you must specify 'dtype=object' when creating the ndarray.\n",
      "  A = np.array(newlist)\n"
     ]
    },
    {
     "name": "stdout",
     "output_type": "stream",
     "text": [
      "right_data1_score_W_combnie 0.773371104815864 \n",
      "Finish one training *********\n",
      "2\n",
      "right_data2_score_W1 1.0 \n",
      "error_data2_score_W3 1.0 \n",
      "error_data2_score_W1 0.5333333333333333\n",
      "right_data2_score_W_combnie 0.6911764705882353 \n",
      "Finish one training *********\n",
      "3\n",
      " NO Error Data, Finish Training!\n",
      "all_train_score_W1: [0.9134405400039706]\n",
      "all_train_score_W_combine: [0.9136390708755211]\n",
      "test_score_W1 : [0.9147358665430955]\n",
      "test_score_W_combine: [0.9142724745134384]\n",
      "neuron unit number: 80\n",
      "*******************\n",
      "\n",
      "right_data0_score_W1 1.0 \n",
      "error_data0_score_W3 0.7567049808429118 \n",
      "error_data0_score_W1 0.5210727969348659\n",
      "right_data0_score_W_combnie 0.9705426356589147 \n",
      "Finish one training *********\n",
      "1\n",
      "right_data1_score_W1 1.0 \n",
      "error_data1_score_W3 0.7480314960629921 \n",
      "error_data1_score_W1 0.49606299212598426\n"
     ]
    },
    {
     "name": "stderr",
     "output_type": "stream",
     "text": [
      "C:\\JupyterDoc\\SOM\\optimizeW_CM_MultipleTrainingy_Frog.py:329: VisibleDeprecationWarning: Creating an ndarray from ragged nested sequences (which is a list-or-tuple of lists-or-tuples-or ndarrays with different lengths or shapes) is deprecated. If you meant to do this, you must specify 'dtype=object' when creating the ndarray.\n",
      "  A = np.array(newlist)\n"
     ]
    },
    {
     "name": "stdout",
     "output_type": "stream",
     "text": [
      "right_data1_score_W_combnie 0.8151898734177215 \n",
      "Finish one training *********\n",
      "2\n",
      "right_data2_score_W1 1.0 \n",
      "error_data2_score_W3 1.0 \n",
      "error_data2_score_W1 0.5625\n",
      "right_data2_score_W_combnie 0.7473684210526316 \n",
      "Finish one training *********\n",
      "3\n",
      " NO Error Data, Finish Training!\n",
      "all_train_score_W1: [0.8963668850506253]\n",
      "all_train_score_W_combine: [0.9225729600952948]\n",
      "test_score_W1 : [0.8999073215940686]\n",
      "test_score_W_combine: [0.9184430027803522]\n",
      "neuron unit number: 90\n",
      "*******************\n",
      "\n",
      "right_data0_score_W1 1.0 \n",
      "error_data0_score_W3 0.8031358885017421 \n",
      "error_data0_score_W1 0.42857142857142855\n",
      "right_data0_score_W_combnie 0.9327806408245575 \n",
      "Finish one training *********\n",
      "1\n",
      "right_data1_score_W1 1.0 \n",
      "error_data1_score_W3 0.831858407079646 \n"
     ]
    },
    {
     "name": "stderr",
     "output_type": "stream",
     "text": [
      "C:\\JupyterDoc\\SOM\\optimizeW_CM_MultipleTrainingy_Frog.py:329: VisibleDeprecationWarning: Creating an ndarray from ragged nested sequences (which is a list-or-tuple of lists-or-tuples-or ndarrays with different lengths or shapes) is deprecated. If you meant to do this, you must specify 'dtype=object' when creating the ndarray.\n",
      "  A = np.array(newlist)\n"
     ]
    },
    {
     "name": "stdout",
     "output_type": "stream",
     "text": [
      "error_data1_score_W1 0.45132743362831856\n",
      "right_data1_score_W_combnie 0.89587852494577 \n",
      "Finish one training *********\n",
      "2\n",
      "right_data2_score_W1 1.0 \n",
      "error_data2_score_W3 0.9473684210526315 \n",
      "error_data2_score_W1 0.47368421052631576\n",
      "right_data2_score_W_combnie 0.6914893617021277 \n",
      "Finish one training *********\n",
      "3\n",
      " Max Training Time !\n",
      "all_train_score_W1: [0.886043279729998]\n",
      "all_train_score_W_combine: [0.9019257494540401]\n",
      "test_score_W1 : [0.8906394810009268]\n",
      "test_score_W_combine: [0.8952734012974977]\n",
      "neuron unit number: 100\n",
      "*******************\n",
      "\n",
      "right_data0_score_W1 1.0 \n",
      "error_data0_score_W3 0.8442622950819673 \n",
      "error_data0_score_W1 0.47950819672131145\n",
      "right_data0_score_W_combnie 0.9771378324906573 \n",
      "Finish one training *********\n",
      "1\n",
      "right_data1_score_W1 1.0 \n",
      "error_data1_score_W3 0.868421052631579 \n",
      "error_data1_score_W1 0.4342105263157895\n"
     ]
    },
    {
     "name": "stderr",
     "output_type": "stream",
     "text": [
      "C:\\JupyterDoc\\SOM\\optimizeW_CM_MultipleTrainingy_Frog.py:329: VisibleDeprecationWarning: Creating an ndarray from ragged nested sequences (which is a list-or-tuple of lists-or-tuples-or ndarrays with different lengths or shapes) is deprecated. If you meant to do this, you must specify 'dtype=object' when creating the ndarray.\n",
      "  A = np.array(newlist)\n"
     ]
    },
    {
     "name": "stdout",
     "output_type": "stream",
     "text": [
      "right_data1_score_W_combnie 0.7936893203883495 \n",
      "Finish one training *********\n",
      "2\n",
      "right_data2_score_W1 1.0 \n",
      "error_data2_score_W3 1.0 \n",
      "error_data2_score_W1 0.7\n",
      "right_data2_score_W_combnie 0.7272727272727273 \n",
      "Finish one training *********\n",
      "3\n",
      " NO Error Data, Finish Training!\n",
      "all_train_score_W1: [0.9031169346833433]\n",
      "all_train_score_W_combine: [0.9311097875719675]\n",
      "test_score_W1 : [0.9114921223354958]\n",
      "test_score_W_combine: [0.9235403151065802]\n",
      "neuron unit number: 110\n",
      "*******************\n",
      "\n",
      "right_data0_score_W1 1.0 \n",
      "error_data0_score_W3 0.8232558139534883 \n",
      "error_data0_score_W1 0.5\n",
      "right_data0_score_W_combnie 0.9615802040373345 \n",
      "Finish one training *********\n",
      "1\n",
      "right_data1_score_W1 1.0 \n",
      "error_data1_score_W3 0.8421052631578947 \n",
      "error_data1_score_W1 0.5131578947368421\n"
     ]
    },
    {
     "name": "stderr",
     "output_type": "stream",
     "text": [
      "C:\\JupyterDoc\\SOM\\optimizeW_CM_MultipleTrainingy_Frog.py:329: VisibleDeprecationWarning: Creating an ndarray from ragged nested sequences (which is a list-or-tuple of lists-or-tuples-or ndarrays with different lengths or shapes) is deprecated. If you meant to do this, you must specify 'dtype=object' when creating the ndarray.\n",
      "  A = np.array(newlist)\n"
     ]
    },
    {
     "name": "stdout",
     "output_type": "stream",
     "text": [
      "right_data1_score_W_combnie 0.7344632768361582 \n",
      "Finish one training *********\n",
      "2\n",
      "right_data2_score_W1 1.0 \n",
      "error_data2_score_W3 0.8333333333333334 \n",
      "error_data2_score_W1 0.5833333333333334\n",
      "right_data2_score_W_combnie 0.875 \n",
      "Finish one training *********\n",
      "3\n",
      " Max Training Time !\n",
      "all_train_score_W1: [0.9146317252332737]\n",
      "all_train_score_W_combine: [0.9203891205082391]\n",
      "test_score_W1 : [0.9179796107506951]\n",
      "test_score_W_combine: [0.9142724745134384]\n",
      "neuron unit number: 120\n",
      "*******************\n",
      "\n",
      "right_data0_score_W1 1.0 \n",
      "error_data0_score_W3 0.7664884135472371 \n",
      "error_data0_score_W1 0.46345811051693403\n",
      "right_data0_score_W_combnie 0.9591152815013405 \n",
      "Finish one training *********\n",
      "1\n",
      "right_data1_score_W1 1.0 \n"
     ]
    },
    {
     "name": "stderr",
     "output_type": "stream",
     "text": [
      "C:\\JupyterDoc\\SOM\\optimizeW_CM_MultipleTrainingy_Frog.py:329: VisibleDeprecationWarning: Creating an ndarray from ragged nested sequences (which is a list-or-tuple of lists-or-tuples-or ndarrays with different lengths or shapes) is deprecated. If you meant to do this, you must specify 'dtype=object' when creating the ndarray.\n",
      "  A = np.array(newlist)\n"
     ]
    },
    {
     "name": "stdout",
     "output_type": "stream",
     "text": [
      "error_data1_score_W3 0.816793893129771 \n",
      "error_data1_score_W1 0.549618320610687\n",
      "right_data1_score_W_combnie 0.8697674418604651 \n",
      "Finish one training *********\n",
      "2\n",
      "right_data2_score_W1 1.0 \n",
      "error_data2_score_W3 1.0 \n",
      "error_data2_score_W1 0.5\n",
      "right_data2_score_W_combnie 0.822429906542056 \n",
      "Finish one training *********\n",
      "3\n",
      " NO Error Data, Finish Training!\n",
      "all_train_score_W1: [0.8886241810601548]\n",
      "all_train_score_W_combine: [0.8902124280325591]\n",
      "test_score_W1 : [0.8906394810009268]\n",
      "test_score_W_combine: [0.8901760889712697]\n",
      "neuron unit number: 130\n",
      "*******************\n",
      "\n",
      "right_data0_score_W1 1.0 \n",
      "error_data0_score_W3 0.7439293598233996 \n",
      "error_data0_score_W1 0.45695364238410596\n",
      "right_data0_score_W_combnie 0.9742582897033158 \n",
      "Finish one training *********\n",
      "1\n",
      "right_data1_score_W1 1.0 \n"
     ]
    },
    {
     "name": "stderr",
     "output_type": "stream",
     "text": [
      "C:\\JupyterDoc\\SOM\\optimizeW_CM_MultipleTrainingy_Frog.py:329: VisibleDeprecationWarning: Creating an ndarray from ragged nested sequences (which is a list-or-tuple of lists-or-tuples-or ndarrays with different lengths or shapes) is deprecated. If you meant to do this, you must specify 'dtype=object' when creating the ndarray.\n",
      "  A = np.array(newlist)\n"
     ]
    },
    {
     "name": "stdout",
     "output_type": "stream",
     "text": [
      "error_data1_score_W3 0.853448275862069 \n",
      "error_data1_score_W1 0.49137931034482757\n",
      "right_data1_score_W_combnie 0.9020771513353115 \n",
      "Finish one training *********\n",
      "2\n",
      "right_data2_score_W1 1.0 \n",
      "error_data2_score_W3 0.9411764705882353 \n",
      "error_data2_score_W1 0.4117647058823529\n",
      "right_data2_score_W_combnie 0.797979797979798 \n",
      "Finish one training *********\n",
      "3\n",
      " Max Training Time !\n",
      "all_train_score_W1: [0.9100655151876117]\n",
      "all_train_score_W_combine: [0.9527496525709748]\n",
      "test_score_W1 : [0.9119555143651529]\n",
      "test_score_W_combine: [0.9467099165894347]\n",
      "neuron unit number: 140\n",
      "*******************\n",
      "\n",
      "right_data0_score_W1 1.0 \n",
      "error_data0_score_W3 0.8096446700507615 \n",
      "error_data0_score_W1 0.46954314720812185\n",
      "right_data0_score_W_combnie 0.9558475123842344 \n",
      "Finish one training *********\n",
      "1\n",
      "right_data1_score_W1 1.0 \n",
      "error_data1_score_W3 0.8533333333333334 \n",
      "error_data1_score_W1 0.4533333333333333\n"
     ]
    },
    {
     "name": "stderr",
     "output_type": "stream",
     "text": [
      "C:\\JupyterDoc\\SOM\\optimizeW_CM_MultipleTrainingy_Frog.py:329: VisibleDeprecationWarning: Creating an ndarray from ragged nested sequences (which is a list-or-tuple of lists-or-tuples-or ndarrays with different lengths or shapes) is deprecated. If you meant to do this, you must specify 'dtype=object' when creating the ndarray.\n",
      "  A = np.array(newlist)\n"
     ]
    },
    {
     "name": "stdout",
     "output_type": "stream",
     "text": [
      "right_data1_score_W_combnie 0.8652037617554859 \n",
      "Finish one training *********\n",
      "2\n",
      "right_data2_score_W1 1.0 \n",
      "error_data2_score_W3 1.0 \n",
      "error_data2_score_W1 0.8181818181818182\n",
      "right_data2_score_W_combnie 0.828125 \n",
      "Finish one training *********\n",
      "3\n",
      " NO Error Data, Finish Training!\n",
      "all_train_score_W1: [0.9217788366090928]\n",
      "all_train_score_W_combine: [0.93210244192972]\n",
      "test_score_W1 : [0.9240037071362373]\n",
      "test_score_W_combine: [0.9341983317886933]\n",
      "neuron unit number: 150\n",
      "*******************\n",
      "\n",
      "right_data0_score_W1 1.0 \n",
      "error_data0_score_W3 0.8262806236080178 \n",
      "error_data0_score_W1 0.5144766146993318\n",
      "right_data0_score_W_combnie 0.9548823016564952 \n",
      "Finish one training *********\n",
      "1\n",
      "right_data1_score_W1 1.0 \n",
      "error_data1_score_W3 0.8333333333333334 \n",
      "error_data1_score_W1 0.46153846153846156\n"
     ]
    },
    {
     "name": "stderr",
     "output_type": "stream",
     "text": [
      "C:\\JupyterDoc\\SOM\\optimizeW_CM_MultipleTrainingy_Frog.py:329: VisibleDeprecationWarning: Creating an ndarray from ragged nested sequences (which is a list-or-tuple of lists-or-tuples-or ndarrays with different lengths or shapes) is deprecated. If you meant to do this, you must specify 'dtype=object' when creating the ndarray.\n",
      "  A = np.array(newlist)\n"
     ]
    },
    {
     "name": "stdout",
     "output_type": "stream",
     "text": [
      "right_data1_score_W_combnie 0.8382749326145552 \n",
      "Finish one training *********\n",
      "2\n",
      "right_data2_score_W1 1.0 \n",
      "error_data2_score_W3 1.0 \n",
      "error_data2_score_W1 0.6923076923076923\n",
      "right_data2_score_W_combnie 0.8923076923076924 \n",
      "Finish one training *********\n",
      "3\n",
      " NO Error Data, Finish Training!\n",
      "all_train_score_W1: [0.9108596386738138]\n",
      "all_train_score_W_combine: [0.9225729600952948]\n",
      "test_score_W1 : [0.9189063948100092]\n",
      "test_score_W_combine: [0.917516218721038]\n",
      "neuron unit number: 160\n",
      "*******************\n",
      "\n",
      "right_data0_score_W1 1.0 \n",
      "error_data0_score_W3 0.8336106489184693 \n",
      "error_data0_score_W1 0.4059900166389351\n",
      "right_data0_score_W_combnie 0.9670874661857529 \n",
      "Finish one training *********\n",
      "1\n",
      "right_data1_score_W1 1.0 \n"
     ]
    },
    {
     "name": "stderr",
     "output_type": "stream",
     "text": [
      "C:\\JupyterDoc\\SOM\\optimizeW_CM_MultipleTrainingy_Frog.py:329: VisibleDeprecationWarning: Creating an ndarray from ragged nested sequences (which is a list-or-tuple of lists-or-tuples-or ndarrays with different lengths or shapes) is deprecated. If you meant to do this, you must specify 'dtype=object' when creating the ndarray.\n",
      "  A = np.array(newlist)\n"
     ]
    },
    {
     "name": "stdout",
     "output_type": "stream",
     "text": [
      "error_data1_score_W3 0.86 \n",
      "error_data1_score_W1 0.44\n",
      "right_data1_score_W_combnie 0.8882235528942116 \n",
      "Finish one training *********\n",
      "2\n",
      "right_data2_score_W1 1.0 \n",
      "error_data2_score_W3 1.0 \n",
      "error_data2_score_W1 0.5714285714285714\n",
      "right_data2_score_W_combnie 0.7790697674418605 \n",
      "Finish one training *********\n",
      "3\n",
      " NO Error Data, Finish Training!\n",
      "all_train_score_W1: [0.8806829461981338]\n",
      "all_train_score_W_combine: [0.9295215405995633]\n",
      "test_score_W1 : [0.8924930491195552]\n",
      "test_score_W_combine: [0.9267840593141798]\n",
      "neuron unit number: 180\n",
      "*******************\n",
      "\n",
      "right_data0_score_W1 1.0 \n",
      "error_data0_score_W3 0.842911877394636 \n",
      "error_data0_score_W1 0.5172413793103449\n",
      "right_data0_score_W_combnie 0.9612403100775194 \n",
      "Finish one training *********\n",
      "1\n",
      "right_data1_score_W1 1.0 \n"
     ]
    },
    {
     "name": "stderr",
     "output_type": "stream",
     "text": [
      "C:\\JupyterDoc\\SOM\\optimizeW_CM_MultipleTrainingy_Frog.py:329: VisibleDeprecationWarning: Creating an ndarray from ragged nested sequences (which is a list-or-tuple of lists-or-tuples-or ndarrays with different lengths or shapes) is deprecated. If you meant to do this, you must specify 'dtype=object' when creating the ndarray.\n",
      "  A = np.array(newlist)\n"
     ]
    },
    {
     "name": "stdout",
     "output_type": "stream",
     "text": [
      "error_data1_score_W3 0.9146341463414634 \n",
      "error_data1_score_W1 0.47560975609756095\n",
      "right_data1_score_W_combnie 0.7977272727272727 \n",
      "Finish one training *********\n",
      "2\n",
      "right_data2_score_W1 1.0 \n",
      "error_data2_score_W3 1.0 \n",
      "error_data2_score_W1 0.5714285714285714\n",
      "right_data2_score_W_combnie 0.7466666666666667 \n",
      "Finish one training *********\n",
      "3\n",
      " NO Error Data, Finish Training!\n",
      "all_train_score_W1: [0.8963668850506253]\n",
      "all_train_score_W_combine: [0.916617033948779]\n",
      "test_score_W1 : [0.9040778498609824]\n",
      "test_score_W_combine: [0.9198331788693235]\n",
      "neuron unit number: 200\n",
      "*******************\n",
      "\n",
      "right_data0_score_W1 1.0 \n",
      "error_data0_score_W3 0.8138297872340425 \n",
      "error_data0_score_W1 0.4973404255319149\n",
      "right_data0_score_W_combnie 0.9779017378245012 \n",
      "Finish one training *********\n",
      "1\n",
      "right_data1_score_W1 1.0 \n",
      "error_data1_score_W3 0.8142857142857143 \n"
     ]
    },
    {
     "name": "stderr",
     "output_type": "stream",
     "text": [
      "C:\\JupyterDoc\\SOM\\optimizeW_CM_MultipleTrainingy_Frog.py:329: VisibleDeprecationWarning: Creating an ndarray from ragged nested sequences (which is a list-or-tuple of lists-or-tuples-or ndarrays with different lengths or shapes) is deprecated. If you meant to do this, you must specify 'dtype=object' when creating the ndarray.\n",
      "  A = np.array(newlist)\n"
     ]
    },
    {
     "name": "stdout",
     "output_type": "stream",
     "text": [
      "error_data1_score_W1 0.4714285714285714\n",
      "right_data1_score_W_combnie 0.8725490196078431 \n",
      "Finish one training *********\n",
      "2\n",
      "right_data2_score_W1 1.0 \n",
      "error_data2_score_W3 1.0 \n",
      "error_data2_score_W1 0.46153846153846156\n",
      "right_data2_score_W_combnie 0.8421052631578947 \n",
      "Finish one training *********\n",
      "3\n",
      " NO Error Data, Finish Training!\n",
      "all_train_score_W1: [0.9253523922970022]\n",
      "all_train_score_W_combine: [0.9384554298193369]\n",
      "test_score_W1 : [0.9337349397590361]\n",
      "test_score_W_combine: [0.9258572752548656]\n",
      "neuron unit number: 220\n",
      "*******************\n",
      "\n",
      "right_data0_score_W1 1.0 \n",
      "error_data0_score_W3 0.75920245398773 \n",
      "error_data0_score_W1 0.49079754601226994\n",
      "right_data0_score_W_combnie 0.9651083238312429 \n",
      "Finish one training *********\n",
      "1\n",
      "right_data1_score_W1 1.0 \n"
     ]
    },
    {
     "name": "stderr",
     "output_type": "stream",
     "text": [
      "C:\\JupyterDoc\\SOM\\optimizeW_CM_MultipleTrainingy_Frog.py:329: VisibleDeprecationWarning: Creating an ndarray from ragged nested sequences (which is a list-or-tuple of lists-or-tuples-or ndarrays with different lengths or shapes) is deprecated. If you meant to do this, you must specify 'dtype=object' when creating the ndarray.\n",
      "  A = np.array(newlist)\n"
     ]
    },
    {
     "name": "stdout",
     "output_type": "stream",
     "text": [
      "error_data1_score_W3 0.8280254777070064 \n",
      "error_data1_score_W1 0.49044585987261147\n",
      "right_data1_score_W_combnie 0.8242424242424242 \n",
      "Finish one training *********\n",
      "2\n",
      "right_data2_score_W1 1.0 \n",
      "error_data2_score_W3 0.9629629629629629 \n",
      "error_data2_score_W1 0.6296296296296297\n",
      "right_data2_score_W_combnie 0.6923076923076923 \n",
      "Finish one training *********\n",
      "3\n",
      " Max Training Time !\n",
      "all_train_score_W1: [0.870557871749057]\n",
      "all_train_score_W_combine: [0.9231685527099464]\n",
      "test_score_W1 : [0.8758109360518999]\n",
      "test_score_W_combine: [0.9216867469879518]\n",
      "neuron unit number: 240\n",
      "*******************\n",
      "\n",
      "right_data0_score_W1 1.0 \n",
      "error_data0_score_W3 0.749613601236476 \n",
      "error_data0_score_W1 0.5780525502318392\n",
      "right_data0_score_W_combnie 0.9635535307517085 \n",
      "Finish one training *********\n",
      "1\n",
      "right_data1_score_W1 1.0 \n"
     ]
    },
    {
     "name": "stderr",
     "output_type": "stream",
     "text": [
      "C:\\JupyterDoc\\SOM\\optimizeW_CM_MultipleTrainingy_Frog.py:329: VisibleDeprecationWarning: Creating an ndarray from ragged nested sequences (which is a list-or-tuple of lists-or-tuples-or ndarrays with different lengths or shapes) is deprecated. If you meant to do this, you must specify 'dtype=object' when creating the ndarray.\n",
      "  A = np.array(newlist)\n"
     ]
    },
    {
     "name": "stdout",
     "output_type": "stream",
     "text": [
      "error_data1_score_W3 0.8209876543209876 \n",
      "error_data1_score_W1 0.5308641975308642\n",
      "right_data1_score_W_combnie 0.8082474226804124 \n",
      "Finish one training *********\n",
      "2\n",
      "right_data2_score_W1 1.0 \n",
      "error_data2_score_W3 0.9310344827586207 \n",
      "error_data2_score_W1 0.6551724137931034\n",
      "right_data2_score_W_combnie 0.7443609022556391 \n",
      "Finish one training *********\n",
      "3\n",
      " Max Training Time !\n",
      "all_train_score_W1: [0.8715505261068096]\n",
      "all_train_score_W_combine: [0.9255509231685527]\n",
      "test_score_W1 : [0.8901760889712697]\n",
      "test_score_W_combine: [0.9193697868396663]\n",
      "neuron unit number: 260\n",
      "*******************\n",
      "\n",
      "right_data0_score_W1 1.0 \n",
      "error_data0_score_W3 0.828752642706131 \n",
      "error_data0_score_W1 0.45454545454545453\n",
      "right_data0_score_W_combnie 0.9662576687116564 \n",
      "Finish one training *********\n",
      "1\n",
      "right_data1_score_W1 1.0 \n"
     ]
    },
    {
     "name": "stderr",
     "output_type": "stream",
     "text": [
      "C:\\JupyterDoc\\SOM\\optimizeW_CM_MultipleTrainingy_Frog.py:329: VisibleDeprecationWarning: Creating an ndarray from ragged nested sequences (which is a list-or-tuple of lists-or-tuples-or ndarrays with different lengths or shapes) is deprecated. If you meant to do this, you must specify 'dtype=object' when creating the ndarray.\n",
      "  A = np.array(newlist)\n"
     ]
    },
    {
     "name": "stdout",
     "output_type": "stream",
     "text": [
      "error_data1_score_W3 0.7654320987654321 \n",
      "error_data1_score_W1 0.4444444444444444\n",
      "right_data1_score_W_combnie 0.7423469387755102 \n",
      "Finish one training *********\n",
      "2\n",
      "right_data2_score_W1 1.0 \n",
      "error_data2_score_W3 0.9473684210526315 \n",
      "error_data2_score_W1 0.6842105263157895\n",
      "right_data2_score_W_combnie 0.7419354838709677 \n",
      "Finish one training *********\n",
      "3\n",
      " Max Training Time !\n",
      "all_train_score_W1: [0.9060948977566011]\n",
      "all_train_score_W_combine: [0.9255509231685527]\n",
      "test_score_W1 : [0.9128822984244671]\n",
      "test_score_W_combine: [0.9253938832252085]\n",
      "neuron unit number: 280\n",
      "*******************\n",
      "\n",
      "right_data0_score_W1 1.0 \n",
      "error_data0_score_W3 0.8292682926829268 \n",
      "error_data0_score_W1 0.626641651031895\n",
      "right_data0_score_W_combnie 0.9591474245115453 \n",
      "Finish one training *********\n",
      "1\n"
     ]
    },
    {
     "name": "stderr",
     "output_type": "stream",
     "text": [
      "C:\\JupyterDoc\\SOM\\optimizeW_CM_MultipleTrainingy_Frog.py:329: VisibleDeprecationWarning: Creating an ndarray from ragged nested sequences (which is a list-or-tuple of lists-or-tuples-or ndarrays with different lengths or shapes) is deprecated. If you meant to do this, you must specify 'dtype=object' when creating the ndarray.\n",
      "  A = np.array(newlist)\n"
     ]
    },
    {
     "name": "stdout",
     "output_type": "stream",
     "text": [
      "right_data1_score_W1 1.0 \n",
      "error_data1_score_W3 0.8791208791208791 \n",
      "error_data1_score_W1 0.5274725274725275\n",
      "right_data1_score_W_combnie 0.8755656108597285 \n",
      "Finish one training *********\n",
      "2\n",
      "right_data2_score_W1 1.0 \n",
      "error_data2_score_W3 1.0 \n",
      "error_data2_score_W1 0.45454545454545453\n",
      "right_data2_score_W_combnie 0.7 \n",
      "Finish one training *********\n",
      "3\n",
      " NO Error Data, Finish Training!\n",
      "all_train_score_W1: [0.8941830454635696]\n",
      "all_train_score_W_combine: [0.9251538614254516]\n",
      "test_score_W1 : [0.8948100092678406]\n",
      "test_score_W_combine: [0.9240037071362373]\n",
      "neuron unit number: 300\n",
      "*******************\n",
      "\n",
      "right_data0_score_W1 1.0 \n",
      "error_data0_score_W3 0.8401084010840109 \n",
      "error_data0_score_W1 0.5121951219512195\n",
      "right_data0_score_W_combnie 0.9500856898029134 \n",
      "Finish one training *********\n",
      "1\n",
      "right_data1_score_W1 1.0 \n"
     ]
    },
    {
     "name": "stderr",
     "output_type": "stream",
     "text": [
      "C:\\JupyterDoc\\SOM\\optimizeW_CM_MultipleTrainingy_Frog.py:329: VisibleDeprecationWarning: Creating an ndarray from ragged nested sequences (which is a list-or-tuple of lists-or-tuples-or ndarrays with different lengths or shapes) is deprecated. If you meant to do this, you must specify 'dtype=object' when creating the ndarray.\n",
      "  A = np.array(newlist)\n"
     ]
    },
    {
     "name": "stdout",
     "output_type": "stream",
     "text": [
      "error_data1_score_W3 0.8983050847457628 \n",
      "error_data1_score_W1 0.4915254237288136\n",
      "right_data1_score_W_combnie 0.7838709677419354 \n",
      "Finish one training *********\n",
      "2\n",
      "right_data2_score_W1 1.0 \n",
      "error_data2_score_W3 1.0 \n",
      "error_data2_score_W1 0.8333333333333334\n",
      "right_data2_score_W_combnie 0.7924528301886793 \n",
      "Finish one training *********\n",
      "3\n",
      " NO Error Data, Finish Training!\n",
      "all_train_score_W1: [0.9267421083978559]\n",
      "all_train_score_W_combine: [0.9249553305539011]\n",
      "test_score_W1 : [0.9346617238183503]\n",
      "test_score_W_combine: [0.9286376274328082]\n"
     ]
    },
    {
     "data": {
      "image/png": "[encoded data removed]",
      "text/plain": [
       "<Figure size 432x288 with 1 Axes>"
      ]
     },
     "metadata": {
      "needs_background": "light"
     },
     "output_type": "display_data"
    },
    {
     "name": "stdout",
     "output_type": "stream",
     "text": [
      "    test_score_W0\n",
      "0        0.749305\n",
      "1        0.851715\n",
      "2        0.862373\n",
      "3        0.801668\n",
      "4        0.881372\n",
      "5        0.897590\n",
      "6        0.874421\n",
      "7        0.865153\n",
      "8        0.900834\n",
      "9        0.893420\n",
      "10       0.892493\n",
      "11       0.905005\n",
      "12       0.908248\n",
      "13       0.914736\n",
      "14       0.899907\n",
      "15       0.890639\n",
      "16       0.911492\n",
      "17       0.917980\n",
      "18       0.890639\n",
      "19       0.911956\n",
      "20       0.924004\n",
      "21       0.918906\n",
      "22       0.892493\n",
      "23       0.904078\n",
      "24       0.933735\n",
      "25       0.875811\n",
      "26       0.890176\n",
      "27       0.912882\n",
      "28       0.894810\n",
      "29       0.934662\n",
      "    test_score_W'\n",
      "0        0.836886\n",
      "1        0.870250\n",
      "2        0.889249\n",
      "3        0.868397\n",
      "4        0.918906\n",
      "5        0.909175\n",
      "6        0.911492\n",
      "7        0.918443\n",
      "8        0.917516\n",
      "9        0.900834\n",
      "10       0.926784\n",
      "11       0.928638\n",
      "12       0.930955\n",
      "13       0.914272\n",
      "14       0.918443\n",
      "15       0.895273\n",
      "16       0.923540\n",
      "17       0.914272\n",
      "18       0.890176\n",
      "19       0.946710\n",
      "20       0.934198\n",
      "21       0.917516\n",
      "22       0.926784\n",
      "23       0.919833\n",
      "24       0.925857\n",
      "25       0.921687\n",
      "26       0.919370\n",
      "27       0.925394\n",
      "28       0.924004\n",
      "29       0.928638\n",
      "        Variable     N      Mean        SD        SE  95% Conf.  Interval\n",
      "0  test_score_W0  30.0  0.890083  0.037509  0.006848   0.876077  0.904090\n",
      "1  test_score_W'  30.0  0.912450  0.022587  0.004124   0.904016  0.920884\n",
      "2       combined  60.0  0.901267  0.032703  0.004222   0.892819  0.909715\n",
      "                              Independent t-test  results\n",
      "0  Difference (test_score_W0 - test_score_W') =   -0.0224\n",
      "1                          Degrees of freedom =   58.0000\n",
      "2                                           t =   -2.7979\n",
      "3                       Two side test p value =    0.0070\n",
      "4                      Difference < 0 p value =    0.0035\n",
      "5                      Difference > 0 p value =    0.9965\n",
      "6                                   Cohen's d =   -0.7224\n",
      "7                                   Hedge's g =   -0.7130\n",
      "8                               Glass's delta =   -0.5963\n",
      "9                                 Pearson's r =    0.3448\n"
     ]
    },
    {
     "name": "stderr",
     "output_type": "stream",
     "text": [
      "C:\\Users\\fooli\\anaconda3\\lib\\site-packages\\researchpy\\ttest.py:18: FutureWarning: The series.append method is deprecated and will be removed from pandas in a future version. Use pandas.concat instead.\n",
      "  groups = group1.append(group2, ignore_index= True)\n"
     ]
    },
    {
     "data": {
      "text/plain": [
       "Ttest_indResult(statistic=array([-2.79790935]), pvalue=array([0.00348471]))"
      ]
     },
     "execution_count": 10,
     "metadata": {},
     "output_type": "execute_result"
    }
   ],
   "source": [
    "max_num = [5,8,10,12,15,18,20,23,25,28,30,32,35,38,40,45,50,55,60,65,70,75,80,90,100,110,120,130,140,150]\n",
    "#max_num = [5]\n",
    "unit_list = []\n",
    "for x in max_num:\n",
    "    unit_list.append(2*x)\n",
    "all_train_score_W1 =[]\n",
    "all_train_score_W_combine =[]\n",
    "test_score_W1 = []\n",
    "test_score_W_combine= []\n",
    "\n",
    "for x in max_num:\n",
    "    print(\"neuron unit number: {}\".format(2*x))\n",
    "    print(\"*******************\\n\")\n",
    "    som = newSom.SOM(m= 2, n= x, dim=22) \n",
    "    optimize_W1 = optimizeW_CM_MultipleTrainingy_Frog.OptimizeW(som,csv_training,csv_test,10)\n",
    "    optimize_W1.runOptimize(3)\n",
    "    all_train_score_W1.append(optimize_W1.all_train_score_W1)\n",
    "    all_train_score_W_combine.append(optimize_W1.all_train_score_W_Combined)\n",
    "    test_score_W1.append(optimize_W1.test_score_W1)\n",
    "    test_score_W_combine.append(optimize_W1.test_score_W_combined)\n",
    "\n",
    "plt.plot(unit_list,all_train_score_W1,'r',label ='all_train_score_W0')\n",
    "plt.plot(unit_list,all_train_score_W_combine,'c',label ='all_train_score_W\\'')\n",
    "plt.plot(unit_list,test_score_W1,'y',label ='test_score_W0')\n",
    "plt.plot(unit_list,test_score_W_combine,'k',label ='test_score_W\\'')\n",
    "plt.legend()\n",
    "plt.show()\n",
    "\n",
    "\n",
    "          \n",
    "df1 = pd.DataFrame(test_score_W1, columns = ['test_score_W0'])\n",
    "df2 = pd.DataFrame(test_score_W_combine, columns = ['test_score_W\\''])\n",
    "\n",
    "summary, results = rp.ttest(group1= df1['test_score_W0'], group1_name= \"test_score_W0\",\n",
    "                            group2= df2['test_score_W\\''], group2_name= \"test_score_W\\'\")\n",
    "print(summary)\n",
    "print(results)\n",
    "\n",
    "\n",
    "stats.ttest_ind(test_score_W1, test_score_W_combine,alternative = 'less')"
   ]
  },
  {
   "cell_type": "code",
   "execution_count": null,
   "id": "feed066f",
   "metadata": {},
   "outputs": [],
   "source": []
  }
 ],
 "metadata": {
  "kernelspec": {
   "display_name": "Python 3 (ipykernel)",
   "language": "python",
   "name": "python3"
  },
  "language_info": {
   "codemirror_mode": {
    "name": "ipython",
    "version": 3
   },
   "file_extension": ".py",
   "mimetype": "text/x-python",
   "name": "python",
   "nbconvert_exporter": "python",
   "pygments_lexer": "ipython3",
   "version": "3.9.12"
  }
 },
 "nbformat": 4,
 "nbformat_minor": 5
}
