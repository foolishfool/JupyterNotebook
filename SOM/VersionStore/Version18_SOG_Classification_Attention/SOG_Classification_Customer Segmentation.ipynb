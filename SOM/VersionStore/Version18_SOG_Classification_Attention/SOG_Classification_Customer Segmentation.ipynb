{
 "cells": [
  {
   "cell_type": "code",
   "execution_count": 1,
   "id": "c389a61e",
   "metadata": {
    "scrolled": false
   },
   "outputs": [
    {
     "name": "stderr",
     "output_type": "stream",
     "text": [
      "C:\\Users\\fooli\\anaconda3\\envs\\gpu_env\\lib\\site-packages\\scipy\\__init__.py:132: UserWarning: A NumPy version >=1.21.6 and <1.28.0 is required for this version of SciPy (detected version 1.21.4)\n",
      "  warnings.warn(f\"A NumPy version >={np_minversion} and <{np_maxversion}\"\n"
     ]
    }
   ],
   "source": [
    "#THIS CODE ONLY DO THE WHOLE DATA TRAINING, NO CROSS_VALIDATION AND FEATURE SELECTION\n",
    "\n",
    "import pandas as pd\n",
    "import numpy as np\n",
    "import newSom \n",
    "import experiment\n",
    "import dataset_read\n",
    "import researchpy as rp\n",
    "import scipy.stats as stats\n",
    "import matplotlib.pyplot as plt\n",
    "import collections\n",
    "import warnings\n",
    "warnings.filterwarnings(\"ignore\", category=np.VisibleDeprecationWarning) "
   ]
  },
  {
   "cell_type": "code",
   "execution_count": 2,
   "id": "3d183742",
   "metadata": {},
   "outputs": [],
   "source": [
    "dataread = dataset_read.DATAREAD()"
   ]
  },
  {
   "cell_type": "code",
   "execution_count": 3,
   "id": "f83a1461",
   "metadata": {
    "scrolled": false
   },
   "outputs": [
    {
     "name": "stdout",
     "output_type": "stream",
     "text": [
      "self.continuous_feature_num 1\n",
      "self.data_discrete_indexes ['Gender', 'Ever_Married', 'Graduated', 'Profession', 'Work_Experience', 'Spending_Score', 'Family_Size'] \n"
     ]
    }
   ],
   "source": [
    "csv = pd.read_csv(\"CustomerSegmentation/Train.csv\")\n",
    "csv2 = pd.read_csv(\"CustomerSegmentation/Test.csv\")\n",
    "csv = csv.drop(columns=['ID','Segmentation'])\n",
    "csv2 = csv2.drop(columns=['ID'])   \n",
    "\n",
    "csv = csv.sample(int(csv.shape[0]*0.1))\n",
    "csv2 = csv2.sample(int(csv.shape[0]*0.1))\n",
    "\n",
    "\n",
    "\n",
    "csv['Family_Size'] = pd.to_numeric(csv['Family_Size'])\n",
    "csv2['Family_Size'] = pd.to_numeric(csv2['Family_Size'])\n",
    "csv['Work_Experience'] = pd.to_numeric(csv['Work_Experience'])\n",
    "csv2['Work_Experience'] = pd.to_numeric(csv2['Work_Experience'])\n",
    "\n",
    "\n",
    "\n",
    "dataread.label_encoding(csv,\"Gender\")\n",
    "dataread.label_encoding(csv,\"Ever_Married\")\n",
    "dataread.label_encoding(csv,\"Graduated\")\n",
    "dataread.label_encoding(csv,\"Profession\")\n",
    "dataread.label_encoding(csv,\"Spending_Score\")\n",
    "dataread.label_encoding(csv,\"Var_1\")\n",
    "dataread.label_encoding(csv,\"Family_Size\")\n",
    "dataread.label_encoding(csv,\"Work_Experience\")\n",
    "\n",
    "\n",
    "\n",
    "dataread.label_encoding(csv2,\"Gender\")\n",
    "dataread.label_encoding(csv2,\"Ever_Married\")\n",
    "dataread.label_encoding(csv2,\"Graduated\")\n",
    "dataread.label_encoding(csv2,\"Profession\")\n",
    "dataread.label_encoding(csv2,\"Spending_Score\")\n",
    "dataread.label_encoding(csv2,\"Var_1\")\n",
    "dataread.label_encoding(csv2,\"Family_Size\")\n",
    "dataread.label_encoding(csv2,\"Work_Experience\")\n",
    "\n",
    "\n",
    "\n",
    "csv_training = csv.sample(int(csv.shape[0]))\n",
    "\n",
    "csv_test = csv2\n",
    "\n",
    "\n",
    "dataread.initializedataset(csv,csv_training,csv_test,\"Var_1\")\n"
   ]
  },
  {
   "cell_type": "code",
   "execution_count": 6,
   "id": "9178a35a",
   "metadata": {
    "scrolled": true
   },
   "outputs": [
    {
     "name": "stdout",
     "output_type": "stream",
     "text": [
      "Experiment number: 1\n",
      "accuracy_score_orignial 0.0125\n",
      "recall_score_original 0.020833333333333332\n",
      "precision_score_original 0.0125\n",
      "f1_score_original 0.015625\n"
     ]
    },
    {
     "name": "stderr",
     "output_type": "stream",
     "text": [
      "C:\\Users\\fooli\\anaconda3\\envs\\gpu_env\\lib\\site-packages\\sklearn\\metrics\\_classification.py:1469: UndefinedMetricWarning: Recall is ill-defined and being set to 0.0 in labels with no true samples. Use `zero_division` parameter to control this behavior.\n",
      "  _warn_prf(average, modifier, msg_start, len(result))\n",
      "C:\\Users\\fooli\\anaconda3\\envs\\gpu_env\\lib\\site-packages\\sklearn\\metrics\\_classification.py:1469: UndefinedMetricWarning: Precision is ill-defined and being set to 0.0 in labels with no predicted samples. Use `zero_division` parameter to control this behavior.\n",
      "  _warn_prf(average, modifier, msg_start, len(result))\n",
      "C:\\Users\\fooli\\anaconda3\\envs\\gpu_env\\lib\\site-packages\\sklearn\\metrics\\_classification.py:1469: UndefinedMetricWarning: Recall is ill-defined and being set to 0.0 in labels with no true samples. Use `zero_division` parameter to control this behavior.\n",
      "  _warn_prf(average, modifier, msg_start, len(result))\n",
      "C:\\Users\\fooli\\anaconda3\\envs\\gpu_env\\lib\\site-packages\\sklearn\\metrics\\_classification.py:1469: UndefinedMetricWarning: Precision is ill-defined and being set to 0.0 in labels with no predicted samples. Use `zero_division` parameter to control this behavior.\n",
      "  _warn_prf(average, modifier, msg_start, len(result))\n"
     ]
    },
    {
     "name": "stdout",
     "output_type": "stream",
     "text": [
      "self.train_discrete_extra_sog_fuzzy shape (806, 200)\n",
      "accuracy_score_sog 0.025\n",
      "recall_score_sog 0.041666666666666664\n",
      "precision_score_sog 0.027777777777777776\n",
      "f1_score_sog 0.03333333333333333\n",
      "Experiment number: 2\n",
      "accuracy_score_orignial 0.025\n",
      "recall_score_original 0.041666666666666664\n",
      "precision_score_original 0.019230769230769232\n",
      "f1_score_original 0.02631578947368421\n",
      "self.train_discrete_extra_sog_fuzzy shape (806, 200)\n",
      "accuracy_score_sog 0.025\n",
      "recall_score_sog 0.041666666666666664\n",
      "precision_score_sog 0.019230769230769232\n",
      "f1_score_sog 0.02631578947368421\n",
      "Experiment number: 3\n"
     ]
    },
    {
     "name": "stderr",
     "output_type": "stream",
     "text": [
      "C:\\Users\\fooli\\anaconda3\\envs\\gpu_env\\lib\\site-packages\\sklearn\\metrics\\_classification.py:1469: UndefinedMetricWarning: Recall is ill-defined and being set to 0.0 in labels with no true samples. Use `zero_division` parameter to control this behavior.\n",
      "  _warn_prf(average, modifier, msg_start, len(result))\n",
      "C:\\Users\\fooli\\anaconda3\\envs\\gpu_env\\lib\\site-packages\\sklearn\\metrics\\_classification.py:1469: UndefinedMetricWarning: Precision is ill-defined and being set to 0.0 in labels with no predicted samples. Use `zero_division` parameter to control this behavior.\n",
      "  _warn_prf(average, modifier, msg_start, len(result))\n",
      "C:\\Users\\fooli\\anaconda3\\envs\\gpu_env\\lib\\site-packages\\sklearn\\metrics\\_classification.py:1469: UndefinedMetricWarning: Recall is ill-defined and being set to 0.0 in labels with no true samples. Use `zero_division` parameter to control this behavior.\n",
      "  _warn_prf(average, modifier, msg_start, len(result))\n",
      "C:\\Users\\fooli\\anaconda3\\envs\\gpu_env\\lib\\site-packages\\sklearn\\metrics\\_classification.py:1469: UndefinedMetricWarning: Precision is ill-defined and being set to 0.0 in labels with no predicted samples. Use `zero_division` parameter to control this behavior.\n",
      "  _warn_prf(average, modifier, msg_start, len(result))\n"
     ]
    },
    {
     "name": "stdout",
     "output_type": "stream",
     "text": [
      "accuracy_score_orignial 0.025\n",
      "recall_score_original 0.041666666666666664\n",
      "precision_score_original 0.020833333333333332\n",
      "f1_score_original 0.027777777777777776\n",
      "self.train_discrete_extra_sog_fuzzy shape (806, 200)\n",
      "accuracy_score_sog 0.025\n",
      "recall_score_sog 0.041666666666666664\n",
      "precision_score_sog 0.020833333333333332\n",
      "f1_score_sog 0.027777777777777776\n",
      "Experiment number: 4\n"
     ]
    },
    {
     "name": "stderr",
     "output_type": "stream",
     "text": [
      "C:\\Users\\fooli\\anaconda3\\envs\\gpu_env\\lib\\site-packages\\sklearn\\metrics\\_classification.py:1469: UndefinedMetricWarning: Recall is ill-defined and being set to 0.0 in labels with no true samples. Use `zero_division` parameter to control this behavior.\n",
      "  _warn_prf(average, modifier, msg_start, len(result))\n",
      "C:\\Users\\fooli\\anaconda3\\envs\\gpu_env\\lib\\site-packages\\sklearn\\metrics\\_classification.py:1469: UndefinedMetricWarning: Precision is ill-defined and being set to 0.0 in labels with no predicted samples. Use `zero_division` parameter to control this behavior.\n",
      "  _warn_prf(average, modifier, msg_start, len(result))\n",
      "C:\\Users\\fooli\\anaconda3\\envs\\gpu_env\\lib\\site-packages\\sklearn\\metrics\\_classification.py:1469: UndefinedMetricWarning: Recall is ill-defined and being set to 0.0 in labels with no true samples. Use `zero_division` parameter to control this behavior.\n",
      "  _warn_prf(average, modifier, msg_start, len(result))\n",
      "C:\\Users\\fooli\\anaconda3\\envs\\gpu_env\\lib\\site-packages\\sklearn\\metrics\\_classification.py:1469: UndefinedMetricWarning: Precision is ill-defined and being set to 0.0 in labels with no predicted samples. Use `zero_division` parameter to control this behavior.\n",
      "  _warn_prf(average, modifier, msg_start, len(result))\n"
     ]
    },
    {
     "name": "stdout",
     "output_type": "stream",
     "text": [
      "accuracy_score_orignial 0.025\n",
      "recall_score_original 0.041666666666666664\n",
      "precision_score_original 0.022727272727272728\n",
      "f1_score_original 0.029411764705882356\n",
      "self.train_discrete_extra_sog_fuzzy shape (806, 200)\n"
     ]
    },
    {
     "name": "stderr",
     "output_type": "stream",
     "text": [
      "C:\\Users\\fooli\\anaconda3\\envs\\gpu_env\\lib\\site-packages\\sklearn\\metrics\\_classification.py:1469: UndefinedMetricWarning: Recall is ill-defined and being set to 0.0 in labels with no true samples. Use `zero_division` parameter to control this behavior.\n",
      "  _warn_prf(average, modifier, msg_start, len(result))\n",
      "C:\\Users\\fooli\\anaconda3\\envs\\gpu_env\\lib\\site-packages\\sklearn\\metrics\\_classification.py:1469: UndefinedMetricWarning: Precision is ill-defined and being set to 0.0 in labels with no predicted samples. Use `zero_division` parameter to control this behavior.\n",
      "  _warn_prf(average, modifier, msg_start, len(result))\n"
     ]
    },
    {
     "name": "stdout",
     "output_type": "stream",
     "text": [
      "accuracy_score_sog 0.0375\n",
      "recall_score_sog 0.16666666666666666\n",
      "precision_score_sog 0.07291666666666666\n",
      "f1_score_sog 0.09821428571428573\n",
      "Experiment number: 5\n"
     ]
    },
    {
     "name": "stderr",
     "output_type": "stream",
     "text": [
      "C:\\Users\\fooli\\anaconda3\\envs\\gpu_env\\lib\\site-packages\\sklearn\\metrics\\_classification.py:1469: UndefinedMetricWarning: Recall is ill-defined and being set to 0.0 in labels with no true samples. Use `zero_division` parameter to control this behavior.\n",
      "  _warn_prf(average, modifier, msg_start, len(result))\n",
      "C:\\Users\\fooli\\anaconda3\\envs\\gpu_env\\lib\\site-packages\\sklearn\\metrics\\_classification.py:1469: UndefinedMetricWarning: Precision is ill-defined and being set to 0.0 in labels with no predicted samples. Use `zero_division` parameter to control this behavior.\n",
      "  _warn_prf(average, modifier, msg_start, len(result))\n"
     ]
    },
    {
     "name": "stdout",
     "output_type": "stream",
     "text": [
      "accuracy_score_orignial 0.025\n",
      "recall_score_original 0.041666666666666664\n",
      "precision_score_original 0.022727272727272728\n",
      "f1_score_original 0.029411764705882356\n",
      "self.train_discrete_extra_sog_fuzzy shape (806, 200)\n",
      "accuracy_score_sog 0.0375\n",
      "recall_score_sog 0.0625\n",
      "precision_score_sog 0.028846153846153848\n",
      "f1_score_sog 0.039473684210526314\n",
      "Experiment number: 6\n"
     ]
    },
    {
     "name": "stderr",
     "output_type": "stream",
     "text": [
      "C:\\Users\\fooli\\anaconda3\\envs\\gpu_env\\lib\\site-packages\\sklearn\\metrics\\_classification.py:1469: UndefinedMetricWarning: Recall is ill-defined and being set to 0.0 in labels with no true samples. Use `zero_division` parameter to control this behavior.\n",
      "  _warn_prf(average, modifier, msg_start, len(result))\n",
      "C:\\Users\\fooli\\anaconda3\\envs\\gpu_env\\lib\\site-packages\\sklearn\\metrics\\_classification.py:1469: UndefinedMetricWarning: Precision is ill-defined and being set to 0.0 in labels with no predicted samples. Use `zero_division` parameter to control this behavior.\n",
      "  _warn_prf(average, modifier, msg_start, len(result))\n",
      "C:\\Users\\fooli\\anaconda3\\envs\\gpu_env\\lib\\site-packages\\sklearn\\metrics\\_classification.py:1469: UndefinedMetricWarning: Recall is ill-defined and being set to 0.0 in labels with no true samples. Use `zero_division` parameter to control this behavior.\n",
      "  _warn_prf(average, modifier, msg_start, len(result))\n",
      "C:\\Users\\fooli\\anaconda3\\envs\\gpu_env\\lib\\site-packages\\sklearn\\metrics\\_classification.py:1469: UndefinedMetricWarning: Precision is ill-defined and being set to 0.0 in labels with no predicted samples. Use `zero_division` parameter to control this behavior.\n",
      "  _warn_prf(average, modifier, msg_start, len(result))\n"
     ]
    },
    {
     "name": "stdout",
     "output_type": "stream",
     "text": [
      "accuracy_score_orignial 0.025\n",
      "recall_score_original 0.041666666666666664\n",
      "precision_score_original 0.025\n",
      "f1_score_original 0.03125\n",
      "self.train_discrete_extra_sog_fuzzy shape (806, 200)\n",
      "accuracy_score_sog 0.025\n",
      "recall_score_sog 0.041666666666666664\n",
      "precision_score_sog 0.020833333333333332\n",
      "f1_score_sog 0.027777777777777776\n",
      "Not good precision_score_original !!!!!\n",
      "Not good accuracy result !!!!!\n",
      "Experiment number: 7\n"
     ]
    },
    {
     "name": "stderr",
     "output_type": "stream",
     "text": [
      "C:\\Users\\fooli\\anaconda3\\envs\\gpu_env\\lib\\site-packages\\sklearn\\metrics\\_classification.py:1469: UndefinedMetricWarning: Recall is ill-defined and being set to 0.0 in labels with no true samples. Use `zero_division` parameter to control this behavior.\n",
      "  _warn_prf(average, modifier, msg_start, len(result))\n",
      "C:\\Users\\fooli\\anaconda3\\envs\\gpu_env\\lib\\site-packages\\sklearn\\metrics\\_classification.py:1469: UndefinedMetricWarning: Precision is ill-defined and being set to 0.0 in labels with no predicted samples. Use `zero_division` parameter to control this behavior.\n",
      "  _warn_prf(average, modifier, msg_start, len(result))\n",
      "C:\\Users\\fooli\\anaconda3\\envs\\gpu_env\\lib\\site-packages\\sklearn\\metrics\\_classification.py:1469: UndefinedMetricWarning: Recall is ill-defined and being set to 0.0 in labels with no true samples. Use `zero_division` parameter to control this behavior.\n",
      "  _warn_prf(average, modifier, msg_start, len(result))\n",
      "C:\\Users\\fooli\\anaconda3\\envs\\gpu_env\\lib\\site-packages\\sklearn\\metrics\\_classification.py:1469: UndefinedMetricWarning: Precision is ill-defined and being set to 0.0 in labels with no predicted samples. Use `zero_division` parameter to control this behavior.\n",
      "  _warn_prf(average, modifier, msg_start, len(result))\n"
     ]
    },
    {
     "name": "stdout",
     "output_type": "stream",
     "text": [
      "accuracy_score_orignial 0.025\n",
      "recall_score_original 0.041666666666666664\n",
      "precision_score_original 0.020833333333333332\n",
      "f1_score_original 0.027777777777777776\n",
      "self.train_discrete_extra_sog_fuzzy shape (806, 200)\n",
      "accuracy_score_sog 0.0125\n",
      "recall_score_sog 0.020833333333333332\n",
      "precision_score_sog 0.011363636363636364\n",
      "f1_score_sog 0.014705882352941178\n",
      "Not good accuracy result !!!!!\n",
      "Not good recall_score result !!!!!\n",
      "Not good precision_score_original !!!!!\n",
      "Not good accuracy result !!!!!\n",
      "Experiment number: 8\n"
     ]
    },
    {
     "name": "stderr",
     "output_type": "stream",
     "text": [
      "C:\\Users\\fooli\\anaconda3\\envs\\gpu_env\\lib\\site-packages\\sklearn\\metrics\\_classification.py:1469: UndefinedMetricWarning: Recall is ill-defined and being set to 0.0 in labels with no true samples. Use `zero_division` parameter to control this behavior.\n",
      "  _warn_prf(average, modifier, msg_start, len(result))\n",
      "C:\\Users\\fooli\\anaconda3\\envs\\gpu_env\\lib\\site-packages\\sklearn\\metrics\\_classification.py:1469: UndefinedMetricWarning: Precision is ill-defined and being set to 0.0 in labels with no predicted samples. Use `zero_division` parameter to control this behavior.\n",
      "  _warn_prf(average, modifier, msg_start, len(result))\n",
      "C:\\Users\\fooli\\anaconda3\\envs\\gpu_env\\lib\\site-packages\\sklearn\\metrics\\_classification.py:1469: UndefinedMetricWarning: Recall is ill-defined and being set to 0.0 in labels with no true samples. Use `zero_division` parameter to control this behavior.\n",
      "  _warn_prf(average, modifier, msg_start, len(result))\n",
      "C:\\Users\\fooli\\anaconda3\\envs\\gpu_env\\lib\\site-packages\\sklearn\\metrics\\_classification.py:1469: UndefinedMetricWarning: Precision is ill-defined and being set to 0.0 in labels with no predicted samples. Use `zero_division` parameter to control this behavior.\n",
      "  _warn_prf(average, modifier, msg_start, len(result))\n"
     ]
    },
    {
     "name": "stdout",
     "output_type": "stream",
     "text": [
      "accuracy_score_orignial 0.025\n",
      "recall_score_original 0.041666666666666664\n",
      "precision_score_original 0.022727272727272728\n",
      "f1_score_original 0.029411764705882356\n",
      "self.train_discrete_extra_sog_fuzzy shape (806, 200)\n",
      "accuracy_score_sog 0.025\n",
      "recall_score_sog 0.041666666666666664\n",
      "precision_score_sog 0.027777777777777776\n",
      "f1_score_sog 0.03333333333333333\n",
      "Experiment number: 9\n"
     ]
    },
    {
     "name": "stderr",
     "output_type": "stream",
     "text": [
      "C:\\Users\\fooli\\anaconda3\\envs\\gpu_env\\lib\\site-packages\\sklearn\\metrics\\_classification.py:1469: UndefinedMetricWarning: Recall is ill-defined and being set to 0.0 in labels with no true samples. Use `zero_division` parameter to control this behavior.\n",
      "  _warn_prf(average, modifier, msg_start, len(result))\n",
      "C:\\Users\\fooli\\anaconda3\\envs\\gpu_env\\lib\\site-packages\\sklearn\\metrics\\_classification.py:1469: UndefinedMetricWarning: Precision is ill-defined and being set to 0.0 in labels with no predicted samples. Use `zero_division` parameter to control this behavior.\n",
      "  _warn_prf(average, modifier, msg_start, len(result))\n",
      "C:\\Users\\fooli\\anaconda3\\envs\\gpu_env\\lib\\site-packages\\sklearn\\metrics\\_classification.py:1469: UndefinedMetricWarning: Recall is ill-defined and being set to 0.0 in labels with no true samples. Use `zero_division` parameter to control this behavior.\n",
      "  _warn_prf(average, modifier, msg_start, len(result))\n",
      "C:\\Users\\fooli\\anaconda3\\envs\\gpu_env\\lib\\site-packages\\sklearn\\metrics\\_classification.py:1469: UndefinedMetricWarning: Precision is ill-defined and being set to 0.0 in labels with no predicted samples. Use `zero_division` parameter to control this behavior.\n",
      "  _warn_prf(average, modifier, msg_start, len(result))\n"
     ]
    },
    {
     "name": "stdout",
     "output_type": "stream",
     "text": [
      "accuracy_score_orignial 0.025\n",
      "recall_score_original 0.041666666666666664\n",
      "precision_score_original 0.027777777777777776\n",
      "f1_score_original 0.03333333333333333\n",
      "self.train_discrete_extra_sog_fuzzy shape (806, 200)\n",
      "accuracy_score_sog 0.025\n",
      "recall_score_sog 0.041666666666666664\n",
      "precision_score_sog 0.022727272727272728\n",
      "f1_score_sog 0.029411764705882356\n",
      "Not good precision_score_original !!!!!\n",
      "Not good accuracy result !!!!!\n",
      "Experiment number: 10\n"
     ]
    },
    {
     "name": "stderr",
     "output_type": "stream",
     "text": [
      "C:\\Users\\fooli\\anaconda3\\envs\\gpu_env\\lib\\site-packages\\sklearn\\metrics\\_classification.py:1469: UndefinedMetricWarning: Recall is ill-defined and being set to 0.0 in labels with no true samples. Use `zero_division` parameter to control this behavior.\n",
      "  _warn_prf(average, modifier, msg_start, len(result))\n",
      "C:\\Users\\fooli\\anaconda3\\envs\\gpu_env\\lib\\site-packages\\sklearn\\metrics\\_classification.py:1469: UndefinedMetricWarning: Precision is ill-defined and being set to 0.0 in labels with no predicted samples. Use `zero_division` parameter to control this behavior.\n",
      "  _warn_prf(average, modifier, msg_start, len(result))\n",
      "C:\\Users\\fooli\\anaconda3\\envs\\gpu_env\\lib\\site-packages\\sklearn\\metrics\\_classification.py:1469: UndefinedMetricWarning: Recall is ill-defined and being set to 0.0 in labels with no true samples. Use `zero_division` parameter to control this behavior.\n",
      "  _warn_prf(average, modifier, msg_start, len(result))\n",
      "C:\\Users\\fooli\\anaconda3\\envs\\gpu_env\\lib\\site-packages\\sklearn\\metrics\\_classification.py:1469: UndefinedMetricWarning: Precision is ill-defined and being set to 0.0 in labels with no predicted samples. Use `zero_division` parameter to control this behavior.\n",
      "  _warn_prf(average, modifier, msg_start, len(result))\n"
     ]
    },
    {
     "name": "stdout",
     "output_type": "stream",
     "text": [
      "accuracy_score_orignial 0.025\n",
      "recall_score_original 0.041666666666666664\n",
      "precision_score_original 0.022727272727272728\n",
      "f1_score_original 0.029411764705882356\n",
      "self.train_discrete_extra_sog_fuzzy shape (806, 200)\n",
      "accuracy_score_sog 0.0125\n",
      "recall_score_sog 0.020833333333333332\n",
      "precision_score_sog 0.0125\n",
      "f1_score_sog 0.015625\n",
      "Not good accuracy result !!!!!\n",
      "Not good recall_score result !!!!!\n",
      "Not good precision_score_original !!!!!\n",
      "Not good accuracy result !!!!!\n",
      "Experiment number: 11\n"
     ]
    },
    {
     "name": "stderr",
     "output_type": "stream",
     "text": [
      "C:\\Users\\fooli\\anaconda3\\envs\\gpu_env\\lib\\site-packages\\sklearn\\metrics\\_classification.py:1469: UndefinedMetricWarning: Recall is ill-defined and being set to 0.0 in labels with no true samples. Use `zero_division` parameter to control this behavior.\n",
      "  _warn_prf(average, modifier, msg_start, len(result))\n",
      "C:\\Users\\fooli\\anaconda3\\envs\\gpu_env\\lib\\site-packages\\sklearn\\metrics\\_classification.py:1469: UndefinedMetricWarning: Precision is ill-defined and being set to 0.0 in labels with no predicted samples. Use `zero_division` parameter to control this behavior.\n",
      "  _warn_prf(average, modifier, msg_start, len(result))\n",
      "C:\\Users\\fooli\\anaconda3\\envs\\gpu_env\\lib\\site-packages\\sklearn\\metrics\\_classification.py:1469: UndefinedMetricWarning: Recall is ill-defined and being set to 0.0 in labels with no true samples. Use `zero_division` parameter to control this behavior.\n",
      "  _warn_prf(average, modifier, msg_start, len(result))\n",
      "C:\\Users\\fooli\\anaconda3\\envs\\gpu_env\\lib\\site-packages\\sklearn\\metrics\\_classification.py:1469: UndefinedMetricWarning: Precision is ill-defined and being set to 0.0 in labels with no predicted samples. Use `zero_division` parameter to control this behavior.\n",
      "  _warn_prf(average, modifier, msg_start, len(result))\n"
     ]
    },
    {
     "name": "stdout",
     "output_type": "stream",
     "text": [
      "accuracy_score_orignial 0.0125\n",
      "recall_score_original 0.020833333333333332\n",
      "precision_score_original 0.010416666666666666\n",
      "f1_score_original 0.013888888888888888\n",
      "self.train_discrete_extra_sog_fuzzy shape (806, 200)\n",
      "accuracy_score_sog 0.0375\n",
      "recall_score_sog 0.16666666666666666\n",
      "precision_score_sog 0.09027777777777778\n",
      "f1_score_sog 0.11666666666666667\n",
      "Experiment number: 12\n"
     ]
    },
    {
     "name": "stderr",
     "output_type": "stream",
     "text": [
      "C:\\Users\\fooli\\anaconda3\\envs\\gpu_env\\lib\\site-packages\\sklearn\\metrics\\_classification.py:1469: UndefinedMetricWarning: Recall is ill-defined and being set to 0.0 in labels with no true samples. Use `zero_division` parameter to control this behavior.\n",
      "  _warn_prf(average, modifier, msg_start, len(result))\n",
      "C:\\Users\\fooli\\anaconda3\\envs\\gpu_env\\lib\\site-packages\\sklearn\\metrics\\_classification.py:1469: UndefinedMetricWarning: Precision is ill-defined and being set to 0.0 in labels with no predicted samples. Use `zero_division` parameter to control this behavior.\n",
      "  _warn_prf(average, modifier, msg_start, len(result))\n",
      "C:\\Users\\fooli\\anaconda3\\envs\\gpu_env\\lib\\site-packages\\sklearn\\metrics\\_classification.py:1469: UndefinedMetricWarning: Recall is ill-defined and being set to 0.0 in labels with no true samples. Use `zero_division` parameter to control this behavior.\n",
      "  _warn_prf(average, modifier, msg_start, len(result))\n",
      "C:\\Users\\fooli\\anaconda3\\envs\\gpu_env\\lib\\site-packages\\sklearn\\metrics\\_classification.py:1469: UndefinedMetricWarning: Precision is ill-defined and being set to 0.0 in labels with no predicted samples. Use `zero_division` parameter to control this behavior.\n",
      "  _warn_prf(average, modifier, msg_start, len(result))\n"
     ]
    },
    {
     "name": "stdout",
     "output_type": "stream",
     "text": [
      "accuracy_score_orignial 0.025\n",
      "recall_score_original 0.041666666666666664\n",
      "precision_score_original 0.020833333333333332\n",
      "f1_score_original 0.027777777777777776\n",
      "self.train_discrete_extra_sog_fuzzy shape (806, 200)\n",
      "accuracy_score_sog 0.025\n",
      "recall_score_sog 0.041666666666666664\n",
      "precision_score_sog 0.020833333333333332\n",
      "f1_score_sog 0.027777777777777776\n",
      "Experiment number: 13\n"
     ]
    },
    {
     "name": "stderr",
     "output_type": "stream",
     "text": [
      "C:\\Users\\fooli\\anaconda3\\envs\\gpu_env\\lib\\site-packages\\sklearn\\metrics\\_classification.py:1469: UndefinedMetricWarning: Recall is ill-defined and being set to 0.0 in labels with no true samples. Use `zero_division` parameter to control this behavior.\n",
      "  _warn_prf(average, modifier, msg_start, len(result))\n",
      "C:\\Users\\fooli\\anaconda3\\envs\\gpu_env\\lib\\site-packages\\sklearn\\metrics\\_classification.py:1469: UndefinedMetricWarning: Precision is ill-defined and being set to 0.0 in labels with no predicted samples. Use `zero_division` parameter to control this behavior.\n",
      "  _warn_prf(average, modifier, msg_start, len(result))\n",
      "C:\\Users\\fooli\\anaconda3\\envs\\gpu_env\\lib\\site-packages\\sklearn\\metrics\\_classification.py:1469: UndefinedMetricWarning: Recall is ill-defined and being set to 0.0 in labels with no true samples. Use `zero_division` parameter to control this behavior.\n",
      "  _warn_prf(average, modifier, msg_start, len(result))\n",
      "C:\\Users\\fooli\\anaconda3\\envs\\gpu_env\\lib\\site-packages\\sklearn\\metrics\\_classification.py:1469: UndefinedMetricWarning: Precision is ill-defined and being set to 0.0 in labels with no predicted samples. Use `zero_division` parameter to control this behavior.\n",
      "  _warn_prf(average, modifier, msg_start, len(result))\n"
     ]
    },
    {
     "name": "stdout",
     "output_type": "stream",
     "text": [
      "accuracy_score_orignial 0.025\n",
      "recall_score_original 0.041666666666666664\n",
      "precision_score_original 0.025\n",
      "f1_score_original 0.03125\n",
      "self.train_discrete_extra_sog_fuzzy shape (806, 200)\n",
      "accuracy_score_sog 0.025\n",
      "recall_score_sog 0.041666666666666664\n",
      "precision_score_sog 0.025\n",
      "f1_score_sog 0.03125\n",
      "Experiment number: 14\n"
     ]
    },
    {
     "name": "stderr",
     "output_type": "stream",
     "text": [
      "C:\\Users\\fooli\\anaconda3\\envs\\gpu_env\\lib\\site-packages\\sklearn\\metrics\\_classification.py:1469: UndefinedMetricWarning: Recall is ill-defined and being set to 0.0 in labels with no true samples. Use `zero_division` parameter to control this behavior.\n",
      "  _warn_prf(average, modifier, msg_start, len(result))\n",
      "C:\\Users\\fooli\\anaconda3\\envs\\gpu_env\\lib\\site-packages\\sklearn\\metrics\\_classification.py:1469: UndefinedMetricWarning: Precision is ill-defined and being set to 0.0 in labels with no predicted samples. Use `zero_division` parameter to control this behavior.\n",
      "  _warn_prf(average, modifier, msg_start, len(result))\n",
      "C:\\Users\\fooli\\anaconda3\\envs\\gpu_env\\lib\\site-packages\\sklearn\\metrics\\_classification.py:1469: UndefinedMetricWarning: Recall is ill-defined and being set to 0.0 in labels with no true samples. Use `zero_division` parameter to control this behavior.\n",
      "  _warn_prf(average, modifier, msg_start, len(result))\n",
      "C:\\Users\\fooli\\anaconda3\\envs\\gpu_env\\lib\\site-packages\\sklearn\\metrics\\_classification.py:1469: UndefinedMetricWarning: Precision is ill-defined and being set to 0.0 in labels with no predicted samples. Use `zero_division` parameter to control this behavior.\n",
      "  _warn_prf(average, modifier, msg_start, len(result))\n"
     ]
    },
    {
     "name": "stdout",
     "output_type": "stream",
     "text": [
      "accuracy_score_orignial 0.025\n",
      "recall_score_original 0.041666666666666664\n",
      "precision_score_original 0.022727272727272728\n",
      "f1_score_original 0.029411764705882356\n",
      "self.train_discrete_extra_sog_fuzzy shape (806, 200)\n",
      "accuracy_score_sog 0.025\n",
      "recall_score_sog 0.041666666666666664\n",
      "precision_score_sog 0.019230769230769232\n",
      "f1_score_sog 0.02631578947368421\n",
      "Not good precision_score_original !!!!!\n",
      "Not good accuracy result !!!!!\n",
      "Experiment number: 15\n"
     ]
    },
    {
     "name": "stderr",
     "output_type": "stream",
     "text": [
      "C:\\Users\\fooli\\anaconda3\\envs\\gpu_env\\lib\\site-packages\\sklearn\\metrics\\_classification.py:1469: UndefinedMetricWarning: Recall is ill-defined and being set to 0.0 in labels with no true samples. Use `zero_division` parameter to control this behavior.\n",
      "  _warn_prf(average, modifier, msg_start, len(result))\n",
      "C:\\Users\\fooli\\anaconda3\\envs\\gpu_env\\lib\\site-packages\\sklearn\\metrics\\_classification.py:1469: UndefinedMetricWarning: Precision is ill-defined and being set to 0.0 in labels with no predicted samples. Use `zero_division` parameter to control this behavior.\n",
      "  _warn_prf(average, modifier, msg_start, len(result))\n",
      "C:\\Users\\fooli\\anaconda3\\envs\\gpu_env\\lib\\site-packages\\sklearn\\metrics\\_classification.py:1469: UndefinedMetricWarning: Recall is ill-defined and being set to 0.0 in labels with no true samples. Use `zero_division` parameter to control this behavior.\n",
      "  _warn_prf(average, modifier, msg_start, len(result))\n",
      "C:\\Users\\fooli\\anaconda3\\envs\\gpu_env\\lib\\site-packages\\sklearn\\metrics\\_classification.py:1469: UndefinedMetricWarning: Precision is ill-defined and being set to 0.0 in labels with no predicted samples. Use `zero_division` parameter to control this behavior.\n",
      "  _warn_prf(average, modifier, msg_start, len(result))\n"
     ]
    },
    {
     "name": "stdout",
     "output_type": "stream",
     "text": [
      "accuracy_score_orignial 0.025\n",
      "recall_score_original 0.041666666666666664\n",
      "precision_score_original 0.022727272727272728\n",
      "f1_score_original 0.029411764705882356\n",
      "self.train_discrete_extra_sog_fuzzy shape (806, 200)\n",
      "accuracy_score_sog 0.025\n",
      "recall_score_sog 0.041666666666666664\n",
      "precision_score_sog 0.022727272727272728\n",
      "f1_score_sog 0.029411764705882356\n",
      "Experiment number: 16\n"
     ]
    },
    {
     "name": "stderr",
     "output_type": "stream",
     "text": [
      "C:\\Users\\fooli\\anaconda3\\envs\\gpu_env\\lib\\site-packages\\sklearn\\metrics\\_classification.py:1469: UndefinedMetricWarning: Recall is ill-defined and being set to 0.0 in labels with no true samples. Use `zero_division` parameter to control this behavior.\n",
      "  _warn_prf(average, modifier, msg_start, len(result))\n",
      "C:\\Users\\fooli\\anaconda3\\envs\\gpu_env\\lib\\site-packages\\sklearn\\metrics\\_classification.py:1469: UndefinedMetricWarning: Precision is ill-defined and being set to 0.0 in labels with no predicted samples. Use `zero_division` parameter to control this behavior.\n",
      "  _warn_prf(average, modifier, msg_start, len(result))\n",
      "C:\\Users\\fooli\\anaconda3\\envs\\gpu_env\\lib\\site-packages\\sklearn\\metrics\\_classification.py:1469: UndefinedMetricWarning: Recall is ill-defined and being set to 0.0 in labels with no true samples. Use `zero_division` parameter to control this behavior.\n",
      "  _warn_prf(average, modifier, msg_start, len(result))\n",
      "C:\\Users\\fooli\\anaconda3\\envs\\gpu_env\\lib\\site-packages\\sklearn\\metrics\\_classification.py:1469: UndefinedMetricWarning: Precision is ill-defined and being set to 0.0 in labels with no predicted samples. Use `zero_division` parameter to control this behavior.\n",
      "  _warn_prf(average, modifier, msg_start, len(result))\n"
     ]
    },
    {
     "name": "stdout",
     "output_type": "stream",
     "text": [
      "accuracy_score_orignial 0.025\n",
      "recall_score_original 0.041666666666666664\n",
      "precision_score_original 0.020833333333333332\n",
      "f1_score_original 0.027777777777777776\n",
      "self.train_discrete_extra_sog_fuzzy shape (806, 200)\n",
      "accuracy_score_sog 0.025\n",
      "recall_score_sog 0.041666666666666664\n",
      "precision_score_sog 0.022727272727272728\n",
      "f1_score_sog 0.029411764705882356\n",
      "Experiment number: 17\n"
     ]
    },
    {
     "name": "stderr",
     "output_type": "stream",
     "text": [
      "C:\\Users\\fooli\\anaconda3\\envs\\gpu_env\\lib\\site-packages\\sklearn\\metrics\\_classification.py:1469: UndefinedMetricWarning: Recall is ill-defined and being set to 0.0 in labels with no true samples. Use `zero_division` parameter to control this behavior.\n",
      "  _warn_prf(average, modifier, msg_start, len(result))\n",
      "C:\\Users\\fooli\\anaconda3\\envs\\gpu_env\\lib\\site-packages\\sklearn\\metrics\\_classification.py:1469: UndefinedMetricWarning: Precision is ill-defined and being set to 0.0 in labels with no predicted samples. Use `zero_division` parameter to control this behavior.\n",
      "  _warn_prf(average, modifier, msg_start, len(result))\n",
      "C:\\Users\\fooli\\anaconda3\\envs\\gpu_env\\lib\\site-packages\\sklearn\\metrics\\_classification.py:1469: UndefinedMetricWarning: Recall is ill-defined and being set to 0.0 in labels with no true samples. Use `zero_division` parameter to control this behavior.\n",
      "  _warn_prf(average, modifier, msg_start, len(result))\n",
      "C:\\Users\\fooli\\anaconda3\\envs\\gpu_env\\lib\\site-packages\\sklearn\\metrics\\_classification.py:1469: UndefinedMetricWarning: Precision is ill-defined and being set to 0.0 in labels with no predicted samples. Use `zero_division` parameter to control this behavior.\n",
      "  _warn_prf(average, modifier, msg_start, len(result))\n"
     ]
    },
    {
     "name": "stdout",
     "output_type": "stream",
     "text": [
      "accuracy_score_orignial 0.0125\n",
      "recall_score_original 0.020833333333333332\n",
      "precision_score_original 0.0125\n",
      "f1_score_original 0.015625\n",
      "self.train_discrete_extra_sog_fuzzy shape (806, 200)\n",
      "accuracy_score_sog 0.025\n",
      "recall_score_sog 0.041666666666666664\n",
      "precision_score_sog 0.020833333333333332\n"
     ]
    },
    {
     "name": "stderr",
     "output_type": "stream",
     "text": [
      "C:\\Users\\fooli\\anaconda3\\envs\\gpu_env\\lib\\site-packages\\sklearn\\metrics\\_classification.py:1469: UndefinedMetricWarning: Recall is ill-defined and being set to 0.0 in labels with no true samples. Use `zero_division` parameter to control this behavior.\n",
      "  _warn_prf(average, modifier, msg_start, len(result))\n",
      "C:\\Users\\fooli\\anaconda3\\envs\\gpu_env\\lib\\site-packages\\sklearn\\metrics\\_classification.py:1469: UndefinedMetricWarning: Precision is ill-defined and being set to 0.0 in labels with no predicted samples. Use `zero_division` parameter to control this behavior.\n",
      "  _warn_prf(average, modifier, msg_start, len(result))\n",
      "C:\\Users\\fooli\\anaconda3\\envs\\gpu_env\\lib\\site-packages\\sklearn\\metrics\\_classification.py:1469: UndefinedMetricWarning: Recall is ill-defined and being set to 0.0 in labels with no true samples. Use `zero_division` parameter to control this behavior.\n",
      "  _warn_prf(average, modifier, msg_start, len(result))\n",
      "C:\\Users\\fooli\\anaconda3\\envs\\gpu_env\\lib\\site-packages\\sklearn\\metrics\\_classification.py:1469: UndefinedMetricWarning: Precision is ill-defined and being set to 0.0 in labels with no predicted samples. Use `zero_division` parameter to control this behavior.\n",
      "  _warn_prf(average, modifier, msg_start, len(result))\n"
     ]
    },
    {
     "name": "stdout",
     "output_type": "stream",
     "text": [
      "f1_score_sog 0.027777777777777776\n",
      "Experiment number: 18\n",
      "accuracy_score_orignial 0.025\n"
     ]
    },
    {
     "name": "stderr",
     "output_type": "stream",
     "text": [
      "C:\\Users\\fooli\\anaconda3\\envs\\gpu_env\\lib\\site-packages\\sklearn\\metrics\\_classification.py:1469: UndefinedMetricWarning: Recall is ill-defined and being set to 0.0 in labels with no true samples. Use `zero_division` parameter to control this behavior.\n",
      "  _warn_prf(average, modifier, msg_start, len(result))\n",
      "C:\\Users\\fooli\\anaconda3\\envs\\gpu_env\\lib\\site-packages\\sklearn\\metrics\\_classification.py:1469: UndefinedMetricWarning: Precision is ill-defined and being set to 0.0 in labels with no predicted samples. Use `zero_division` parameter to control this behavior.\n",
      "  _warn_prf(average, modifier, msg_start, len(result))\n"
     ]
    },
    {
     "name": "stdout",
     "output_type": "stream",
     "text": [
      "recall_score_original 0.041666666666666664\n",
      "precision_score_original 0.019230769230769232\n",
      "f1_score_original 0.02631578947368421\n",
      "self.train_discrete_extra_sog_fuzzy shape (806, 200)\n",
      "accuracy_score_sog 0.025\n",
      "recall_score_sog 0.041666666666666664\n",
      "precision_score_sog 0.022727272727272728\n",
      "f1_score_sog 0.029411764705882356\n",
      "Experiment number: 19\n"
     ]
    },
    {
     "name": "stderr",
     "output_type": "stream",
     "text": [
      "C:\\Users\\fooli\\anaconda3\\envs\\gpu_env\\lib\\site-packages\\sklearn\\metrics\\_classification.py:1469: UndefinedMetricWarning: Recall is ill-defined and being set to 0.0 in labels with no true samples. Use `zero_division` parameter to control this behavior.\n",
      "  _warn_prf(average, modifier, msg_start, len(result))\n",
      "C:\\Users\\fooli\\anaconda3\\envs\\gpu_env\\lib\\site-packages\\sklearn\\metrics\\_classification.py:1469: UndefinedMetricWarning: Precision is ill-defined and being set to 0.0 in labels with no predicted samples. Use `zero_division` parameter to control this behavior.\n",
      "  _warn_prf(average, modifier, msg_start, len(result))\n"
     ]
    },
    {
     "name": "stdout",
     "output_type": "stream",
     "text": [
      "accuracy_score_orignial 0.025\n",
      "recall_score_original 0.041666666666666664\n",
      "precision_score_original 0.020833333333333332\n",
      "f1_score_original 0.027777777777777776\n",
      "self.train_discrete_extra_sog_fuzzy shape (806, 200)\n",
      "accuracy_score_sog 0.025\n",
      "recall_score_sog 0.041666666666666664\n",
      "precision_score_sog 0.017857142857142856\n",
      "f1_score_sog 0.025\n",
      "Not good precision_score_original !!!!!\n",
      "Not good accuracy result !!!!!\n",
      "Experiment number: 20\n"
     ]
    },
    {
     "name": "stderr",
     "output_type": "stream",
     "text": [
      "C:\\Users\\fooli\\anaconda3\\envs\\gpu_env\\lib\\site-packages\\sklearn\\metrics\\_classification.py:1469: UndefinedMetricWarning: Recall is ill-defined and being set to 0.0 in labels with no true samples. Use `zero_division` parameter to control this behavior.\n",
      "  _warn_prf(average, modifier, msg_start, len(result))\n",
      "C:\\Users\\fooli\\anaconda3\\envs\\gpu_env\\lib\\site-packages\\sklearn\\metrics\\_classification.py:1469: UndefinedMetricWarning: Precision is ill-defined and being set to 0.0 in labels with no predicted samples. Use `zero_division` parameter to control this behavior.\n",
      "  _warn_prf(average, modifier, msg_start, len(result))\n",
      "C:\\Users\\fooli\\anaconda3\\envs\\gpu_env\\lib\\site-packages\\sklearn\\metrics\\_classification.py:1469: UndefinedMetricWarning: Recall is ill-defined and being set to 0.0 in labels with no true samples. Use `zero_division` parameter to control this behavior.\n",
      "  _warn_prf(average, modifier, msg_start, len(result))\n",
      "C:\\Users\\fooli\\anaconda3\\envs\\gpu_env\\lib\\site-packages\\sklearn\\metrics\\_classification.py:1469: UndefinedMetricWarning: Precision is ill-defined and being set to 0.0 in labels with no predicted samples. Use `zero_division` parameter to control this behavior.\n",
      "  _warn_prf(average, modifier, msg_start, len(result))\n"
     ]
    },
    {
     "name": "stdout",
     "output_type": "stream",
     "text": [
      "accuracy_score_orignial 0.025\n",
      "recall_score_original 0.041666666666666664\n",
      "precision_score_original 0.020833333333333332\n",
      "f1_score_original 0.027777777777777776\n",
      "self.train_discrete_extra_sog_fuzzy shape (806, 200)\n",
      "accuracy_score_sog 0.025\n",
      "recall_score_sog 0.041666666666666664\n",
      "precision_score_sog 0.022727272727272728\n"
     ]
    },
    {
     "name": "stderr",
     "output_type": "stream",
     "text": [
      "C:\\Users\\fooli\\anaconda3\\envs\\gpu_env\\lib\\site-packages\\sklearn\\metrics\\_classification.py:1469: UndefinedMetricWarning: Recall is ill-defined and being set to 0.0 in labels with no true samples. Use `zero_division` parameter to control this behavior.\n",
      "  _warn_prf(average, modifier, msg_start, len(result))\n",
      "C:\\Users\\fooli\\anaconda3\\envs\\gpu_env\\lib\\site-packages\\sklearn\\metrics\\_classification.py:1469: UndefinedMetricWarning: Precision is ill-defined and being set to 0.0 in labels with no predicted samples. Use `zero_division` parameter to control this behavior.\n",
      "  _warn_prf(average, modifier, msg_start, len(result))\n",
      "C:\\Users\\fooli\\anaconda3\\envs\\gpu_env\\lib\\site-packages\\sklearn\\metrics\\_classification.py:1469: UndefinedMetricWarning: Recall is ill-defined and being set to 0.0 in labels with no true samples. Use `zero_division` parameter to control this behavior.\n",
      "  _warn_prf(average, modifier, msg_start, len(result))\n",
      "C:\\Users\\fooli\\anaconda3\\envs\\gpu_env\\lib\\site-packages\\sklearn\\metrics\\_classification.py:1469: UndefinedMetricWarning: Precision is ill-defined and being set to 0.0 in labels with no predicted samples. Use `zero_division` parameter to control this behavior.\n",
      "  _warn_prf(average, modifier, msg_start, len(result))\n"
     ]
    },
    {
     "name": "stdout",
     "output_type": "stream",
     "text": [
      "f1_score_sog 0.029411764705882356\n",
      "Experiment number: 21\n",
      "accuracy_score_orignial 0.025\n",
      "recall_score_original 0.041666666666666664\n",
      "precision_score_original 0.020833333333333332\n",
      "f1_score_original 0.027777777777777776\n",
      "self.train_discrete_extra_sog_fuzzy shape (806, 200)\n"
     ]
    },
    {
     "name": "stderr",
     "output_type": "stream",
     "text": [
      "C:\\Users\\fooli\\anaconda3\\envs\\gpu_env\\lib\\site-packages\\sklearn\\metrics\\_classification.py:1469: UndefinedMetricWarning: Recall is ill-defined and being set to 0.0 in labels with no true samples. Use `zero_division` parameter to control this behavior.\n",
      "  _warn_prf(average, modifier, msg_start, len(result))\n",
      "C:\\Users\\fooli\\anaconda3\\envs\\gpu_env\\lib\\site-packages\\sklearn\\metrics\\_classification.py:1469: UndefinedMetricWarning: Precision is ill-defined and being set to 0.0 in labels with no predicted samples. Use `zero_division` parameter to control this behavior.\n",
      "  _warn_prf(average, modifier, msg_start, len(result))\n"
     ]
    },
    {
     "name": "stdout",
     "output_type": "stream",
     "text": [
      "accuracy_score_sog 0.025\n",
      "recall_score_sog 0.041666666666666664\n",
      "precision_score_sog 0.020833333333333332\n",
      "f1_score_sog 0.027777777777777776\n",
      "Experiment number: 22\n"
     ]
    },
    {
     "name": "stderr",
     "output_type": "stream",
     "text": [
      "C:\\Users\\fooli\\anaconda3\\envs\\gpu_env\\lib\\site-packages\\sklearn\\metrics\\_classification.py:1469: UndefinedMetricWarning: Recall is ill-defined and being set to 0.0 in labels with no true samples. Use `zero_division` parameter to control this behavior.\n",
      "  _warn_prf(average, modifier, msg_start, len(result))\n",
      "C:\\Users\\fooli\\anaconda3\\envs\\gpu_env\\lib\\site-packages\\sklearn\\metrics\\_classification.py:1469: UndefinedMetricWarning: Precision is ill-defined and being set to 0.0 in labels with no predicted samples. Use `zero_division` parameter to control this behavior.\n",
      "  _warn_prf(average, modifier, msg_start, len(result))\n"
     ]
    },
    {
     "name": "stdout",
     "output_type": "stream",
     "text": [
      "accuracy_score_orignial 0.025\n",
      "recall_score_original 0.041666666666666664\n",
      "precision_score_original 0.022727272727272728\n",
      "f1_score_original 0.029411764705882356\n",
      "self.train_discrete_extra_sog_fuzzy shape (806, 200)\n",
      "accuracy_score_sog 0.025\n"
     ]
    },
    {
     "name": "stderr",
     "output_type": "stream",
     "text": [
      "C:\\Users\\fooli\\anaconda3\\envs\\gpu_env\\lib\\site-packages\\sklearn\\metrics\\_classification.py:1469: UndefinedMetricWarning: Recall is ill-defined and being set to 0.0 in labels with no true samples. Use `zero_division` parameter to control this behavior.\n",
      "  _warn_prf(average, modifier, msg_start, len(result))\n",
      "C:\\Users\\fooli\\anaconda3\\envs\\gpu_env\\lib\\site-packages\\sklearn\\metrics\\_classification.py:1469: UndefinedMetricWarning: Precision is ill-defined and being set to 0.0 in labels with no predicted samples. Use `zero_division` parameter to control this behavior.\n",
      "  _warn_prf(average, modifier, msg_start, len(result))\n",
      "C:\\Users\\fooli\\anaconda3\\envs\\gpu_env\\lib\\site-packages\\sklearn\\metrics\\_classification.py:1469: UndefinedMetricWarning: Recall is ill-defined and being set to 0.0 in labels with no true samples. Use `zero_division` parameter to control this behavior.\n",
      "  _warn_prf(average, modifier, msg_start, len(result))\n"
     ]
    },
    {
     "name": "stdout",
     "output_type": "stream",
     "text": [
      "recall_score_sog 0.041666666666666664\n",
      "precision_score_sog 0.025\n",
      "f1_score_sog 0.03125\n",
      "Experiment number: 23\n"
     ]
    },
    {
     "name": "stderr",
     "output_type": "stream",
     "text": [
      "C:\\Users\\fooli\\anaconda3\\envs\\gpu_env\\lib\\site-packages\\sklearn\\metrics\\_classification.py:1469: UndefinedMetricWarning: Precision is ill-defined and being set to 0.0 in labels with no predicted samples. Use `zero_division` parameter to control this behavior.\n",
      "  _warn_prf(average, modifier, msg_start, len(result))\n"
     ]
    },
    {
     "name": "stdout",
     "output_type": "stream",
     "text": [
      "accuracy_score_orignial 0.025\n",
      "recall_score_original 0.041666666666666664\n",
      "precision_score_original 0.020833333333333332\n",
      "f1_score_original 0.027777777777777776\n",
      "self.train_discrete_extra_sog_fuzzy shape (806, 200)\n",
      "accuracy_score_sog 0.025\n"
     ]
    },
    {
     "name": "stderr",
     "output_type": "stream",
     "text": [
      "C:\\Users\\fooli\\anaconda3\\envs\\gpu_env\\lib\\site-packages\\sklearn\\metrics\\_classification.py:1469: UndefinedMetricWarning: Recall is ill-defined and being set to 0.0 in labels with no true samples. Use `zero_division` parameter to control this behavior.\n",
      "  _warn_prf(average, modifier, msg_start, len(result))\n",
      "C:\\Users\\fooli\\anaconda3\\envs\\gpu_env\\lib\\site-packages\\sklearn\\metrics\\_classification.py:1469: UndefinedMetricWarning: Precision is ill-defined and being set to 0.0 in labels with no predicted samples. Use `zero_division` parameter to control this behavior.\n",
      "  _warn_prf(average, modifier, msg_start, len(result))\n",
      "C:\\Users\\fooli\\anaconda3\\envs\\gpu_env\\lib\\site-packages\\sklearn\\metrics\\_classification.py:1469: UndefinedMetricWarning: Recall is ill-defined and being set to 0.0 in labels with no true samples. Use `zero_division` parameter to control this behavior.\n",
      "  _warn_prf(average, modifier, msg_start, len(result))\n",
      "C:\\Users\\fooli\\anaconda3\\envs\\gpu_env\\lib\\site-packages\\sklearn\\metrics\\_classification.py:1469: UndefinedMetricWarning: Precision is ill-defined and being set to 0.0 in labels with no predicted samples. Use `zero_division` parameter to control this behavior.\n",
      "  _warn_prf(average, modifier, msg_start, len(result))\n"
     ]
    },
    {
     "name": "stdout",
     "output_type": "stream",
     "text": [
      "recall_score_sog 0.041666666666666664\n",
      "precision_score_sog 0.022727272727272728\n",
      "f1_score_sog 0.029411764705882356\n",
      "Experiment number: 24\n",
      "accuracy_score_orignial 0.0125\n",
      "recall_score_original 0.020833333333333332\n",
      "precision_score_original 0.0125\n",
      "f1_score_original 0.015625\n",
      "self.train_discrete_extra_sog_fuzzy shape (806, 200)\n",
      "accuracy_score_sog 0.025\n",
      "recall_score_sog 0.041666666666666664\n",
      "precision_score_sog 0.017857142857142856\n",
      "f1_score_sog 0.025\n",
      "Experiment number: 25\n"
     ]
    },
    {
     "name": "stderr",
     "output_type": "stream",
     "text": [
      "C:\\Users\\fooli\\anaconda3\\envs\\gpu_env\\lib\\site-packages\\sklearn\\metrics\\_classification.py:1469: UndefinedMetricWarning: Recall is ill-defined and being set to 0.0 in labels with no true samples. Use `zero_division` parameter to control this behavior.\n",
      "  _warn_prf(average, modifier, msg_start, len(result))\n",
      "C:\\Users\\fooli\\anaconda3\\envs\\gpu_env\\lib\\site-packages\\sklearn\\metrics\\_classification.py:1469: UndefinedMetricWarning: Precision is ill-defined and being set to 0.0 in labels with no predicted samples. Use `zero_division` parameter to control this behavior.\n",
      "  _warn_prf(average, modifier, msg_start, len(result))\n",
      "C:\\Users\\fooli\\anaconda3\\envs\\gpu_env\\lib\\site-packages\\sklearn\\metrics\\_classification.py:1469: UndefinedMetricWarning: Recall is ill-defined and being set to 0.0 in labels with no true samples. Use `zero_division` parameter to control this behavior.\n",
      "  _warn_prf(average, modifier, msg_start, len(result))\n",
      "C:\\Users\\fooli\\anaconda3\\envs\\gpu_env\\lib\\site-packages\\sklearn\\metrics\\_classification.py:1469: UndefinedMetricWarning: Precision is ill-defined and being set to 0.0 in labels with no predicted samples. Use `zero_division` parameter to control this behavior.\n",
      "  _warn_prf(average, modifier, msg_start, len(result))\n"
     ]
    },
    {
     "name": "stdout",
     "output_type": "stream",
     "text": [
      "accuracy_score_orignial 0.025\n",
      "recall_score_original 0.041666666666666664\n",
      "precision_score_original 0.022727272727272728\n",
      "f1_score_original 0.029411764705882356\n",
      "self.train_discrete_extra_sog_fuzzy shape (806, 200)\n",
      "accuracy_score_sog 0.0375\n",
      "recall_score_sog 0.16666666666666666\n"
     ]
    },
    {
     "name": "stderr",
     "output_type": "stream",
     "text": [
      "C:\\Users\\fooli\\anaconda3\\envs\\gpu_env\\lib\\site-packages\\sklearn\\metrics\\_classification.py:1469: UndefinedMetricWarning: Recall is ill-defined and being set to 0.0 in labels with no true samples. Use `zero_division` parameter to control this behavior.\n",
      "  _warn_prf(average, modifier, msg_start, len(result))\n",
      "C:\\Users\\fooli\\anaconda3\\envs\\gpu_env\\lib\\site-packages\\sklearn\\metrics\\_classification.py:1469: UndefinedMetricWarning: Precision is ill-defined and being set to 0.0 in labels with no predicted samples. Use `zero_division` parameter to control this behavior.\n",
      "  _warn_prf(average, modifier, msg_start, len(result))\n",
      "C:\\Users\\fooli\\anaconda3\\envs\\gpu_env\\lib\\site-packages\\sklearn\\metrics\\_classification.py:1469: UndefinedMetricWarning: Recall is ill-defined and being set to 0.0 in labels with no true samples. Use `zero_division` parameter to control this behavior.\n",
      "  _warn_prf(average, modifier, msg_start, len(result))\n",
      "C:\\Users\\fooli\\anaconda3\\envs\\gpu_env\\lib\\site-packages\\sklearn\\metrics\\_classification.py:1469: UndefinedMetricWarning: Precision is ill-defined and being set to 0.0 in labels with no predicted samples. Use `zero_division` parameter to control this behavior.\n",
      "  _warn_prf(average, modifier, msg_start, len(result))\n"
     ]
    },
    {
     "name": "stdout",
     "output_type": "stream",
     "text": [
      "precision_score_sog 0.06666666666666667\n",
      "f1_score_sog 0.09375\n",
      "Experiment number: 26\n",
      "accuracy_score_orignial 0.0125\n",
      "recall_score_original 0.020833333333333332\n",
      "precision_score_original 0.0125\n",
      "f1_score_original 0.015625\n",
      "self.train_discrete_extra_sog_fuzzy shape (806, 200)\n",
      "accuracy_score_sog 0.025\n",
      "recall_score_sog 0.041666666666666664\n",
      "precision_score_sog 0.022727272727272728\n",
      "f1_score_sog 0.029411764705882356\n",
      "Experiment number: 27\n"
     ]
    },
    {
     "name": "stderr",
     "output_type": "stream",
     "text": [
      "C:\\Users\\fooli\\anaconda3\\envs\\gpu_env\\lib\\site-packages\\sklearn\\metrics\\_classification.py:1469: UndefinedMetricWarning: Recall is ill-defined and being set to 0.0 in labels with no true samples. Use `zero_division` parameter to control this behavior.\n",
      "  _warn_prf(average, modifier, msg_start, len(result))\n",
      "C:\\Users\\fooli\\anaconda3\\envs\\gpu_env\\lib\\site-packages\\sklearn\\metrics\\_classification.py:1469: UndefinedMetricWarning: Precision is ill-defined and being set to 0.0 in labels with no predicted samples. Use `zero_division` parameter to control this behavior.\n",
      "  _warn_prf(average, modifier, msg_start, len(result))\n",
      "C:\\Users\\fooli\\anaconda3\\envs\\gpu_env\\lib\\site-packages\\sklearn\\metrics\\_classification.py:1469: UndefinedMetricWarning: Recall is ill-defined and being set to 0.0 in labels with no true samples. Use `zero_division` parameter to control this behavior.\n",
      "  _warn_prf(average, modifier, msg_start, len(result))\n",
      "C:\\Users\\fooli\\anaconda3\\envs\\gpu_env\\lib\\site-packages\\sklearn\\metrics\\_classification.py:1469: UndefinedMetricWarning: Precision is ill-defined and being set to 0.0 in labels with no predicted samples. Use `zero_division` parameter to control this behavior.\n",
      "  _warn_prf(average, modifier, msg_start, len(result))\n"
     ]
    },
    {
     "name": "stdout",
     "output_type": "stream",
     "text": [
      "accuracy_score_orignial 0.025\n",
      "recall_score_original 0.041666666666666664\n",
      "precision_score_original 0.025\n",
      "f1_score_original 0.03125\n",
      "self.train_discrete_extra_sog_fuzzy shape (806, 200)\n",
      "accuracy_score_sog 0.0375\n",
      "recall_score_sog 0.16666666666666666\n",
      "precision_score_sog 0.07291666666666666\n",
      "f1_score_sog 0.09821428571428573\n",
      "Experiment number: 28\n"
     ]
    },
    {
     "name": "stderr",
     "output_type": "stream",
     "text": [
      "C:\\Users\\fooli\\anaconda3\\envs\\gpu_env\\lib\\site-packages\\sklearn\\metrics\\_classification.py:1469: UndefinedMetricWarning: Recall is ill-defined and being set to 0.0 in labels with no true samples. Use `zero_division` parameter to control this behavior.\n",
      "  _warn_prf(average, modifier, msg_start, len(result))\n",
      "C:\\Users\\fooli\\anaconda3\\envs\\gpu_env\\lib\\site-packages\\sklearn\\metrics\\_classification.py:1469: UndefinedMetricWarning: Precision is ill-defined and being set to 0.0 in labels with no predicted samples. Use `zero_division` parameter to control this behavior.\n",
      "  _warn_prf(average, modifier, msg_start, len(result))\n",
      "C:\\Users\\fooli\\anaconda3\\envs\\gpu_env\\lib\\site-packages\\sklearn\\metrics\\_classification.py:1469: UndefinedMetricWarning: Recall is ill-defined and being set to 0.0 in labels with no true samples. Use `zero_division` parameter to control this behavior.\n",
      "  _warn_prf(average, modifier, msg_start, len(result))\n",
      "C:\\Users\\fooli\\anaconda3\\envs\\gpu_env\\lib\\site-packages\\sklearn\\metrics\\_classification.py:1469: UndefinedMetricWarning: Precision is ill-defined and being set to 0.0 in labels with no predicted samples. Use `zero_division` parameter to control this behavior.\n",
      "  _warn_prf(average, modifier, msg_start, len(result))\n"
     ]
    },
    {
     "name": "stdout",
     "output_type": "stream",
     "text": [
      "accuracy_score_orignial 0.025\n",
      "recall_score_original 0.041666666666666664\n",
      "precision_score_original 0.020833333333333332\n",
      "f1_score_original 0.027777777777777776\n",
      "self.train_discrete_extra_sog_fuzzy shape (806, 200)\n",
      "accuracy_score_sog 0.025\n",
      "recall_score_sog 0.041666666666666664\n",
      "precision_score_sog 0.025\n",
      "f1_score_sog 0.03125\n",
      "Experiment number: 29\n"
     ]
    },
    {
     "name": "stderr",
     "output_type": "stream",
     "text": [
      "C:\\Users\\fooli\\anaconda3\\envs\\gpu_env\\lib\\site-packages\\sklearn\\metrics\\_classification.py:1469: UndefinedMetricWarning: Recall is ill-defined and being set to 0.0 in labels with no true samples. Use `zero_division` parameter to control this behavior.\n",
      "  _warn_prf(average, modifier, msg_start, len(result))\n",
      "C:\\Users\\fooli\\anaconda3\\envs\\gpu_env\\lib\\site-packages\\sklearn\\metrics\\_classification.py:1469: UndefinedMetricWarning: Precision is ill-defined and being set to 0.0 in labels with no predicted samples. Use `zero_division` parameter to control this behavior.\n",
      "  _warn_prf(average, modifier, msg_start, len(result))\n",
      "C:\\Users\\fooli\\anaconda3\\envs\\gpu_env\\lib\\site-packages\\sklearn\\metrics\\_classification.py:1469: UndefinedMetricWarning: Recall is ill-defined and being set to 0.0 in labels with no true samples. Use `zero_division` parameter to control this behavior.\n",
      "  _warn_prf(average, modifier, msg_start, len(result))\n",
      "C:\\Users\\fooli\\anaconda3\\envs\\gpu_env\\lib\\site-packages\\sklearn\\metrics\\_classification.py:1469: UndefinedMetricWarning: Precision is ill-defined and being set to 0.0 in labels with no predicted samples. Use `zero_division` parameter to control this behavior.\n",
      "  _warn_prf(average, modifier, msg_start, len(result))\n"
     ]
    },
    {
     "name": "stdout",
     "output_type": "stream",
     "text": [
      "accuracy_score_orignial 0.025\n",
      "recall_score_original 0.041666666666666664\n",
      "precision_score_original 0.020833333333333332\n",
      "f1_score_original 0.027777777777777776\n",
      "self.train_discrete_extra_sog_fuzzy shape (806, 200)\n",
      "accuracy_score_sog 0.0375\n",
      "recall_score_sog 0.16666666666666666\n",
      "precision_score_sog 0.06944444444444445\n",
      "f1_score_sog 0.09583333333333333\n",
      "Experiment number: 30\n"
     ]
    },
    {
     "name": "stderr",
     "output_type": "stream",
     "text": [
      "C:\\Users\\fooli\\anaconda3\\envs\\gpu_env\\lib\\site-packages\\sklearn\\metrics\\_classification.py:1469: UndefinedMetricWarning: Recall is ill-defined and being set to 0.0 in labels with no true samples. Use `zero_division` parameter to control this behavior.\n",
      "  _warn_prf(average, modifier, msg_start, len(result))\n",
      "C:\\Users\\fooli\\anaconda3\\envs\\gpu_env\\lib\\site-packages\\sklearn\\metrics\\_classification.py:1469: UndefinedMetricWarning: Precision is ill-defined and being set to 0.0 in labels with no predicted samples. Use `zero_division` parameter to control this behavior.\n",
      "  _warn_prf(average, modifier, msg_start, len(result))\n",
      "C:\\Users\\fooli\\anaconda3\\envs\\gpu_env\\lib\\site-packages\\sklearn\\metrics\\_classification.py:1469: UndefinedMetricWarning: Recall is ill-defined and being set to 0.0 in labels with no true samples. Use `zero_division` parameter to control this behavior.\n",
      "  _warn_prf(average, modifier, msg_start, len(result))\n",
      "C:\\Users\\fooli\\anaconda3\\envs\\gpu_env\\lib\\site-packages\\sklearn\\metrics\\_classification.py:1469: UndefinedMetricWarning: Precision is ill-defined and being set to 0.0 in labels with no predicted samples. Use `zero_division` parameter to control this behavior.\n",
      "  _warn_prf(average, modifier, msg_start, len(result))\n"
     ]
    },
    {
     "name": "stdout",
     "output_type": "stream",
     "text": [
      "accuracy_score_orignial 0.025\n",
      "recall_score_original 0.041666666666666664\n",
      "precision_score_original 0.025\n",
      "f1_score_original 0.03125\n",
      "self.train_discrete_extra_sog_fuzzy shape (806, 200)\n",
      "accuracy_score_sog 0.025\n",
      "recall_score_sog 0.041666666666666664\n",
      "precision_score_sog 0.020833333333333332\n",
      "f1_score_sog 0.027777777777777776\n",
      "Not good precision_score_original !!!!!\n",
      "Not good accuracy result !!!!!\n"
     ]
    },
    {
     "name": "stderr",
     "output_type": "stream",
     "text": [
      "C:\\Users\\fooli\\anaconda3\\envs\\gpu_env\\lib\\site-packages\\sklearn\\metrics\\_classification.py:1469: UndefinedMetricWarning: Recall is ill-defined and being set to 0.0 in labels with no true samples. Use `zero_division` parameter to control this behavior.\n",
      "  _warn_prf(average, modifier, msg_start, len(result))\n",
      "C:\\Users\\fooli\\anaconda3\\envs\\gpu_env\\lib\\site-packages\\sklearn\\metrics\\_classification.py:1469: UndefinedMetricWarning: Precision is ill-defined and being set to 0.0 in labels with no predicted samples. Use `zero_division` parameter to control this behavior.\n",
      "  _warn_prf(average, modifier, msg_start, len(result))\n",
      "C:\\Users\\fooli\\anaconda3\\envs\\gpu_env\\lib\\site-packages\\sklearn\\metrics\\_classification.py:1469: UndefinedMetricWarning: Recall is ill-defined and being set to 0.0 in labels with no true samples. Use `zero_division` parameter to control this behavior.\n",
      "  _warn_prf(average, modifier, msg_start, len(result))\n",
      "C:\\Users\\fooli\\anaconda3\\envs\\gpu_env\\lib\\site-packages\\sklearn\\metrics\\_classification.py:1469: UndefinedMetricWarning: Precision is ill-defined and being set to 0.0 in labels with no predicted samples. Use `zero_division` parameter to control this behavior.\n",
      "  _warn_prf(average, modifier, msg_start, len(result))\n"
     ]
    },
    {
     "name": "stdout",
     "output_type": "stream",
     "text": [
      "all_accuracy_score_original mean 0.022916666666666672\n",
      "all_recall_score_original mean 0.03819444444444445\n",
      "all_precision_score_original mean 0.02056024993524994\n",
      "all_f1_score_original mean 0.026680856553147576\n",
      "all_accuracy_score_sog mean 0.02666666666666667\n",
      "all_recall_score_sog mean 0.061805555555555565\n",
      "all_precision_score_sog mean 0.030458476708476703\n",
      "all_f1_score_sog mean 0.04026934677379724\n"
     ]
    },
    {
     "data": {
      "image/png": "[encoded data removed]",
      "text/plain": [
       "<Figure size 1200x500 with 4 Axes>"
      ]
     },
     "metadata": {},
     "output_type": "display_data"
    },
    {
     "name": "stdout",
     "output_type": "stream",
     "text": [
      "Accuracy Score T-Test\n",
      "                      Variable     N      Mean        SD        SE  95% Conf.  \\\n",
      "0  all_accuracy_score_original  30.0  0.022917  0.004738  0.000865   0.021147   \n",
      "1       all_accuracy_score_sog  30.0  0.026667  0.006343  0.001158   0.024298   \n",
      "2                     combined  60.0  0.024792  0.005864  0.000757   0.023277   \n",
      "\n",
      "   Interval  \n",
      "0  0.024686  \n",
      "1  0.029035  \n",
      "2  0.026306  \n",
      "                                  Independent t-test  results\n",
      "0  Difference (all_accuracy_score_original - all_...  -0.0037\n",
      "1                              Degrees of freedom =   58.0000\n",
      "2                                               t =   -2.5944\n",
      "3                           Two side test p value =    0.0120\n",
      "4                          Difference < 0 p value =    0.0060\n",
      "5                          Difference > 0 p value =    0.9940\n",
      "6                                       Cohen's d =   -0.6699\n",
      "7                                       Hedge's g =   -0.6612\n",
      "8                                  Glass's delta1 =   -0.7915\n",
      "9                                Point-Biserial r =   -0.3225\n",
      "Recall Score T-Test\n",
      "                    Variable     N      Mean        SD        SE  95% Conf.  \\\n",
      "0  all_recall_score_original  30.0  0.038194  0.007897  0.001442   0.035246   \n",
      "1       all_recall_score_sog  30.0  0.061806  0.048159  0.008793   0.043823   \n",
      "2                   combined  60.0  0.050000  0.036227  0.004677   0.040642   \n",
      "\n",
      "   Interval  \n",
      "0  0.041143  \n",
      "1  0.079788  \n",
      "2  0.059358  \n",
      "                                  Independent t-test  results\n",
      "0  Difference (all_recall_score_original - all_re...  -0.0236\n",
      "1                              Degrees of freedom =   58.0000\n",
      "2                                               t =   -2.6499\n",
      "3                           Two side test p value =    0.0104\n",
      "4                          Difference < 0 p value =    0.0052\n",
      "5                          Difference > 0 p value =    0.9948\n",
      "6                                       Cohen's d =   -0.6842\n",
      "7                                       Hedge's g =   -0.6753\n",
      "8                                  Glass's delta1 =   -2.9899\n",
      "9                                Point-Biserial r =   -0.3286\n",
      "Precision Score T-Test\n",
      "                       Variable     N      Mean        SD        SE  \\\n",
      "0  all_precision_score_original  30.0  0.020560  0.004297  0.000785   \n",
      "1       all_precision_score_sog  30.0  0.030458  0.020638  0.003768   \n",
      "2                      combined  60.0  0.025509  0.015599  0.002014   \n",
      "\n",
      "   95% Conf.  Interval  \n",
      "0   0.018956  0.022165  \n",
      "1   0.022752  0.038165  \n",
      "2   0.021480  0.029539  \n",
      "                                  Independent t-test  results\n",
      "0  Difference (all_precision_score_original - all...  -0.0099\n",
      "1                              Degrees of freedom =   58.0000\n",
      "2                                               t =   -2.5718\n",
      "3                           Two side test p value =    0.0127\n",
      "4                          Difference < 0 p value =    0.0064\n",
      "5                          Difference > 0 p value =    0.9936\n",
      "6                                       Cohen's d =   -0.6640\n",
      "7                                       Hedge's g =   -0.6554\n",
      "8                                  Glass's delta1 =   -2.3033\n",
      "9                                Point-Biserial r =   -0.3199\n",
      "F1 Score T-Test\n",
      "                Variable     N      Mean        SD        SE  95% Conf.  \\\n",
      "0  all_f1_score_original  30.0  0.026681  0.005421  0.000990   0.024657   \n",
      "1       all_f1_score_sog  30.0  0.040269  0.027989  0.005110   0.029818   \n",
      "2               combined  60.0  0.033475  0.021129  0.002728   0.028017   \n",
      "\n",
      "   Interval  \n",
      "0  0.028705  \n",
      "1  0.050721  \n",
      "2  0.038933  \n",
      "                                  Independent t-test  results\n",
      "0  Difference (all_f1_score_original - all_f1_sco...  -0.0136\n",
      "1                              Degrees of freedom =   58.0000\n",
      "2                                               t =   -2.6106\n",
      "3                           Two side test p value =    0.0115\n",
      "4                          Difference < 0 p value =    0.0057\n",
      "5                          Difference > 0 p value =    0.9943\n",
      "6                                       Cohen's d =   -0.6741\n",
      "7                                       Hedge's g =   -0.6653\n",
      "8                                  Glass's delta1 =   -2.5066\n",
      "9                                Point-Biserial r =   -0.3243\n"
     ]
    }
   ],
   "source": [
    "#Random Forest #(C = 1000,kernel='rbf',gamma ='auto',probability = True)\n",
    "import experiment\n",
    "unstable_repeat_num= 30\n",
    "scope_num = 100\n",
    "class_num = 8\n",
    "dim_num = 7\n",
    "best_num = 48\n",
    "interval = 1\n",
    "\n",
    "\n",
    "\n",
    "features_chosen = [0,1,2,3]\n",
    "feature_combination_number = 2\n",
    "experiment = experiment.Experiment()\n",
    "experiment.UTtest_Discrete(dataread,class_num,unstable_repeat_num,interval,features_chosen,feature_combination_number)"
   ]
  },
  {
   "cell_type": "code",
   "execution_count": 5,
   "id": "3a947be6",
   "metadata": {},
   "outputs": [
    {
     "name": "stdout",
     "output_type": "stream",
     "text": [
      "Sorted feature index for component 0 [1, 0, 2, 3, 6, 4, 5]\n",
      "Sorted imporance porporation for component 0  [0.7558656996388062, 0.10270201938956676, 0.089660574859676, 0.04527769956245393, 0.005696938357662173, 0.000644867519545508, 0.0001522006722895471]\n",
      "Sorted feature index for component 1 [0, 2, 1, 5, 3, 4, 6]\n",
      "Sorted imporance porporation for component 1  [0.5604994786440853, 0.26237458355825344, 0.06983529362357944, 0.06879901192483334, 0.02654603405519714, 0.009507222403260148, 0.002438375790790827]\n",
      "Sorted feature index for component 2 [0, 2, 1, 4, 3, 6, 5]\n",
      "Sorted imporance porporation for component 2  [0.6920745858319426, 0.12664178343575627, 0.06587545316049574, 0.06106797771059738, 0.038252499780500424, 0.015883361915335143, 0.00020433816537238777]\n",
      "Sorted feature index for component 3 [2, 6, 5, 4, 0, 3, 1]\n",
      "Sorted imporance porporation for component 3  [0.6964786958000452, 0.1556558612193372, 0.08386409315572324, 0.025037035549022504, 0.024780653728711823, 0.011606937493134763, 0.0025767230540254464]\n",
      "Sorted feature index for component 4 [6, 5, 4, 0, 1, 2, 3]\n",
      "Sorted imporance porporation for component 4  [0.9522208742332993, 0.03139349101539465, 0.010350839122514523, 0.0031374827526248292, 0.0012406282637481695, 0.0010558254257691656, 0.0006008591866494123]\n",
      "Sorted feature index for component 5 [0, 2, 1, 6, 3, 4, 5]\n",
      "Sorted imporance porporation for component 5  [0.5278522716756342, 0.22955718605632633, 0.0886510116922517, 0.0734593789550529, 0.06013707672753164, 0.01920704863118827, 0.0011360262620149914]\n",
      "Sorted feature index for component 6 [1, 5, 6, 2, 0, 4, 3]\n",
      "Sorted imporance porporation for component 6  [0.775370630014485, 0.17217111523254608, 0.029958181802459558, 0.016035301514356573, 0.003351932160066005, 0.0027634816444411705, 0.0003493576316454395]\n",
      "[0.72466768 0.15150271 0.09376313 0.01715072 0.00524515 0.00468087\n",
      " 0.00298975]\n"
     ]
    },
    {
     "data": {
      "image/png": "[encoded data removed]",
      "text/plain": [
       "<Figure size 640x480 with 1 Axes>"
      ]
     },
     "metadata": {},
     "output_type": "display_data"
    }
   ],
   "source": [
    "dataread.PCA_Comparision() #COMPONENT 123   0,1,2|0,2,1| 0,2,1,3"
   ]
  },
  {
   "cell_type": "code",
   "execution_count": null,
   "id": "79bfdb90",
   "metadata": {},
   "outputs": [],
   "source": []
  }
 ],
 "metadata": {
  "kernelspec": {
   "display_name": "Python (GPU)",
   "language": "python",
   "name": "gpu_env"
  },
  "language_info": {
   "codemirror_mode": {
    "name": "ipython",
    "version": 3
   },
   "file_extension": ".py",
   "mimetype": "text/x-python",
   "name": "python",
   "nbconvert_exporter": "python",
   "pygments_lexer": "ipython3",
   "version": "3.9.18"
  }
 },
 "nbformat": 4,
 "nbformat_minor": 5
}
