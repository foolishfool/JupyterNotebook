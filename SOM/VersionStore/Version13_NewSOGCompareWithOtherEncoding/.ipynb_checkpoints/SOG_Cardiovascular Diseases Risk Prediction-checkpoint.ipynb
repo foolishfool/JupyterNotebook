{
 "cells": [
  {
   "cell_type": "code",
   "execution_count": 1,
   "id": "bfe73aa3",
   "metadata": {},
   "outputs": [],
   "source": [
    "#THIS CODE ONLY DO THE WHOLE DATA TRAINING, NO CROSS_VALIDATION AND FEATURE SELECTION\n",
    "import pandas as pd\n",
    "import numpy as np\n",
    "import newSom\n",
    "import CDSOM\n",
    "import dataset_read\n",
    "import researchpy as rp\n",
    "import scipy.stats as stats\n",
    "import matplotlib.pyplot as plt\n",
    "import collections\n",
    "import warnings\n",
    "import experiment\n",
    "warnings.filterwarnings(\"ignore\", category=np.VisibleDeprecationWarning) "
   ]
  },
  {
   "cell_type": "code",
   "execution_count": 2,
   "id": "4bcbf78d",
   "metadata": {},
   "outputs": [],
   "source": [
    "dataread = dataset_read.DATAREAD()"
   ]
  },
  {
   "cell_type": "code",
   "execution_count": 3,
   "id": "6087d459",
   "metadata": {},
   "outputs": [
    {
     "name": "stdout",
     "output_type": "stream",
     "text": [
      " column number self.data_train_discrete 11\n"
     ]
    }
   ],
   "source": [
    "csv = pd.read_csv(\"CVD_cleaned.csv\")\n",
    "csv_original_encode = csv\n",
    "\n",
    "# class label do not need to onehot encoding, label ercoding will be OK\n",
    "dataread.label_encoding(csv_original_encode,\"General_Health\")\n",
    "#one hot encoding vs proposed\n",
    "#dataread.baseN_encoding(csv_original_encode,[\"Checkup\",\"Exercise\",\"Heart_Disease\",\"Skin_Cancer\",\"Other_Cancer\",\"Depression\",\"Diabetes\",\"Arthritis\",\"Sex\",\"Age_Category\",\"Smoking_History\"])\n",
    "\n",
    "\n",
    "dataread.label_encoding(csv,\"General_Health\")\n",
    "dataread.label_encoding(csv,\"Checkup\")\n",
    "dataread.label_encoding(csv,\"Exercise\")\n",
    "dataread.label_encoding(csv,\"Heart_Disease\")\n",
    "dataread.label_encoding(csv,\"Skin_Cancer\")\n",
    "dataread.label_encoding(csv,\"Other_Cancer\")\n",
    "dataread.label_encoding(csv,\"Depression\")\n",
    "dataread.label_encoding(csv,\"Diabetes\")\n",
    "dataread.label_encoding(csv,\"Arthritis\")\n",
    "dataread.label_encoding(csv,\"Sex\")\n",
    "dataread.label_encoding(csv,\"Age_Category\")\n",
    "dataread.label_encoding(csv,\"Smoking_History\")\n",
    "\n",
    "\n",
    "#*** -1 the class labe is not included \n",
    "\n",
    "\n",
    "\n",
    "#csv = csv.sample(int(csv.shape[0]*0.01))\n",
    "\n",
    "csv_test = csv.sample(int(csv.shape[0]*0.3))\n",
    "csv_training = csv.drop(csv_test.index,axis = 0)\n",
    "csv_training = csv\n",
    "#print(f\"csv_training {csv_training}\")\n",
    "#dataread.original_encoding_data = dataread.original_encoding_data.sample(int(dataread.original_encoding_data.shape[0]*0.01))\n",
    "\n",
    "dataread.original_encoding_data = csv\n",
    "dataread.original_encoded_feature_num = csv.shape[1]-1\n",
    "\n",
    "#csv_test_original_encoded = dataread.original_encoding_data.sample(int(dataread.original_encoding_data.shape[0]*0.3))\n",
    "#csv_training_original_encoded = dataread.original_encoding_data.drop(csv_test_original_encoded.index,axis = 0)\n",
    "csv_test_original_encoded = csv_test\n",
    "csv_training_original_encoded = csv_training\n",
    "#print(csv_training_original_encoded)\n",
    "#print(f\"csv_training {csv_training_original_encoded}\")\n",
    "dataread.initializedataset(csv,csv_training,csv_test,csv_training_original_encoded,csv_test_original_encoded,\"General_Health\")"
   ]
  },
  {
   "cell_type": "code",
   "execution_count": 4,
   "id": "06366c37",
   "metadata": {},
   "outputs": [
    {
     "name": "stdout",
     "output_type": "stream",
     "text": [
      "neuron unit number: 5\n",
      "weight_discrete_baseline (5, 18)\n"
     ]
    },
    {
     "ename": "KeyboardInterrupt",
     "evalue": "",
     "output_type": "error",
     "traceback": [
      "\u001b[1;31m---------------------------------------------------------------------------\u001b[0m",
      "\u001b[1;31mKeyboardInterrupt\u001b[0m                         Traceback (most recent call last)",
      "Cell \u001b[1;32mIn[4], line 13\u001b[0m\n\u001b[0;32m      7\u001b[0m interval \u001b[38;5;241m=\u001b[39m \u001b[38;5;241m5\u001b[39m\n\u001b[0;32m     12\u001b[0m experiment \u001b[38;5;241m=\u001b[39m experiment\u001b[38;5;241m.\u001b[39mExperiment()\n\u001b[1;32m---> 13\u001b[0m \u001b[43mexperiment\u001b[49m\u001b[38;5;241;43m.\u001b[39;49m\u001b[43mUTtest_Discrete_Continuous\u001b[49m\u001b[43m(\u001b[49m\u001b[43mdataread\u001b[49m\u001b[43m,\u001b[49m\u001b[38;5;28;43;01mFalse\u001b[39;49;00m\u001b[43m,\u001b[49m\u001b[43mclass_num\u001b[49m\u001b[43m,\u001b[49m\u001b[43mbest_num\u001b[49m\u001b[43m,\u001b[49m\u001b[43m \u001b[49m\u001b[43mscope_num\u001b[49m\u001b[43m,\u001b[49m\u001b[43munstable_repeat_num\u001b[49m\u001b[43m,\u001b[49m\u001b[38;5;241;43m0\u001b[39;49m\u001b[43m,\u001b[49m\u001b[43minterval\u001b[49m\u001b[43m,\u001b[49m\u001b[38;5;241;43m1\u001b[39;49m\u001b[43m,\u001b[49m\u001b[38;5;241;43m3\u001b[39;49m\u001b[43m)\u001b[49m\n",
      "File \u001b[1;32mC:\\JupyterDoc\\SOM\\VersionStore\\Version13_NewSOGCompareWithOtherEncoding\\experiment.py:315\u001b[0m, in \u001b[0;36mExperiment.UTtest_Discrete_Continuous\u001b[1;34m(self, dataread, noralimized, class_num, best_num, neuron_scope_num, unstable_repeat_num, type, interval, test_type, compareType)\u001b[0m\n\u001b[0;32m    313\u001b[0m \u001b[38;5;28;01mwhile\u001b[39;00m y \u001b[38;5;241m<\u001b[39m\u001b[38;5;241m=\u001b[39m neuron_scope_num:\n\u001b[0;32m    314\u001b[0m     \u001b[38;5;28mprint\u001b[39m(\u001b[38;5;124m\"\u001b[39m\u001b[38;5;124mneuron unit number: \u001b[39m\u001b[38;5;132;01m{}\u001b[39;00m\u001b[38;5;124m\"\u001b[39m\u001b[38;5;241m.\u001b[39mformat(y))           \n\u001b[1;32m--> 315\u001b[0m     \u001b[38;5;28;43mself\u001b[39;49m\u001b[38;5;241;43m.\u001b[39;49m\u001b[43mInitializedExperimentDataList\u001b[49m\u001b[43m(\u001b[49m\n\u001b[0;32m    316\u001b[0m \u001b[43m                        \u001b[49m\u001b[43mdataread\u001b[49m\u001b[43m,\u001b[49m\n\u001b[0;32m    317\u001b[0m \u001b[43m                        \u001b[49m\u001b[43mnoralimized\u001b[49m\u001b[43m,\u001b[49m\n\u001b[0;32m    318\u001b[0m \u001b[43m                        \u001b[49m\u001b[43my\u001b[49m\u001b[43m,\u001b[49m\n\u001b[0;32m    319\u001b[0m \u001b[43m                        \u001b[49m\u001b[43mall_train_score_W0_p\u001b[49m\u001b[43m,\u001b[49m\n\u001b[0;32m    320\u001b[0m \u001b[43m                        \u001b[49m\u001b[43mall_train_score_W_combine_p\u001b[49m\u001b[43m,\u001b[49m\n\u001b[0;32m    321\u001b[0m \u001b[43m                        \u001b[49m\u001b[43mtest_score_W0_p\u001b[49m\u001b[43m,\u001b[49m\n\u001b[0;32m    322\u001b[0m \u001b[43m                        \u001b[49m\u001b[43mtest_score_W_combine_p\u001b[49m\u001b[43m,\u001b[49m\n\u001b[0;32m    323\u001b[0m \u001b[43m                        \u001b[49m\u001b[43mall_train_score_W0_n\u001b[49m\u001b[43m,\u001b[49m\n\u001b[0;32m    324\u001b[0m \u001b[43m                        \u001b[49m\u001b[43mall_train_score_W_combine_n\u001b[49m\u001b[43m,\u001b[49m\n\u001b[0;32m    325\u001b[0m \u001b[43m                        \u001b[49m\u001b[43mtest_score_W0_n\u001b[49m\u001b[43m,\u001b[49m\n\u001b[0;32m    326\u001b[0m \u001b[43m                        \u001b[49m\u001b[43mtest_score_W_combine_n\u001b[49m\u001b[43m,\u001b[49m\n\u001b[0;32m    327\u001b[0m \u001b[43m                        \u001b[49m\u001b[43mall_train_score_W0_a\u001b[49m\u001b[43m,\u001b[49m\n\u001b[0;32m    328\u001b[0m \u001b[43m                        \u001b[49m\u001b[43mall_train_score_W_combine_a\u001b[49m\u001b[43m,\u001b[49m\n\u001b[0;32m    329\u001b[0m \u001b[43m                        \u001b[49m\u001b[43mtest_score_W0_a\u001b[49m\u001b[43m,\u001b[49m\n\u001b[0;32m    330\u001b[0m \u001b[43m                        \u001b[49m\u001b[43mtest_score_W_combine_a\u001b[49m\u001b[43m,\u001b[49m\n\u001b[0;32m    331\u001b[0m \u001b[43m                        \u001b[49m\u001b[43mtrain_discrete_score_W0_p\u001b[49m\u001b[43m,\u001b[49m\n\u001b[0;32m    332\u001b[0m \u001b[43m                        \u001b[49m\u001b[43mtrain_discrete_score_W_discrete_p\u001b[49m\u001b[43m,\u001b[49m\n\u001b[0;32m    333\u001b[0m \u001b[43m                        \u001b[49m\u001b[43mtest_discrete_score_W0_p\u001b[49m\u001b[43m,\u001b[49m\n\u001b[0;32m    334\u001b[0m \u001b[43m                        \u001b[49m\u001b[43mtest_discrete_score_W_discrete_p\u001b[49m\u001b[43m,\u001b[49m\n\u001b[0;32m    335\u001b[0m \u001b[43m                        \u001b[49m\u001b[43mtrain_discrete_score_W0_n\u001b[49m\u001b[43m,\u001b[49m\n\u001b[0;32m    336\u001b[0m \u001b[43m                        \u001b[49m\u001b[43mtrain_discrete_score_W_discrete_n\u001b[49m\u001b[43m,\u001b[49m\n\u001b[0;32m    337\u001b[0m \u001b[43m                        \u001b[49m\u001b[43mtest_discrete_score_W0_n\u001b[49m\u001b[43m,\u001b[49m\n\u001b[0;32m    338\u001b[0m \u001b[43m                        \u001b[49m\u001b[43mtest_discrete_score_W_discrete_n\u001b[49m\u001b[43m,\u001b[49m\n\u001b[0;32m    339\u001b[0m \u001b[43m                        \u001b[49m\u001b[43mtrain_discrete_score_W0_a\u001b[49m\u001b[43m,\u001b[49m\n\u001b[0;32m    340\u001b[0m \u001b[43m                        \u001b[49m\u001b[43mtrain_discrete_score_W_discrete_a\u001b[49m\u001b[43m,\u001b[49m\n\u001b[0;32m    341\u001b[0m \u001b[43m                        \u001b[49m\u001b[43mtest_discrete_score_W0_a\u001b[49m\u001b[43m,\u001b[49m\n\u001b[0;32m    342\u001b[0m \u001b[43m                        \u001b[49m\u001b[43mtest_discrete_score_W_discrete_a\u001b[49m\u001b[43m,\u001b[49m\n\u001b[0;32m    343\u001b[0m \u001b[43m                        \u001b[49m\u001b[43mtest_type\u001b[49m\u001b[43m,\u001b[49m\n\u001b[0;32m    344\u001b[0m \u001b[43m                        \u001b[49m\u001b[43mcompareType\u001b[49m\n\u001b[0;32m    345\u001b[0m \u001b[43m                        \u001b[49m\u001b[43m)\u001b[49m        \n\u001b[0;32m    346\u001b[0m     y \u001b[38;5;241m=\u001b[39my \u001b[38;5;241m+\u001b[39m interval\n\u001b[0;32m    347\u001b[0m     \u001b[38;5;28;01mif\u001b[39;00m(y\u001b[38;5;241m<\u001b[39m\u001b[38;5;241m=\u001b[39m neuron_scope_num):\n",
      "File \u001b[1;32mC:\\JupyterDoc\\SOM\\VersionStore\\Version13_NewSOGCompareWithOtherEncoding\\experiment.py:206\u001b[0m, in \u001b[0;36mExperiment.InitializedExperimentDataList\u001b[1;34m(self, dataread, continuous_features_noralimized, y, all_train_score_W0_p, all_train_score_W_combine_p, test_score_W0_p, test_score_W_combine_p, all_train_score_W0_n, all_train_score_W_combine_n, test_score_W0_n, test_score_W_combine_n, all_train_score_W0_a, all_train_score_W_combine_a, test_score_W0_a, test_score_W_combine_a, train_discrete_score_W0_p, train_discrete_score_W_discrete_p, test_discrete_score_W0_p, test_discrete_score_W_discrete_p, train_discrete_score_W0_n, train_discrete_score_W_discrete_n, test_discrete_score_W0_n, test_discrete_score_W_discrete_n, train_discrete_score_W0_a, train_discrete_score_W_discrete_a, test_discrete_score_W0_a, test_discrete_score_W_discrete_a, iscontinous_data_test, compareType)\u001b[0m\n\u001b[0;32m    204\u001b[0m     optimize_W\u001b[38;5;241m.\u001b[39mdo_COSOM(optimize_W\u001b[38;5;241m.\u001b[39msom_discrete_original,optimize_W\u001b[38;5;241m.\u001b[39mdata_train_discrete_normalized, optimize_W\u001b[38;5;241m.\u001b[39mdata_train_discrete_unnormalized, optimize_W\u001b[38;5;241m.\u001b[39mdata_test_discrete_normalized,optimize_W\u001b[38;5;241m.\u001b[39mdata_test_discrete_unnormalized,iscontinous_data_test,\u001b[38;5;241m1\u001b[39m)\n\u001b[0;32m    205\u001b[0m \u001b[38;5;28;01mif\u001b[39;00m compareType \u001b[38;5;241m==\u001b[39m \u001b[38;5;241m3\u001b[39m: \u001b[38;5;66;03m#discrete unnormalization\u001b[39;00m\n\u001b[1;32m--> 206\u001b[0m      \u001b[43moptimize_W\u001b[49m\u001b[38;5;241;43m.\u001b[39;49m\u001b[43mdo_DOSOM\u001b[49m\u001b[43m(\u001b[49m\u001b[43m)\u001b[49m\n\u001b[0;32m    207\u001b[0m \u001b[38;5;28;01mif\u001b[39;00m compareType \u001b[38;5;241m==\u001b[39m \u001b[38;5;241m4\u001b[39m: \u001b[38;5;66;03m# hybrid embedding continous + discrete_embedding\u001b[39;00m\n\u001b[0;32m    208\u001b[0m      optimize_W\u001b[38;5;241m.\u001b[39mdo_CDOSOM()    \n",
      "File \u001b[1;32mC:\\JupyterDoc\\SOM\\VersionStore\\Version13_NewSOGCompareWithOtherEncoding\\CDSOM.py:1177\u001b[0m, in \u001b[0;36mCDSOM.do_DOSOM\u001b[1;34m(self)\u001b[0m\n\u001b[0;32m   1173\u001b[0m \u001b[38;5;28mself\u001b[39m\u001b[38;5;241m.\u001b[39mtrain_discrete_W0_predicted_label \u001b[38;5;241m=\u001b[39m \u001b[38;5;28mself\u001b[39m\u001b[38;5;241m.\u001b[39msom_discrete_baseline_encoder\u001b[38;5;241m.\u001b[39mpredict(\u001b[38;5;28mself\u001b[39m\u001b[38;5;241m.\u001b[39mdata_train_baseline_encoded,weight_discrete_baseline)   \n\u001b[0;32m   1175\u001b[0m predicted_clusters_indexes, current_clustered_datas \u001b[38;5;241m=\u001b[39m \u001b[38;5;28mself\u001b[39m\u001b[38;5;241m.\u001b[39mget_indices_and_data_in_predicted_clusters(\u001b[38;5;28mself\u001b[39m\u001b[38;5;241m.\u001b[39msom_discrete_baseline_encoder\u001b[38;5;241m.\u001b[39mweights0\u001b[38;5;241m.\u001b[39mshape[\u001b[38;5;241m0\u001b[39m], \u001b[38;5;28mself\u001b[39m\u001b[38;5;241m.\u001b[39mtrain_discrete_W0_predicted_label,\u001b[38;5;28mself\u001b[39m\u001b[38;5;241m.\u001b[39mdata_train_baseline_encoded)   \n\u001b[1;32m-> 1177\u001b[0m \u001b[38;5;28;43mself\u001b[39;49m\u001b[38;5;241;43m.\u001b[39;49m\u001b[43mgetEachNeuronProbabilityOfEachFeatureValue\u001b[49m\u001b[43m(\u001b[49m\u001b[43mpredicted_clusters_indexes\u001b[49m\u001b[43m)\u001b[49m\n\u001b[0;32m   1179\u001b[0m \u001b[38;5;28mself\u001b[39m\u001b[38;5;241m.\u001b[39mgetLabelMapping( \u001b[38;5;28mself\u001b[39m\u001b[38;5;241m.\u001b[39mget_mapped_class_in_clusters(predicted_clusters_indexes,\u001b[38;5;28mself\u001b[39m\u001b[38;5;241m.\u001b[39mtrain_label_all) ,\u001b[38;5;241m0\u001b[39m)  \n\u001b[0;32m   1180\u001b[0m \u001b[38;5;66;03m# the value in predicted_clusters are true label value    \u001b[39;00m\n",
      "File \u001b[1;32mC:\\JupyterDoc\\SOM\\VersionStore\\Version13_NewSOGCompareWithOtherEncoding\\CDSOM.py:920\u001b[0m, in \u001b[0;36mCDSOM.getEachNeuronProbabilityOfEachFeatureValue\u001b[1;34m(self, neuron_predicted_groups)\u001b[0m\n\u001b[0;32m    917\u001b[0m \u001b[38;5;28mself\u001b[39m\u001b[38;5;241m.\u001b[39mall_features_mapping \u001b[38;5;241m=\u001b[39m{}\n\u001b[0;32m    918\u001b[0m \u001b[38;5;28;01mfor\u001b[39;00m i \u001b[38;5;129;01min\u001b[39;00m \u001b[38;5;28mrange\u001b[39m(\u001b[38;5;241m0\u001b[39m, \u001b[38;5;28mlen\u001b[39m(\u001b[38;5;28mself\u001b[39m\u001b[38;5;241m.\u001b[39mall_feature_groups)):\n\u001b[0;32m    919\u001b[0m    \u001b[38;5;66;03m# print(f\"  feature  {i}!!!!!!!!!!!\")\u001b[39;00m\n\u001b[1;32m--> 920\u001b[0m     \u001b[38;5;28mself\u001b[39m\u001b[38;5;241m.\u001b[39mall_features_mapping[i] \u001b[38;5;241m=\u001b[39m \u001b[38;5;28;43mself\u001b[39;49m\u001b[38;5;241;43m.\u001b[39;49m\u001b[43mgetOneSingleFeatureNeuronProbability_fuzzy\u001b[49m\u001b[43m(\u001b[49m\u001b[38;5;28;43mself\u001b[39;49m\u001b[38;5;241;43m.\u001b[39;49m\u001b[43mall_feature_groups\u001b[49m\u001b[43m[\u001b[49m\u001b[43mi\u001b[49m\u001b[43m]\u001b[49m\u001b[43m,\u001b[49m\u001b[43mneuron_predicted_groups\u001b[49m\u001b[43m)\u001b[49m\n",
      "File \u001b[1;32mC:\\JupyterDoc\\SOM\\VersionStore\\Version13_NewSOGCompareWithOtherEncoding\\CDSOM.py:862\u001b[0m, in \u001b[0;36mCDSOM.getOneSingleFeatureNeuronProbability_fuzzy\u001b[1;34m(self, one_feature_dic, neuron_predicted_groups)\u001b[0m\n\u001b[0;32m    859\u001b[0m probability_list \u001b[38;5;241m=\u001b[39m []\n\u001b[0;32m    860\u001b[0m \u001b[38;5;28;01mfor\u001b[39;00m i \u001b[38;5;129;01min\u001b[39;00m \u001b[38;5;28mrange\u001b[39m(\u001b[38;5;241m0\u001b[39m,\u001b[38;5;28mlen\u001b[39m(neuron_predicted_groups)) :  \n\u001b[0;32m    861\u001b[0m     \u001b[38;5;66;03m#print(\"New neuron _predicted group !!!\")       \u001b[39;00m\n\u001b[1;32m--> 862\u001b[0m     probability \u001b[38;5;241m=\u001b[39m \u001b[38;5;28;43mself\u001b[39;49m\u001b[38;5;241;43m.\u001b[39;49m\u001b[43mgetCommanIndexesRatioInNeurons_fuzzy\u001b[49m\u001b[43m(\u001b[49m\u001b[43mone_feature_dic\u001b[49m\u001b[43m[\u001b[49m\u001b[43mkey\u001b[49m\u001b[43m]\u001b[49m\u001b[43m,\u001b[49m\u001b[43mneuron_predicted_groups\u001b[49m\u001b[43m[\u001b[49m\u001b[43mi\u001b[49m\u001b[43m]\u001b[49m\u001b[43m)\u001b[49m \n\u001b[0;32m    863\u001b[0m     \u001b[38;5;66;03m#print(f\"i {i} neuron_predicted_groups[i] {len(neuron_predicted_groups[i])}\")  \u001b[39;00m\n\u001b[0;32m    864\u001b[0m     probability_list\u001b[38;5;241m.\u001b[39mappend(probability)\n",
      "File \u001b[1;32mC:\\JupyterDoc\\SOM\\VersionStore\\Version13_NewSOGCompareWithOtherEncoding\\CDSOM.py:712\u001b[0m, in \u001b[0;36mCDSOM.getCommanIndexesRatioInNeurons_fuzzy\u001b[1;34m(self, feature_group_intersection, one_neuron_predict_group)\u001b[0m\n\u001b[0;32m    709\u001b[0m \u001b[38;5;28;01mdef\u001b[39;00m \u001b[38;5;21mgetCommanIndexesRatioInNeurons_fuzzy\u001b[39m(\u001b[38;5;28mself\u001b[39m, feature_group_intersection, one_neuron_predict_group): \u001b[38;5;66;03m# membership funciton\u001b[39;00m\n\u001b[0;32m    710\u001b[0m     \u001b[38;5;66;03m# difference with getCommanIndexesRatioInNeurons is the denomitor\u001b[39;00m\n\u001b[0;32m    711\u001b[0m     \u001b[38;5;28;01mif\u001b[39;00m \u001b[38;5;28mlen\u001b[39m(one_neuron_predict_group) \u001b[38;5;241m!=\u001b[39m\u001b[38;5;241m0\u001b[39m:\n\u001b[1;32m--> 712\u001b[0m         \u001b[38;5;28;01mreturn\u001b[39;00m \u001b[38;5;28mround\u001b[39m(\u001b[38;5;28mlen\u001b[39m(\u001b[43mnp\u001b[49m\u001b[38;5;241;43m.\u001b[39;49m\u001b[43mintersect1d\u001b[49m\u001b[43m(\u001b[49m\u001b[43mfeature_group_intersection\u001b[49m\u001b[43m,\u001b[49m\u001b[43m \u001b[49m\u001b[43mone_neuron_predict_group\u001b[49m\u001b[43m)\u001b[49m)\u001b[38;5;241m/\u001b[39m\u001b[38;5;28mlen\u001b[39m(one_neuron_predict_group),\u001b[38;5;241m3\u001b[39m) \n\u001b[0;32m    713\u001b[0m     \u001b[38;5;28;01melse\u001b[39;00m: \u001b[38;5;28;01mreturn\u001b[39;00m \u001b[38;5;241m0\u001b[39m\n",
      "File \u001b[1;32m<__array_function__ internals>:180\u001b[0m, in \u001b[0;36mintersect1d\u001b[1;34m(*args, **kwargs)\u001b[0m\n",
      "File \u001b[1;32m~\\anaconda3\\envs\\gpu_env\\lib\\site-packages\\numpy\\lib\\arraysetops.py:453\u001b[0m, in \u001b[0;36mintersect1d\u001b[1;34m(ar1, ar2, assume_unique, return_indices)\u001b[0m\n\u001b[0;32m    450\u001b[0m \u001b[38;5;28;01melse\u001b[39;00m:\n\u001b[0;32m    451\u001b[0m     aux\u001b[38;5;241m.\u001b[39msort()\n\u001b[1;32m--> 453\u001b[0m mask \u001b[38;5;241m=\u001b[39m \u001b[43maux\u001b[49m\u001b[43m[\u001b[49m\u001b[38;5;241;43m1\u001b[39;49m\u001b[43m:\u001b[49m\u001b[43m]\u001b[49m\u001b[43m \u001b[49m\u001b[38;5;241;43m==\u001b[39;49m\u001b[43m \u001b[49m\u001b[43maux\u001b[49m\u001b[43m[\u001b[49m\u001b[43m:\u001b[49m\u001b[38;5;241;43m-\u001b[39;49m\u001b[38;5;241;43m1\u001b[39;49m\u001b[43m]\u001b[49m\n\u001b[0;32m    454\u001b[0m int1d \u001b[38;5;241m=\u001b[39m aux[:\u001b[38;5;241m-\u001b[39m\u001b[38;5;241m1\u001b[39m][mask]\n\u001b[0;32m    456\u001b[0m \u001b[38;5;28;01mif\u001b[39;00m return_indices:\n",
      "\u001b[1;31mKeyboardInterrupt\u001b[0m: "
     ]
    }
   ],
   "source": [
    "#new binary endocing\n",
    "import experiment\n",
    "unstable_repeat_num= 30\n",
    "scope_num = 100\n",
    "class_num = 5\n",
    "best_num = 48\n",
    "interval = 5\n",
    "\n",
    "\n",
    "\n",
    "\n",
    "experiment = experiment.Experiment()\n",
    "experiment.UTtest_Discrete_Continuous(dataread,False,class_num,best_num, scope_num,unstable_repeat_num,0,interval,1,3)"
   ]
  },
  {
   "cell_type": "code",
   "execution_count": null,
   "id": "2a632b77",
   "metadata": {},
   "outputs": [],
   "source": [
    "#new one hot\n",
    "import experiment\n",
    "unstable_repeat_num= 30\n",
    "scope_num = 50\n",
    "class_num = 5\n",
    "best_num = 48\n",
    "interval = 1\n",
    "\n",
    "\n",
    "\n",
    "\n",
    "experiment = experiment.Experiment()\n",
    "experiment.UTtest_Discrete_Continuous(dataread,False,class_num,best_num, scope_num,unstable_repeat_num,0,interval,1,3)"
   ]
  },
  {
   "cell_type": "code",
   "execution_count": null,
   "id": "382dbda8",
   "metadata": {},
   "outputs": [],
   "source": [
    "#new hash endocing\n",
    "import experiment\n",
    "unstable_repeat_num= 30\n",
    "scope_num = 50\n",
    "class_num = 5\n",
    "best_num = 48\n",
    "interval = 1\n",
    "\n",
    "\n",
    "\n",
    "\n",
    "experiment = experiment.Experiment()\n",
    "experiment.UTtest_Discrete_Continuous(dataread,False,class_num,best_num, scope_num,unstable_repeat_num,0,interval,1,3)"
   ]
  },
  {
   "cell_type": "code",
   "execution_count": null,
   "id": "d2e74160",
   "metadata": {},
   "outputs": [],
   "source": [
    "#new sum endocing\n",
    "import experiment\n",
    "unstable_repeat_num= 30\n",
    "scope_num = 50\n",
    "class_num = 5\n",
    "best_num = 48\n",
    "interval = 1\n",
    "\n",
    "\n",
    "\n",
    "\n",
    "experiment = experiment.Experiment()\n",
    "experiment.UTtest_Discrete_Continuous(dataread,False,class_num,best_num, scope_num,unstable_repeat_num,0,interval,1,3)"
   ]
  },
  {
   "cell_type": "code",
   "execution_count": null,
   "id": "6e333749",
   "metadata": {},
   "outputs": [],
   "source": [
    " #new baseN endocing\n",
    "import experiment\n",
    "unstable_repeat_num= 30\n",
    "scope_num = 50\n",
    "class_num = 5\n",
    "best_num = 48\n",
    "interval = 1\n",
    "\n",
    "\n",
    "\n",
    "\n",
    "experiment = experiment.Experiment()\n",
    "experiment.UTtest_Discrete_Continuous(dataread,False,class_num,best_num, scope_num,unstable_repeat_num,0,interval,1,3)"
   ]
  },
  {
   "cell_type": "code",
   "execution_count": null,
   "id": "7b0ea935",
   "metadata": {},
   "outputs": [],
   "source": []
  },
  {
   "cell_type": "code",
   "execution_count": null,
   "id": "4bd38df0",
   "metadata": {},
   "outputs": [],
   "source": []
  }
 ],
 "metadata": {
  "kernelspec": {
   "display_name": "Python (GPU)",
   "language": "python",
   "name": "gpu_env"
  },
  "language_info": {
   "codemirror_mode": {
    "name": "ipython",
    "version": 3
   },
   "file_extension": ".py",
   "mimetype": "text/x-python",
   "name": "python",
   "nbconvert_exporter": "python",
   "pygments_lexer": "ipython3",
   "version": "3.9.18"
  }
 },
 "nbformat": 4,
 "nbformat_minor": 5
}
