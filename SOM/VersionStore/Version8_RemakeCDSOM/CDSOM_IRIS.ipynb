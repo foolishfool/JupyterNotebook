{
 "cells": [
  {
   "cell_type": "code",
   "execution_count": 1,
   "id": "e9d34dde",
   "metadata": {},
   "outputs": [],
   "source": [
    "#THIS CODE ONLY DO THE WHOLE DATA TRAINING, NO CROSS_VALIDATION AND FEATURE SELECTION\n",
    "import pandas as pd\n",
    "import numpy as np\n",
    "import newSom\n",
    "import CDSOM\n",
    "import dataset_read\n",
    "import researchpy as rp\n",
    "import scipy.stats as stats\n",
    "import matplotlib.pyplot as plt\n",
    "import collections\n",
    "import warnings\n",
    "import experiment\n",
    "warnings.filterwarnings(\"ignore\", category=np.VisibleDeprecationWarning) "
   ]
  },
  {
   "cell_type": "code",
   "execution_count": 2,
   "id": "6aee060f",
   "metadata": {},
   "outputs": [],
   "source": [
    "dataread = dataset_read.DATAREAD()"
   ]
  },
  {
   "cell_type": "code",
   "execution_count": 3,
   "id": "de6b4ea1",
   "metadata": {
    "scrolled": true
   },
   "outputs": [
    {
     "name": "stdout",
     "output_type": "stream",
     "text": [
      "31\n",
      "23\n",
      "38\n",
      "21\n",
      "self.data_continuous_indexes ['SepalLengthCm', 'SepalWidthCm', 'PetalLengthCm', 'PetalWidthCm'] \n"
     ]
    }
   ],
   "source": [
    "csv = pd.read_csv(\"Iris.csv\")\n",
    "csv = csv.drop(columns=['Id'])\n",
    "dataread.stringToIntIrisDataSet(csv,\"Species\")\n",
    "csv_test = csv.sample(int(csv.shape[0]*0.3))\n",
    "csv_training = csv.drop(csv_test.index,axis = 0)\n",
    "dataread.initializedataset(csv,csv_training,csv_test,\"Species\",10)\n",
    "\n",
    "#print(\"self.data_train len {}\".format(len(dataread.data_train)))"
   ]
  },
  {
   "cell_type": "code",
   "execution_count": 6,
   "id": "cd9e645d",
   "metadata": {
    "scrolled": false
   },
   "outputs": [
    {
     "name": "stdout",
     "output_type": "stream",
     "text": [
      "neuron unit number: 20\n",
      "train_continuous_score_W0_n 0.9115715370469427\n",
      "train_continuous_score_W0_a 0.9115715370469427\n",
      "test_continuous_score_W0_n 0.7633899366666635\n",
      "test_continuous_score_W0_a 0.7633899366666635\n",
      "train_continuous_score_W_continuous_n 0.8713377743566842\n",
      "train_continuous_score_W_continuous_a 0.8713377743566842\n"
     ]
    },
    {
     "name": "stderr",
     "output_type": "stream",
     "text": [
      "C:\\Users\\fooli\\anaconda3\\lib\\site-packages\\numpy\\lib\\function_base.py:380: RuntimeWarning: Mean of empty slice.\n",
      "  avg = a.mean(axis)\n",
      "C:\\Users\\fooli\\anaconda3\\lib\\site-packages\\numpy\\core\\_methods.py:189: RuntimeWarning: invalid value encountered in double_scalars\n",
      "  ret = ret.dtype.type(ret / rcount)\n"
     ]
    },
    {
     "name": "stdout",
     "output_type": "stream",
     "text": [
      "test_continuous_score_W_continuous_n 0.7633899366666635\n",
      "test_continuous_score_W_continuous_a 0.7633899366666635\n",
      "New Continuous Feateure Neurons Number :30\n",
      "neuron unit number: 21\n",
      "train_continuous_score_W0_n 0.7907272618394081\n",
      "train_continuous_score_W0_a 0.7907272618394081\n",
      "test_continuous_score_W0_n 0.7129957048706098\n",
      "test_continuous_score_W0_a 0.7129957048706098\n",
      "train_continuous_score_W_continuous_n 0.8116484150654212\n",
      "train_continuous_score_W_continuous_a 0.8116484150654212\n"
     ]
    },
    {
     "name": "stderr",
     "output_type": "stream",
     "text": [
      "C:\\Users\\fooli\\anaconda3\\lib\\site-packages\\numpy\\lib\\function_base.py:380: RuntimeWarning: Mean of empty slice.\n",
      "  avg = a.mean(axis)\n",
      "C:\\Users\\fooli\\anaconda3\\lib\\site-packages\\numpy\\core\\_methods.py:189: RuntimeWarning: invalid value encountered in double_scalars\n",
      "  ret = ret.dtype.type(ret / rcount)\n",
      "C:\\Users\\fooli\\anaconda3\\lib\\site-packages\\numpy\\lib\\function_base.py:380: RuntimeWarning: Mean of empty slice.\n",
      "  avg = a.mean(axis)\n",
      "C:\\Users\\fooli\\anaconda3\\lib\\site-packages\\numpy\\core\\_methods.py:189: RuntimeWarning: invalid value encountered in double_scalars\n",
      "  ret = ret.dtype.type(ret / rcount)\n"
     ]
    },
    {
     "name": "stdout",
     "output_type": "stream",
     "text": [
      "test_continuous_score_W_continuous_n 0.6659389047273652\n",
      "test_continuous_score_W_continuous_a 0.6659389047273652\n",
      "Not good nmi result for continuous features !!!!!\n",
      "Not good ari result for continuous features  !!!!!\n",
      "New Continuous Feateure Neurons Number :30\n",
      "neuron unit number: 22\n",
      "train_continuous_score_W0_n 0.8472730635493918\n",
      "train_continuous_score_W0_a 0.8472730635493918\n",
      "test_continuous_score_W0_n 0.5741637527840878\n",
      "test_continuous_score_W0_a 0.5741637527840878\n",
      "train_continuous_score_W_continuous_n 0.8472730635493918\n",
      "train_continuous_score_W_continuous_a 0.8472730635493918\n",
      "test_continuous_score_W_continuous_n 0.6088022971261765\n",
      "test_continuous_score_W_continuous_a 0.6088022971261765\n",
      "New Continuous Feateure Neurons Number :30\n",
      "neuron unit number: 23\n",
      "train_continuous_score_W0_n 0.7860434777337372\n",
      "train_continuous_score_W0_a 0.7860434777337372\n",
      "test_continuous_score_W0_n 0.6434350133315915\n",
      "test_continuous_score_W0_a 0.6434350133315915\n",
      "train_continuous_score_W_continuous_n 0.7967546828297979\n",
      "train_continuous_score_W_continuous_a 0.7967546828297979\n"
     ]
    },
    {
     "name": "stderr",
     "output_type": "stream",
     "text": [
      "C:\\Users\\fooli\\anaconda3\\lib\\site-packages\\numpy\\lib\\function_base.py:380: RuntimeWarning: Mean of empty slice.\n",
      "  avg = a.mean(axis)\n",
      "C:\\Users\\fooli\\anaconda3\\lib\\site-packages\\numpy\\core\\_methods.py:189: RuntimeWarning: invalid value encountered in double_scalars\n",
      "  ret = ret.dtype.type(ret / rcount)\n"
     ]
    },
    {
     "name": "stdout",
     "output_type": "stream",
     "text": [
      "test_continuous_score_W_continuous_n 0.7381902538098051\n",
      "test_continuous_score_W_continuous_a 0.7381902538098051\n",
      "New Continuous Feateure Neurons Number :31\n",
      "neuron unit number: 24\n",
      "train_continuous_score_W0_n 0.8955360492541257\n",
      "train_continuous_score_W0_a 0.8955360492541257\n",
      "test_continuous_score_W0_n 0.6233732494114587\n",
      "test_continuous_score_W0_a 0.6233732494114587\n",
      "train_continuous_score_W_continuous_n 0.8333410963642779\n"
     ]
    },
    {
     "name": "stderr",
     "output_type": "stream",
     "text": [
      "C:\\Users\\fooli\\anaconda3\\lib\\site-packages\\numpy\\lib\\function_base.py:380: RuntimeWarning: Mean of empty slice.\n",
      "  avg = a.mean(axis)\n",
      "C:\\Users\\fooli\\anaconda3\\lib\\site-packages\\numpy\\core\\_methods.py:189: RuntimeWarning: invalid value encountered in double_scalars\n",
      "  ret = ret.dtype.type(ret / rcount)\n"
     ]
    },
    {
     "name": "stdout",
     "output_type": "stream",
     "text": [
      "train_continuous_score_W_continuous_a 0.8333410963642779\n",
      "test_continuous_score_W_continuous_n 0.7175716318198562\n",
      "test_continuous_score_W_continuous_a 0.7175716318198562\n",
      "New Continuous Feateure Neurons Number :33\n",
      "neuron unit number: 25\n",
      "train_continuous_score_W0_n 0.8139692827329014\n",
      "train_continuous_score_W0_a 0.8139692827329014\n",
      "test_continuous_score_W0_n 0.7128602383002137\n",
      "test_continuous_score_W0_a 0.7128602383002137\n"
     ]
    },
    {
     "name": "stderr",
     "output_type": "stream",
     "text": [
      "C:\\Users\\fooli\\anaconda3\\lib\\site-packages\\numpy\\lib\\function_base.py:380: RuntimeWarning: Mean of empty slice.\n",
      "  avg = a.mean(axis)\n",
      "C:\\Users\\fooli\\anaconda3\\lib\\site-packages\\numpy\\core\\_methods.py:189: RuntimeWarning: invalid value encountered in double_scalars\n",
      "  ret = ret.dtype.type(ret / rcount)\n"
     ]
    },
    {
     "name": "stdout",
     "output_type": "stream",
     "text": [
      "train_continuous_score_W_continuous_n 0.8541763502052367\n",
      "train_continuous_score_W_continuous_a 0.8541763502052367\n",
      "test_continuous_score_W_continuous_n 0.6659389047273652\n",
      "test_continuous_score_W_continuous_a 0.6659389047273652\n",
      "Not good nmi result for continuous features !!!!!\n",
      "Not good ari result for continuous features  !!!!!\n",
      "New Continuous Feateure Neurons Number :35\n",
      "neuron unit number: 26\n",
      "train_continuous_score_W0_n 0.8955360492541257\n",
      "train_continuous_score_W0_a 0.8955360492541257\n",
      "test_continuous_score_W0_n 0.672766166957794\n",
      "test_continuous_score_W0_a 0.672766166957794\n"
     ]
    },
    {
     "name": "stderr",
     "output_type": "stream",
     "text": [
      "C:\\Users\\fooli\\anaconda3\\lib\\site-packages\\numpy\\lib\\function_base.py:380: RuntimeWarning: Mean of empty slice.\n",
      "  avg = a.mean(axis)\n",
      "C:\\Users\\fooli\\anaconda3\\lib\\site-packages\\numpy\\core\\_methods.py:189: RuntimeWarning: invalid value encountered in double_scalars\n",
      "  ret = ret.dtype.type(ret / rcount)\n"
     ]
    },
    {
     "name": "stdout",
     "output_type": "stream",
     "text": [
      "train_continuous_score_W_continuous_n 0.8955360492541257\n",
      "train_continuous_score_W_continuous_a 0.8955360492541257\n",
      "test_continuous_score_W_continuous_n 0.7175716318198562\n",
      "test_continuous_score_W_continuous_a 0.7175716318198562\n",
      "New Continuous Feateure Neurons Number :34\n",
      "neuron unit number: 27\n",
      "train_continuous_score_W0_n 0.9222177093813211\n",
      "train_continuous_score_W0_a 0.9222177093813211\n",
      "test_continuous_score_W0_n 0.7069572274823325\n",
      "test_continuous_score_W0_a 0.7069572274823325\n",
      "train_continuous_score_W_continuous_n 0.9222177093813211\n"
     ]
    },
    {
     "name": "stderr",
     "output_type": "stream",
     "text": [
      "C:\\Users\\fooli\\anaconda3\\lib\\site-packages\\numpy\\lib\\function_base.py:380: RuntimeWarning: Mean of empty slice.\n",
      "  avg = a.mean(axis)\n",
      "C:\\Users\\fooli\\anaconda3\\lib\\site-packages\\numpy\\core\\_methods.py:189: RuntimeWarning: invalid value encountered in double_scalars\n",
      "  ret = ret.dtype.type(ret / rcount)\n"
     ]
    },
    {
     "name": "stdout",
     "output_type": "stream",
     "text": [
      "train_continuous_score_W_continuous_a 0.9222177093813211\n",
      "test_continuous_score_W_continuous_n 0.7175716318198562\n",
      "test_continuous_score_W_continuous_a 0.7175716318198562\n",
      "New Continuous Feateure Neurons Number :34\n",
      "neuron unit number: 28\n",
      "train_continuous_score_W0_n 0.8691353767440211\n",
      "train_continuous_score_W0_a 0.8691353767440211\n",
      "test_continuous_score_W0_n 0.6275852191684635\n",
      "test_continuous_score_W0_a 0.6275852191684635\n"
     ]
    },
    {
     "name": "stderr",
     "output_type": "stream",
     "text": [
      "C:\\Users\\fooli\\anaconda3\\lib\\site-packages\\numpy\\lib\\function_base.py:380: RuntimeWarning: Mean of empty slice.\n",
      "  avg = a.mean(axis)\n",
      "C:\\Users\\fooli\\anaconda3\\lib\\site-packages\\numpy\\core\\_methods.py:189: RuntimeWarning: invalid value encountered in double_scalars\n",
      "  ret = ret.dtype.type(ret / rcount)\n"
     ]
    },
    {
     "name": "stdout",
     "output_type": "stream",
     "text": [
      "train_continuous_score_W_continuous_n 0.8733903802580506\n",
      "train_continuous_score_W_continuous_a 0.8733903802580506\n",
      "test_continuous_score_W_continuous_n 0.6897441305820053\n",
      "test_continuous_score_W_continuous_a 0.6897441305820053\n",
      "New Continuous Feateure Neurons Number :36\n",
      "neuron unit number: 29\n",
      "train_continuous_score_W0_n 0.8541763502052367\n",
      "train_continuous_score_W0_a 0.8541763502052367\n",
      "test_continuous_score_W0_n 0.6455125993568195\n",
      "test_continuous_score_W0_a 0.6455125993568195\n"
     ]
    },
    {
     "name": "stderr",
     "output_type": "stream",
     "text": [
      "C:\\Users\\fooli\\anaconda3\\lib\\site-packages\\numpy\\lib\\function_base.py:380: RuntimeWarning: Mean of empty slice.\n",
      "  avg = a.mean(axis)\n",
      "C:\\Users\\fooli\\anaconda3\\lib\\site-packages\\numpy\\core\\_methods.py:189: RuntimeWarning: invalid value encountered in double_scalars\n",
      "  ret = ret.dtype.type(ret / rcount)\n"
     ]
    },
    {
     "name": "stdout",
     "output_type": "stream",
     "text": [
      "train_continuous_score_W_continuous_n 0.8955209500447318\n",
      "train_continuous_score_W_continuous_a 0.8955209500447318\n",
      "test_continuous_score_W_continuous_n 0.5646304615924844\n",
      "test_continuous_score_W_continuous_a 0.5646304615924844\n",
      "Not good nmi result for continuous features !!!!!\n",
      "Not good ari result for continuous features  !!!!!\n",
      "New Continuous Feateure Neurons Number :36\n",
      "neuron unit number: 30\n",
      "train_continuous_score_W0_n 0.8824408665328684\n",
      "train_continuous_score_W0_a 0.8824408665328684\n",
      "test_continuous_score_W0_n 0.7796999120944333\n",
      "test_continuous_score_W0_a 0.7796999120944333\n"
     ]
    },
    {
     "name": "stderr",
     "output_type": "stream",
     "text": [
      "C:\\Users\\fooli\\anaconda3\\lib\\site-packages\\numpy\\lib\\function_base.py:380: RuntimeWarning: Mean of empty slice.\n",
      "  avg = a.mean(axis)\n",
      "C:\\Users\\fooli\\anaconda3\\lib\\site-packages\\numpy\\core\\_methods.py:189: RuntimeWarning: invalid value encountered in double_scalars\n",
      "  ret = ret.dtype.type(ret / rcount)\n"
     ]
    },
    {
     "name": "stdout",
     "output_type": "stream",
     "text": [
      "train_continuous_score_W_continuous_n 0.8825206460683301\n",
      "train_continuous_score_W_continuous_a 0.8825206460683301\n",
      "test_continuous_score_W_continuous_n 0.6473848556523312\n",
      "test_continuous_score_W_continuous_a 0.6473848556523312\n",
      "Not good nmi result for continuous features !!!!!\n",
      "Not good ari result for continuous features  !!!!!\n",
      "New Continuous Feateure Neurons Number :39\n",
      "neuron unit number: 31\n",
      "train_continuous_score_W0_n 0.8559117367971404\n",
      "train_continuous_score_W0_a 0.8559117367971404\n",
      "test_continuous_score_W0_n 0.7175716318198562\n",
      "test_continuous_score_W0_a 0.7175716318198562\n"
     ]
    },
    {
     "name": "stderr",
     "output_type": "stream",
     "text": [
      "C:\\Users\\fooli\\anaconda3\\lib\\site-packages\\numpy\\lib\\function_base.py:380: RuntimeWarning: Mean of empty slice.\n",
      "  avg = a.mean(axis)\n",
      "C:\\Users\\fooli\\anaconda3\\lib\\site-packages\\numpy\\core\\_methods.py:189: RuntimeWarning: invalid value encountered in double_scalars\n",
      "  ret = ret.dtype.type(ret / rcount)\n"
     ]
    },
    {
     "name": "stdout",
     "output_type": "stream",
     "text": [
      "train_continuous_score_W_continuous_n 0.8944733383260726\n",
      "train_continuous_score_W_continuous_a 0.8944733383260726\n",
      "test_continuous_score_W_continuous_n 0.7175716318198562\n",
      "test_continuous_score_W_continuous_a 0.7175716318198562\n",
      "New Continuous Feateure Neurons Number :39\n",
      "neuron unit number: 32\n",
      "train_continuous_score_W0_n 0.8541763502052367\n",
      "train_continuous_score_W0_a 0.8541763502052367\n",
      "test_continuous_score_W0_n 0.6159466738761467\n",
      "test_continuous_score_W0_a 0.6159466738761467\n"
     ]
    },
    {
     "name": "stderr",
     "output_type": "stream",
     "text": [
      "C:\\Users\\fooli\\anaconda3\\lib\\site-packages\\numpy\\lib\\function_base.py:380: RuntimeWarning: Mean of empty slice.\n",
      "  avg = a.mean(axis)\n",
      "C:\\Users\\fooli\\anaconda3\\lib\\site-packages\\numpy\\core\\_methods.py:189: RuntimeWarning: invalid value encountered in double_scalars\n",
      "  ret = ret.dtype.type(ret / rcount)\n"
     ]
    },
    {
     "name": "stdout",
     "output_type": "stream",
     "text": [
      "train_continuous_score_W_continuous_n 0.9340053226369016\n",
      "train_continuous_score_W_continuous_a 0.9340053226369016\n",
      "test_continuous_score_W_continuous_n 0.7633899366666635\n",
      "test_continuous_score_W_continuous_a 0.7633899366666635\n",
      "New Continuous Feateure Neurons Number :40\n",
      "neuron unit number: 33\n",
      "train_continuous_score_W0_n 0.9340053226369016\n",
      "train_continuous_score_W0_a 0.9340053226369016\n",
      "test_continuous_score_W0_n 0.6864446963981903\n",
      "test_continuous_score_W0_a 0.6864446963981903\n"
     ]
    },
    {
     "name": "stderr",
     "output_type": "stream",
     "text": [
      "C:\\Users\\fooli\\anaconda3\\lib\\site-packages\\numpy\\lib\\function_base.py:380: RuntimeWarning: Mean of empty slice.\n",
      "  avg = a.mean(axis)\n",
      "C:\\Users\\fooli\\anaconda3\\lib\\site-packages\\numpy\\core\\_methods.py:189: RuntimeWarning: invalid value encountered in double_scalars\n",
      "  ret = ret.dtype.type(ret / rcount)\n"
     ]
    },
    {
     "name": "stdout",
     "output_type": "stream",
     "text": [
      "train_continuous_score_W_continuous_n 0.9340053226369016\n",
      "train_continuous_score_W_continuous_a 0.9340053226369016\n",
      "test_continuous_score_W_continuous_n 0.6897441305820053\n",
      "test_continuous_score_W_continuous_a 0.6897441305820053\n",
      "New Continuous Feateure Neurons Number :43\n",
      "neuron unit number: 34\n",
      "train_continuous_score_W0_n 0.8955360492541257\n",
      "train_continuous_score_W0_a 0.8955360492541257\n",
      "test_continuous_score_W0_n 0.6404102873429471\n",
      "test_continuous_score_W0_a 0.6404102873429471\n"
     ]
    },
    {
     "name": "stderr",
     "output_type": "stream",
     "text": [
      "C:\\Users\\fooli\\anaconda3\\lib\\site-packages\\numpy\\lib\\function_base.py:380: RuntimeWarning: Mean of empty slice.\n",
      "  avg = a.mean(axis)\n",
      "C:\\Users\\fooli\\anaconda3\\lib\\site-packages\\numpy\\core\\_methods.py:189: RuntimeWarning: invalid value encountered in double_scalars\n",
      "  ret = ret.dtype.type(ret / rcount)\n"
     ]
    },
    {
     "name": "stdout",
     "output_type": "stream",
     "text": [
      "train_continuous_score_W_continuous_n 0.8955360492541257\n",
      "train_continuous_score_W_continuous_a 0.8955360492541257\n",
      "test_continuous_score_W_continuous_n 0.7175716318198562\n",
      "test_continuous_score_W_continuous_a 0.7175716318198562\n",
      "New Continuous Feateure Neurons Number :42\n",
      "neuron unit number: 35\n",
      "train_continuous_score_W0_n 0.8955209500447318\n",
      "train_continuous_score_W0_a 0.8955209500447318\n",
      "test_continuous_score_W0_n 0.7018265870779132\n",
      "test_continuous_score_W0_a 0.7018265870779132\n"
     ]
    },
    {
     "name": "stderr",
     "output_type": "stream",
     "text": [
      "C:\\Users\\fooli\\anaconda3\\lib\\site-packages\\numpy\\lib\\function_base.py:380: RuntimeWarning: Mean of empty slice.\n",
      "  avg = a.mean(axis)\n",
      "C:\\Users\\fooli\\anaconda3\\lib\\site-packages\\numpy\\core\\_methods.py:189: RuntimeWarning: invalid value encountered in double_scalars\n",
      "  ret = ret.dtype.type(ret / rcount)\n"
     ]
    },
    {
     "name": "stdout",
     "output_type": "stream",
     "text": [
      "train_continuous_score_W_continuous_n 0.8955360492541257\n",
      "train_continuous_score_W_continuous_a 0.8955360492541257\n",
      "test_continuous_score_W_continuous_n 0.7633899366666635\n",
      "test_continuous_score_W_continuous_a 0.7633899366666635\n",
      "New Continuous Feateure Neurons Number :45\n",
      "neuron unit number: 36\n",
      "train_continuous_score_W0_n 0.8556309506387018\n",
      "train_continuous_score_W0_a 0.8556309506387018\n",
      "test_continuous_score_W0_n 0.6621469949955753\n",
      "test_continuous_score_W0_a 0.6621469949955753\n"
     ]
    },
    {
     "name": "stderr",
     "output_type": "stream",
     "text": [
      "C:\\Users\\fooli\\anaconda3\\lib\\site-packages\\numpy\\lib\\function_base.py:380: RuntimeWarning: Mean of empty slice.\n",
      "  avg = a.mean(axis)\n",
      "C:\\Users\\fooli\\anaconda3\\lib\\site-packages\\numpy\\core\\_methods.py:189: RuntimeWarning: invalid value encountered in double_scalars\n",
      "  ret = ret.dtype.type(ret / rcount)\n"
     ]
    },
    {
     "name": "stdout",
     "output_type": "stream",
     "text": [
      "train_continuous_score_W_continuous_n 0.8556309506387018\n",
      "train_continuous_score_W_continuous_a 0.8556309506387018\n",
      "test_continuous_score_W_continuous_n 0.6897441305820053\n",
      "test_continuous_score_W_continuous_a 0.6897441305820053\n",
      "New Continuous Feateure Neurons Number :45\n",
      "neuron unit number: 37\n",
      "train_continuous_score_W0_n 0.7865270439513737\n",
      "train_continuous_score_W0_a 0.7865270439513737\n",
      "test_continuous_score_W0_n 0.5224222185657912\n",
      "test_continuous_score_W0_a 0.5224222185657912\n"
     ]
    },
    {
     "name": "stderr",
     "output_type": "stream",
     "text": [
      "C:\\Users\\fooli\\anaconda3\\lib\\site-packages\\numpy\\lib\\function_base.py:380: RuntimeWarning: Mean of empty slice.\n",
      "  avg = a.mean(axis)\n",
      "C:\\Users\\fooli\\anaconda3\\lib\\site-packages\\numpy\\core\\_methods.py:189: RuntimeWarning: invalid value encountered in double_scalars\n",
      "  ret = ret.dtype.type(ret / rcount)\n"
     ]
    },
    {
     "name": "stdout",
     "output_type": "stream",
     "text": [
      "train_continuous_score_W_continuous_n 0.8339421705546868\n",
      "train_continuous_score_W_continuous_a 0.8339421705546868\n",
      "test_continuous_score_W_continuous_n 0.6200975811388683\n",
      "test_continuous_score_W_continuous_a 0.6200975811388683\n",
      "New Continuous Feateure Neurons Number :46\n",
      "neuron unit number: 38\n",
      "train_continuous_score_W0_n 0.8541763502052367\n",
      "train_continuous_score_W0_a 0.8541763502052367\n",
      "test_continuous_score_W0_n 0.7633899366666635\n",
      "test_continuous_score_W0_a 0.7633899366666635\n"
     ]
    },
    {
     "name": "stderr",
     "output_type": "stream",
     "text": [
      "C:\\Users\\fooli\\anaconda3\\lib\\site-packages\\numpy\\lib\\function_base.py:380: RuntimeWarning: Mean of empty slice.\n",
      "  avg = a.mean(axis)\n",
      "C:\\Users\\fooli\\anaconda3\\lib\\site-packages\\numpy\\core\\_methods.py:189: RuntimeWarning: invalid value encountered in double_scalars\n",
      "  ret = ret.dtype.type(ret / rcount)\n"
     ]
    },
    {
     "name": "stdout",
     "output_type": "stream",
     "text": [
      "train_continuous_score_W_continuous_n 0.8955360492541257\n",
      "train_continuous_score_W_continuous_a 0.8955360492541257\n",
      "test_continuous_score_W_continuous_n 0.6897441305820053\n",
      "test_continuous_score_W_continuous_a 0.6897441305820053\n",
      "Not good nmi result for continuous features !!!!!\n",
      "Not good ari result for continuous features  !!!!!\n",
      "New Continuous Feateure Neurons Number :45\n",
      "neuron unit number: 39\n",
      "train_continuous_score_W0_n 0.8691353767440211\n",
      "train_continuous_score_W0_a 0.8691353767440211\n",
      "test_continuous_score_W0_n 0.6523864747545691\n",
      "test_continuous_score_W0_a 0.6523864747545691\n"
     ]
    },
    {
     "name": "stderr",
     "output_type": "stream",
     "text": [
      "C:\\Users\\fooli\\anaconda3\\lib\\site-packages\\numpy\\lib\\function_base.py:380: RuntimeWarning: Mean of empty slice.\n",
      "  avg = a.mean(axis)\n",
      "C:\\Users\\fooli\\anaconda3\\lib\\site-packages\\numpy\\core\\_methods.py:189: RuntimeWarning: invalid value encountered in double_scalars\n",
      "  ret = ret.dtype.type(ret / rcount)\n"
     ]
    },
    {
     "name": "stdout",
     "output_type": "stream",
     "text": [
      "train_continuous_score_W_continuous_n 0.8559117367971404\n",
      "train_continuous_score_W_continuous_a 0.8559117367971404\n",
      "test_continuous_score_W_continuous_n 0.7175716318198562\n",
      "test_continuous_score_W_continuous_a 0.7175716318198562\n",
      "New Continuous Feateure Neurons Number :45\n",
      "neuron unit number: 40\n",
      "train_continuous_score_W0_n 0.9340053226369016\n",
      "train_continuous_score_W0_a 0.9340053226369016\n",
      "test_continuous_score_W0_n 0.7257040083755565\n",
      "test_continuous_score_W0_a 0.7257040083755565\n"
     ]
    },
    {
     "name": "stderr",
     "output_type": "stream",
     "text": [
      "C:\\Users\\fooli\\anaconda3\\lib\\site-packages\\numpy\\lib\\function_base.py:380: RuntimeWarning: Mean of empty slice.\n",
      "  avg = a.mean(axis)\n",
      "C:\\Users\\fooli\\anaconda3\\lib\\site-packages\\numpy\\core\\_methods.py:189: RuntimeWarning: invalid value encountered in double_scalars\n",
      "  ret = ret.dtype.type(ret / rcount)\n"
     ]
    },
    {
     "name": "stdout",
     "output_type": "stream",
     "text": [
      "train_continuous_score_W_continuous_n 0.9340053226369016\n",
      "train_continuous_score_W_continuous_a 0.9340053226369016\n",
      "test_continuous_score_W_continuous_n 0.6897441305820053\n",
      "test_continuous_score_W_continuous_a 0.6897441305820053\n",
      "Not good nmi result for continuous features !!!!!\n",
      "Not good ari result for continuous features  !!!!!\n",
      "New Continuous Feateure Neurons Number :49\n",
      "neuron unit number: 41\n",
      "train_continuous_score_W0_n 0.8691353767440211\n",
      "train_continuous_score_W0_a 0.8691353767440211\n",
      "test_continuous_score_W0_n 0.6274353079354081\n",
      "test_continuous_score_W0_a 0.6274353079354081\n"
     ]
    },
    {
     "name": "stderr",
     "output_type": "stream",
     "text": [
      "C:\\Users\\fooli\\anaconda3\\lib\\site-packages\\numpy\\lib\\function_base.py:380: RuntimeWarning: Mean of empty slice.\n",
      "  avg = a.mean(axis)\n",
      "C:\\Users\\fooli\\anaconda3\\lib\\site-packages\\numpy\\core\\_methods.py:189: RuntimeWarning: invalid value encountered in double_scalars\n",
      "  ret = ret.dtype.type(ret / rcount)\n"
     ]
    },
    {
     "name": "stdout",
     "output_type": "stream",
     "text": [
      "train_continuous_score_W_continuous_n 0.8556309506387018\n",
      "train_continuous_score_W_continuous_a 0.8556309506387018\n",
      "test_continuous_score_W_continuous_n 0.6897441305820053\n",
      "test_continuous_score_W_continuous_a 0.6897441305820053\n",
      "New Continuous Feateure Neurons Number :49\n",
      "neuron unit number: 42\n",
      "train_continuous_score_W0_n 0.8955360492541257\n",
      "train_continuous_score_W0_a 0.8955360492541257\n",
      "test_continuous_score_W0_n 0.6771485603891549\n",
      "test_continuous_score_W0_a 0.6771485603891549\n"
     ]
    },
    {
     "name": "stderr",
     "output_type": "stream",
     "text": [
      "C:\\Users\\fooli\\anaconda3\\lib\\site-packages\\numpy\\lib\\function_base.py:380: RuntimeWarning: Mean of empty slice.\n",
      "  avg = a.mean(axis)\n",
      "C:\\Users\\fooli\\anaconda3\\lib\\site-packages\\numpy\\core\\_methods.py:189: RuntimeWarning: invalid value encountered in double_scalars\n",
      "  ret = ret.dtype.type(ret / rcount)\n"
     ]
    },
    {
     "name": "stdout",
     "output_type": "stream",
     "text": [
      "train_continuous_score_W_continuous_n 0.8955360492541257\n",
      "train_continuous_score_W_continuous_a 0.8955360492541257\n",
      "test_continuous_score_W_continuous_n 0.7175716318198562\n",
      "test_continuous_score_W_continuous_a 0.7175716318198562\n",
      "New Continuous Feateure Neurons Number :52\n",
      "neuron unit number: 43\n",
      "train_continuous_score_W0_n 0.8955209500447318\n",
      "train_continuous_score_W0_a 0.8955209500447318\n",
      "test_continuous_score_W0_n 0.5716809530776898\n",
      "test_continuous_score_W0_a 0.5716809530776898\n"
     ]
    },
    {
     "name": "stderr",
     "output_type": "stream",
     "text": [
      "C:\\Users\\fooli\\anaconda3\\lib\\site-packages\\numpy\\lib\\function_base.py:380: RuntimeWarning: Mean of empty slice.\n",
      "  avg = a.mean(axis)\n",
      "C:\\Users\\fooli\\anaconda3\\lib\\site-packages\\numpy\\core\\_methods.py:189: RuntimeWarning: invalid value encountered in double_scalars\n",
      "  ret = ret.dtype.type(ret / rcount)\n"
     ]
    },
    {
     "name": "stdout",
     "output_type": "stream",
     "text": [
      "train_continuous_score_W_continuous_n 0.8955360492541257\n",
      "train_continuous_score_W_continuous_a 0.8955360492541257\n",
      "test_continuous_score_W_continuous_n 0.6121798050754568\n",
      "test_continuous_score_W_continuous_a 0.6121798050754568\n",
      "New Continuous Feateure Neurons Number :54\n",
      "neuron unit number: 44\n",
      "train_continuous_score_W0_n 0.8920685875415895\n",
      "train_continuous_score_W0_a 0.8920685875415895\n",
      "test_continuous_score_W0_n 0.6801505618561561\n",
      "test_continuous_score_W0_a 0.6801505618561561\n"
     ]
    },
    {
     "name": "stderr",
     "output_type": "stream",
     "text": [
      "C:\\Users\\fooli\\anaconda3\\lib\\site-packages\\numpy\\lib\\function_base.py:380: RuntimeWarning: Mean of empty slice.\n",
      "  avg = a.mean(axis)\n",
      "C:\\Users\\fooli\\anaconda3\\lib\\site-packages\\numpy\\core\\_methods.py:189: RuntimeWarning: invalid value encountered in double_scalars\n",
      "  ret = ret.dtype.type(ret / rcount)\n"
     ]
    },
    {
     "name": "stdout",
     "output_type": "stream",
     "text": [
      "train_continuous_score_W_continuous_n 0.8920685875415895\n",
      "train_continuous_score_W_continuous_a 0.8920685875415895\n",
      "test_continuous_score_W_continuous_n 0.7381902538098051\n",
      "test_continuous_score_W_continuous_a 0.7381902538098051\n",
      "New Continuous Feateure Neurons Number :52\n",
      "neuron unit number: 45\n",
      "train_continuous_score_W0_n 0.8339122577485057\n",
      "train_continuous_score_W0_a 0.8339122577485057\n",
      "test_continuous_score_W0_n 0.5648636561976517\n",
      "test_continuous_score_W0_a 0.5648636561976517\n"
     ]
    },
    {
     "name": "stderr",
     "output_type": "stream",
     "text": [
      "C:\\Users\\fooli\\anaconda3\\lib\\site-packages\\numpy\\lib\\function_base.py:380: RuntimeWarning: Mean of empty slice.\n",
      "  avg = a.mean(axis)\n",
      "C:\\Users\\fooli\\anaconda3\\lib\\site-packages\\numpy\\core\\_methods.py:189: RuntimeWarning: invalid value encountered in double_scalars\n",
      "  ret = ret.dtype.type(ret / rcount)\n"
     ]
    },
    {
     "name": "stdout",
     "output_type": "stream",
     "text": [
      "train_continuous_score_W_continuous_n 0.8296708300750106\n",
      "train_continuous_score_W_continuous_a 0.8296708300750106\n",
      "test_continuous_score_W_continuous_n 0.6473848556523312\n",
      "test_continuous_score_W_continuous_a 0.6473848556523312\n",
      "New Continuous Feateure Neurons Number :53\n",
      "neuron unit number: 46\n",
      "train_continuous_score_W0_n 0.8955360492541257\n",
      "train_continuous_score_W0_a 0.8955360492541257\n",
      "test_continuous_score_W0_n 0.6353084401191146\n",
      "test_continuous_score_W0_a 0.6353084401191146\n"
     ]
    },
    {
     "name": "stderr",
     "output_type": "stream",
     "text": [
      "C:\\Users\\fooli\\anaconda3\\lib\\site-packages\\numpy\\lib\\function_base.py:380: RuntimeWarning: Mean of empty slice.\n",
      "  avg = a.mean(axis)\n",
      "C:\\Users\\fooli\\anaconda3\\lib\\site-packages\\numpy\\core\\_methods.py:189: RuntimeWarning: invalid value encountered in double_scalars\n",
      "  ret = ret.dtype.type(ret / rcount)\n"
     ]
    },
    {
     "name": "stdout",
     "output_type": "stream",
     "text": [
      "train_continuous_score_W_continuous_n 0.8955360492541257\n",
      "train_continuous_score_W_continuous_a 0.8955360492541257\n",
      "test_continuous_score_W_continuous_n 0.7175716318198562\n",
      "test_continuous_score_W_continuous_a 0.7175716318198562\n",
      "New Continuous Feateure Neurons Number :55\n",
      "neuron unit number: 47\n",
      "train_continuous_score_W0_n 0.8333410963642779\n",
      "train_continuous_score_W0_a 0.8333410963642779\n",
      "test_continuous_score_W0_n 0.6876979373739974\n",
      "test_continuous_score_W0_a 0.6876979373739974\n"
     ]
    },
    {
     "name": "stderr",
     "output_type": "stream",
     "text": [
      "C:\\Users\\fooli\\anaconda3\\lib\\site-packages\\numpy\\lib\\function_base.py:380: RuntimeWarning: Mean of empty slice.\n",
      "  avg = a.mean(axis)\n",
      "C:\\Users\\fooli\\anaconda3\\lib\\site-packages\\numpy\\core\\_methods.py:189: RuntimeWarning: invalid value encountered in double_scalars\n",
      "  ret = ret.dtype.type(ret / rcount)\n"
     ]
    },
    {
     "name": "stdout",
     "output_type": "stream",
     "text": [
      "train_continuous_score_W_continuous_n 0.8339421705546868\n",
      "train_continuous_score_W_continuous_a 0.8339421705546868\n",
      "test_continuous_score_W_continuous_n 0.6200975811388683\n",
      "test_continuous_score_W_continuous_a 0.6200975811388683\n",
      "Not good nmi result for continuous features !!!!!\n",
      "Not good ari result for continuous features  !!!!!\n",
      "New Continuous Feateure Neurons Number :56\n",
      "neuron unit number: 48\n",
      "train_continuous_score_W0_n 0.8691353767440211\n",
      "train_continuous_score_W0_a 0.8691353767440211\n",
      "test_continuous_score_W0_n 0.6309200670575744\n",
      "test_continuous_score_W0_a 0.6309200670575744\n"
     ]
    },
    {
     "name": "stderr",
     "output_type": "stream",
     "text": [
      "C:\\Users\\fooli\\anaconda3\\lib\\site-packages\\numpy\\lib\\function_base.py:380: RuntimeWarning: Mean of empty slice.\n",
      "  avg = a.mean(axis)\n",
      "C:\\Users\\fooli\\anaconda3\\lib\\site-packages\\numpy\\core\\_methods.py:189: RuntimeWarning: invalid value encountered in double_scalars\n",
      "  ret = ret.dtype.type(ret / rcount)\n"
     ]
    },
    {
     "name": "stdout",
     "output_type": "stream",
     "text": [
      "train_continuous_score_W_continuous_n 0.8955209500447318\n",
      "train_continuous_score_W_continuous_a 0.8955209500447318\n",
      "test_continuous_score_W_continuous_n 0.7175716318198562\n",
      "test_continuous_score_W_continuous_a 0.7175716318198562\n",
      "New Continuous Feateure Neurons Number :58\n",
      "neuron unit number: 49\n",
      "train_continuous_score_W0_n 0.8920685875415895\n",
      "train_continuous_score_W0_a 0.8920685875415895\n",
      "test_continuous_score_W0_n 0.5854872868810398\n",
      "test_continuous_score_W0_a 0.5854872868810398\n"
     ]
    },
    {
     "name": "stderr",
     "output_type": "stream",
     "text": [
      "C:\\Users\\fooli\\anaconda3\\lib\\site-packages\\numpy\\lib\\function_base.py:380: RuntimeWarning: Mean of empty slice.\n",
      "  avg = a.mean(axis)\n",
      "C:\\Users\\fooli\\anaconda3\\lib\\site-packages\\numpy\\core\\_methods.py:189: RuntimeWarning: invalid value encountered in double_scalars\n",
      "  ret = ret.dtype.type(ret / rcount)\n"
     ]
    },
    {
     "name": "stdout",
     "output_type": "stream",
     "text": [
      "train_continuous_score_W_continuous_n 0.9222177093813211\n",
      "train_continuous_score_W_continuous_a 0.9222177093813211\n",
      "test_continuous_score_W_continuous_n 0.7633899366666635\n",
      "test_continuous_score_W_continuous_a 0.7633899366666635\n",
      "New Continuous Feateure Neurons Number :58\n",
      "neuron unit number: 50\n",
      "train_continuous_score_W0_n 0.8733570857189933\n",
      "train_continuous_score_W0_a 0.8733570857189933\n",
      "test_continuous_score_W0_n 0.7184554987807128\n",
      "test_continuous_score_W0_a 0.7184554987807128\n"
     ]
    },
    {
     "name": "stderr",
     "output_type": "stream",
     "text": [
      "C:\\Users\\fooli\\anaconda3\\lib\\site-packages\\numpy\\lib\\function_base.py:380: RuntimeWarning: Mean of empty slice.\n",
      "  avg = a.mean(axis)\n",
      "C:\\Users\\fooli\\anaconda3\\lib\\site-packages\\numpy\\core\\_methods.py:189: RuntimeWarning: invalid value encountered in double_scalars\n",
      "  ret = ret.dtype.type(ret / rcount)\n"
     ]
    },
    {
     "name": "stdout",
     "output_type": "stream",
     "text": [
      "train_continuous_score_W_continuous_n 0.8733570857189933\n",
      "train_continuous_score_W_continuous_a 0.8733570857189933\n",
      "test_continuous_score_W_continuous_n 0.6088022971261765\n",
      "test_continuous_score_W_continuous_a 0.6088022971261765\n",
      "Not good nmi result for continuous features !!!!!\n",
      "Not good ari result for continuous features  !!!!!\n",
      "New Continuous Feateure Neurons Number :59\n"
     ]
    },
    {
     "data": {
      "image/png": "[encoded data removed]",
      "text/plain": [
       "<Figure size 864x360 with 2 Axes>"
      ]
     },
     "metadata": {
      "needs_background": "light"
     },
     "output_type": "display_data"
    },
    {
     "name": "stdout",
     "output_type": "stream",
     "text": [
      "NMI T-Test\n",
      "          Variable     N      Mean        SD        SE  95% Conf.  Interval\n",
      "0     train_con_W0  31.0  0.869447  0.039202  0.007041   0.855068  0.883827\n",
      "1  train_con_W_con  31.0  0.877462  0.035996  0.006465   0.864258  0.890665\n",
      "2         combined  62.0  0.873455  0.037541  0.004768   0.863921  0.882988\n",
      "                               Independent t-test  results\n",
      "0  Difference (train_con_W0 - train_con_W_con) =   -0.0080\n",
      "1                           Degrees of freedom =   60.0000\n",
      "2                                            t =   -0.8385\n",
      "3                        Two side test p value =    0.4051\n",
      "4                       Difference < 0 p value =    0.2026\n",
      "5                       Difference > 0 p value =    0.7974\n",
      "6                                    Cohen's d =   -0.2130\n",
      "7                                    Hedge's g =   -0.2103\n",
      "8                                Glass's delta =   -0.2044\n",
      "9                                  Pearson's r =    0.1076\n",
      "         Variable     N      Mean        SD        SE  95% Conf.  Interval\n",
      "0     test_con_W0  31.0  0.662262  0.061904  0.011118   0.639556  0.684969\n",
      "1  test_con_W_con  31.0  0.689929  0.052457  0.009422   0.670688  0.709171\n",
      "2        combined  62.0  0.676096  0.058587  0.007441   0.661218  0.690974\n",
      "                             Independent t-test  results\n",
      "0  Difference (test_con_W0 - test_con_W_con) =   -0.0277\n",
      "1                         Degrees of freedom =   60.0000\n",
      "2                                          t =   -1.8985\n",
      "3                      Two side test p value =    0.0624\n",
      "4                     Difference < 0 p value =    0.0312\n",
      "5                     Difference > 0 p value =    0.9688\n",
      "6                                  Cohen's d =   -0.4822\n",
      "7                                  Hedge's g =   -0.4762\n",
      "8                              Glass's delta =   -0.4469\n",
      "9                                Pearson's r =    0.2380\n",
      "ARI T-Test\n",
      "          Variable     N      Mean        SD        SE  95% Conf.  Interval\n",
      "0     train_con_W0  31.0  0.869447  0.039202  0.007041   0.855068  0.883827\n",
      "1  train_con_W_con  31.0  0.877462  0.035996  0.006465   0.864258  0.890665\n",
      "2         combined  62.0  0.873455  0.037541  0.004768   0.863921  0.882988\n",
      "                               Independent t-test  results\n",
      "0  Difference (train_con_W0 - train_con_W_con) =   -0.0080\n",
      "1                           Degrees of freedom =   60.0000\n",
      "2                                            t =   -0.8385\n",
      "3                        Two side test p value =    0.4051\n",
      "4                       Difference < 0 p value =    0.2026\n",
      "5                       Difference > 0 p value =    0.7974\n",
      "6                                    Cohen's d =   -0.2130\n",
      "7                                    Hedge's g =   -0.2103\n",
      "8                                Glass's delta =   -0.2044\n",
      "9                                  Pearson's r =    0.1076\n",
      "         Variable     N      Mean        SD        SE  95% Conf.  Interval\n",
      "0     test_con_W0  31.0  0.662262  0.061904  0.011118   0.639556  0.684969\n",
      "1  test_con_W_con  31.0  0.689929  0.052457  0.009422   0.670688  0.709171\n",
      "2        combined  62.0  0.676096  0.058587  0.007441   0.661218  0.690974\n",
      "                             Independent t-test  results\n",
      "0  Difference (test_con_W0 - test_con_W_con) =   -0.0277\n",
      "1                         Degrees of freedom =   60.0000\n",
      "2                                          t =   -1.8985\n",
      "3                      Two side test p value =    0.0624\n",
      "4                     Difference < 0 p value =    0.0312\n",
      "5                     Difference > 0 p value =    0.9688\n",
      "6                                  Cohen's d =   -0.4822\n",
      "7                                  Hedge's g =   -0.4762\n",
      "8                              Glass's delta =   -0.4469\n",
      "9                                Pearson's r =    0.2380\n",
      "*****************************************************************************************\n",
      "Best Number SOM Comparision\n",
      "*****************************************************************************************\n"
     ]
    },
    {
     "name": "stderr",
     "output_type": "stream",
     "text": [
      "C:\\Users\\fooli\\anaconda3\\lib\\site-packages\\researchpy\\ttest.py:18: FutureWarning: The series.append method is deprecated and will be removed from pandas in a future version. Use pandas.concat instead.\n",
      "  groups = group1.append(group2, ignore_index= True)\n",
      "C:\\Users\\fooli\\anaconda3\\lib\\site-packages\\researchpy\\ttest.py:18: FutureWarning: The series.append method is deprecated and will be removed from pandas in a future version. Use pandas.concat instead.\n",
      "  groups = group1.append(group2, ignore_index= True)\n",
      "C:\\Users\\fooli\\anaconda3\\lib\\site-packages\\researchpy\\ttest.py:18: FutureWarning: The series.append method is deprecated and will be removed from pandas in a future version. Use pandas.concat instead.\n",
      "  groups = group1.append(group2, ignore_index= True)\n",
      "C:\\Users\\fooli\\anaconda3\\lib\\site-packages\\researchpy\\ttest.py:18: FutureWarning: The series.append method is deprecated and will be removed from pandas in a future version. Use pandas.concat instead.\n",
      "  groups = group1.append(group2, ignore_index= True)\n"
     ]
    }
   ],
   "source": [
    "import experiment\n",
    "unstable_repeat_num= 30\n",
    "scope_num = 50\n",
    "class_num = 20\n",
    "best_num = 12\n",
    "elbow_num = 1\n",
    "row = 2\n",
    "column = 2\n",
    "\n",
    "\n",
    "experiment = experiment.Experiment()\n",
    "experiment.UTtest_Discrete_Continuous(dataread,class_num,best_num, scope_num,unstable_repeat_num,0,row,column)\n",
    "print(\"*****************************************************************************************\")\n",
    "print(\"Best Number SOM Comparision\")\n",
    "print(\"*****************************************************************************************\")\n",
    "#experiment.UTtest(dataread,total_label_train,class_num, dim_num, best_num,scope_num,unstable_repeat_num,1,elbow_num,row,column)"
   ]
  },
  {
   "cell_type": "code",
   "execution_count": null,
   "id": "9821b3ca",
   "metadata": {},
   "outputs": [],
   "source": []
  },
  {
   "cell_type": "code",
   "execution_count": null,
   "id": "82abd10c",
   "metadata": {},
   "outputs": [],
   "source": []
  }
 ],
 "metadata": {
  "kernelspec": {
   "display_name": "Python 3 (ipykernel)",
   "language": "python",
   "name": "python3"
  },
  "language_info": {
   "codemirror_mode": {
    "name": "ipython",
    "version": 3
   },
   "file_extension": ".py",
   "mimetype": "text/x-python",
   "name": "python",
   "nbconvert_exporter": "python",
   "pygments_lexer": "ipython3",
   "version": "3.9.12"
  }
 },
 "nbformat": 4,
 "nbformat_minor": 5
}
