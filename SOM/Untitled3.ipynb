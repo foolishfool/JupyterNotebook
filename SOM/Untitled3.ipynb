{
 "cells": [
  {
   "cell_type": "code",
   "execution_count": 2,
   "id": "4f28bc8c",
   "metadata": {},
   "outputs": [
    {
     "name": "stdout",
     "output_type": "stream",
     "text": [
      "2.5.0\n"
     ]
    }
   ],
   "source": [
    "import tensorflow as tf \n",
    "print(tf.__version__)"
   ]
  },
  {
   "cell_type": "code",
   "execution_count": 3,
   "id": "132beba6",
   "metadata": {},
   "outputs": [
    {
     "name": "stdout",
     "output_type": "stream",
     "text": [
      "3.9.12 (main, Apr  4 2022, 05:22:27) [MSC v.1916 64 bit (AMD64)]\n"
     ]
    }
   ],
   "source": [
    " import sys\n",
    " print (sys.version)"
   ]
  },
  {
   "cell_type": "code",
   "execution_count": 4,
   "id": "ef56ea72",
   "metadata": {
    "scrolled": true
   },
   "outputs": [
    {
     "data": {
      "text/plain": [
       "[name: \"/device:CPU:0\"\n",
       " device_type: \"CPU\"\n",
       " memory_limit: 268435456\n",
       " locality {\n",
       " }\n",
       " incarnation: 4697225324899196330]"
      ]
     },
     "execution_count": 4,
     "metadata": {},
     "output_type": "execute_result"
    }
   ],
   "source": [
    "from tensorflow.python.client import device_lib\n",
    "device_lib.list_local_devices()\n"
   ]
  },
  {
   "cell_type": "code",
   "execution_count": 1,
   "id": "427311b4",
   "metadata": {},
   "outputs": [
    {
     "name": "stdout",
     "output_type": "stream",
     "text": [
      "Requirement already satisfied: tensorflow-gpu in c:\\users\\fooli\\anaconda3\\envs\\gpu_env\\lib\\site-packages (2.5.0)\n",
      "Requirement already satisfied: numpy~=1.19.2 in c:\\users\\fooli\\anaconda3\\envs\\gpu_env\\lib\\site-packages (from tensorflow-gpu) (1.19.5)\n",
      "Requirement already satisfied: absl-py~=0.10 in c:\\users\\fooli\\anaconda3\\envs\\gpu_env\\lib\\site-packages (from tensorflow-gpu) (0.15.0)\n",
      "Requirement already satisfied: astunparse~=1.6.3 in c:\\users\\fooli\\anaconda3\\envs\\gpu_env\\lib\\site-packages (from tensorflow-gpu) (1.6.3)\n",
      "Requirement already satisfied: flatbuffers~=1.12.0 in c:\\users\\fooli\\anaconda3\\envs\\gpu_env\\lib\\site-packages (from tensorflow-gpu) (1.12)\n",
      "Requirement already satisfied: google-pasta~=0.2 in c:\\users\\fooli\\anaconda3\\envs\\gpu_env\\lib\\site-packages (from tensorflow-gpu) (0.2.0)\n",
      "Requirement already satisfied: h5py~=3.1.0 in c:\\users\\fooli\\anaconda3\\envs\\gpu_env\\lib\\site-packages (from tensorflow-gpu) (3.1.0)\n",
      "Requirement already satisfied: keras-preprocessing~=1.1.2 in c:\\users\\fooli\\anaconda3\\envs\\gpu_env\\lib\\site-packages (from tensorflow-gpu) (1.1.2)\n",
      "Requirement already satisfied: opt-einsum~=3.3.0 in c:\\users\\fooli\\anaconda3\\envs\\gpu_env\\lib\\site-packages (from tensorflow-gpu) (3.3.0)\n",
      "Requirement already satisfied: protobuf>=3.9.2 in c:\\users\\fooli\\anaconda3\\envs\\gpu_env\\lib\\site-packages (from tensorflow-gpu) (3.20.3)\n",
      "Requirement already satisfied: six~=1.15.0 in c:\\users\\fooli\\anaconda3\\envs\\gpu_env\\lib\\site-packages (from tensorflow-gpu) (1.15.0)\n",
      "Requirement already satisfied: termcolor~=1.1.0 in c:\\users\\fooli\\anaconda3\\envs\\gpu_env\\lib\\site-packages (from tensorflow-gpu) (1.1.0)\n",
      "Requirement already satisfied: typing-extensions~=3.7.4 in c:\\users\\fooli\\anaconda3\\envs\\gpu_env\\lib\\site-packages (from tensorflow-gpu) (3.7.4.3)\n",
      "Requirement already satisfied: wheel~=0.35 in c:\\users\\fooli\\anaconda3\\envs\\gpu_env\\lib\\site-packages (from tensorflow-gpu) (0.41.2)\n",
      "Requirement already satisfied: wrapt~=1.12.1 in c:\\users\\fooli\\anaconda3\\envs\\gpu_env\\lib\\site-packages (from tensorflow-gpu) (1.12.1)\n",
      "Requirement already satisfied: gast==0.4.0 in c:\\users\\fooli\\anaconda3\\envs\\gpu_env\\lib\\site-packages (from tensorflow-gpu) (0.4.0)\n",
      "Requirement already satisfied: tensorboard~=2.5 in c:\\users\\fooli\\anaconda3\\envs\\gpu_env\\lib\\site-packages (from tensorflow-gpu) (2.11.2)\n",
      "Requirement already satisfied: tensorflow-estimator<2.6.0,>=2.5.0rc0 in c:\\users\\fooli\\anaconda3\\envs\\gpu_env\\lib\\site-packages (from tensorflow-gpu) (2.5.0)\n",
      "Requirement already satisfied: keras-nightly~=2.5.0.dev in c:\\users\\fooli\\anaconda3\\envs\\gpu_env\\lib\\site-packages (from tensorflow-gpu) (2.5.0.dev2021032900)\n",
      "Requirement already satisfied: grpcio~=1.34.0 in c:\\users\\fooli\\anaconda3\\envs\\gpu_env\\lib\\site-packages (from tensorflow-gpu) (1.34.1)\n",
      "Requirement already satisfied: google-auth<3,>=1.6.3 in c:\\users\\fooli\\anaconda3\\envs\\gpu_env\\lib\\site-packages (from tensorboard~=2.5->tensorflow-gpu) (2.23.4)\n",
      "Requirement already satisfied: google-auth-oauthlib<0.5,>=0.4.1 in c:\\users\\fooli\\anaconda3\\envs\\gpu_env\\lib\\site-packages (from tensorboard~=2.5->tensorflow-gpu) (0.4.6)\n",
      "Requirement already satisfied: markdown>=2.6.8 in c:\\users\\fooli\\anaconda3\\envs\\gpu_env\\lib\\site-packages (from tensorboard~=2.5->tensorflow-gpu) (3.5.1)\n",
      "Requirement already satisfied: requests<3,>=2.21.0 in c:\\users\\fooli\\anaconda3\\envs\\gpu_env\\lib\\site-packages (from tensorboard~=2.5->tensorflow-gpu) (2.31.0)\n",
      "Requirement already satisfied: setuptools>=41.0.0 in c:\\users\\fooli\\anaconda3\\envs\\gpu_env\\lib\\site-packages (from tensorboard~=2.5->tensorflow-gpu) (68.0.0)\n",
      "Requirement already satisfied: tensorboard-data-server<0.7.0,>=0.6.0 in c:\\users\\fooli\\anaconda3\\envs\\gpu_env\\lib\\site-packages (from tensorboard~=2.5->tensorflow-gpu) (0.6.1)\n",
      "Requirement already satisfied: tensorboard-plugin-wit>=1.6.0 in c:\\users\\fooli\\anaconda3\\envs\\gpu_env\\lib\\site-packages (from tensorboard~=2.5->tensorflow-gpu) (1.8.1)\n",
      "Requirement already satisfied: werkzeug>=1.0.1 in c:\\users\\fooli\\anaconda3\\envs\\gpu_env\\lib\\site-packages (from tensorboard~=2.5->tensorflow-gpu) (3.0.1)\n",
      "Requirement already satisfied: cachetools<6.0,>=2.0.0 in c:\\users\\fooli\\anaconda3\\envs\\gpu_env\\lib\\site-packages (from google-auth<3,>=1.6.3->tensorboard~=2.5->tensorflow-gpu) (5.3.2)\n",
      "Requirement already satisfied: pyasn1-modules>=0.2.1 in c:\\users\\fooli\\anaconda3\\envs\\gpu_env\\lib\\site-packages (from google-auth<3,>=1.6.3->tensorboard~=2.5->tensorflow-gpu) (0.3.0)\n",
      "Requirement already satisfied: rsa<5,>=3.1.4 in c:\\users\\fooli\\anaconda3\\envs\\gpu_env\\lib\\site-packages (from google-auth<3,>=1.6.3->tensorboard~=2.5->tensorflow-gpu) (4.9)\n",
      "Requirement already satisfied: requests-oauthlib>=0.7.0 in c:\\users\\fooli\\anaconda3\\envs\\gpu_env\\lib\\site-packages (from google-auth-oauthlib<0.5,>=0.4.1->tensorboard~=2.5->tensorflow-gpu) (1.3.1)\n",
      "Requirement already satisfied: importlib-metadata>=4.4 in c:\\users\\fooli\\anaconda3\\envs\\gpu_env\\lib\\site-packages (from markdown>=2.6.8->tensorboard~=2.5->tensorflow-gpu) (6.0.0)\n",
      "Requirement already satisfied: charset-normalizer<4,>=2 in c:\\users\\fooli\\anaconda3\\envs\\gpu_env\\lib\\site-packages (from requests<3,>=2.21.0->tensorboard~=2.5->tensorflow-gpu) (3.3.2)\n",
      "Requirement already satisfied: idna<4,>=2.5 in c:\\users\\fooli\\anaconda3\\envs\\gpu_env\\lib\\site-packages (from requests<3,>=2.21.0->tensorboard~=2.5->tensorflow-gpu) (3.4)\n",
      "Requirement already satisfied: urllib3<3,>=1.21.1 in c:\\users\\fooli\\anaconda3\\envs\\gpu_env\\lib\\site-packages (from requests<3,>=2.21.0->tensorboard~=2.5->tensorflow-gpu) (2.0.7)\n",
      "Requirement already satisfied: certifi>=2017.4.17 in c:\\users\\fooli\\anaconda3\\envs\\gpu_env\\lib\\site-packages (from requests<3,>=2.21.0->tensorboard~=2.5->tensorflow-gpu) (2023.7.22)\n",
      "Requirement already satisfied: MarkupSafe>=2.1.1 in c:\\users\\fooli\\anaconda3\\envs\\gpu_env\\lib\\site-packages (from werkzeug>=1.0.1->tensorboard~=2.5->tensorflow-gpu) (2.1.1)\n",
      "Requirement already satisfied: zipp>=0.5 in c:\\users\\fooli\\anaconda3\\envs\\gpu_env\\lib\\site-packages (from importlib-metadata>=4.4->markdown>=2.6.8->tensorboard~=2.5->tensorflow-gpu) (3.11.0)\n",
      "Requirement already satisfied: pyasn1<0.6.0,>=0.4.6 in c:\\users\\fooli\\anaconda3\\envs\\gpu_env\\lib\\site-packages (from pyasn1-modules>=0.2.1->google-auth<3,>=1.6.3->tensorboard~=2.5->tensorflow-gpu) (0.5.0)\n",
      "Requirement already satisfied: oauthlib>=3.0.0 in c:\\users\\fooli\\anaconda3\\envs\\gpu_env\\lib\\site-packages (from requests-oauthlib>=0.7.0->google-auth-oauthlib<0.5,>=0.4.1->tensorboard~=2.5->tensorflow-gpu) (3.2.2)\n",
      "Note: you may need to restart the kernel to use updated packages.\n"
     ]
    }
   ],
   "source": [
    "pip install tensorflow-gpu"
   ]
  },
  {
   "cell_type": "code",
   "execution_count": null,
   "id": "9e28ec01",
   "metadata": {},
   "outputs": [],
   "source": []
  }
 ],
 "metadata": {
  "kernelspec": {
   "display_name": "Python (GPU)",
   "language": "python",
   "name": "gpu_env"
  },
  "language_info": {
   "codemirror_mode": {
    "name": "ipython",
    "version": 3
   },
   "file_extension": ".py",
   "mimetype": "text/x-python",
   "name": "python",
   "nbconvert_exporter": "python",
   "pygments_lexer": "ipython3",
   "version": "3.9.12"
  }
 },
 "nbformat": 4,
 "nbformat_minor": 5
}
