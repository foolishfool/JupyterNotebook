{
 "cells": [
  {
   "cell_type": "code",
   "execution_count": null,
   "id": "0d7a1a7a",
   "metadata": {},
   "outputs": [],
   "source": [
    " def smooth(self, scalars: List[float], weight: float) -> List[float]:  # Weight between 0 and 1\n",
    "        last = scalars[0]  # First value in the plot (first timestep)\n",
    "        smoothed = list()\n",
    "        for point in scalars:\n",
    "            smoothed_val = last * weight + (1 - weight) * point  # Calculate smoothed value\n",
    "            smoothed.append(smoothed_val)                        # Save it\n",
    "            last = smoothed_val                                  # Anchor the last smoothed value\n",
    "\n",
    "        return smoothed\n",
    "    \n",
    "\n",
    "    def findBestClusterNo (self,X,class_num, dim_num, scope_num,unstable_repeate_num,smoothWeight):\n",
    "        inertias_repeat = []\n",
    "        y=1\n",
    "        while y<= unstable_repeate_num:\n",
    "            unit_list = [] \n",
    "            inertias = []\n",
    "            for x in range(class_num, class_num*(scope_num)+1):\n",
    "                unit_list.append(x)\n",
    "                som = self.__init__(m=x, n= 1, dim=dim_num) \n",
    "                som.fit(X)\n",
    "                inertias.append(som._inertia_)\n",
    "            inertias_repeat.append(inertias)\n",
    "            y=y+1\n",
    "\n",
    "\n",
    "\n",
    "        multiple_lists = inertias_repeat\n",
    "        arrays = [np.array(x) for x in multiple_lists] \n",
    "        inertias_average = [np.mean(k) for k in zip(*arrays)]\n",
    "\n",
    "        for i in range(0,len(inertias_average)):\n",
    "            print(\"inertias_average {}  cluster_num {}\".format(inertias_average[i], unit_list[i]))\n",
    "\n",
    "        plt.plot(unit_list, self.smooth(inertias_average, smoothWeight))"
   ]
  }
 ],
 "metadata": {
  "kernelspec": {
   "display_name": "Python 3 (ipykernel)",
   "language": "python",
   "name": "python3"
  },
  "language_info": {
   "codemirror_mode": {
    "name": "ipython",
    "version": 3
   },
   "file_extension": ".py",
   "mimetype": "text/x-python",
   "name": "python",
   "nbconvert_exporter": "python",
   "pygments_lexer": "ipython3",
   "version": "3.9.12"
  }
 },
 "nbformat": 4,
 "nbformat_minor": 5
}
