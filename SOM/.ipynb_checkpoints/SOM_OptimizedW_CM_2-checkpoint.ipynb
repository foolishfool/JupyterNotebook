{
 "cells": [
  {
   "cell_type": "code",
   "execution_count": 1,
   "id": "e9d34dde",
   "metadata": {},
   "outputs": [],
   "source": [
    "#THIS CODE ONLY DO THE WHOLE DATA TRAINING, NO CROSS_VALIDATION AND FEATURE SELECTION\n",
    "import pandas as pd\n",
    "import numpy as np\n",
    "import newSom\n",
    "import optimizeW_CM_MultipleTraining\n",
    "import dataset_read\n",
    "import matplotlib.pyplot as plt"
   ]
  },
  {
   "cell_type": "code",
   "execution_count": 2,
   "id": "6aee060f",
   "metadata": {},
   "outputs": [],
   "source": [
    "dataread = dataset_read.DATAREAD()"
   ]
  },
  {
   "cell_type": "code",
   "execution_count": 3,
   "id": "de6b4ea1",
   "metadata": {},
   "outputs": [],
   "source": [
    "csv_training = pd.read_csv(\"Crowdsourced Mapping/training.csv\")\n",
    "csv_test = pd.read_csv(\"Crowdsourced Mapping/testing.csv\")\n",
    "dataread.stringToIntCrowdsourcedMappingDataSet(csv_training,\"class\")\n",
    "dataread.stringToIntCrowdsourcedMappingDataSet(csv_test,\"class\")"
   ]
  },
  {
   "cell_type": "code",
   "execution_count": 8,
   "id": "a361c4bb",
   "metadata": {
    "scrolled": true
   },
   "outputs": [
    {
     "name": "stdout",
     "output_type": "stream",
     "text": [
      "right_data0_score_W1 1.0 \n",
      "error_data0_score_W3 0.6403317328677434 \n",
      "error_data0_score_W1 0.6281099956350938\n",
      "Finish one train *********\n",
      "1\n",
      "right_data1_score_W1 1.0 \n",
      "error_data1_score_W3 0.537621359223301 \n",
      "error_data1_score_W1 0.5424757281553398\n",
      "Finish one train *********\n",
      "2\n",
      "right_data2_score_W1 1.0 \n",
      "error_data2_score_W3 0.4881889763779528 \n",
      "error_data2_score_W1 0.3858267716535433\n",
      "Finish one train *********\n",
      "3\n",
      "right_data3_score_W1 1.0 \n",
      "error_data3_score_W3 0.5230769230769231 \n",
      "error_data3_score_W1 0.4564102564102564\n",
      "Finish one train *********\n",
      "4\n",
      "right_data4_score_W1 1.0 \n",
      "error_data4_score_W3 0.6021505376344086 \n",
      "error_data4_score_W1 0.41935483870967744\n",
      "Finish one train *********\n",
      "5\n",
      " Max Training Time !\n",
      "all_train_score_W1 : [0.7827406353722143]\n",
      "all_train_score_W_combine: [0.7390232337600758]\n",
      "test_score_W1 : [0.44666666666666666]\n",
      "test_score_W_combine: [0.43333333333333335]\n"
     ]
    }
   ],
   "source": [
    "som = newSom.SOM(m= 6, n= 6, dim=28)  # dim = i-1, as the first feature is the class label\n",
    "optimize_W1 = optimizeW_CM_MultipleTraining.OptimizeW(som,csv_training,csv_test,6)\n",
    "optimize_W1.runOptimize()"
   ]
  },
  {
   "cell_type": "code",
   "execution_count": 5,
   "id": "bfa518ed",
   "metadata": {},
   "outputs": [
    {
     "name": "stdout",
     "output_type": "stream",
     "text": [
      "neuron unit number: 12\n",
      "*******************\n",
      "\n"
     ]
    },
    {
     "ename": "NameError",
     "evalue": "name 'optimizeW_CM' is not defined",
     "output_type": "error",
     "traceback": [
      "\u001b[1;31m---------------------------------------------------------------------------\u001b[0m",
      "\u001b[1;31mNameError\u001b[0m                                 Traceback (most recent call last)",
      "Input \u001b[1;32mIn [5]\u001b[0m, in \u001b[0;36m<cell line: 10>\u001b[1;34m()\u001b[0m\n\u001b[0;32m     12\u001b[0m \u001b[38;5;28mprint\u001b[39m(\u001b[38;5;124m\"\u001b[39m\u001b[38;5;124m*******************\u001b[39m\u001b[38;5;130;01m\\n\u001b[39;00m\u001b[38;5;124m\"\u001b[39m)\n\u001b[0;32m     13\u001b[0m som \u001b[38;5;241m=\u001b[39m newSom\u001b[38;5;241m.\u001b[39mSOM(m\u001b[38;5;241m=\u001b[39m \u001b[38;5;241m6\u001b[39m, n\u001b[38;5;241m=\u001b[39m x, dim\u001b[38;5;241m=\u001b[39m\u001b[38;5;241m28\u001b[39m)  \u001b[38;5;66;03m# dim = i-1, as the first feature is the class label\u001b[39;00m\n\u001b[1;32m---> 14\u001b[0m optimize_W1 \u001b[38;5;241m=\u001b[39m \u001b[43moptimizeW_CM\u001b[49m\u001b[38;5;241m.\u001b[39mOptimizeW(som,csv_training,csv_test,\u001b[38;5;241m6\u001b[39m)\n\u001b[0;32m     15\u001b[0m optimize_W1\u001b[38;5;241m.\u001b[39mrunOptimize()\n\u001b[0;32m     16\u001b[0m all_train_score_W1\u001b[38;5;241m.\u001b[39mappend(optimize_W1\u001b[38;5;241m.\u001b[39mall_train_score_W1)\n",
      "\u001b[1;31mNameError\u001b[0m: name 'optimizeW_CM' is not defined"
     ]
    }
   ],
   "source": [
    "max_num = [2,5,6,8,10,15,20,25,30,40,50]\n",
    "unit_list = []\n",
    "for x in max_num:\n",
    "    unit_list.append(6*x)\n",
    "all_train_score_W1 =[]\n",
    "all_train_score_W_combine =[]\n",
    "test_score_W1 = []\n",
    "test_score_W_combine= []\n",
    "\n",
    "for x in max_num:\n",
    "    print(\"neuron unit number: {}\".format(6*x))\n",
    "    print(\"*******************\\n\")\n",
    "    som = newSom.SOM(m= 6, n= x, dim=28)  # dim = i-1, as the first feature is the class label\n",
    "    optimize_W1 = optimizeW_CM.OptimizeW(som,csv_training,csv_test,6)\n",
    "    optimize_W1.runOptimize()\n",
    "    all_train_score_W1.append(optimize_W1.all_train_score_W1)\n",
    "    all_train_score_W_combine.append(optimize_W1.all_train_score_W_Combined)\n",
    "    test_score_W1.append(optimize_W1.test_score_W1)\n",
    "    test_score_W_combine.append(optimize_W1.test_score_W_combined)\n",
    "\n",
    "plt.plot(unit_list,all_train_score_W1,'r',label ='all_train_score_W1')\n",
    "plt.plot(unit_list,all_train_score_W_combine,'c',label ='all_train_score_W_combine')\n",
    "plt.plot(unit_list,test_score_W1,'y',label ='test_score_W1')\n",
    "plt.plot(unit_list,test_score_W_combine,'k',label ='test_score_W_combine')\n",
    "plt.legend()\n",
    "plt.show()"
   ]
  },
  {
   "cell_type": "code",
   "execution_count": null,
   "id": "3dc65c4c",
   "metadata": {},
   "outputs": [],
   "source": []
  }
 ],
 "metadata": {
  "kernelspec": {
   "display_name": "Python 3 (ipykernel)",
   "language": "python",
   "name": "python3"
  },
  "language_info": {
   "codemirror_mode": {
    "name": "ipython",
    "version": 3
   },
   "file_extension": ".py",
   "mimetype": "text/x-python",
   "name": "python",
   "nbconvert_exporter": "python",
   "pygments_lexer": "ipython3",
   "version": "3.9.12"
  }
 },
 "nbformat": 4,
 "nbformat_minor": 5
}
