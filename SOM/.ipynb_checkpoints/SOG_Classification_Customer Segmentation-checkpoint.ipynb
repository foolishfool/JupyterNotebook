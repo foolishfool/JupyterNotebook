{
 "cells": [
  {
   "cell_type": "code",
   "execution_count": 1,
   "id": "c389a61e",
   "metadata": {
    "scrolled": false
   },
   "outputs": [
    {
     "name": "stderr",
     "output_type": "stream",
     "text": [
      "C:\\Users\\fooli\\anaconda3\\envs\\gpu_env\\lib\\site-packages\\scipy\\__init__.py:132: UserWarning: A NumPy version >=1.21.6 and <1.28.0 is required for this version of SciPy (detected version 1.21.4)\n",
      "  warnings.warn(f\"A NumPy version >={np_minversion} and <{np_maxversion}\"\n"
     ]
    }
   ],
   "source": [
    "#THIS CODE ONLY DO THE WHOLE DATA TRAINING, NO CROSS_VALIDATION AND FEATURE SELECTION\n",
    "\n",
    "import pandas as pd\n",
    "import numpy as np\n",
    "import newSom \n",
    "import experiment\n",
    "import dataset_read\n",
    "import researchpy as rp\n",
    "import scipy.stats as stats\n",
    "import matplotlib.pyplot as plt\n",
    "import collections\n",
    "import warnings\n",
    "warnings.filterwarnings(\"ignore\", category=np.VisibleDeprecationWarning) "
   ]
  },
  {
   "cell_type": "code",
   "execution_count": 2,
   "id": "3d183742",
   "metadata": {},
   "outputs": [],
   "source": [
    "dataread = dataset_read.DATAREAD()"
   ]
  },
  {
   "cell_type": "code",
   "execution_count": 3,
   "id": "f83a1461",
   "metadata": {
    "scrolled": false
   },
   "outputs": [
    {
     "name": "stdout",
     "output_type": "stream",
     "text": [
      "self.continuous_feature_num 1\n",
      "self.data_discrete_indexes ['Gender', 'Ever_Married', 'Graduated', 'Profession', 'Work_Experience', 'Spending_Score', 'Family_Size'] \n"
     ]
    }
   ],
   "source": [
    "csv = pd.read_csv(\"CustomerSegmentation/Train.csv\")\n",
    "csv2 = pd.read_csv(\"CustomerSegmentation/Test.csv\")\n",
    "csv = csv.drop(columns=['ID','Segmentation'])\n",
    "csv2 = csv2.drop(columns=['ID'])   \n",
    "\n",
    "csv = csv.sample(int(csv.shape[0]*0.1))\n",
    "csv2 = csv2.sample(int(csv.shape[0]*0.1))\n",
    "\n",
    "\n",
    "\n",
    "csv['Family_Size'] = pd.to_numeric(csv['Family_Size'])\n",
    "csv2['Family_Size'] = pd.to_numeric(csv2['Family_Size'])\n",
    "csv['Work_Experience'] = pd.to_numeric(csv['Work_Experience'])\n",
    "csv2['Work_Experience'] = pd.to_numeric(csv2['Work_Experience'])\n",
    "\n",
    "\n",
    "\n",
    "dataread.label_encoding(csv,\"Gender\")\n",
    "dataread.label_encoding(csv,\"Ever_Married\")\n",
    "dataread.label_encoding(csv,\"Graduated\")\n",
    "dataread.label_encoding(csv,\"Profession\")\n",
    "dataread.label_encoding(csv,\"Spending_Score\")\n",
    "dataread.label_encoding(csv,\"Var_1\")\n",
    "dataread.label_encoding(csv,\"Family_Size\")\n",
    "dataread.label_encoding(csv,\"Work_Experience\")\n",
    "\n",
    "\n",
    "\n",
    "dataread.label_encoding(csv2,\"Gender\")\n",
    "dataread.label_encoding(csv2,\"Ever_Married\")\n",
    "dataread.label_encoding(csv2,\"Graduated\")\n",
    "dataread.label_encoding(csv2,\"Profession\")\n",
    "dataread.label_encoding(csv2,\"Spending_Score\")\n",
    "dataread.label_encoding(csv2,\"Var_1\")\n",
    "dataread.label_encoding(csv2,\"Family_Size\")\n",
    "dataread.label_encoding(csv2,\"Work_Experience\")\n",
    "\n",
    "\n",
    "\n",
    "csv_training = csv.sample(int(csv.shape[0]))\n",
    "\n",
    "csv_test = csv2\n",
    "\n",
    "\n",
    "dataread.initializedataset(csv,csv_training,csv_test,\"Var_1\")\n"
   ]
  },
  {
   "cell_type": "code",
   "execution_count": 4,
   "id": "9178a35a",
   "metadata": {
    "scrolled": true
   },
   "outputs": [
    {
     "name": "stdout",
     "output_type": "stream",
     "text": [
      "Neuron/Cluster number: 2\n",
      "accuracy_score_orignial 0.0375\n",
      "recall_score_original 0.16666666666666666\n",
      "precision_score_original 0.0062499999999999995\n",
      "f1_score_original 0.012048192771084336\n"
     ]
    },
    {
     "name": "stderr",
     "output_type": "stream",
     "text": [
      "C:\\Users\\fooli\\anaconda3\\envs\\gpu_env\\lib\\site-packages\\sklearn\\metrics\\_classification.py:1469: UndefinedMetricWarning: Precision is ill-defined and being set to 0.0 in labels with no predicted samples. Use `zero_division` parameter to control this behavior.\n",
      "  _warn_prf(average, modifier, msg_start, len(result))\n",
      "C:\\Users\\fooli\\anaconda3\\envs\\gpu_env\\lib\\site-packages\\sklearn\\metrics\\_classification.py:1469: UndefinedMetricWarning: Precision is ill-defined and being set to 0.0 in labels with no predicted samples. Use `zero_division` parameter to control this behavior.\n",
      "  _warn_prf(average, modifier, msg_start, len(result))\n"
     ]
    },
    {
     "name": "stdout",
     "output_type": "stream",
     "text": [
      "accuracy_score_sog 0.0375\n",
      "recall_score_sog 0.16666666666666666\n",
      "precision_score_sog 0.0062499999999999995\n",
      "f1_score_sog 0.012048192771084336\n",
      "Neuron/Cluster number: 7\n",
      "accuracy_score_orignial 0.0375\n",
      "recall_score_original 0.16666666666666666\n",
      "precision_score_original 0.0062499999999999995\n",
      "f1_score_original 0.012048192771084336\n",
      "accuracy_score_sog 0.0375\n",
      "recall_score_sog 0.16666666666666666\n",
      "precision_score_sog 0.0062499999999999995\n",
      "f1_score_sog 0.012048192771084336\n",
      "Neuron/Cluster number: 12\n"
     ]
    },
    {
     "name": "stderr",
     "output_type": "stream",
     "text": [
      "C:\\Users\\fooli\\anaconda3\\envs\\gpu_env\\lib\\site-packages\\sklearn\\metrics\\_classification.py:1469: UndefinedMetricWarning: Precision is ill-defined and being set to 0.0 in labels with no predicted samples. Use `zero_division` parameter to control this behavior.\n",
      "  _warn_prf(average, modifier, msg_start, len(result))\n",
      "C:\\Users\\fooli\\anaconda3\\envs\\gpu_env\\lib\\site-packages\\sklearn\\metrics\\_classification.py:1469: UndefinedMetricWarning: Precision is ill-defined and being set to 0.0 in labels with no predicted samples. Use `zero_division` parameter to control this behavior.\n",
      "  _warn_prf(average, modifier, msg_start, len(result))\n"
     ]
    },
    {
     "name": "stdout",
     "output_type": "stream",
     "text": [
      "accuracy_score_orignial 0.0375\n",
      "recall_score_original 0.16666666666666666\n",
      "precision_score_original 0.0062499999999999995\n",
      "f1_score_original 0.012048192771084336\n",
      "accuracy_score_sog 0.0375\n",
      "recall_score_sog 0.16666666666666666\n",
      "precision_score_sog 0.0062499999999999995\n",
      "f1_score_sog 0.012048192771084336\n",
      "Neuron/Cluster number: 17\n"
     ]
    },
    {
     "name": "stderr",
     "output_type": "stream",
     "text": [
      "C:\\Users\\fooli\\anaconda3\\envs\\gpu_env\\lib\\site-packages\\sklearn\\metrics\\_classification.py:1469: UndefinedMetricWarning: Precision is ill-defined and being set to 0.0 in labels with no predicted samples. Use `zero_division` parameter to control this behavior.\n",
      "  _warn_prf(average, modifier, msg_start, len(result))\n",
      "C:\\Users\\fooli\\anaconda3\\envs\\gpu_env\\lib\\site-packages\\sklearn\\metrics\\_classification.py:1469: UndefinedMetricWarning: Precision is ill-defined and being set to 0.0 in labels with no predicted samples. Use `zero_division` parameter to control this behavior.\n",
      "  _warn_prf(average, modifier, msg_start, len(result))\n"
     ]
    },
    {
     "name": "stdout",
     "output_type": "stream",
     "text": [
      "accuracy_score_orignial 0.0375\n",
      "recall_score_original 0.16666666666666666\n",
      "precision_score_original 0.0062499999999999995\n",
      "f1_score_original 0.012048192771084336\n",
      "accuracy_score_sog 0.0375\n",
      "recall_score_sog 0.16666666666666666\n",
      "precision_score_sog 0.0062499999999999995\n",
      "f1_score_sog 0.012048192771084336\n",
      "Neuron/Cluster number: 22\n"
     ]
    },
    {
     "name": "stderr",
     "output_type": "stream",
     "text": [
      "C:\\Users\\fooli\\anaconda3\\envs\\gpu_env\\lib\\site-packages\\sklearn\\metrics\\_classification.py:1469: UndefinedMetricWarning: Precision is ill-defined and being set to 0.0 in labels with no predicted samples. Use `zero_division` parameter to control this behavior.\n",
      "  _warn_prf(average, modifier, msg_start, len(result))\n",
      "C:\\Users\\fooli\\anaconda3\\envs\\gpu_env\\lib\\site-packages\\sklearn\\metrics\\_classification.py:1469: UndefinedMetricWarning: Precision is ill-defined and being set to 0.0 in labels with no predicted samples. Use `zero_division` parameter to control this behavior.\n",
      "  _warn_prf(average, modifier, msg_start, len(result))\n"
     ]
    },
    {
     "name": "stdout",
     "output_type": "stream",
     "text": [
      "accuracy_score_orignial 0.0375\n",
      "recall_score_original 0.16666666666666666\n",
      "precision_score_original 0.0062499999999999995\n",
      "f1_score_original 0.012048192771084336\n",
      "accuracy_score_sog 0.0375\n",
      "recall_score_sog 0.16666666666666666\n",
      "precision_score_sog 0.0062499999999999995\n",
      "f1_score_sog 0.012048192771084336\n",
      "Neuron/Cluster number: 27\n"
     ]
    },
    {
     "name": "stderr",
     "output_type": "stream",
     "text": [
      "C:\\Users\\fooli\\anaconda3\\envs\\gpu_env\\lib\\site-packages\\sklearn\\metrics\\_classification.py:1469: UndefinedMetricWarning: Precision is ill-defined and being set to 0.0 in labels with no predicted samples. Use `zero_division` parameter to control this behavior.\n",
      "  _warn_prf(average, modifier, msg_start, len(result))\n",
      "C:\\Users\\fooli\\anaconda3\\envs\\gpu_env\\lib\\site-packages\\sklearn\\metrics\\_classification.py:1469: UndefinedMetricWarning: Precision is ill-defined and being set to 0.0 in labels with no predicted samples. Use `zero_division` parameter to control this behavior.\n",
      "  _warn_prf(average, modifier, msg_start, len(result))\n"
     ]
    },
    {
     "name": "stdout",
     "output_type": "stream",
     "text": [
      "accuracy_score_orignial 0.0375\n",
      "recall_score_original 0.16666666666666666\n",
      "precision_score_original 0.0062499999999999995\n",
      "f1_score_original 0.012048192771084336\n",
      "accuracy_score_sog 0.0375\n",
      "recall_score_sog 0.16666666666666666\n",
      "precision_score_sog 0.0062499999999999995\n",
      "f1_score_sog 0.012048192771084336\n",
      "Neuron/Cluster number: 32\n"
     ]
    },
    {
     "name": "stderr",
     "output_type": "stream",
     "text": [
      "C:\\Users\\fooli\\anaconda3\\envs\\gpu_env\\lib\\site-packages\\sklearn\\metrics\\_classification.py:1469: UndefinedMetricWarning: Precision is ill-defined and being set to 0.0 in labels with no predicted samples. Use `zero_division` parameter to control this behavior.\n",
      "  _warn_prf(average, modifier, msg_start, len(result))\n",
      "C:\\Users\\fooli\\anaconda3\\envs\\gpu_env\\lib\\site-packages\\sklearn\\metrics\\_classification.py:1469: UndefinedMetricWarning: Precision is ill-defined and being set to 0.0 in labels with no predicted samples. Use `zero_division` parameter to control this behavior.\n",
      "  _warn_prf(average, modifier, msg_start, len(result))\n"
     ]
    },
    {
     "name": "stdout",
     "output_type": "stream",
     "text": [
      "accuracy_score_orignial 0.0375\n",
      "recall_score_original 0.16666666666666666\n",
      "precision_score_original 0.0062499999999999995\n",
      "f1_score_original 0.012048192771084336\n",
      "accuracy_score_sog 0.0375\n",
      "recall_score_sog 0.16666666666666666\n",
      "precision_score_sog 0.0062499999999999995\n",
      "f1_score_sog 0.012048192771084336\n",
      "Neuron/Cluster number: 37\n"
     ]
    },
    {
     "name": "stderr",
     "output_type": "stream",
     "text": [
      "C:\\Users\\fooli\\anaconda3\\envs\\gpu_env\\lib\\site-packages\\sklearn\\metrics\\_classification.py:1469: UndefinedMetricWarning: Precision is ill-defined and being set to 0.0 in labels with no predicted samples. Use `zero_division` parameter to control this behavior.\n",
      "  _warn_prf(average, modifier, msg_start, len(result))\n",
      "C:\\Users\\fooli\\anaconda3\\envs\\gpu_env\\lib\\site-packages\\sklearn\\metrics\\_classification.py:1469: UndefinedMetricWarning: Precision is ill-defined and being set to 0.0 in labels with no predicted samples. Use `zero_division` parameter to control this behavior.\n",
      "  _warn_prf(average, modifier, msg_start, len(result))\n"
     ]
    },
    {
     "name": "stdout",
     "output_type": "stream",
     "text": [
      "accuracy_score_orignial 0.0375\n",
      "recall_score_original 0.16666666666666666\n",
      "precision_score_original 0.0062499999999999995\n",
      "f1_score_original 0.012048192771084336\n",
      "accuracy_score_sog 0.0375\n",
      "recall_score_sog 0.16666666666666666\n",
      "precision_score_sog 0.0062499999999999995\n",
      "f1_score_sog 0.012048192771084336\n",
      "Neuron/Cluster number: 42\n"
     ]
    },
    {
     "name": "stderr",
     "output_type": "stream",
     "text": [
      "C:\\Users\\fooli\\anaconda3\\envs\\gpu_env\\lib\\site-packages\\sklearn\\metrics\\_classification.py:1469: UndefinedMetricWarning: Precision is ill-defined and being set to 0.0 in labels with no predicted samples. Use `zero_division` parameter to control this behavior.\n",
      "  _warn_prf(average, modifier, msg_start, len(result))\n",
      "C:\\Users\\fooli\\anaconda3\\envs\\gpu_env\\lib\\site-packages\\sklearn\\metrics\\_classification.py:1469: UndefinedMetricWarning: Precision is ill-defined and being set to 0.0 in labels with no predicted samples. Use `zero_division` parameter to control this behavior.\n",
      "  _warn_prf(average, modifier, msg_start, len(result))\n"
     ]
    },
    {
     "name": "stdout",
     "output_type": "stream",
     "text": [
      "accuracy_score_orignial 0.0375\n",
      "recall_score_original 0.16666666666666666\n",
      "precision_score_original 0.0062499999999999995\n",
      "f1_score_original 0.012048192771084336\n",
      "accuracy_score_sog 0.0375\n",
      "recall_score_sog 0.16666666666666666\n",
      "precision_score_sog 0.0062499999999999995\n",
      "f1_score_sog 0.012048192771084336\n",
      "Neuron/Cluster number: 47\n"
     ]
    },
    {
     "name": "stderr",
     "output_type": "stream",
     "text": [
      "C:\\Users\\fooli\\anaconda3\\envs\\gpu_env\\lib\\site-packages\\sklearn\\metrics\\_classification.py:1469: UndefinedMetricWarning: Precision is ill-defined and being set to 0.0 in labels with no predicted samples. Use `zero_division` parameter to control this behavior.\n",
      "  _warn_prf(average, modifier, msg_start, len(result))\n",
      "C:\\Users\\fooli\\anaconda3\\envs\\gpu_env\\lib\\site-packages\\sklearn\\metrics\\_classification.py:1469: UndefinedMetricWarning: Precision is ill-defined and being set to 0.0 in labels with no predicted samples. Use `zero_division` parameter to control this behavior.\n",
      "  _warn_prf(average, modifier, msg_start, len(result))\n"
     ]
    },
    {
     "name": "stdout",
     "output_type": "stream",
     "text": [
      "accuracy_score_orignial 0.0375\n",
      "recall_score_original 0.16666666666666666\n",
      "precision_score_original 0.0062499999999999995\n",
      "f1_score_original 0.012048192771084336\n",
      "accuracy_score_sog 0.0375\n",
      "recall_score_sog 0.16666666666666666\n",
      "precision_score_sog 0.0062499999999999995\n",
      "f1_score_sog 0.012048192771084336\n",
      "Neuron/Cluster number: 52\n"
     ]
    },
    {
     "name": "stderr",
     "output_type": "stream",
     "text": [
      "C:\\Users\\fooli\\anaconda3\\envs\\gpu_env\\lib\\site-packages\\sklearn\\metrics\\_classification.py:1469: UndefinedMetricWarning: Precision is ill-defined and being set to 0.0 in labels with no predicted samples. Use `zero_division` parameter to control this behavior.\n",
      "  _warn_prf(average, modifier, msg_start, len(result))\n",
      "C:\\Users\\fooli\\anaconda3\\envs\\gpu_env\\lib\\site-packages\\sklearn\\metrics\\_classification.py:1469: UndefinedMetricWarning: Precision is ill-defined and being set to 0.0 in labels with no predicted samples. Use `zero_division` parameter to control this behavior.\n",
      "  _warn_prf(average, modifier, msg_start, len(result))\n"
     ]
    },
    {
     "name": "stdout",
     "output_type": "stream",
     "text": [
      "accuracy_score_orignial 0.0375\n",
      "recall_score_original 0.16666666666666666\n",
      "precision_score_original 0.0062499999999999995\n",
      "f1_score_original 0.012048192771084336\n",
      "accuracy_score_sog 0.0375\n",
      "recall_score_sog 0.16666666666666666\n",
      "precision_score_sog 0.0062499999999999995\n",
      "f1_score_sog 0.012048192771084336\n",
      "Neuron/Cluster number: 57\n"
     ]
    },
    {
     "name": "stderr",
     "output_type": "stream",
     "text": [
      "C:\\Users\\fooli\\anaconda3\\envs\\gpu_env\\lib\\site-packages\\sklearn\\metrics\\_classification.py:1469: UndefinedMetricWarning: Precision is ill-defined and being set to 0.0 in labels with no predicted samples. Use `zero_division` parameter to control this behavior.\n",
      "  _warn_prf(average, modifier, msg_start, len(result))\n",
      "C:\\Users\\fooli\\anaconda3\\envs\\gpu_env\\lib\\site-packages\\sklearn\\metrics\\_classification.py:1469: UndefinedMetricWarning: Precision is ill-defined and being set to 0.0 in labels with no predicted samples. Use `zero_division` parameter to control this behavior.\n",
      "  _warn_prf(average, modifier, msg_start, len(result))\n"
     ]
    },
    {
     "name": "stdout",
     "output_type": "stream",
     "text": [
      "accuracy_score_orignial 0.0375\n",
      "recall_score_original 0.16666666666666666\n",
      "precision_score_original 0.0062499999999999995\n",
      "f1_score_original 0.012048192771084336\n",
      "accuracy_score_sog 0.0375\n",
      "recall_score_sog 0.16666666666666666\n",
      "precision_score_sog 0.0062499999999999995\n",
      "f1_score_sog 0.012048192771084336\n",
      "Neuron/Cluster number: 62\n"
     ]
    },
    {
     "name": "stderr",
     "output_type": "stream",
     "text": [
      "C:\\Users\\fooli\\anaconda3\\envs\\gpu_env\\lib\\site-packages\\sklearn\\metrics\\_classification.py:1469: UndefinedMetricWarning: Precision is ill-defined and being set to 0.0 in labels with no predicted samples. Use `zero_division` parameter to control this behavior.\n",
      "  _warn_prf(average, modifier, msg_start, len(result))\n",
      "C:\\Users\\fooli\\anaconda3\\envs\\gpu_env\\lib\\site-packages\\sklearn\\metrics\\_classification.py:1469: UndefinedMetricWarning: Precision is ill-defined and being set to 0.0 in labels with no predicted samples. Use `zero_division` parameter to control this behavior.\n",
      "  _warn_prf(average, modifier, msg_start, len(result))\n"
     ]
    },
    {
     "name": "stdout",
     "output_type": "stream",
     "text": [
      "accuracy_score_orignial 0.0375\n",
      "recall_score_original 0.16666666666666666\n",
      "precision_score_original 0.0062499999999999995\n",
      "f1_score_original 0.012048192771084336\n",
      "accuracy_score_sog 0.0375\n",
      "recall_score_sog 0.16666666666666666\n",
      "precision_score_sog 0.0062499999999999995\n",
      "f1_score_sog 0.012048192771084336\n",
      "Neuron/Cluster number: 67\n"
     ]
    },
    {
     "name": "stderr",
     "output_type": "stream",
     "text": [
      "C:\\Users\\fooli\\anaconda3\\envs\\gpu_env\\lib\\site-packages\\sklearn\\metrics\\_classification.py:1469: UndefinedMetricWarning: Precision is ill-defined and being set to 0.0 in labels with no predicted samples. Use `zero_division` parameter to control this behavior.\n",
      "  _warn_prf(average, modifier, msg_start, len(result))\n",
      "C:\\Users\\fooli\\anaconda3\\envs\\gpu_env\\lib\\site-packages\\sklearn\\metrics\\_classification.py:1469: UndefinedMetricWarning: Precision is ill-defined and being set to 0.0 in labels with no predicted samples. Use `zero_division` parameter to control this behavior.\n",
      "  _warn_prf(average, modifier, msg_start, len(result))\n"
     ]
    },
    {
     "name": "stdout",
     "output_type": "stream",
     "text": [
      "accuracy_score_orignial 0.0375\n",
      "recall_score_original 0.16666666666666666\n",
      "precision_score_original 0.0062499999999999995\n",
      "f1_score_original 0.012048192771084336\n",
      "accuracy_score_sog 0.0375\n",
      "recall_score_sog 0.16666666666666666\n",
      "precision_score_sog 0.0062499999999999995\n",
      "f1_score_sog 0.012048192771084336\n",
      "Neuron/Cluster number: 72\n"
     ]
    },
    {
     "name": "stderr",
     "output_type": "stream",
     "text": [
      "C:\\Users\\fooli\\anaconda3\\envs\\gpu_env\\lib\\site-packages\\sklearn\\metrics\\_classification.py:1469: UndefinedMetricWarning: Precision is ill-defined and being set to 0.0 in labels with no predicted samples. Use `zero_division` parameter to control this behavior.\n",
      "  _warn_prf(average, modifier, msg_start, len(result))\n",
      "C:\\Users\\fooli\\anaconda3\\envs\\gpu_env\\lib\\site-packages\\sklearn\\metrics\\_classification.py:1469: UndefinedMetricWarning: Precision is ill-defined and being set to 0.0 in labels with no predicted samples. Use `zero_division` parameter to control this behavior.\n",
      "  _warn_prf(average, modifier, msg_start, len(result))\n"
     ]
    },
    {
     "name": "stdout",
     "output_type": "stream",
     "text": [
      "accuracy_score_orignial 0.0375\n",
      "recall_score_original 0.16666666666666666\n",
      "precision_score_original 0.0062499999999999995\n",
      "f1_score_original 0.012048192771084336\n",
      "accuracy_score_sog 0.0375\n",
      "recall_score_sog 0.16666666666666666\n",
      "precision_score_sog 0.0062499999999999995\n",
      "f1_score_sog 0.012048192771084336\n",
      "Neuron/Cluster number: 77\n"
     ]
    },
    {
     "name": "stderr",
     "output_type": "stream",
     "text": [
      "C:\\Users\\fooli\\anaconda3\\envs\\gpu_env\\lib\\site-packages\\sklearn\\metrics\\_classification.py:1469: UndefinedMetricWarning: Precision is ill-defined and being set to 0.0 in labels with no predicted samples. Use `zero_division` parameter to control this behavior.\n",
      "  _warn_prf(average, modifier, msg_start, len(result))\n",
      "C:\\Users\\fooli\\anaconda3\\envs\\gpu_env\\lib\\site-packages\\sklearn\\metrics\\_classification.py:1469: UndefinedMetricWarning: Precision is ill-defined and being set to 0.0 in labels with no predicted samples. Use `zero_division` parameter to control this behavior.\n",
      "  _warn_prf(average, modifier, msg_start, len(result))\n"
     ]
    },
    {
     "name": "stdout",
     "output_type": "stream",
     "text": [
      "accuracy_score_orignial 0.075\n",
      "recall_score_original 0.2380952380952381\n",
      "precision_score_original 0.13157894736842105\n",
      "f1_score_original 0.10356731875719216\n",
      "accuracy_score_sog 0.05\n",
      "recall_score_sog 0.19047619047619047\n",
      "precision_score_sog 0.1729957805907173\n",
      "f1_score_sog 0.05386178861788618\n",
      "Not good accuracy result !!!!!\n",
      "Not good recall_score result !!!!!\n",
      "Not good accuracy result !!!!!\n",
      "Neuron/Cluster number: 82\n"
     ]
    },
    {
     "name": "stderr",
     "output_type": "stream",
     "text": [
      "C:\\Users\\fooli\\anaconda3\\envs\\gpu_env\\lib\\site-packages\\sklearn\\metrics\\_classification.py:1469: UndefinedMetricWarning: Precision is ill-defined and being set to 0.0 in labels with no predicted samples. Use `zero_division` parameter to control this behavior.\n",
      "  _warn_prf(average, modifier, msg_start, len(result))\n",
      "C:\\Users\\fooli\\anaconda3\\envs\\gpu_env\\lib\\site-packages\\sklearn\\metrics\\_classification.py:1469: UndefinedMetricWarning: Precision is ill-defined and being set to 0.0 in labels with no predicted samples. Use `zero_division` parameter to control this behavior.\n",
      "  _warn_prf(average, modifier, msg_start, len(result))\n"
     ]
    },
    {
     "name": "stdout",
     "output_type": "stream",
     "text": [
      "accuracy_score_orignial 0.05\n",
      "recall_score_original 0.19047619047619047\n",
      "precision_score_original 0.08974358974358974\n",
      "f1_score_original 0.04938271604938271\n",
      "accuracy_score_sog 0.075\n",
      "recall_score_sog 0.2380952380952381\n",
      "precision_score_sog 0.0900900900900901\n",
      "f1_score_sog 0.0899100899100899\n",
      "Neuron/Cluster number: 87\n"
     ]
    },
    {
     "name": "stderr",
     "output_type": "stream",
     "text": [
      "C:\\Users\\fooli\\anaconda3\\envs\\gpu_env\\lib\\site-packages\\sklearn\\metrics\\_classification.py:1469: UndefinedMetricWarning: Precision is ill-defined and being set to 0.0 in labels with no predicted samples. Use `zero_division` parameter to control this behavior.\n",
      "  _warn_prf(average, modifier, msg_start, len(result))\n",
      "C:\\Users\\fooli\\anaconda3\\envs\\gpu_env\\lib\\site-packages\\sklearn\\metrics\\_classification.py:1469: UndefinedMetricWarning: Precision is ill-defined and being set to 0.0 in labels with no predicted samples. Use `zero_division` parameter to control this behavior.\n",
      "  _warn_prf(average, modifier, msg_start, len(result))\n"
     ]
    },
    {
     "name": "stdout",
     "output_type": "stream",
     "text": [
      "accuracy_score_orignial 0.075\n",
      "recall_score_original 0.2380952380952381\n",
      "precision_score_original 0.06259780907668232\n",
      "f1_score_original 0.07601351351351351\n",
      "accuracy_score_sog 0.075\n",
      "recall_score_sog 0.2380952380952381\n",
      "precision_score_sog 0.0900900900900901\n",
      "f1_score_sog 0.0899100899100899\n",
      "Neuron/Cluster number: 92\n"
     ]
    },
    {
     "name": "stderr",
     "output_type": "stream",
     "text": [
      "C:\\Users\\fooli\\anaconda3\\envs\\gpu_env\\lib\\site-packages\\sklearn\\metrics\\_classification.py:1469: UndefinedMetricWarning: Precision is ill-defined and being set to 0.0 in labels with no predicted samples. Use `zero_division` parameter to control this behavior.\n",
      "  _warn_prf(average, modifier, msg_start, len(result))\n",
      "C:\\Users\\fooli\\anaconda3\\envs\\gpu_env\\lib\\site-packages\\sklearn\\metrics\\_classification.py:1469: UndefinedMetricWarning: Precision is ill-defined and being set to 0.0 in labels with no predicted samples. Use `zero_division` parameter to control this behavior.\n",
      "  _warn_prf(average, modifier, msg_start, len(result))\n"
     ]
    },
    {
     "name": "stdout",
     "output_type": "stream",
     "text": [
      "accuracy_score_orignial 0.075\n",
      "recall_score_original 0.2380952380952381\n",
      "precision_score_original 0.06259780907668232\n",
      "f1_score_original 0.07601351351351351\n",
      "accuracy_score_sog 0.075\n",
      "recall_score_sog 0.2380952380952381\n",
      "precision_score_sog 0.06259780907668232\n",
      "f1_score_sog 0.07601351351351351\n",
      "Neuron/Cluster number: 97\n"
     ]
    },
    {
     "name": "stderr",
     "output_type": "stream",
     "text": [
      "C:\\Users\\fooli\\anaconda3\\envs\\gpu_env\\lib\\site-packages\\sklearn\\metrics\\_classification.py:1469: UndefinedMetricWarning: Precision is ill-defined and being set to 0.0 in labels with no predicted samples. Use `zero_division` parameter to control this behavior.\n",
      "  _warn_prf(average, modifier, msg_start, len(result))\n",
      "C:\\Users\\fooli\\anaconda3\\envs\\gpu_env\\lib\\site-packages\\sklearn\\metrics\\_classification.py:1469: UndefinedMetricWarning: Precision is ill-defined and being set to 0.0 in labels with no predicted samples. Use `zero_division` parameter to control this behavior.\n",
      "  _warn_prf(average, modifier, msg_start, len(result))\n"
     ]
    },
    {
     "name": "stdout",
     "output_type": "stream",
     "text": [
      "accuracy_score_orignial 0.075\n",
      "recall_score_original 0.2380952380952381\n",
      "precision_score_original 0.06259780907668232\n",
      "f1_score_original 0.07601351351351351\n",
      "accuracy_score_sog 0.0375\n",
      "recall_score_sog 0.16666666666666666\n",
      "precision_score_sog 0.0062499999999999995\n",
      "f1_score_sog 0.012048192771084336\n",
      "Not good accuracy result !!!!!\n",
      "Not good recall_score result !!!!!\n",
      "Not good precision_score_original !!!!!\n",
      "Not good accuracy result !!!!!\n",
      "all_accuracy_score_original mean 0.04562499999999999\n",
      "all_recall_score_original mean 0.18214285714285716\n",
      "all_precision_score_original mean 0.02514329821710289\n",
      "all_f1_score_original mean 0.02808567334566902\n",
      "all_accuracy_score_sog mean 0.04375\n",
      "all_recall_score_sog mean 0.17857142857142858\n",
      "all_precision_score_sog mean 0.025788688492378992\n",
      "all_f1_score_sog mean 0.02512332831444645\n"
     ]
    },
    {
     "name": "stderr",
     "output_type": "stream",
     "text": [
      "C:\\Users\\fooli\\anaconda3\\envs\\gpu_env\\lib\\site-packages\\sklearn\\metrics\\_classification.py:1469: UndefinedMetricWarning: Precision is ill-defined and being set to 0.0 in labels with no predicted samples. Use `zero_division` parameter to control this behavior.\n",
      "  _warn_prf(average, modifier, msg_start, len(result))\n",
      "C:\\Users\\fooli\\anaconda3\\envs\\gpu_env\\lib\\site-packages\\sklearn\\metrics\\_classification.py:1469: UndefinedMetricWarning: Precision is ill-defined and being set to 0.0 in labels with no predicted samples. Use `zero_division` parameter to control this behavior.\n",
      "  _warn_prf(average, modifier, msg_start, len(result))\n"
     ]
    },
    {
     "data": {
      "image/png": "[encoded data removed]",
      "text/plain": [
       "<Figure size 1200x500 with 4 Axes>"
      ]
     },
     "metadata": {},
     "output_type": "display_data"
    },
    {
     "name": "stdout",
     "output_type": "stream",
     "text": [
      "Accuracy Score T-Test\n",
      "                      Variable     N      Mean        SD        SE  95% Conf.  \\\n",
      "0  all_accuracy_score_original  20.0  0.045625  0.015323  0.003426   0.038454   \n",
      "1       all_accuracy_score_sog  20.0  0.043750  0.013753  0.003075   0.037313   \n",
      "2                     combined  40.0  0.044688  0.014402  0.002277   0.040081   \n",
      "\n",
      "   Interval  \n",
      "0  0.052796  \n",
      "1  0.050187  \n",
      "2  0.049294  \n",
      "                                  Independent t-test  results\n",
      "0  Difference (all_accuracy_score_original - all_...   0.0019\n",
      "1                              Degrees of freedom =   38.0000\n",
      "2                                               t =    0.4073\n",
      "3                           Two side test p value =    0.6861\n",
      "4                          Difference < 0 p value =    0.6569\n",
      "5                          Difference > 0 p value =    0.3431\n",
      "6                                       Cohen's d =    0.1288\n",
      "7                                       Hedge's g =    0.1262\n",
      "8                                  Glass's delta1 =    0.1224\n",
      "9                                Point-Biserial r =    0.0659\n",
      "Recall Score T-Test\n",
      "                    Variable     N      Mean        SD        SE  95% Conf.  \\\n",
      "0  all_recall_score_original  20.0  0.182143  0.029186  0.006526   0.168483   \n",
      "1       all_recall_score_sog  20.0  0.178571  0.026196  0.005858   0.166311   \n",
      "2                   combined  40.0  0.180357  0.027433  0.004338   0.171584   \n",
      "\n",
      "   Interval  \n",
      "0  0.195802  \n",
      "1  0.190832  \n",
      "2  0.189131  \n",
      "                                  Independent t-test  results\n",
      "0  Difference (all_recall_score_original - all_re...   0.0036\n",
      "1                              Degrees of freedom =   38.0000\n",
      "2                                               t =    0.4073\n",
      "3                           Two side test p value =    0.6861\n",
      "4                          Difference < 0 p value =    0.6569\n",
      "5                          Difference > 0 p value =    0.3431\n",
      "6                                       Cohen's d =    0.1288\n",
      "7                                       Hedge's g =    0.1262\n",
      "8                                  Glass's delta1 =    0.1224\n",
      "9                                Point-Biserial r =    0.0659\n",
      "Precision Score T-Test\n",
      "                       Variable     N      Mean        SD        SE  \\\n",
      "0  all_precision_score_original  20.0  0.025143  0.036321  0.008122   \n",
      "1       all_precision_score_sog  20.0  0.025789  0.044368  0.009921   \n",
      "2                      combined  40.0  0.025466  0.040023  0.006328   \n",
      "\n",
      "   95% Conf.  Interval  \n",
      "0   0.008145  0.042142  \n",
      "1   0.005024  0.046554  \n",
      "2   0.012666  0.038266  \n",
      "                                  Independent t-test  results\n",
      "0  Difference (all_precision_score_original - all...  -0.0006\n",
      "1                              Degrees of freedom =   38.0000\n",
      "2                                               t =   -0.0503\n",
      "3                           Two side test p value =    0.9601\n",
      "4                          Difference < 0 p value =    0.4801\n",
      "5                          Difference > 0 p value =    0.5199\n",
      "6                                       Cohen's d =   -0.0159\n",
      "7                                       Hedge's g =   -0.0156\n",
      "8                                  Glass's delta1 =   -0.0178\n",
      "9                                Point-Biserial r =   -0.0082\n",
      "F1 Score T-Test\n",
      "                Variable     N      Mean        SD        SE  95% Conf.  \\\n",
      "0  all_f1_score_original  20.0  0.028086  0.029824  0.006669   0.014127   \n",
      "1       all_f1_score_sog  20.0  0.025123  0.027669  0.006187   0.012174   \n",
      "2               combined  40.0  0.026605  0.028435  0.004496   0.017510   \n",
      "\n",
      "   Interval  \n",
      "0  0.042044  \n",
      "1  0.038073  \n",
      "2  0.035699  \n",
      "                                  Independent t-test  results\n",
      "0  Difference (all_f1_score_original - all_f1_sco...   0.0030\n",
      "1                              Degrees of freedom =   38.0000\n",
      "2                                               t =    0.3256\n",
      "3                           Two side test p value =    0.7465\n",
      "4                          Difference < 0 p value =    0.6268\n",
      "5                          Difference > 0 p value =    0.3732\n",
      "6                                       Cohen's d =    0.1030\n",
      "7                                       Hedge's g =    0.1009\n",
      "8                                  Glass's delta1 =    0.0993\n",
      "9                                Point-Biserial r =    0.0528\n"
     ]
    }
   ],
   "source": [
    "#Random Forest #(C = 1000,kernel='rbf',gamma ='auto',probability = True)\n",
    "import experiment\n",
    "unstable_repeat_num= 30\n",
    "scope_num = 100\n",
    "class_num = 2\n",
    "dim_num = 7\n",
    "best_num = 48\n",
    "interval = 5\n",
    "\n",
    "\n",
    "features_chosen = [0,1,2,3]\n",
    "feature_combination_number = 2\n",
    "experiment = experiment.Experiment()\n",
    "experiment.UTtest_Discrete(dataread,class_num,scope_num,interval,features_chosen,feature_combination_number)"
   ]
  },
  {
   "cell_type": "code",
   "execution_count": 5,
   "id": "3a947be6",
   "metadata": {},
   "outputs": [
    {
     "name": "stdout",
     "output_type": "stream",
     "text": [
      "Sorted feature index for component 0 [2, 1, 0, 3, 6, 5, 4]\n",
      "Sorted imporance porporation for component 0  [0.6743522215078003, 0.17365802885171655, 0.09168227428144186, 0.054006924849343246, 0.0029539018245805524, 0.002144382906993425, 0.0012022657781240002]\n",
      "Sorted feature index for component 1 [0, 2, 1, 5, 3, 4, 6]\n",
      "Sorted imporance porporation for component 1  [0.5263099599709576, 0.26487112960567605, 0.10595075649456495, 0.07754939484393436, 0.016966230073160896, 0.005162539405139863, 0.0031899896065663417]\n",
      "Sorted feature index for component 2 [0, 3, 1, 2, 4, 6, 5]\n",
      "Sorted imporance porporation for component 2  [0.6237471828252281, 0.1603980392365704, 0.13653805719925116, 0.03276945375329641, 0.02676028354502984, 0.01954805158607996, 0.00023893185454433228]\n",
      "Sorted feature index for component 3 [1, 6, 4, 5, 0, 3, 2]\n",
      "Sorted imporance porporation for component 3  [0.811111034379528, 0.07825961845146212, 0.04474020179815505, 0.03221696711748332, 0.02035936257224703, 0.011502040993339693, 0.0018107746877847784]\n",
      "Sorted feature index for component 4 [6, 5, 4, 2, 3, 0, 1]\n",
      "Sorted imporance porporation for component 4  [0.9599562975551338, 0.014546111870912488, 0.013149972909064351, 0.0038372777835914964, 0.003603998407686151, 0.0031873363581344377, 0.0017190051154773092]\n",
      "Sorted feature index for component 5 [0, 2, 1, 6, 4, 3, 5]\n",
      "Sorted imporance porporation for component 5  [0.5286798973069383, 0.24060738016007602, 0.09234935371751782, 0.06660227204369977, 0.05323731646442769, 0.01701408070476909, 0.0015096996025713147]\n",
      "Sorted feature index for component 6 [2, 5, 6, 3, 1, 4, 0]\n",
      "Sorted imporance porporation for component 6  [0.8745443004412521, 0.048335750400793576, 0.030243359433636943, 0.013244867753462954, 0.012738873036129599, 0.011847423503870318, 0.009045425430854681]\n",
      "[0.72849649 0.15154911 0.08975948 0.01729352 0.005376   0.0046849\n",
      " 0.00284052]\n"
     ]
    },
    {
     "data": {
      "image/png": "[encoded data removed]",
      "text/plain": [
       "<Figure size 640x480 with 1 Axes>"
      ]
     },
     "metadata": {},
     "output_type": "display_data"
    }
   ],
   "source": [
    "dataread.PCA_Comparision() #COMPONENT 123   0,1,2|0,2,1| 0,2,1,3"
   ]
  },
  {
   "cell_type": "code",
   "execution_count": null,
   "id": "79bfdb90",
   "metadata": {},
   "outputs": [],
   "source": []
  }
 ],
 "metadata": {
  "kernelspec": {
   "display_name": "Python (GPU)",
   "language": "python",
   "name": "gpu_env"
  },
  "language_info": {
   "codemirror_mode": {
    "name": "ipython",
    "version": 3
   },
   "file_extension": ".py",
   "mimetype": "text/x-python",
   "name": "python",
   "nbconvert_exporter": "python",
   "pygments_lexer": "ipython3",
   "version": "3.9.18"
  }
 },
 "nbformat": 4,
 "nbformat_minor": 5
}
