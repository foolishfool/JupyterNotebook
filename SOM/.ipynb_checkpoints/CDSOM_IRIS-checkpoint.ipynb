{
 "cells": [
  {
   "cell_type": "code",
   "execution_count": 1,
   "id": "e9d34dde",
   "metadata": {},
   "outputs": [],
   "source": [
    "#THIS CODE ONLY DO THE WHOLE DATA TRAINING, NO CROSS_VALIDATION AND FEATURE SELECTION\n",
    "import pandas as pd\n",
    "import numpy as np\n",
    "import newSom\n",
    "import CDSOM\n",
    "import dataset_read\n",
    "import researchpy as rp\n",
    "import scipy.stats as stats\n",
    "import matplotlib.pyplot as plt\n",
    "import collections\n",
    "import warnings\n",
    "import experiment\n",
    "warnings.filterwarnings(\"ignore\", category=np.VisibleDeprecationWarning) "
   ]
  },
  {
   "cell_type": "code",
   "execution_count": 2,
   "id": "6aee060f",
   "metadata": {},
   "outputs": [],
   "source": [
    "dataread = dataset_read.DATAREAD()"
   ]
  },
  {
   "cell_type": "code",
   "execution_count": 3,
   "id": "de6b4ea1",
   "metadata": {
    "scrolled": true
   },
   "outputs": [
    {
     "name": "stdout",
     "output_type": "stream",
     "text": [
      "33\n",
      "20\n",
      "38\n",
      "21\n",
      "self.data_continuous_indexes ['SepalLengthCm', 'SepalWidthCm', 'PetalLengthCm', 'PetalWidthCm'] \n"
     ]
    }
   ],
   "source": [
    "csv = pd.read_csv(\"Iris.csv\")\n",
    "csv = csv.drop(columns=['Id'])\n",
    "dataread.stringToIntIrisDataSet(csv,\"Species\")\n",
    "csv_test = csv.sample(int(csv.shape[0]*0.3))\n",
    "csv_training = csv.drop(csv_test.index,axis = 0)\n",
    "dataread.initializedataset(csv,csv_training,csv_test,\"Species\",10)\n",
    "\n",
    "#print(\"self.data_train len {}\".format(len(dataread.data_train)))"
   ]
  },
  {
   "cell_type": "code",
   "execution_count": 5,
   "id": "cd9e645d",
   "metadata": {
    "scrolled": false
   },
   "outputs": [
    {
     "name": "stdout",
     "output_type": "stream",
     "text": [
      "n111111111111111111111111\n",
      "neuron unit number: 3\n",
      " mxn 3\n",
      "train_continuous_score_W0_n 0.6706232841876855\n",
      "train_continuous_score_W0_a 0.6706232841876855\n",
      "test_continuous_score_W0_n 0.8021666374065749\n",
      "test_continuous_score_W0_a 0.8021666374065749\n",
      "train_continuous_score_W_continuous_n 0.6799419729816306\n",
      "train_continuous_score_W_continuous_a 0.6799419729816306\n",
      "test_continuous_score_W_continuous_n 0.7308740926012958\n",
      "test_continuous_score_W_continuous_a 0.7308740926012958\n",
      "Not good nmi result for continuous features !!!!!\n",
      "Not good ari result for continuous features  !!!!!\n",
      "New Continuous Feateure Neurons Number :8\n",
      "neuron unit number: 4\n",
      " mxn 4\n",
      "train_continuous_score_W0_n 0.7449212490029657\n",
      "train_continuous_score_W0_a 0.7449212490029657\n",
      "test_continuous_score_W0_n 0.7187599817888827\n",
      "test_continuous_score_W0_a 0.7187599817888827\n",
      "train_continuous_score_W_continuous_n 0.689049613369746\n",
      "train_continuous_score_W_continuous_a 0.689049613369746\n",
      "test_continuous_score_W_continuous_n 0.6125459428466987\n",
      "test_continuous_score_W_continuous_a 0.6125459428466987\n",
      "Not good nmi result for continuous features !!!!!\n",
      "Not good ari result for continuous features  !!!!!\n",
      "New Continuous Feateure Neurons Number :9\n",
      "neuron unit number: 5\n",
      " mxn 5\n",
      "train_continuous_score_W0_n 0.6205891178367435\n",
      "train_continuous_score_W0_a 0.6205891178367435\n",
      "test_continuous_score_W0_n 0.5981028033236592\n",
      "test_continuous_score_W0_a 0.5981028033236592\n",
      "train_continuous_score_W_continuous_n 0.7242436798088981\n",
      "train_continuous_score_W_continuous_a 0.7242436798088981\n",
      "test_continuous_score_W_continuous_n 0.6675118206856471\n",
      "test_continuous_score_W_continuous_a 0.6675118206856471\n",
      "New Continuous Feateure Neurons Number :12\n",
      "neuron unit number: 6\n",
      " mxn 6\n",
      "train_continuous_score_W0_n 0.6849789846665878\n",
      "train_continuous_score_W0_a 0.6849789846665878\n",
      "test_continuous_score_W0_n 0.6432162156325586\n",
      "test_continuous_score_W0_a 0.6432162156325586\n",
      "train_continuous_score_W_continuous_n 0.7905402561184763\n",
      "train_continuous_score_W_continuous_a 0.7905402561184763\n",
      "test_continuous_score_W_continuous_n 0.8361239910177508\n",
      "test_continuous_score_W_continuous_a 0.8361239910177508\n",
      "New Continuous Feateure Neurons Number :12\n",
      "neuron unit number: 7\n",
      " mxn 7\n"
     ]
    },
    {
     "name": "stderr",
     "output_type": "stream",
     "text": [
      "C:\\Users\\fooli\\anaconda3\\lib\\site-packages\\numpy\\lib\\function_base.py:380: RuntimeWarning: Mean of empty slice.\n",
      "  avg = a.mean(axis)\n",
      "C:\\Users\\fooli\\anaconda3\\lib\\site-packages\\numpy\\core\\_methods.py:189: RuntimeWarning: invalid value encountered in double_scalars\n",
      "  ret = ret.dtype.type(ret / rcount)\n",
      "C:\\Users\\fooli\\anaconda3\\lib\\site-packages\\numpy\\lib\\function_base.py:380: RuntimeWarning: Mean of empty slice.\n",
      "  avg = a.mean(axis)\n",
      "C:\\Users\\fooli\\anaconda3\\lib\\site-packages\\numpy\\core\\_methods.py:189: RuntimeWarning: invalid value encountered in double_scalars\n",
      "  ret = ret.dtype.type(ret / rcount)\n"
     ]
    },
    {
     "name": "stdout",
     "output_type": "stream",
     "text": [
      "train_continuous_score_W0_n 0.6903969821855921\n",
      "train_continuous_score_W0_a 0.6903969821855921\n",
      "test_continuous_score_W0_n 0.6705698933968504\n",
      "test_continuous_score_W0_a 0.6705698933968504\n",
      "train_continuous_score_W_continuous_n 0.7443168463448938\n",
      "train_continuous_score_W_continuous_a 0.7443168463448938\n",
      "test_continuous_score_W_continuous_n 0.6949914394907802\n",
      "test_continuous_score_W_continuous_a 0.6949914394907802\n",
      "New Continuous Feateure Neurons Number :14\n",
      "neuron unit number: 8\n",
      " mxn 8\n",
      "train_continuous_score_W0_n 0.7345050451360184\n",
      "train_continuous_score_W0_a 0.7345050451360184\n",
      "test_continuous_score_W0_n 0.6851769421694699\n",
      "test_continuous_score_W0_a 0.6851769421694699\n",
      "train_continuous_score_W_continuous_n 0.7381038677953653\n"
     ]
    },
    {
     "name": "stderr",
     "output_type": "stream",
     "text": [
      "C:\\Users\\fooli\\anaconda3\\lib\\site-packages\\numpy\\lib\\function_base.py:380: RuntimeWarning: Mean of empty slice.\n",
      "  avg = a.mean(axis)\n",
      "C:\\Users\\fooli\\anaconda3\\lib\\site-packages\\numpy\\core\\_methods.py:189: RuntimeWarning: invalid value encountered in double_scalars\n",
      "  ret = ret.dtype.type(ret / rcount)\n",
      "C:\\Users\\fooli\\anaconda3\\lib\\site-packages\\numpy\\lib\\function_base.py:380: RuntimeWarning: Mean of empty slice.\n",
      "  avg = a.mean(axis)\n",
      "C:\\Users\\fooli\\anaconda3\\lib\\site-packages\\numpy\\core\\_methods.py:189: RuntimeWarning: invalid value encountered in double_scalars\n",
      "  ret = ret.dtype.type(ret / rcount)\n"
     ]
    },
    {
     "name": "stdout",
     "output_type": "stream",
     "text": [
      "train_continuous_score_W_continuous_a 0.7381038677953653\n",
      "test_continuous_score_W_continuous_n 0.6851769421694699\n",
      "test_continuous_score_W_continuous_a 0.6851769421694699\n",
      "New Continuous Feateure Neurons Number :15\n",
      "neuron unit number: 9\n",
      " mxn 9\n",
      "train_continuous_score_W0_n 0.7696045843581771\n",
      "train_continuous_score_W0_a 0.7696045843581771\n",
      "test_continuous_score_W0_n 0.8740453289830523\n",
      "test_continuous_score_W0_a 0.8740453289830523\n",
      "train_continuous_score_W_continuous_n 0.7381038677953653\n",
      "train_continuous_score_W_continuous_a 0.7381038677953653\n",
      "test_continuous_score_W_continuous_n 0.7068411656455849\n",
      "test_continuous_score_W_continuous_a 0.7068411656455849\n",
      "Not good nmi result for continuous features !!!!!\n",
      "Not good ari result for continuous features  !!!!!\n",
      "New Continuous Feateure Neurons Number :17\n",
      "neuron unit number: 10\n",
      " mxn 10\n",
      "train_continuous_score_W0_n 0.7388769625846353\n",
      "train_continuous_score_W0_a 0.7388769625846353\n",
      "test_continuous_score_W0_n 0.6221878571159508\n",
      "test_continuous_score_W0_a 0.6221878571159508\n",
      "train_continuous_score_W_continuous_n 0.7523408047527014\n",
      "train_continuous_score_W_continuous_a 0.7523408047527014\n",
      "test_continuous_score_W_continuous_n 0.7372963637141411\n",
      "test_continuous_score_W_continuous_a 0.7372963637141411\n",
      "New Continuous Feateure Neurons Number :17\n",
      "neuron unit number: 11\n",
      " mxn 11\n",
      "train_continuous_score_W0_n 0.6964652566790556\n",
      "train_continuous_score_W0_a 0.6964652566790556\n",
      "test_continuous_score_W0_n 0.7089230258072615\n",
      "test_continuous_score_W0_a 0.7089230258072615\n"
     ]
    },
    {
     "name": "stderr",
     "output_type": "stream",
     "text": [
      "C:\\Users\\fooli\\anaconda3\\lib\\site-packages\\numpy\\lib\\function_base.py:380: RuntimeWarning: Mean of empty slice.\n",
      "  avg = a.mean(axis)\n",
      "C:\\Users\\fooli\\anaconda3\\lib\\site-packages\\numpy\\core\\_methods.py:189: RuntimeWarning: invalid value encountered in double_scalars\n",
      "  ret = ret.dtype.type(ret / rcount)\n",
      "C:\\Users\\fooli\\anaconda3\\lib\\site-packages\\numpy\\lib\\function_base.py:380: RuntimeWarning: Mean of empty slice.\n",
      "  avg = a.mean(axis)\n",
      "C:\\Users\\fooli\\anaconda3\\lib\\site-packages\\numpy\\core\\_methods.py:189: RuntimeWarning: invalid value encountered in double_scalars\n",
      "  ret = ret.dtype.type(ret / rcount)\n"
     ]
    },
    {
     "name": "stdout",
     "output_type": "stream",
     "text": [
      "train_continuous_score_W_continuous_n 0.7198107404120373\n",
      "train_continuous_score_W_continuous_a 0.7198107404120373\n",
      "test_continuous_score_W_continuous_n 0.7089230258072615\n",
      "test_continuous_score_W_continuous_a 0.7089230258072615\n",
      "New Continuous Feateure Neurons Number :17\n",
      "neuron unit number: 12\n",
      " mxn 12\n",
      "train_continuous_score_W0_n 0.8321378307097549\n",
      "train_continuous_score_W0_a 0.8321378307097549\n",
      "test_continuous_score_W0_n 0.7701015583188271\n",
      "test_continuous_score_W0_a 0.7701015583188271\n",
      "train_continuous_score_W_continuous_n 0.8456075908728877\n",
      "train_continuous_score_W_continuous_a 0.8456075908728877\n"
     ]
    },
    {
     "name": "stderr",
     "output_type": "stream",
     "text": [
      "C:\\Users\\fooli\\anaconda3\\lib\\site-packages\\numpy\\lib\\function_base.py:380: RuntimeWarning: Mean of empty slice.\n",
      "  avg = a.mean(axis)\n",
      "C:\\Users\\fooli\\anaconda3\\lib\\site-packages\\numpy\\core\\_methods.py:189: RuntimeWarning: invalid value encountered in double_scalars\n",
      "  ret = ret.dtype.type(ret / rcount)\n",
      "C:\\Users\\fooli\\anaconda3\\lib\\site-packages\\numpy\\lib\\function_base.py:380: RuntimeWarning: Mean of empty slice.\n",
      "  avg = a.mean(axis)\n",
      "C:\\Users\\fooli\\anaconda3\\lib\\site-packages\\numpy\\core\\_methods.py:189: RuntimeWarning: invalid value encountered in double_scalars\n",
      "  ret = ret.dtype.type(ret / rcount)\n"
     ]
    },
    {
     "name": "stdout",
     "output_type": "stream",
     "text": [
      "test_continuous_score_W_continuous_n 0.7787780054331701\n",
      "test_continuous_score_W_continuous_a 0.7787780054331701\n",
      "New Continuous Feateure Neurons Number :18\n",
      "neuron unit number: 13\n",
      " mxn 13\n",
      "train_continuous_score_W0_n 0.8045722417994504\n",
      "train_continuous_score_W0_a 0.8045722417994504\n",
      "test_continuous_score_W0_n 0.679113678669646\n",
      "test_continuous_score_W0_a 0.679113678669646\n",
      "train_continuous_score_W_continuous_n 0.7801894619248184\n",
      "train_continuous_score_W_continuous_a 0.7801894619248184\n",
      "test_continuous_score_W_continuous_n 0.7089230258072615\n",
      "test_continuous_score_W_continuous_a 0.7089230258072615\n",
      "New Continuous Feateure Neurons Number :20\n",
      "neuron unit number: 14\n",
      " mxn 14\n",
      "train_continuous_score_W0_n 0.758413201789985\n",
      "train_continuous_score_W0_a 0.758413201789985\n",
      "test_continuous_score_W0_n 0.7068411656455849\n",
      "test_continuous_score_W0_a 0.7068411656455849\n",
      "train_continuous_score_W_continuous_n 0.7388769625846353\n",
      "train_continuous_score_W_continuous_a 0.7388769625846353\n",
      "test_continuous_score_W_continuous_n 0.6329418885444222\n",
      "test_continuous_score_W_continuous_a 0.6329418885444222\n",
      "Not good nmi result for continuous features !!!!!\n",
      "Not good ari result for continuous features  !!!!!\n",
      "New Continuous Feateure Neurons Number :21\n",
      "neuron unit number: 15\n",
      " mxn 15\n",
      "train_continuous_score_W0_n 0.8151902080510977\n",
      "train_continuous_score_W0_a 0.8151902080510977\n",
      "test_continuous_score_W0_n 0.7564445882068038\n",
      "test_continuous_score_W0_a 0.7564445882068038\n"
     ]
    },
    {
     "name": "stderr",
     "output_type": "stream",
     "text": [
      "C:\\Users\\fooli\\anaconda3\\lib\\site-packages\\numpy\\lib\\function_base.py:380: RuntimeWarning: Mean of empty slice.\n",
      "  avg = a.mean(axis)\n",
      "C:\\Users\\fooli\\anaconda3\\lib\\site-packages\\numpy\\core\\_methods.py:189: RuntimeWarning: invalid value encountered in double_scalars\n",
      "  ret = ret.dtype.type(ret / rcount)\n",
      "C:\\Users\\fooli\\anaconda3\\lib\\site-packages\\numpy\\lib\\function_base.py:380: RuntimeWarning: Mean of empty slice.\n",
      "  avg = a.mean(axis)\n",
      "C:\\Users\\fooli\\anaconda3\\lib\\site-packages\\numpy\\core\\_methods.py:189: RuntimeWarning: invalid value encountered in double_scalars\n",
      "  ret = ret.dtype.type(ret / rcount)\n"
     ]
    },
    {
     "name": "stdout",
     "output_type": "stream",
     "text": [
      "train_continuous_score_W_continuous_n 0.832349670745551\n",
      "train_continuous_score_W_continuous_a 0.832349670745551\n",
      "test_continuous_score_W_continuous_n 0.7107513785573261\n",
      "test_continuous_score_W_continuous_a 0.7107513785573261\n",
      "Not good nmi result for continuous features !!!!!\n",
      "Not good ari result for continuous features  !!!!!\n",
      "New Continuous Feateure Neurons Number :22\n",
      "neuron unit number: 16\n",
      " mxn 16\n",
      "train_continuous_score_W0_n 0.7877016183722632\n",
      "train_continuous_score_W0_a 0.7877016183722632\n",
      "test_continuous_score_W0_n 0.7358503991984202\n",
      "test_continuous_score_W0_a 0.7358503991984202\n",
      "train_continuous_score_W_continuous_n 0.8260990728507975\n"
     ]
    },
    {
     "name": "stderr",
     "output_type": "stream",
     "text": [
      "C:\\Users\\fooli\\anaconda3\\lib\\site-packages\\numpy\\lib\\function_base.py:380: RuntimeWarning: Mean of empty slice.\n",
      "  avg = a.mean(axis)\n",
      "C:\\Users\\fooli\\anaconda3\\lib\\site-packages\\numpy\\core\\_methods.py:189: RuntimeWarning: invalid value encountered in double_scalars\n",
      "  ret = ret.dtype.type(ret / rcount)\n"
     ]
    },
    {
     "name": "stdout",
     "output_type": "stream",
     "text": [
      "train_continuous_score_W_continuous_a 0.8260990728507975\n",
      "test_continuous_score_W_continuous_n 0.7372963637141411\n",
      "test_continuous_score_W_continuous_a 0.7372963637141411\n",
      "New Continuous Feateure Neurons Number :23\n",
      "neuron unit number: 17\n",
      " mxn 17\n",
      "train_continuous_score_W0_n 0.8046589070674468\n",
      "train_continuous_score_W0_a 0.8046589070674468\n",
      "test_continuous_score_W0_n 0.6851769421694699\n",
      "test_continuous_score_W0_a 0.6851769421694699\n",
      "train_continuous_score_W_continuous_n 0.8046589070674468\n",
      "train_continuous_score_W_continuous_a 0.8046589070674468\n"
     ]
    },
    {
     "name": "stderr",
     "output_type": "stream",
     "text": [
      "C:\\Users\\fooli\\anaconda3\\lib\\site-packages\\numpy\\lib\\function_base.py:380: RuntimeWarning: Mean of empty slice.\n",
      "  avg = a.mean(axis)\n",
      "C:\\Users\\fooli\\anaconda3\\lib\\site-packages\\numpy\\core\\_methods.py:189: RuntimeWarning: invalid value encountered in double_scalars\n",
      "  ret = ret.dtype.type(ret / rcount)\n",
      "C:\\Users\\fooli\\anaconda3\\lib\\site-packages\\numpy\\lib\\function_base.py:380: RuntimeWarning: Mean of empty slice.\n",
      "  avg = a.mean(axis)\n",
      "C:\\Users\\fooli\\anaconda3\\lib\\site-packages\\numpy\\core\\_methods.py:189: RuntimeWarning: invalid value encountered in double_scalars\n",
      "  ret = ret.dtype.type(ret / rcount)\n"
     ]
    },
    {
     "name": "stdout",
     "output_type": "stream",
     "text": [
      "test_continuous_score_W_continuous_n 0.6949914394907802\n",
      "test_continuous_score_W_continuous_a 0.6949914394907802\n",
      "New Continuous Feateure Neurons Number :25\n",
      "neuron unit number: 18\n",
      " mxn 18\n",
      "train_continuous_score_W0_n 0.8049491730357682\n",
      "train_continuous_score_W0_a 0.8049491730357682\n",
      "test_continuous_score_W0_n 0.7372963637141411\n",
      "test_continuous_score_W0_a 0.7372963637141411\n",
      "train_continuous_score_W_continuous_n 0.8311704019287965\n",
      "train_continuous_score_W_continuous_a 0.8311704019287965\n",
      "test_continuous_score_W_continuous_n 0.7208691332227058\n",
      "test_continuous_score_W_continuous_a 0.7208691332227058\n",
      "Not good nmi result for continuous features !!!!!\n",
      "Not good ari result for continuous features  !!!!!\n",
      "New Continuous Feateure Neurons Number :25\n",
      "neuron unit number: 19\n",
      " mxn 19\n",
      "train_continuous_score_W0_n 0.783292826906258\n",
      "train_continuous_score_W0_a 0.783292826906258\n",
      "test_continuous_score_W0_n 0.7469700887620799\n",
      "test_continuous_score_W0_a 0.7469700887620799\n",
      "train_continuous_score_W_continuous_n 0.8319662323155236\n",
      "train_continuous_score_W_continuous_a 0.8319662323155236\n"
     ]
    },
    {
     "name": "stderr",
     "output_type": "stream",
     "text": [
      "C:\\Users\\fooli\\anaconda3\\lib\\site-packages\\numpy\\lib\\function_base.py:380: RuntimeWarning: Mean of empty slice.\n",
      "  avg = a.mean(axis)\n",
      "C:\\Users\\fooli\\anaconda3\\lib\\site-packages\\numpy\\core\\_methods.py:189: RuntimeWarning: invalid value encountered in double_scalars\n",
      "  ret = ret.dtype.type(ret / rcount)\n"
     ]
    },
    {
     "name": "stdout",
     "output_type": "stream",
     "text": [
      "test_continuous_score_W_continuous_n 0.7068411656455849\n",
      "test_continuous_score_W_continuous_a 0.7068411656455849\n",
      "Not good nmi result for continuous features !!!!!\n",
      "Not good ari result for continuous features  !!!!!\n",
      "New Continuous Feateure Neurons Number :26\n",
      "neuron unit number: 20\n",
      " mxn 20\n",
      "train_continuous_score_W0_n 0.8944280720979433\n",
      "train_continuous_score_W0_a 0.8944280720979433\n",
      "test_continuous_score_W0_n 0.7787780054331701\n",
      "test_continuous_score_W0_a 0.7787780054331701\n",
      "train_continuous_score_W_continuous_n 0.9333912755971093\n",
      "train_continuous_score_W_continuous_a 0.9333912755971093\n"
     ]
    },
    {
     "name": "stderr",
     "output_type": "stream",
     "text": [
      "C:\\Users\\fooli\\anaconda3\\lib\\site-packages\\numpy\\lib\\function_base.py:380: RuntimeWarning: Mean of empty slice.\n",
      "  avg = a.mean(axis)\n",
      "C:\\Users\\fooli\\anaconda3\\lib\\site-packages\\numpy\\core\\_methods.py:189: RuntimeWarning: invalid value encountered in double_scalars\n",
      "  ret = ret.dtype.type(ret / rcount)\n"
     ]
    },
    {
     "name": "stdout",
     "output_type": "stream",
     "text": [
      "test_continuous_score_W_continuous_n 0.7564445882068038\n",
      "test_continuous_score_W_continuous_a 0.7564445882068038\n",
      "Not good nmi result for continuous features !!!!!\n",
      "Not good ari result for continuous features  !!!!!\n",
      "New Continuous Feateure Neurons Number :29\n",
      "neuron unit number: 21\n",
      " mxn 21\n",
      "train_continuous_score_W0_n 0.8236223543764906\n",
      "train_continuous_score_W0_a 0.8236223543764906\n",
      "test_continuous_score_W0_n 0.8049818542573217\n",
      "test_continuous_score_W0_a 0.8049818542573217\n",
      "train_continuous_score_W_continuous_n 0.8236223543764906\n",
      "train_continuous_score_W_continuous_a 0.8236223543764906\n"
     ]
    },
    {
     "name": "stderr",
     "output_type": "stream",
     "text": [
      "C:\\Users\\fooli\\anaconda3\\lib\\site-packages\\numpy\\lib\\function_base.py:380: RuntimeWarning: Mean of empty slice.\n",
      "  avg = a.mean(axis)\n",
      "C:\\Users\\fooli\\anaconda3\\lib\\site-packages\\numpy\\core\\_methods.py:189: RuntimeWarning: invalid value encountered in double_scalars\n",
      "  ret = ret.dtype.type(ret / rcount)\n"
     ]
    },
    {
     "name": "stdout",
     "output_type": "stream",
     "text": [
      "test_continuous_score_W_continuous_n 0.7068411656455849\n",
      "test_continuous_score_W_continuous_a 0.7068411656455849\n",
      "Not good nmi result for continuous features !!!!!\n",
      "Not good ari result for continuous features  !!!!!\n",
      "New Continuous Feateure Neurons Number :29\n",
      "neuron unit number: 22\n",
      " mxn 22\n",
      "train_continuous_score_W0_n 0.764053204583888\n",
      "train_continuous_score_W0_a 0.764053204583888\n",
      "test_continuous_score_W0_n 0.7131278526588964\n",
      "test_continuous_score_W0_a 0.7131278526588964\n",
      "train_continuous_score_W_continuous_n 0.764053204583888\n",
      "train_continuous_score_W_continuous_a 0.764053204583888\n",
      "test_continuous_score_W_continuous_n 0.7068411656455849\n"
     ]
    },
    {
     "name": "stderr",
     "output_type": "stream",
     "text": [
      "C:\\Users\\fooli\\anaconda3\\lib\\site-packages\\numpy\\lib\\function_base.py:380: RuntimeWarning: Mean of empty slice.\n",
      "  avg = a.mean(axis)\n",
      "C:\\Users\\fooli\\anaconda3\\lib\\site-packages\\numpy\\core\\_methods.py:189: RuntimeWarning: invalid value encountered in double_scalars\n",
      "  ret = ret.dtype.type(ret / rcount)\n"
     ]
    },
    {
     "name": "stdout",
     "output_type": "stream",
     "text": [
      "test_continuous_score_W_continuous_a 0.7068411656455849\n",
      "Not good nmi result for continuous features !!!!!\n",
      "Not good ari result for continuous features  !!!!!\n",
      "New Continuous Feateure Neurons Number :29\n",
      "neuron unit number: 23\n",
      " mxn 23\n",
      "train_continuous_score_W0_n 0.8567143249777194\n",
      "train_continuous_score_W0_a 0.8567143249777194\n",
      "test_continuous_score_W0_n 0.7208691332227058\n",
      "test_continuous_score_W0_a 0.7208691332227058\n",
      "train_continuous_score_W_continuous_n 0.8904797126920336\n",
      "train_continuous_score_W_continuous_a 0.8904797126920336\n"
     ]
    },
    {
     "name": "stderr",
     "output_type": "stream",
     "text": [
      "C:\\Users\\fooli\\anaconda3\\lib\\site-packages\\numpy\\lib\\function_base.py:380: RuntimeWarning: Mean of empty slice.\n",
      "  avg = a.mean(axis)\n",
      "C:\\Users\\fooli\\anaconda3\\lib\\site-packages\\numpy\\core\\_methods.py:189: RuntimeWarning: invalid value encountered in double_scalars\n",
      "  ret = ret.dtype.type(ret / rcount)\n"
     ]
    },
    {
     "name": "stdout",
     "output_type": "stream",
     "text": [
      "test_continuous_score_W_continuous_n 0.7208691332227058\n",
      "test_continuous_score_W_continuous_a 0.7208691332227058\n",
      "New Continuous Feateure Neurons Number :33\n",
      "neuron unit number: 24\n",
      " mxn 24\n",
      "train_continuous_score_W0_n 0.764053204583888\n",
      "train_continuous_score_W0_a 0.764053204583888\n",
      "test_continuous_score_W0_n 0.7107624948413035\n",
      "test_continuous_score_W0_a 0.7107624948413035\n",
      "train_continuous_score_W_continuous_n 0.834723044791642\n",
      "train_continuous_score_W_continuous_a 0.834723044791642\n"
     ]
    },
    {
     "name": "stderr",
     "output_type": "stream",
     "text": [
      "C:\\Users\\fooli\\anaconda3\\lib\\site-packages\\numpy\\lib\\function_base.py:380: RuntimeWarning: Mean of empty slice.\n",
      "  avg = a.mean(axis)\n",
      "C:\\Users\\fooli\\anaconda3\\lib\\site-packages\\numpy\\core\\_methods.py:189: RuntimeWarning: invalid value encountered in double_scalars\n",
      "  ret = ret.dtype.type(ret / rcount)\n"
     ]
    },
    {
     "name": "stdout",
     "output_type": "stream",
     "text": [
      "test_continuous_score_W_continuous_n 0.6851769421694699\n",
      "test_continuous_score_W_continuous_a 0.6851769421694699\n",
      "Not good nmi result for continuous features !!!!!\n",
      "Not good ari result for continuous features  !!!!!\n",
      "New Continuous Feateure Neurons Number :33\n",
      "neuron unit number: 25\n",
      " mxn 25\n",
      "train_continuous_score_W0_n 0.7877016183722632\n",
      "train_continuous_score_W0_a 0.7877016183722632\n",
      "test_continuous_score_W0_n 0.8049818542573217\n",
      "test_continuous_score_W0_a 0.8049818542573217\n"
     ]
    },
    {
     "name": "stderr",
     "output_type": "stream",
     "text": [
      "C:\\Users\\fooli\\anaconda3\\lib\\site-packages\\numpy\\lib\\function_base.py:380: RuntimeWarning: Mean of empty slice.\n",
      "  avg = a.mean(axis)\n",
      "C:\\Users\\fooli\\anaconda3\\lib\\site-packages\\numpy\\core\\_methods.py:189: RuntimeWarning: invalid value encountered in double_scalars\n",
      "  ret = ret.dtype.type(ret / rcount)\n"
     ]
    },
    {
     "name": "stdout",
     "output_type": "stream",
     "text": [
      "train_continuous_score_W_continuous_n 0.764580005664258\n",
      "train_continuous_score_W_continuous_a 0.764580005664258\n",
      "test_continuous_score_W_continuous_n 0.7564445882068038\n",
      "test_continuous_score_W_continuous_a 0.7564445882068038\n",
      "Not good nmi result for continuous features !!!!!\n",
      "Not good ari result for continuous features  !!!!!\n",
      "New Continuous Feateure Neurons Number :34\n",
      "neuron unit number: 26\n",
      " mxn 26\n",
      "train_continuous_score_W0_n 0.8526323721293775\n",
      "train_continuous_score_W0_a 0.8526323721293775\n",
      "test_continuous_score_W0_n 0.7469700887620799\n",
      "test_continuous_score_W0_a 0.7469700887620799\n"
     ]
    },
    {
     "name": "stderr",
     "output_type": "stream",
     "text": [
      "C:\\Users\\fooli\\anaconda3\\lib\\site-packages\\numpy\\lib\\function_base.py:380: RuntimeWarning: Mean of empty slice.\n",
      "  avg = a.mean(axis)\n",
      "C:\\Users\\fooli\\anaconda3\\lib\\site-packages\\numpy\\core\\_methods.py:189: RuntimeWarning: invalid value encountered in double_scalars\n",
      "  ret = ret.dtype.type(ret / rcount)\n"
     ]
    },
    {
     "name": "stdout",
     "output_type": "stream",
     "text": [
      "train_continuous_score_W_continuous_n 0.8236223543764906\n",
      "train_continuous_score_W_continuous_a 0.8236223543764906\n",
      "test_continuous_score_W_continuous_n 0.7068411656455849\n",
      "test_continuous_score_W_continuous_a 0.7068411656455849\n",
      "Not good nmi result for continuous features !!!!!\n",
      "Not good ari result for continuous features  !!!!!\n",
      "New Continuous Feateure Neurons Number :34\n",
      "neuron unit number: 27\n",
      " mxn 27\n",
      "train_continuous_score_W0_n 0.8721229974182382\n",
      "train_continuous_score_W0_a 0.8721229974182382\n",
      "test_continuous_score_W0_n 0.7358503991984202\n",
      "test_continuous_score_W0_a 0.7358503991984202\n"
     ]
    },
    {
     "name": "stderr",
     "output_type": "stream",
     "text": [
      "C:\\Users\\fooli\\anaconda3\\lib\\site-packages\\numpy\\lib\\function_base.py:380: RuntimeWarning: Mean of empty slice.\n",
      "  avg = a.mean(axis)\n",
      "C:\\Users\\fooli\\anaconda3\\lib\\site-packages\\numpy\\core\\_methods.py:189: RuntimeWarning: invalid value encountered in double_scalars\n",
      "  ret = ret.dtype.type(ret / rcount)\n"
     ]
    },
    {
     "name": "stdout",
     "output_type": "stream",
     "text": [
      "train_continuous_score_W_continuous_n 0.8721229974182382\n",
      "train_continuous_score_W_continuous_a 0.8721229974182382\n",
      "test_continuous_score_W_continuous_n 0.7564445882068038\n",
      "test_continuous_score_W_continuous_a 0.7564445882068038\n",
      "New Continuous Feateure Neurons Number :34\n",
      "neuron unit number: 28\n",
      " mxn 28\n",
      "train_continuous_score_W0_n 0.8526323721293775\n",
      "train_continuous_score_W0_a 0.8526323721293775\n",
      "test_continuous_score_W0_n 0.7564445882068038\n",
      "test_continuous_score_W0_a 0.7564445882068038\n"
     ]
    },
    {
     "name": "stderr",
     "output_type": "stream",
     "text": [
      "C:\\Users\\fooli\\anaconda3\\lib\\site-packages\\numpy\\lib\\function_base.py:380: RuntimeWarning: Mean of empty slice.\n",
      "  avg = a.mean(axis)\n",
      "C:\\Users\\fooli\\anaconda3\\lib\\site-packages\\numpy\\core\\_methods.py:189: RuntimeWarning: invalid value encountered in double_scalars\n",
      "  ret = ret.dtype.type(ret / rcount)\n"
     ]
    },
    {
     "name": "stdout",
     "output_type": "stream",
     "text": [
      "train_continuous_score_W_continuous_n 0.8456075908728877\n",
      "train_continuous_score_W_continuous_a 0.8456075908728877\n",
      "test_continuous_score_W_continuous_n 0.7564445882068038\n",
      "test_continuous_score_W_continuous_a 0.7564445882068038\n",
      "New Continuous Feateure Neurons Number :36\n",
      "neuron unit number: 29\n",
      " mxn 29\n",
      "train_continuous_score_W0_n 0.764580005664258\n",
      "train_continuous_score_W0_a 0.764580005664258\n",
      "test_continuous_score_W0_n 0.7107624948413035\n",
      "test_continuous_score_W0_a 0.7107624948413035\n"
     ]
    },
    {
     "name": "stderr",
     "output_type": "stream",
     "text": [
      "C:\\Users\\fooli\\anaconda3\\lib\\site-packages\\numpy\\lib\\function_base.py:380: RuntimeWarning: Mean of empty slice.\n",
      "  avg = a.mean(axis)\n",
      "C:\\Users\\fooli\\anaconda3\\lib\\site-packages\\numpy\\core\\_methods.py:189: RuntimeWarning: invalid value encountered in double_scalars\n",
      "  ret = ret.dtype.type(ret / rcount)\n"
     ]
    },
    {
     "name": "stdout",
     "output_type": "stream",
     "text": [
      "train_continuous_score_W_continuous_n 0.7653265855033682\n",
      "train_continuous_score_W_continuous_a 0.7653265855033682\n",
      "test_continuous_score_W_continuous_n 0.7787780054331701\n",
      "test_continuous_score_W_continuous_a 0.7787780054331701\n",
      "New Continuous Feateure Neurons Number :35\n",
      "neuron unit number: 30\n",
      " mxn 30\n",
      "train_continuous_score_W0_n 0.783292826906258\n",
      "train_continuous_score_W0_a 0.783292826906258\n",
      "test_continuous_score_W0_n 0.6424790059210439\n",
      "test_continuous_score_W0_a 0.6424790059210439\n"
     ]
    },
    {
     "name": "stderr",
     "output_type": "stream",
     "text": [
      "C:\\Users\\fooli\\anaconda3\\lib\\site-packages\\numpy\\lib\\function_base.py:380: RuntimeWarning: Mean of empty slice.\n",
      "  avg = a.mean(axis)\n",
      "C:\\Users\\fooli\\anaconda3\\lib\\site-packages\\numpy\\core\\_methods.py:189: RuntimeWarning: invalid value encountered in double_scalars\n",
      "  ret = ret.dtype.type(ret / rcount)\n"
     ]
    },
    {
     "name": "stdout",
     "output_type": "stream",
     "text": [
      "train_continuous_score_W_continuous_n 0.7840664646116874\n",
      "train_continuous_score_W_continuous_a 0.7840664646116874\n",
      "test_continuous_score_W_continuous_n 0.7208691332227058\n",
      "test_continuous_score_W_continuous_a 0.7208691332227058\n",
      "New Continuous Feateure Neurons Number :37\n",
      "neuron unit number: 31\n",
      " mxn 31\n",
      "train_continuous_score_W0_n 0.8337448669002281\n",
      "train_continuous_score_W0_a 0.8337448669002281\n",
      "test_continuous_score_W0_n 0.7643924828542765\n",
      "test_continuous_score_W0_a 0.7643924828542765\n"
     ]
    },
    {
     "name": "stderr",
     "output_type": "stream",
     "text": [
      "C:\\Users\\fooli\\anaconda3\\lib\\site-packages\\numpy\\lib\\function_base.py:380: RuntimeWarning: Mean of empty slice.\n",
      "  avg = a.mean(axis)\n",
      "C:\\Users\\fooli\\anaconda3\\lib\\site-packages\\numpy\\core\\_methods.py:189: RuntimeWarning: invalid value encountered in double_scalars\n",
      "  ret = ret.dtype.type(ret / rcount)\n"
     ]
    },
    {
     "name": "stdout",
     "output_type": "stream",
     "text": [
      "train_continuous_score_W_continuous_n 0.8049491730357682\n",
      "train_continuous_score_W_continuous_a 0.8049491730357682\n",
      "test_continuous_score_W_continuous_n 0.7564445882068038\n",
      "test_continuous_score_W_continuous_a 0.7564445882068038\n",
      "Not good nmi result for continuous features !!!!!\n",
      "Not good ari result for continuous features  !!!!!\n",
      "New Continuous Feateure Neurons Number :37\n",
      "neuron unit number: 32\n",
      " mxn 32\n",
      "train_continuous_score_W0_n 0.769442059657636\n",
      "train_continuous_score_W0_a 0.769442059657636\n",
      "test_continuous_score_W0_n 0.6498417191374232\n",
      "test_continuous_score_W0_a 0.6498417191374232\n"
     ]
    },
    {
     "name": "stderr",
     "output_type": "stream",
     "text": [
      "C:\\Users\\fooli\\anaconda3\\lib\\site-packages\\numpy\\lib\\function_base.py:380: RuntimeWarning: Mean of empty slice.\n",
      "  avg = a.mean(axis)\n",
      "C:\\Users\\fooli\\anaconda3\\lib\\site-packages\\numpy\\core\\_methods.py:189: RuntimeWarning: invalid value encountered in double_scalars\n",
      "  ret = ret.dtype.type(ret / rcount)\n"
     ]
    },
    {
     "name": "stdout",
     "output_type": "stream",
     "text": [
      "train_continuous_score_W_continuous_n 0.8260990728507975\n",
      "train_continuous_score_W_continuous_a 0.8260990728507975\n",
      "test_continuous_score_W_continuous_n 0.7208691332227058\n",
      "test_continuous_score_W_continuous_a 0.7208691332227058\n",
      "New Continuous Feateure Neurons Number :40\n",
      "neuron unit number: 33\n",
      " mxn 33\n",
      "train_continuous_score_W0_n 0.7934705872228651\n",
      "train_continuous_score_W0_a 0.7934705872228651\n",
      "test_continuous_score_W0_n 0.644919389385531\n",
      "test_continuous_score_W0_a 0.644919389385531\n"
     ]
    },
    {
     "name": "stderr",
     "output_type": "stream",
     "text": [
      "C:\\Users\\fooli\\anaconda3\\lib\\site-packages\\numpy\\lib\\function_base.py:380: RuntimeWarning: Mean of empty slice.\n",
      "  avg = a.mean(axis)\n",
      "C:\\Users\\fooli\\anaconda3\\lib\\site-packages\\numpy\\core\\_methods.py:189: RuntimeWarning: invalid value encountered in double_scalars\n",
      "  ret = ret.dtype.type(ret / rcount)\n"
     ]
    },
    {
     "name": "stdout",
     "output_type": "stream",
     "text": [
      "train_continuous_score_W_continuous_n 0.8454541235308185\n",
      "train_continuous_score_W_continuous_a 0.8454541235308185\n",
      "test_continuous_score_W_continuous_n 0.7372963637141411\n",
      "test_continuous_score_W_continuous_a 0.7372963637141411\n",
      "New Continuous Feateure Neurons Number :41\n"
     ]
    },
    {
     "data": {
      "image/png": "[encoded data removed]",
      "text/plain": [
       "<Figure size 864x360 with 2 Axes>"
      ]
     },
     "metadata": {
      "needs_background": "light"
     },
     "output_type": "display_data"
    },
    {
     "name": "stdout",
     "output_type": "stream",
     "text": [
      "NMI T-Test\n",
      "          Variable     N      Mean        SD        SE  95% Conf.  Interval\n",
      "0     train_con_W0  31.0  0.779173  0.062379  0.011204   0.756292  0.802054\n",
      "1  train_con_W_con  31.0  0.795015  0.058753  0.010552   0.773464  0.816566\n",
      "2         combined  62.0  0.787094  0.060622  0.007699   0.771699  0.802489\n",
      "                               Independent t-test  results\n",
      "0  Difference (train_con_W0 - train_con_W_con) =   -0.0158\n",
      "1                           Degrees of freedom =   60.0000\n",
      "2                                            t =   -1.0293\n",
      "3                        Two side test p value =    0.3075\n",
      "4                       Difference < 0 p value =    0.1537\n",
      "5                       Difference > 0 p value =    0.8463\n",
      "6                                    Cohen's d =   -0.2614\n",
      "7                                    Hedge's g =   -0.2582\n",
      "8                                Glass's delta =   -0.2540\n",
      "9                                  Pearson's r =    0.1317\n",
      "         Variable     N      Mean        SD        SE  95% Conf.  Interval\n",
      "0     test_con_W0  31.0  0.720197  0.061024  0.010960   0.697813  0.742581\n",
      "1  test_con_W_con  31.0  0.720590  0.042738  0.007676   0.704913  0.736266\n",
      "2        combined  62.0  0.720393  0.052248  0.006635   0.707125  0.733662\n",
      "                             Independent t-test  results\n",
      "0  Difference (test_con_W0 - test_con_W_con) =   -0.0004\n",
      "1                         Degrees of freedom =   60.0000\n",
      "2                                          t =   -0.0294\n",
      "3                      Two side test p value =    0.9767\n",
      "4                     Difference < 0 p value =    0.4883\n",
      "5                     Difference > 0 p value =    0.5117\n",
      "6                                  Cohen's d =   -0.0075\n",
      "7                                  Hedge's g =   -0.0074\n",
      "8                              Glass's delta =   -0.0064\n",
      "9                                Pearson's r =    0.0038\n",
      "ARI T-Test\n",
      "          Variable     N      Mean        SD        SE  95% Conf.  Interval\n",
      "0     train_con_W0  31.0  0.779173  0.062379  0.011204   0.756292  0.802054\n",
      "1  train_con_W_con  31.0  0.795015  0.058753  0.010552   0.773464  0.816566\n",
      "2         combined  62.0  0.787094  0.060622  0.007699   0.771699  0.802489\n",
      "                               Independent t-test  results\n",
      "0  Difference (train_con_W0 - train_con_W_con) =   -0.0158\n",
      "1                           Degrees of freedom =   60.0000\n",
      "2                                            t =   -1.0293\n",
      "3                        Two side test p value =    0.3075\n",
      "4                       Difference < 0 p value =    0.1537\n",
      "5                       Difference > 0 p value =    0.8463\n",
      "6                                    Cohen's d =   -0.2614\n",
      "7                                    Hedge's g =   -0.2582\n",
      "8                                Glass's delta =   -0.2540\n",
      "9                                  Pearson's r =    0.1317\n",
      "         Variable     N      Mean        SD        SE  95% Conf.  Interval\n",
      "0     test_con_W0  31.0  0.720197  0.061024  0.010960   0.697813  0.742581\n",
      "1  test_con_W_con  31.0  0.720590  0.042738  0.007676   0.704913  0.736266\n",
      "2        combined  62.0  0.720393  0.052248  0.006635   0.707125  0.733662\n",
      "                             Independent t-test  results\n",
      "0  Difference (test_con_W0 - test_con_W_con) =   -0.0004\n",
      "1                         Degrees of freedom =   60.0000\n",
      "2                                          t =   -0.0294\n",
      "3                      Two side test p value =    0.9767\n",
      "4                     Difference < 0 p value =    0.4883\n",
      "5                     Difference > 0 p value =    0.5117\n",
      "6                                  Cohen's d =   -0.0075\n",
      "7                                  Hedge's g =   -0.0074\n",
      "8                              Glass's delta =   -0.0064\n",
      "9                                Pearson's r =    0.0038\n",
      "*****************************************************************************************\n",
      "Best Number SOM Comparision\n",
      "*****************************************************************************************\n"
     ]
    },
    {
     "name": "stderr",
     "output_type": "stream",
     "text": [
      "C:\\Users\\fooli\\anaconda3\\lib\\site-packages\\researchpy\\ttest.py:18: FutureWarning: The series.append method is deprecated and will be removed from pandas in a future version. Use pandas.concat instead.\n",
      "  groups = group1.append(group2, ignore_index= True)\n",
      "C:\\Users\\fooli\\anaconda3\\lib\\site-packages\\researchpy\\ttest.py:18: FutureWarning: The series.append method is deprecated and will be removed from pandas in a future version. Use pandas.concat instead.\n",
      "  groups = group1.append(group2, ignore_index= True)\n",
      "C:\\Users\\fooli\\anaconda3\\lib\\site-packages\\researchpy\\ttest.py:18: FutureWarning: The series.append method is deprecated and will be removed from pandas in a future version. Use pandas.concat instead.\n",
      "  groups = group1.append(group2, ignore_index= True)\n",
      "C:\\Users\\fooli\\anaconda3\\lib\\site-packages\\researchpy\\ttest.py:18: FutureWarning: The series.append method is deprecated and will be removed from pandas in a future version. Use pandas.concat instead.\n",
      "  groups = group1.append(group2, ignore_index= True)\n"
     ]
    }
   ],
   "source": [
    "import experiment\n",
    "unstable_repeat_num= 30\n",
    "scope_num = 333\n",
    "class_num = 3\n",
    "best_num = 12\n",
    "elbow_num = 1\n",
    "row = 2\n",
    "column = 2\n",
    "\n",
    "\n",
    "experiment = experiment.Experiment()\n",
    "experiment.UTtest_Discrete_Continuous(dataread,class_num,best_num, scope_num,unstable_repeat_num,0,row,column)\n",
    "print(\"*****************************************************************************************\")\n",
    "print(\"Best Number SOM Comparision\")\n",
    "print(\"*****************************************************************************************\")\n",
    "#experiment.UTtest(dataread,total_label_train,class_num, dim_num, best_num,scope_num,unstable_repeat_num,1,elbow_num,row,column)"
   ]
  },
  {
   "cell_type": "code",
   "execution_count": null,
   "id": "9821b3ca",
   "metadata": {},
   "outputs": [],
   "source": []
  },
  {
   "cell_type": "code",
   "execution_count": null,
   "id": "82abd10c",
   "metadata": {},
   "outputs": [],
   "source": []
  }
 ],
 "metadata": {
  "kernelspec": {
   "display_name": "Python 3 (ipykernel)",
   "language": "python",
   "name": "python3"
  },
  "language_info": {
   "codemirror_mode": {
    "name": "ipython",
    "version": 3
   },
   "file_extension": ".py",
   "mimetype": "text/x-python",
   "name": "python",
   "nbconvert_exporter": "python",
   "pygments_lexer": "ipython3",
   "version": "3.9.12"
  }
 },
 "nbformat": 4,
 "nbformat_minor": 5
}
