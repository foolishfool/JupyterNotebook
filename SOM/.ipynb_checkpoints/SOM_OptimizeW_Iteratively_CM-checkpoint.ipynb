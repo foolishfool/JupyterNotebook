{
 "cells": [
  {
   "cell_type": "code",
   "execution_count": 1,
   "id": "e9d34dde",
   "metadata": {},
   "outputs": [],
   "source": [
    "import pandas as pd\n",
    "import numpy as np\n",
    "import newSom\n",
    "import optimizeW_Kfolder_CM\n",
    "import dataset_read"
   ]
  },
  {
   "cell_type": "code",
   "execution_count": 3,
   "id": "07b06a95",
   "metadata": {},
   "outputs": [],
   "source": [
    "csv = pd.read_csv(\"online_shoppers_intention.csv\")\n",
    "del csv[\"Month\"]\n",
    "del csv[\"Weekend\"]\n",
    "stringToInt(csv,\"VisitorType\")\n",
    "stringToInt(csv,\"Revenue\")"
   ]
  },
  {
   "cell_type": "code",
   "execution_count": 2,
   "id": "6aee060f",
   "metadata": {},
   "outputs": [],
   "source": [
    "dataread = dataset_read.DATAREAD()"
   ]
  },
  {
   "cell_type": "code",
   "execution_count": 3,
   "id": "de6b4ea1",
   "metadata": {},
   "outputs": [],
   "source": [
    "csv_training = pd.read_csv(\"Crowdsourced Mapping/training.csv\")\n",
    "csv_test = pd.read_csv(\"Crowdsourced Mapping/testing.csv\")\n",
    "dataread.stringToIntCrowdsourcedMappingDataSet(csv_training,\"class\")\n",
    "dataread.stringToIntCrowdsourcedMappingDataSet(csv_test,\"class\")"
   ]
  },
  {
   "cell_type": "code",
   "execution_count": 4,
   "id": "98c8408f",
   "metadata": {},
   "outputs": [],
   "source": [
    "som = newSom.SOM(m=6, n=4, dim=28)"
   ]
  },
  {
   "cell_type": "code",
   "execution_count": 6,
   "id": "a23e5714",
   "metadata": {
    "scrolled": true
   },
   "outputs": [
    {
     "name": "stdout",
     "output_type": "stream",
     "text": [
      "data_validate      class  max_ndvi  20150720_N  20150602_N  20150517_N  20150501_N  \\\n",
      "0        1   997.904    637.5950     658.668   -1882.030   -1924.360   \n",
      "1        1   914.198    634.2400     593.705   -1625.790   -1672.320   \n",
      "2        1  3800.810   1671.3400    1206.880     449.735    1071.210   \n",
      "3        1   952.178     58.0174   -1599.160     210.714   -1052.630   \n",
      "4        1  1232.120     72.5180   -1220.880     380.436   -1256.930   \n",
      "...    ...       ...         ...         ...         ...         ...   \n",
      "1049     2  8126.120   3629.1300    8126.120    1901.940    2944.060   \n",
      "1050     2  8200.300   1512.8800    8200.300    7193.560    7713.620   \n",
      "1051     2  8021.370   6696.0300    2549.020    5460.740     683.887   \n",
      "1052     2  8111.120   7638.9800    8111.120    7982.080    7671.790   \n",
      "1053     2  8053.560   7437.2400    7997.240    1928.790    2644.730   \n",
      "\n",
      "      20150415_N  20150330_N  20150314_N  20150226_N  ...  20140610_N  \\\n",
      "0        997.904   -1739.990     630.087   -1628.240  ...    -921.193   \n",
      "1        914.198    -692.386     707.626   -1670.590  ...    -954.719   \n",
      "2        546.371    1077.840     214.564     849.599  ...    1562.210   \n",
      "3        578.807   -1564.630    -858.390     729.790  ...   -1025.880   \n",
      "4        515.805   -1413.180    -802.942     683.254  ...   -1813.950   \n",
      "...          ...         ...         ...         ...  ...         ...   \n",
      "1049    7424.070    5439.700    4510.670    7605.890  ...    8066.090   \n",
      "1050    7709.700    5535.290     936.501    4361.000  ...    8148.600   \n",
      "1051    1378.480    5766.290    4591.950    7734.760  ...    8021.370   \n",
      "1052    7619.160    7713.020    1840.060    7666.720  ...    8027.780   \n",
      "1053    7807.220    5422.550    5812.480    7847.480  ...    6022.140   \n",
      "\n",
      "      20140525_N  20140509_N  20140423_N  20140407_N  20140322_N  20140218_N  \\\n",
      "0      -1043.160   -1942.490     267.138     366.608     452.238     211.328   \n",
      "1       -933.934    -625.385     120.059     364.858     476.972     220.878   \n",
      "2       1566.160    2208.440    1056.600     385.203     300.560     293.730   \n",
      "3        368.622   -1786.950   -1227.800     304.621     291.336     369.214   \n",
      "4        155.624   -1189.710    -924.073     432.150     282.833     298.320   \n",
      "...          ...         ...         ...         ...         ...         ...   \n",
      "1049    1131.310    1143.960     890.640    7376.910    1796.670    7428.910   \n",
      "1050    7300.920    2092.430    6090.740    3704.970    4969.110    7429.990   \n",
      "1051    5639.680    1598.830    3961.090    1951.450     376.628    2824.570   \n",
      "1052    5905.970    3484.310     410.504    1142.290    1321.360    7553.410   \n",
      "1053    2503.100    3114.020    1054.560    3153.290     814.245    6841.620   \n",
      "\n",
      "      20140202_N  20140117_N  20140101_N  \n",
      "0       -2203.02   -1180.190     433.906  \n",
      "1       -2250.00   -1360.560     524.075  \n",
      "2        2762.57     150.931    3800.810  \n",
      "3       -2202.12     600.359   -1343.550  \n",
      "4       -2197.36     626.379    -826.727  \n",
      "...          ...         ...         ...  \n",
      "1049     7643.76    7499.030     974.317  \n",
      "1050     7304.72    5043.900     743.325  \n",
      "1051     7278.40     881.475     839.629  \n",
      "1052     7258.84    6893.910    1961.450  \n",
      "1053     7833.45    7781.480    5924.930  \n",
      "\n",
      "[1054 rows x 29 columns]\n"
     ]
    },
    {
     "ename": "ValueError",
     "evalue": "operands could not be broadcast together with shapes (36,28) (24,28) ",
     "output_type": "error",
     "traceback": [
      "\u001b[1;31m---------------------------------------------------------------------------\u001b[0m",
      "\u001b[1;31mValueError\u001b[0m                                Traceback (most recent call last)",
      "\u001b[1;32m<ipython-input-6-55e4f3f20b08>\u001b[0m in \u001b[0;36m<module>\u001b[1;34m\u001b[0m\n\u001b[0;32m      1\u001b[0m \u001b[0moptimize_W1\u001b[0m \u001b[1;33m=\u001b[0m \u001b[0moptimizeW_Kfolder_CM\u001b[0m\u001b[1;33m.\u001b[0m\u001b[0mOptimizeW\u001b[0m\u001b[1;33m(\u001b[0m\u001b[0msom\u001b[0m\u001b[1;33m,\u001b[0m\u001b[0mcsv_training\u001b[0m\u001b[1;33m,\u001b[0m\u001b[0mclassNum\u001b[0m \u001b[1;33m=\u001b[0m\u001b[1;36m2\u001b[0m\u001b[1;33m,\u001b[0m\u001b[0mk_folder_num\u001b[0m \u001b[1;33m=\u001b[0m\u001b[1;36m10\u001b[0m\u001b[1;33m,\u001b[0m\u001b[0msubset_percentage\u001b[0m \u001b[1;33m=\u001b[0m \u001b[1;36m0.2\u001b[0m\u001b[1;33m)\u001b[0m\u001b[1;33m\u001b[0m\u001b[1;33m\u001b[0m\u001b[0m\n\u001b[1;32m----> 2\u001b[1;33m \u001b[0moptimize_W1\u001b[0m\u001b[1;33m.\u001b[0m\u001b[0mrunOptimize\u001b[0m\u001b[1;33m(\u001b[0m\u001b[1;33m)\u001b[0m\u001b[1;33m\u001b[0m\u001b[1;33m\u001b[0m\u001b[0m\n\u001b[0m",
      "\u001b[1;32mD:\\cygwin64\\home\\fooli\\SOM\\optimizeW_Kfolder_CM.py\u001b[0m in \u001b[0;36mrunOptimize\u001b[1;34m(self)\u001b[0m\n\u001b[0;32m    205\u001b[0m             \u001b[0mself\u001b[0m\u001b[1;33m.\u001b[0m\u001b[0m_initialdataset\u001b[0m\u001b[1;33m(\u001b[0m\u001b[0mi\u001b[0m\u001b[1;33m)\u001b[0m\u001b[1;33m\u001b[0m\u001b[1;33m\u001b[0m\u001b[0m\n\u001b[0;32m    206\u001b[0m             \u001b[1;31m#train som to get W1\u001b[0m\u001b[1;33m\u001b[0m\u001b[1;33m\u001b[0m\u001b[1;33m\u001b[0m\u001b[0m\n\u001b[1;32m--> 207\u001b[1;33m             \u001b[0mself\u001b[0m\u001b[1;33m.\u001b[0m\u001b[0msom\u001b[0m\u001b[1;33m.\u001b[0m\u001b[0mfit\u001b[0m\u001b[1;33m(\u001b[0m\u001b[0mself\u001b[0m\u001b[1;33m.\u001b[0m\u001b[0mdata_trains\u001b[0m\u001b[1;33m[\u001b[0m\u001b[0mi\u001b[0m\u001b[1;33m]\u001b[0m\u001b[1;33m)\u001b[0m\u001b[1;33m\u001b[0m\u001b[1;33m\u001b[0m\u001b[0m\n\u001b[0m\u001b[0;32m    208\u001b[0m             \u001b[0mself\u001b[0m\u001b[1;33m.\u001b[0m\u001b[0msom_weights1s\u001b[0m\u001b[1;33m[\u001b[0m\u001b[0mi\u001b[0m\u001b[1;33m]\u001b[0m \u001b[1;33m=\u001b[0m \u001b[0mself\u001b[0m\u001b[1;33m.\u001b[0m\u001b[0msom\u001b[0m\u001b[1;33m.\u001b[0m\u001b[0mweights1\u001b[0m\u001b[1;33m\u001b[0m\u001b[1;33m\u001b[0m\u001b[0m\n\u001b[0;32m    209\u001b[0m             \u001b[0mself\u001b[0m\u001b[1;33m.\u001b[0m\u001b[0mvalidate_score_W1_predicted_labels\u001b[0m\u001b[1;33m[\u001b[0m\u001b[0mi\u001b[0m\u001b[1;33m]\u001b[0m \u001b[1;33m=\u001b[0m \u001b[0mself\u001b[0m\u001b[1;33m.\u001b[0m\u001b[0msom\u001b[0m\u001b[1;33m.\u001b[0m\u001b[0mpredict\u001b[0m\u001b[1;33m(\u001b[0m\u001b[0mself\u001b[0m\u001b[1;33m.\u001b[0m\u001b[0mdata_validates\u001b[0m\u001b[1;33m[\u001b[0m\u001b[0mi\u001b[0m\u001b[1;33m]\u001b[0m\u001b[1;33m,\u001b[0m\u001b[0mself\u001b[0m\u001b[1;33m.\u001b[0m\u001b[0msom\u001b[0m\u001b[1;33m.\u001b[0m\u001b[0mweights1\u001b[0m\u001b[1;33m)\u001b[0m\u001b[1;33m\u001b[0m\u001b[1;33m\u001b[0m\u001b[0m\n",
      "\u001b[1;32mD:\\cygwin64\\home\\fooli\\SOM\\newSom.py\u001b[0m in \u001b[0;36mfit\u001b[1;34m(self, X, weightIndex, epochs, shuffle)\u001b[0m\n\u001b[0;32m    199\u001b[0m                 \u001b[0minput\u001b[0m \u001b[1;33m=\u001b[0m \u001b[0mX\u001b[0m\u001b[1;33m[\u001b[0m\u001b[0midx\u001b[0m\u001b[1;33m]\u001b[0m\u001b[1;33m\u001b[0m\u001b[1;33m\u001b[0m\u001b[0m\n\u001b[0;32m    200\u001b[0m                 \u001b[1;31m# Do one step of training\u001b[0m\u001b[1;33m\u001b[0m\u001b[1;33m\u001b[0m\u001b[1;33m\u001b[0m\u001b[0m\n\u001b[1;32m--> 201\u001b[1;33m                 \u001b[0mself\u001b[0m\u001b[1;33m.\u001b[0m\u001b[0mstep\u001b[0m\u001b[1;33m(\u001b[0m\u001b[0minput\u001b[0m\u001b[1;33m)\u001b[0m\u001b[1;33m\u001b[0m\u001b[1;33m\u001b[0m\u001b[0m\n\u001b[0m\u001b[0;32m    202\u001b[0m                 \u001b[1;31m# Update learning rate\u001b[0m\u001b[1;33m\u001b[0m\u001b[1;33m\u001b[0m\u001b[1;33m\u001b[0m\u001b[0m\n\u001b[0;32m    203\u001b[0m                 \u001b[0mglobal_iter_counter\u001b[0m \u001b[1;33m+=\u001b[0m \u001b[1;36m1\u001b[0m\u001b[1;33m\u001b[0m\u001b[1;33m\u001b[0m\u001b[0m\n",
      "\u001b[1;32mD:\\cygwin64\\home\\fooli\\SOM\\newSom.py\u001b[0m in \u001b[0;36mstep\u001b[1;34m(self, x)\u001b[0m\n\u001b[0;32m    108\u001b[0m         \u001b[1;31m# x_stack , with mxn row , each row has the same array: x\u001b[0m\u001b[1;33m\u001b[0m\u001b[1;33m\u001b[0m\u001b[1;33m\u001b[0m\u001b[0m\n\u001b[0;32m    109\u001b[0m         \u001b[1;31m# Get index of best matching unit\u001b[0m\u001b[1;33m\u001b[0m\u001b[1;33m\u001b[0m\u001b[1;33m\u001b[0m\u001b[0m\n\u001b[1;32m--> 110\u001b[1;33m         \u001b[0mbmu_index\u001b[0m \u001b[1;33m=\u001b[0m \u001b[0mself\u001b[0m\u001b[1;33m.\u001b[0m\u001b[0m_find_bmu\u001b[0m\u001b[1;33m(\u001b[0m\u001b[0mx\u001b[0m\u001b[1;33m,\u001b[0m\u001b[0mself\u001b[0m\u001b[1;33m.\u001b[0m\u001b[0mweights\u001b[0m\u001b[1;33m)\u001b[0m\u001b[1;33m\u001b[0m\u001b[1;33m\u001b[0m\u001b[0m\n\u001b[0m\u001b[0;32m    111\u001b[0m         \u001b[1;31m#print(\"bmu_index{}\".format(bmu_index));\u001b[0m\u001b[1;33m\u001b[0m\u001b[1;33m\u001b[0m\u001b[1;33m\u001b[0m\u001b[0m\n\u001b[0;32m    112\u001b[0m         \u001b[1;31m# Find location of best matching unit, _locations is all the indices for a given matrix for array\u001b[0m\u001b[1;33m\u001b[0m\u001b[1;33m\u001b[0m\u001b[1;33m\u001b[0m\u001b[0m\n",
      "\u001b[1;32mD:\\cygwin64\\home\\fooli\\SOM\\newSom.py\u001b[0m in \u001b[0;36m_find_bmu\u001b[1;34m(self, x, newWeights)\u001b[0m\n\u001b[0;32m     91\u001b[0m         \u001b[1;31m#print(weights.shape)\u001b[0m\u001b[1;33m\u001b[0m\u001b[1;33m\u001b[0m\u001b[1;33m\u001b[0m\u001b[0m\n\u001b[0;32m     92\u001b[0m         \u001b[1;31m#print(\"x_stack - newWeights:{}\".format(x_stack - newWeights ))   #, axis =1  process by row\u001b[0m\u001b[1;33m\u001b[0m\u001b[1;33m\u001b[0m\u001b[1;33m\u001b[0m\u001b[0m\n\u001b[1;32m---> 93\u001b[1;33m         \u001b[0mdistance\u001b[0m \u001b[1;33m=\u001b[0m \u001b[0mnp\u001b[0m\u001b[1;33m.\u001b[0m\u001b[0mlinalg\u001b[0m\u001b[1;33m.\u001b[0m\u001b[0mnorm\u001b[0m\u001b[1;33m(\u001b[0m\u001b[0mx_stack\u001b[0m \u001b[1;33m-\u001b[0m \u001b[0mnewWeights\u001b[0m\u001b[1;33m,\u001b[0m \u001b[0maxis\u001b[0m\u001b[1;33m=\u001b[0m\u001b[1;36m1\u001b[0m\u001b[1;33m)\u001b[0m\u001b[1;33m\u001b[0m\u001b[1;33m\u001b[0m\u001b[0m\n\u001b[0m\u001b[0;32m     94\u001b[0m         \u001b[1;31m#print(\"distance:{}\".format(distance ))\u001b[0m\u001b[1;33m\u001b[0m\u001b[1;33m\u001b[0m\u001b[1;33m\u001b[0m\u001b[0m\n\u001b[0;32m     95\u001b[0m        \u001b[1;31m# print(\"min distance:\")\u001b[0m\u001b[1;33m\u001b[0m\u001b[1;33m\u001b[0m\u001b[1;33m\u001b[0m\u001b[0m\n",
      "\u001b[1;31mValueError\u001b[0m: operands could not be broadcast together with shapes (36,28) (24,28) "
     ]
    }
   ],
   "source": [
    "optimize_W1 = optimizeW_Kfolder_CM.OptimizeW(som,csv_training,classNum =2,k_folder_num =10,subset_percentage = 0.2)\n",
    "optimize_W1.runOptimize()"
   ]
  },
  {
   "cell_type": "code",
   "execution_count": 8,
   "id": "8c490498",
   "metadata": {},
   "outputs": [
    {
     "name": "stdout",
     "output_type": "stream",
     "text": [
      "validate_score_W1_average : 0.8452554744525547\n",
      "validate_score_W2_average : 0.8452554744525547\n"
     ]
    }
   ],
   "source": [
    "optimize_W1 = optimizeW_Kfolder.OptimizeW(som,csv,classNum =2,k_folder_num =10,subset_percentage = 0.3)\n",
    "optimize_W1.runOptimize()"
   ]
  },
  {
   "cell_type": "code",
   "execution_count": 9,
   "id": "7bc3657f",
   "metadata": {},
   "outputs": [
    {
     "name": "stdout",
     "output_type": "stream",
     "text": [
      "validate_score_W1_average : 0.8452554744525547\n",
      "validate_score_W2_average : 0.8452554744525547\n"
     ]
    }
   ],
   "source": [
    "optimize_W2 = optimizeW_Kfolder.OptimizeW(som,csv,classNum =2,k_folder_num =10,subset_percentage = 0.4)\n",
    "optimize_W2.runOptimize()"
   ]
  },
  {
   "cell_type": "code",
   "execution_count": 10,
   "id": "56ce15d4",
   "metadata": {},
   "outputs": [
    {
     "name": "stdout",
     "output_type": "stream",
     "text": [
      "validate_score_W1_average : 0.8452554744525547\n",
      "validate_score_W2_average : 0.8452554744525547\n"
     ]
    }
   ],
   "source": [
    "optimize_W3 = optimizeW_Kfolder.OptimizeW(som,csv,classNum =2,k_folder_num =10,subset_percentage = 0.5)\n",
    "optimize_W3.runOptimize()"
   ]
  },
  {
   "cell_type": "code",
   "execution_count": 11,
   "id": "f353267c",
   "metadata": {},
   "outputs": [
    {
     "name": "stdout",
     "output_type": "stream",
     "text": [
      "validate_score_W1_average : 0.8452554744525547\n",
      "validate_score_W2_average : 0.8452554744525547\n"
     ]
    }
   ],
   "source": [
    "optimize_W4 = optimizeW_Kfolder.OptimizeW(som,csv,classNum =2,k_folder_num =10,subset_percentage = 0.6)\n",
    "optimize_W4.runOptimize()"
   ]
  },
  {
   "cell_type": "code",
   "execution_count": 12,
   "id": "be832e8e",
   "metadata": {},
   "outputs": [
    {
     "name": "stdout",
     "output_type": "stream",
     "text": [
      "validate_score_W1_average : 0.8452554744525547\n",
      "validate_score_W2_average : 0.8452554744525547\n"
     ]
    }
   ],
   "source": [
    "optimize_W5 = optimizeW_Kfolder.OptimizeW(som,csv,classNum =2,k_folder_num =10,subset_percentage = 0.7)\n",
    "optimize_W5.runOptimize()"
   ]
  },
  {
   "cell_type": "code",
   "execution_count": null,
   "id": "bddb81f8",
   "metadata": {},
   "outputs": [],
   "source": [
    "optimize_W6 = optimizeW_Kfolder.OptimizeW(som,csv,classNum =2,k_folder_num =10,subset_percentage = 0.8)\n",
    "optimize_W6.runOptimize()"
   ]
  },
  {
   "cell_type": "code",
   "execution_count": 13,
   "id": "2b9a515c",
   "metadata": {},
   "outputs": [
    {
     "name": "stdout",
     "output_type": "stream",
     "text": [
      "validate_score_W1_average : 0.8452554744525547\n",
      "validate_score_W2_average : 0.8452554744525547\n"
     ]
    }
   ],
   "source": [
    "optimize_W7 = optimizeW_Kfolder.OptimizeW(som,csv,classNum =2,k_folder_num =10,subset_percentage = 1)\n",
    "optimize_W7.runOptimize()"
   ]
  },
  {
   "cell_type": "code",
   "execution_count": 14,
   "id": "bd3db836",
   "metadata": {},
   "outputs": [
    {
     "name": "stdout",
     "output_type": "stream",
     "text": [
      "validate_score_W1_average : 0.8452554744525547\n",
      "validate_score_W2_average : 0.8452554744525547\n"
     ]
    }
   ],
   "source": [
    "optimize_W8 = optimizeW_Kfolder.OptimizeW(som,csv,classNum =2,k_folder_num =5,subset_percentage = 0.5)\n",
    "optimize_W8.runOptimize()"
   ]
  },
  {
   "cell_type": "code",
   "execution_count": 16,
   "id": "33804fb5",
   "metadata": {},
   "outputs": [
    {
     "name": "stdout",
     "output_type": "stream",
     "text": [
      "validate_score_W1_average : 0.8452554744525548\n",
      "validate_score_W2_average : 0.8452554744525548\n"
     ]
    }
   ],
   "source": [
    "optimize_W9 = optimizeW_Kfolder.OptimizeW(som,csv,classNum =2,k_folder_num =2,subset_percentage = 0.5)\n",
    "optimize_W9.runOptimize()"
   ]
  },
  {
   "cell_type": "code",
   "execution_count": 17,
   "id": "fbd9f28b",
   "metadata": {},
   "outputs": [],
   "source": [
    "som1 = newSom.SOM(m=2, n=2, dim=15)"
   ]
  },
  {
   "cell_type": "code",
   "execution_count": 18,
   "id": "b80f129c",
   "metadata": {},
   "outputs": [
    {
     "name": "stdout",
     "output_type": "stream",
     "text": [
      "validate_score_W1_average : 0.8452554744525547\n",
      "validate_score_W2_average : 0.8452554744525547\n"
     ]
    }
   ],
   "source": [
    "optimize_W9 = optimizeW_Kfolder.OptimizeW(som1,csv,classNum =2,k_folder_num =5,subset_percentage = 0.5)\n",
    "optimize_W9.runOptimize()"
   ]
  },
  {
   "cell_type": "code",
   "execution_count": 19,
   "id": "4c3e4ec6",
   "metadata": {},
   "outputs": [
    {
     "name": "stdout",
     "output_type": "stream",
     "text": [
      "validate_score_W1_average : 0.8452554744525547\n",
      "validate_score_W2_average : 0.8452554744525547\n"
     ]
    }
   ],
   "source": [
    "som3 = newSom.SOM(m=10, n=10, dim=15)\n",
    "optimize_W10 = optimizeW_Kfolder.OptimizeW(som3,csv,classNum =2,k_folder_num =5,subset_percentage = 0.2)\n",
    "optimize_W10.runOptimize()"
   ]
  },
  {
   "cell_type": "code",
   "execution_count": null,
   "id": "a7ea16b3",
   "metadata": {},
   "outputs": [],
   "source": []
  }
 ],
 "metadata": {
  "kernelspec": {
   "display_name": "Python 3",
   "language": "python",
   "name": "python3"
  },
  "language_info": {
   "codemirror_mode": {
    "name": "ipython",
    "version": 3
   },
   "file_extension": ".py",
   "mimetype": "text/x-python",
   "name": "python",
   "nbconvert_exporter": "python",
   "pygments_lexer": "ipython3",
   "version": "3.8.8"
  }
 },
 "nbformat": 4,
 "nbformat_minor": 5
}
