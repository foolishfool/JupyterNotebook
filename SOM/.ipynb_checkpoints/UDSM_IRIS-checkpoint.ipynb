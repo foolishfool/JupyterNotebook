{
 "cells": [
  {
   "cell_type": "code",
   "execution_count": 1,
   "id": "e9d34dde",
   "metadata": {},
   "outputs": [],
   "source": [
    "#THIS CODE ONLY DO THE WHOLE DATA TRAINING, NO CROSS_VALIDATION AND FEATURE SELECTION\n",
    "import pandas as pd\n",
    "import numpy as np\n",
    "import newSom\n",
    "import UTDSM\n",
    "import dataset_read\n",
    "import researchpy as rp\n",
    "import scipy.stats as stats\n",
    "import matplotlib.pyplot as plt\n",
    "import collections\n",
    "import warnings\n",
    "import experiment\n",
    "warnings.filterwarnings(\"ignore\", category=np.VisibleDeprecationWarning) "
   ]
  },
  {
   "cell_type": "code",
   "execution_count": 2,
   "id": "6aee060f",
   "metadata": {},
   "outputs": [],
   "source": [
    "dataread = dataset_read.DATAREAD()"
   ]
  },
  {
   "cell_type": "code",
   "execution_count": 3,
   "id": "de6b4ea1",
   "metadata": {},
   "outputs": [
    {
     "name": "stdout",
     "output_type": "stream",
     "text": [
      "self.data_train len 105\n"
     ]
    }
   ],
   "source": [
    "csv = pd.read_csv(\"Iris.csv\")\n",
    "csv = csv.drop(columns=['Id'])\n",
    "dataread.stringToIntIrisDataSet(csv,\"Species\")\n",
    "csv_test = csv.sample(int(csv.shape[0]*0.3))\n",
    "csv_training = csv.drop(csv_test.index,axis = 0)\n",
    "dataread.initializedataset_iris(csv_training,csv_test)\n",
    "\n",
    "#print(\"self.data_train len {}\".format(len(dataread.data_train)))"
   ]
  },
  {
   "cell_type": "code",
   "execution_count": 4,
   "id": "6dad8085",
   "metadata": {
    "scrolled": false
   },
   "outputs": [
    {
     "name": "stdout",
     "output_type": "stream",
     "text": [
      "[0, 1, 2, 3, 4, 5, 6, 7, 8, 9, 10, 11, 12, 13, 14, 15, 16, 17, 18, 19, 20, 21, 22, 23, 24, 25, 26, 27, 28, 29, 30, 31, 32, 33, 34, 35, 36, 37, 38, 39, 40, 41, 42, 43, 44, 45, 46, 47, 48, 49, 50, 51, 52, 53, 54, 55, 56, 57, 58, 59, 60, 61, 62, 63, 64, 65, 66, 67, 68, 69, 70, 71, 72, 73, 74, 75, 76, 77, 78, 79, 80, 81, 82, 83, 84, 85, 86, 87, 88, 89, 90, 91, 92, 93, 94, 95, 96, 97, 98, 99, 100, 101, 102, 103, 104]\n",
      " self.train_W0_predicted_label [2 0 2 0 1 2 1 1 1 1 1 2 2 1 1 0 2 0 2 1 0 0 0 2 1 1 2 2 2 1 2 0 0 1 1 2 2\n",
      " 1 2 0 2 0 1 1 0 1 0 1 2 2 1 1 1 2 1 1 1 1 2 0 1 2 1 2 2 0 2 1 2 1 1 0 2 2\n",
      " 1 1 2 0 2 2 0 2 1 1 1 1 0 1 0 1 1 1 0 0 1 1 0 1 2 0 0 1 2 2 2]\n",
      "all_train_score_W0\n",
      "all_train_score_W0_n 0.3741563287859051\n",
      "all_train_score_W0_a 0.0\n",
      "test_score_W0\n",
      "test_score_W0_n 0.8000000000000003\n",
      "test_score_W0_a  0.7760180995475113\n",
      " predicted_clusters[i] [3, 15, 17, 20, 21, 22, 31, 39, 41, 44, 59, 65, 77, 80, 86, 88, 92, 93, 96, 99, 100]\n",
      "i 0 predicted_clusters[i]  [3, 15, 17, 20, 21, 22, 31, 39, 41, 44, 59, 65, 77, 80, 86, 88, 92, 93, 96, 99, 100] len  current_clustered_datas[i] 21\n",
      "lennewclustered_data 5 \n",
      " predicted_clusters[i] [3, 15, 17, 21, 22, 31, 39, 41, 44, 59, 65, 80, 86, 88, 92, 93, 96, 99, 100]\n",
      "i 0 predicted_clusters[i]  [3, 15, 17, 21, 22, 31, 39, 41, 44, 59, 65, 80, 86, 88, 92, 93, 96, 99, 100] len  current_clustered_datas[i] 19\n",
      "lennewclustered_data 3 \n",
      " predicted_clusters[i] [3, 15, 31, 39, 41, 44, 59, 65, 86, 88, 92, 96, 99, 100]\n",
      "i 0 predicted_clusters[i]  [3, 15, 31, 39, 41, 44, 59, 65, 86, 88, 92, 96, 99, 100] len  current_clustered_datas[i] 14\n",
      "lennewclustered_data 11 \n",
      " predicted_clusters[i] [6, 7, 13, 19, 24, 25, 29, 34, 37, 42, 43, 47, 52, 55, 56, 57, 60, 67, 84, 85, 89, 90, 91, 94, 95, 97]\n",
      "i 1 predicted_clusters[i]  [6, 7, 13, 19, 24, 25, 29, 34, 37, 42, 43, 47, 52, 55, 56, 57, 60, 67, 84, 85, 89, 90, 91, 94, 95, 97] len  current_clustered_datas[i] 26\n",
      "lennewclustered_data 20 \n",
      " predicted_clusters[i] [26, 28, 40, 72, 102]\n",
      "i 2 predicted_clusters[i]  [26, 28, 40, 72, 102] len  current_clustered_datas[i] 5\n",
      "lennewclustered_data 26 \n"
     ]
    },
    {
     "ename": "TypeError",
     "evalue": "run() takes 2 positional arguments but 3 were given",
     "output_type": "error",
     "traceback": [
      "\u001b[1;31m---------------------------------------------------------------------------\u001b[0m",
      "\u001b[1;31mTypeError\u001b[0m                                 Traceback (most recent call last)",
      "Input \u001b[1;32mIn [4]\u001b[0m, in \u001b[0;36m<cell line: 14>\u001b[1;34m()\u001b[0m\n\u001b[0;32m     12\u001b[0m som \u001b[38;5;241m=\u001b[39m newSom\u001b[38;5;241m.\u001b[39mSOM(m\u001b[38;5;241m=\u001b[39m class_num, n\u001b[38;5;241m=\u001b[39m  scope_num, dim\u001b[38;5;241m=\u001b[39mdim_num)  \n\u001b[0;32m     13\u001b[0m optimize_W \u001b[38;5;241m=\u001b[39m UTDSM\u001b[38;5;241m.\u001b[39mUTDSM_SOM(som,dataread\u001b[38;5;241m.\u001b[39mdata_train,dataread\u001b[38;5;241m.\u001b[39mdata_test,dataread\u001b[38;5;241m.\u001b[39mlabel_train,dataread\u001b[38;5;241m.\u001b[39mlabel_test,class_num)\n\u001b[1;32m---> 14\u001b[0m \u001b[43moptimize_W\u001b[49m\u001b[38;5;241;43m.\u001b[39;49m\u001b[43mrun\u001b[49m\u001b[43m(\u001b[49m\u001b[43m  \u001b[49m\u001b[43mtotal_label_train\u001b[49m\u001b[43m  \u001b[49m\u001b[43m)\u001b[49m\n",
      "File \u001b[1;32mC:\\JupyterDoc\\SOM\\UTDSM.py:651\u001b[0m, in \u001b[0;36mUTDSM_SOM.run\u001b[1;34m(self, train_label)\u001b[0m\n\u001b[0;32m    649\u001b[0m     nextround_train_label \u001b[38;5;241m=\u001b[39m np\u001b[38;5;241m.\u001b[39marray(nextround_train_label)\n\u001b[0;32m    650\u001b[0m     \u001b[38;5;66;03m#print(\"Split one time!\")\u001b[39;00m\n\u001b[1;32m--> 651\u001b[0m     \u001b[38;5;28;43mself\u001b[39;49m\u001b[38;5;241;43m.\u001b[39;49m\u001b[43mrun\u001b[49m\u001b[43m(\u001b[49m\u001b[43mnextround_train_data\u001b[49m\u001b[43m,\u001b[49m\u001b[43mnextround_train_label\u001b[49m\u001b[43m)\u001b[49m\n\u001b[0;32m    652\u001b[0m \u001b[38;5;28;01melse\u001b[39;00m:\n\u001b[0;32m    653\u001b[0m     \u001b[38;5;28mself\u001b[39m\u001b[38;5;241m.\u001b[39mtest_combineW()\n",
      "\u001b[1;31mTypeError\u001b[0m: run() takes 2 positional arguments but 3 were given"
     ]
    }
   ],
   "source": [
    "import experiment\n",
    "unstable_repeate_num= 20\n",
    "scope_num = 1\n",
    "class_num = 3\n",
    "dim_num = 4\n",
    "\n",
    "total_label_train = []\n",
    "\n",
    "for i in range(0,len(dataread.data_train)):\n",
    "    total_label_train.append(i)\n",
    "\n",
    "som = newSom.SOM(m= class_num, n=  scope_num, dim=dim_num)  \n",
    "optimize_W = UTDSM.UTDSM_SOM(som,dataread.data_train,dataread.data_test,dataread.label_train,dataread.label_test,class_num)\n",
    "optimize_W.run(  total_label_train  )       \n",
    "\n",
    "\n",
    "#experiment = experiment.Experiment()\n",
    "#experiment.UTtest(dataread,class_num, dim_num, scope_num,unstable_repeate_num)"
   ]
  },
  {
   "cell_type": "code",
   "execution_count": null,
   "id": "6d25b4ac",
   "metadata": {},
   "outputs": [],
   "source": []
  }
 ],
 "metadata": {
  "kernelspec": {
   "display_name": "Python 3 (ipykernel)",
   "language": "python",
   "name": "python3"
  },
  "language_info": {
   "codemirror_mode": {
    "name": "ipython",
    "version": 3
   },
   "file_extension": ".py",
   "mimetype": "text/x-python",
   "name": "python",
   "nbconvert_exporter": "python",
   "pygments_lexer": "ipython3",
   "version": "3.9.12"
  }
 },
 "nbformat": 4,
 "nbformat_minor": 5
}
