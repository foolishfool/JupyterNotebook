{
 "cells": [
  {
   "cell_type": "code",
   "execution_count": 1,
   "id": "e9d34dde",
   "metadata": {},
   "outputs": [],
   "source": [
    "#THIS CODE ONLY DO THE WHOLE DATA TRAINING, NO CROSS_VALIDATION AND FEATURE SELECTION\n",
    "import pandas as pd\n",
    "import numpy as np\n",
    "import newSom\n",
    "import UTDSM\n",
    "import dataset_read\n",
    "import researchpy as rp\n",
    "import scipy.stats as stats\n",
    "import matplotlib.pyplot as plt\n",
    "import collections\n",
    "import warnings\n",
    "import experiment\n",
    "warnings.filterwarnings(\"ignore\", category=np.VisibleDeprecationWarning) "
   ]
  },
  {
   "cell_type": "code",
   "execution_count": 2,
   "id": "6aee060f",
   "metadata": {},
   "outputs": [],
   "source": [
    "dataread = dataset_read.DATAREAD()"
   ]
  },
  {
   "cell_type": "code",
   "execution_count": 3,
   "id": "de6b4ea1",
   "metadata": {},
   "outputs": [],
   "source": [
    "csv = pd.read_csv(\"Iris.csv\")\n",
    "csv = csv.drop(columns=['Id'])\n",
    "dataread.stringToIntIrisDataSet(csv,\"Species\")\n",
    "csv_test = csv.sample(int(csv.shape[0]*0.3))\n",
    "csv_training = csv.drop(csv_test.index,axis = 0)\n",
    "dataread.initializedataset(csv_training,csv_test,\"Species\")\n",
    "\n",
    "#print(\"self.data_train len {}\".format(len(dataread.data_train)))"
   ]
  },
  {
   "cell_type": "code",
   "execution_count": 4,
   "id": "6d25b4ac",
   "metadata": {
    "scrolled": true
   },
   "outputs": [
    {
     "name": "stdout",
     "output_type": "stream",
     "text": [
      "all_train_score_W0_n 0.645498510089162\n",
      "all_train_score_W0_a 0.5912895167214114\n",
      "test_score_W0_n 0.5434515067873265\n",
      "test_score_W0_a  0.3960995203678501\n",
      "Split one time!\n",
      "self.rest_data_W0_p 0.7368421052631579\n",
      "self.rest_data_W0_n 0.603845053468384\n",
      "self.rest_data_W0_a 0.551706506455324\n",
      "Split one time!\n",
      "self.rest_data_W0_p 0.9565217391304348\n",
      "self.rest_data_W0_n 0.9064325754559504\n",
      "self.rest_data_W0_a 0.9286587085252374\n",
      "Split one time!\n",
      "self.rest_data_W0_p 1.0\n",
      "self.rest_data_W0_n 1.0\n",
      "self.rest_data_W0_a 1.0\n",
      "Split one time!\n",
      "self.rest_data_W0_p 1.0\n",
      "self.rest_data_W0_n 1.0\n",
      "self.rest_data_W0_a 1.0\n",
      "Split one time!\n",
      "self.rest_data_W0_p 1.0\n",
      "self.rest_data_W0_n 1.0\n",
      "self.rest_data_W0_a 1.0\n",
      "Split one time!\n",
      "self.rest_data_W0_p 1.0\n",
      "self.rest_data_W0_n 1.0\n",
      "self.rest_data_W0_a 1.0\n",
      "Split one time!\n",
      "self.rest_data_W0_p 1.0\n",
      "self.rest_data_W0_n 1.0\n",
      "self.rest_data_W0_a 1.0\n",
      "Split one time!\n",
      "self.rest_data_W0_p 1.0\n",
      "self.rest_data_W0_n 1.0\n",
      "self.rest_data_W0_a 1.0\n",
      "all_train_score_W_Combined_n 0.6528181262772929\n",
      "all_train_score_W_Combined_a 0.6355788911631218\n",
      "test_score_W_combined_n 0.6883256002933839\n",
      "test_score_W_combined_a 0.5988859099559642\n",
      "Combine Neurons Number :17\n"
     ]
    },
    {
     "ename": "AttributeError",
     "evalue": "'list' object has no attribute 'data_train'",
     "output_type": "error",
     "traceback": [
      "\u001b[1;31m---------------------------------------------------------------------------\u001b[0m",
      "\u001b[1;31mAttributeError\u001b[0m                            Traceback (most recent call last)",
      "Input \u001b[1;32mIn [4]\u001b[0m, in \u001b[0;36m<cell line: 18>\u001b[1;34m()\u001b[0m\n\u001b[0;32m     14\u001b[0m optimize_W\u001b[38;5;241m.\u001b[39mrun(  total_label_train  )     \n\u001b[0;32m     17\u001b[0m experiment \u001b[38;5;241m=\u001b[39m experiment\u001b[38;5;241m.\u001b[39mExperiment()\n\u001b[1;32m---> 18\u001b[0m \u001b[43mexperiment\u001b[49m\u001b[38;5;241;43m.\u001b[39;49m\u001b[43mUTtest\u001b[49m\u001b[43m(\u001b[49m\u001b[43mtotal_label_train\u001b[49m\u001b[43m,\u001b[49m\u001b[43mclass_num\u001b[49m\u001b[43m,\u001b[49m\u001b[43m \u001b[49m\u001b[43mdim_num\u001b[49m\u001b[43m,\u001b[49m\u001b[43m \u001b[49m\u001b[43mscope_num\u001b[49m\u001b[43m,\u001b[49m\u001b[43munstable_repeate_num\u001b[49m\u001b[43m)\u001b[49m\n",
      "File \u001b[1;32mC:\\JupyterDoc\\SOM\\experiment.py:332\u001b[0m, in \u001b[0;36mExperiment.UTtest\u001b[1;34m(self, dataread, class_num, dim_num, scope_num, unstable_repeat_num)\u001b[0m\n\u001b[0;32m    327\u001b[0m \u001b[38;5;28;01mwhile\u001b[39;00m y \u001b[38;5;241m<\u001b[39m\u001b[38;5;241m=\u001b[39m unstable_repeat_num:\n\u001b[0;32m    328\u001b[0m \n\u001b[0;32m    329\u001b[0m     \u001b[38;5;66;03m#print(\"neuron unit number: {}\".format(class_num*x))\u001b[39;00m\n\u001b[0;32m    330\u001b[0m     \u001b[38;5;66;03m#print(\"*******************\\n\")\u001b[39;00m\n\u001b[0;32m    331\u001b[0m     som \u001b[38;5;241m=\u001b[39m newSom\u001b[38;5;241m.\u001b[39mSOM(m\u001b[38;5;241m=\u001b[39m class_num, n\u001b[38;5;241m=\u001b[39m scope_num, dim\u001b[38;5;241m=\u001b[39mdim_num)  \n\u001b[1;32m--> 332\u001b[0m     optimize_W \u001b[38;5;241m=\u001b[39m UTDSM\u001b[38;5;241m.\u001b[39mUTDSM_SOM(som,\u001b[43mdataread\u001b[49m\u001b[38;5;241;43m.\u001b[39;49m\u001b[43mdata_train\u001b[49m,dataread\u001b[38;5;241m.\u001b[39mdata_test,dataread\u001b[38;5;241m.\u001b[39mlabel_train,dataread\u001b[38;5;241m.\u001b[39mlabel_test,class_num)\n\u001b[0;32m    333\u001b[0m     optimize_W\u001b[38;5;241m.\u001b[39mrun(dataread\u001b[38;5;241m.\u001b[39mlabel_train)\n\u001b[0;32m    336\u001b[0m     all_train_score_W0_n\u001b[38;5;241m.\u001b[39mappend(optimize_W\u001b[38;5;241m.\u001b[39mall_train_score_W0_n)\n",
      "\u001b[1;31mAttributeError\u001b[0m: 'list' object has no attribute 'data_train'"
     ]
    }
   ],
   "source": [
    "import experiment\n",
    "unstable_repeate_num= 20\n",
    "scope_num = 1\n",
    "class_num = 3\n",
    "dim_num = 4\n",
    "\n",
    "total_label_train = []\n",
    "\n",
    "for i in range(0,len(dataread.data_train)):\n",
    "    total_label_train.append(i)\n",
    "\n",
    "#som = newSom.SOM(m= class_num, n=  scope_num, dim=dim_num)  \n",
    "#optimize_W = UTDSM.UTDSM_SOM(som,dataread.data_train,dataread.data_test,dataread.label_train,dataread.label_test,class_num)\n",
    "#optimize_W.run(  total_label_train  )     \n",
    "\n",
    "\n",
    "experiment = experiment.Experiment()\n",
    "experiment.UTtest(dataread,total_label_train,class_num, dim_num, scope_num,unstable_repeate_num)"
   ]
  },
  {
   "cell_type": "code",
   "execution_count": null,
   "id": "9821b3ca",
   "metadata": {},
   "outputs": [],
   "source": []
  },
  {
   "cell_type": "code",
   "execution_count": null,
   "id": "82abd10c",
   "metadata": {},
   "outputs": [],
   "source": []
  }
 ],
 "metadata": {
  "kernelspec": {
   "display_name": "Python 3 (ipykernel)",
   "language": "python",
   "name": "python3"
  },
  "language_info": {
   "codemirror_mode": {
    "name": "ipython",
    "version": 3
   },
   "file_extension": ".py",
   "mimetype": "text/x-python",
   "name": "python",
   "nbconvert_exporter": "python",
   "pygments_lexer": "ipython3",
   "version": "3.9.12"
  }
 },
 "nbformat": 4,
 "nbformat_minor": 5
}
