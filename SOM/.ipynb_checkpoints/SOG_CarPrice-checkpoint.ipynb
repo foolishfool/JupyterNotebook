{
 "cells": [
  {
   "cell_type": "code",
   "execution_count": 1,
   "id": "291bbde8",
   "metadata": {},
   "outputs": [],
   "source": [
    "#THIS CODE ONLY DO THE WHOLE DATA TRAINING, NO CROSS_VALIDATION AND FEATURE SELECTION\n",
    "\n",
    "import pandas as pd\n",
    "import numpy as np\n",
    "import newSom \n",
    "import experiment\n",
    "import dataset_read\n",
    "import researchpy as rp\n",
    "import scipy.stats as stats\n",
    "import matplotlib.pyplot as plt\n",
    "import collections\n",
    "import warnings\n",
    "warnings.filterwarnings(\"ignore\", category=np.VisibleDeprecationWarning) "
   ]
  },
  {
   "cell_type": "code",
   "execution_count": 2,
   "id": "08633e9b",
   "metadata": {},
   "outputs": [],
   "source": [
    "dataread = dataset_read.DATAREAD()"
   ]
  },
  {
   "cell_type": "code",
   "execution_count": 3,
   "id": "00cd809e",
   "metadata": {},
   "outputs": [
    {
     "name": "stdout",
     "output_type": "stream",
     "text": [
      "self.data_continuous_indexes ['CarName', 'wheelbase', 'carlength', 'carwidth', 'carheight', 'curbweight', 'enginesize', 'boreratio', 'stroke', 'compressionratio', 'horsepower', 'peakrpm', 'citympg', 'highwaympg', 'price']\n",
      "data_train                       CarName fueltype aspiration doornumber      carbody  \\\n",
      "104              nissan teana      gas        std        two    hatchback   \n",
      "150     toyota corona mark ii      gas        std        two    hatchback   \n",
      "83              mitsubishi g4      gas      turbo        two    hatchback   \n",
      "172           toyota cressida      gas        std        two  convertible   \n",
      "52            mazda rx2 coupe      gas        std        two    hatchback   \n",
      "..                        ...      ...        ...        ...          ...   \n",
      "2    alfa-romero Quadrifoglio      gas        std        two    hatchback   \n",
      "76          mitsubishi mirage      gas        std        two    hatchback   \n",
      "162            toyota mark ii      gas        std       four        sedan   \n",
      "56                  mazda glc      gas        std        two    hatchback   \n",
      "194           volvo 145e (sw)      gas        std       four        sedan   \n",
      "\n",
      "    drivewheel enginelocation  wheelbase  carlength  carwidth  ...  \\\n",
      "104        rwd          front       91.3      170.7      67.9  ...   \n",
      "150        fwd          front       95.7      158.7      63.6  ...   \n",
      "83         fwd          front       95.9      173.2      66.3  ...   \n",
      "172        rwd          front       98.4      176.2      65.6  ...   \n",
      "52         fwd          front       93.1      159.1      64.2  ...   \n",
      "..         ...            ...        ...        ...       ...  ...   \n",
      "2          rwd          front       94.5      171.2      65.5  ...   \n",
      "76         fwd          front       93.7      157.3      64.4  ...   \n",
      "162        fwd          front       95.7      166.3      64.4  ...   \n",
      "56         rwd          front       95.3      169.0      65.7  ...   \n",
      "194        rwd          front      104.3      188.8      67.2  ...   \n",
      "\n",
      "     enginesize  fuelsystem boreratio stroke  compressionratio horsepower  \\\n",
      "104         181        mpfi      3.43  3.270               9.0        160   \n",
      "150          92        2bbl      3.05  3.030               9.0         62   \n",
      "83          156        spdi      3.59  3.860               7.0        145   \n",
      "172         146        mpfi      3.62  3.500               9.3        116   \n",
      "52           91        2bbl      3.03  3.150               9.0         68   \n",
      "..          ...         ...       ...    ...               ...        ...   \n",
      "2           152        mpfi      2.68  3.470               9.0        154   \n",
      "76           92        2bbl      2.97  3.230               9.4         68   \n",
      "162          98        2bbl      3.19  3.030               9.0         70   \n",
      "56           70        4bbl      3.33  3.255               9.4        101   \n",
      "194         141        mpfi      3.78  3.150               9.5        114   \n",
      "\n",
      "     peakrpm  citympg  highwaympg    price  \n",
      "104     5200       19          25  17199.0  \n",
      "150     4800       35          39   5348.0  \n",
      "83      5000       19          24  14869.0  \n",
      "172     4800       24          30  17669.0  \n",
      "52      5000       31          38   6795.0  \n",
      "..       ...      ...         ...      ...  \n",
      "2       5000       19          26  16500.0  \n",
      "76      5500       37          41   5389.0  \n",
      "162     4800       28          34   9258.0  \n",
      "56      6000       17          23  11845.0  \n",
      "194     5400       23          28  12940.0  \n",
      "\n",
      "[144 rows x 24 columns]\n"
     ]
    },
    {
     "ename": "ValueError",
     "evalue": "could not convert string to float: 'nissan teana'",
     "output_type": "error",
     "traceback": [
      "\u001b[1;31m---------------------------------------------------------------------------\u001b[0m",
      "\u001b[1;31mValueError\u001b[0m                                Traceback (most recent call last)",
      "Cell \u001b[1;32mIn[3], line 18\u001b[0m\n\u001b[0;32m     15\u001b[0m csv_test_original_encoded \u001b[38;5;241m=\u001b[39m dataread\u001b[38;5;241m.\u001b[39moriginal_encoding_data\u001b[38;5;241m.\u001b[39msample(\u001b[38;5;28mint\u001b[39m(dataread\u001b[38;5;241m.\u001b[39moriginal_encoding_data\u001b[38;5;241m.\u001b[39mshape[\u001b[38;5;241m0\u001b[39m]\u001b[38;5;241m*\u001b[39m\u001b[38;5;241m0.3\u001b[39m))\n\u001b[0;32m     16\u001b[0m csv_training_original_encoded \u001b[38;5;241m=\u001b[39m dataread\u001b[38;5;241m.\u001b[39moriginal_encoding_data\u001b[38;5;241m.\u001b[39mdrop(csv_test_original_encoded\u001b[38;5;241m.\u001b[39mindex,axis \u001b[38;5;241m=\u001b[39m \u001b[38;5;241m0\u001b[39m)\n\u001b[1;32m---> 18\u001b[0m \u001b[43mdataread\u001b[49m\u001b[38;5;241;43m.\u001b[39;49m\u001b[43minitializedataset\u001b[49m\u001b[43m(\u001b[49m\u001b[43mcsv\u001b[49m\u001b[43m,\u001b[49m\u001b[43mcsv_training\u001b[49m\u001b[43m,\u001b[49m\u001b[43mcsv_test\u001b[49m\u001b[43m,\u001b[49m\u001b[43mcsv_training_original_encoded\u001b[49m\u001b[43m,\u001b[49m\u001b[43mcsv_test_original_encoded\u001b[49m\u001b[43m,\u001b[49m\u001b[38;5;124;43m\"\u001b[39;49m\u001b[38;5;124;43msymboling\u001b[39;49m\u001b[38;5;124;43m\"\u001b[39;49m\u001b[43m)\u001b[49m\n",
      "File \u001b[1;32mC:\\JupyterDoc\\SOM\\dataset_read.py:513\u001b[0m, in \u001b[0;36mDATAREAD.initializedataset\u001b[1;34m(self, Z, X, Y, X_baseline_encoded, Y_baseline_encoded, attributute, unique_num)\u001b[0m\n\u001b[0;32m    510\u001b[0m  \u001b[38;5;28mprint\u001b[39m(\u001b[38;5;124mf\u001b[39m\u001b[38;5;124m\"\u001b[39m\u001b[38;5;124mdata_train \u001b[39m\u001b[38;5;132;01m{\u001b[39;00mdata_train\u001b[38;5;132;01m}\u001b[39;00m\u001b[38;5;124m\"\u001b[39m)\n\u001b[0;32m    511\u001b[0m  \u001b[38;5;66;03m#print(f\"self.data_discrete_indexes {self.data_discrete_indexes} \" )\u001b[39;00m\n\u001b[0;32m    512\u001b[0m \u001b[38;5;66;03m# transfer to numpy array\u001b[39;00m\n\u001b[1;32m--> 513\u001b[0m  \u001b[38;5;28mself\u001b[39m\u001b[38;5;241m.\u001b[39mdata_train \u001b[38;5;241m=\u001b[39m \u001b[43mdata_train\u001b[49m\u001b[38;5;241;43m.\u001b[39;49m\u001b[43mto_numpy\u001b[49m\u001b[43m(\u001b[49m\u001b[43mdtype\u001b[49m\u001b[38;5;241;43m=\u001b[39;49m\u001b[43mnp\u001b[49m\u001b[38;5;241;43m.\u001b[39;49m\u001b[43mfloat64\u001b[49m\u001b[43m)\u001b[49m\n\u001b[0;32m    514\u001b[0m  \u001b[38;5;28mself\u001b[39m\u001b[38;5;241m.\u001b[39mall_data\u001b[38;5;241m=\u001b[39m \u001b[38;5;28mself\u001b[39m\u001b[38;5;241m.\u001b[39mall_data\u001b[38;5;241m.\u001b[39mto_numpy(dtype\u001b[38;5;241m=\u001b[39mnp\u001b[38;5;241m.\u001b[39mfloat64)\n\u001b[0;32m    515\u001b[0m  \u001b[38;5;28mself\u001b[39m\u001b[38;5;241m.\u001b[39mdata_test \u001b[38;5;241m=\u001b[39m data_test\u001b[38;5;241m.\u001b[39mto_numpy(dtype\u001b[38;5;241m=\u001b[39mnp\u001b[38;5;241m.\u001b[39mfloat64)\n",
      "File \u001b[1;32m~\\anaconda3\\envs\\gpu_env\\lib\\site-packages\\pandas\\core\\frame.py:1656\u001b[0m, in \u001b[0;36mDataFrame.to_numpy\u001b[1;34m(self, dtype, copy, na_value)\u001b[0m\n\u001b[0;32m   1601\u001b[0m \u001b[38;5;250m\u001b[39m\u001b[38;5;124;03m\"\"\"\u001b[39;00m\n\u001b[0;32m   1602\u001b[0m \u001b[38;5;124;03mConvert the DataFrame to a NumPy array.\u001b[39;00m\n\u001b[0;32m   1603\u001b[0m \n\u001b[1;32m   (...)\u001b[0m\n\u001b[0;32m   1653\u001b[0m \u001b[38;5;124;03m       [2, 4.5, Timestamp('2000-01-02 00:00:00')]], dtype=object)\u001b[39;00m\n\u001b[0;32m   1654\u001b[0m \u001b[38;5;124;03m\"\"\"\u001b[39;00m\n\u001b[0;32m   1655\u001b[0m \u001b[38;5;28mself\u001b[39m\u001b[38;5;241m.\u001b[39m_consolidate_inplace()\n\u001b[1;32m-> 1656\u001b[0m result \u001b[38;5;241m=\u001b[39m \u001b[38;5;28;43mself\u001b[39;49m\u001b[38;5;241;43m.\u001b[39;49m\u001b[43m_mgr\u001b[49m\u001b[38;5;241;43m.\u001b[39;49m\u001b[43mas_array\u001b[49m\u001b[43m(\u001b[49m\n\u001b[0;32m   1657\u001b[0m \u001b[43m    \u001b[49m\u001b[43mtranspose\u001b[49m\u001b[38;5;241;43m=\u001b[39;49m\u001b[38;5;28;43mself\u001b[39;49m\u001b[38;5;241;43m.\u001b[39;49m\u001b[43m_AXIS_REVERSED\u001b[49m\u001b[43m,\u001b[49m\u001b[43m \u001b[49m\u001b[43mdtype\u001b[49m\u001b[38;5;241;43m=\u001b[39;49m\u001b[43mdtype\u001b[49m\u001b[43m,\u001b[49m\u001b[43m \u001b[49m\u001b[43mcopy\u001b[49m\u001b[38;5;241;43m=\u001b[39;49m\u001b[43mcopy\u001b[49m\u001b[43m,\u001b[49m\u001b[43m \u001b[49m\u001b[43mna_value\u001b[49m\u001b[38;5;241;43m=\u001b[39;49m\u001b[43mna_value\u001b[49m\n\u001b[0;32m   1658\u001b[0m \u001b[43m\u001b[49m\u001b[43m)\u001b[49m\n\u001b[0;32m   1659\u001b[0m \u001b[38;5;28;01mif\u001b[39;00m result\u001b[38;5;241m.\u001b[39mdtype \u001b[38;5;129;01mis\u001b[39;00m \u001b[38;5;129;01mnot\u001b[39;00m dtype:\n\u001b[0;32m   1660\u001b[0m     result \u001b[38;5;241m=\u001b[39m np\u001b[38;5;241m.\u001b[39marray(result, dtype\u001b[38;5;241m=\u001b[39mdtype, copy\u001b[38;5;241m=\u001b[39m\u001b[38;5;28;01mFalse\u001b[39;00m)\n",
      "File \u001b[1;32m~\\anaconda3\\envs\\gpu_env\\lib\\site-packages\\pandas\\core\\internals\\managers.py:1466\u001b[0m, in \u001b[0;36mBlockManager.as_array\u001b[1;34m(self, transpose, dtype, copy, na_value)\u001b[0m\n\u001b[0;32m   1464\u001b[0m             arr \u001b[38;5;241m=\u001b[39m arr\u001b[38;5;241m.\u001b[39mastype(dtype, copy\u001b[38;5;241m=\u001b[39m\u001b[38;5;28;01mFalse\u001b[39;00m)  \u001b[38;5;66;03m# type: ignore[arg-type]\u001b[39;00m\n\u001b[0;32m   1465\u001b[0m \u001b[38;5;28;01melse\u001b[39;00m:\n\u001b[1;32m-> 1466\u001b[0m     arr \u001b[38;5;241m=\u001b[39m \u001b[38;5;28;43mself\u001b[39;49m\u001b[38;5;241;43m.\u001b[39;49m\u001b[43m_interleave\u001b[49m\u001b[43m(\u001b[49m\u001b[43mdtype\u001b[49m\u001b[38;5;241;43m=\u001b[39;49m\u001b[43mdtype\u001b[49m\u001b[43m,\u001b[49m\u001b[43m \u001b[49m\u001b[43mna_value\u001b[49m\u001b[38;5;241;43m=\u001b[39;49m\u001b[43mna_value\u001b[49m\u001b[43m)\u001b[49m\n\u001b[0;32m   1467\u001b[0m     \u001b[38;5;66;03m# The underlying data was copied within _interleave\u001b[39;00m\n\u001b[0;32m   1468\u001b[0m     copy \u001b[38;5;241m=\u001b[39m \u001b[38;5;28;01mFalse\u001b[39;00m\n",
      "File \u001b[1;32m~\\anaconda3\\envs\\gpu_env\\lib\\site-packages\\pandas\\core\\internals\\managers.py:1521\u001b[0m, in \u001b[0;36mBlockManager._interleave\u001b[1;34m(self, dtype, na_value)\u001b[0m\n\u001b[0;32m   1516\u001b[0m     \u001b[38;5;28;01melse\u001b[39;00m:\n\u001b[0;32m   1517\u001b[0m         \u001b[38;5;66;03m# error: Argument 1 to \"get_values\" of \"Block\" has incompatible type\u001b[39;00m\n\u001b[0;32m   1518\u001b[0m         \u001b[38;5;66;03m# \"Union[ExtensionDtype, str, dtype[Any], Type[object], None]\"; expected\u001b[39;00m\n\u001b[0;32m   1519\u001b[0m         \u001b[38;5;66;03m# \"Union[dtype[Any], ExtensionDtype, None]\"\u001b[39;00m\n\u001b[0;32m   1520\u001b[0m         arr \u001b[38;5;241m=\u001b[39m blk\u001b[38;5;241m.\u001b[39mget_values(dtype)  \u001b[38;5;66;03m# type: ignore[arg-type]\u001b[39;00m\n\u001b[1;32m-> 1521\u001b[0m     result[rl\u001b[38;5;241m.\u001b[39mindexer] \u001b[38;5;241m=\u001b[39m arr\n\u001b[0;32m   1522\u001b[0m     itemmask[rl\u001b[38;5;241m.\u001b[39mindexer] \u001b[38;5;241m=\u001b[39m \u001b[38;5;241m1\u001b[39m\n\u001b[0;32m   1524\u001b[0m \u001b[38;5;28;01mif\u001b[39;00m \u001b[38;5;129;01mnot\u001b[39;00m itemmask\u001b[38;5;241m.\u001b[39mall():\n",
      "\u001b[1;31mValueError\u001b[0m: could not convert string to float: 'nissan teana'"
     ]
    }
   ],
   "source": [
    "csv = pd.read_csv(\"CarPrice_Assignment.csv\",encoding='latin-1')\n",
    "csv = csv.drop(columns=['car_ID'])\n",
    "\n",
    "csv_original_encode = csv\n",
    "\n",
    "\n",
    "# class label do not need to onehot encoding, label ercoding will be OK\n",
    "dataread.label_encoding(csv_original_encode,\"symboling\")\n",
    "\n",
    "dataread.binary_encoding(csv_original_encode,[\"CarName\",\"carbody\",\"drivewheel\",\"fueltype\",\"aspiration\",\"doornumber\",\"cylindernumber\",\"enginelocation\",\"enginetype\",\"fuelsystem\"])\n",
    "       \n",
    "dataread.label_encoding(csv,\"CarName\")\n",
    "dataread.label_encoding(csv,\"carbody\")\n",
    "dataread.label_encoding(csv,\"drivewheel\")\n",
    "dataread.label_encoding(csv,\"fueltype\")\n",
    "dataread.label_encoding(csv,\"aspiration\")\n",
    "dataread.label_encoding(csv,\"doornumber\")\n",
    "dataread.label_encoding(csv,\"cylindernumber\")\n",
    "dataread.label_encoding(csv,\"enginelocation\")\n",
    "dataread.label_encoding(csv,\"enginetype\")\n",
    "dataread.label_encoding(csv,\"fuelsystem\")    \n",
    "    \n",
    "    \n",
    "csv_test = csv.sample(int(csv.shape[0]*0.3))\n",
    "csv_training = csv.drop(csv_test.index,axis = 0)\n",
    "\n",
    "csv_test_original_encoded = dataread.original_encoding_data.sample(int(dataread.original_encoding_data.shape[0]*0.3))\n",
    "csv_training_original_encoded = dataread.original_encoding_data.drop(csv_test_original_encoded.index,axis = 0)\n",
    "\n",
    "dataread.initializedataset(csv,csv_training,csv_test,csv_training_original_encoded,csv_test_original_encoded,\"symboling\")\n",
    "\n"
   ]
  },
  {
   "cell_type": "code",
   "execution_count": null,
   "id": "45e3f606",
   "metadata": {},
   "outputs": [],
   "source": []
  }
 ],
 "metadata": {
  "kernelspec": {
   "display_name": "Python (GPU)",
   "language": "python",
   "name": "gpu_env"
  },
  "language_info": {
   "codemirror_mode": {
    "name": "ipython",
    "version": 3
   },
   "file_extension": ".py",
   "mimetype": "text/x-python",
   "name": "python",
   "nbconvert_exporter": "python",
   "pygments_lexer": "ipython3",
   "version": "3.9.12"
  }
 },
 "nbformat": 4,
 "nbformat_minor": 5
}
