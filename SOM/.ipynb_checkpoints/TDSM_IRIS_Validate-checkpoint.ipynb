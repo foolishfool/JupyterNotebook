{
 "cells": [
  {
   "cell_type": "code",
   "execution_count": 1,
   "id": "e9d34dde",
   "metadata": {},
   "outputs": [],
   "source": [
    "#THIS CODE ONLY DO THE WHOLE DATA TRAINING, NO CROSS_VALIDATION AND FEATURE SELECTION\n",
    "import pandas as pd\n",
    "import numpy as np\n",
    "import newSom\n",
    "import UTDSM\n",
    "import dataset_read\n",
    "import researchpy as rp\n",
    "import scipy.stats as stats\n",
    "import matplotlib.pyplot as plt\n",
    "import collections\n",
    "import warnings\n",
    "import experiment\n",
    "warnings.filterwarnings(\"ignore\", category=np.VisibleDeprecationWarning) "
   ]
  },
  {
   "cell_type": "code",
   "execution_count": 2,
   "id": "6aee060f",
   "metadata": {},
   "outputs": [],
   "source": [
    "dataread = dataset_read.DATAREAD()"
   ]
  },
  {
   "cell_type": "code",
   "execution_count": 3,
   "id": "de6b4ea1",
   "metadata": {},
   "outputs": [],
   "source": [
    "csv = pd.read_csv(\"Iris.csv\")\n",
    "csv = csv.drop(columns=['Id'])\n",
    "dataread.stringToIntIrisDataSet(csv,\"Species\")\n",
    "csv_test = csv.sample(int(csv.shape[0]*0.3))\n",
    "csv_training = csv.drop(csv_test.index,axis = 0)\n",
    "dataread.initializedataset(csv_training,csv_test,\"Species\")\n",
    "\n",
    "#print(\"self.data_train len {}\".format(len(dataread.data_train)))"
   ]
  },
  {
   "cell_type": "code",
   "execution_count": 7,
   "id": "6dad8085",
   "metadata": {
    "scrolled": true
   },
   "outputs": [
    {
     "name": "stdout",
     "output_type": "stream",
     "text": [
      "all_train_score_W0_n 0.42173696346589745\n",
      "all_train_score_W0_a 0.38734192985734756\n",
      "test_score_W0_n 0.3893897230380866\n",
      "test_score_W0_a  0.29999280937657297\n",
      "all_train_score_W_Combined_n 0.3762860229934911\n",
      "all_train_score_W_Combined_a 0.29286583298430363\n",
      "test_score_W_combined_n 0.22673107604428125\n",
      "test_score_W_combined_a 0.1409070026908184\n",
      "Combine Neurons Number :20\n"
     ]
    }
   ],
   "source": [
    "import experiment\n",
    "unstable_repeate_num= 20\n",
    "scope_num = 1\n",
    "class_num = 3\n",
    "dim_num = 4\n",
    "\n",
    "total_label_train = []\n",
    "\n",
    "for i in range(0,len(dataread.data_train)):\n",
    "    total_label_train.append(i)\n",
    "\n",
    "som = newSom.SOM(m= class_num, n=  scope_num, dim=dim_num)  \n",
    "optimize_W = UTDSM.UTDSM_SOM(som,dataread.data_train,dataread.data_test,dataread.label_train,dataread.label_test,class_num)\n",
    "optimize_W.run(  total_label_train  )       \n",
    "\n",
    "\n",
    "#experiment = experiment.Experiment()\n",
    "#experiment.UTtest(dataread,class_num, dim_num, scope_num,unstable_repeate_num)"
   ]
  },
  {
   "cell_type": "code",
   "execution_count": null,
   "id": "6d25b4ac",
   "metadata": {},
   "outputs": [],
   "source": []
  },
  {
   "cell_type": "code",
   "execution_count": null,
   "id": "9821b3ca",
   "metadata": {},
   "outputs": [],
   "source": []
  },
  {
   "cell_type": "code",
   "execution_count": null,
   "id": "82abd10c",
   "metadata": {},
   "outputs": [],
   "source": []
  }
 ],
 "metadata": {
  "kernelspec": {
   "display_name": "Python 3 (ipykernel)",
   "language": "python",
   "name": "python3"
  },
  "language_info": {
   "codemirror_mode": {
    "name": "ipython",
    "version": 3
   },
   "file_extension": ".py",
   "mimetype": "text/x-python",
   "name": "python",
   "nbconvert_exporter": "python",
   "pygments_lexer": "ipython3",
   "version": "3.9.12"
  }
 },
 "nbformat": 4,
 "nbformat_minor": 5
}
