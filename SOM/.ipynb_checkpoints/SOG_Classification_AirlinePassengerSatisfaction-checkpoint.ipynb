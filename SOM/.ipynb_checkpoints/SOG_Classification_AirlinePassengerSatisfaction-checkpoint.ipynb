{
 "cells": [
  {
   "cell_type": "code",
   "execution_count": 1,
   "id": "1da0a0c5",
   "metadata": {
    "scrolled": false
   },
   "outputs": [
    {
     "name": "stderr",
     "output_type": "stream",
     "text": [
      "C:\\Users\\fooli\\anaconda3\\envs\\gpu_env\\lib\\site-packages\\scipy\\__init__.py:132: UserWarning: A NumPy version >=1.21.6 and <1.28.0 is required for this version of SciPy (detected version 1.21.4)\n",
      "  warnings.warn(f\"A NumPy version >={np_minversion} and <{np_maxversion}\"\n"
     ]
    }
   ],
   "source": [
    "#THIS CODE ONLY DO THE WHOLE DATA TRAINING, NO CROSS_VALIDATION AND FEATURE SELECTION\n",
    "\n",
    "import warnings\n",
    "warnings.filterwarnings(\"ignore\", message=\".*The 'nopython' keyword.*\")\n",
    "import pandas as pd\n",
    "import numpy as np\n",
    "import newSom\n",
    "import CDSOM\n",
    "import dataset_read\n",
    "import researchpy as rp\n",
    "import scipy.stats as stats\n",
    "import matplotlib.pyplot as plt\n",
    "import collections\n",
    "import warnings\n",
    "import experiment\n",
    "warnings.filterwarnings(\"ignore\", category=np.VisibleDeprecationWarning) "
   ]
  },
  {
   "cell_type": "code",
   "execution_count": 2,
   "id": "de2e9c01",
   "metadata": {},
   "outputs": [],
   "source": [
    "dataread = dataset_read.DATAREAD()"
   ]
  },
  {
   "cell_type": "code",
   "execution_count": 4,
   "id": "1241e0cc",
   "metadata": {
    "scrolled": true
   },
   "outputs": [
    {
     "ename": "KeyError",
     "evalue": "1",
     "output_type": "error",
     "traceback": [
      "\u001b[1;31m---------------------------------------------------------------------------\u001b[0m",
      "\u001b[1;31mKeyError\u001b[0m                                  Traceback (most recent call last)",
      "Cell \u001b[1;32mIn[4], line 8\u001b[0m\n\u001b[0;32m      4\u001b[0m csv \u001b[38;5;241m=\u001b[39m csv\u001b[38;5;241m.\u001b[39mdrop(columns\u001b[38;5;241m=\u001b[39m[\u001b[38;5;124m'\u001b[39m\u001b[38;5;124mid\u001b[39m\u001b[38;5;124m'\u001b[39m])\n\u001b[0;32m      5\u001b[0m csv2 \u001b[38;5;241m=\u001b[39m csv2\u001b[38;5;241m.\u001b[39mdrop(columns\u001b[38;5;241m=\u001b[39m[\u001b[38;5;124m'\u001b[39m\u001b[38;5;124mid\u001b[39m\u001b[38;5;124m'\u001b[39m])   \n\u001b[1;32m----> 8\u001b[0m \u001b[43mdataread\u001b[49m\u001b[38;5;241;43m.\u001b[39;49m\u001b[43mstringToIntAirlinePassengerSatisfactionDataSet\u001b[49m\u001b[43m(\u001b[49m\u001b[43mcsv\u001b[49m\u001b[43m,\u001b[49m\u001b[38;5;124;43m\"\u001b[39;49m\u001b[38;5;124;43mArrival Delay in Minutes\u001b[39;49m\u001b[38;5;124;43m\"\u001b[39;49m\u001b[43m)\u001b[49m\n\u001b[0;32m      9\u001b[0m dataread\u001b[38;5;241m.\u001b[39mstringToIntAirlinePassengerSatisfactionDataSet(csv2,\u001b[38;5;124m\"\u001b[39m\u001b[38;5;124mArrival Delay in Minutes\u001b[39m\u001b[38;5;124m\"\u001b[39m)\n\u001b[0;32m     13\u001b[0m dataread\u001b[38;5;241m.\u001b[39mlabel_encoding(csv,\u001b[38;5;124m\"\u001b[39m\u001b[38;5;124mGender\u001b[39m\u001b[38;5;124m\"\u001b[39m)\n",
      "File \u001b[1;32mC:\\JupyterDoc\\SOM\\dataset_read.py:165\u001b[0m, in \u001b[0;36mDATAREAD.stringToIntAirlinePassengerSatisfactionDataSet\u001b[1;34m(self, X, name)\u001b[0m\n\u001b[0;32m    162\u001b[0m \u001b[38;5;66;03m#print(X[name])\u001b[39;00m\n\u001b[0;32m    163\u001b[0m \u001b[38;5;28;01mfor\u001b[39;00m i \u001b[38;5;129;01min\u001b[39;00m \u001b[38;5;28mrange\u001b[39m(\u001b[38;5;241m0\u001b[39m, X\u001b[38;5;241m.\u001b[39mshape[\u001b[38;5;241m0\u001b[39m]):\n\u001b[1;32m--> 165\u001b[0m     \u001b[38;5;28;01mif\u001b[39;00m  \u001b[43mX\u001b[49m\u001b[38;5;241;43m.\u001b[39;49m\u001b[43mat\u001b[49m\u001b[43m[\u001b[49m\u001b[43mi\u001b[49m\u001b[43m,\u001b[49m\u001b[43mname\u001b[49m\u001b[43m]\u001b[49m\u001b[38;5;241m==\u001b[39m \u001b[38;5;124m'\u001b[39m\u001b[38;5;124m'\u001b[39m   \u001b[38;5;129;01mor\u001b[39;00m  X\u001b[38;5;241m.\u001b[39mat[i,name]\u001b[38;5;241m==\u001b[39m \u001b[38;5;124m'\u001b[39m\u001b[38;5;124mnan\u001b[39m\u001b[38;5;124m'\u001b[39m:\n\u001b[0;32m    166\u001b[0m         X\u001b[38;5;241m.\u001b[39mat[i,name]\u001b[38;5;241m=\u001b[39m \u001b[38;5;241m-\u001b[39m\u001b[38;5;241m1\u001b[39m   \n\u001b[0;32m    167\u001b[0m     \u001b[38;5;28;01melif\u001b[39;00m X\u001b[38;5;241m.\u001b[39mat[i,name]\u001b[38;5;241m==\u001b[39m \u001b[38;5;124m'\u001b[39m\u001b[38;5;124mMale\u001b[39m\u001b[38;5;124m'\u001b[39m \u001b[38;5;129;01mor\u001b[39;00m  X\u001b[38;5;241m.\u001b[39mat[i,name]\u001b[38;5;241m==\u001b[39m \u001b[38;5;124m'\u001b[39m\u001b[38;5;124mLoyal Customer\u001b[39m\u001b[38;5;124m'\u001b[39m \u001b[38;5;129;01mor\u001b[39;00m  X\u001b[38;5;241m.\u001b[39mat[i,name]\u001b[38;5;241m==\u001b[39m \u001b[38;5;124m'\u001b[39m\u001b[38;5;124mBusiness travel\u001b[39m\u001b[38;5;124m'\u001b[39m \u001b[38;5;129;01mor\u001b[39;00m  X\u001b[38;5;241m.\u001b[39mat[i,name]\u001b[38;5;241m==\u001b[39m \u001b[38;5;124m'\u001b[39m\u001b[38;5;124mneutral or dissatisfied\u001b[39m\u001b[38;5;124m'\u001b[39m\u001b[38;5;129;01mor\u001b[39;00m  X\u001b[38;5;241m.\u001b[39mat[i,name]\u001b[38;5;241m==\u001b[39m \u001b[38;5;124m'\u001b[39m\u001b[38;5;124mEco Plus\u001b[39m\u001b[38;5;124m'\u001b[39m:\n",
      "File \u001b[1;32m~\\anaconda3\\envs\\gpu_env\\lib\\site-packages\\pandas\\core\\indexing.py:2275\u001b[0m, in \u001b[0;36m_AtIndexer.__getitem__\u001b[1;34m(self, key)\u001b[0m\n\u001b[0;32m   2272\u001b[0m         \u001b[38;5;28;01mraise\u001b[39;00m \u001b[38;5;167;01mValueError\u001b[39;00m(\u001b[38;5;124m\"\u001b[39m\u001b[38;5;124mInvalid call for scalar access (getting)!\u001b[39m\u001b[38;5;124m\"\u001b[39m)\n\u001b[0;32m   2273\u001b[0m     \u001b[38;5;28;01mreturn\u001b[39;00m \u001b[38;5;28mself\u001b[39m\u001b[38;5;241m.\u001b[39mobj\u001b[38;5;241m.\u001b[39mloc[key]\n\u001b[1;32m-> 2275\u001b[0m \u001b[38;5;28;01mreturn\u001b[39;00m \u001b[38;5;28;43msuper\u001b[39;49m\u001b[43m(\u001b[49m\u001b[43m)\u001b[49m\u001b[38;5;241;43m.\u001b[39;49m\u001b[38;5;21;43m__getitem__\u001b[39;49m\u001b[43m(\u001b[49m\u001b[43mkey\u001b[49m\u001b[43m)\u001b[49m\n",
      "File \u001b[1;32m~\\anaconda3\\envs\\gpu_env\\lib\\site-packages\\pandas\\core\\indexing.py:2222\u001b[0m, in \u001b[0;36m_ScalarAccessIndexer.__getitem__\u001b[1;34m(self, key)\u001b[0m\n\u001b[0;32m   2219\u001b[0m         \u001b[38;5;28;01mraise\u001b[39;00m \u001b[38;5;167;01mValueError\u001b[39;00m(\u001b[38;5;124m\"\u001b[39m\u001b[38;5;124mInvalid call for scalar access (getting)!\u001b[39m\u001b[38;5;124m\"\u001b[39m)\n\u001b[0;32m   2221\u001b[0m key \u001b[38;5;241m=\u001b[39m \u001b[38;5;28mself\u001b[39m\u001b[38;5;241m.\u001b[39m_convert_key(key)\n\u001b[1;32m-> 2222\u001b[0m \u001b[38;5;28;01mreturn\u001b[39;00m \u001b[38;5;28;43mself\u001b[39;49m\u001b[38;5;241;43m.\u001b[39;49m\u001b[43mobj\u001b[49m\u001b[38;5;241;43m.\u001b[39;49m\u001b[43m_get_value\u001b[49m\u001b[43m(\u001b[49m\u001b[38;5;241;43m*\u001b[39;49m\u001b[43mkey\u001b[49m\u001b[43m,\u001b[49m\u001b[43m \u001b[49m\u001b[43mtakeable\u001b[49m\u001b[38;5;241;43m=\u001b[39;49m\u001b[38;5;28;43mself\u001b[39;49m\u001b[38;5;241;43m.\u001b[39;49m\u001b[43m_takeable\u001b[49m\u001b[43m)\u001b[49m\n",
      "File \u001b[1;32m~\\anaconda3\\envs\\gpu_env\\lib\\site-packages\\pandas\\core\\frame.py:3579\u001b[0m, in \u001b[0;36mDataFrame._get_value\u001b[1;34m(self, index, col, takeable)\u001b[0m\n\u001b[0;32m   3576\u001b[0m     \u001b[38;5;28;01mreturn\u001b[39;00m \u001b[38;5;28mself\u001b[39m\u001b[38;5;241m.\u001b[39m_get_value(index, col, takeable\u001b[38;5;241m=\u001b[39m\u001b[38;5;28;01mTrue\u001b[39;00m)\n\u001b[0;32m   3578\u001b[0m \u001b[38;5;28;01mtry\u001b[39;00m:\n\u001b[1;32m-> 3579\u001b[0m     loc \u001b[38;5;241m=\u001b[39m \u001b[43mengine\u001b[49m\u001b[38;5;241;43m.\u001b[39;49m\u001b[43mget_loc\u001b[49m\u001b[43m(\u001b[49m\u001b[43mindex\u001b[49m\u001b[43m)\u001b[49m\n\u001b[0;32m   3580\u001b[0m     \u001b[38;5;28;01mreturn\u001b[39;00m series\u001b[38;5;241m.\u001b[39m_values[loc]\n\u001b[0;32m   3581\u001b[0m \u001b[38;5;28;01mexcept\u001b[39;00m \u001b[38;5;167;01mAttributeError\u001b[39;00m:\n\u001b[0;32m   3582\u001b[0m     \u001b[38;5;66;03m# IntervalTree has no get_loc\u001b[39;00m\n",
      "File \u001b[1;32m~\\anaconda3\\envs\\gpu_env\\lib\\site-packages\\pandas\\_libs\\index.pyx:76\u001b[0m, in \u001b[0;36mpandas._libs.index.IndexEngine.get_loc\u001b[1;34m()\u001b[0m\n",
      "File \u001b[1;32m~\\anaconda3\\envs\\gpu_env\\lib\\site-packages\\pandas\\_libs\\index.pyx:108\u001b[0m, in \u001b[0;36mpandas._libs.index.IndexEngine.get_loc\u001b[1;34m()\u001b[0m\n",
      "File \u001b[1;32mpandas\\_libs\\hashtable_class_helper.pxi:2131\u001b[0m, in \u001b[0;36mpandas._libs.hashtable.Int64HashTable.get_item\u001b[1;34m()\u001b[0m\n",
      "File \u001b[1;32mpandas\\_libs\\hashtable_class_helper.pxi:2140\u001b[0m, in \u001b[0;36mpandas._libs.hashtable.Int64HashTable.get_item\u001b[1;34m()\u001b[0m\n",
      "\u001b[1;31mKeyError\u001b[0m: 1"
     ]
    }
   ],
   "source": [
    "csv = pd.read_csv(\"Airline Passenger Satisfaction/train.csv\")\n",
    "csv2 = pd.read_csv(\"Airline Passenger Satisfaction/test.csv\")\n",
    "csv = csv.sample(int(csv.shape[0]*0.5))\n",
    "csv = csv.drop(columns=['id'])\n",
    "csv2 = csv2.drop(columns=['id'])   \n",
    "\n",
    "\n",
    "#dataread.stringToIntAirlinePassengerSatisfactionDataSet(csv,\"Arrival Delay in Minutes\")\n",
    "#dataread.stringToIntAirlinePassengerSatisfactionDataSet(csv2,\"Arrival Delay in Minutes\")\n",
    "\n",
    "\n",
    "\n",
    "dataread.label_encoding(csv,\"Gender\")\n",
    "dataread.label_encoding(csv,\"Customer Type\")\n",
    "dataread.label_encoding(csv,\"Type of Travel\")\n",
    "dataread.label_encoding(csv,\"Class\")\n",
    "dataread.label_encoding(csv,\"satisfaction\")\n",
    "\n",
    "\n",
    "dataread.label_encoding(csv2,\"Gender\")\n",
    "dataread.label_encoding(csv2,\"Customer Type\")\n",
    "dataread.label_encoding(csv2,\"Type of Travel\")\n",
    "dataread.label_encoding(csv2,\"Class\")\n",
    "dataread.label_encoding(csv2,\"satisfaction\")\n",
    "\n",
    "#print(csv)\n",
    "csv_training = csv.sample(int(csv.shape[0]*0.03))\n",
    "csv_test = csv2.sample(int(csv2.shape[0]*0.1))\n",
    "\n",
    "dataread.initializedataset(csv,csv_training,csv_test,\"satisfaction\")\n"
   ]
  },
  {
   "cell_type": "code",
   "execution_count": null,
   "id": "89d13af0",
   "metadata": {
    "scrolled": true
   },
   "outputs": [],
   "source": [
    "#LogisticRegression\n",
    "\n",
    "import experiment\n",
    "unstable_repeat_num= 30\n",
    "scope_num = 100\n",
    "class_num = 2\n",
    "dim_num = 7\n",
    "best_num = 48\n",
    "interval = 1\n",
    "\n",
    "features_chosen = [0,1,2,3,4,5,6,7,8,9,10,11,12,13,14,15,16,17]\n",
    "feature_combination_number = 2\n",
    "experiment = experiment.Experiment()\n",
    "experiment.UTtest_Discrete(dataread,class_num,unstable_repeat_num,interval,features_chosen,feature_combination_number)"
   ]
  },
  {
   "cell_type": "code",
   "execution_count": null,
   "id": "0b500f69",
   "metadata": {},
   "outputs": [],
   "source": [
    "dataread.PCA_Comparision() \n",
    "# 0-10 1, 5, 4, 6, 9 |7, 0, 1, 8, 11, 3, 13, 12|5, 0, 1, 12, 8, 2, 7, 10, 3, 9|9, 2, 5, 10, 1, 0, 3, 12, 7, 11|11, 16, 2, 12, 9, 5, 0, 14, 10, 15, 7|\n",
    "#12, 16, 7, 17, 14, 13, 15, 2, 8, 6|13, 16, 6, 14, 11, 3, 9, 12, 4|9, 15, 8, 14, 12, 10, 17, 16, 3|14, 9, 13, 10, 8, 5, 4, 15, 12, 17|14, 6, 4, 17, 12, 8, 13, 15, 10, 16, 7, 1, 11, 2|\n",
    "15, 11, 13, 6, 8, 5, 2, 14, 12, 17"
   ]
  },
  {
   "cell_type": "code",
   "execution_count": null,
   "id": "08ceea2a",
   "metadata": {},
   "outputs": [],
   "source": []
  }
 ],
 "metadata": {
  "kernelspec": {
   "display_name": "Python (GPU)",
   "language": "python",
   "name": "gpu_env"
  },
  "language_info": {
   "codemirror_mode": {
    "name": "ipython",
    "version": 3
   },
   "file_extension": ".py",
   "mimetype": "text/x-python",
   "name": "python",
   "nbconvert_exporter": "python",
   "pygments_lexer": "ipython3",
   "version": "3.9.18"
  }
 },
 "nbformat": 4,
 "nbformat_minor": 5
}
