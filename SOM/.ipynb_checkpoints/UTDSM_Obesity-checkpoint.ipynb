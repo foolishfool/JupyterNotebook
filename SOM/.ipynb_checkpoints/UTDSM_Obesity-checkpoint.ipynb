{
 "cells": [
  {
   "cell_type": "code",
   "execution_count": 1,
   "id": "e9d34dde",
   "metadata": {},
   "outputs": [],
   "source": [
    "#THIS CODE ONLY DO THE WHOLE DATA TRAINING, NO CROSS_VALIDATION AND FEATURE SELECTION\n",
    "import pandas as pd\n",
    "import numpy as np\n",
    "import newSom\n",
    "import UTDSM\n",
    "import dataset_read\n",
    "import experiment\n",
    "import researchpy as rp\n",
    "import scipy.stats as stats\n",
    "import matplotlib.pyplot as plt\n",
    "import collections\n",
    "import warnings\n",
    "warnings.filterwarnings(\"ignore\", category=np.VisibleDeprecationWarning) "
   ]
  },
  {
   "cell_type": "code",
   "execution_count": 2,
   "id": "6aee060f",
   "metadata": {},
   "outputs": [],
   "source": [
    "dataread = dataset_read.DATAREAD()"
   ]
  },
  {
   "cell_type": "code",
   "execution_count": 3,
   "id": "de6b4ea1",
   "metadata": {},
   "outputs": [],
   "source": [
    "csv = pd.read_csv(\"Obesity/ObesityDataSet_raw_and_data_sinthetic.csv\")\n",
    "#dataread.stringToIntObseityDataSet(csv,\"CAEC\")\n",
    "#dataread.stringToIntObseityDataSet(csv,\"Gender\")\n",
    "#dataread.stringToIntObseityDataSet(csv,\"family_history_with_overweight\")\n",
    "#dataread.stringToIntObseityDataSet(csv,\"FAVC\")\n",
    "#dataread.stringToIntObseityDataSet(csv,\"SCC\")\n",
    "#dataread.stringToIntObseityDataSet(csv,\"SMOKE\")\n",
    "#dataread.stringToIntObseityDataSet(csv,\"CALC\")\n",
    "#dataread.stringToIntObseityDataSet(csv,\"MTRANS\")\n",
    "dataread.stringToIntObseityDataSet(csv,\"NObeyesdad\")\n",
    "\n",
    "\n",
    "csv = csv.drop(columns=['Gender'])\n",
    "csv = csv.drop(columns=['family_history_with_overweight'])\n",
    "csv = csv.drop(columns=['FAVC'])\n",
    "csv = csv.drop(columns=['CAEC'])\n",
    "csv = csv.drop(columns=['SMOKE'])\n",
    "csv = csv.drop(columns=['SCC'])\n",
    "csv = csv.drop(columns=['CALC'])\n",
    "csv = csv.drop(columns=['MTRANS'])\n",
    "\n",
    "csv_test = csv.sample(int(csv.shape[0]*0.3))\n",
    "csv_training = csv.drop(csv_test.index,axis = 0)\n",
    "dataread.initializedataset(csv_training,csv_test,\"NObeyesdad\")"
   ]
  },
  {
   "cell_type": "code",
   "execution_count": 4,
   "id": "443834f9",
   "metadata": {
    "scrolled": false
   },
   "outputs": [
    {
     "ename": "SyntaxError",
     "evalue": "invalid character '，' (U+FF0C) (107169906.py, line 22)",
     "output_type": "error",
     "traceback": [
      "\u001b[1;36m  Input \u001b[1;32mIn [4]\u001b[1;36m\u001b[0m\n\u001b[1;33m    experiment.UTtest(dataread,total_label_train,class_num, dim_num,best_num, scope_num,unstable_repeat_num,0,elbow_num，row,column)\u001b[0m\n\u001b[1;37m                                                                                                                       ^\u001b[0m\n\u001b[1;31mSyntaxError\u001b[0m\u001b[1;31m:\u001b[0m invalid character '，' (U+FF0C)\n"
     ]
    }
   ],
   "source": [
    "import experiment\n",
    "unstable_repeat_num= 30\n",
    "scope_num = 37\n",
    "class_num = 7\n",
    "dim_num = 8\n",
    "row = 2\n",
    "column  = 4\n",
    "best_num = 15\n",
    "total_label_train = []\n",
    "elbow_num = 1\n",
    "print(len(dataread.data_train))\n",
    "for i in range(0,len(dataread.data_train)):\n",
    "    total_label_train.append(i)\n",
    "\n",
    "#som = newSom.SOM(m= class_num, n=  scope_num, dim=dim_num)  \n",
    "#optimize_W = UTDSM.UTDSM_SOM(som,dataread.data_train,dataread.data_test,dataread.label_train,dataread.label_test,class_num,row,column)\n",
    "#optimize_W.run( )     \n",
    "\n",
    "\n",
    "\n",
    "experiment = experiment.Experiment()\n",
    "experiment.UTtest(dataread,total_label_train,class_num, dim_num,best_num, scope_num,unstable_repeat_num,0,elbow_num ,row,column)"
   ]
  },
  {
   "cell_type": "code",
   "execution_count": null,
   "id": "9c8a7034",
   "metadata": {},
   "outputs": [],
   "source": []
  },
  {
   "cell_type": "code",
   "execution_count": null,
   "id": "6c41003b",
   "metadata": {},
   "outputs": [],
   "source": []
  }
 ],
 "metadata": {
  "kernelspec": {
   "display_name": "Python 3 (ipykernel)",
   "language": "python",
   "name": "python3"
  },
  "language_info": {
   "codemirror_mode": {
    "name": "ipython",
    "version": 3
   },
   "file_extension": ".py",
   "mimetype": "text/x-python",
   "name": "python",
   "nbconvert_exporter": "python",
   "pygments_lexer": "ipython3",
   "version": "3.9.12"
  }
 },
 "nbformat": 4,
 "nbformat_minor": 5
}
