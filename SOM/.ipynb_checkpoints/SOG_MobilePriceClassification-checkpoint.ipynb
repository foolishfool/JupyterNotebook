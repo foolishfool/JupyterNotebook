{
 "cells": [
  {
   "cell_type": "code",
   "execution_count": 1,
   "id": "70938904",
   "metadata": {},
   "outputs": [],
   "source": [
    "#THIS CODE ONLY DO THE WHOLE DATA TRAINING, NO CROSS_VALIDATION AND FEATURE SELECTION\n",
    "\n",
    "import pandas as pd\n",
    "import numpy as np\n",
    "import newSom \n",
    "import experiment\n",
    "import dataset_read\n",
    "import researchpy as rp\n",
    "import scipy.stats as stats\n",
    "import matplotlib.pyplot as plt\n",
    "import collections\n",
    "import warnings\n",
    "warnings.filterwarnings(\"ignore\", category=np.VisibleDeprecationWarning) "
   ]
  },
  {
   "cell_type": "code",
   "execution_count": 2,
   "id": "de64a819",
   "metadata": {},
   "outputs": [],
   "source": [
    "dataread = dataset_read.DATAREAD()"
   ]
  },
  {
   "cell_type": "code",
   "execution_count": 3,
   "id": "dc8c2eb9",
   "metadata": {},
   "outputs": [
    {
     "ename": "AttributeError",
     "evalue": "'DATAREAD' object has no attribute 'original_encoding_data'",
     "output_type": "error",
     "traceback": [
      "\u001b[1;31m---------------------------------------------------------------------------\u001b[0m",
      "\u001b[1;31mAttributeError\u001b[0m                            Traceback (most recent call last)",
      "Cell \u001b[1;32mIn[3], line 8\u001b[0m\n\u001b[0;32m      5\u001b[0m csv_test \u001b[38;5;241m=\u001b[39m csv\u001b[38;5;241m.\u001b[39msample(\u001b[38;5;28mint\u001b[39m(csv\u001b[38;5;241m.\u001b[39mshape[\u001b[38;5;241m0\u001b[39m]\u001b[38;5;241m*\u001b[39m\u001b[38;5;241m0.3\u001b[39m))\n\u001b[0;32m      6\u001b[0m csv_training \u001b[38;5;241m=\u001b[39m csv\u001b[38;5;241m.\u001b[39mdrop(csv_test\u001b[38;5;241m.\u001b[39mindex,axis \u001b[38;5;241m=\u001b[39m \u001b[38;5;241m0\u001b[39m)\n\u001b[1;32m----> 8\u001b[0m csv_test_original_encoded \u001b[38;5;241m=\u001b[39m \u001b[43mdataread\u001b[49m\u001b[38;5;241;43m.\u001b[39;49m\u001b[43moriginal_encoding_data\u001b[49m\u001b[38;5;241m.\u001b[39msample(\u001b[38;5;28mint\u001b[39m(dataread\u001b[38;5;241m.\u001b[39moriginal_encoding_data\u001b[38;5;241m.\u001b[39mshape[\u001b[38;5;241m0\u001b[39m]\u001b[38;5;241m*\u001b[39m\u001b[38;5;241m0.3\u001b[39m))\n\u001b[0;32m      9\u001b[0m csv_training_original_encoded \u001b[38;5;241m=\u001b[39m dataread\u001b[38;5;241m.\u001b[39moriginal_encoding_data\u001b[38;5;241m.\u001b[39mdrop(csv_test_original_encoded\u001b[38;5;241m.\u001b[39mindex,axis \u001b[38;5;241m=\u001b[39m \u001b[38;5;241m0\u001b[39m)\n\u001b[0;32m     11\u001b[0m dataread\u001b[38;5;241m.\u001b[39minitializedataset(csv,csv_training,csv_test,csv_training_original_encoded,csv_test_original_encoded,\u001b[38;5;124m\"\u001b[39m\u001b[38;5;124mprice_range\u001b[39m\u001b[38;5;124m\"\u001b[39m)\n",
      "\u001b[1;31mAttributeError\u001b[0m: 'DATAREAD' object has no attribute 'original_encoding_data'"
     ]
    }
   ],
   "source": [
    "csv = pd.read_csv(\"Mobile Price Classification/train.csv\")\n",
    "csv_original_encode = csv\n",
    "\n",
    "dataread.binary_encoding(csv_original_encode,[\"blue\",\"dual_sim\",\"fc\",\"four_g\",\"mobile_wt\",\"n_cores\",\"sc_h\",\"sc_w\",\"talk_time\",\"three_g\",\"touch_screen\",\"wifi\"])\n",
    "\n",
    "\n",
    "csv_test = csv.sample(int(csv.shape[0]*0.3))\n",
    "csv_training = csv.drop(csv_test.index,axis = 0)\n",
    "\n",
    "csv_test_original_encoded = dataread.original_encoding_data.sample(int(dataread.original_encoding_data.shape[0]*0.3))\n",
    "csv_training_original_encoded = dataread.original_encoding_data.drop(csv_test_original_encoded.index,axis = 0)\n",
    "\n",
    "dataread.initializedataset(csv,csv_training,csv_test,csv_training_original_encoded,csv_test_original_encoded,\"price_range\")\n"
   ]
  },
  {
   "cell_type": "code",
   "execution_count": null,
   "id": "8077adc2",
   "metadata": {},
   "outputs": [],
   "source": [
    "import experiment\n",
    "\n",
    "unstable_repeat_num= 30\n",
    "scope_num = 100\n",
    "class_num = 5\n",
    "best_num = 30\n",
    "interval = 5\n",
    "\n",
    "experiment = experiment.Experiment()\n",
    "experiment.UTtest_Discrete_Continuous(dataread,class_num,best_num, scope_num,unstable_repeat_num,0,interval,2,4)"
   ]
  }
 ],
 "metadata": {
  "kernelspec": {
   "display_name": "Python (GPU)",
   "language": "python",
   "name": "gpu_env"
  },
  "language_info": {
   "codemirror_mode": {
    "name": "ipython",
    "version": 3
   },
   "file_extension": ".py",
   "mimetype": "text/x-python",
   "name": "python",
   "nbconvert_exporter": "python",
   "pygments_lexer": "ipython3",
   "version": "3.9.12"
  }
 },
 "nbformat": 4,
 "nbformat_minor": 5
}
