{
 "cells": [
  {
   "cell_type": "code",
   "execution_count": 1,
   "id": "e9d34dde",
   "metadata": {},
   "outputs": [],
   "source": [
    "#THIS CODE ONLY DO THE WHOLE DATA TRAINING, NO CROSS_VALIDATION AND FEATURE SELECTION\n",
    "import pandas as pd\n",
    "import numpy as np\n",
    "import newSom\n",
    "import UTDSM\n",
    "import dataset_read\n",
    "import researchpy as rp\n",
    "import scipy.stats as stats\n",
    "import matplotlib.pyplot as plt\n",
    "import collections\n",
    "import warnings\n",
    "import experiment\n",
    "warnings.filterwarnings(\"ignore\", category=np.VisibleDeprecationWarning) "
   ]
  },
  {
   "cell_type": "code",
   "execution_count": 2,
   "id": "6aee060f",
   "metadata": {},
   "outputs": [],
   "source": [
    "dataread = dataset_read.DATAREAD()"
   ]
  },
  {
   "cell_type": "code",
   "execution_count": 3,
   "id": "de6b4ea1",
   "metadata": {},
   "outputs": [],
   "source": [
    "csv = pd.read_csv(\"Iris.csv\")\n",
    "csv = csv.drop(columns=['Id'])\n",
    "dataread.stringToIntIrisDataSet(csv,\"Species\")\n",
    "csv_test = csv.sample(int(csv.shape[0]*0.3))\n",
    "csv_training = csv.drop(csv_test.index,axis = 0)\n",
    "dataread.initializedataset_iris(csv_training,csv_test)"
   ]
  },
  {
   "cell_type": "code",
   "execution_count": 4,
   "id": "6dad8085",
   "metadata": {
    "scrolled": true
   },
   "outputs": [
    {
     "name": "stdout",
     "output_type": "stream",
     "text": [
      "NMI T-Test\n",
      "        Variable     N      Mean        SD        SE  95% Conf.  Interval\n",
      "0  test_score_W0  30.0  0.633872  0.143512  0.026202   0.580283  0.687460\n",
      "1  test_score_W'  30.0  0.564923  0.159909  0.029195   0.505212  0.624634\n",
      "2       combined  60.0  0.599397  0.154599  0.019959   0.559460  0.639334\n",
      "                              Independent t-test  results\n",
      "0  Difference (test_score_W0 - test_score_W') =    0.0689\n",
      "1                          Degrees of freedom =   58.0000\n",
      "2                                           t =    1.7576\n",
      "3                       Two side test p value =    0.0841\n",
      "4                      Difference < 0 p value =    0.9580\n",
      "5                      Difference > 0 p value =    0.0420\n",
      "6                                   Cohen's d =    0.4538\n",
      "7                                   Hedge's g =    0.4479\n",
      "8                               Glass's delta =    0.4804\n",
      "9                                 Pearson's r =    0.2249\n",
      "ARI T-Test\n",
      "        Variable     N      Mean        SD        SE  95% Conf.  Interval\n",
      "0  test_score_W0  30.0  0.559360  0.158448  0.028929   0.500194  0.618525\n",
      "1  test_score_W'  30.0  0.494786  0.195403  0.035676   0.421821  0.567751\n",
      "2       combined  60.0  0.527073  0.179354  0.023155   0.480741  0.573405\n",
      "                              Independent t-test  results\n",
      "0  Difference (test_score_W0 - test_score_W') =    0.0646\n",
      "1                          Degrees of freedom =   58.0000\n",
      "2                                           t =    1.4059\n",
      "3                       Two side test p value =    0.1651\n",
      "4                      Difference < 0 p value =    0.9175\n",
      "5                      Difference > 0 p value =    0.0825\n",
      "6                                   Cohen's d =    0.3630\n",
      "7                                   Hedge's g =    0.3583\n",
      "8                               Glass's delta =    0.4075\n",
      "9                                 Pearson's r =    0.1815\n"
     ]
    },
    {
     "name": "stderr",
     "output_type": "stream",
     "text": [
      "C:\\Users\\fooli\\anaconda3\\lib\\site-packages\\researchpy\\ttest.py:18: FutureWarning: The series.append method is deprecated and will be removed from pandas in a future version. Use pandas.concat instead.\n",
      "  groups = group1.append(group2, ignore_index= True)\n",
      "C:\\Users\\fooli\\anaconda3\\lib\\site-packages\\researchpy\\ttest.py:18: FutureWarning: The series.append method is deprecated and will be removed from pandas in a future version. Use pandas.concat instead.\n",
      "  groups = group1.append(group2, ignore_index= True)\n",
      "C:\\Users\\fooli\\anaconda3\\lib\\site-packages\\researchpy\\ttest.py:18: FutureWarning: The series.append method is deprecated and will be removed from pandas in a future version. Use pandas.concat instead.\n",
      "  groups = group1.append(group2, ignore_index= True)\n",
      "C:\\Users\\fooli\\anaconda3\\lib\\site-packages\\researchpy\\ttest.py:18: FutureWarning: The series.append method is deprecated and will be removed from pandas in a future version. Use pandas.concat instead.\n",
      "  groups = group1.append(group2, ignore_index= True)\n"
     ]
    }
   ],
   "source": [
    "import experiment\n",
    "unstable_repeate_num= 30\n",
    "scope_num = 1\n",
    "class_num = 3\n",
    "dim_num = 4\n",
    "\n",
    "experiment = experiment.Experiment()\n",
    "experiment.UTtest(dataread,class_num, dim_num, scope_num,unstable_repeate_num)"
   ]
  },
  {
   "cell_type": "code",
   "execution_count": 5,
   "id": "a6675cba",
   "metadata": {
    "scrolled": true
   },
   "outputs": [],
   "source": [
    "scoretype = 1\n",
    "class_num = 3\n",
    "dim_num = 4\n",
    "som = newSom.SOM(m= class_num, n= 1, dim=dim_num)  \n",
    "optimize_W = UTDSM.UTDSM_SOM(som,dataread.data_train,dataread.data_test,dataread.label_train,dataread.label_test,class_num)\n",
    "optimize_W.run()  "
   ]
  },
  {
   "cell_type": "code",
   "execution_count": null,
   "id": "a931c96a",
   "metadata": {},
   "outputs": [],
   "source": []
  },
  {
   "cell_type": "code",
   "execution_count": null,
   "id": "4592dbfb",
   "metadata": {},
   "outputs": [],
   "source": []
  }
 ],
 "metadata": {
  "kernelspec": {
   "display_name": "Python 3 (ipykernel)",
   "language": "python",
   "name": "python3"
  },
  "language_info": {
   "codemirror_mode": {
    "name": "ipython",
    "version": 3
   },
   "file_extension": ".py",
   "mimetype": "text/x-python",
   "name": "python",
   "nbconvert_exporter": "python",
   "pygments_lexer": "ipython3",
   "version": "3.9.12"
  }
 },
 "nbformat": 4,
 "nbformat_minor": 5
}
