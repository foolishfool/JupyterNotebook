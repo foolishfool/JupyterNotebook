{
 "cells": [
  {
   "cell_type": "code",
   "execution_count": 6,
   "id": "8e38457d",
   "metadata": {},
   "outputs": [],
   "source": [
    "import susi\n",
    "import numpy as np\n",
    "import matplotlib.pyplot as plt"
   ]
  },
  {
   "cell_type": "code",
   "execution_count": 9,
   "id": "6682e42e",
   "metadata": {},
   "outputs": [
    {
     "data": {
      "text/plain": [
       "<susi.SOMClustering.SOMClustering at 0x1fbdf433ca0>"
      ]
     },
     "execution_count": 9,
     "metadata": {},
     "output_type": "execute_result"
    }
   ],
   "source": [
    "from sklearn import datasets\n",
    "\n",
    "iris = datasets.load_iris()\n",
    "iris_data = iris.data\n",
    "iris_label = iris.target\n",
    "\n",
    "iris_data = iris.data[:, :2]\n",
    "\n",
    "som = susi.SOMClustering()\n",
    "som.fit(iris_data)"
   ]
  },
  {
   "cell_type": "code",
   "execution_count": 10,
   "id": "0108c2d4",
   "metadata": {},
   "outputs": [
    {
     "data": {
      "image/png": "[encoded data removed]",
      "text/plain": [
       "<Figure size 360x504 with 2 Axes>"
      ]
     },
     "metadata": {
      "needs_background": "light"
     },
     "output_type": "display_data"
    }
   ],
   "source": [
    "fig, ax = plt.subplots(nrows=2, ncols=1, figsize=(5,7))\n",
    "x = iris_data[:,0]\n",
    "y = iris_data[:,1]\n",
    "colors = ['red', 'green', 'blue']"
   ]
  },
  {
   "cell_type": "code",
   "execution_count": null,
   "id": "d964303b",
   "metadata": {},
   "outputs": [],
   "source": []
  }
 ],
 "metadata": {
  "kernelspec": {
   "display_name": "Python 3",
   "language": "python",
   "name": "python3"
  },
  "language_info": {
   "codemirror_mode": {
    "name": "ipython",
    "version": 3
   },
   "file_extension": ".py",
   "mimetype": "text/x-python",
   "name": "python",
   "nbconvert_exporter": "python",
   "pygments_lexer": "ipython3",
   "version": "3.8.8"
  }
 },
 "nbformat": 4,
 "nbformat_minor": 5
}
