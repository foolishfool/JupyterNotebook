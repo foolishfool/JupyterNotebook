{
 "cells": [
  {
   "cell_type": "code",
   "execution_count": null,
   "id": "64ec5319",
   "metadata": {},
   "outputs": [],
   "source": [
    "fig, ax = plt.subplots(nrows=2, ncols=1, figsize=(5,7))\n",
    "x = subset1[:,0]\n",
    "\n",
    "y = subset1[:,1]\n",
    "colors = ['red', 'green', 'blue']\n",
    "ax[0].scatter(x, y, c=subset1_label, cmap=ListedColormap(colors))\n",
    "ax[0].title.set_text('Actual Classes')\n",
    "ax[1].scatter(x, y, c=predictions2_weight1, cmap=ListedColormap(colors))\n",
    "ax[1].title.set_text('SOM Predictions')\n",
    "plt.savefig('iris_example2.png')"
   ]
  },
  {
   "cell_type": "code",
   "execution_count": null,
   "id": "aa40a95f",
   "metadata": {},
   "outputs": [],
   "source": [
    "fig, ax = plt.subplots(nrows=2, ncols=1, figsize=(5,7))\n",
    "x = subset1[:,0]\n",
    "y = subset1[:,1]\n",
    "colors = ['red', 'green', 'blue', ]\n",
    "ax[0].scatter(x, y, c=subset1_label, cmap=ListedColormap(colors))\n",
    "ax[0].title.set_text('Actual Classes')\n",
    "ax[1].scatter(x, y, c=predictions2_weights2, cmap=ListedColormap(colors))\n",
    "ax[1].title.set_text('SOM Predictions')\n",
    "plt.savefig('iris_example3.png')"
   ]
  },
  {
   "cell_type": "code",
   "execution_count": null,
   "id": "0fe619f5",
   "metadata": {},
   "outputs": [],
   "source": [
    "def EuclideanDistance(x, y):\n",
    "    \"\"\"\n",
    "    get the Euclidean Distance between to matrix\n",
    "    (x-y)^2 = x^2 + y^2 - 2xy\n",
    "    :param x:\n",
    "    :param y:\n",
    "    :return:\n",
    "    \"\"\"\n",
    "    (rowx, colx) = x.shape\n",
    "    (rowy, coly) = y.shape\n",
    "    if colx != coly:\n",
    "        raise RuntimeError('colx must be equal with coly')\n",
    "    xy = np.dot(x, y.T)\n",
    "    x2 = np.repeat(np.reshape(np.sum(np.multiply(x, x), axis=1), (rowx, 1)), repeats=rowy, axis=1)\n",
    "    y2 = np.repeat(np.reshape(np.sum(np.multiply(y, y), axis=1), (rowy, 1)), repeats=rowx, axis=1).T\n",
    "    dis = x2 + y2 - 2 * xy\n",
    "    return dis\n"
   ]
  },
  {
   "cell_type": "code",
   "execution_count": null,
   "id": "02f0c10f",
   "metadata": {},
   "outputs": [],
   "source": [
    "print(\"W1\")\n",
    "print(weights1)\n",
    "U,D,V = np.linalg.svd(weights1, full_matrices=False)\n",
    "print(\"U\")\n",
    "print(U)\n",
    "print(\"D\")\n",
    "print(D)\n",
    "print(\"V\")\n",
    "print(V)\n",
    "global weights1_SVD\n",
    "weights1_SVD = np.matmul(np.matmul(U, np.diag(D)), V)\n",
    "print(\"W1_SVD\")\n",
    "print(weights1_SVD)"
   ]
  }
 ],
 "metadata": {
  "kernelspec": {
   "display_name": "Python 3",
   "language": "python",
   "name": "python3"
  },
  "language_info": {
   "codemirror_mode": {
    "name": "ipython",
    "version": 3
   },
   "file_extension": ".py",
   "mimetype": "text/x-python",
   "name": "python",
   "nbconvert_exporter": "python",
   "pygments_lexer": "ipython3",
   "version": "3.8.8"
  }
 },
 "nbformat": 4,
 "nbformat_minor": 5
}
