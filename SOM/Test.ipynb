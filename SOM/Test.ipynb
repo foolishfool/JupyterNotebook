{
 "cells": [
  {
   "cell_type": "code",
   "execution_count": 1,
   "id": "6cbbf5f9",
   "metadata": {},
   "outputs": [],
   "source": [
    "#THIS CODE ONLY DO THE WHOLE DATA TRAINING, NO CROSS_VALIDATION AND FEATURE SELECTION\n",
    "import pandas as pd\n",
    "import numpy as np\n",
    "import newSom\n",
    "import dataset_read\n",
    "import researchpy as rp\n",
    "import scipy.stats as stats\n",
    "import matplotlib.pyplot as plt\n",
    "import warnings\n",
    "import experiment\n",
    "warnings.filterwarnings(\"ignore\", category=np.VisibleDeprecationWarning) "
   ]
  },
  {
   "cell_type": "code",
   "execution_count": 3,
   "id": "7be0d1f6",
   "metadata": {},
   "outputs": [],
   "source": [
    "dataread = dataset_read.DATAREAD()\n",
    "csv = pd.read_csv(\"Iris.csv\")\n",
    "csv = csv.drop(columns=['Id'])\n",
    "dataread.stringToIntIrisDataSet(csv,\"Species\")\n",
    "csv_test = csv.sample(int(csv.shape[0]*0.3))\n",
    "csv_training = csv.drop(csv_test.index,axis = 0)\n",
    "dataread.initializedataset(csv,csv_training,csv_test,\"Species\",10)"
   ]
  },
  {
   "cell_type": "code",
   "execution_count": 15,
   "id": "29e00d1d",
   "metadata": {},
   "outputs": [],
   "source": [
    "def de_correlate_df(df):\n",
    "    X_aux = df.copy()\n",
    "    for col in df.columns:\n",
    "        X_aux[col] = df[col].sample(len(df)).values\n",
    "        print(df[col].sample(len(df)).values)\n",
    "        \n",
    "    return X_aux"
   ]
  },
  {
   "cell_type": "code",
   "execution_count": 16,
   "id": "43da1aa7",
   "metadata": {},
   "outputs": [
    {
     "name": "stdout",
     "output_type": "stream",
     "text": [
      "     SepalLengthCm  SepalWidthCm  PetalLengthCm  PetalWidthCm Species\n",
      "0              5.1           3.5            1.4           0.2       0\n",
      "1              4.9           3.0            1.4           0.2       0\n",
      "2              4.7           3.2            1.3           0.2       0\n",
      "3              4.6           3.1            1.5           0.2       0\n",
      "4              5.0           3.6            1.4           0.2       0\n",
      "..             ...           ...            ...           ...     ...\n",
      "145            6.7           3.0            5.2           2.3       2\n",
      "146            6.3           2.5            5.0           1.9       2\n",
      "147            6.5           3.0            5.2           2.0       2\n",
      "148            6.2           3.4            5.4           2.3       2\n",
      "149            5.9           3.0            5.1           1.8       2\n",
      "\n",
      "[150 rows x 5 columns]\n",
      "[4.4 4.9 6.3 6.4 6.3 6.8 4.8 5.1 6.8 7.7 6.7 7.7 5.9 5.5 6.1 6.7 6.7 5.5\n",
      " 6.4 5.7 5.8 6.9 5.3 7.  6.4 7.6 6.5 4.4 5.8 5.8 5.6 6.6 7.7 6.2 4.5 5.6\n",
      " 4.3 6.7 6.5 5.2 5.8 4.4 5.  5.7 5.4 5.6 4.9 5.9 5.7 5.1 4.6 7.2 6.8 7.2\n",
      " 5.4 6.1 6.  6.3 4.6 6.5 5.6 5.  5.7 7.4 6.9 7.1 6.5 5.  5.5 7.3 6.3 5.\n",
      " 4.6 4.8 5.  4.8 6.3 5.1 6.6 6.4 6.7 6.9 6.3 5.8 5.5 4.9 4.7 4.9 5.1 5.8\n",
      " 6.2 4.9 5.4 6.  6.9 6.1 5.5 6.3 5.1 4.6 6.4 5.1 5.  5.4 5.2 5.5 5.1 6.7\n",
      " 5.2 6.7 6.4 5.7 6.5 6.4 6.3 4.7 7.7 6.  5.  6.3 5.6 5.2 5.7 6.  7.9 6.2\n",
      " 6.2 5.  5.  5.9 4.9 5.  5.4 4.8 6.  6.7 6.  5.1 5.7 6.1 6.1 5.8 5.1 6.1\n",
      " 5.5 7.2 5.7 5.4 5.6 4.8]\n",
      "[3.3 2.3 3.  2.8 3.2 2.3 2.6 3.  3.8 2.9 3.2 3.1 2.2 3.2 2.9 3.2 3.4 3.5\n",
      " 2.7 2.4 3.  3.2 3.  2.5 3.5 3.4 2.2 3.4 3.7 2.6 3.  2.5 3.  3.  3.1 3.3\n",
      " 3.2 2.7 2.9 4.4 2.8 3.6 3.1 2.3 3.  2.9 3.9 4.1 3.1 3.2 3.1 2.5 2.7 2.8\n",
      " 3.8 3.3 3.5 3.  3.8 2.  2.8 2.7 2.5 2.8 4.2 2.6 2.6 3.9 2.9 3.4 3.2 2.3\n",
      " 2.9 3.1 2.5 3.  3.  2.6 3.2 4.  2.9 3.  3.  3.1 2.7 3.5 3.  3.4 3.  3.\n",
      " 3.7 2.5 3.2 3.2 3.1 3.2 3.4 3.  3.  2.9 3.3 2.2 3.8 3.6 3.4 3.5 2.4 2.8\n",
      " 2.8 2.8 3.4 2.4 3.  3.4 2.5 3.1 2.8 3.4 3.  2.5 3.6 2.8 2.9 3.8 3.3 3.4\n",
      " 3.  3.8 3.  3.7 2.7 3.5 3.1 2.8 3.  3.  2.8 3.1 3.  2.8 3.2 2.8 2.9 2.7\n",
      " 3.1 2.7 3.3 2.7 3.4 3. ]\n",
      "[5.1 1.7 4.8 5.5 5.9 1.5 4.4 1.5 1.5 4.7 3.6 4.8 4.  3.9 1.4 6.  5.8 1.4\n",
      " 1.4 4.7 3.  3.7 4.5 5.3 5.1 4.5 1.3 5.1 3.8 1.6 5.8 6.4 4.5 5.1 4.9 6.9\n",
      " 4.4 1.2 5.5 6.  5.2 1.5 1.3 5.4 1.3 1.6 1.3 4.5 4.  1.1 4.9 4.5 4.9 5.\n",
      " 4.3 5.9 1.4 5.6 4.  1.7 3.3 6.3 5.7 5.  5.7 5.  3.9 5.6 1.3 5.6 4.  4.9\n",
      " 5.6 4.1 1.6 1.2 1.6 5.5 6.1 1.9 4.2 4.5 5.1 1.4 1.7 1.3 6.7 1.5 1.6 1.6\n",
      " 1.4 5.6 4.6 4.7 1.4 5.7 1.5 1.5 4.1 1.5 1.9 1.5 4.2 5.3 6.6 4.5 4.9 4.5\n",
      " 4.1 4.8 1.5 3.3 1.5 4.8 5.6 4.4 3.5 1.4 5.1 1.7 1.3 1.6 4.7 4.  4.2 1.5\n",
      " 1.4 4.7 4.6 3.5 4.3 5.4 5.8 3.9 1.  1.5 4.6 1.4 5.  5.1 5.1 4.2 6.1 6.7\n",
      " 5.2 4.4 1.5 6.1 1.4 1.4]\n",
      "[2.  0.2 1.8 0.2 1.  0.1 0.2 0.2 2.1 1.6 2.2 0.2 1.6 1.3 0.2 0.4 0.6 0.2\n",
      " 0.2 0.2 1.5 1.6 0.1 0.1 0.2 1.5 2.  1.8 1.  1.1 1.5 1.7 0.4 0.2 1.3 0.2\n",
      " 1.5 2.  0.4 1.5 1.3 1.4 1.6 0.2 1.  2.5 1.  2.3 1.3 1.8 1.8 1.4 1.3 2.2\n",
      " 1.  1.  1.8 1.5 0.2 1.2 1.5 1.2 0.1 2.5 1.1 1.8 0.2 0.3 0.1 1.5 0.1 1.5\n",
      " 1.7 0.2 2.3 1.4 0.2 1.8 2.1 1.4 1.2 2.2 0.2 0.2 1.3 1.8 1.5 1.9 0.3 1.3\n",
      " 2.3 1.5 2.1 0.4 1.1 1.4 0.2 2.4 1.4 2.  2.3 1.8 0.5 1.4 1.3 1.3 2.1 1.9\n",
      " 0.2 1.  0.2 0.2 2.3 2.3 2.1 0.4 2.5 2.4 1.3 1.8 1.9 2.  0.3 0.3 1.8 2.4\n",
      " 2.1 0.4 1.2 1.3 1.8 1.2 0.3 0.2 0.4 1.9 0.3 2.3 0.2 2.  1.3 1.5 0.2 1.4\n",
      " 0.3 1.3 2.3 0.2 0.2 1.9]\n",
      "[1 2 1 0 2 0 2 1 1 1 2 2 1 2 0 2 1 0 2 0 2 2 0 2 1 0 1 2 1 1 2 2 2 0 1 1 2\n",
      " 1 0 2 0 1 1 0 0 2 0 2 1 1 2 2 0 0 0 1 1 1 0 1 2 0 0 0 1 0 0 1 0 0 0 0 2 0\n",
      " 2 0 0 2 2 2 0 1 2 1 2 0 1 2 2 2 1 2 0 1 1 2 1 0 0 0 1 1 2 2 2 2 1 2 2 0 2\n",
      " 0 0 1 1 1 0 0 2 1 1 1 1 0 1 2 0 0 0 1 1 2 2 0 0 0 1 0 1 2 2 2 1 0 1 1 2 0\n",
      " 2 1]\n"
     ]
    },
    {
     "data": {
      "text/html": [
       "<div>\n",
       "<style scoped>\n",
       "    .dataframe tbody tr th:only-of-type {\n",
       "        vertical-align: middle;\n",
       "    }\n",
       "\n",
       "    .dataframe tbody tr th {\n",
       "        vertical-align: top;\n",
       "    }\n",
       "\n",
       "    .dataframe thead th {\n",
       "        text-align: right;\n",
       "    }\n",
       "</style>\n",
       "<table border=\"1\" class=\"dataframe\">\n",
       "  <thead>\n",
       "    <tr style=\"text-align: right;\">\n",
       "      <th></th>\n",
       "      <th>SepalLengthCm</th>\n",
       "      <th>SepalWidthCm</th>\n",
       "      <th>PetalLengthCm</th>\n",
       "      <th>PetalWidthCm</th>\n",
       "      <th>Species</th>\n",
       "    </tr>\n",
       "  </thead>\n",
       "  <tbody>\n",
       "    <tr>\n",
       "      <th>0</th>\n",
       "      <td>7.7</td>\n",
       "      <td>2.7</td>\n",
       "      <td>1.6</td>\n",
       "      <td>1.8</td>\n",
       "      <td>2</td>\n",
       "    </tr>\n",
       "    <tr>\n",
       "      <th>1</th>\n",
       "      <td>4.4</td>\n",
       "      <td>3.6</td>\n",
       "      <td>4.5</td>\n",
       "      <td>2.0</td>\n",
       "      <td>1</td>\n",
       "    </tr>\n",
       "    <tr>\n",
       "      <th>2</th>\n",
       "      <td>6.4</td>\n",
       "      <td>3.5</td>\n",
       "      <td>1.4</td>\n",
       "      <td>0.4</td>\n",
       "      <td>1</td>\n",
       "    </tr>\n",
       "    <tr>\n",
       "      <th>3</th>\n",
       "      <td>7.1</td>\n",
       "      <td>2.4</td>\n",
       "      <td>3.9</td>\n",
       "      <td>1.3</td>\n",
       "      <td>2</td>\n",
       "    </tr>\n",
       "    <tr>\n",
       "      <th>4</th>\n",
       "      <td>6.1</td>\n",
       "      <td>3.5</td>\n",
       "      <td>5.3</td>\n",
       "      <td>0.2</td>\n",
       "      <td>2</td>\n",
       "    </tr>\n",
       "    <tr>\n",
       "      <th>...</th>\n",
       "      <td>...</td>\n",
       "      <td>...</td>\n",
       "      <td>...</td>\n",
       "      <td>...</td>\n",
       "      <td>...</td>\n",
       "    </tr>\n",
       "    <tr>\n",
       "      <th>145</th>\n",
       "      <td>6.0</td>\n",
       "      <td>2.9</td>\n",
       "      <td>1.1</td>\n",
       "      <td>1.8</td>\n",
       "      <td>1</td>\n",
       "    </tr>\n",
       "    <tr>\n",
       "      <th>146</th>\n",
       "      <td>5.4</td>\n",
       "      <td>3.2</td>\n",
       "      <td>6.1</td>\n",
       "      <td>1.9</td>\n",
       "      <td>0</td>\n",
       "    </tr>\n",
       "    <tr>\n",
       "      <th>147</th>\n",
       "      <td>6.0</td>\n",
       "      <td>2.5</td>\n",
       "      <td>4.7</td>\n",
       "      <td>1.1</td>\n",
       "      <td>2</td>\n",
       "    </tr>\n",
       "    <tr>\n",
       "      <th>148</th>\n",
       "      <td>5.0</td>\n",
       "      <td>2.5</td>\n",
       "      <td>3.3</td>\n",
       "      <td>0.5</td>\n",
       "      <td>2</td>\n",
       "    </tr>\n",
       "    <tr>\n",
       "      <th>149</th>\n",
       "      <td>5.1</td>\n",
       "      <td>2.2</td>\n",
       "      <td>5.6</td>\n",
       "      <td>0.1</td>\n",
       "      <td>0</td>\n",
       "    </tr>\n",
       "  </tbody>\n",
       "</table>\n",
       "<p>150 rows × 5 columns</p>\n",
       "</div>"
      ],
      "text/plain": [
       "     SepalLengthCm  SepalWidthCm  PetalLengthCm  PetalWidthCm Species\n",
       "0              7.7           2.7            1.6           1.8       2\n",
       "1              4.4           3.6            4.5           2.0       1\n",
       "2              6.4           3.5            1.4           0.4       1\n",
       "3              7.1           2.4            3.9           1.3       2\n",
       "4              6.1           3.5            5.3           0.2       2\n",
       "..             ...           ...            ...           ...     ...\n",
       "145            6.0           2.9            1.1           1.8       1\n",
       "146            5.4           3.2            6.1           1.9       0\n",
       "147            6.0           2.5            4.7           1.1       2\n",
       "148            5.0           2.5            3.3           0.5       2\n",
       "149            5.1           2.2            5.6           0.1       0\n",
       "\n",
       "[150 rows x 5 columns]"
      ]
     },
     "execution_count": 16,
     "metadata": {},
     "output_type": "execute_result"
    }
   ],
   "source": [
    "print(csv)\n",
    "de_correlate_df(csv)"
   ]
  },
  {
   "cell_type": "code",
   "execution_count": 8,
   "id": "7a7bddd5",
   "metadata": {},
   "outputs": [
    {
     "data": {
      "text/plain": [
       "0.7294992723113822"
      ]
     },
     "execution_count": 8,
     "metadata": {},
     "output_type": "execute_result"
    }
   ],
   "source": [
    "from sklearn.metrics.cluster import normalized_mutual_info_score\n",
    "\n",
    "normalized_mutual_info_score([0,2,2,2,1,0,2,0,1,2,2,2,2,0,1,2,1,2,2,2,2,2,1,0,0,1,1,2,0,1,0,2,0,2,0,1,2\n",
    ",2,0,0,0,1,0,1,1],[0,1,1,1,1,0,1,0,1,1,1,1,1,0,1,1,1,1,1,1,1,1,1,0,0,1,1,1,0,1,0,1,0,1,0,1,1\n",
    ",1,0,0,0,1,0,1,1])\n",
    "\n"
   ]
  },
  {
   "cell_type": "code",
   "execution_count": 9,
   "id": "5106891d",
   "metadata": {},
   "outputs": [
    {
     "data": {
      "text/plain": [
       "0.41560389572417983"
      ]
     },
     "execution_count": 9,
     "metadata": {},
     "output_type": "execute_result"
    }
   ],
   "source": [
    "normalized_mutual_info_score([0,2,2,2,1,0,2,0,1,2,2,2,2,0,1,2,1,2,2,2,2,2,1,0,0,1,1,2,0,1,0,2,0,2,0,1,2\n",
    ",2,0,0,0,1,0,1,1],[0,1,1,1,1,0,1,0,1,1,1,1,1,0,1,0,1,1,1,1,0,0,1,0,0,1,1,0,0,1,0,1,0,1,0,0,0\n",
    ",1,0,0,0,1,0,1,1])"
   ]
  },
  {
   "cell_type": "code",
   "execution_count": 60,
   "id": "608badb7",
   "metadata": {
    "scrolled": true
   },
   "outputs": [
    {
     "name": "stdout",
     "output_type": "stream",
     "text": [
      "[[0.50696865 0.52009202 0.98425229]\n",
      " [0.40735692 0.52713513 0.99199859]\n",
      " [0.91630435 0.27788025 0.50607411]\n",
      " [0.19314552 0.49604701 0.18290032]]\n"
     ]
    }
   ],
   "source": [
    "import numpy as np\n",
    "m= 4\n",
    "n= 3\n",
    "A = np.random.rand(m, n)\n",
    "print(A)"
   ]
  },
  {
   "cell_type": "code",
   "execution_count": 67,
   "id": "f17830b6",
   "metadata": {},
   "outputs": [
    {
     "name": "stdout",
     "output_type": "stream",
     "text": [
      "[[-0.51865707 -0.43696987 -0.73488242]\n",
      " [-0.85471029  0.28667661  0.4327665 ]\n",
      " [-0.02156768 -0.85256897  0.5221695 ]]\n",
      " u[[-0.60791188  0.25377772  0.17414291]\n",
      " [-0.58642407  0.41583395  0.1746938 ]\n",
      " [-0.48520953 -0.86748303  0.02215376]], np.diagS [[1.99620564 0.         0.        ]\n",
      " [0.         0.5585136  0.        ]\n",
      " [0.         0.         0.34223653]] VT[[-0.51865707 -0.43696987 -0.73488242]\n",
      " [-0.85471029  0.28667661  0.4327665 ]\n",
      " [-0.02156768 -0.85256897  0.5221695 ]]\n",
      "[[0.50696865 0.52009202 0.98425229]\n",
      " [0.40735692 0.52713513 0.99199859]\n",
      " [0.91630435 0.27788025 0.50607411]]\n"
     ]
    }
   ],
   "source": [
    "U, S, VT = np.linalg.svd(A,full_matrices=False)\n",
    "\n",
    "print(VT)\n",
    "U = U[:3, :]\n",
    "S = S[:3]\n",
    "\n",
    "print(f\" u{U}, np.diagS {np.diag(S)} VT{VT}\")\n",
    "A_compressed = U.dot(np.diag(S)).dot(VT)\n",
    "print(A_compressed)"
   ]
  },
  {
   "cell_type": "code",
   "execution_count": 66,
   "id": "ccee0342",
   "metadata": {},
   "outputs": [
    {
     "name": "stdout",
     "output_type": "stream",
     "text": [
      "[[-0.51865707 -0.43696987 -0.73488242]\n",
      " [-0.85471029  0.28667661  0.4327665 ]\n",
      " [-0.02156768 -0.85256897  0.5221695 ]]\n",
      " u[[-0.60791188  0.25377772]\n",
      " [-0.58642407  0.41583395]\n",
      " [-0.48520953 -0.86748303]\n",
      " [-0.22610101  0.10075806]], np.diagS [[1.99620564 0.        ]\n",
      " [0.         0.5585136 ]] VT[[-0.51865707 -0.43696987]\n",
      " [-0.85471029  0.28667661]\n",
      " [-0.02156768 -0.85256897]]\n"
     ]
    },
    {
     "ename": "ValueError",
     "evalue": "shapes (4,2) and (3,2) not aligned: 2 (dim 1) != 3 (dim 0)",
     "output_type": "error",
     "traceback": [
      "\u001b[1;31m---------------------------------------------------------------------------\u001b[0m",
      "\u001b[1;31mValueError\u001b[0m                                Traceback (most recent call last)",
      "Input \u001b[1;32mIn [66]\u001b[0m, in \u001b[0;36m<cell line: 9>\u001b[1;34m()\u001b[0m\n\u001b[0;32m      7\u001b[0m S \u001b[38;5;241m=\u001b[39m S[:\u001b[38;5;241m2\u001b[39m]\n\u001b[0;32m      8\u001b[0m \u001b[38;5;28mprint\u001b[39m(\u001b[38;5;124mf\u001b[39m\u001b[38;5;124m\"\u001b[39m\u001b[38;5;124m u\u001b[39m\u001b[38;5;132;01m{\u001b[39;00mU\u001b[38;5;132;01m}\u001b[39;00m\u001b[38;5;124m, np.diagS \u001b[39m\u001b[38;5;132;01m{\u001b[39;00mnp\u001b[38;5;241m.\u001b[39mdiag(S)\u001b[38;5;132;01m}\u001b[39;00m\u001b[38;5;124m VT\u001b[39m\u001b[38;5;132;01m{\u001b[39;00mVT\u001b[38;5;132;01m}\u001b[39;00m\u001b[38;5;124m\"\u001b[39m)\n\u001b[1;32m----> 9\u001b[0m A_compressed \u001b[38;5;241m=\u001b[39m \u001b[43mU\u001b[49m\u001b[38;5;241;43m.\u001b[39;49m\u001b[43mdot\u001b[49m\u001b[43m(\u001b[49m\u001b[43mnp\u001b[49m\u001b[38;5;241;43m.\u001b[39;49m\u001b[43mdiag\u001b[49m\u001b[43m(\u001b[49m\u001b[43mS\u001b[49m\u001b[43m)\u001b[49m\u001b[43m)\u001b[49m\u001b[38;5;241;43m.\u001b[39;49m\u001b[43mdot\u001b[49m\u001b[43m(\u001b[49m\u001b[43mVT\u001b[49m\u001b[43m)\u001b[49m\n\u001b[0;32m     10\u001b[0m \u001b[38;5;28mprint\u001b[39m(A_compressed)\n",
      "\u001b[1;31mValueError\u001b[0m: shapes (4,2) and (3,2) not aligned: 2 (dim 1) != 3 (dim 0)"
     ]
    }
   ],
   "source": [
    "U, S, VT = np.linalg.svd(A,full_matrices=False)\n",
    "print(VT)\n",
    "U = U[:, :2]\n",
    "\n",
    "VT = VT[: ,:2]\n",
    "\n",
    "S = S[:2]\n",
    "print(f\" u{U}, np.diagS {np.diag(S)} VT{VT}\")\n",
    "A_compressed = U.dot(np.diag(S)).dot(VT)\n",
    "print(A_compressed)"
   ]
  },
  {
   "cell_type": "code",
   "execution_count": 69,
   "id": "5b891f3d",
   "metadata": {},
   "outputs": [
    {
     "ename": "ValueError",
     "evalue": "shapes (3,2) and (3,3) not aligned: 2 (dim 1) != 3 (dim 0)",
     "output_type": "error",
     "traceback": [
      "\u001b[1;31m---------------------------------------------------------------------------\u001b[0m",
      "\u001b[1;31mValueError\u001b[0m                                Traceback (most recent call last)",
      "Input \u001b[1;32mIn [69]\u001b[0m, in \u001b[0;36m<cell line: 17>\u001b[1;34m()\u001b[0m\n\u001b[0;32m     14\u001b[0m s_trunc \u001b[38;5;241m=\u001b[39m np\u001b[38;5;241m.\u001b[39mdiag(s[:k])\n\u001b[0;32m     16\u001b[0m \u001b[38;5;66;03m# Compute the compressed matrix A'\u001b[39;00m\n\u001b[1;32m---> 17\u001b[0m A_prime \u001b[38;5;241m=\u001b[39m \u001b[43mU_trunc\u001b[49m\u001b[38;5;241;43m.\u001b[39;49m\u001b[43mdot\u001b[49m\u001b[43m(\u001b[49m\u001b[43ms_trunc\u001b[49m\u001b[43m)\u001b[49m\u001b[38;5;241;43m.\u001b[39;49m\u001b[43mdot\u001b[49m\u001b[43m(\u001b[49m\u001b[43mVt\u001b[49m\u001b[43m)\u001b[49m\n\u001b[0;32m     19\u001b[0m \u001b[38;5;28mprint\u001b[39m(\u001b[38;5;124m\"\u001b[39m\u001b[38;5;124mOriginal matrix A:\u001b[39m\u001b[38;5;130;01m\\n\u001b[39;00m\u001b[38;5;124m\"\u001b[39m, A)\n\u001b[0;32m     20\u001b[0m \u001b[38;5;28mprint\u001b[39m(\u001b[38;5;124m\"\u001b[39m\u001b[38;5;124mCompressed matrix A\u001b[39m\u001b[38;5;124m'\u001b[39m\u001b[38;5;124m:\u001b[39m\u001b[38;5;130;01m\\n\u001b[39;00m\u001b[38;5;124m\"\u001b[39m, A_prime)\n",
      "\u001b[1;31mValueError\u001b[0m: shapes (3,2) and (3,3) not aligned: 2 (dim 1) != 3 (dim 0)"
     ]
    }
   ],
   "source": [
    "import numpy as np\n",
    "\n",
    "# Define the original matrix A\n",
    "A = np.array([[1, 2, 3], [4, 5, 6], [7, 8, 9]])\n",
    "\n",
    "# Compute the SVD of A\n",
    "U, s, Vt = np.linalg.svd(A)\n",
    "\n",
    "# Define the number of columns to retain in the compressed matrix\n",
    "k = 2\n",
    "\n",
    "# Truncate the matrices U and s to retain only the desired number of columns\n",
    "U_trunc = U[:, :k]\n",
    "s_trunc = np.diag(s[:k])\n",
    "\n",
    "# Compute the compressed matrix A'\n",
    "A_prime = U_trunc.dot(s_trunc).dot(Vt)\n",
    "\n",
    "print(\"Original matrix A:\\n\", A)\n",
    "print(\"Compressed matrix A':\\n\", A_prime)"
   ]
  },
  {
   "cell_type": "code",
   "execution_count": 8,
   "id": "34c63a5e",
   "metadata": {},
   "outputs": [
    {
     "name": "stdout",
     "output_type": "stream",
     "text": [
      "[[0.51841144 0.69933576 0.94494415]\n",
      " [0.54889674 0.63565491 0.73274428]\n",
      " [0.72307114 0.64697425 0.47884206]\n",
      " [0.50905211 0.43023488 0.27261564]]\n"
     ]
    }
   ],
   "source": [
    "print(Bi)"
   ]
  },
  {
   "cell_type": "code",
   "execution_count": 31,
   "id": "a774495c",
   "metadata": {},
   "outputs": [
    {
     "name": "stdout",
     "output_type": "stream",
     "text": [
      "2\n",
      "[[-0.46173097 -0.66818616 -0.58337961]]\n"
     ]
    },
    {
     "ename": "ValueError",
     "evalue": "shapes (2,) and (1,3) not aligned: 2 (dim 0) != 1 (dim 0)",
     "output_type": "error",
     "traceback": [
      "\u001b[1;31m---------------------------------------------------------------------------\u001b[0m",
      "\u001b[1;31mValueError\u001b[0m                                Traceback (most recent call last)",
      "Input \u001b[1;32mIn [31]\u001b[0m, in \u001b[0;36m<cell line: 5>\u001b[1;34m()\u001b[0m\n\u001b[0;32m      9\u001b[0m \u001b[38;5;28mprint\u001b[39m(Vti)\n\u001b[0;32m     10\u001b[0m \u001b[38;5;66;03m# compute the compressed representation of the ith row\u001b[39;00m\n\u001b[1;32m---> 11\u001b[0m Bi \u001b[38;5;241m=\u001b[39m \u001b[43mU\u001b[49m\u001b[43m[\u001b[49m\u001b[43mi\u001b[49m\u001b[43m,\u001b[49m\u001b[43m \u001b[49m\u001b[43m:\u001b[49m\u001b[43mk\u001b[49m\u001b[43m]\u001b[49m\u001b[38;5;241;43m.\u001b[39;49m\u001b[43mdot\u001b[49m\u001b[43m(\u001b[49m\u001b[43mnp\u001b[49m\u001b[38;5;241;43m.\u001b[39;49m\u001b[43mdiag\u001b[49m\u001b[43m(\u001b[49m\u001b[43mS\u001b[49m\u001b[43m[\u001b[49m\u001b[43m:\u001b[49m\u001b[43mk\u001b[49m\u001b[43m]\u001b[49m\u001b[43m)\u001b[49m\u001b[43m)\u001b[49m\u001b[38;5;241;43m.\u001b[39;49m\u001b[43mdot\u001b[49m\u001b[43m(\u001b[49m\u001b[43mVti\u001b[49m\u001b[43m)\u001b[49m\n\u001b[0;32m     12\u001b[0m \u001b[38;5;66;03m# store the compressed representation in the ith row of B\u001b[39;00m\n\u001b[0;32m     13\u001b[0m B[i, :] \u001b[38;5;241m=\u001b[39m Bi\n",
      "\u001b[1;31mValueError\u001b[0m: shapes (2,) and (1,3) not aligned: 2 (dim 0) != 1 (dim 0)"
     ]
    }
   ],
   "source": [
    "# specify the number of singular values to keep for each row\n",
    "k = 2\n",
    "# compute the compressed matrix B\n",
    "B = np.zeros((m, k))\n",
    "for i in range(m):\n",
    "    print(k)\n",
    "    # extract the ith row of Vt, which corresponds to the ith row of A\n",
    "    Vti = VT[:k-1, :]\n",
    "    print(Vti)\n",
    "    # compute the compressed representation of the ith row\n",
    "    Bi = U[i, :k].dot(np.diag(S[:k])).dot(Vti)\n",
    "    # store the compressed representation in the ith row of B\n",
    "    B[i, :] = Bi\n",
    "    \n",
    "print(Bi)"
   ]
  },
  {
   "cell_type": "code",
   "execution_count": 7,
   "id": "b94f55fe",
   "metadata": {},
   "outputs": [
    {
     "name": "stdout",
     "output_type": "stream",
     "text": [
      "[[0.0353211  0.35868446 0.04429971 0.19551601]\n",
      " [0.1618992  0.7487516  0.98127903 0.39200188]\n",
      " [0.55929402 0.01299394 0.32391638 0.58015278]]\n",
      "[[ 0.30711083 -0.07401578  0.26513335]\n",
      " [ 1.27362243 -0.27757349 -0.06521632]\n",
      " [ 0.63593928  0.59165221  0.002572  ]]\n",
      "[[0.0353211  0.35868446 0.04429971 0.19551601]\n",
      " [0.1618992  0.7487516  0.98127903 0.39200188]\n",
      " [0.55929402 0.01299394 0.32391638 0.58015278]]\n"
     ]
    }
   ],
   "source": [
    "import numpy as np\n",
    "from sklearn.decomposition import TruncatedSVD\n",
    "\n",
    "\n",
    "data = np.random.rand(3, 4)\n",
    "print(data)\n",
    "svd = TruncatedSVD(n_components=4, n_iter=7, random_state=42,algorithm='randomized')\n",
    "svd.fit(data)\n",
    "data_compressed = svd.transform(data)  \n",
    "\n",
    "print(data_compressed)\n",
    "data_reconstructed = svd.inverse_transform(data_compressed)\n",
    "print(data_reconstructed)"
   ]
  },
  {
   "cell_type": "code",
   "execution_count": 3,
   "id": "f9a4a834",
   "metadata": {},
   "outputs": [
    {
     "name": "stdout",
     "output_type": "stream",
     "text": [
      "data[[0.12423118 0.20248949 0.45945129]\n",
      " [0.5871361  0.68925684 0.17533542]\n",
      " [0.59463147 0.60559635 0.95107681]\n",
      " [0.90711631 0.85289638 0.14618814]]\n",
      " data_transposed [[0.12423118 0.5871361  0.59463147 0.90711631]\n",
      " [0.20248949 0.68925684 0.60559635 0.85289638]\n",
      " [0.45945129 0.17533542 0.95107681 0.14618814]]\n",
      " data_compressed_transposed [[ 1.21235883 -0.25024695 -0.06458564]\n",
      " [ 1.24937881 -0.21231592  0.06504382]\n",
      " [ 0.84635395  0.67188451 -0.00350138]]\n",
      " data_reconstructed [[0.12423118 0.5871361  0.59463147 0.90711631]\n",
      " [0.20248949 0.68925684 0.60559635 0.85289638]\n",
      " [0.45945129 0.17533542 0.95107681 0.14618814]]\n",
      " data_compressed [[0.12423118 0.20248949 0.45945129]\n",
      " [0.5871361  0.68925684 0.17533542]\n",
      " [0.59463147 0.60559635 0.95107681]\n",
      " [0.90711631 0.85289638 0.14618814]]\n"
     ]
    }
   ],
   "source": [
    "import numpy as np\n",
    "from sklearn.decomposition import TruncatedSVD\n",
    "\n",
    "data = np.random.rand(4, 3)\n",
    "print(f\"data{data}\")\n",
    "data_transposed = data.T \n",
    "print(f\" data_transposed {data_transposed}\")\n",
    "svd = TruncatedSVD(n_components=4, n_iter=7, random_state=42)\n",
    "\n",
    "svd.fit(data_transposed)\n",
    "data_compressed_transposed = svd.transform(data_transposed)\n",
    "print(f\" data_compressed_transposed {data_compressed_transposed}\")\n",
    "data_reconstructed = svd.inverse_transform(data_compressed_transposed)\n",
    "print(f\" data_reconstructed {data_reconstructed}\")\n",
    "data_reconstructedT = data_reconstructed.T \n",
    "print(f\" data_compressed {data_reconstructedT}\")\n"
   ]
  },
  {
   "cell_type": "code",
   "execution_count": null,
   "id": "00bd9013",
   "metadata": {},
   "outputs": [],
   "source": []
  }
 ],
 "metadata": {
  "kernelspec": {
   "display_name": "Python 3 (ipykernel)",
   "language": "python",
   "name": "python3"
  },
  "language_info": {
   "codemirror_mode": {
    "name": "ipython",
    "version": 3
   },
   "file_extension": ".py",
   "mimetype": "text/x-python",
   "name": "python",
   "nbconvert_exporter": "python",
   "pygments_lexer": "ipython3",
   "version": "3.9.12"
  }
 },
 "nbformat": 4,
 "nbformat_minor": 5
}
