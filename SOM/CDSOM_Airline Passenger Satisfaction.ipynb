{
 "cells": [
  {
   "cell_type": "code",
   "execution_count": 1,
   "id": "e9d34dde",
   "metadata": {},
   "outputs": [],
   "source": [
    "#THIS CODE ONLY DO THE WHOLE DATA TRAINING, NO CROSS_VALIDATION AND FEATURE SELECTION\n",
    "import pandas as pd\n",
    "import numpy as np\n",
    "import newSom\n",
    "import CDSOM\n",
    "import dataset_read\n",
    "import researchpy as rp\n",
    "import scipy.stats as stats\n",
    "import matplotlib.pyplot as plt\n",
    "import collections\n",
    "import warnings\n",
    "import experiment\n",
    "warnings.filterwarnings(\"ignore\", category=np.VisibleDeprecationWarning) "
   ]
  },
  {
   "cell_type": "code",
   "execution_count": 2,
   "id": "6aee060f",
   "metadata": {},
   "outputs": [],
   "source": [
    "dataread = dataset_read.DATAREAD()"
   ]
  },
  {
   "cell_type": "code",
   "execution_count": 3,
   "id": "de6b4ea1",
   "metadata": {
    "scrolled": true
   },
   "outputs": [
    {
     "name": "stdout",
     "output_type": "stream",
     "text": [
      " column number self.data_train_discrete 18\n"
     ]
    }
   ],
   "source": [
    "csv = pd.read_csv(\"Airline Passenger Satisfaction/train.csv\")\n",
    "csv2 = pd.read_csv(\"Airline Passenger Satisfaction/test.csv\")\n",
    "csv = csv.drop(columns=['id'])\n",
    "csv2 = csv2.drop(columns=['id'])   \n",
    "\n",
    "\n",
    "dataread.stringToIntAirlinePassengerSatisfactionDataSet(csv,\"Gender\")\n",
    "dataread.stringToIntAirlinePassengerSatisfactionDataSet(csv,\"Customer Type\")\n",
    "dataread.stringToIntAirlinePassengerSatisfactionDataSet(csv,\"Type of Travel\")\n",
    "dataread.stringToIntAirlinePassengerSatisfactionDataSet(csv,\"Class\")\n",
    "dataread.stringToIntAirlinePassengerSatisfactionDataSet(csv,\"satisfaction\")\n",
    "\n",
    "\n",
    "dataread.stringToIntAirlinePassengerSatisfactionDataSet(csv2,\"Gender\")\n",
    "dataread.stringToIntAirlinePassengerSatisfactionDataSet(csv2,\"Customer Type\")\n",
    "dataread.stringToIntAirlinePassengerSatisfactionDataSet(csv2,\"Type of Travel\")\n",
    "dataread.stringToIntAirlinePassengerSatisfactionDataSet(csv2,\"Class\")\n",
    "dataread.stringToIntAirlinePassengerSatisfactionDataSet(csv2,\"satisfaction\")\n",
    "\n",
    "csv_training = csv\n",
    "csv_test = csv2\n",
    "\n",
    "\n",
    "\n",
    "dataread.initializedataset(csv_training,csv_training,csv_test,\"satisfaction\")\n"
   ]
  },
  {
   "cell_type": "code",
   "execution_count": 4,
   "id": "cd9e645d",
   "metadata": {
    "scrolled": false
   },
   "outputs": [
    {
     "name": "stdout",
     "output_type": "stream",
     "text": [
      "neuron unit number: 2\n"
     ]
    },
    {
     "name": "stderr",
     "output_type": "stream",
     "text": [
      "IOPub data rate exceeded.\n",
      "The notebook server will temporarily stop sending output\n",
      "to the client in order to avoid crashing it.\n",
      "To change this limit, set the config variable\n",
      "`--NotebookApp.iopub_data_rate_limit`.\n",
      "\n",
      "Current values:\n",
      "NotebookApp.iopub_data_rate_limit=1000000.0 (bytes/sec)\n",
      "NotebookApp.rate_limit_window=3.0 (secs)\n",
      "\n"
     ]
    },
    {
     "ename": "AttributeError",
     "evalue": "'CDSOM' object has no attribute 'train_discrete_score_W0_n'",
     "output_type": "error",
     "traceback": [
      "\u001b[1;31m---------------------------------------------------------------------------\u001b[0m",
      "\u001b[1;31mAttributeError\u001b[0m                            Traceback (most recent call last)",
      "Cell \u001b[1;32mIn[4], line 10\u001b[0m\n\u001b[0;32m      6\u001b[0m interval \u001b[38;5;241m=\u001b[39m \u001b[38;5;241m5\u001b[39m\n\u001b[0;32m      9\u001b[0m experiment \u001b[38;5;241m=\u001b[39m experiment\u001b[38;5;241m.\u001b[39mExperiment()\n\u001b[1;32m---> 10\u001b[0m \u001b[43mexperiment\u001b[49m\u001b[38;5;241;43m.\u001b[39;49m\u001b[43mUTtest_Discrete_Continuous\u001b[49m\u001b[43m(\u001b[49m\u001b[43mdataread\u001b[49m\u001b[43m,\u001b[49m\u001b[43mclass_num\u001b[49m\u001b[43m,\u001b[49m\u001b[43mbest_num\u001b[49m\u001b[43m,\u001b[49m\u001b[43m \u001b[49m\u001b[43mscope_num\u001b[49m\u001b[43m,\u001b[49m\u001b[43munstable_repeat_num\u001b[49m\u001b[43m,\u001b[49m\u001b[38;5;241;43m0\u001b[39;49m\u001b[43m,\u001b[49m\u001b[43minterval\u001b[49m\u001b[43m)\u001b[49m\n",
      "File \u001b[1;32mC:\\JupyterDoc\\SOM\\experiment.py:254\u001b[0m, in \u001b[0;36mExperiment.UTtest_Discrete_Continuous\u001b[1;34m(self, dataread, class_num, best_num, neuron_scope_num, unstable_repeat_num, type, interval)\u001b[0m\n\u001b[0;32m    252\u001b[0m \u001b[38;5;28;01mwhile\u001b[39;00m y \u001b[38;5;241m<\u001b[39m\u001b[38;5;241m=\u001b[39m neuron_scope_num:\n\u001b[0;32m    253\u001b[0m     \u001b[38;5;28mprint\u001b[39m(\u001b[38;5;124m\"\u001b[39m\u001b[38;5;124mneuron unit number: \u001b[39m\u001b[38;5;132;01m{}\u001b[39;00m\u001b[38;5;124m\"\u001b[39m\u001b[38;5;241m.\u001b[39mformat(y))           \n\u001b[1;32m--> 254\u001b[0m     \u001b[38;5;28;43mself\u001b[39;49m\u001b[38;5;241;43m.\u001b[39;49m\u001b[43mInitializedExperimentDataList\u001b[49m\u001b[43m(\u001b[49m\n\u001b[0;32m    255\u001b[0m \u001b[43m                        \u001b[49m\u001b[43mdataread\u001b[49m\u001b[43m,\u001b[49m\n\u001b[0;32m    256\u001b[0m \u001b[43m                        \u001b[49m\u001b[43my\u001b[49m\u001b[43m,\u001b[49m\n\u001b[0;32m    257\u001b[0m \u001b[43m                        \u001b[49m\u001b[43mall_train_score_W0_n\u001b[49m\u001b[43m,\u001b[49m\n\u001b[0;32m    258\u001b[0m \u001b[43m                        \u001b[49m\u001b[43mall_train_score_W_combine_n\u001b[49m\u001b[43m,\u001b[49m\n\u001b[0;32m    259\u001b[0m \u001b[43m                        \u001b[49m\u001b[43mtest_score_W0_n\u001b[49m\u001b[43m,\u001b[49m\n\u001b[0;32m    260\u001b[0m \u001b[43m                        \u001b[49m\u001b[43mtest_score_W_combine_n\u001b[49m\u001b[43m,\u001b[49m\n\u001b[0;32m    261\u001b[0m \u001b[43m                        \u001b[49m\u001b[43mall_train_score_W0_a\u001b[49m\u001b[43m,\u001b[49m\n\u001b[0;32m    262\u001b[0m \u001b[43m                        \u001b[49m\u001b[43mall_train_score_W_combine_a\u001b[49m\u001b[43m,\u001b[49m\n\u001b[0;32m    263\u001b[0m \u001b[43m                        \u001b[49m\u001b[43mtest_score_W0_a\u001b[49m\u001b[43m,\u001b[49m\n\u001b[0;32m    264\u001b[0m \u001b[43m                        \u001b[49m\u001b[43mtest_score_W_combine_a\u001b[49m\u001b[43m,\u001b[49m\n\u001b[0;32m    265\u001b[0m \u001b[43m                        \u001b[49m\u001b[43mtrain_continuous_score_W0_n\u001b[49m\u001b[43m,\u001b[49m\n\u001b[0;32m    266\u001b[0m \u001b[43m                        \u001b[49m\u001b[43mtrain_continuous_score_W_continuous_n\u001b[49m\u001b[43m,\u001b[49m\n\u001b[0;32m    267\u001b[0m \u001b[43m                        \u001b[49m\u001b[43mtest_continuous_score_W0_n\u001b[49m\u001b[43m,\u001b[49m\n\u001b[0;32m    268\u001b[0m \u001b[43m                        \u001b[49m\u001b[43mtest_continuous_score_W_continuous_n\u001b[49m\u001b[43m,\u001b[49m\n\u001b[0;32m    269\u001b[0m \u001b[43m                        \u001b[49m\u001b[43mtrain_continuous_score_W0_a\u001b[49m\u001b[43m,\u001b[49m\n\u001b[0;32m    270\u001b[0m \u001b[43m                        \u001b[49m\u001b[43mtrain_continuous_score_W_continuous_a\u001b[49m\u001b[43m,\u001b[49m\n\u001b[0;32m    271\u001b[0m \u001b[43m                        \u001b[49m\u001b[43mtest_continuous_score_W0_a\u001b[49m\u001b[43m,\u001b[49m\n\u001b[0;32m    272\u001b[0m \u001b[43m                        \u001b[49m\u001b[43mtest_continuous_score_W_continuous_a\u001b[49m\u001b[43m,\u001b[49m\n\u001b[0;32m    273\u001b[0m \u001b[43m                        \u001b[49m\u001b[43mtrain_discrete_score_W0_n\u001b[49m\u001b[43m,\u001b[49m\n\u001b[0;32m    274\u001b[0m \u001b[43m                        \u001b[49m\u001b[43mtrain_discrete_score_W_discrete_n\u001b[49m\u001b[43m,\u001b[49m\n\u001b[0;32m    275\u001b[0m \u001b[43m                        \u001b[49m\u001b[43mtest_discrete_score_W0_n\u001b[49m\u001b[43m,\u001b[49m\n\u001b[0;32m    276\u001b[0m \u001b[43m                        \u001b[49m\u001b[43mtest_discrete_score_W_discrete_n\u001b[49m\u001b[43m,\u001b[49m\n\u001b[0;32m    277\u001b[0m \u001b[43m                        \u001b[49m\u001b[43mtrain_discrete_score_W0_a\u001b[49m\u001b[43m,\u001b[49m\n\u001b[0;32m    278\u001b[0m \u001b[43m                        \u001b[49m\u001b[43mtrain_discrete_score_W_discrete_a\u001b[49m\u001b[43m,\u001b[49m\n\u001b[0;32m    279\u001b[0m \u001b[43m                        \u001b[49m\u001b[43mtest_discrete_score_W0_a\u001b[49m\u001b[43m,\u001b[49m\n\u001b[0;32m    280\u001b[0m \u001b[43m                        \u001b[49m\u001b[43mtest_discrete_score_W_discrete_a\u001b[49m\n\u001b[0;32m    281\u001b[0m \u001b[43m                        \u001b[49m\u001b[43m)\u001b[49m        \n\u001b[0;32m    282\u001b[0m     y \u001b[38;5;241m=\u001b[39my \u001b[38;5;241m+\u001b[39m interval\n\u001b[0;32m    283\u001b[0m     \u001b[38;5;28;01mif\u001b[39;00m(y\u001b[38;5;241m<\u001b[39m\u001b[38;5;241m=\u001b[39m neuron_scope_num):\n",
      "File \u001b[1;32mC:\\JupyterDoc\\SOM\\experiment.py:188\u001b[0m, in \u001b[0;36mExperiment.InitializedExperimentDataList\u001b[1;34m(self, dataread, y, all_train_score_W0_n, all_train_score_W_combine_n, test_score_W0_n, test_score_W_combine_n, all_train_score_W0_a, all_train_score_W_combine_a, test_score_W0_a, test_score_W_combine_a, train_continuous_score_W0_n, train_continuous_score_W_continuous_n, test_continuous_score_W0_n, test_continuous_score_W_continuous_n, train_continuous_score_W0_a, train_continuous_score_W_continuous_a, test_continuous_score_W0_a, test_continuous_score_W_continuous_a, train_discrete_score_W0_n, train_discrete_score_W_discrete_n, test_discrete_score_W0_n, test_discrete_score_W_discrete_n, train_discrete_score_W0_a, train_discrete_score_W_discrete_a, test_discrete_score_W0_a, test_discrete_score_W_discrete_a)\u001b[0m\n\u001b[0;32m    160\u001b[0m   optimize_W\u001b[38;5;241m.\u001b[39mrun()\n\u001b[0;32m    162\u001b[0m \u001b[38;5;66;03m# all_train_score_W0_n.append(optimize_W.all_train_score_W0_n)\u001b[39;00m\n\u001b[0;32m    163\u001b[0m \u001b[38;5;66;03m# all_train_score_W_combine_n.append(optimize_W.all_train_score_W_combined_n)\u001b[39;00m\n\u001b[0;32m    164\u001b[0m \u001b[38;5;66;03m# test_score_W0_n.append(optimize_W.test_score_W0_n)\u001b[39;00m\n\u001b[1;32m   (...)\u001b[0m\n\u001b[0;32m    182\u001b[0m  \u001b[38;5;66;03m#test_continuous_score_W0_a.append(optimize_W.test_continuous_score_W0_a)\u001b[39;00m\n\u001b[0;32m    183\u001b[0m  \u001b[38;5;66;03m#test_continuous_score_W_continuous_a.append(optimize_W.test_continuous_score_W_continuous_a)\u001b[39;00m\n\u001b[1;32m--> 188\u001b[0m   train_discrete_score_W0_n\u001b[38;5;241m.\u001b[39mappend(\u001b[43moptimize_W\u001b[49m\u001b[38;5;241;43m.\u001b[39;49m\u001b[43mtrain_discrete_score_W0_n\u001b[49m)\n\u001b[0;32m    189\u001b[0m   train_discrete_score_W_discrete_n\u001b[38;5;241m.\u001b[39mappend(optimize_W\u001b[38;5;241m.\u001b[39mtrain_discrete_score_W_discrete_n)\n\u001b[0;32m    190\u001b[0m   test_discrete_score_W0_n\u001b[38;5;241m.\u001b[39mappend(optimize_W\u001b[38;5;241m.\u001b[39mtest_discrete_score_W0_n)\n",
      "\u001b[1;31mAttributeError\u001b[0m: 'CDSOM' object has no attribute 'train_discrete_score_W0_n'"
     ]
    }
   ],
   "source": [
    "import experiment\n",
    "unstable_repeat_num= 30\n",
    "scope_num = 200\n",
    "class_num = 2\n",
    "best_num = 48\n",
    "interval = 5\n",
    "\n",
    "\n",
    "experiment = experiment.Experiment()\n",
    "experiment.UTtest_Discrete_Continuous(dataread,class_num,best_num, scope_num,unstable_repeat_num,0,interval)\n"
   ]
  },
  {
   "cell_type": "code",
   "execution_count": null,
   "id": "9821b3ca",
   "metadata": {},
   "outputs": [],
   "source": []
  },
  {
   "cell_type": "code",
   "execution_count": null,
   "id": "82abd10c",
   "metadata": {},
   "outputs": [],
   "source": []
  }
 ],
 "metadata": {
  "kernelspec": {
   "display_name": "Python 3 (ipykernel)",
   "language": "python",
   "name": "python3"
  },
  "language_info": {
   "codemirror_mode": {
    "name": "ipython",
    "version": 3
   },
   "file_extension": ".py",
   "mimetype": "text/x-python",
   "name": "python",
   "nbconvert_exporter": "python",
   "pygments_lexer": "ipython3",
   "version": "3.9.12"
  }
 },
 "nbformat": 4,
 "nbformat_minor": 5
}
