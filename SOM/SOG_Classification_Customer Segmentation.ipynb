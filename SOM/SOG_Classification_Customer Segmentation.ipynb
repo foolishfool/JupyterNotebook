{
 "cells": [
  {
   "cell_type": "code",
   "execution_count": 1,
   "id": "c389a61e",
   "metadata": {
    "scrolled": false
   },
   "outputs": [
    {
     "name": "stderr",
     "output_type": "stream",
     "text": [
      "C:\\Users\\fooli\\anaconda3\\envs\\gpu_env\\lib\\site-packages\\scipy\\__init__.py:132: UserWarning: A NumPy version >=1.21.6 and <1.28.0 is required for this version of SciPy (detected version 1.21.4)\n",
      "  warnings.warn(f\"A NumPy version >={np_minversion} and <{np_maxversion}\"\n"
     ]
    }
   ],
   "source": [
    "#THIS CODE ONLY DO THE WHOLE DATA TRAINING, NO CROSS_VALIDATION AND FEATURE SELECTION\n",
    "\n",
    "import pandas as pd\n",
    "import numpy as np\n",
    "import newSom \n",
    "import experiment\n",
    "import dataset_read\n",
    "import researchpy as rp\n",
    "import scipy.stats as stats\n",
    "import matplotlib.pyplot as plt\n",
    "import collections\n",
    "import warnings\n",
    "warnings.filterwarnings(\"ignore\", category=np.VisibleDeprecationWarning) "
   ]
  },
  {
   "cell_type": "code",
   "execution_count": 2,
   "id": "3d183742",
   "metadata": {},
   "outputs": [],
   "source": [
    "dataread = dataset_read.DATAREAD()"
   ]
  },
  {
   "cell_type": "code",
   "execution_count": 3,
   "id": "f83a1461",
   "metadata": {
    "scrolled": false
   },
   "outputs": [
    {
     "name": "stdout",
     "output_type": "stream",
     "text": [
      "self.continuous_feature_num 1\n",
      "self.data_discrete_indexes ['Gender', 'Ever_Married', 'Graduated', 'Profession', 'Work_Experience', 'Spending_Score', 'Family_Size'] \n"
     ]
    }
   ],
   "source": [
    "csv = pd.read_csv(\"CustomerSegmentation/Train.csv\")\n",
    "csv2 = pd.read_csv(\"CustomerSegmentation/Test.csv\")\n",
    "csv = csv.drop(columns=['ID','Segmentation'])\n",
    "csv2 = csv2.drop(columns=['ID'])   \n",
    "\n",
    "csv = csv.sample(int(csv.shape[0]*0.1))\n",
    "csv2 = csv2.sample(int(csv.shape[0]*0.1))\n",
    "\n",
    "\n",
    "\n",
    "csv['Family_Size'] = pd.to_numeric(csv['Family_Size'])\n",
    "csv2['Family_Size'] = pd.to_numeric(csv2['Family_Size'])\n",
    "csv['Work_Experience'] = pd.to_numeric(csv['Work_Experience'])\n",
    "csv2['Work_Experience'] = pd.to_numeric(csv2['Work_Experience'])\n",
    "\n",
    "\n",
    "\n",
    "dataread.label_encoding(csv,\"Gender\")\n",
    "dataread.label_encoding(csv,\"Ever_Married\")\n",
    "dataread.label_encoding(csv,\"Graduated\")\n",
    "dataread.label_encoding(csv,\"Profession\")\n",
    "dataread.label_encoding(csv,\"Spending_Score\")\n",
    "dataread.label_encoding(csv,\"Var_1\")\n",
    "dataread.label_encoding(csv,\"Family_Size\")\n",
    "dataread.label_encoding(csv,\"Work_Experience\")\n",
    "\n",
    "\n",
    "\n",
    "dataread.label_encoding(csv2,\"Gender\")\n",
    "dataread.label_encoding(csv2,\"Ever_Married\")\n",
    "dataread.label_encoding(csv2,\"Graduated\")\n",
    "dataread.label_encoding(csv2,\"Profession\")\n",
    "dataread.label_encoding(csv2,\"Spending_Score\")\n",
    "dataread.label_encoding(csv2,\"Var_1\")\n",
    "dataread.label_encoding(csv2,\"Family_Size\")\n",
    "dataread.label_encoding(csv2,\"Work_Experience\")\n",
    "\n",
    "\n",
    "\n",
    "csv_training = csv.sample(int(csv.shape[0]))\n",
    "\n",
    "csv_test = csv2\n",
    "\n",
    "\n",
    "dataread.initializedataset(csv,csv_training,csv_test,\"Var_1\")\n"
   ]
  },
  {
   "cell_type": "code",
   "execution_count": 4,
   "id": "9178a35a",
   "metadata": {
    "scrolled": true
   },
   "outputs": [
    {
     "name": "stdout",
     "output_type": "stream",
     "text": [
      "Neuron/Cluster number: 2\n",
      "accuracy_score_orignial 0.075\n",
      "recall_score_original 0.13945578231292519\n",
      "precision_score_original 0.03032879818594104\n",
      "f1_score_original 0.038723181580324444\n"
     ]
    },
    {
     "name": "stderr",
     "output_type": "stream",
     "text": [
      "C:\\Users\\fooli\\anaconda3\\envs\\gpu_env\\lib\\site-packages\\sklearn\\metrics\\_classification.py:1469: UndefinedMetricWarning: Precision is ill-defined and being set to 0.0 in labels with no predicted samples. Use `zero_division` parameter to control this behavior.\n",
      "  _warn_prf(average, modifier, msg_start, len(result))\n",
      "C:\\Users\\fooli\\anaconda3\\envs\\gpu_env\\lib\\site-packages\\sklearn\\metrics\\_classification.py:1469: UndefinedMetricWarning: Precision is ill-defined and being set to 0.0 in labels with no predicted samples. Use `zero_division` parameter to control this behavior.\n",
      "  _warn_prf(average, modifier, msg_start, len(result))\n"
     ]
    },
    {
     "name": "stdout",
     "output_type": "stream",
     "text": [
      "accuracy_score_sog 0.0875\n",
      "recall_score_sog 0.16326530612244897\n",
      "precision_score_sog 0.05889724310776941\n",
      "f1_score_sog 0.049477351916376304\n",
      "Neuron/Cluster number: 5\n",
      "accuracy_score_orignial 0.075\n",
      "recall_score_original 0.13945578231292519\n",
      "precision_score_original 0.033869885982562034\n",
      "f1_score_original 0.04053089767375482\n",
      "accuracy_score_sog 0.0875\n",
      "recall_score_sog 0.16326530612244897\n",
      "precision_score_sog 0.04\n",
      "f1_score_sog 0.044973544973544964\n",
      "Neuron/Cluster number: 8\n"
     ]
    },
    {
     "name": "stderr",
     "output_type": "stream",
     "text": [
      "C:\\Users\\fooli\\anaconda3\\envs\\gpu_env\\lib\\site-packages\\sklearn\\metrics\\_classification.py:1469: UndefinedMetricWarning: Precision is ill-defined and being set to 0.0 in labels with no predicted samples. Use `zero_division` parameter to control this behavior.\n",
      "  _warn_prf(average, modifier, msg_start, len(result))\n",
      "C:\\Users\\fooli\\anaconda3\\envs\\gpu_env\\lib\\site-packages\\sklearn\\metrics\\_classification.py:1469: UndefinedMetricWarning: Precision is ill-defined and being set to 0.0 in labels with no predicted samples. Use `zero_division` parameter to control this behavior.\n",
      "  _warn_prf(average, modifier, msg_start, len(result))\n"
     ]
    },
    {
     "name": "stdout",
     "output_type": "stream",
     "text": [
      "accuracy_score_orignial 0.075\n",
      "recall_score_original 0.13945578231292519\n",
      "precision_score_original 0.045112781954887216\n",
      "f1_score_original 0.04339562876148242\n",
      "accuracy_score_sog 0.0875\n",
      "recall_score_sog 0.16326530612244897\n",
      "precision_score_sog 0.04\n",
      "f1_score_sog 0.044973544973544964\n",
      "Not good precision_score_original !!!!!\n",
      "Neuron/Cluster number: 11\n"
     ]
    },
    {
     "name": "stderr",
     "output_type": "stream",
     "text": [
      "C:\\Users\\fooli\\anaconda3\\envs\\gpu_env\\lib\\site-packages\\sklearn\\metrics\\_classification.py:1469: UndefinedMetricWarning: Precision is ill-defined and being set to 0.0 in labels with no predicted samples. Use `zero_division` parameter to control this behavior.\n",
      "  _warn_prf(average, modifier, msg_start, len(result))\n",
      "C:\\Users\\fooli\\anaconda3\\envs\\gpu_env\\lib\\site-packages\\sklearn\\metrics\\_classification.py:1469: UndefinedMetricWarning: Precision is ill-defined and being set to 0.0 in labels with no predicted samples. Use `zero_division` parameter to control this behavior.\n",
      "  _warn_prf(average, modifier, msg_start, len(result))\n"
     ]
    },
    {
     "name": "stdout",
     "output_type": "stream",
     "text": [
      "accuracy_score_orignial 0.075\n",
      "recall_score_original 0.13945578231292519\n",
      "precision_score_original 0.030192899077439193\n",
      "f1_score_original 0.03849134590545079\n",
      "accuracy_score_sog 0.0875\n",
      "recall_score_sog 0.16326530612244897\n",
      "precision_score_sog 0.04\n",
      "f1_score_sog 0.044973544973544964\n",
      "Neuron/Cluster number: 14\n"
     ]
    },
    {
     "name": "stderr",
     "output_type": "stream",
     "text": [
      "C:\\Users\\fooli\\anaconda3\\envs\\gpu_env\\lib\\site-packages\\sklearn\\metrics\\_classification.py:1469: UndefinedMetricWarning: Precision is ill-defined and being set to 0.0 in labels with no predicted samples. Use `zero_division` parameter to control this behavior.\n",
      "  _warn_prf(average, modifier, msg_start, len(result))\n",
      "C:\\Users\\fooli\\anaconda3\\envs\\gpu_env\\lib\\site-packages\\sklearn\\metrics\\_classification.py:1469: UndefinedMetricWarning: Precision is ill-defined and being set to 0.0 in labels with no predicted samples. Use `zero_division` parameter to control this behavior.\n",
      "  _warn_prf(average, modifier, msg_start, len(result))\n"
     ]
    },
    {
     "name": "stdout",
     "output_type": "stream",
     "text": [
      "accuracy_score_orignial 0.075\n",
      "recall_score_original 0.13945578231292519\n",
      "precision_score_original 0.030192899077439193\n",
      "f1_score_original 0.03849134590545079\n",
      "accuracy_score_sog 0.0875\n",
      "recall_score_sog 0.16326530612244897\n",
      "precision_score_sog 0.04031311154598826\n",
      "f1_score_sog 0.04550934297769741\n",
      "Neuron/Cluster number: 17\n"
     ]
    },
    {
     "name": "stderr",
     "output_type": "stream",
     "text": [
      "C:\\Users\\fooli\\anaconda3\\envs\\gpu_env\\lib\\site-packages\\sklearn\\metrics\\_classification.py:1469: UndefinedMetricWarning: Precision is ill-defined and being set to 0.0 in labels with no predicted samples. Use `zero_division` parameter to control this behavior.\n",
      "  _warn_prf(average, modifier, msg_start, len(result))\n",
      "C:\\Users\\fooli\\anaconda3\\envs\\gpu_env\\lib\\site-packages\\sklearn\\metrics\\_classification.py:1469: UndefinedMetricWarning: Precision is ill-defined and being set to 0.0 in labels with no predicted samples. Use `zero_division` parameter to control this behavior.\n",
      "  _warn_prf(average, modifier, msg_start, len(result))\n"
     ]
    },
    {
     "name": "stdout",
     "output_type": "stream",
     "text": [
      "accuracy_score_orignial 0.0625\n",
      "recall_score_original 0.11564625850340136\n",
      "precision_score_original 0.025793650793650792\n",
      "f1_score_original 0.0336996336996337\n",
      "accuracy_score_sog 0.0875\n",
      "recall_score_sog 0.16326530612244897\n",
      "precision_score_sog 0.04031311154598826\n",
      "f1_score_sog 0.04550934297769741\n",
      "Neuron/Cluster number: 20\n"
     ]
    },
    {
     "name": "stderr",
     "output_type": "stream",
     "text": [
      "C:\\Users\\fooli\\anaconda3\\envs\\gpu_env\\lib\\site-packages\\sklearn\\metrics\\_classification.py:1469: UndefinedMetricWarning: Precision is ill-defined and being set to 0.0 in labels with no predicted samples. Use `zero_division` parameter to control this behavior.\n",
      "  _warn_prf(average, modifier, msg_start, len(result))\n",
      "C:\\Users\\fooli\\anaconda3\\envs\\gpu_env\\lib\\site-packages\\sklearn\\metrics\\_classification.py:1469: UndefinedMetricWarning: Precision is ill-defined and being set to 0.0 in labels with no predicted samples. Use `zero_division` parameter to control this behavior.\n",
      "  _warn_prf(average, modifier, msg_start, len(result))\n"
     ]
    },
    {
     "name": "stdout",
     "output_type": "stream",
     "text": [
      "accuracy_score_orignial 0.075\n",
      "recall_score_original 0.13945578231292519\n",
      "precision_score_original 0.045366795366795366\n",
      "f1_score_original 0.04383116883116884\n",
      "accuracy_score_sog 0.0875\n",
      "recall_score_sog 0.16326530612244897\n",
      "precision_score_sog 0.04\n",
      "f1_score_sog 0.044973544973544964\n",
      "Not good precision_score_original !!!!!\n",
      "Neuron/Cluster number: 23\n"
     ]
    },
    {
     "name": "stderr",
     "output_type": "stream",
     "text": [
      "C:\\Users\\fooli\\anaconda3\\envs\\gpu_env\\lib\\site-packages\\sklearn\\metrics\\_classification.py:1469: UndefinedMetricWarning: Precision is ill-defined and being set to 0.0 in labels with no predicted samples. Use `zero_division` parameter to control this behavior.\n",
      "  _warn_prf(average, modifier, msg_start, len(result))\n",
      "C:\\Users\\fooli\\anaconda3\\envs\\gpu_env\\lib\\site-packages\\sklearn\\metrics\\_classification.py:1469: UndefinedMetricWarning: Precision is ill-defined and being set to 0.0 in labels with no predicted samples. Use `zero_division` parameter to control this behavior.\n",
      "  _warn_prf(average, modifier, msg_start, len(result))\n"
     ]
    },
    {
     "name": "stdout",
     "output_type": "stream",
     "text": [
      "accuracy_score_orignial 0.075\n",
      "recall_score_original 0.13945578231292519\n",
      "precision_score_original 0.030468525438344354\n",
      "f1_score_original 0.03896103896103896\n",
      "accuracy_score_sog 0.0875\n",
      "recall_score_sog 0.16326530612244897\n",
      "precision_score_sog 0.0472972972972973\n",
      "f1_score_sog 0.0474025974025974\n",
      "Neuron/Cluster number: 26\n"
     ]
    },
    {
     "name": "stderr",
     "output_type": "stream",
     "text": [
      "C:\\Users\\fooli\\anaconda3\\envs\\gpu_env\\lib\\site-packages\\sklearn\\metrics\\_classification.py:1469: UndefinedMetricWarning: Precision is ill-defined and being set to 0.0 in labels with no predicted samples. Use `zero_division` parameter to control this behavior.\n",
      "  _warn_prf(average, modifier, msg_start, len(result))\n",
      "C:\\Users\\fooli\\anaconda3\\envs\\gpu_env\\lib\\site-packages\\sklearn\\metrics\\_classification.py:1469: UndefinedMetricWarning: Precision is ill-defined and being set to 0.0 in labels with no predicted samples. Use `zero_division` parameter to control this behavior.\n",
      "  _warn_prf(average, modifier, msg_start, len(result))\n"
     ]
    },
    {
     "name": "stdout",
     "output_type": "stream",
     "text": [
      "accuracy_score_orignial 0.075\n",
      "recall_score_original 0.13945578231292519\n",
      "precision_score_original 0.045366795366795366\n",
      "f1_score_original 0.04383116883116884\n",
      "accuracy_score_sog 0.0875\n",
      "recall_score_sog 0.16326530612244897\n",
      "precision_score_sog 0.0472972972972973\n",
      "f1_score_sog 0.0474025974025974\n",
      "Neuron/Cluster number: 29\n"
     ]
    },
    {
     "name": "stderr",
     "output_type": "stream",
     "text": [
      "C:\\Users\\fooli\\anaconda3\\envs\\gpu_env\\lib\\site-packages\\sklearn\\metrics\\_classification.py:1469: UndefinedMetricWarning: Precision is ill-defined and being set to 0.0 in labels with no predicted samples. Use `zero_division` parameter to control this behavior.\n",
      "  _warn_prf(average, modifier, msg_start, len(result))\n",
      "C:\\Users\\fooli\\anaconda3\\envs\\gpu_env\\lib\\site-packages\\sklearn\\metrics\\_classification.py:1469: UndefinedMetricWarning: Precision is ill-defined and being set to 0.0 in labels with no predicted samples. Use `zero_division` parameter to control this behavior.\n",
      "  _warn_prf(average, modifier, msg_start, len(result))\n"
     ]
    },
    {
     "name": "stdout",
     "output_type": "stream",
     "text": [
      "accuracy_score_orignial 0.0625\n",
      "recall_score_original 0.11564625850340136\n",
      "precision_score_original 0.024154589371980676\n",
      "f1_score_original 0.033095238095238094\n",
      "accuracy_score_sog 0.0875\n",
      "recall_score_sog 0.16326530612244897\n",
      "precision_score_sog 0.0472972972972973\n",
      "f1_score_sog 0.0474025974025974\n",
      "Neuron/Cluster number: 32\n"
     ]
    },
    {
     "name": "stderr",
     "output_type": "stream",
     "text": [
      "C:\\Users\\fooli\\anaconda3\\envs\\gpu_env\\lib\\site-packages\\sklearn\\metrics\\_classification.py:1469: UndefinedMetricWarning: Precision is ill-defined and being set to 0.0 in labels with no predicted samples. Use `zero_division` parameter to control this behavior.\n",
      "  _warn_prf(average, modifier, msg_start, len(result))\n",
      "C:\\Users\\fooli\\anaconda3\\envs\\gpu_env\\lib\\site-packages\\sklearn\\metrics\\_classification.py:1469: UndefinedMetricWarning: Precision is ill-defined and being set to 0.0 in labels with no predicted samples. Use `zero_division` parameter to control this behavior.\n",
      "  _warn_prf(average, modifier, msg_start, len(result))\n"
     ]
    },
    {
     "name": "stdout",
     "output_type": "stream",
     "text": [
      "accuracy_score_orignial 0.0875\n",
      "recall_score_original 0.16326530612244897\n",
      "precision_score_original 0.04031311154598826\n",
      "f1_score_original 0.04550934297769741\n",
      "accuracy_score_sog 0.0875\n",
      "recall_score_sog 0.16326530612244897\n",
      "precision_score_sog 0.0472972972972973\n",
      "f1_score_sog 0.0474025974025974\n",
      "Neuron/Cluster number: 35\n"
     ]
    },
    {
     "name": "stderr",
     "output_type": "stream",
     "text": [
      "C:\\Users\\fooli\\anaconda3\\envs\\gpu_env\\lib\\site-packages\\sklearn\\metrics\\_classification.py:1469: UndefinedMetricWarning: Precision is ill-defined and being set to 0.0 in labels with no predicted samples. Use `zero_division` parameter to control this behavior.\n",
      "  _warn_prf(average, modifier, msg_start, len(result))\n",
      "C:\\Users\\fooli\\anaconda3\\envs\\gpu_env\\lib\\site-packages\\sklearn\\metrics\\_classification.py:1469: UndefinedMetricWarning: Precision is ill-defined and being set to 0.0 in labels with no predicted samples. Use `zero_division` parameter to control this behavior.\n",
      "  _warn_prf(average, modifier, msg_start, len(result))\n"
     ]
    },
    {
     "name": "stdout",
     "output_type": "stream",
     "text": [
      "accuracy_score_orignial 0.075\n",
      "recall_score_original 0.13945578231292519\n",
      "precision_score_original 0.045366795366795366\n",
      "f1_score_original 0.04383116883116884\n",
      "accuracy_score_sog 0.0875\n",
      "recall_score_sog 0.16326530612244897\n",
      "precision_score_sog 0.04031311154598826\n",
      "f1_score_sog 0.04550934297769741\n",
      "Not good precision_score_original !!!!!\n",
      "Neuron/Cluster number: 38\n"
     ]
    },
    {
     "name": "stderr",
     "output_type": "stream",
     "text": [
      "C:\\Users\\fooli\\anaconda3\\envs\\gpu_env\\lib\\site-packages\\sklearn\\metrics\\_classification.py:1469: UndefinedMetricWarning: Precision is ill-defined and being set to 0.0 in labels with no predicted samples. Use `zero_division` parameter to control this behavior.\n",
      "  _warn_prf(average, modifier, msg_start, len(result))\n",
      "C:\\Users\\fooli\\anaconda3\\envs\\gpu_env\\lib\\site-packages\\sklearn\\metrics\\_classification.py:1469: UndefinedMetricWarning: Precision is ill-defined and being set to 0.0 in labels with no predicted samples. Use `zero_division` parameter to control this behavior.\n",
      "  _warn_prf(average, modifier, msg_start, len(result))\n"
     ]
    },
    {
     "name": "stdout",
     "output_type": "stream",
     "text": [
      "accuracy_score_orignial 0.0875\n",
      "recall_score_original 0.16326530612244897\n",
      "precision_score_original 0.0472972972972973\n",
      "f1_score_original 0.0474025974025974\n",
      "accuracy_score_sog 0.0875\n",
      "recall_score_sog 0.16326530612244897\n",
      "precision_score_sog 0.0472972972972973\n",
      "f1_score_sog 0.0474025974025974\n",
      "Neuron/Cluster number: 41\n"
     ]
    },
    {
     "name": "stderr",
     "output_type": "stream",
     "text": [
      "C:\\Users\\fooli\\anaconda3\\envs\\gpu_env\\lib\\site-packages\\sklearn\\metrics\\_classification.py:1469: UndefinedMetricWarning: Precision is ill-defined and being set to 0.0 in labels with no predicted samples. Use `zero_division` parameter to control this behavior.\n",
      "  _warn_prf(average, modifier, msg_start, len(result))\n",
      "C:\\Users\\fooli\\anaconda3\\envs\\gpu_env\\lib\\site-packages\\sklearn\\metrics\\_classification.py:1469: UndefinedMetricWarning: Precision is ill-defined and being set to 0.0 in labels with no predicted samples. Use `zero_division` parameter to control this behavior.\n",
      "  _warn_prf(average, modifier, msg_start, len(result))\n"
     ]
    },
    {
     "name": "stdout",
     "output_type": "stream",
     "text": [
      "accuracy_score_orignial 0.0875\n",
      "recall_score_original 0.16326530612244897\n",
      "precision_score_original 0.0472972972972973\n",
      "f1_score_original 0.0474025974025974\n",
      "accuracy_score_sog 0.0875\n",
      "recall_score_sog 0.16326530612244897\n",
      "precision_score_sog 0.0472972972972973\n",
      "f1_score_sog 0.0474025974025974\n",
      "Neuron/Cluster number: 44\n"
     ]
    },
    {
     "name": "stderr",
     "output_type": "stream",
     "text": [
      "C:\\Users\\fooli\\anaconda3\\envs\\gpu_env\\lib\\site-packages\\sklearn\\metrics\\_classification.py:1469: UndefinedMetricWarning: Precision is ill-defined and being set to 0.0 in labels with no predicted samples. Use `zero_division` parameter to control this behavior.\n",
      "  _warn_prf(average, modifier, msg_start, len(result))\n",
      "C:\\Users\\fooli\\anaconda3\\envs\\gpu_env\\lib\\site-packages\\sklearn\\metrics\\_classification.py:1469: UndefinedMetricWarning: Precision is ill-defined and being set to 0.0 in labels with no predicted samples. Use `zero_division` parameter to control this behavior.\n",
      "  _warn_prf(average, modifier, msg_start, len(result))\n"
     ]
    },
    {
     "name": "stdout",
     "output_type": "stream",
     "text": [
      "accuracy_score_orignial 0.0875\n",
      "recall_score_original 0.16326530612244897\n",
      "precision_score_original 0.0472972972972973\n",
      "f1_score_original 0.0474025974025974\n",
      "accuracy_score_sog 0.0875\n",
      "recall_score_sog 0.16326530612244897\n",
      "precision_score_sog 0.0472972972972973\n",
      "f1_score_sog 0.0474025974025974\n",
      "Neuron/Cluster number: 47\n"
     ]
    },
    {
     "name": "stderr",
     "output_type": "stream",
     "text": [
      "C:\\Users\\fooli\\anaconda3\\envs\\gpu_env\\lib\\site-packages\\sklearn\\metrics\\_classification.py:1469: UndefinedMetricWarning: Precision is ill-defined and being set to 0.0 in labels with no predicted samples. Use `zero_division` parameter to control this behavior.\n",
      "  _warn_prf(average, modifier, msg_start, len(result))\n",
      "C:\\Users\\fooli\\anaconda3\\envs\\gpu_env\\lib\\site-packages\\sklearn\\metrics\\_classification.py:1469: UndefinedMetricWarning: Precision is ill-defined and being set to 0.0 in labels with no predicted samples. Use `zero_division` parameter to control this behavior.\n",
      "  _warn_prf(average, modifier, msg_start, len(result))\n"
     ]
    },
    {
     "name": "stdout",
     "output_type": "stream",
     "text": [
      "accuracy_score_orignial 0.0875\n",
      "recall_score_original 0.16326530612244897\n",
      "precision_score_original 0.0472972972972973\n",
      "f1_score_original 0.0474025974025974\n",
      "accuracy_score_sog 0.075\n",
      "recall_score_sog 0.13945578231292519\n",
      "precision_score_sog 0.030468525438344354\n",
      "f1_score_sog 0.03896103896103896\n",
      "Not good accuracy result !!!!!\n",
      "Not good recall_score result !!!!!\n",
      "Not good precision_score_original !!!!!\n",
      "Not good accuracy result !!!!!\n",
      "Neuron/Cluster number: 50\n"
     ]
    },
    {
     "name": "stderr",
     "output_type": "stream",
     "text": [
      "C:\\Users\\fooli\\anaconda3\\envs\\gpu_env\\lib\\site-packages\\sklearn\\metrics\\_classification.py:1469: UndefinedMetricWarning: Precision is ill-defined and being set to 0.0 in labels with no predicted samples. Use `zero_division` parameter to control this behavior.\n",
      "  _warn_prf(average, modifier, msg_start, len(result))\n",
      "C:\\Users\\fooli\\anaconda3\\envs\\gpu_env\\lib\\site-packages\\sklearn\\metrics\\_classification.py:1469: UndefinedMetricWarning: Precision is ill-defined and being set to 0.0 in labels with no predicted samples. Use `zero_division` parameter to control this behavior.\n",
      "  _warn_prf(average, modifier, msg_start, len(result))\n"
     ]
    },
    {
     "name": "stdout",
     "output_type": "stream",
     "text": [
      "accuracy_score_orignial 0.0875\n",
      "recall_score_original 0.16326530612244897\n",
      "precision_score_original 0.0472972972972973\n",
      "f1_score_original 0.0474025974025974\n",
      "accuracy_score_sog 0.0875\n",
      "recall_score_sog 0.16326530612244897\n",
      "precision_score_sog 0.0472972972972973\n",
      "f1_score_sog 0.0474025974025974\n",
      "Neuron/Cluster number: 53\n"
     ]
    },
    {
     "name": "stderr",
     "output_type": "stream",
     "text": [
      "C:\\Users\\fooli\\anaconda3\\envs\\gpu_env\\lib\\site-packages\\sklearn\\metrics\\_classification.py:1469: UndefinedMetricWarning: Precision is ill-defined and being set to 0.0 in labels with no predicted samples. Use `zero_division` parameter to control this behavior.\n",
      "  _warn_prf(average, modifier, msg_start, len(result))\n",
      "C:\\Users\\fooli\\anaconda3\\envs\\gpu_env\\lib\\site-packages\\sklearn\\metrics\\_classification.py:1469: UndefinedMetricWarning: Precision is ill-defined and being set to 0.0 in labels with no predicted samples. Use `zero_division` parameter to control this behavior.\n",
      "  _warn_prf(average, modifier, msg_start, len(result))\n"
     ]
    },
    {
     "name": "stdout",
     "output_type": "stream",
     "text": [
      "accuracy_score_orignial 0.0875\n",
      "recall_score_original 0.16326530612244897\n",
      "precision_score_original 0.0472972972972973\n",
      "f1_score_original 0.0474025974025974\n",
      "accuracy_score_sog 0.0875\n",
      "recall_score_sog 0.16326530612244897\n",
      "precision_score_sog 0.04031311154598826\n",
      "f1_score_sog 0.04550934297769741\n",
      "Not good precision_score_original !!!!!\n",
      "Not good accuracy result !!!!!\n",
      "Neuron/Cluster number: 56\n"
     ]
    },
    {
     "name": "stderr",
     "output_type": "stream",
     "text": [
      "C:\\Users\\fooli\\anaconda3\\envs\\gpu_env\\lib\\site-packages\\sklearn\\metrics\\_classification.py:1469: UndefinedMetricWarning: Precision is ill-defined and being set to 0.0 in labels with no predicted samples. Use `zero_division` parameter to control this behavior.\n",
      "  _warn_prf(average, modifier, msg_start, len(result))\n",
      "C:\\Users\\fooli\\anaconda3\\envs\\gpu_env\\lib\\site-packages\\sklearn\\metrics\\_classification.py:1469: UndefinedMetricWarning: Precision is ill-defined and being set to 0.0 in labels with no predicted samples. Use `zero_division` parameter to control this behavior.\n",
      "  _warn_prf(average, modifier, msg_start, len(result))\n"
     ]
    },
    {
     "name": "stdout",
     "output_type": "stream",
     "text": [
      "accuracy_score_orignial 0.0875\n",
      "recall_score_original 0.16326530612244897\n",
      "precision_score_original 0.0472972972972973\n",
      "f1_score_original 0.0474025974025974\n",
      "accuracy_score_sog 0.075\n",
      "recall_score_sog 0.13945578231292519\n",
      "precision_score_sog 0.045366795366795366\n",
      "f1_score_sog 0.04383116883116884\n",
      "Not good accuracy result !!!!!\n",
      "Not good recall_score result !!!!!\n",
      "Not good precision_score_original !!!!!\n",
      "Not good accuracy result !!!!!\n",
      "Neuron/Cluster number: 59\n"
     ]
    },
    {
     "name": "stderr",
     "output_type": "stream",
     "text": [
      "C:\\Users\\fooli\\anaconda3\\envs\\gpu_env\\lib\\site-packages\\sklearn\\metrics\\_classification.py:1469: UndefinedMetricWarning: Precision is ill-defined and being set to 0.0 in labels with no predicted samples. Use `zero_division` parameter to control this behavior.\n",
      "  _warn_prf(average, modifier, msg_start, len(result))\n",
      "C:\\Users\\fooli\\anaconda3\\envs\\gpu_env\\lib\\site-packages\\sklearn\\metrics\\_classification.py:1469: UndefinedMetricWarning: Precision is ill-defined and being set to 0.0 in labels with no predicted samples. Use `zero_division` parameter to control this behavior.\n",
      "  _warn_prf(average, modifier, msg_start, len(result))\n"
     ]
    },
    {
     "name": "stdout",
     "output_type": "stream",
     "text": [
      "accuracy_score_orignial 0.0875\n",
      "recall_score_original 0.16326530612244897\n",
      "precision_score_original 0.0472972972972973\n",
      "f1_score_original 0.0474025974025974\n",
      "accuracy_score_sog 0.0875\n",
      "recall_score_sog 0.16326530612244897\n",
      "precision_score_sog 0.0472972972972973\n",
      "f1_score_sog 0.0474025974025974\n",
      "Neuron/Cluster number: 62\n"
     ]
    },
    {
     "name": "stderr",
     "output_type": "stream",
     "text": [
      "C:\\Users\\fooli\\anaconda3\\envs\\gpu_env\\lib\\site-packages\\sklearn\\metrics\\_classification.py:1469: UndefinedMetricWarning: Precision is ill-defined and being set to 0.0 in labels with no predicted samples. Use `zero_division` parameter to control this behavior.\n",
      "  _warn_prf(average, modifier, msg_start, len(result))\n",
      "C:\\Users\\fooli\\anaconda3\\envs\\gpu_env\\lib\\site-packages\\sklearn\\metrics\\_classification.py:1469: UndefinedMetricWarning: Precision is ill-defined and being set to 0.0 in labels with no predicted samples. Use `zero_division` parameter to control this behavior.\n",
      "  _warn_prf(average, modifier, msg_start, len(result))\n"
     ]
    },
    {
     "name": "stdout",
     "output_type": "stream",
     "text": [
      "accuracy_score_orignial 0.0875\n",
      "recall_score_original 0.16326530612244897\n",
      "precision_score_original 0.0472972972972973\n",
      "f1_score_original 0.0474025974025974\n",
      "accuracy_score_sog 0.0875\n",
      "recall_score_sog 0.16326530612244897\n",
      "precision_score_sog 0.0472972972972973\n",
      "f1_score_sog 0.0474025974025974\n",
      "Neuron/Cluster number: 65\n"
     ]
    },
    {
     "name": "stderr",
     "output_type": "stream",
     "text": [
      "C:\\Users\\fooli\\anaconda3\\envs\\gpu_env\\lib\\site-packages\\sklearn\\metrics\\_classification.py:1469: UndefinedMetricWarning: Precision is ill-defined and being set to 0.0 in labels with no predicted samples. Use `zero_division` parameter to control this behavior.\n",
      "  _warn_prf(average, modifier, msg_start, len(result))\n",
      "C:\\Users\\fooli\\anaconda3\\envs\\gpu_env\\lib\\site-packages\\sklearn\\metrics\\_classification.py:1469: UndefinedMetricWarning: Precision is ill-defined and being set to 0.0 in labels with no predicted samples. Use `zero_division` parameter to control this behavior.\n",
      "  _warn_prf(average, modifier, msg_start, len(result))\n"
     ]
    },
    {
     "name": "stdout",
     "output_type": "stream",
     "text": [
      "accuracy_score_orignial 0.075\n",
      "recall_score_original 0.13945578231292519\n",
      "precision_score_original 0.030468525438344354\n",
      "f1_score_original 0.03896103896103896\n",
      "accuracy_score_sog 0.0875\n",
      "recall_score_sog 0.16326530612244897\n",
      "precision_score_sog 0.0472972972972973\n",
      "f1_score_sog 0.0474025974025974\n",
      "Neuron/Cluster number: 68\n"
     ]
    },
    {
     "name": "stderr",
     "output_type": "stream",
     "text": [
      "C:\\Users\\fooli\\anaconda3\\envs\\gpu_env\\lib\\site-packages\\sklearn\\metrics\\_classification.py:1469: UndefinedMetricWarning: Precision is ill-defined and being set to 0.0 in labels with no predicted samples. Use `zero_division` parameter to control this behavior.\n",
      "  _warn_prf(average, modifier, msg_start, len(result))\n",
      "C:\\Users\\fooli\\anaconda3\\envs\\gpu_env\\lib\\site-packages\\sklearn\\metrics\\_classification.py:1469: UndefinedMetricWarning: Precision is ill-defined and being set to 0.0 in labels with no predicted samples. Use `zero_division` parameter to control this behavior.\n",
      "  _warn_prf(average, modifier, msg_start, len(result))\n"
     ]
    },
    {
     "name": "stdout",
     "output_type": "stream",
     "text": [
      "accuracy_score_orignial 0.075\n",
      "recall_score_original 0.13945578231292519\n",
      "precision_score_original 0.045366795366795366\n",
      "f1_score_original 0.04383116883116884\n",
      "accuracy_score_sog 0.0875\n",
      "recall_score_sog 0.16326530612244897\n",
      "precision_score_sog 0.0472972972972973\n",
      "f1_score_sog 0.0474025974025974\n",
      "Neuron/Cluster number: 71\n"
     ]
    },
    {
     "name": "stderr",
     "output_type": "stream",
     "text": [
      "C:\\Users\\fooli\\anaconda3\\envs\\gpu_env\\lib\\site-packages\\sklearn\\metrics\\_classification.py:1469: UndefinedMetricWarning: Precision is ill-defined and being set to 0.0 in labels with no predicted samples. Use `zero_division` parameter to control this behavior.\n",
      "  _warn_prf(average, modifier, msg_start, len(result))\n",
      "C:\\Users\\fooli\\anaconda3\\envs\\gpu_env\\lib\\site-packages\\sklearn\\metrics\\_classification.py:1469: UndefinedMetricWarning: Precision is ill-defined and being set to 0.0 in labels with no predicted samples. Use `zero_division` parameter to control this behavior.\n",
      "  _warn_prf(average, modifier, msg_start, len(result))\n"
     ]
    },
    {
     "name": "stdout",
     "output_type": "stream",
     "text": [
      "accuracy_score_orignial 0.0875\n",
      "recall_score_original 0.16326530612244897\n",
      "precision_score_original 0.0472972972972973\n",
      "f1_score_original 0.0474025974025974\n",
      "accuracy_score_sog 0.0875\n",
      "recall_score_sog 0.16326530612244897\n",
      "precision_score_sog 0.0472972972972973\n",
      "f1_score_sog 0.0474025974025974\n",
      "Neuron/Cluster number: 74\n"
     ]
    },
    {
     "name": "stderr",
     "output_type": "stream",
     "text": [
      "C:\\Users\\fooli\\anaconda3\\envs\\gpu_env\\lib\\site-packages\\sklearn\\metrics\\_classification.py:1469: UndefinedMetricWarning: Precision is ill-defined and being set to 0.0 in labels with no predicted samples. Use `zero_division` parameter to control this behavior.\n",
      "  _warn_prf(average, modifier, msg_start, len(result))\n",
      "C:\\Users\\fooli\\anaconda3\\envs\\gpu_env\\lib\\site-packages\\sklearn\\metrics\\_classification.py:1469: UndefinedMetricWarning: Precision is ill-defined and being set to 0.0 in labels with no predicted samples. Use `zero_division` parameter to control this behavior.\n",
      "  _warn_prf(average, modifier, msg_start, len(result))\n"
     ]
    },
    {
     "name": "stdout",
     "output_type": "stream",
     "text": [
      "accuracy_score_orignial 0.0875\n",
      "recall_score_original 0.16326530612244897\n",
      "precision_score_original 0.0474559686888454\n",
      "f1_score_original 0.04767384514219957\n",
      "accuracy_score_sog 0.0875\n",
      "recall_score_sog 0.16326530612244897\n",
      "precision_score_sog 0.0472972972972973\n",
      "f1_score_sog 0.0474025974025974\n",
      "Not good precision_score_original !!!!!\n",
      "Not good accuracy result !!!!!\n",
      "Neuron/Cluster number: 77\n"
     ]
    },
    {
     "name": "stderr",
     "output_type": "stream",
     "text": [
      "C:\\Users\\fooli\\anaconda3\\envs\\gpu_env\\lib\\site-packages\\sklearn\\metrics\\_classification.py:1469: UndefinedMetricWarning: Precision is ill-defined and being set to 0.0 in labels with no predicted samples. Use `zero_division` parameter to control this behavior.\n",
      "  _warn_prf(average, modifier, msg_start, len(result))\n",
      "C:\\Users\\fooli\\anaconda3\\envs\\gpu_env\\lib\\site-packages\\sklearn\\metrics\\_classification.py:1469: UndefinedMetricWarning: Precision is ill-defined and being set to 0.0 in labels with no predicted samples. Use `zero_division` parameter to control this behavior.\n",
      "  _warn_prf(average, modifier, msg_start, len(result))\n"
     ]
    },
    {
     "name": "stdout",
     "output_type": "stream",
     "text": [
      "accuracy_score_orignial 0.0875\n",
      "recall_score_original 0.16326530612244897\n",
      "precision_score_original 0.0472972972972973\n",
      "f1_score_original 0.0474025974025974\n",
      "accuracy_score_sog 0.075\n",
      "recall_score_sog 0.13945578231292519\n",
      "precision_score_sog 0.030468525438344354\n",
      "f1_score_sog 0.03896103896103896\n",
      "Not good accuracy result !!!!!\n",
      "Not good recall_score result !!!!!\n",
      "Not good precision_score_original !!!!!\n",
      "Not good accuracy result !!!!!\n",
      "Neuron/Cluster number: 80\n"
     ]
    },
    {
     "name": "stderr",
     "output_type": "stream",
     "text": [
      "C:\\Users\\fooli\\anaconda3\\envs\\gpu_env\\lib\\site-packages\\sklearn\\metrics\\_classification.py:1469: UndefinedMetricWarning: Precision is ill-defined and being set to 0.0 in labels with no predicted samples. Use `zero_division` parameter to control this behavior.\n",
      "  _warn_prf(average, modifier, msg_start, len(result))\n",
      "C:\\Users\\fooli\\anaconda3\\envs\\gpu_env\\lib\\site-packages\\sklearn\\metrics\\_classification.py:1469: UndefinedMetricWarning: Precision is ill-defined and being set to 0.0 in labels with no predicted samples. Use `zero_division` parameter to control this behavior.\n",
      "  _warn_prf(average, modifier, msg_start, len(result))\n"
     ]
    },
    {
     "name": "stdout",
     "output_type": "stream",
     "text": [
      "accuracy_score_orignial 0.0875\n",
      "recall_score_original 0.16326530612244897\n",
      "precision_score_original 0.0472972972972973\n",
      "f1_score_original 0.0474025974025974\n",
      "accuracy_score_sog 0.075\n",
      "recall_score_sog 0.13945578231292519\n",
      "precision_score_sog 0.045366795366795366\n",
      "f1_score_sog 0.04383116883116884\n",
      "Not good accuracy result !!!!!\n",
      "Not good recall_score result !!!!!\n",
      "Not good precision_score_original !!!!!\n",
      "Not good accuracy result !!!!!\n",
      "Neuron/Cluster number: 83\n"
     ]
    },
    {
     "name": "stderr",
     "output_type": "stream",
     "text": [
      "C:\\Users\\fooli\\anaconda3\\envs\\gpu_env\\lib\\site-packages\\sklearn\\metrics\\_classification.py:1469: UndefinedMetricWarning: Precision is ill-defined and being set to 0.0 in labels with no predicted samples. Use `zero_division` parameter to control this behavior.\n",
      "  _warn_prf(average, modifier, msg_start, len(result))\n",
      "C:\\Users\\fooli\\anaconda3\\envs\\gpu_env\\lib\\site-packages\\sklearn\\metrics\\_classification.py:1469: UndefinedMetricWarning: Precision is ill-defined and being set to 0.0 in labels with no predicted samples. Use `zero_division` parameter to control this behavior.\n",
      "  _warn_prf(average, modifier, msg_start, len(result))\n"
     ]
    },
    {
     "name": "stdout",
     "output_type": "stream",
     "text": [
      "accuracy_score_orignial 0.075\n",
      "recall_score_original 0.13945578231292519\n",
      "precision_score_original 0.045366795366795366\n",
      "f1_score_original 0.04383116883116884\n",
      "accuracy_score_sog 0.0875\n",
      "recall_score_sog 0.16326530612244897\n",
      "precision_score_sog 0.04031311154598826\n",
      "f1_score_sog 0.04550934297769741\n",
      "Not good precision_score_original !!!!!\n",
      "Neuron/Cluster number: 86\n"
     ]
    },
    {
     "name": "stderr",
     "output_type": "stream",
     "text": [
      "C:\\Users\\fooli\\anaconda3\\envs\\gpu_env\\lib\\site-packages\\sklearn\\metrics\\_classification.py:1469: UndefinedMetricWarning: Precision is ill-defined and being set to 0.0 in labels with no predicted samples. Use `zero_division` parameter to control this behavior.\n",
      "  _warn_prf(average, modifier, msg_start, len(result))\n",
      "C:\\Users\\fooli\\anaconda3\\envs\\gpu_env\\lib\\site-packages\\sklearn\\metrics\\_classification.py:1469: UndefinedMetricWarning: Precision is ill-defined and being set to 0.0 in labels with no predicted samples. Use `zero_division` parameter to control this behavior.\n",
      "  _warn_prf(average, modifier, msg_start, len(result))\n"
     ]
    },
    {
     "name": "stdout",
     "output_type": "stream",
     "text": [
      "accuracy_score_orignial 0.0875\n",
      "recall_score_original 0.16326530612244897\n",
      "precision_score_original 0.0472972972972973\n",
      "f1_score_original 0.0474025974025974\n",
      "accuracy_score_sog 0.075\n",
      "recall_score_sog 0.13945578231292519\n",
      "precision_score_sog 0.045366795366795366\n",
      "f1_score_sog 0.04383116883116884\n",
      "Not good accuracy result !!!!!\n",
      "Not good recall_score result !!!!!\n",
      "Not good precision_score_original !!!!!\n",
      "Not good accuracy result !!!!!\n",
      "Neuron/Cluster number: 89\n"
     ]
    },
    {
     "name": "stderr",
     "output_type": "stream",
     "text": [
      "C:\\Users\\fooli\\anaconda3\\envs\\gpu_env\\lib\\site-packages\\sklearn\\metrics\\_classification.py:1469: UndefinedMetricWarning: Precision is ill-defined and being set to 0.0 in labels with no predicted samples. Use `zero_division` parameter to control this behavior.\n",
      "  _warn_prf(average, modifier, msg_start, len(result))\n",
      "C:\\Users\\fooli\\anaconda3\\envs\\gpu_env\\lib\\site-packages\\sklearn\\metrics\\_classification.py:1469: UndefinedMetricWarning: Precision is ill-defined and being set to 0.0 in labels with no predicted samples. Use `zero_division` parameter to control this behavior.\n",
      "  _warn_prf(average, modifier, msg_start, len(result))\n"
     ]
    },
    {
     "name": "stdout",
     "output_type": "stream",
     "text": [
      "accuracy_score_orignial 0.0875\n",
      "recall_score_original 0.16326530612244897\n",
      "precision_score_original 0.0472972972972973\n",
      "f1_score_original 0.0474025974025974\n",
      "accuracy_score_sog 0.075\n",
      "recall_score_sog 0.13945578231292519\n",
      "precision_score_sog 0.026224982746721876\n",
      "f1_score_sog 0.0369047619047619\n",
      "Not good accuracy result !!!!!\n",
      "Not good recall_score result !!!!!\n",
      "Not good precision_score_original !!!!!\n",
      "Not good accuracy result !!!!!\n",
      "Neuron/Cluster number: 92\n"
     ]
    },
    {
     "name": "stderr",
     "output_type": "stream",
     "text": [
      "C:\\Users\\fooli\\anaconda3\\envs\\gpu_env\\lib\\site-packages\\sklearn\\metrics\\_classification.py:1469: UndefinedMetricWarning: Precision is ill-defined and being set to 0.0 in labels with no predicted samples. Use `zero_division` parameter to control this behavior.\n",
      "  _warn_prf(average, modifier, msg_start, len(result))\n",
      "C:\\Users\\fooli\\anaconda3\\envs\\gpu_env\\lib\\site-packages\\sklearn\\metrics\\_classification.py:1469: UndefinedMetricWarning: Precision is ill-defined and being set to 0.0 in labels with no predicted samples. Use `zero_division` parameter to control this behavior.\n",
      "  _warn_prf(average, modifier, msg_start, len(result))\n"
     ]
    },
    {
     "name": "stdout",
     "output_type": "stream",
     "text": [
      "accuracy_score_orignial 0.075\n",
      "recall_score_original 0.13945578231292519\n",
      "precision_score_original 0.045366795366795366\n",
      "f1_score_original 0.04383116883116884\n",
      "accuracy_score_sog 0.0875\n",
      "recall_score_sog 0.16326530612244897\n",
      "precision_score_sog 0.0472972972972973\n",
      "f1_score_sog 0.0474025974025974\n",
      "Neuron/Cluster number: 95\n"
     ]
    },
    {
     "name": "stderr",
     "output_type": "stream",
     "text": [
      "C:\\Users\\fooli\\anaconda3\\envs\\gpu_env\\lib\\site-packages\\sklearn\\metrics\\_classification.py:1469: UndefinedMetricWarning: Precision is ill-defined and being set to 0.0 in labels with no predicted samples. Use `zero_division` parameter to control this behavior.\n",
      "  _warn_prf(average, modifier, msg_start, len(result))\n",
      "C:\\Users\\fooli\\anaconda3\\envs\\gpu_env\\lib\\site-packages\\sklearn\\metrics\\_classification.py:1469: UndefinedMetricWarning: Precision is ill-defined and being set to 0.0 in labels with no predicted samples. Use `zero_division` parameter to control this behavior.\n",
      "  _warn_prf(average, modifier, msg_start, len(result))\n"
     ]
    },
    {
     "name": "stdout",
     "output_type": "stream",
     "text": [
      "accuracy_score_orignial 0.0875\n",
      "recall_score_original 0.16326530612244897\n",
      "precision_score_original 0.0472972972972973\n",
      "f1_score_original 0.0474025974025974\n",
      "accuracy_score_sog 0.0875\n",
      "recall_score_sog 0.16326530612244897\n",
      "precision_score_sog 0.0472972972972973\n",
      "f1_score_sog 0.0474025974025974\n",
      "Neuron/Cluster number: 98\n"
     ]
    },
    {
     "name": "stderr",
     "output_type": "stream",
     "text": [
      "C:\\Users\\fooli\\anaconda3\\envs\\gpu_env\\lib\\site-packages\\sklearn\\metrics\\_classification.py:1469: UndefinedMetricWarning: Precision is ill-defined and being set to 0.0 in labels with no predicted samples. Use `zero_division` parameter to control this behavior.\n",
      "  _warn_prf(average, modifier, msg_start, len(result))\n",
      "C:\\Users\\fooli\\anaconda3\\envs\\gpu_env\\lib\\site-packages\\sklearn\\metrics\\_classification.py:1469: UndefinedMetricWarning: Precision is ill-defined and being set to 0.0 in labels with no predicted samples. Use `zero_division` parameter to control this behavior.\n",
      "  _warn_prf(average, modifier, msg_start, len(result))\n"
     ]
    },
    {
     "name": "stdout",
     "output_type": "stream",
     "text": [
      "accuracy_score_orignial 0.0875\n",
      "recall_score_original 0.16326530612244897\n",
      "precision_score_original 0.0472972972972973\n",
      "f1_score_original 0.0474025974025974\n",
      "accuracy_score_sog 0.0875\n",
      "recall_score_sog 0.16326530612244897\n",
      "precision_score_sog 0.0472972972972973\n",
      "f1_score_sog 0.0474025974025974\n",
      "all_accuracy_score_original mean 0.08106060606060604\n",
      "all_recall_score_original mean 0.15099979385693674\n",
      "all_precision_score_original mean 0.04234270195493793\n",
      "all_f1_score_original mean 0.04421094269975398\n",
      "all_accuracy_score_sog mean 0.08522727272727271\n",
      "all_recall_score_sog mean 0.15893630179344465\n",
      "all_precision_score_sog mean 0.04387209923077459\n",
      "all_f1_score_sog mean 0.04572978026859228\n"
     ]
    },
    {
     "name": "stderr",
     "output_type": "stream",
     "text": [
      "C:\\Users\\fooli\\anaconda3\\envs\\gpu_env\\lib\\site-packages\\sklearn\\metrics\\_classification.py:1469: UndefinedMetricWarning: Precision is ill-defined and being set to 0.0 in labels with no predicted samples. Use `zero_division` parameter to control this behavior.\n",
      "  _warn_prf(average, modifier, msg_start, len(result))\n",
      "C:\\Users\\fooli\\anaconda3\\envs\\gpu_env\\lib\\site-packages\\sklearn\\metrics\\_classification.py:1469: UndefinedMetricWarning: Precision is ill-defined and being set to 0.0 in labels with no predicted samples. Use `zero_division` parameter to control this behavior.\n",
      "  _warn_prf(average, modifier, msg_start, len(result))\n"
     ]
    },
    {
     "data": {
      "image/png": "[encoded data removed]",
      "text/plain": [
       "<Figure size 1200x500 with 4 Axes>"
      ]
     },
     "metadata": {},
     "output_type": "display_data"
    },
    {
     "name": "stdout",
     "output_type": "stream",
     "text": [
      "Accuracy Score T-Test\n",
      "                      Variable     N      Mean        SD        SE  95% Conf.  \\\n",
      "0  all_accuracy_score_original  33.0  0.081061  0.007732  0.001346   0.078319   \n",
      "1       all_accuracy_score_sog  33.0  0.085227  0.004896  0.000852   0.083491   \n",
      "2                     combined  66.0  0.083144  0.006755  0.000832   0.081483   \n",
      "\n",
      "   Interval  \n",
      "0  0.083802  \n",
      "1  0.086963  \n",
      "2  0.084805  \n",
      "                                  Independent t-test  results\n",
      "0  Difference (all_accuracy_score_original - all_...  -0.0042\n",
      "1                              Degrees of freedom =   64.0000\n",
      "2                                               t =   -2.6155\n",
      "3                           Two side test p value =    0.0111\n",
      "4                          Difference < 0 p value =    0.0055\n",
      "5                          Difference > 0 p value =    0.9945\n",
      "6                                       Cohen's d =   -0.6439\n",
      "7                                       Hedge's g =   -0.6363\n",
      "8                                  Glass's delta1 =   -0.5389\n",
      "9                                Point-Biserial r =   -0.3108\n",
      "Recall Score T-Test\n",
      "                    Variable     N      Mean        SD        SE  95% Conf.  \\\n",
      "0  all_recall_score_original  33.0  0.151000  0.014727  0.002564   0.145778   \n",
      "1       all_recall_score_sog  33.0  0.158936  0.009326  0.001623   0.155630   \n",
      "2                   combined  66.0  0.154968  0.012868  0.001584   0.151805   \n",
      "\n",
      "   Interval  \n",
      "0  0.156222  \n",
      "1  0.162243  \n",
      "2  0.158131  \n",
      "                                  Independent t-test  results\n",
      "0  Difference (all_recall_score_original - all_re...  -0.0079\n",
      "1                              Degrees of freedom =   64.0000\n",
      "2                                               t =   -2.6155\n",
      "3                           Two side test p value =    0.0111\n",
      "4                          Difference < 0 p value =    0.0055\n",
      "5                          Difference > 0 p value =    0.9945\n",
      "6                                       Cohen's d =   -0.6439\n",
      "7                                       Hedge's g =   -0.6363\n",
      "8                                  Glass's delta1 =   -0.5389\n",
      "9                                Point-Biserial r =   -0.3108\n",
      "Precision Score T-Test\n",
      "                       Variable     N      Mean        SD        SE  \\\n",
      "0  all_precision_score_original  33.0  0.042343  0.007672  0.001336   \n",
      "1       all_precision_score_sog  33.0  0.043872  0.006190  0.001077   \n",
      "2                      combined  66.0  0.043107  0.006959  0.000857   \n",
      "\n",
      "   95% Conf.  Interval  \n",
      "0   0.039622  0.045063  \n",
      "1   0.041677  0.046067  \n",
      "2   0.041397  0.044818  \n",
      "                                  Independent t-test  results\n",
      "0  Difference (all_precision_score_original - all...  -0.0015\n",
      "1                              Degrees of freedom =   64.0000\n",
      "2                                               t =   -0.8913\n",
      "3                           Two side test p value =    0.3761\n",
      "4                          Difference < 0 p value =    0.1881\n",
      "5                          Difference > 0 p value =    0.8119\n",
      "6                                       Cohen's d =   -0.2194\n",
      "7                                       Hedge's g =   -0.2168\n",
      "8                                  Glass's delta1 =   -0.1993\n",
      "9                                Point-Biserial r =   -0.1107\n",
      "F1 Score T-Test\n",
      "                Variable     N      Mean        SD        SE  95% Conf.  \\\n",
      "0  all_f1_score_original  33.0  0.044211  0.004244  0.000739   0.042706   \n",
      "1       all_f1_score_sog  33.0  0.045730  0.002764  0.000481   0.044750   \n",
      "2               combined  66.0  0.044970  0.003635  0.000447   0.044077   \n",
      "\n",
      "   Interval  \n",
      "0  0.045716  \n",
      "1  0.046710  \n",
      "2  0.045864  \n",
      "                                  Independent t-test  results\n",
      "0  Difference (all_f1_score_original - all_f1_sco...  -0.0015\n",
      "1                              Degrees of freedom =   64.0000\n",
      "2                                               t =   -1.7226\n",
      "3                           Two side test p value =    0.0898\n",
      "4                          Difference < 0 p value =    0.0449\n",
      "5                          Difference > 0 p value =    0.9551\n",
      "6                                       Cohen's d =   -0.4241\n",
      "7                                       Hedge's g =   -0.4191\n",
      "8                                  Glass's delta1 =   -0.3579\n",
      "9                                Point-Biserial r =   -0.2105\n"
     ]
    }
   ],
   "source": [
    "#Random Forest #(C = 1000,kernel='rbf',gamma ='auto',probability = True)\n",
    "import experiment\n",
    "unstable_repeat_num= 30\n",
    "scope_num = 100\n",
    "class_num = 2\n",
    "dim_num = 7\n",
    "best_num = 48\n",
    "interval = 3\n",
    "\n",
    "\n",
    "features_chosen = [0,1,2,3]\n",
    "feature_combination_number = 2\n",
    "experiment = experiment.Experiment()\n",
    "experiment.UTtest_Discrete(dataread,class_num,scope_num,interval,features_chosen,feature_combination_number)"
   ]
  },
  {
   "cell_type": "code",
   "execution_count": 5,
   "id": "3a947be6",
   "metadata": {},
   "outputs": [
    {
     "name": "stdout",
     "output_type": "stream",
     "text": [
      "Sorted feature index for component 0 [0, 1, 2, 4, 6, 5, 3]\n",
      "Sorted imporance porporation for component 0  [0.5931306058457404, 0.2903223626999151, 0.05523473833654379, 0.05214054887217535, 0.005320332180498405, 0.0025179615262430873, 0.0013334505388835783]\n",
      "Sorted feature index for component 1 [0, 3, 1, 5, 2, 4, 6]\n",
      "Sorted imporance porporation for component 1  [0.6125227668173633, 0.2896890614271692, 0.06735518775878528, 0.02250051094905602, 0.0059966060444893105, 0.0011270107084776734, 0.0008088562946592584]\n",
      "Sorted feature index for component 2 [0, 2, 1, 3, 5, 6, 4]\n",
      "Sorted imporance porporation for component 2  [0.5481704207504163, 0.27860883226315575, 0.08168377101307192, 0.0366880783076103, 0.03539096384136357, 0.01633858950238464, 0.0031193443219975493]\n",
      "Sorted feature index for component 3 [0, 6, 4, 5, 2, 3, 1]\n",
      "Sorted imporance porporation for component 3  [0.772244216981002, 0.08118413529049141, 0.07063135533400913, 0.027616101828963974, 0.024879977204055433, 0.013424885055081132, 0.010019328306396824]\n",
      "Sorted feature index for component 4 [6, 4, 5, 1, 3, 2, 0]\n",
      "Sorted imporance porporation for component 4  [0.9515972332803754, 0.029497897802585216, 0.009606037179490441, 0.0034680823681508904, 0.003451648269933378, 0.0019117004284297876, 0.00046740067103487245]\n",
      "Sorted feature index for component 5 [0, 3, 1, 6, 2, 4, 5]\n",
      "Sorted imporance porporation for component 5  [0.5492959666230518, 0.2520621962262382, 0.09188244254019699, 0.05806875221440273, 0.02825760932462883, 0.018076519933187513, 0.0023565131382940444]\n",
      "Sorted feature index for component 6 [4, 5, 6, 1, 2, 3, 0]\n",
      "Sorted imporance porporation for component 6  [0.8367326188098699, 0.07696021482841384, 0.02499054217497066, 0.023239540656898244, 0.017376090091097956, 0.012962470211008999, 0.007738523227740453]\n",
      "[0.72478616 0.15403329 0.08975636 0.01772388 0.00542915 0.00510991\n",
      " 0.00316125]\n"
     ]
    },
    {
     "data": {
      "image/png": "[encoded data removed]",
      "text/plain": [
       "<Figure size 640x480 with 1 Axes>"
      ]
     },
     "metadata": {},
     "output_type": "display_data"
    }
   ],
   "source": [
    "dataread.PCA_Comparision() #COMPONENT 123   0,1,2|0,2,1| 0,2,1,3"
   ]
  },
  {
   "cell_type": "code",
   "execution_count": null,
   "id": "79bfdb90",
   "metadata": {},
   "outputs": [],
   "source": []
  }
 ],
 "metadata": {
  "kernelspec": {
   "display_name": "Python (GPU)",
   "language": "python",
   "name": "gpu_env"
  },
  "language_info": {
   "codemirror_mode": {
    "name": "ipython",
    "version": 3
   },
   "file_extension": ".py",
   "mimetype": "text/x-python",
   "name": "python",
   "nbconvert_exporter": "python",
   "pygments_lexer": "ipython3",
   "version": "3.9.18"
  }
 },
 "nbformat": 4,
 "nbformat_minor": 5
}
