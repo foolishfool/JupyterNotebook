{
 "cells": [
  {
   "cell_type": "code",
   "execution_count": 1,
   "id": "1f0fd19f",
   "metadata": {},
   "outputs": [
    {
     "name": "stderr",
     "output_type": "stream",
     "text": [
      "C:\\Users\\fooli\\anaconda3\\envs\\gpu_env\\lib\\site-packages\\scipy\\__init__.py:132: UserWarning: A NumPy version >=1.21.6 and <1.28.0 is required for this version of SciPy (detected version 1.21.4)\n",
      "  warnings.warn(f\"A NumPy version >={np_minversion} and <{np_maxversion}\"\n"
     ]
    }
   ],
   "source": [
    "#THIS CODE ONLY DO THE WHOLE DATA TRAINING, NO CROSS_VALIDATION AND FEATURE SELECTION\n",
    "import pandas as pd\n",
    "#numpy-1.21.4\n",
    "import numpy as np\n",
    "import newSom\n",
    "import experiment\n",
    "import dataset_read\n",
    "import researchpy as rp\n",
    "import scipy.stats as stats\n",
    "import matplotlib.pyplot as plt\n",
    "import collections\n",
    "import warnings\n",
    "warnings.filterwarnings(\"ignore\", category=np.VisibleDeprecationWarning) \n"
   ]
  },
  {
   "cell_type": "code",
   "execution_count": 2,
   "id": "20008bb5",
   "metadata": {},
   "outputs": [],
   "source": [
    "dataread = dataset_read.DATAREAD()"
   ]
  },
  {
   "cell_type": "code",
   "execution_count": 3,
   "id": "25e9098d",
   "metadata": {},
   "outputs": [
    {
     "name": "stdout",
     "output_type": "stream",
     "text": [
      "self.data_continuous_indexes ['Join Date', 'Last Payment Date', 'Age']\n",
      "self.continuous_feature_num 3\n",
      "self.data_discrete_indexes ['Monthly Revenue', 'Country', 'Gender', 'Device'] \n"
     ]
    }
   ],
   "source": [
    "csv = pd.read_csv(\"Netflix Userbase.csv\")\n",
    "csv = csv.drop(columns=['User ID','Plan Duration'])\n",
    "csv_original_encode = csv\n",
    "\n",
    "\n",
    "# class label do not need to onehot encoding\n",
    "dataread.label_encoding(csv_original_encode,\"Subscription Type\")\n",
    "#one hot encoding vs proposed\n",
    "dataread.onehot_encoding(csv_original_encode,[\"Country\",\"Gender\",\"Device\"])\n",
    "\n",
    "dataread.label_encoding(csv,\"Subscription Type\")\n",
    "dataread.label_encoding(csv,\"Country\")\n",
    "dataread.label_encoding(csv,\"Gender\")\n",
    "dataread.label_encoding(csv,\"Device\")\n",
    "\n",
    "\n",
    "# label encoding\n",
    "#dataread.original_encoding_data = csv\n",
    "#*** -1 the class labe is not included \n",
    "#dataread.original_encoded_feature_num = csv.shape[1]-1\n",
    "\n",
    "\n",
    "csv_test = csv.sample(int(csv.shape[0]*0.3))\n",
    "csv_training = csv.drop(csv_test.index,axis = 0)\n",
    "\n",
    "csv_test_original_encoded = dataread.original_encoding_data.sample(int(dataread.original_encoding_data.shape[0]*0.3))\n",
    "csv_training_original_encoded = dataread.original_encoding_data.drop(csv_test_original_encoded.index,axis = 0)\n",
    "\n",
    "\n",
    "selected_features = []\n",
    "\n",
    "dataread.initializedataset(csv,csv_training,csv_test,csv_training_original_encoded,csv_test_original_encoded,\"Subscription Type\",selected_features)\n"
   ]
  },
  {
   "cell_type": "code",
   "execution_count": 4,
   "id": "ca12f840",
   "metadata": {
    "scrolled": false
   },
   "outputs": [
    {
     "name": "stdout",
     "output_type": "stream",
     "text": [
      "neuron unit number: 5\n",
      "self.train_new_embedding_sog_fuzzy.shape[1] 20\n",
      "test_discrete_score_W0_p 0.42133333333333334\n",
      "test_discrete_score_W0_n 0.0\n",
      "test_discrete_score_W0_a 0.0\n"
     ]
    },
    {
     "ename": "TypeError",
     "evalue": "get_indices_and_data_in_predicted_clusters() takes 3 positional arguments but 4 were given",
     "output_type": "error",
     "traceback": [
      "\u001b[1;31m---------------------------------------------------------------------------\u001b[0m",
      "\u001b[1;31mTypeError\u001b[0m                                 Traceback (most recent call last)",
      "Cell \u001b[1;32mIn[4], line 11\u001b[0m\n\u001b[0;32m      9\u001b[0m features \u001b[38;5;241m=\u001b[39m[\u001b[38;5;241m0\u001b[39m,\u001b[38;5;241m1\u001b[39m]\n\u001b[0;32m     10\u001b[0m experiment \u001b[38;5;241m=\u001b[39m experiment\u001b[38;5;241m.\u001b[39mExperiment()\n\u001b[1;32m---> 11\u001b[0m \u001b[43mexperiment\u001b[49m\u001b[38;5;241;43m.\u001b[39;49m\u001b[43mUTtest_Discrete_Continuous\u001b[49m\u001b[43m(\u001b[49m\u001b[43mdataread\u001b[49m\u001b[43m,\u001b[49m\u001b[38;5;28;43;01mFalse\u001b[39;49;00m\u001b[43m,\u001b[49m\u001b[43mclass_num\u001b[49m\u001b[43m,\u001b[49m\u001b[43mbest_num\u001b[49m\u001b[43m,\u001b[49m\u001b[43m \u001b[49m\u001b[43mscope_num\u001b[49m\u001b[43m,\u001b[49m\u001b[43munstable_repeat_num\u001b[49m\u001b[43m,\u001b[49m\u001b[38;5;241;43m0\u001b[39;49m\u001b[43m,\u001b[49m\u001b[43minterval\u001b[49m\u001b[43m,\u001b[49m\u001b[38;5;241;43m1\u001b[39;49m\u001b[43m,\u001b[49m\u001b[38;5;241;43m3\u001b[39;49m\u001b[43m,\u001b[49m\u001b[43mfeatures\u001b[49m\u001b[43m)\u001b[49m\n",
      "File \u001b[1;32mC:\\JupyterDoc\\SOM\\experiment.py:314\u001b[0m, in \u001b[0;36mExperiment.UTtest_Discrete_Continuous\u001b[1;34m(self, dataread, noralimized, class_num, best_num, neuron_scope_num, unstable_repeat_num, type, interval, test_type, compareType, features_choosen)\u001b[0m\n\u001b[0;32m    312\u001b[0m \u001b[38;5;28;01mwhile\u001b[39;00m y \u001b[38;5;241m<\u001b[39m\u001b[38;5;241m=\u001b[39m neuron_scope_num:\n\u001b[0;32m    313\u001b[0m     \u001b[38;5;28mprint\u001b[39m(\u001b[38;5;124m\"\u001b[39m\u001b[38;5;124mneuron unit number: \u001b[39m\u001b[38;5;132;01m{}\u001b[39;00m\u001b[38;5;124m\"\u001b[39m\u001b[38;5;241m.\u001b[39mformat(y))           \n\u001b[1;32m--> 314\u001b[0m     \u001b[38;5;28;43mself\u001b[39;49m\u001b[38;5;241;43m.\u001b[39;49m\u001b[43mInitializedExperimentDataList\u001b[49m\u001b[43m(\u001b[49m\n\u001b[0;32m    315\u001b[0m \u001b[43m                        \u001b[49m\u001b[43mdataread\u001b[49m\u001b[43m,\u001b[49m\n\u001b[0;32m    316\u001b[0m \u001b[43m                        \u001b[49m\u001b[43mnoralimized\u001b[49m\u001b[43m,\u001b[49m\n\u001b[0;32m    317\u001b[0m \u001b[43m                        \u001b[49m\u001b[43my\u001b[49m\u001b[43m,\u001b[49m\n\u001b[0;32m    318\u001b[0m \u001b[43m                        \u001b[49m\u001b[43mall_train_score_W0_p\u001b[49m\u001b[43m,\u001b[49m\n\u001b[0;32m    319\u001b[0m \u001b[43m                        \u001b[49m\u001b[43mall_train_score_W_combine_p\u001b[49m\u001b[43m,\u001b[49m\n\u001b[0;32m    320\u001b[0m \u001b[43m                        \u001b[49m\u001b[43mtest_score_W0_p\u001b[49m\u001b[43m,\u001b[49m\n\u001b[0;32m    321\u001b[0m \u001b[43m                        \u001b[49m\u001b[43mtest_score_W_combine_p\u001b[49m\u001b[43m,\u001b[49m\n\u001b[0;32m    322\u001b[0m \u001b[43m                        \u001b[49m\u001b[43mall_train_score_W0_n\u001b[49m\u001b[43m,\u001b[49m\n\u001b[0;32m    323\u001b[0m \u001b[43m                        \u001b[49m\u001b[43mall_train_score_W_combine_n\u001b[49m\u001b[43m,\u001b[49m\n\u001b[0;32m    324\u001b[0m \u001b[43m                        \u001b[49m\u001b[43mtest_score_W0_n\u001b[49m\u001b[43m,\u001b[49m\n\u001b[0;32m    325\u001b[0m \u001b[43m                        \u001b[49m\u001b[43mtest_score_W_combine_n\u001b[49m\u001b[43m,\u001b[49m\n\u001b[0;32m    326\u001b[0m \u001b[43m                        \u001b[49m\u001b[43mall_train_score_W0_a\u001b[49m\u001b[43m,\u001b[49m\n\u001b[0;32m    327\u001b[0m \u001b[43m                        \u001b[49m\u001b[43mall_train_score_W_combine_a\u001b[49m\u001b[43m,\u001b[49m\n\u001b[0;32m    328\u001b[0m \u001b[43m                        \u001b[49m\u001b[43mtest_score_W0_a\u001b[49m\u001b[43m,\u001b[49m\n\u001b[0;32m    329\u001b[0m \u001b[43m                        \u001b[49m\u001b[43mtest_score_W_combine_a\u001b[49m\u001b[43m,\u001b[49m\n\u001b[0;32m    330\u001b[0m \u001b[43m                        \u001b[49m\u001b[43mtrain_discrete_score_W0_p\u001b[49m\u001b[43m,\u001b[49m\n\u001b[0;32m    331\u001b[0m \u001b[43m                        \u001b[49m\u001b[43mtrain_discrete_score_W_discrete_p\u001b[49m\u001b[43m,\u001b[49m\n\u001b[0;32m    332\u001b[0m \u001b[43m                        \u001b[49m\u001b[43mtest_discrete_score_W0_p\u001b[49m\u001b[43m,\u001b[49m\n\u001b[0;32m    333\u001b[0m \u001b[43m                        \u001b[49m\u001b[43mtest_discrete_score_W_discrete_p\u001b[49m\u001b[43m,\u001b[49m\n\u001b[0;32m    334\u001b[0m \u001b[43m                        \u001b[49m\u001b[43mtrain_discrete_score_W0_n\u001b[49m\u001b[43m,\u001b[49m\n\u001b[0;32m    335\u001b[0m \u001b[43m                        \u001b[49m\u001b[43mtrain_discrete_score_W_discrete_n\u001b[49m\u001b[43m,\u001b[49m\n\u001b[0;32m    336\u001b[0m \u001b[43m                        \u001b[49m\u001b[43mtest_discrete_score_W0_n\u001b[49m\u001b[43m,\u001b[49m\n\u001b[0;32m    337\u001b[0m \u001b[43m                        \u001b[49m\u001b[43mtest_discrete_score_W_discrete_n\u001b[49m\u001b[43m,\u001b[49m\n\u001b[0;32m    338\u001b[0m \u001b[43m                        \u001b[49m\u001b[43mtrain_discrete_score_W0_a\u001b[49m\u001b[43m,\u001b[49m\n\u001b[0;32m    339\u001b[0m \u001b[43m                        \u001b[49m\u001b[43mtrain_discrete_score_W_discrete_a\u001b[49m\u001b[43m,\u001b[49m\n\u001b[0;32m    340\u001b[0m \u001b[43m                        \u001b[49m\u001b[43mtest_discrete_score_W0_a\u001b[49m\u001b[43m,\u001b[49m\n\u001b[0;32m    341\u001b[0m \u001b[43m                        \u001b[49m\u001b[43mtest_discrete_score_W_discrete_a\u001b[49m\u001b[43m,\u001b[49m\n\u001b[0;32m    342\u001b[0m \u001b[43m                        \u001b[49m\u001b[43mtest_type\u001b[49m\u001b[43m,\u001b[49m\n\u001b[0;32m    343\u001b[0m \u001b[43m                        \u001b[49m\u001b[43mcompareType\u001b[49m\u001b[43m,\u001b[49m\n\u001b[0;32m    344\u001b[0m \u001b[43m                        \u001b[49m\u001b[43mfeatures_choosen\u001b[49m\n\u001b[0;32m    345\u001b[0m \u001b[43m                        \u001b[49m\u001b[43m)\u001b[49m        \n\u001b[0;32m    346\u001b[0m     y \u001b[38;5;241m=\u001b[39my \u001b[38;5;241m+\u001b[39m interval\n\u001b[0;32m    347\u001b[0m     \u001b[38;5;28;01mif\u001b[39;00m(y\u001b[38;5;241m<\u001b[39m\u001b[38;5;241m=\u001b[39m neuron_scope_num):\n",
      "File \u001b[1;32mC:\\JupyterDoc\\SOM\\experiment.py:201\u001b[0m, in \u001b[0;36mExperiment.InitializedExperimentDataList\u001b[1;34m(self, dataread, continuous_features_noralimized, y, all_train_score_W0_p, all_train_score_W_combine_p, test_score_W0_p, test_score_W_combine_p, all_train_score_W0_n, all_train_score_W_combine_n, test_score_W0_n, test_score_W_combine_n, all_train_score_W0_a, all_train_score_W_combine_a, test_score_W0_a, test_score_W_combine_a, train_discrete_score_W0_p, train_discrete_score_W_discrete_p, test_discrete_score_W0_p, test_discrete_score_W_discrete_p, train_discrete_score_W0_n, train_discrete_score_W_discrete_n, test_discrete_score_W0_n, test_discrete_score_W_discrete_n, train_discrete_score_W0_a, train_discrete_score_W_discrete_a, test_discrete_score_W0_a, test_discrete_score_W_discrete_a, iscontinous_data_test, compareType, features_choosen)\u001b[0m\n\u001b[0;32m    199\u001b[0m     optimize_W\u001b[38;5;241m.\u001b[39mdo_COSOM(optimize_W\u001b[38;5;241m.\u001b[39msom_discrete_original,optimize_W\u001b[38;5;241m.\u001b[39mdata_train_discrete_normalized, optimize_W\u001b[38;5;241m.\u001b[39mdata_train_discrete_unnormalized, optimize_W\u001b[38;5;241m.\u001b[39mdata_test_discrete_normalized,optimize_W\u001b[38;5;241m.\u001b[39mdata_test_discrete_unnormalized,iscontinous_data_test,\u001b[38;5;241m1\u001b[39m)\n\u001b[0;32m    200\u001b[0m \u001b[38;5;28;01mif\u001b[39;00m compareType \u001b[38;5;241m==\u001b[39m \u001b[38;5;241m3\u001b[39m: \u001b[38;5;66;03m#discrete unnormalization\u001b[39;00m\n\u001b[1;32m--> 201\u001b[0m      \u001b[43moptimize_W\u001b[49m\u001b[38;5;241;43m.\u001b[39;49m\u001b[43mdo_DOSOM\u001b[49m\u001b[43m(\u001b[49m\u001b[43mfeatures_choosen\u001b[49m\u001b[43m,\u001b[49m\u001b[38;5;28;43;01mFalse\u001b[39;49;00m\u001b[43m)\u001b[49m\n\u001b[0;32m    202\u001b[0m      \u001b[38;5;66;03m#get self.discrete_data_embedding_sog  and  self.test_new_embedding_sog\u001b[39;00m\n\u001b[0;32m    203\u001b[0m      \u001b[38;5;66;03m#optimize_W.get_SOG_Embedding()\u001b[39;00m\n\u001b[0;32m    204\u001b[0m \u001b[38;5;28;01mif\u001b[39;00m compareType \u001b[38;5;241m==\u001b[39m \u001b[38;5;241m4\u001b[39m: \u001b[38;5;66;03m# hybrid embedding continous + discrete_embedding\u001b[39;00m\n",
      "File \u001b[1;32mC:\\JupyterDoc\\SOM\\CDSOM.py:1209\u001b[0m, in \u001b[0;36mCDSOM.do_DOSOM\u001b[1;34m(self, features_chosoen, fuzzy_set_no_probability)\u001b[0m\n\u001b[0;32m   1205\u001b[0m \u001b[38;5;28mself\u001b[39m\u001b[38;5;241m.\u001b[39msom_sog_features\u001b[38;5;241m.\u001b[39mfit(\u001b[38;5;28mself\u001b[39m\u001b[38;5;241m.\u001b[39mtrain_new_embedding_sog_fuzzy_features)\n\u001b[0;32m   1207\u001b[0m \u001b[38;5;28mself\u001b[39m\u001b[38;5;241m.\u001b[39mtest_discrete_features_predicted_label \u001b[38;5;241m=\u001b[39m \u001b[38;5;28mself\u001b[39m\u001b[38;5;241m.\u001b[39msom_sog_features\u001b[38;5;241m.\u001b[39mpredict(\u001b[38;5;28mself\u001b[39m\u001b[38;5;241m.\u001b[39mtest_new_embedding_sog_fuzzy_features,\u001b[38;5;28mself\u001b[39m\u001b[38;5;241m.\u001b[39msom_sog_features\u001b[38;5;241m.\u001b[39mweights0) \n\u001b[1;32m-> 1209\u001b[0m predicted_clusters_transferred, current_clustered_datas_cleaned \u001b[38;5;241m=\u001b[39m \u001b[38;5;28;43mself\u001b[39;49m\u001b[38;5;241;43m.\u001b[39;49m\u001b[43mget_indices_and_data_in_predicted_clusters\u001b[49m\u001b[43m(\u001b[49m\u001b[38;5;28;43mself\u001b[39;49m\u001b[38;5;241;43m.\u001b[39;49m\u001b[43msom_sog_features\u001b[49m\u001b[38;5;241;43m.\u001b[39;49m\u001b[43mweights0\u001b[49m\u001b[38;5;241;43m.\u001b[39;49m\u001b[43mshape\u001b[49m\u001b[43m[\u001b[49m\u001b[38;5;241;43m0\u001b[39;49m\u001b[43m]\u001b[49m\u001b[43m,\u001b[49m\u001b[43m  \u001b[49m\u001b[38;5;28;43mself\u001b[39;49m\u001b[38;5;241;43m.\u001b[39;49m\u001b[43mtest_discrete_features_predicted_label\u001b[49m\u001b[43m,\u001b[49m\u001b[38;5;28;43mself\u001b[39;49m\u001b[38;5;241;43m.\u001b[39;49m\u001b[43mtest_new_embedding_sog_fuzzy_features\u001b[49m\u001b[43m)\u001b[49m \n\u001b[0;32m   1210\u001b[0m \u001b[38;5;28mself\u001b[39m\u001b[38;5;241m.\u001b[39mgetLabelMapping( \u001b[38;5;28mself\u001b[39m\u001b[38;5;241m.\u001b[39mget_mapped_class_in_clusters(predicted_clusters_transferred,\u001b[38;5;28mself\u001b[39m\u001b[38;5;241m.\u001b[39mtest_label_all) ,\u001b[38;5;241m2\u001b[39m)  \n\u001b[0;32m   1211\u001b[0m transferred_predicted_label_test_W_transferred \u001b[38;5;241m=\u001b[39m  \u001b[38;5;28mself\u001b[39m\u001b[38;5;241m.\u001b[39mconvertPredictedLabelValue( \u001b[38;5;28mself\u001b[39m\u001b[38;5;241m.\u001b[39mtest_discrete_features_predicted_label,\u001b[38;5;28mself\u001b[39m\u001b[38;5;241m.\u001b[39mPLabel_to_Tlabel_Mapping_W_Discrete) \n",
      "\u001b[1;31mTypeError\u001b[0m: get_indices_and_data_in_predicted_clusters() takes 3 positional arguments but 4 were given"
     ]
    }
   ],
   "source": [
    "# fuzzy vs baseN encoding DBSCAN\n",
    "import experiment\n",
    "unstable_repeat_num= 1\n",
    "best_num =26\n",
    "scope_num = 10\n",
    "class_num = 5\n",
    "interval = 1\n",
    "\n",
    "features =[0,1]\n",
    "experiment = experiment.Experiment()\n",
    "experiment.UTtest_Discrete_Continuous(dataread,False,class_num,best_num, scope_num,unstable_repeat_num,0,interval,1,3,features)\n"
   ]
  },
  {
   "cell_type": "code",
   "execution_count": null,
   "id": "65cc2be2",
   "metadata": {},
   "outputs": [],
   "source": []
  },
  {
   "cell_type": "code",
   "execution_count": null,
   "id": "96ae001f",
   "metadata": {},
   "outputs": [],
   "source": []
  }
 ],
 "metadata": {
  "kernelspec": {
   "display_name": "Python (GPU)",
   "language": "python",
   "name": "gpu_env"
  },
  "language_info": {
   "codemirror_mode": {
    "name": "ipython",
    "version": 3
   },
   "file_extension": ".py",
   "mimetype": "text/x-python",
   "name": "python",
   "nbconvert_exporter": "python",
   "pygments_lexer": "ipython3",
   "version": "3.9.18"
  }
 },
 "nbformat": 4,
 "nbformat_minor": 5
}
