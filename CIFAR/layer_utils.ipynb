{
 "cells": [
  {
   "cell_type": "code",
   "execution_count": null,
   "id": "db8313fa",
   "metadata": {},
   "outputs": [],
   "source": [
    "from layers import *"
   ]
  },
  {
   "cell_type": "code",
   "execution_count": null,
   "id": "7813ca0c",
   "metadata": {},
   "outputs": [],
   "source": [
    "def affine_relu_forward(x,w,b):\n",
    "    \"\"\"\n",
    "        covinence layer that perform an affine transform followed by a ReLU function\n",
    "        \n",
    "        -x input to the affine layer\n",
    "        - w, b : weight for the affline layer\n",
    "        \n",
    "        return a tuple of \n",
    "        -out: Output from the ReLU\n",
    "        -cache: ojbect to give to the backward pass\n",
    "        \"\"\"\n",
    "    a, fc_cache = affine_forward(x,w,b)\n"
   ]
  }
 ],
 "metadata": {
  "kernelspec": {
   "display_name": "Python 3",
   "language": "python",
   "name": "python3"
  },
  "language_info": {
   "codemirror_mode": {
    "name": "ipython",
    "version": 3
   },
   "file_extension": ".py",
   "mimetype": "text/x-python",
   "name": "python",
   "nbconvert_exporter": "python",
   "pygments_lexer": "ipython3",
   "version": "3.8.8"
  }
 },
 "nbformat": 4,
 "nbformat_minor": 5
}
