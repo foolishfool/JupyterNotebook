{
 "cells": [
  {
   "cell_type": "code",
   "execution_count": 10,
   "id": "ac04be63",
   "metadata": {},
   "outputs": [
    {
     "name": "stdout",
     "output_type": "stream",
     "text": [
      "D:\\cygwin64\\home\\fooli\n"
     ]
    }
   ],
   "source": [
    "import sys\n",
    "import os\n",
    "path = \"\"\n",
    "coswara_data_dir = os.path.abspath(path) \n",
    "print(coswara_data_dir)"
   ]
  },
  {
   "cell_type": "code",
   "execution_count": 20,
   "id": "48d1a5df",
   "metadata": {},
   "outputs": [
    {
     "name": "stdout",
     "output_type": "stream",
     "text": [
      "D:\\cygwin64\\home\\fooli\\Extracted_data\n",
      "D:\\cygwin64\\home\\fooli\\Extracted_data\n",
      "Extraction process complete!\n"
     ]
    },
    {
     "name": "stderr",
     "output_type": "stream",
     "text": [
      "tar: Cannot connect to D: resolve failed\n"
     ]
    }
   ],
   "source": [
    "!Python ./extract_data1.py ./"
   ]
  },
  {
   "cell_type": "code",
   "execution_count": null,
   "id": "84e05817",
   "metadata": {},
   "outputs": [],
   "source": []
  },
  {
   "cell_type": "code",
   "execution_count": null,
   "id": "d20f0019",
   "metadata": {},
   "outputs": [],
   "source": []
  }
 ],
 "metadata": {
  "kernelspec": {
   "display_name": "Python 3",
   "language": "python",
   "name": "python3"
  },
  "language_info": {
   "codemirror_mode": {
    "name": "ipython",
    "version": 3
   },
   "file_extension": ".py",
   "mimetype": "text/x-python",
   "name": "python",
   "nbconvert_exporter": "python",
   "pygments_lexer": "ipython3",
   "version": "3.8.8"
  }
 },
 "nbformat": 4,
 "nbformat_minor": 5
}
