{
 "cells": [
  {
   "cell_type": "code",
   "execution_count": 1,
   "id": "dc64d25d",
   "metadata": {
    "scrolled": false
   },
   "outputs": [],
   "source": [
    "#THIS CODE ONLY DO THE WHOLE DATA TRAINING, NO CROSS_VALIDATION AND FEATURE SELECTION\n",
    "import pandas as pd\n",
    "import numpy as np\n",
    "import dataset_read\n",
    "import researchpy as rp\n",
    "import scipy.stats as stats\n",
    "import matplotlib.pyplot as plt\n",
    "import collections\n",
    "import warnings\n",
    "warnings.filterwarnings(\"ignore\", category=np.VisibleDeprecationWarning) \n",
    "dataread = dataset_read.DATAREAD()"
   ]
  },
  {
   "cell_type": "code",
   "execution_count": 12,
   "id": "08ffa2e2",
   "metadata": {
    "scrolled": true
   },
   "outputs": [
    {
     "name": "stdout",
     "output_type": "stream",
     "text": [
      "continuous_feature_num 2\n",
      "discrete_feature_num 3\n",
      "self.data_discrete_indexes ['Sex', 'BP', 'Cholesterol'] \n"
     ]
    }
   ],
   "source": [
    "csv = pd.read_csv(\"drug200.csv\")\n",
    "#csv = csv.drop(columns=['ID'])\n",
    "#csv = csv.sample(int(csv.shape[0]*0.1))\n",
    "\n",
    "\n",
    "dataread.label_encoding(csv,\"Sex\")\n",
    "dataread.label_encoding(csv,\"BP\")\n",
    "dataread.label_encoding(csv,\"Cholesterol\")\n",
    "dataread.label_encoding(csv,\"Drug\")\n",
    "\n",
    "\n",
    "csv_test = csv.sample(int(csv.shape[0]*0.3))\n",
    "csv_training = csv.drop(csv_test.index,axis = 0)\n",
    "\n",
    "dataread.initializedataset(csv,csv_training,csv_test,\"Drug\")\n",
    "\n",
    "\n",
    "\n",
    "\n"
   ]
  },
  {
   "cell_type": "code",
   "execution_count": 13,
   "id": "8cf09260",
   "metadata": {
    "scrolled": true
   },
   "outputs": [
    {
     "name": "stdout",
     "output_type": "stream",
     "text": [
      "Experiment number: 1\n",
      "accuracy_score_baseline 0.5\n",
      "recall_score_baseline 0.38831932773109246\n",
      "precision_score_baseline 0.3564233163554046\n",
      "f1_score_baseline 0.371391884951207\n",
      "accuracy_score_fcg 0.45\n",
      "recall_score_fcg 0.5291316526610644\n",
      "precision_score_fcg 0.4372268907563025\n",
      "f1_score_fcg 0.4342808893892485\n",
      "Not good accuracy result !!!!!\n",
      "Experiment number: 2\n"
     ]
    },
    {
     "name": "stderr",
     "output_type": "stream",
     "text": [
      "C:\\Users\\fooli\\anaconda3\\envs\\gpu_env\\lib\\site-packages\\sklearn\\metrics\\_classification.py:1469: UndefinedMetricWarning: Precision is ill-defined and being set to 0.0 in labels with no predicted samples. Use `zero_division` parameter to control this behavior.\n",
      "  _warn_prf(average, modifier, msg_start, len(result))\n"
     ]
    },
    {
     "name": "stdout",
     "output_type": "stream",
     "text": [
      "accuracy_score_baseline 0.5\n",
      "recall_score_baseline 0.38831932773109246\n",
      "precision_score_baseline 0.3564233163554046\n",
      "f1_score_baseline 0.371391884951207\n",
      "accuracy_score_fcg 0.45\n",
      "recall_score_fcg 0.5291316526610644\n",
      "precision_score_fcg 0.4372268907563025\n",
      "f1_score_fcg 0.4342808893892485\n",
      "Not good accuracy result !!!!!\n",
      "Experiment number: 3\n"
     ]
    },
    {
     "name": "stderr",
     "output_type": "stream",
     "text": [
      "C:\\Users\\fooli\\anaconda3\\envs\\gpu_env\\lib\\site-packages\\sklearn\\metrics\\_classification.py:1469: UndefinedMetricWarning: Precision is ill-defined and being set to 0.0 in labels with no predicted samples. Use `zero_division` parameter to control this behavior.\n",
      "  _warn_prf(average, modifier, msg_start, len(result))\n"
     ]
    },
    {
     "name": "stdout",
     "output_type": "stream",
     "text": [
      "accuracy_score_baseline 0.5\n",
      "recall_score_baseline 0.38831932773109246\n",
      "precision_score_baseline 0.3564233163554046\n",
      "f1_score_baseline 0.371391884951207\n",
      "accuracy_score_fcg 0.45\n",
      "recall_score_fcg 0.5291316526610644\n",
      "precision_score_fcg 0.4372268907563025\n",
      "f1_score_fcg 0.4342808893892485\n",
      "Not good accuracy result !!!!!\n",
      "Experiment number: 4\n"
     ]
    },
    {
     "name": "stderr",
     "output_type": "stream",
     "text": [
      "C:\\Users\\fooli\\anaconda3\\envs\\gpu_env\\lib\\site-packages\\sklearn\\metrics\\_classification.py:1469: UndefinedMetricWarning: Precision is ill-defined and being set to 0.0 in labels with no predicted samples. Use `zero_division` parameter to control this behavior.\n",
      "  _warn_prf(average, modifier, msg_start, len(result))\n"
     ]
    },
    {
     "name": "stdout",
     "output_type": "stream",
     "text": [
      "accuracy_score_baseline 0.5\n",
      "recall_score_baseline 0.38831932773109246\n",
      "precision_score_baseline 0.3564233163554046\n",
      "f1_score_baseline 0.371391884951207\n",
      "accuracy_score_fcg 0.45\n",
      "recall_score_fcg 0.5291316526610644\n",
      "precision_score_fcg 0.4372268907563025\n",
      "f1_score_fcg 0.4342808893892485\n",
      "Not good accuracy result !!!!!\n",
      "Experiment number: 5\n"
     ]
    },
    {
     "name": "stderr",
     "output_type": "stream",
     "text": [
      "C:\\Users\\fooli\\anaconda3\\envs\\gpu_env\\lib\\site-packages\\sklearn\\metrics\\_classification.py:1469: UndefinedMetricWarning: Precision is ill-defined and being set to 0.0 in labels with no predicted samples. Use `zero_division` parameter to control this behavior.\n",
      "  _warn_prf(average, modifier, msg_start, len(result))\n"
     ]
    },
    {
     "name": "stdout",
     "output_type": "stream",
     "text": [
      "accuracy_score_baseline 0.5\n",
      "recall_score_baseline 0.38831932773109246\n",
      "precision_score_baseline 0.3564233163554046\n",
      "f1_score_baseline 0.371391884951207\n",
      "accuracy_score_fcg 0.45\n",
      "recall_score_fcg 0.5291316526610644\n",
      "precision_score_fcg 0.4372268907563025\n",
      "f1_score_fcg 0.4342808893892485\n",
      "Not good accuracy result !!!!!\n",
      "Experiment number: 6\n"
     ]
    },
    {
     "name": "stderr",
     "output_type": "stream",
     "text": [
      "C:\\Users\\fooli\\anaconda3\\envs\\gpu_env\\lib\\site-packages\\sklearn\\metrics\\_classification.py:1469: UndefinedMetricWarning: Precision is ill-defined and being set to 0.0 in labels with no predicted samples. Use `zero_division` parameter to control this behavior.\n",
      "  _warn_prf(average, modifier, msg_start, len(result))\n"
     ]
    },
    {
     "name": "stdout",
     "output_type": "stream",
     "text": [
      "accuracy_score_baseline 0.5\n",
      "recall_score_baseline 0.38831932773109246\n",
      "precision_score_baseline 0.3564233163554046\n",
      "f1_score_baseline 0.371391884951207\n",
      "accuracy_score_fcg 0.45\n",
      "recall_score_fcg 0.5291316526610644\n",
      "precision_score_fcg 0.4372268907563025\n",
      "f1_score_fcg 0.4342808893892485\n",
      "Not good accuracy result !!!!!\n",
      "Experiment number: 7\n"
     ]
    },
    {
     "name": "stderr",
     "output_type": "stream",
     "text": [
      "C:\\Users\\fooli\\anaconda3\\envs\\gpu_env\\lib\\site-packages\\sklearn\\metrics\\_classification.py:1469: UndefinedMetricWarning: Precision is ill-defined and being set to 0.0 in labels with no predicted samples. Use `zero_division` parameter to control this behavior.\n",
      "  _warn_prf(average, modifier, msg_start, len(result))\n"
     ]
    },
    {
     "name": "stdout",
     "output_type": "stream",
     "text": [
      "accuracy_score_baseline 0.5\n",
      "recall_score_baseline 0.38831932773109246\n",
      "precision_score_baseline 0.3564233163554046\n",
      "f1_score_baseline 0.371391884951207\n",
      "accuracy_score_fcg 0.45\n",
      "recall_score_fcg 0.5291316526610644\n",
      "precision_score_fcg 0.4372268907563025\n",
      "f1_score_fcg 0.4342808893892485\n",
      "Not good accuracy result !!!!!\n",
      "Experiment number: 8\n"
     ]
    },
    {
     "name": "stderr",
     "output_type": "stream",
     "text": [
      "C:\\Users\\fooli\\anaconda3\\envs\\gpu_env\\lib\\site-packages\\sklearn\\metrics\\_classification.py:1469: UndefinedMetricWarning: Precision is ill-defined and being set to 0.0 in labels with no predicted samples. Use `zero_division` parameter to control this behavior.\n",
      "  _warn_prf(average, modifier, msg_start, len(result))\n"
     ]
    },
    {
     "name": "stdout",
     "output_type": "stream",
     "text": [
      "accuracy_score_baseline 0.5\n",
      "recall_score_baseline 0.38831932773109246\n",
      "precision_score_baseline 0.3564233163554046\n",
      "f1_score_baseline 0.371391884951207\n",
      "accuracy_score_fcg 0.45\n",
      "recall_score_fcg 0.5291316526610644\n",
      "precision_score_fcg 0.4372268907563025\n",
      "f1_score_fcg 0.4342808893892485\n",
      "Not good accuracy result !!!!!\n",
      "Experiment number: 9\n"
     ]
    },
    {
     "name": "stderr",
     "output_type": "stream",
     "text": [
      "C:\\Users\\fooli\\anaconda3\\envs\\gpu_env\\lib\\site-packages\\sklearn\\metrics\\_classification.py:1469: UndefinedMetricWarning: Precision is ill-defined and being set to 0.0 in labels with no predicted samples. Use `zero_division` parameter to control this behavior.\n",
      "  _warn_prf(average, modifier, msg_start, len(result))\n"
     ]
    },
    {
     "name": "stdout",
     "output_type": "stream",
     "text": [
      "accuracy_score_baseline 0.5\n",
      "recall_score_baseline 0.38831932773109246\n",
      "precision_score_baseline 0.3564233163554046\n",
      "f1_score_baseline 0.371391884951207\n",
      "accuracy_score_fcg 0.45\n",
      "recall_score_fcg 0.5291316526610644\n",
      "precision_score_fcg 0.4372268907563025\n",
      "f1_score_fcg 0.4342808893892485\n",
      "Not good accuracy result !!!!!\n",
      "Experiment number: 10\n"
     ]
    },
    {
     "name": "stderr",
     "output_type": "stream",
     "text": [
      "C:\\Users\\fooli\\anaconda3\\envs\\gpu_env\\lib\\site-packages\\sklearn\\metrics\\_classification.py:1469: UndefinedMetricWarning: Precision is ill-defined and being set to 0.0 in labels with no predicted samples. Use `zero_division` parameter to control this behavior.\n",
      "  _warn_prf(average, modifier, msg_start, len(result))\n"
     ]
    },
    {
     "name": "stdout",
     "output_type": "stream",
     "text": [
      "accuracy_score_baseline 0.5\n",
      "recall_score_baseline 0.38831932773109246\n",
      "precision_score_baseline 0.3564233163554046\n",
      "f1_score_baseline 0.371391884951207\n",
      "accuracy_score_fcg 0.45\n",
      "recall_score_fcg 0.5291316526610644\n",
      "precision_score_fcg 0.4372268907563025\n",
      "f1_score_fcg 0.4342808893892485\n",
      "Not good accuracy result !!!!!\n",
      "Experiment number: 11\n"
     ]
    },
    {
     "name": "stderr",
     "output_type": "stream",
     "text": [
      "C:\\Users\\fooli\\anaconda3\\envs\\gpu_env\\lib\\site-packages\\sklearn\\metrics\\_classification.py:1469: UndefinedMetricWarning: Precision is ill-defined and being set to 0.0 in labels with no predicted samples. Use `zero_division` parameter to control this behavior.\n",
      "  _warn_prf(average, modifier, msg_start, len(result))\n"
     ]
    },
    {
     "name": "stdout",
     "output_type": "stream",
     "text": [
      "accuracy_score_baseline 0.5\n",
      "recall_score_baseline 0.38831932773109246\n",
      "precision_score_baseline 0.3564233163554046\n",
      "f1_score_baseline 0.371391884951207\n",
      "accuracy_score_fcg 0.45\n",
      "recall_score_fcg 0.5291316526610644\n",
      "precision_score_fcg 0.4372268907563025\n",
      "f1_score_fcg 0.4342808893892485\n",
      "Not good accuracy result !!!!!\n",
      "Experiment number: 12\n"
     ]
    },
    {
     "name": "stderr",
     "output_type": "stream",
     "text": [
      "C:\\Users\\fooli\\anaconda3\\envs\\gpu_env\\lib\\site-packages\\sklearn\\metrics\\_classification.py:1469: UndefinedMetricWarning: Precision is ill-defined and being set to 0.0 in labels with no predicted samples. Use `zero_division` parameter to control this behavior.\n",
      "  _warn_prf(average, modifier, msg_start, len(result))\n"
     ]
    },
    {
     "name": "stdout",
     "output_type": "stream",
     "text": [
      "accuracy_score_baseline 0.5\n",
      "recall_score_baseline 0.38831932773109246\n",
      "precision_score_baseline 0.3564233163554046\n",
      "f1_score_baseline 0.371391884951207\n",
      "accuracy_score_fcg 0.45\n",
      "recall_score_fcg 0.5291316526610644\n",
      "precision_score_fcg 0.4372268907563025\n",
      "f1_score_fcg 0.4342808893892485\n",
      "Not good accuracy result !!!!!\n",
      "Experiment number: 13\n"
     ]
    },
    {
     "name": "stderr",
     "output_type": "stream",
     "text": [
      "C:\\Users\\fooli\\anaconda3\\envs\\gpu_env\\lib\\site-packages\\sklearn\\metrics\\_classification.py:1469: UndefinedMetricWarning: Precision is ill-defined and being set to 0.0 in labels with no predicted samples. Use `zero_division` parameter to control this behavior.\n",
      "  _warn_prf(average, modifier, msg_start, len(result))\n"
     ]
    },
    {
     "name": "stdout",
     "output_type": "stream",
     "text": [
      "accuracy_score_baseline 0.5\n",
      "recall_score_baseline 0.38831932773109246\n",
      "precision_score_baseline 0.3564233163554046\n",
      "f1_score_baseline 0.371391884951207\n",
      "accuracy_score_fcg 0.45\n",
      "recall_score_fcg 0.5291316526610644\n",
      "precision_score_fcg 0.4372268907563025\n",
      "f1_score_fcg 0.4342808893892485\n",
      "Not good accuracy result !!!!!\n",
      "Experiment number: 14\n"
     ]
    },
    {
     "name": "stderr",
     "output_type": "stream",
     "text": [
      "C:\\Users\\fooli\\anaconda3\\envs\\gpu_env\\lib\\site-packages\\sklearn\\metrics\\_classification.py:1469: UndefinedMetricWarning: Precision is ill-defined and being set to 0.0 in labels with no predicted samples. Use `zero_division` parameter to control this behavior.\n",
      "  _warn_prf(average, modifier, msg_start, len(result))\n"
     ]
    },
    {
     "name": "stdout",
     "output_type": "stream",
     "text": [
      "accuracy_score_baseline 0.5\n",
      "recall_score_baseline 0.38831932773109246\n",
      "precision_score_baseline 0.3564233163554046\n",
      "f1_score_baseline 0.371391884951207\n",
      "accuracy_score_fcg 0.45\n",
      "recall_score_fcg 0.5291316526610644\n",
      "precision_score_fcg 0.4372268907563025\n",
      "f1_score_fcg 0.4342808893892485\n",
      "Not good accuracy result !!!!!\n",
      "Experiment number: 15\n"
     ]
    },
    {
     "name": "stderr",
     "output_type": "stream",
     "text": [
      "C:\\Users\\fooli\\anaconda3\\envs\\gpu_env\\lib\\site-packages\\sklearn\\metrics\\_classification.py:1469: UndefinedMetricWarning: Precision is ill-defined and being set to 0.0 in labels with no predicted samples. Use `zero_division` parameter to control this behavior.\n",
      "  _warn_prf(average, modifier, msg_start, len(result))\n"
     ]
    },
    {
     "name": "stdout",
     "output_type": "stream",
     "text": [
      "accuracy_score_baseline 0.5\n",
      "recall_score_baseline 0.38831932773109246\n",
      "precision_score_baseline 0.3564233163554046\n",
      "f1_score_baseline 0.371391884951207\n",
      "accuracy_score_fcg 0.45\n",
      "recall_score_fcg 0.5291316526610644\n",
      "precision_score_fcg 0.4372268907563025\n",
      "f1_score_fcg 0.4342808893892485\n",
      "Not good accuracy result !!!!!\n",
      "Experiment number: 16\n"
     ]
    },
    {
     "name": "stderr",
     "output_type": "stream",
     "text": [
      "C:\\Users\\fooli\\anaconda3\\envs\\gpu_env\\lib\\site-packages\\sklearn\\metrics\\_classification.py:1469: UndefinedMetricWarning: Precision is ill-defined and being set to 0.0 in labels with no predicted samples. Use `zero_division` parameter to control this behavior.\n",
      "  _warn_prf(average, modifier, msg_start, len(result))\n"
     ]
    },
    {
     "name": "stdout",
     "output_type": "stream",
     "text": [
      "accuracy_score_baseline 0.5\n",
      "recall_score_baseline 0.38831932773109246\n",
      "precision_score_baseline 0.3564233163554046\n",
      "f1_score_baseline 0.371391884951207\n",
      "accuracy_score_fcg 0.45\n",
      "recall_score_fcg 0.5291316526610644\n",
      "precision_score_fcg 0.4372268907563025\n",
      "f1_score_fcg 0.4342808893892485\n",
      "Not good accuracy result !!!!!\n",
      "Experiment number: 17\n"
     ]
    },
    {
     "name": "stderr",
     "output_type": "stream",
     "text": [
      "C:\\Users\\fooli\\anaconda3\\envs\\gpu_env\\lib\\site-packages\\sklearn\\metrics\\_classification.py:1469: UndefinedMetricWarning: Precision is ill-defined and being set to 0.0 in labels with no predicted samples. Use `zero_division` parameter to control this behavior.\n",
      "  _warn_prf(average, modifier, msg_start, len(result))\n"
     ]
    },
    {
     "name": "stdout",
     "output_type": "stream",
     "text": [
      "accuracy_score_baseline 0.5\n",
      "recall_score_baseline 0.38831932773109246\n",
      "precision_score_baseline 0.3564233163554046\n",
      "f1_score_baseline 0.371391884951207\n",
      "accuracy_score_fcg 0.45\n",
      "recall_score_fcg 0.5291316526610644\n",
      "precision_score_fcg 0.4372268907563025\n",
      "f1_score_fcg 0.4342808893892485\n",
      "Not good accuracy result !!!!!\n",
      "Experiment number: 18\n"
     ]
    },
    {
     "name": "stderr",
     "output_type": "stream",
     "text": [
      "C:\\Users\\fooli\\anaconda3\\envs\\gpu_env\\lib\\site-packages\\sklearn\\metrics\\_classification.py:1469: UndefinedMetricWarning: Precision is ill-defined and being set to 0.0 in labels with no predicted samples. Use `zero_division` parameter to control this behavior.\n",
      "  _warn_prf(average, modifier, msg_start, len(result))\n"
     ]
    },
    {
     "name": "stdout",
     "output_type": "stream",
     "text": [
      "accuracy_score_baseline 0.5\n",
      "recall_score_baseline 0.38831932773109246\n",
      "precision_score_baseline 0.3564233163554046\n",
      "f1_score_baseline 0.371391884951207\n",
      "accuracy_score_fcg 0.45\n",
      "recall_score_fcg 0.5291316526610644\n",
      "precision_score_fcg 0.4372268907563025\n",
      "f1_score_fcg 0.4342808893892485\n",
      "Not good accuracy result !!!!!\n",
      "Experiment number: 19\n"
     ]
    },
    {
     "name": "stderr",
     "output_type": "stream",
     "text": [
      "C:\\Users\\fooli\\anaconda3\\envs\\gpu_env\\lib\\site-packages\\sklearn\\metrics\\_classification.py:1469: UndefinedMetricWarning: Precision is ill-defined and being set to 0.0 in labels with no predicted samples. Use `zero_division` parameter to control this behavior.\n",
      "  _warn_prf(average, modifier, msg_start, len(result))\n"
     ]
    },
    {
     "name": "stdout",
     "output_type": "stream",
     "text": [
      "accuracy_score_baseline 0.5\n",
      "recall_score_baseline 0.38831932773109246\n",
      "precision_score_baseline 0.3564233163554046\n",
      "f1_score_baseline 0.371391884951207\n",
      "accuracy_score_fcg 0.45\n",
      "recall_score_fcg 0.5291316526610644\n",
      "precision_score_fcg 0.4372268907563025\n",
      "f1_score_fcg 0.4342808893892485\n",
      "Not good accuracy result !!!!!\n",
      "Experiment number: 20\n"
     ]
    },
    {
     "name": "stderr",
     "output_type": "stream",
     "text": [
      "C:\\Users\\fooli\\anaconda3\\envs\\gpu_env\\lib\\site-packages\\sklearn\\metrics\\_classification.py:1469: UndefinedMetricWarning: Precision is ill-defined and being set to 0.0 in labels with no predicted samples. Use `zero_division` parameter to control this behavior.\n",
      "  _warn_prf(average, modifier, msg_start, len(result))\n"
     ]
    },
    {
     "name": "stdout",
     "output_type": "stream",
     "text": [
      "accuracy_score_baseline 0.5\n",
      "recall_score_baseline 0.38831932773109246\n",
      "precision_score_baseline 0.3564233163554046\n",
      "f1_score_baseline 0.371391884951207\n",
      "accuracy_score_fcg 0.45\n",
      "recall_score_fcg 0.5291316526610644\n",
      "precision_score_fcg 0.4372268907563025\n",
      "f1_score_fcg 0.4342808893892485\n",
      "Not good accuracy result !!!!!\n",
      "Experiment number: 21\n"
     ]
    },
    {
     "name": "stderr",
     "output_type": "stream",
     "text": [
      "C:\\Users\\fooli\\anaconda3\\envs\\gpu_env\\lib\\site-packages\\sklearn\\metrics\\_classification.py:1469: UndefinedMetricWarning: Precision is ill-defined and being set to 0.0 in labels with no predicted samples. Use `zero_division` parameter to control this behavior.\n",
      "  _warn_prf(average, modifier, msg_start, len(result))\n"
     ]
    },
    {
     "name": "stdout",
     "output_type": "stream",
     "text": [
      "accuracy_score_baseline 0.5\n",
      "recall_score_baseline 0.38831932773109246\n",
      "precision_score_baseline 0.3564233163554046\n",
      "f1_score_baseline 0.371391884951207\n",
      "accuracy_score_fcg 0.45\n",
      "recall_score_fcg 0.5291316526610644\n",
      "precision_score_fcg 0.4372268907563025\n",
      "f1_score_fcg 0.4342808893892485\n",
      "Not good accuracy result !!!!!\n",
      "Experiment number: 22\n"
     ]
    },
    {
     "name": "stderr",
     "output_type": "stream",
     "text": [
      "C:\\Users\\fooli\\anaconda3\\envs\\gpu_env\\lib\\site-packages\\sklearn\\metrics\\_classification.py:1469: UndefinedMetricWarning: Precision is ill-defined and being set to 0.0 in labels with no predicted samples. Use `zero_division` parameter to control this behavior.\n",
      "  _warn_prf(average, modifier, msg_start, len(result))\n"
     ]
    },
    {
     "name": "stdout",
     "output_type": "stream",
     "text": [
      "accuracy_score_baseline 0.5\n",
      "recall_score_baseline 0.38831932773109246\n",
      "precision_score_baseline 0.3564233163554046\n",
      "f1_score_baseline 0.371391884951207\n",
      "accuracy_score_fcg 0.45\n",
      "recall_score_fcg 0.5291316526610644\n",
      "precision_score_fcg 0.4372268907563025\n",
      "f1_score_fcg 0.4342808893892485\n",
      "Not good accuracy result !!!!!\n",
      "Experiment number: 23\n"
     ]
    },
    {
     "name": "stderr",
     "output_type": "stream",
     "text": [
      "C:\\Users\\fooli\\anaconda3\\envs\\gpu_env\\lib\\site-packages\\sklearn\\metrics\\_classification.py:1469: UndefinedMetricWarning: Precision is ill-defined and being set to 0.0 in labels with no predicted samples. Use `zero_division` parameter to control this behavior.\n",
      "  _warn_prf(average, modifier, msg_start, len(result))\n"
     ]
    },
    {
     "name": "stdout",
     "output_type": "stream",
     "text": [
      "accuracy_score_baseline 0.5\n",
      "recall_score_baseline 0.38831932773109246\n",
      "precision_score_baseline 0.3564233163554046\n",
      "f1_score_baseline 0.371391884951207\n",
      "accuracy_score_fcg 0.45\n",
      "recall_score_fcg 0.5291316526610644\n",
      "precision_score_fcg 0.4372268907563025\n",
      "f1_score_fcg 0.4342808893892485\n",
      "Not good accuracy result !!!!!\n",
      "Experiment number: 24\n"
     ]
    },
    {
     "name": "stderr",
     "output_type": "stream",
     "text": [
      "C:\\Users\\fooli\\anaconda3\\envs\\gpu_env\\lib\\site-packages\\sklearn\\metrics\\_classification.py:1469: UndefinedMetricWarning: Precision is ill-defined and being set to 0.0 in labels with no predicted samples. Use `zero_division` parameter to control this behavior.\n",
      "  _warn_prf(average, modifier, msg_start, len(result))\n"
     ]
    },
    {
     "name": "stdout",
     "output_type": "stream",
     "text": [
      "accuracy_score_baseline 0.5\n",
      "recall_score_baseline 0.38831932773109246\n",
      "precision_score_baseline 0.3564233163554046\n",
      "f1_score_baseline 0.371391884951207\n",
      "accuracy_score_fcg 0.45\n",
      "recall_score_fcg 0.5291316526610644\n",
      "precision_score_fcg 0.4372268907563025\n",
      "f1_score_fcg 0.4342808893892485\n",
      "Not good accuracy result !!!!!\n",
      "Experiment number: 25\n"
     ]
    },
    {
     "name": "stderr",
     "output_type": "stream",
     "text": [
      "C:\\Users\\fooli\\anaconda3\\envs\\gpu_env\\lib\\site-packages\\sklearn\\metrics\\_classification.py:1469: UndefinedMetricWarning: Precision is ill-defined and being set to 0.0 in labels with no predicted samples. Use `zero_division` parameter to control this behavior.\n",
      "  _warn_prf(average, modifier, msg_start, len(result))\n"
     ]
    },
    {
     "name": "stdout",
     "output_type": "stream",
     "text": [
      "accuracy_score_baseline 0.5\n",
      "recall_score_baseline 0.38831932773109246\n",
      "precision_score_baseline 0.3564233163554046\n",
      "f1_score_baseline 0.371391884951207\n",
      "accuracy_score_fcg 0.45\n",
      "recall_score_fcg 0.5291316526610644\n",
      "precision_score_fcg 0.4372268907563025\n",
      "f1_score_fcg 0.4342808893892485\n",
      "Not good accuracy result !!!!!\n",
      "Experiment number: 26\n"
     ]
    },
    {
     "name": "stderr",
     "output_type": "stream",
     "text": [
      "C:\\Users\\fooli\\anaconda3\\envs\\gpu_env\\lib\\site-packages\\sklearn\\metrics\\_classification.py:1469: UndefinedMetricWarning: Precision is ill-defined and being set to 0.0 in labels with no predicted samples. Use `zero_division` parameter to control this behavior.\n",
      "  _warn_prf(average, modifier, msg_start, len(result))\n"
     ]
    },
    {
     "name": "stdout",
     "output_type": "stream",
     "text": [
      "accuracy_score_baseline 0.5\n",
      "recall_score_baseline 0.38831932773109246\n",
      "precision_score_baseline 0.3564233163554046\n",
      "f1_score_baseline 0.371391884951207\n",
      "accuracy_score_fcg 0.45\n",
      "recall_score_fcg 0.5291316526610644\n",
      "precision_score_fcg 0.4372268907563025\n",
      "f1_score_fcg 0.4342808893892485\n",
      "Not good accuracy result !!!!!\n",
      "Experiment number: 27\n"
     ]
    },
    {
     "name": "stderr",
     "output_type": "stream",
     "text": [
      "C:\\Users\\fooli\\anaconda3\\envs\\gpu_env\\lib\\site-packages\\sklearn\\metrics\\_classification.py:1469: UndefinedMetricWarning: Precision is ill-defined and being set to 0.0 in labels with no predicted samples. Use `zero_division` parameter to control this behavior.\n",
      "  _warn_prf(average, modifier, msg_start, len(result))\n"
     ]
    },
    {
     "name": "stdout",
     "output_type": "stream",
     "text": [
      "accuracy_score_baseline 0.5\n",
      "recall_score_baseline 0.38831932773109246\n",
      "precision_score_baseline 0.3564233163554046\n",
      "f1_score_baseline 0.371391884951207\n",
      "accuracy_score_fcg 0.45\n",
      "recall_score_fcg 0.5291316526610644\n",
      "precision_score_fcg 0.4372268907563025\n",
      "f1_score_fcg 0.4342808893892485\n",
      "Not good accuracy result !!!!!\n",
      "Experiment number: 28\n"
     ]
    },
    {
     "name": "stderr",
     "output_type": "stream",
     "text": [
      "C:\\Users\\fooli\\anaconda3\\envs\\gpu_env\\lib\\site-packages\\sklearn\\metrics\\_classification.py:1469: UndefinedMetricWarning: Precision is ill-defined and being set to 0.0 in labels with no predicted samples. Use `zero_division` parameter to control this behavior.\n",
      "  _warn_prf(average, modifier, msg_start, len(result))\n"
     ]
    },
    {
     "name": "stdout",
     "output_type": "stream",
     "text": [
      "accuracy_score_baseline 0.5\n",
      "recall_score_baseline 0.38831932773109246\n",
      "precision_score_baseline 0.3564233163554046\n",
      "f1_score_baseline 0.371391884951207\n",
      "accuracy_score_fcg 0.45\n",
      "recall_score_fcg 0.5291316526610644\n",
      "precision_score_fcg 0.4372268907563025\n",
      "f1_score_fcg 0.4342808893892485\n",
      "Not good accuracy result !!!!!\n",
      "Experiment number: 29\n"
     ]
    },
    {
     "name": "stderr",
     "output_type": "stream",
     "text": [
      "C:\\Users\\fooli\\anaconda3\\envs\\gpu_env\\lib\\site-packages\\sklearn\\metrics\\_classification.py:1469: UndefinedMetricWarning: Precision is ill-defined and being set to 0.0 in labels with no predicted samples. Use `zero_division` parameter to control this behavior.\n",
      "  _warn_prf(average, modifier, msg_start, len(result))\n"
     ]
    },
    {
     "name": "stdout",
     "output_type": "stream",
     "text": [
      "accuracy_score_baseline 0.5\n",
      "recall_score_baseline 0.38831932773109246\n",
      "precision_score_baseline 0.3564233163554046\n",
      "f1_score_baseline 0.371391884951207\n",
      "accuracy_score_fcg 0.45\n",
      "recall_score_fcg 0.5291316526610644\n",
      "precision_score_fcg 0.4372268907563025\n",
      "f1_score_fcg 0.4342808893892485\n",
      "Not good accuracy result !!!!!\n",
      "Experiment number: 30\n"
     ]
    },
    {
     "name": "stderr",
     "output_type": "stream",
     "text": [
      "C:\\Users\\fooli\\anaconda3\\envs\\gpu_env\\lib\\site-packages\\sklearn\\metrics\\_classification.py:1469: UndefinedMetricWarning: Precision is ill-defined and being set to 0.0 in labels with no predicted samples. Use `zero_division` parameter to control this behavior.\n",
      "  _warn_prf(average, modifier, msg_start, len(result))\n"
     ]
    },
    {
     "name": "stdout",
     "output_type": "stream",
     "text": [
      "accuracy_score_baseline 0.5\n",
      "recall_score_baseline 0.38831932773109246\n",
      "precision_score_baseline 0.3564233163554046\n",
      "f1_score_baseline 0.371391884951207\n",
      "accuracy_score_fcg 0.45\n",
      "recall_score_fcg 0.5291316526610644\n",
      "precision_score_fcg 0.4372268907563025\n",
      "f1_score_fcg 0.4342808893892485\n",
      "Not good accuracy result !!!!!\n",
      "all_accuracy_score_baseline mean 0.5\n",
      "all_recall_score_baseline mean 0.3883193277310925\n",
      "all_precision_score_baseline mean 0.35642331635540475\n",
      "all_f1_score_baseline mean 0.3713918849512069\n",
      "all_accuracy_score_fcg mean 0.4499999999999999\n",
      "all_recall_score_fcg mean 0.5291316526610644\n",
      "all_precision_score_fcg mean 0.43722689075630267\n",
      "all_f1_score_fcg mean 0.4342808893892484\n",
      "len plot_unit 30  len (all_test_score_baseline_accuracy) 30\n"
     ]
    },
    {
     "name": "stderr",
     "output_type": "stream",
     "text": [
      "C:\\Users\\fooli\\anaconda3\\envs\\gpu_env\\lib\\site-packages\\sklearn\\metrics\\_classification.py:1469: UndefinedMetricWarning: Precision is ill-defined and being set to 0.0 in labels with no predicted samples. Use `zero_division` parameter to control this behavior.\n",
      "  _warn_prf(average, modifier, msg_start, len(result))\n"
     ]
    },
    {
     "data": {
      "image/png": "[encoded data removed]",
      "text/plain": [
       "<Figure size 1200x500 with 4 Axes>"
      ]
     },
     "metadata": {},
     "output_type": "display_data"
    },
    {
     "name": "stdout",
     "output_type": "stream",
     "text": [
      "Accuracy Score T-Test\n",
      "                      Variable     N   Mean            SD            SE  \\\n",
      "0  all_accuracy_score_baseline  30.0  0.500  0.000000e+00  0.000000e+00   \n",
      "1       all_accuracy_score_fcg  30.0  0.450  1.129203e-16  2.061632e-17   \n",
      "2                     combined  60.0  0.475  2.521097e-02  3.254723e-03   \n",
      "\n",
      "   95% Conf.  Interval  \n",
      "0        NaN       NaN  \n",
      "1   0.450000  0.450000  \n",
      "2   0.468487  0.481513  \n",
      "                                  Independent t-test       results\n",
      "0  Difference (all_accuracy_score_baseline - all_...  5.000000e-02\n",
      "1                              Degrees of freedom =   5.800000e+01\n",
      "2                                               t =   2.425263e+15\n",
      "3                           Two side test p value =   0.000000e+00\n",
      "4                          Difference < 0 p value =   1.000000e+00\n",
      "5                          Difference > 0 p value =   0.000000e+00\n",
      "6                                       Cohen's d =   6.262001e+14\n",
      "7                                       Hedge's g =   6.180676e+14\n",
      "8                                  Glass's delta1 =            inf\n",
      "9                                Point-Biserial r =   1.000000e+00\n",
      "Recall Score T-Test\n",
      "                    Variable     N      Mean            SD            SE  \\\n",
      "0  all_recall_score_baseline  30.0  0.388319  5.646013e-17  1.030816e-17   \n",
      "1       all_recall_score_fcg  30.0  0.529132  0.000000e+00  0.000000e+00   \n",
      "2                   combined  60.0  0.458725  7.100032e-02  9.166102e-03   \n",
      "\n",
      "   95% Conf.  Interval  \n",
      "0   0.388319  0.388319  \n",
      "1        NaN       NaN  \n",
      "2   0.440384  0.477067  \n",
      "                                  Independent t-test       results\n",
      "0  Difference (all_recall_score_baseline - all_re... -1.408000e-01\n",
      "1                              Degrees of freedom =   5.800000e+01\n",
      "2                                               t =  -1.366027e+16\n",
      "3                           Two side test p value =   0.000000e+00\n",
      "4                          Difference < 0 p value =   0.000000e+00\n",
      "5                          Difference > 0 p value =   1.000000e+00\n",
      "6                                       Cohen's d =  -3.527068e+15\n",
      "7                                       Hedge's g =  -3.481262e+15\n",
      "8                                  Glass's delta1 =  -2.494014e+15\n",
      "9                                Point-Biserial r =  -1.000000e+00\n",
      "Precision Score T-Test\n",
      "                       Variable     N      Mean            SD            SE  \\\n",
      "0  all_precision_score_baseline  30.0  0.356423  1.693804e-16  3.092449e-17   \n",
      "1       all_precision_score_fcg  30.0  0.437227  1.693804e-16  3.092449e-17   \n",
      "2                      combined  60.0  0.396825  4.074274e-02  5.259865e-03   \n",
      "\n",
      "   95% Conf.  Interval  \n",
      "0   0.356423  0.356423  \n",
      "1   0.437227  0.437227  \n",
      "2   0.386300  0.407350  \n",
      "                                  Independent t-test       results\n",
      "0  Difference (all_precision_score_baseline - all... -8.080000e-02\n",
      "1                              Degrees of freedom =   5.800000e+01\n",
      "2                                               t =  -1.847622e+15\n",
      "3                           Two side test p value =   0.000000e+00\n",
      "4                          Difference < 0 p value =   0.000000e+00\n",
      "5                          Difference > 0 p value =   1.000000e+00\n",
      "6                                       Cohen's d =  -4.770539e+14\n",
      "7                                       Hedge's g =  -4.708584e+14\n",
      "8                                  Glass's delta1 =  -4.770539e+14\n",
      "9                                Point-Biserial r =  -1.000000e+00\n",
      "F1 Score T-Test\n",
      "                Variable     N      Mean            SD            SE  \\\n",
      "0  all_f1_score_baseline  30.0  0.371392  1.129203e-16  2.061632e-17   \n",
      "1       all_f1_score_fcg  30.0  0.434281  1.129203e-16  2.061632e-17   \n",
      "2               combined  60.0  0.402836  3.170986e-02  4.093726e-03   \n",
      "\n",
      "   95% Conf.  Interval  \n",
      "0   0.371392  0.371392  \n",
      "1   0.434281  0.434281  \n",
      "2   0.394645  0.411028  \n",
      "                                  Independent t-test       results\n",
      "0  Difference (all_f1_score_baseline - all_f1_sco... -6.290000e-02\n",
      "1                              Degrees of freedom =   5.800000e+01\n",
      "2                                               t =  -2.156992e+15\n",
      "3                           Two side test p value =   0.000000e+00\n",
      "4                          Difference < 0 p value =   0.000000e+00\n",
      "5                          Difference > 0 p value =   1.000000e+00\n",
      "6                                       Cohen's d =  -5.569329e+14\n",
      "7                                       Hedge's g =  -5.497000e+14\n",
      "8                                  Glass's delta1 =  -5.569329e+14\n",
      "9                                Point-Biserial r =  -1.000000e+00\n"
     ]
    },
    {
     "name": "stderr",
     "output_type": "stream",
     "text": [
      "C:\\Users\\fooli\\anaconda3\\envs\\gpu_env\\lib\\site-packages\\scipy\\stats\\_axis_nan_policy.py:523: RuntimeWarning: Precision loss occurred in moment calculation due to catastrophic cancellation. This occurs when the data are nearly identical. Results may be unreliable.\n",
      "  res = hypotest_fun_out(*samples, **kwds)\n",
      "C:\\Users\\fooli\\anaconda3\\envs\\gpu_env\\lib\\site-packages\\researchpy\\ttest.py:70: RuntimeWarning: divide by zero encountered in double_scalars\n",
      "  delta = (group1.mean() - group2.mean()) / group1.std()\n",
      "C:\\Users\\fooli\\anaconda3\\envs\\gpu_env\\lib\\site-packages\\scipy\\stats\\_distn_infrastructure.py:2241: RuntimeWarning: invalid value encountered in multiply\n",
      "  lower_bound = _a * scale + loc\n",
      "C:\\Users\\fooli\\anaconda3\\envs\\gpu_env\\lib\\site-packages\\scipy\\stats\\_distn_infrastructure.py:2242: RuntimeWarning: invalid value encountered in multiply\n",
      "  upper_bound = _b * scale + loc\n",
      "C:\\Users\\fooli\\anaconda3\\envs\\gpu_env\\lib\\site-packages\\scipy\\stats\\_axis_nan_policy.py:523: RuntimeWarning: Precision loss occurred in moment calculation due to catastrophic cancellation. This occurs when the data are nearly identical. Results may be unreliable.\n",
      "  res = hypotest_fun_out(*samples, **kwds)\n",
      "C:\\Users\\fooli\\anaconda3\\envs\\gpu_env\\lib\\site-packages\\scipy\\stats\\_distn_infrastructure.py:2241: RuntimeWarning: invalid value encountered in multiply\n",
      "  lower_bound = _a * scale + loc\n",
      "C:\\Users\\fooli\\anaconda3\\envs\\gpu_env\\lib\\site-packages\\scipy\\stats\\_distn_infrastructure.py:2242: RuntimeWarning: invalid value encountered in multiply\n",
      "  upper_bound = _b * scale + loc\n",
      "C:\\Users\\fooli\\anaconda3\\envs\\gpu_env\\lib\\site-packages\\scipy\\stats\\_axis_nan_policy.py:523: RuntimeWarning: Precision loss occurred in moment calculation due to catastrophic cancellation. This occurs when the data are nearly identical. Results may be unreliable.\n",
      "  res = hypotest_fun_out(*samples, **kwds)\n",
      "C:\\Users\\fooli\\anaconda3\\envs\\gpu_env\\lib\\site-packages\\scipy\\stats\\_axis_nan_policy.py:523: RuntimeWarning: Precision loss occurred in moment calculation due to catastrophic cancellation. This occurs when the data are nearly identical. Results may be unreliable.\n",
      "  res = hypotest_fun_out(*samples, **kwds)\n"
     ]
    }
   ],
   "source": [
    "import experiment\n",
    "scope_num = 30\n",
    "topology_ratio = 2\n",
    "\n",
    "experiment = experiment.Experiment()\n",
    "experiment.Ttest(dataread,scope_num,topology_ratio)"
   ]
  },
  {
   "cell_type": "code",
   "execution_count": null,
   "id": "c7242a63",
   "metadata": {},
   "outputs": [],
   "source": []
  }
 ],
 "metadata": {
  "kernelspec": {
   "display_name": "Python (GPU)",
   "language": "python",
   "name": "gpu_env"
  },
  "language_info": {
   "codemirror_mode": {
    "name": "ipython",
    "version": 3
   },
   "file_extension": ".py",
   "mimetype": "text/x-python",
   "name": "python",
   "nbconvert_exporter": "python",
   "pygments_lexer": "ipython3",
   "version": "3.9.18"
  }
 },
 "nbformat": 4,
 "nbformat_minor": 5
}
