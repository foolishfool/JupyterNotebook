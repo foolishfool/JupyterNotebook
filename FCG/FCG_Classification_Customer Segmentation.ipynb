{
 "cells": [
  {
   "cell_type": "code",
   "execution_count": 1,
   "id": "c389a61e",
   "metadata": {
    "scrolled": false
   },
   "outputs": [],
   "source": [
    "#THIS CODE ONLY DO THE WHOLE DATA TRAINING, NO CROSS_VALIDATION AND FEATURE SELECTION\n",
    "import pandas as pd\n",
    "#numpy-1.21.4\n",
    "import numpy as np\n",
    "import dataset_read\n",
    "import researchpy as rp\n",
    "import scipy.stats as stats\n",
    "import matplotlib.pyplot as plt\n",
    "import collections\n",
    "import warnings\n",
    "warnings.filterwarnings(\"ignore\", category=np.VisibleDeprecationWarning) \n",
    "dataread = dataset_read.DATAREAD()"
   ]
  },
  {
   "cell_type": "code",
   "execution_count": 2,
   "id": "f83a1461",
   "metadata": {
    "scrolled": false
   },
   "outputs": [
    {
     "name": "stdout",
     "output_type": "stream",
     "text": [
      "continuous_feature_num 1\n",
      "discrete_feature_num 7\n",
      "self.data_discrete_indexes ['Gender', 'Ever_Married', 'Graduated', 'Profession', 'Work_Experience', 'Spending_Score', 'Family_Size'] \n"
     ]
    }
   ],
   "source": [
    "csv = pd.read_csv(\"CustomerSegmentation/Train.csv\")\n",
    "csv2 = pd.read_csv(\"CustomerSegmentation/Test.csv\")\n",
    "csv = csv.drop(columns=['ID','Segmentation'])\n",
    "csv2 = csv2.drop(columns=['ID'])   \n",
    "\n",
    "#csv = csv.sample(int(csv.shape[0]*1))\n",
    "#csv2 = csv2.sample(int(csv.shape[0]*1))\n",
    "\n",
    "\n",
    "\n",
    "csv['Family_Size'] = pd.to_numeric(csv['Family_Size'])\n",
    "csv2['Family_Size'] = pd.to_numeric(csv2['Family_Size'])\n",
    "csv['Work_Experience'] = pd.to_numeric(csv['Work_Experience'])\n",
    "csv2['Work_Experience'] = pd.to_numeric(csv2['Work_Experience'])\n",
    "\n",
    "\n",
    "\n",
    "dataread.label_encoding(csv,\"Gender\")\n",
    "dataread.label_encoding(csv,\"Ever_Married\")\n",
    "dataread.label_encoding(csv,\"Graduated\")\n",
    "dataread.label_encoding(csv,\"Profession\")\n",
    "dataread.label_encoding(csv,\"Spending_Score\")\n",
    "dataread.label_encoding(csv,\"Var_1\")\n",
    "dataread.label_encoding(csv,\"Family_Size\")\n",
    "dataread.label_encoding(csv,\"Work_Experience\")\n",
    "\n",
    "\n",
    "\n",
    "dataread.label_encoding(csv2,\"Gender\")\n",
    "dataread.label_encoding(csv2,\"Ever_Married\")\n",
    "dataread.label_encoding(csv2,\"Graduated\")\n",
    "dataread.label_encoding(csv2,\"Profession\")\n",
    "dataread.label_encoding(csv2,\"Spending_Score\")\n",
    "dataread.label_encoding(csv2,\"Var_1\")\n",
    "dataread.label_encoding(csv2,\"Family_Size\")\n",
    "dataread.label_encoding(csv2,\"Work_Experience\")\n",
    "\n",
    "\n",
    "\n",
    "csv_training = csv.sample(int(csv.shape[0]))\n",
    "\n",
    "csv_test = csv2\n",
    "\n",
    "\n",
    "dataread.initializedataset(csv,csv_training,csv_test,\"Var_1\")\n"
   ]
  },
  {
   "cell_type": "code",
   "execution_count": null,
   "id": "9178a35a",
   "metadata": {
    "scrolled": true
   },
   "outputs": [
    {
     "name": "stdout",
     "output_type": "stream",
     "text": [
      "Experiment number: 1\n",
      "key 5, choosen_index3716\n",
      "key 1, choosen_index499\n",
      "key 2, choosen_index4924\n",
      "key 3, choosen_index6922\n",
      "key 0, choosen_index4728\n",
      "key 6, choosen_index7870\n",
      "key 7, choosen_index6206\n",
      "key 4, choosen_index1410\n",
      "accuracy_score_baseline 0.6364674533688618\n",
      "recall_score_baseline 0.125\n",
      "precision_score_baseline 0.07955843167110772\n",
      "f1_score_baseline 0.09723191439869737\n",
      "accuracy_score_fcg 0.04872478111914732\n",
      "recall_score_fcg 0.11774268315937061\n",
      "precision_score_fcg 0.07634789447525167\n",
      "f1_score_fcg 0.05013567264529356\n",
      "Not good accuracy result !!!!!\n",
      "Not good recall_score result !!!!!\n",
      "Not good precision_score_ !!!!!\n",
      "Not good accuracy result !!!!!\n",
      "Experiment number: 2\n"
     ]
    },
    {
     "name": "stderr",
     "output_type": "stream",
     "text": [
      "C:\\Users\\fooli\\anaconda3\\envs\\gpu_env\\lib\\site-packages\\sklearn\\metrics\\_classification.py:1469: UndefinedMetricWarning: Precision is ill-defined and being set to 0.0 in labels with no predicted samples. Use `zero_division` parameter to control this behavior.\n",
      "  _warn_prf(average, modifier, msg_start, len(result))\n"
     ]
    },
    {
     "name": "stdout",
     "output_type": "stream",
     "text": [
      "key 5, choosen_index4971\n",
      "key 1, choosen_index4879\n",
      "key 2, choosen_index557\n",
      "key 3, choosen_index1232\n",
      "key 0, choosen_index5496\n",
      "key 6, choosen_index1524\n",
      "key 7, choosen_index2396\n",
      "key 4, choosen_index5722\n",
      "accuracy_score_baseline 0.6364674533688618\n",
      "recall_score_baseline 0.125\n",
      "precision_score_baseline 0.07955843167110772\n",
      "f1_score_baseline 0.09723191439869737\n",
      "accuracy_score_fcg 0.100114198705748\n",
      "recall_score_fcg 0.12526707453358304\n",
      "precision_score_fcg 0.1375120622125628\n",
      "f1_score_fcg 0.0763411149425243\n",
      "Not good accuracy result !!!!!\n",
      "Not good accuracy result !!!!!\n",
      "Experiment number: 3\n",
      "key 5, choosen_index1049\n",
      "key 1, choosen_index3840\n",
      "key 2, choosen_index7876\n",
      "key 3, choosen_index3365\n",
      "key 0, choosen_index5852\n",
      "key 6, choosen_index658\n",
      "key 7, choosen_index1459\n",
      "key 4, choosen_index1200\n"
     ]
    },
    {
     "name": "stderr",
     "output_type": "stream",
     "text": [
      "C:\\Users\\fooli\\anaconda3\\envs\\gpu_env\\lib\\site-packages\\sklearn\\metrics\\_classification.py:1469: UndefinedMetricWarning: Precision is ill-defined and being set to 0.0 in labels with no predicted samples. Use `zero_division` parameter to control this behavior.\n",
      "  _warn_prf(average, modifier, msg_start, len(result))\n"
     ]
    },
    {
     "name": "stdout",
     "output_type": "stream",
     "text": [
      "accuracy_score_baseline 0.6364674533688618\n",
      "recall_score_baseline 0.125\n",
      "precision_score_baseline 0.07955843167110772\n",
      "f1_score_baseline 0.09723191439869737\n",
      "accuracy_score_fcg 0.054434716406547394\n",
      "recall_score_fcg 0.11290873923437411\n",
      "precision_score_fcg 0.0870622609816521\n",
      "f1_score_fcg 0.05193730413373226\n",
      "Not good accuracy result !!!!!\n",
      "Not good recall_score result !!!!!\n",
      "Not good accuracy result !!!!!\n",
      "Experiment number: 4\n"
     ]
    },
    {
     "name": "stderr",
     "output_type": "stream",
     "text": [
      "C:\\Users\\fooli\\anaconda3\\envs\\gpu_env\\lib\\site-packages\\sklearn\\metrics\\_classification.py:1469: UndefinedMetricWarning: Precision is ill-defined and being set to 0.0 in labels with no predicted samples. Use `zero_division` parameter to control this behavior.\n",
      "  _warn_prf(average, modifier, msg_start, len(result))\n"
     ]
    },
    {
     "name": "stdout",
     "output_type": "stream",
     "text": [
      "key 5, choosen_index1607\n",
      "key 1, choosen_index2339\n",
      "key 2, choosen_index7894\n",
      "key 3, choosen_index6623\n",
      "key 0, choosen_index1588\n",
      "key 6, choosen_index7870\n",
      "key 7, choosen_index7728\n",
      "key 4, choosen_index1266\n",
      "accuracy_score_baseline 0.6364674533688618\n",
      "recall_score_baseline 0.125\n",
      "precision_score_baseline 0.07955843167110772\n",
      "f1_score_baseline 0.09723191439869737\n",
      "accuracy_score_fcg 0.13741910925009518\n",
      "recall_score_fcg 0.1336687395317966\n",
      "precision_score_fcg 0.15437177085594161\n",
      "f1_score_fcg 0.08574588982134067\n",
      "Not good accuracy result !!!!!\n",
      "Not good accuracy result !!!!!\n",
      "Experiment number: 5\n"
     ]
    },
    {
     "name": "stderr",
     "output_type": "stream",
     "text": [
      "C:\\Users\\fooli\\anaconda3\\envs\\gpu_env\\lib\\site-packages\\sklearn\\metrics\\_classification.py:1469: UndefinedMetricWarning: Precision is ill-defined and being set to 0.0 in labels with no predicted samples. Use `zero_division` parameter to control this behavior.\n",
      "  _warn_prf(average, modifier, msg_start, len(result))\n"
     ]
    },
    {
     "name": "stdout",
     "output_type": "stream",
     "text": [
      "key 5, choosen_index2888\n",
      "key 1, choosen_index7705\n",
      "key 2, choosen_index1755\n",
      "key 3, choosen_index7161\n",
      "key 0, choosen_index1376\n",
      "key 6, choosen_index979\n",
      "key 7, choosen_index1459\n",
      "key 4, choosen_index1876\n",
      "accuracy_score_baseline 0.6364674533688618\n",
      "recall_score_baseline 0.125\n",
      "precision_score_baseline 0.07955843167110772\n",
      "f1_score_baseline 0.09723191439869737\n",
      "accuracy_score_fcg 0.11686334221545489\n",
      "recall_score_fcg 0.1300172345470163\n",
      "precision_score_fcg 0.16458085718626664\n",
      "f1_score_fcg 0.08427266029191505\n",
      "Not good accuracy result !!!!!\n",
      "Not good accuracy result !!!!!\n",
      "Experiment number: 6\n",
      "key 5, choosen_index7160\n",
      "key 1, choosen_index2914\n",
      "key 2, choosen_index3456\n",
      "key 3, choosen_index4367\n",
      "key 0, choosen_index5895\n",
      "key 6, choosen_index394\n",
      "key 7, choosen_index1459\n",
      "key 4, choosen_index1962\n"
     ]
    },
    {
     "name": "stderr",
     "output_type": "stream",
     "text": [
      "C:\\Users\\fooli\\anaconda3\\envs\\gpu_env\\lib\\site-packages\\sklearn\\metrics\\_classification.py:1469: UndefinedMetricWarning: Precision is ill-defined and being set to 0.0 in labels with no predicted samples. Use `zero_division` parameter to control this behavior.\n",
      "  _warn_prf(average, modifier, msg_start, len(result))\n"
     ]
    },
    {
     "name": "stdout",
     "output_type": "stream",
     "text": [
      "accuracy_score_baseline 0.6364674533688618\n",
      "recall_score_baseline 0.125\n",
      "precision_score_baseline 0.07955843167110772\n",
      "f1_score_baseline 0.09723191439869737\n",
      "accuracy_score_fcg 0.17510468214693567\n",
      "recall_score_fcg 0.14102546821713569\n",
      "precision_score_fcg 0.13588169487807786\n",
      "f1_score_fcg 0.09656593236591934\n",
      "Not good accuracy result !!!!!\n",
      "Not good accuracy result !!!!!\n",
      "Experiment number: 7\n",
      "key 5, choosen_index6003\n",
      "key 1, choosen_index2390\n",
      "key 2, choosen_index1925\n",
      "key 3, choosen_index1884\n",
      "key 0, choosen_index4865\n",
      "key 6, choosen_index6815\n",
      "key 7, choosen_index3245\n",
      "key 4, choosen_index712\n"
     ]
    },
    {
     "name": "stderr",
     "output_type": "stream",
     "text": [
      "C:\\Users\\fooli\\anaconda3\\envs\\gpu_env\\lib\\site-packages\\sklearn\\metrics\\_classification.py:1469: UndefinedMetricWarning: Precision is ill-defined and being set to 0.0 in labels with no predicted samples. Use `zero_division` parameter to control this behavior.\n",
      "  _warn_prf(average, modifier, msg_start, len(result))\n"
     ]
    },
    {
     "name": "stdout",
     "output_type": "stream",
     "text": [
      "accuracy_score_baseline 0.6364674533688618\n",
      "recall_score_baseline 0.125\n",
      "precision_score_baseline 0.07955843167110772\n",
      "f1_score_baseline 0.09723191439869737\n",
      "accuracy_score_fcg 0.17091739626950894\n",
      "recall_score_fcg 0.12767651270030178\n",
      "precision_score_fcg 0.12576746445618323\n",
      "f1_score_fcg 0.08808255336622317\n",
      "Not good accuracy result !!!!!\n",
      "Not good accuracy result !!!!!\n",
      "Experiment number: 8\n"
     ]
    },
    {
     "name": "stderr",
     "output_type": "stream",
     "text": [
      "C:\\Users\\fooli\\anaconda3\\envs\\gpu_env\\lib\\site-packages\\sklearn\\metrics\\_classification.py:1469: UndefinedMetricWarning: Precision is ill-defined and being set to 0.0 in labels with no predicted samples. Use `zero_division` parameter to control this behavior.\n",
      "  _warn_prf(average, modifier, msg_start, len(result))\n"
     ]
    },
    {
     "name": "stdout",
     "output_type": "stream",
     "text": [
      "key 5, choosen_index933\n",
      "key 1, choosen_index6307\n",
      "key 2, choosen_index4206\n",
      "key 3, choosen_index4014\n",
      "key 0, choosen_index612\n",
      "key 6, choosen_index1084\n",
      "key 7, choosen_index3811\n",
      "key 4, choosen_index2908\n",
      "accuracy_score_baseline 0.6364674533688618\n",
      "recall_score_baseline 0.125\n",
      "precision_score_baseline 0.07955843167110772\n",
      "f1_score_baseline 0.09723191439869737\n",
      "accuracy_score_fcg 0.11724400456794823\n",
      "recall_score_fcg 0.11389054497813939\n",
      "precision_score_fcg 0.131624160024584\n",
      "f1_score_fcg 0.07571536072454221\n",
      "Not good accuracy result !!!!!\n",
      "Not good recall_score result !!!!!\n",
      "Not good accuracy result !!!!!\n",
      "Experiment number: 9\n"
     ]
    },
    {
     "name": "stderr",
     "output_type": "stream",
     "text": [
      "C:\\Users\\fooli\\anaconda3\\envs\\gpu_env\\lib\\site-packages\\sklearn\\metrics\\_classification.py:1469: UndefinedMetricWarning: Precision is ill-defined and being set to 0.0 in labels with no predicted samples. Use `zero_division` parameter to control this behavior.\n",
      "  _warn_prf(average, modifier, msg_start, len(result))\n"
     ]
    },
    {
     "name": "stdout",
     "output_type": "stream",
     "text": [
      "key 5, choosen_index3831\n",
      "key 1, choosen_index5880\n",
      "key 2, choosen_index3368\n",
      "key 3, choosen_index4912\n",
      "key 0, choosen_index6130\n",
      "key 6, choosen_index7899\n",
      "key 7, choosen_index506\n",
      "key 4, choosen_index409\n",
      "accuracy_score_baseline 0.6364674533688618\n",
      "recall_score_baseline 0.125\n",
      "precision_score_baseline 0.07955843167110772\n",
      "f1_score_baseline 0.09723191439869737\n",
      "accuracy_score_fcg 0.100114198705748\n",
      "recall_score_fcg 0.12436169177125395\n",
      "precision_score_fcg 0.10532676740241677\n",
      "f1_score_fcg 0.06163239681872967\n",
      "Not good accuracy result !!!!!\n",
      "Not good recall_score result !!!!!\n",
      "Not good accuracy result !!!!!\n",
      "Experiment number: 10\n",
      "key 5, choosen_index4023\n",
      "key 1, choosen_index932\n",
      "key 2, choosen_index1182\n",
      "key 3, choosen_index898\n",
      "key 0, choosen_index3264\n",
      "key 6, choosen_index4981\n",
      "key 7, choosen_index3816\n",
      "key 4, choosen_index2566\n"
     ]
    },
    {
     "name": "stderr",
     "output_type": "stream",
     "text": [
      "C:\\Users\\fooli\\anaconda3\\envs\\gpu_env\\lib\\site-packages\\sklearn\\metrics\\_classification.py:1469: UndefinedMetricWarning: Precision is ill-defined and being set to 0.0 in labels with no predicted samples. Use `zero_division` parameter to control this behavior.\n",
      "  _warn_prf(average, modifier, msg_start, len(result))\n"
     ]
    },
    {
     "name": "stdout",
     "output_type": "stream",
     "text": [
      "accuracy_score_baseline 0.6364674533688618\n",
      "recall_score_baseline 0.125\n",
      "precision_score_baseline 0.07955843167110772\n",
      "f1_score_baseline 0.09723191439869737\n",
      "accuracy_score_fcg 0.10658545869813475\n",
      "recall_score_fcg 0.1132762889463842\n",
      "precision_score_fcg 0.12537090823268476\n",
      "f1_score_fcg 0.06559783256115215\n",
      "Not good accuracy result !!!!!\n",
      "Not good recall_score result !!!!!\n",
      "Not good accuracy result !!!!!\n",
      "Experiment number: 11\n",
      "key 5, choosen_index6779\n",
      "key 1, choosen_index686\n",
      "key 2, choosen_index7914\n",
      "key 3, choosen_index7982\n",
      "key 0, choosen_index4310\n",
      "key 6, choosen_index5118\n",
      "key 7, choosen_index2858\n",
      "key 4, choosen_index3437\n"
     ]
    },
    {
     "name": "stderr",
     "output_type": "stream",
     "text": [
      "C:\\Users\\fooli\\anaconda3\\envs\\gpu_env\\lib\\site-packages\\sklearn\\metrics\\_classification.py:1469: UndefinedMetricWarning: Precision is ill-defined and being set to 0.0 in labels with no predicted samples. Use `zero_division` parameter to control this behavior.\n",
      "  _warn_prf(average, modifier, msg_start, len(result))\n"
     ]
    },
    {
     "name": "stdout",
     "output_type": "stream",
     "text": [
      "accuracy_score_baseline 0.6364674533688618\n",
      "recall_score_baseline 0.125\n",
      "precision_score_baseline 0.07955843167110772\n",
      "f1_score_baseline 0.09723191439869737\n",
      "accuracy_score_fcg 0.12181195279786829\n",
      "recall_score_fcg 0.14907929584840546\n",
      "precision_score_fcg 0.15218072671440686\n",
      "f1_score_fcg 0.09213839496268136\n",
      "Not good accuracy result !!!!!\n",
      "Not good accuracy result !!!!!\n",
      "Experiment number: 12\n"
     ]
    },
    {
     "name": "stderr",
     "output_type": "stream",
     "text": [
      "C:\\Users\\fooli\\anaconda3\\envs\\gpu_env\\lib\\site-packages\\sklearn\\metrics\\_classification.py:1469: UndefinedMetricWarning: Precision is ill-defined and being set to 0.0 in labels with no predicted samples. Use `zero_division` parameter to control this behavior.\n",
      "  _warn_prf(average, modifier, msg_start, len(result))\n"
     ]
    },
    {
     "name": "stdout",
     "output_type": "stream",
     "text": [
      "key 5, choosen_index148\n",
      "key 1, choosen_index2351\n",
      "key 2, choosen_index2027\n",
      "key 3, choosen_index2022\n",
      "key 0, choosen_index6130\n",
      "key 6, choosen_index6476\n",
      "key 7, choosen_index692\n",
      "key 4, choosen_index1584\n",
      "accuracy_score_baseline 0.6364674533688618\n",
      "recall_score_baseline 0.125\n",
      "precision_score_baseline 0.07955843167110772\n",
      "f1_score_baseline 0.09723191439869737\n",
      "accuracy_score_fcg 0.21164826798629616\n",
      "recall_score_fcg 0.15151723662089361\n",
      "precision_score_fcg 0.13944833132668505\n",
      "f1_score_fcg 0.10451094693361289\n",
      "Not good accuracy result !!!!!\n",
      "Experiment number: 13\n"
     ]
    },
    {
     "name": "stderr",
     "output_type": "stream",
     "text": [
      "C:\\Users\\fooli\\anaconda3\\envs\\gpu_env\\lib\\site-packages\\sklearn\\metrics\\_classification.py:1469: UndefinedMetricWarning: Precision is ill-defined and being set to 0.0 in labels with no predicted samples. Use `zero_division` parameter to control this behavior.\n",
      "  _warn_prf(average, modifier, msg_start, len(result))\n"
     ]
    },
    {
     "name": "stdout",
     "output_type": "stream",
     "text": [
      "key 5, choosen_index515\n",
      "key 1, choosen_index3981\n",
      "key 2, choosen_index656\n",
      "key 3, choosen_index7464\n",
      "key 0, choosen_index5574\n",
      "key 6, choosen_index4036\n",
      "key 7, choosen_index2528\n",
      "key 4, choosen_index5850\n",
      "accuracy_score_baseline 0.6364674533688618\n",
      "recall_score_baseline 0.125\n",
      "precision_score_baseline 0.07955843167110772\n",
      "f1_score_baseline 0.09723191439869737\n",
      "accuracy_score_fcg 0.1792919680243624\n",
      "recall_score_fcg 0.13292640180484466\n",
      "precision_score_fcg 0.1666328571666551\n",
      "f1_score_fcg 0.10343030873574638\n",
      "Not good accuracy result !!!!!\n",
      "Experiment number: 14\n"
     ]
    },
    {
     "name": "stderr",
     "output_type": "stream",
     "text": [
      "C:\\Users\\fooli\\anaconda3\\envs\\gpu_env\\lib\\site-packages\\sklearn\\metrics\\_classification.py:1469: UndefinedMetricWarning: Precision is ill-defined and being set to 0.0 in labels with no predicted samples. Use `zero_division` parameter to control this behavior.\n",
      "  _warn_prf(average, modifier, msg_start, len(result))\n"
     ]
    },
    {
     "name": "stdout",
     "output_type": "stream",
     "text": [
      "key 5, choosen_index4653\n",
      "key 1, choosen_index840\n",
      "key 2, choosen_index8021\n",
      "key 3, choosen_index1334\n",
      "key 0, choosen_index249\n",
      "key 6, choosen_index856\n",
      "key 7, choosen_index5054\n",
      "key 4, choosen_index7437\n",
      "accuracy_score_baseline 0.6364674533688618\n",
      "recall_score_baseline 0.125\n",
      "precision_score_baseline 0.07955843167110772\n",
      "f1_score_baseline 0.09723191439869737\n",
      "accuracy_score_fcg 0.18956985154168252\n",
      "recall_score_fcg 0.12147725972304355\n",
      "precision_score_fcg 0.1253018840879188\n",
      "f1_score_fcg 0.08496457648641734\n",
      "Not good accuracy result !!!!!\n",
      "Not good recall_score result !!!!!\n",
      "Not good accuracy result !!!!!\n",
      "Experiment number: 15\n",
      "key 5, choosen_index2546\n",
      "key 1, choosen_index7601\n",
      "key 2, choosen_index2893\n",
      "key 3, choosen_index901\n",
      "key 0, choosen_index3142\n",
      "key 6, choosen_index4065\n",
      "key 7, choosen_index6378\n",
      "key 4, choosen_index1798\n"
     ]
    },
    {
     "name": "stderr",
     "output_type": "stream",
     "text": [
      "C:\\Users\\fooli\\anaconda3\\envs\\gpu_env\\lib\\site-packages\\sklearn\\metrics\\_classification.py:1469: UndefinedMetricWarning: Precision is ill-defined and being set to 0.0 in labels with no predicted samples. Use `zero_division` parameter to control this behavior.\n",
      "  _warn_prf(average, modifier, msg_start, len(result))\n"
     ]
    },
    {
     "name": "stdout",
     "output_type": "stream",
     "text": [
      "accuracy_score_baseline 0.6364674533688618\n",
      "recall_score_baseline 0.125\n",
      "precision_score_baseline 0.07955843167110772\n",
      "f1_score_baseline 0.09723191439869737\n",
      "accuracy_score_fcg 0.20974495622382947\n",
      "recall_score_fcg 0.14145845388308162\n",
      "precision_score_fcg 0.14665305325995412\n",
      "f1_score_fcg 0.10360701464859214\n",
      "Not good accuracy result !!!!!\n",
      "Experiment number: 16\n"
     ]
    },
    {
     "name": "stderr",
     "output_type": "stream",
     "text": [
      "C:\\Users\\fooli\\anaconda3\\envs\\gpu_env\\lib\\site-packages\\sklearn\\metrics\\_classification.py:1469: UndefinedMetricWarning: Precision is ill-defined and being set to 0.0 in labels with no predicted samples. Use `zero_division` parameter to control this behavior.\n",
      "  _warn_prf(average, modifier, msg_start, len(result))\n"
     ]
    },
    {
     "name": "stdout",
     "output_type": "stream",
     "text": [
      "key 5, choosen_index1090\n",
      "key 1, choosen_index3048\n",
      "key 2, choosen_index6294\n",
      "key 3, choosen_index3262\n",
      "key 0, choosen_index5852\n",
      "key 6, choosen_index914\n",
      "key 7, choosen_index1742\n",
      "key 4, choosen_index6256\n",
      "accuracy_score_baseline 0.6364674533688618\n",
      "recall_score_baseline 0.125\n",
      "precision_score_baseline 0.07955843167110772\n",
      "f1_score_baseline 0.09723191439869737\n",
      "accuracy_score_fcg 0.20822230681385612\n",
      "recall_score_fcg 0.15567753730851658\n",
      "precision_score_fcg 0.16982879576763987\n",
      "f1_score_fcg 0.10710543852212465\n",
      "Not good accuracy result !!!!!\n",
      "Experiment number: 17\n"
     ]
    },
    {
     "name": "stderr",
     "output_type": "stream",
     "text": [
      "C:\\Users\\fooli\\anaconda3\\envs\\gpu_env\\lib\\site-packages\\sklearn\\metrics\\_classification.py:1469: UndefinedMetricWarning: Precision is ill-defined and being set to 0.0 in labels with no predicted samples. Use `zero_division` parameter to control this behavior.\n",
      "  _warn_prf(average, modifier, msg_start, len(result))\n"
     ]
    },
    {
     "name": "stdout",
     "output_type": "stream",
     "text": [
      "key 5, choosen_index844\n",
      "key 1, choosen_index352\n",
      "key 2, choosen_index557\n",
      "key 3, choosen_index51\n",
      "key 0, choosen_index6285\n",
      "key 6, choosen_index1551\n",
      "key 7, choosen_index1826\n",
      "key 4, choosen_index1265\n",
      "accuracy_score_baseline 0.6364674533688618\n",
      "recall_score_baseline 0.125\n",
      "precision_score_baseline 0.07955843167110772\n",
      "f1_score_baseline 0.09723191439869737\n",
      "accuracy_score_fcg 0.10315949752569471\n",
      "recall_score_fcg 0.13735542262585632\n",
      "precision_score_fcg 0.10183899286828657\n",
      "f1_score_fcg 0.07876300916548751\n",
      "Not good accuracy result !!!!!\n",
      "Not good accuracy result !!!!!\n",
      "Experiment number: 18\n"
     ]
    },
    {
     "name": "stderr",
     "output_type": "stream",
     "text": [
      "C:\\Users\\fooli\\anaconda3\\envs\\gpu_env\\lib\\site-packages\\sklearn\\metrics\\_classification.py:1469: UndefinedMetricWarning: Precision is ill-defined and being set to 0.0 in labels with no predicted samples. Use `zero_division` parameter to control this behavior.\n",
      "  _warn_prf(average, modifier, msg_start, len(result))\n"
     ]
    },
    {
     "name": "stdout",
     "output_type": "stream",
     "text": [
      "key 5, choosen_index4627\n",
      "key 1, choosen_index2029\n",
      "key 2, choosen_index3371\n",
      "key 3, choosen_index2136\n",
      "key 0, choosen_index4417\n",
      "key 6, choosen_index7006\n",
      "key 7, choosen_index1018\n",
      "key 4, choosen_index7437\n",
      "accuracy_score_baseline 0.6364674533688618\n",
      "recall_score_baseline 0.125\n",
      "precision_score_baseline 0.07955843167110772\n",
      "f1_score_baseline 0.09723191439869737\n",
      "accuracy_score_fcg 0.2219261515036163\n",
      "recall_score_fcg 0.13630342914526733\n",
      "precision_score_fcg 0.15911079156425867\n",
      "f1_score_fcg 0.11383550634687065\n",
      "Not good accuracy result !!!!!\n",
      "Experiment number: 19\n"
     ]
    },
    {
     "name": "stderr",
     "output_type": "stream",
     "text": [
      "C:\\Users\\fooli\\anaconda3\\envs\\gpu_env\\lib\\site-packages\\sklearn\\metrics\\_classification.py:1469: UndefinedMetricWarning: Precision is ill-defined and being set to 0.0 in labels with no predicted samples. Use `zero_division` parameter to control this behavior.\n",
      "  _warn_prf(average, modifier, msg_start, len(result))\n"
     ]
    },
    {
     "name": "stdout",
     "output_type": "stream",
     "text": [
      "key 5, choosen_index5518\n",
      "key 1, choosen_index6477\n",
      "key 2, choosen_index1430\n",
      "key 3, choosen_index3543\n",
      "key 0, choosen_index612\n",
      "key 6, choosen_index6280\n",
      "key 7, choosen_index2516\n",
      "key 4, choosen_index6272\n",
      "accuracy_score_baseline 0.6364674533688618\n",
      "recall_score_baseline 0.125\n",
      "precision_score_baseline 0.07955843167110772\n",
      "f1_score_baseline 0.09723191439869737\n",
      "accuracy_score_fcg 0.10925009516558812\n",
      "recall_score_fcg 0.12024364269969234\n",
      "precision_score_fcg 0.10154812085826083\n",
      "f1_score_fcg 0.07775809479378888\n",
      "Not good accuracy result !!!!!\n",
      "Not good recall_score result !!!!!\n",
      "Not good accuracy result !!!!!\n",
      "Experiment number: 20\n"
     ]
    },
    {
     "name": "stderr",
     "output_type": "stream",
     "text": [
      "C:\\Users\\fooli\\anaconda3\\envs\\gpu_env\\lib\\site-packages\\sklearn\\metrics\\_classification.py:1469: UndefinedMetricWarning: Precision is ill-defined and being set to 0.0 in labels with no predicted samples. Use `zero_division` parameter to control this behavior.\n",
      "  _warn_prf(average, modifier, msg_start, len(result))\n"
     ]
    },
    {
     "name": "stdout",
     "output_type": "stream",
     "text": [
      "key 5, choosen_index565\n",
      "key 1, choosen_index1129\n",
      "key 2, choosen_index6864\n",
      "key 3, choosen_index3485\n",
      "key 0, choosen_index373\n",
      "key 6, choosen_index4499\n",
      "key 7, choosen_index4449\n",
      "key 4, choosen_index6236\n",
      "accuracy_score_baseline 0.6364674533688618\n",
      "recall_score_baseline 0.125\n",
      "precision_score_baseline 0.07955843167110772\n",
      "f1_score_baseline 0.09723191439869737\n",
      "accuracy_score_fcg 0.19604111153406928\n",
      "recall_score_fcg 0.13032555224107376\n",
      "precision_score_fcg 0.14674591336063725\n",
      "f1_score_fcg 0.10715355916110617\n",
      "Not good accuracy result !!!!!\n",
      "Experiment number: 21\n"
     ]
    },
    {
     "name": "stderr",
     "output_type": "stream",
     "text": [
      "C:\\Users\\fooli\\anaconda3\\envs\\gpu_env\\lib\\site-packages\\sklearn\\metrics\\_classification.py:1469: UndefinedMetricWarning: Precision is ill-defined and being set to 0.0 in labels with no predicted samples. Use `zero_division` parameter to control this behavior.\n",
      "  _warn_prf(average, modifier, msg_start, len(result))\n"
     ]
    },
    {
     "name": "stdout",
     "output_type": "stream",
     "text": [
      "key 5, choosen_index6185\n",
      "key 1, choosen_index7190\n",
      "key 2, choosen_index7585\n",
      "key 3, choosen_index3786\n",
      "key 0, choosen_index6590\n",
      "key 6, choosen_index5853\n",
      "key 7, choosen_index2396\n",
      "key 4, choosen_index1876\n",
      "accuracy_score_baseline 0.6364674533688618\n",
      "recall_score_baseline 0.125\n",
      "precision_score_baseline 0.07955843167110772\n",
      "f1_score_baseline 0.09723191439869737\n",
      "accuracy_score_fcg 0.12181195279786829\n",
      "recall_score_fcg 0.13880290456558897\n",
      "precision_score_fcg 0.11959914972942974\n",
      "f1_score_fcg 0.08050137487132662\n",
      "Not good accuracy result !!!!!\n",
      "Not good accuracy result !!!!!\n",
      "Experiment number: 22\n"
     ]
    },
    {
     "name": "stderr",
     "output_type": "stream",
     "text": [
      "C:\\Users\\fooli\\anaconda3\\envs\\gpu_env\\lib\\site-packages\\sklearn\\metrics\\_classification.py:1469: UndefinedMetricWarning: Precision is ill-defined and being set to 0.0 in labels with no predicted samples. Use `zero_division` parameter to control this behavior.\n",
      "  _warn_prf(average, modifier, msg_start, len(result))\n"
     ]
    },
    {
     "name": "stdout",
     "output_type": "stream",
     "text": [
      "key 5, choosen_index2595\n",
      "key 1, choosen_index273\n",
      "key 2, choosen_index5535\n",
      "key 3, choosen_index5\n",
      "key 0, choosen_index1986\n",
      "key 6, choosen_index2387\n",
      "key 7, choosen_index777\n",
      "key 4, choosen_index3101\n",
      "accuracy_score_baseline 0.6364674533688618\n",
      "recall_score_baseline 0.125\n",
      "precision_score_baseline 0.07955843167110772\n",
      "f1_score_baseline 0.09723191439869737\n",
      "accuracy_score_fcg 0.14008374571754853\n",
      "recall_score_fcg 0.1494697409609142\n",
      "precision_score_fcg 0.19038275061157395\n",
      "f1_score_fcg 0.0980514640962441\n",
      "Not good accuracy result !!!!!\n",
      "Experiment number: 23\n"
     ]
    },
    {
     "name": "stderr",
     "output_type": "stream",
     "text": [
      "C:\\Users\\fooli\\anaconda3\\envs\\gpu_env\\lib\\site-packages\\sklearn\\metrics\\_classification.py:1469: UndefinedMetricWarning: Precision is ill-defined and being set to 0.0 in labels with no predicted samples. Use `zero_division` parameter to control this behavior.\n",
      "  _warn_prf(average, modifier, msg_start, len(result))\n"
     ]
    },
    {
     "name": "stdout",
     "output_type": "stream",
     "text": [
      "key 5, choosen_index6190\n",
      "key 1, choosen_index932\n",
      "key 2, choosen_index3417\n",
      "key 3, choosen_index6826\n",
      "key 0, choosen_index2476\n",
      "key 6, choosen_index4615\n",
      "key 7, choosen_index3141\n",
      "key 4, choosen_index3905\n",
      "accuracy_score_baseline 0.6364674533688618\n",
      "recall_score_baseline 0.125\n",
      "precision_score_baseline 0.07955843167110772\n",
      "f1_score_baseline 0.09723191439869737\n",
      "accuracy_score_fcg 0.09630757518081462\n",
      "recall_score_fcg 0.1603050926697385\n",
      "precision_score_fcg 0.15713459925519335\n",
      "f1_score_fcg 0.08431724516953909\n",
      "Not good accuracy result !!!!!\n",
      "Not good accuracy result !!!!!\n",
      "Experiment number: 24\n",
      "key 5, choosen_index7582\n",
      "key 1, choosen_index4382\n",
      "key 2, choosen_index6924\n",
      "key 3, choosen_index3594\n",
      "key 0, choosen_index851\n",
      "key 6, choosen_index2625\n",
      "key 7, choosen_index1094\n",
      "key 4, choosen_index5962\n"
     ]
    },
    {
     "name": "stderr",
     "output_type": "stream",
     "text": [
      "C:\\Users\\fooli\\anaconda3\\envs\\gpu_env\\lib\\site-packages\\sklearn\\metrics\\_classification.py:1469: UndefinedMetricWarning: Precision is ill-defined and being set to 0.0 in labels with no predicted samples. Use `zero_division` parameter to control this behavior.\n",
      "  _warn_prf(average, modifier, msg_start, len(result))\n"
     ]
    },
    {
     "name": "stdout",
     "output_type": "stream",
     "text": [
      "accuracy_score_baseline 0.6364674533688618\n",
      "recall_score_baseline 0.125\n",
      "precision_score_baseline 0.07955843167110772\n",
      "f1_score_baseline 0.09723191439869737\n",
      "accuracy_score_fcg 0.08336505519604111\n",
      "recall_score_fcg 0.09011962900875808\n",
      "precision_score_fcg 0.10686795897159507\n",
      "f1_score_fcg 0.05521276996126404\n",
      "Not good accuracy result !!!!!\n",
      "Not good recall_score result !!!!!\n",
      "Not good accuracy result !!!!!\n",
      "Experiment number: 25\n"
     ]
    },
    {
     "name": "stderr",
     "output_type": "stream",
     "text": [
      "C:\\Users\\fooli\\anaconda3\\envs\\gpu_env\\lib\\site-packages\\sklearn\\metrics\\_classification.py:1469: UndefinedMetricWarning: Precision is ill-defined and being set to 0.0 in labels with no predicted samples. Use `zero_division` parameter to control this behavior.\n",
      "  _warn_prf(average, modifier, msg_start, len(result))\n"
     ]
    },
    {
     "name": "stdout",
     "output_type": "stream",
     "text": [
      "key 5, choosen_index2913\n",
      "key 1, choosen_index5530\n",
      "key 2, choosen_index5088\n",
      "key 3, choosen_index3894\n",
      "key 0, choosen_index1511\n",
      "key 6, choosen_index4640\n",
      "key 7, choosen_index6200\n",
      "key 4, choosen_index6256\n",
      "accuracy_score_baseline 0.6364674533688618\n",
      "recall_score_baseline 0.125\n",
      "precision_score_baseline 0.07955843167110772\n",
      "f1_score_baseline 0.09723191439869737\n",
      "accuracy_score_fcg 0.11686334221545489\n",
      "recall_score_fcg 0.11444040320305303\n",
      "precision_score_fcg 0.14736614112804663\n",
      "f1_score_fcg 0.08176911467459569\n",
      "Not good accuracy result !!!!!\n",
      "Not good recall_score result !!!!!\n",
      "Not good accuracy result !!!!!\n",
      "Experiment number: 26\n",
      "key 5, choosen_index5301\n",
      "key 1, choosen_index1190\n",
      "key 2, choosen_index5140\n",
      "key 3, choosen_index2153\n",
      "key 0, choosen_index581\n",
      "key 6, choosen_index4263\n",
      "key 7, choosen_index1711\n",
      "key 4, choosen_index7466\n"
     ]
    },
    {
     "name": "stderr",
     "output_type": "stream",
     "text": [
      "C:\\Users\\fooli\\anaconda3\\envs\\gpu_env\\lib\\site-packages\\sklearn\\metrics\\_classification.py:1469: UndefinedMetricWarning: Precision is ill-defined and being set to 0.0 in labels with no predicted samples. Use `zero_division` parameter to control this behavior.\n",
      "  _warn_prf(average, modifier, msg_start, len(result))\n"
     ]
    },
    {
     "name": "stdout",
     "output_type": "stream",
     "text": [
      "accuracy_score_baseline 0.6364674533688618\n",
      "recall_score_baseline 0.125\n",
      "precision_score_baseline 0.07955843167110772\n",
      "f1_score_baseline 0.09723191439869737\n",
      "accuracy_score_fcg 0.2299200609059764\n",
      "recall_score_fcg 0.1354817324845785\n",
      "precision_score_fcg 0.15447242386326565\n",
      "f1_score_fcg 0.11572499436206676\n",
      "Not good accuracy result !!!!!\n",
      "Experiment number: 27\n",
      "key 5, choosen_index5455\n",
      "key 1, choosen_index1871\n",
      "key 2, choosen_index5357\n",
      "key 3, choosen_index3074\n",
      "key 0, choosen_index3844\n",
      "key 6, choosen_index109\n",
      "key 7, choosen_index6442\n",
      "key 4, choosen_index1643\n"
     ]
    },
    {
     "name": "stderr",
     "output_type": "stream",
     "text": [
      "C:\\Users\\fooli\\anaconda3\\envs\\gpu_env\\lib\\site-packages\\sklearn\\metrics\\_classification.py:1469: UndefinedMetricWarning: Precision is ill-defined and being set to 0.0 in labels with no predicted samples. Use `zero_division` parameter to control this behavior.\n",
      "  _warn_prf(average, modifier, msg_start, len(result))\n"
     ]
    },
    {
     "name": "stdout",
     "output_type": "stream",
     "text": [
      "accuracy_score_baseline 0.6364674533688618\n",
      "recall_score_baseline 0.125\n",
      "precision_score_baseline 0.07955843167110772\n",
      "f1_score_baseline 0.09723191439869737\n",
      "accuracy_score_fcg 0.041872858774267226\n",
      "recall_score_fcg 0.09778896490338329\n",
      "precision_score_fcg 0.0726802414090449\n",
      "f1_score_fcg 0.03968430344404511\n",
      "Not good accuracy result !!!!!\n",
      "Not good recall_score result !!!!!\n",
      "Not good precision_score_ !!!!!\n",
      "Not good accuracy result !!!!!\n",
      "Experiment number: 28\n",
      "key 5, choosen_index2479\n",
      "key 1, choosen_index2849\n",
      "key 2, choosen_index6117\n",
      "key 3, choosen_index7749\n",
      "key 0, choosen_index4417\n",
      "key 6, choosen_index5367\n",
      "key 7, choosen_index2497\n",
      "key 4, choosen_index5866\n"
     ]
    },
    {
     "name": "stderr",
     "output_type": "stream",
     "text": [
      "C:\\Users\\fooli\\anaconda3\\envs\\gpu_env\\lib\\site-packages\\sklearn\\metrics\\_classification.py:1469: UndefinedMetricWarning: Precision is ill-defined and being set to 0.0 in labels with no predicted samples. Use `zero_division` parameter to control this behavior.\n",
      "  _warn_prf(average, modifier, msg_start, len(result))\n"
     ]
    },
    {
     "name": "stdout",
     "output_type": "stream",
     "text": [
      "accuracy_score_baseline 0.6364674533688618\n",
      "recall_score_baseline 0.125\n",
      "precision_score_baseline 0.07955843167110772\n",
      "f1_score_baseline 0.09723191439869737\n",
      "accuracy_score_fcg 0.0803197563760944\n",
      "recall_score_fcg 0.10642052070236571\n",
      "precision_score_fcg 0.10914515035354201\n",
      "f1_score_fcg 0.05770899340605942\n",
      "Not good accuracy result !!!!!\n",
      "Not good recall_score result !!!!!\n",
      "Not good accuracy result !!!!!\n",
      "Experiment number: 29\n"
     ]
    },
    {
     "name": "stderr",
     "output_type": "stream",
     "text": [
      "C:\\Users\\fooli\\anaconda3\\envs\\gpu_env\\lib\\site-packages\\sklearn\\metrics\\_classification.py:1469: UndefinedMetricWarning: Precision is ill-defined and being set to 0.0 in labels with no predicted samples. Use `zero_division` parameter to control this behavior.\n",
      "  _warn_prf(average, modifier, msg_start, len(result))\n"
     ]
    },
    {
     "name": "stdout",
     "output_type": "stream",
     "text": [
      "key 5, choosen_index2203\n",
      "key 1, choosen_index1302\n",
      "key 2, choosen_index1576\n",
      "key 3, choosen_index5581\n",
      "key 0, choosen_index7493\n",
      "key 6, choosen_index7775\n",
      "key 7, choosen_index2497\n",
      "key 4, choosen_index2460\n",
      "accuracy_score_baseline 0.6364674533688618\n",
      "recall_score_baseline 0.125\n",
      "precision_score_baseline 0.07955843167110772\n",
      "f1_score_baseline 0.09723191439869737\n",
      "accuracy_score_fcg 0.1347544727826418\n",
      "recall_score_fcg 0.14172066842709513\n",
      "precision_score_fcg 0.15562541390642798\n",
      "f1_score_fcg 0.0880858212457107\n",
      "Not good accuracy result !!!!!\n",
      "Not good accuracy result !!!!!\n",
      "Experiment number: 30\n"
     ]
    },
    {
     "name": "stderr",
     "output_type": "stream",
     "text": [
      "C:\\Users\\fooli\\anaconda3\\envs\\gpu_env\\lib\\site-packages\\sklearn\\metrics\\_classification.py:1469: UndefinedMetricWarning: Precision is ill-defined and being set to 0.0 in labels with no predicted samples. Use `zero_division` parameter to control this behavior.\n",
      "  _warn_prf(average, modifier, msg_start, len(result))\n"
     ]
    },
    {
     "name": "stdout",
     "output_type": "stream",
     "text": [
      "key 5, choosen_index7836\n",
      "key 1, choosen_index6543\n",
      "key 2, choosen_index6791\n",
      "key 3, choosen_index1367\n",
      "key 0, choosen_index1588\n",
      "key 6, choosen_index5730\n",
      "key 7, choosen_index3818\n",
      "key 4, choosen_index2366\n",
      "accuracy_score_baseline 0.6364674533688618\n",
      "recall_score_baseline 0.125\n",
      "precision_score_baseline 0.07955843167110772\n",
      "f1_score_baseline 0.09723191439869737\n",
      "accuracy_score_fcg 0.0951655881233346\n",
      "recall_score_fcg 0.11042126940827635\n",
      "precision_score_fcg 0.09959631013202111\n",
      "f1_score_fcg 0.07123415894719073\n",
      "Not good accuracy result !!!!!\n",
      "Not good recall_score result !!!!!\n",
      "Not good accuracy result !!!!!\n",
      "Experiment number: 31\n",
      "key 5, choosen_index4794\n",
      "key 1, choosen_index4502\n",
      "key 2, choosen_index8024\n",
      "key 3, choosen_index567\n",
      "key 0, choosen_index3874\n",
      "key 6, choosen_index2247\n",
      "key 7, choosen_index2207\n",
      "key 4, choosen_index1643\n"
     ]
    },
    {
     "name": "stderr",
     "output_type": "stream",
     "text": [
      "C:\\Users\\fooli\\anaconda3\\envs\\gpu_env\\lib\\site-packages\\sklearn\\metrics\\_classification.py:1469: UndefinedMetricWarning: Precision is ill-defined and being set to 0.0 in labels with no predicted samples. Use `zero_division` parameter to control this behavior.\n",
      "  _warn_prf(average, modifier, msg_start, len(result))\n"
     ]
    },
    {
     "name": "stdout",
     "output_type": "stream",
     "text": [
      "accuracy_score_baseline 0.6364674533688618\n",
      "recall_score_baseline 0.125\n",
      "precision_score_baseline 0.07955843167110772\n",
      "f1_score_baseline 0.09723191439869737\n",
      "accuracy_score_fcg 0.09935287400076133\n",
      "recall_score_fcg 0.16910234124150764\n",
      "precision_score_fcg 0.11156978244968563\n",
      "f1_score_fcg 0.09011903098222362\n",
      "Not good accuracy result !!!!!\n",
      "Not good accuracy result !!!!!\n",
      "Experiment number: 32\n",
      "key 5, choosen_index3694\n",
      "key 1, choosen_index1411\n",
      "key 2, choosen_index1501\n",
      "key 3, choosen_index418\n",
      "key 0, choosen_index2368\n",
      "key 6, choosen_index1988\n",
      "key 7, choosen_index45\n",
      "key 4, choosen_index2671\n"
     ]
    },
    {
     "name": "stderr",
     "output_type": "stream",
     "text": [
      "C:\\Users\\fooli\\anaconda3\\envs\\gpu_env\\lib\\site-packages\\sklearn\\metrics\\_classification.py:1469: UndefinedMetricWarning: Precision is ill-defined and being set to 0.0 in labels with no predicted samples. Use `zero_division` parameter to control this behavior.\n",
      "  _warn_prf(average, modifier, msg_start, len(result))\n"
     ]
    },
    {
     "name": "stdout",
     "output_type": "stream",
     "text": [
      "accuracy_score_baseline 0.6364674533688618\n",
      "recall_score_baseline 0.125\n",
      "precision_score_baseline 0.07955843167110772\n",
      "f1_score_baseline 0.09723191439869737\n",
      "accuracy_score_fcg 0.10582413399314808\n",
      "recall_score_fcg 0.14772539300884935\n",
      "precision_score_fcg 0.12752690943657422\n",
      "f1_score_fcg 0.07899688753884143\n",
      "Not good accuracy result !!!!!\n",
      "Not good accuracy result !!!!!\n",
      "Experiment number: 33\n"
     ]
    },
    {
     "name": "stderr",
     "output_type": "stream",
     "text": [
      "C:\\Users\\fooli\\anaconda3\\envs\\gpu_env\\lib\\site-packages\\sklearn\\metrics\\_classification.py:1469: UndefinedMetricWarning: Precision is ill-defined and being set to 0.0 in labels with no predicted samples. Use `zero_division` parameter to control this behavior.\n",
      "  _warn_prf(average, modifier, msg_start, len(result))\n"
     ]
    },
    {
     "name": "stdout",
     "output_type": "stream",
     "text": [
      "key 5, choosen_index7552\n",
      "key 1, choosen_index170\n",
      "key 2, choosen_index7996\n",
      "key 3, choosen_index6681\n",
      "key 0, choosen_index5471\n",
      "key 6, choosen_index2273\n",
      "key 7, choosen_index1166\n",
      "key 4, choosen_index807\n",
      "accuracy_score_baseline 0.6364674533688618\n",
      "recall_score_baseline 0.125\n",
      "precision_score_baseline 0.07955843167110772\n",
      "f1_score_baseline 0.09723191439869737\n",
      "accuracy_score_fcg 0.12904453749524172\n",
      "recall_score_fcg 0.1444153252526378\n",
      "precision_score_fcg 0.17359716770003505\n",
      "f1_score_fcg 0.0965658944662981\n",
      "Not good accuracy result !!!!!\n",
      "Not good accuracy result !!!!!\n",
      "Experiment number: 34\n",
      "key 5, choosen_index4534\n",
      "key 1, choosen_index5573\n",
      "key 2, choosen_index4442\n",
      "key 3, choosen_index3170\n",
      "key 0, choosen_index4417\n",
      "key 6, choosen_index4364\n",
      "key 7, choosen_index6425\n",
      "key 4, choosen_index4880\n"
     ]
    },
    {
     "name": "stderr",
     "output_type": "stream",
     "text": [
      "C:\\Users\\fooli\\anaconda3\\envs\\gpu_env\\lib\\site-packages\\sklearn\\metrics\\_classification.py:1469: UndefinedMetricWarning: Precision is ill-defined and being set to 0.0 in labels with no predicted samples. Use `zero_division` parameter to control this behavior.\n",
      "  _warn_prf(average, modifier, msg_start, len(result))\n"
     ]
    },
    {
     "name": "stdout",
     "output_type": "stream",
     "text": [
      "accuracy_score_baseline 0.6364674533688618\n",
      "recall_score_baseline 0.125\n",
      "precision_score_baseline 0.07955843167110772\n",
      "f1_score_baseline 0.09723191439869737\n",
      "accuracy_score_fcg 0.10963075751808146\n",
      "recall_score_fcg 0.12373673317585875\n",
      "precision_score_fcg 0.14569235777558448\n",
      "f1_score_fcg 0.07628405106083452\n",
      "Not good accuracy result !!!!!\n",
      "Not good recall_score result !!!!!\n",
      "Not good accuracy result !!!!!\n",
      "Experiment number: 35\n",
      "key 5, choosen_index1274\n",
      "key 1, choosen_index2029\n",
      "key 2, choosen_index6574\n",
      "key 3, choosen_index391\n",
      "key 0, choosen_index1794\n",
      "key 6, choosen_index641\n",
      "key 7, choosen_index6343\n",
      "key 4, choosen_index5687\n"
     ]
    },
    {
     "name": "stderr",
     "output_type": "stream",
     "text": [
      "C:\\Users\\fooli\\anaconda3\\envs\\gpu_env\\lib\\site-packages\\sklearn\\metrics\\_classification.py:1469: UndefinedMetricWarning: Precision is ill-defined and being set to 0.0 in labels with no predicted samples. Use `zero_division` parameter to control this behavior.\n",
      "  _warn_prf(average, modifier, msg_start, len(result))\n"
     ]
    },
    {
     "name": "stdout",
     "output_type": "stream",
     "text": [
      "accuracy_score_baseline 0.6364674533688618\n",
      "recall_score_baseline 0.125\n",
      "precision_score_baseline 0.07955843167110772\n",
      "f1_score_baseline 0.09723191439869737\n",
      "accuracy_score_fcg 0.11838599162542825\n",
      "recall_score_fcg 0.11920774416502153\n",
      "precision_score_fcg 0.13356369314799152\n",
      "f1_score_fcg 0.07840703957108841\n",
      "Not good accuracy result !!!!!\n",
      "Not good recall_score result !!!!!\n",
      "Not good accuracy result !!!!!\n",
      "Experiment number: 36\n",
      "key 5, choosen_index7141\n",
      "key 1, choosen_index6500\n",
      "key 2, choosen_index2198\n",
      "key 3, choosen_index3359\n"
     ]
    },
    {
     "name": "stderr",
     "output_type": "stream",
     "text": [
      "C:\\Users\\fooli\\anaconda3\\envs\\gpu_env\\lib\\site-packages\\sklearn\\metrics\\_classification.py:1469: UndefinedMetricWarning: Precision is ill-defined and being set to 0.0 in labels with no predicted samples. Use `zero_division` parameter to control this behavior.\n",
      "  _warn_prf(average, modifier, msg_start, len(result))\n"
     ]
    },
    {
     "name": "stdout",
     "output_type": "stream",
     "text": [
      "key 0, choosen_index2586\n",
      "key 6, choosen_index1647\n",
      "key 7, choosen_index6231\n",
      "key 4, choosen_index52\n",
      "accuracy_score_baseline 0.6364674533688618\n",
      "recall_score_baseline 0.125\n",
      "precision_score_baseline 0.07955843167110772\n",
      "f1_score_baseline 0.09723191439869737\n",
      "accuracy_score_fcg 0.08336505519604111\n",
      "recall_score_fcg 0.10572872208884981\n",
      "precision_score_fcg 0.07474679292359826\n",
      "f1_score_fcg 0.05165681085463079\n",
      "Not good accuracy result !!!!!\n",
      "Not good recall_score result !!!!!\n",
      "Not good precision_score_ !!!!!\n",
      "Not good accuracy result !!!!!\n",
      "Experiment number: 37\n"
     ]
    },
    {
     "name": "stderr",
     "output_type": "stream",
     "text": [
      "C:\\Users\\fooli\\anaconda3\\envs\\gpu_env\\lib\\site-packages\\sklearn\\metrics\\_classification.py:1469: UndefinedMetricWarning: Precision is ill-defined and being set to 0.0 in labels with no predicted samples. Use `zero_division` parameter to control this behavior.\n",
      "  _warn_prf(average, modifier, msg_start, len(result))\n"
     ]
    },
    {
     "name": "stdout",
     "output_type": "stream",
     "text": [
      "key 5, choosen_index6232\n",
      "key 1, choosen_index8034\n",
      "key 2, choosen_index3703\n",
      "key 3, choosen_index7375\n",
      "key 0, choosen_index1967\n",
      "key 6, choosen_index6887\n",
      "key 7, choosen_index1711\n",
      "key 4, choosen_index5162\n",
      "accuracy_score_baseline 0.6364674533688618\n",
      "recall_score_baseline 0.125\n",
      "precision_score_baseline 0.07955843167110772\n",
      "f1_score_baseline 0.09723191439869737\n",
      "accuracy_score_fcg 0.15797487628473544\n",
      "recall_score_fcg 0.14494239878478704\n",
      "precision_score_fcg 0.17673649524851226\n",
      "f1_score_fcg 0.10633667427397032\n",
      "Not good accuracy result !!!!!\n",
      "Experiment number: 38\n"
     ]
    },
    {
     "name": "stderr",
     "output_type": "stream",
     "text": [
      "C:\\Users\\fooli\\anaconda3\\envs\\gpu_env\\lib\\site-packages\\sklearn\\metrics\\_classification.py:1469: UndefinedMetricWarning: Precision is ill-defined and being set to 0.0 in labels with no predicted samples. Use `zero_division` parameter to control this behavior.\n",
      "  _warn_prf(average, modifier, msg_start, len(result))\n"
     ]
    },
    {
     "name": "stdout",
     "output_type": "stream",
     "text": [
      "key 5, choosen_index4143\n",
      "key 1, choosen_index4642\n",
      "key 2, choosen_index1095\n",
      "key 3, choosen_index7444\n",
      "key 0, choosen_index4162\n",
      "key 6, choosen_index4326\n",
      "key 7, choosen_index5958\n",
      "key 4, choosen_index1410\n",
      "accuracy_score_baseline 0.6364674533688618\n",
      "recall_score_baseline 0.125\n",
      "precision_score_baseline 0.07955843167110772\n",
      "f1_score_baseline 0.09723191439869737\n",
      "accuracy_score_fcg 0.1328511610201751\n",
      "recall_score_fcg 0.1592340270781145\n",
      "precision_score_fcg 0.15634096028777833\n",
      "f1_score_fcg 0.08680765395636468\n",
      "Not good accuracy result !!!!!\n",
      "Not good accuracy result !!!!!\n",
      "Experiment number: 39\n",
      "key 5, choosen_index6484\n",
      "key 1, choosen_index1874\n",
      "key 2, choosen_index6877\n",
      "key 3, choosen_index2319\n",
      "key 0, choosen_index3582\n",
      "key 6, choosen_index641\n",
      "key 7, choosen_index1920\n",
      "key 4, choosen_index5687\n"
     ]
    },
    {
     "name": "stderr",
     "output_type": "stream",
     "text": [
      "C:\\Users\\fooli\\anaconda3\\envs\\gpu_env\\lib\\site-packages\\sklearn\\metrics\\_classification.py:1469: UndefinedMetricWarning: Precision is ill-defined and being set to 0.0 in labels with no predicted samples. Use `zero_division` parameter to control this behavior.\n",
      "  _warn_prf(average, modifier, msg_start, len(result))\n"
     ]
    },
    {
     "name": "stdout",
     "output_type": "stream",
     "text": [
      "accuracy_score_baseline 0.6364674533688618\n",
      "recall_score_baseline 0.125\n",
      "precision_score_baseline 0.07955843167110772\n",
      "f1_score_baseline 0.09723191439869737\n",
      "accuracy_score_fcg 0.17129805862200229\n",
      "recall_score_fcg 0.11955428891416892\n",
      "precision_score_fcg 0.12478731315209654\n",
      "f1_score_fcg 0.08706722311412185\n",
      "Not good accuracy result !!!!!\n",
      "Not good recall_score result !!!!!\n",
      "Not good accuracy result !!!!!\n",
      "Experiment number: 40\n",
      "key 5, choosen_index3450\n",
      "key 1, choosen_index3547\n",
      "key 2, choosen_index7629\n",
      "key 3, choosen_index627\n",
      "key 0, choosen_index5527\n",
      "key 6, choosen_index6134\n",
      "key 7, choosen_index970\n",
      "key 4, choosen_index6266\n"
     ]
    },
    {
     "name": "stderr",
     "output_type": "stream",
     "text": [
      "C:\\Users\\fooli\\anaconda3\\envs\\gpu_env\\lib\\site-packages\\sklearn\\metrics\\_classification.py:1469: UndefinedMetricWarning: Precision is ill-defined and being set to 0.0 in labels with no predicted samples. Use `zero_division` parameter to control this behavior.\n",
      "  _warn_prf(average, modifier, msg_start, len(result))\n"
     ]
    },
    {
     "name": "stdout",
     "output_type": "stream",
     "text": [
      "accuracy_score_baseline 0.6364674533688618\n",
      "recall_score_baseline 0.125\n",
      "precision_score_baseline 0.07955843167110772\n",
      "f1_score_baseline 0.09723191439869737\n",
      "accuracy_score_fcg 0.09783022459078797\n",
      "recall_score_fcg 0.11534621439086377\n",
      "precision_score_fcg 0.1208678979821948\n",
      "f1_score_fcg 0.07338702127202042\n",
      "Not good accuracy result !!!!!\n",
      "Not good recall_score result !!!!!\n",
      "Not good accuracy result !!!!!\n",
      "Experiment number: 41\n"
     ]
    },
    {
     "name": "stderr",
     "output_type": "stream",
     "text": [
      "C:\\Users\\fooli\\anaconda3\\envs\\gpu_env\\lib\\site-packages\\sklearn\\metrics\\_classification.py:1469: UndefinedMetricWarning: Precision is ill-defined and being set to 0.0 in labels with no predicted samples. Use `zero_division` parameter to control this behavior.\n",
      "  _warn_prf(average, modifier, msg_start, len(result))\n"
     ]
    },
    {
     "name": "stdout",
     "output_type": "stream",
     "text": [
      "key 5, choosen_index4041\n",
      "key 1, choosen_index1872\n",
      "key 2, choosen_index321\n",
      "key 3, choosen_index1052\n",
      "key 0, choosen_index851\n",
      "key 6, choosen_index2130\n",
      "key 7, choosen_index3245\n",
      "key 4, choosen_index5019\n",
      "accuracy_score_baseline 0.6364674533688618\n",
      "recall_score_baseline 0.125\n",
      "precision_score_baseline 0.07955843167110772\n",
      "f1_score_baseline 0.09723191439869737\n",
      "accuracy_score_fcg 0.1069661210506281\n",
      "recall_score_fcg 0.0989955520746377\n",
      "precision_score_fcg 0.12457676524007302\n",
      "f1_score_fcg 0.06628675509519796\n",
      "Not good accuracy result !!!!!\n",
      "Not good recall_score result !!!!!\n",
      "Not good accuracy result !!!!!\n",
      "Experiment number: 42\n"
     ]
    },
    {
     "name": "stderr",
     "output_type": "stream",
     "text": [
      "C:\\Users\\fooli\\anaconda3\\envs\\gpu_env\\lib\\site-packages\\sklearn\\metrics\\_classification.py:1469: UndefinedMetricWarning: Precision is ill-defined and being set to 0.0 in labels with no predicted samples. Use `zero_division` parameter to control this behavior.\n",
      "  _warn_prf(average, modifier, msg_start, len(result))\n"
     ]
    },
    {
     "name": "stdout",
     "output_type": "stream",
     "text": [
      "key 5, choosen_index3041\n",
      "key 1, choosen_index491\n",
      "key 2, choosen_index3861\n",
      "key 3, choosen_index2937\n",
      "key 0, choosen_index1511\n",
      "key 6, choosen_index4785\n",
      "key 7, choosen_index1094\n",
      "key 4, choosen_index303\n",
      "accuracy_score_baseline 0.6364674533688618\n",
      "recall_score_baseline 0.125\n",
      "precision_score_baseline 0.07955843167110772\n",
      "f1_score_baseline 0.09723191439869737\n",
      "accuracy_score_fcg 0.11343738104301485\n",
      "recall_score_fcg 0.13479484824770896\n",
      "precision_score_fcg 0.16539958426561913\n",
      "f1_score_fcg 0.08253532699186134\n",
      "Not good accuracy result !!!!!\n",
      "Not good accuracy result !!!!!\n",
      "Experiment number: 43\n"
     ]
    },
    {
     "name": "stderr",
     "output_type": "stream",
     "text": [
      "C:\\Users\\fooli\\anaconda3\\envs\\gpu_env\\lib\\site-packages\\sklearn\\metrics\\_classification.py:1469: UndefinedMetricWarning: Precision is ill-defined and being set to 0.0 in labels with no predicted samples. Use `zero_division` parameter to control this behavior.\n",
      "  _warn_prf(average, modifier, msg_start, len(result))\n"
     ]
    },
    {
     "name": "stdout",
     "output_type": "stream",
     "text": [
      "key 5, choosen_index987\n",
      "key 1, choosen_index3840\n",
      "key 2, choosen_index7708\n",
      "key 3, choosen_index1468\n",
      "key 0, choosen_index4363\n",
      "key 6, choosen_index2043\n",
      "key 7, choosen_index6206\n",
      "key 4, choosen_index5325\n",
      "accuracy_score_baseline 0.6364674533688618\n",
      "recall_score_baseline 0.125\n",
      "precision_score_baseline 0.07955843167110772\n",
      "f1_score_baseline 0.09723191439869737\n",
      "accuracy_score_fcg 0.21811952797868292\n",
      "recall_score_fcg 0.1367277422793961\n",
      "precision_score_fcg 0.14099441829398368\n",
      "f1_score_fcg 0.10900236530295482\n",
      "Not good accuracy result !!!!!\n",
      "Experiment number: 44\n"
     ]
    },
    {
     "name": "stderr",
     "output_type": "stream",
     "text": [
      "C:\\Users\\fooli\\anaconda3\\envs\\gpu_env\\lib\\site-packages\\sklearn\\metrics\\_classification.py:1469: UndefinedMetricWarning: Precision is ill-defined and being set to 0.0 in labels with no predicted samples. Use `zero_division` parameter to control this behavior.\n",
      "  _warn_prf(average, modifier, msg_start, len(result))\n"
     ]
    },
    {
     "name": "stdout",
     "output_type": "stream",
     "text": [
      "key 5, choosen_index3090\n",
      "key 1, choosen_index4461\n",
      "key 2, choosen_index7361\n",
      "key 3, choosen_index579\n",
      "key 0, choosen_index5496\n",
      "key 6, choosen_index2725\n",
      "key 7, choosen_index1742\n",
      "key 4, choosen_index6256\n",
      "accuracy_score_baseline 0.6364674533688618\n",
      "recall_score_baseline 0.125\n",
      "precision_score_baseline 0.07955843167110772\n",
      "f1_score_baseline 0.09723191439869737\n",
      "accuracy_score_fcg 0.13741910925009518\n",
      "recall_score_fcg 0.15962626990770734\n",
      "precision_score_fcg 0.16867314240986386\n",
      "f1_score_fcg 0.0947840907816842\n",
      "Not good accuracy result !!!!!\n",
      "Not good accuracy result !!!!!\n",
      "Experiment number: 45\n"
     ]
    },
    {
     "name": "stderr",
     "output_type": "stream",
     "text": [
      "C:\\Users\\fooli\\anaconda3\\envs\\gpu_env\\lib\\site-packages\\sklearn\\metrics\\_classification.py:1469: UndefinedMetricWarning: Precision is ill-defined and being set to 0.0 in labels with no predicted samples. Use `zero_division` parameter to control this behavior.\n",
      "  _warn_prf(average, modifier, msg_start, len(result))\n"
     ]
    },
    {
     "name": "stdout",
     "output_type": "stream",
     "text": [
      "key 5, choosen_index5835\n",
      "key 1, choosen_index2967\n",
      "key 2, choosen_index3032\n",
      "key 3, choosen_index962\n",
      "key 0, choosen_index781\n",
      "key 6, choosen_index4192\n",
      "key 7, choosen_index2207\n",
      "key 4, choosen_index1410\n",
      "accuracy_score_baseline 0.6364674533688618\n",
      "recall_score_baseline 0.125\n",
      "precision_score_baseline 0.07955843167110772\n",
      "f1_score_baseline 0.09723191439869737\n",
      "accuracy_score_fcg 0.18347925390178912\n",
      "recall_score_fcg 0.16140687560276612\n",
      "precision_score_fcg 0.16444096334939518\n",
      "f1_score_fcg 0.1082313582378785\n",
      "Not good accuracy result !!!!!\n",
      "Experiment number: 46\n"
     ]
    },
    {
     "name": "stderr",
     "output_type": "stream",
     "text": [
      "C:\\Users\\fooli\\anaconda3\\envs\\gpu_env\\lib\\site-packages\\sklearn\\metrics\\_classification.py:1469: UndefinedMetricWarning: Precision is ill-defined and being set to 0.0 in labels with no predicted samples. Use `zero_division` parameter to control this behavior.\n",
      "  _warn_prf(average, modifier, msg_start, len(result))\n"
     ]
    },
    {
     "name": "stdout",
     "output_type": "stream",
     "text": [
      "key 5, choosen_index3125\n",
      "key 1, choosen_index2914\n",
      "key 2, choosen_index3520\n",
      "key 3, choosen_index1861\n",
      "key 0, choosen_index1694\n",
      "key 6, choosen_index5990\n",
      "key 7, choosen_index3245\n",
      "key 4, choosen_index1441\n",
      "accuracy_score_baseline 0.6364674533688618\n",
      "recall_score_baseline 0.125\n",
      "precision_score_baseline 0.07955843167110772\n",
      "f1_score_baseline 0.09723191439869737\n",
      "accuracy_score_fcg 0.12447658926532167\n",
      "recall_score_fcg 0.10470818724052583\n",
      "precision_score_fcg 0.1435870804933925\n",
      "f1_score_fcg 0.0716412397885644\n",
      "Not good accuracy result !!!!!\n",
      "Not good recall_score result !!!!!\n",
      "Not good accuracy result !!!!!\n",
      "Experiment number: 47\n"
     ]
    },
    {
     "name": "stderr",
     "output_type": "stream",
     "text": [
      "C:\\Users\\fooli\\anaconda3\\envs\\gpu_env\\lib\\site-packages\\sklearn\\metrics\\_classification.py:1469: UndefinedMetricWarning: Precision is ill-defined and being set to 0.0 in labels with no predicted samples. Use `zero_division` parameter to control this behavior.\n",
      "  _warn_prf(average, modifier, msg_start, len(result))\n"
     ]
    },
    {
     "name": "stdout",
     "output_type": "stream",
     "text": [
      "key 5, choosen_index3785\n",
      "key 1, choosen_index6345\n",
      "key 2, choosen_index4452\n",
      "key 3, choosen_index3594\n",
      "key 0, choosen_index5666\n",
      "key 6, choosen_index4258\n",
      "key 7, choosen_index2207\n",
      "key 4, choosen_index3437\n",
      "accuracy_score_baseline 0.6364674533688618\n",
      "recall_score_baseline 0.125\n",
      "precision_score_baseline 0.07955843167110772\n",
      "f1_score_baseline 0.09723191439869737\n",
      "accuracy_score_fcg 0.21279025504377616\n",
      "recall_score_fcg 0.13382992235877933\n",
      "precision_score_fcg 0.13943255501475088\n",
      "f1_score_fcg 0.1028316619998772\n",
      "Not good accuracy result !!!!!\n",
      "Experiment number: 48\n"
     ]
    },
    {
     "name": "stderr",
     "output_type": "stream",
     "text": [
      "C:\\Users\\fooli\\anaconda3\\envs\\gpu_env\\lib\\site-packages\\sklearn\\metrics\\_classification.py:1469: UndefinedMetricWarning: Precision is ill-defined and being set to 0.0 in labels with no predicted samples. Use `zero_division` parameter to control this behavior.\n",
      "  _warn_prf(average, modifier, msg_start, len(result))\n"
     ]
    },
    {
     "name": "stdout",
     "output_type": "stream",
     "text": [
      "key 5, choosen_index6569\n",
      "key 1, choosen_index4598\n",
      "key 2, choosen_index3921\n",
      "key 3, choosen_index5393\n",
      "key 0, choosen_index1478\n",
      "key 6, choosen_index6122\n",
      "key 7, choosen_index2858\n",
      "key 4, choosen_index7264\n",
      "accuracy_score_baseline 0.6364674533688618\n",
      "recall_score_baseline 0.125\n",
      "precision_score_baseline 0.07955843167110772\n",
      "f1_score_baseline 0.09723191439869737\n",
      "accuracy_score_fcg 0.09744956223829464\n",
      "recall_score_fcg 0.12525751772137206\n",
      "precision_score_fcg 0.09638062562004737\n",
      "f1_score_fcg 0.0711957931192208\n",
      "Not good accuracy result !!!!!\n",
      "Not good accuracy result !!!!!\n",
      "Experiment number: 49\n"
     ]
    },
    {
     "name": "stderr",
     "output_type": "stream",
     "text": [
      "C:\\Users\\fooli\\anaconda3\\envs\\gpu_env\\lib\\site-packages\\sklearn\\metrics\\_classification.py:1469: UndefinedMetricWarning: Precision is ill-defined and being set to 0.0 in labels with no predicted samples. Use `zero_division` parameter to control this behavior.\n",
      "  _warn_prf(average, modifier, msg_start, len(result))\n"
     ]
    },
    {
     "name": "stdout",
     "output_type": "stream",
     "text": [
      "key 5, choosen_index1353\n",
      "key 1, choosen_index5839\n",
      "key 2, choosen_index1017\n",
      "key 3, choosen_index7048\n",
      "key 0, choosen_index1478\n",
      "key 6, choosen_index324\n",
      "key 7, choosen_index6206\n",
      "key 4, choosen_index5019\n"
     ]
    }
   ],
   "source": [
    "import experiment\n",
    "scope_num = 50\n",
    "topology_ratio = 2\n",
    "\n",
    "experiment = experiment.Experiment()\n",
    "experiment.Ttest(dataread,scope_num,topology_ratio)"
   ]
  },
  {
   "cell_type": "code",
   "execution_count": null,
   "id": "79bfdb90",
   "metadata": {},
   "outputs": [],
   "source": []
  }
 ],
 "metadata": {
  "kernelspec": {
   "display_name": "Python (GPU)",
   "language": "python",
   "name": "gpu_env"
  },
  "language_info": {
   "codemirror_mode": {
    "name": "ipython",
    "version": 3
   },
   "file_extension": ".py",
   "mimetype": "text/x-python",
   "name": "python",
   "nbconvert_exporter": "python",
   "pygments_lexer": "ipython3",
   "version": "3.9.18"
  }
 },
 "nbformat": 4,
 "nbformat_minor": 5
}
