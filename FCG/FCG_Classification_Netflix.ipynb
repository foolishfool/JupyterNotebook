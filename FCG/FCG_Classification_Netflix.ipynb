{
 "cells": [
  {
   "cell_type": "code",
   "execution_count": 1,
   "id": "1f0fd19f",
   "metadata": {
    "scrolled": false
   },
   "outputs": [],
   "source": [
    "#THIS CODE ONLY DO THE WHOLE DATA TRAINING, NO CROSS_VALIDATION AND FEATURE SELECTION\n",
    "import pandas as pd\n",
    "#numpy-1.21.4\n",
    "import numpy as np\n",
    "import dataset_read\n",
    "import researchpy as rp\n",
    "import scipy.stats as stats\n",
    "import matplotlib.pyplot as plt\n",
    "import collections\n",
    "import warnings\n",
    "warnings.filterwarnings(\"ignore\", category=np.VisibleDeprecationWarning) \n",
    "dataread = dataset_read.DATAREAD()"
   ]
  },
  {
   "cell_type": "code",
   "execution_count": 23,
   "id": "25e9098d",
   "metadata": {
    "scrolled": true
   },
   "outputs": [
    {
     "name": "stdout",
     "output_type": "stream",
     "text": [
      "continuous_feature_num 3\n",
      "discrete_feature_num 4\n",
      "self.data_discrete_indexes ['Monthly Revenue', 'Country', 'Gender', 'Device'] \n"
     ]
    }
   ],
   "source": [
    "csv = pd.read_csv(\"Netflix Userbase.csv\")\n",
    "csv = csv.drop(columns=['User ID','Plan Duration'])\n",
    "\n",
    "\n",
    "dataread.label_encoding(csv,\"Subscription Type\")\n",
    "dataread.label_encoding(csv,\"Country\")\n",
    "dataread.label_encoding(csv,\"Gender\")\n",
    "dataread.label_encoding(csv,\"Device\")\n",
    "\n",
    "\n",
    "csv_test = csv.sample(int(csv.shape[0]*0.3))\n",
    "csv_training = csv.drop(csv_test.index,axis = 0)\n",
    "\n",
    "\n",
    "\n",
    "\n",
    "dataread.initializedataset(csv,csv_training,csv_test,\"Subscription Type\")\n",
    "\n",
    "#dataread.data_train_discrete"
   ]
  },
  {
   "cell_type": "code",
   "execution_count": 24,
   "id": "513a9bc3",
   "metadata": {
    "scrolled": false
   },
   "outputs": [
    {
     "name": "stdout",
     "output_type": "stream",
     "text": [
      "Experiment number: 1\n",
      "accuracy_score_baseline 0.48133333333333334\n",
      "recall_score_baseline 0.43081734817570255\n",
      "precision_score_baseline 0.31436167982498325\n",
      "f1_score_baseline 0.3634870020187038\n",
      "accuracy_score_fcg 0.6266666666666667\n",
      "recall_score_fcg 0.6554407608676577\n",
      "precision_score_fcg 0.7672529531790945\n",
      "f1_score_fcg 0.6331346331834888\n",
      "Experiment number: 2\n"
     ]
    },
    {
     "name": "stderr",
     "output_type": "stream",
     "text": [
      "C:\\Users\\fooli\\anaconda3\\envs\\gpu_env\\lib\\site-packages\\sklearn\\metrics\\_classification.py:1469: UndefinedMetricWarning: Precision is ill-defined and being set to 0.0 in labels with no predicted samples. Use `zero_division` parameter to control this behavior.\n",
      "  _warn_prf(average, modifier, msg_start, len(result))\n"
     ]
    },
    {
     "name": "stdout",
     "output_type": "stream",
     "text": [
      "accuracy_score_baseline 0.48133333333333334\n",
      "recall_score_baseline 0.43081734817570255\n",
      "precision_score_baseline 0.31436167982498325\n",
      "f1_score_baseline 0.3634870020187038\n",
      "accuracy_score_fcg 0.6266666666666667\n",
      "recall_score_fcg 0.6554407608676577\n",
      "precision_score_fcg 0.7672529531790945\n",
      "f1_score_fcg 0.6331346331834888\n",
      "Experiment number: 3\n"
     ]
    },
    {
     "name": "stderr",
     "output_type": "stream",
     "text": [
      "C:\\Users\\fooli\\anaconda3\\envs\\gpu_env\\lib\\site-packages\\sklearn\\metrics\\_classification.py:1469: UndefinedMetricWarning: Precision is ill-defined and being set to 0.0 in labels with no predicted samples. Use `zero_division` parameter to control this behavior.\n",
      "  _warn_prf(average, modifier, msg_start, len(result))\n"
     ]
    },
    {
     "name": "stdout",
     "output_type": "stream",
     "text": [
      "accuracy_score_baseline 0.48133333333333334\n",
      "recall_score_baseline 0.43081734817570255\n",
      "precision_score_baseline 0.31436167982498325\n",
      "f1_score_baseline 0.3634870020187038\n",
      "accuracy_score_fcg 0.6266666666666667\n",
      "recall_score_fcg 0.6554407608676577\n",
      "precision_score_fcg 0.7672529531790945\n",
      "f1_score_fcg 0.6331346331834888\n",
      "Experiment number: 4\n"
     ]
    },
    {
     "name": "stderr",
     "output_type": "stream",
     "text": [
      "C:\\Users\\fooli\\anaconda3\\envs\\gpu_env\\lib\\site-packages\\sklearn\\metrics\\_classification.py:1469: UndefinedMetricWarning: Precision is ill-defined and being set to 0.0 in labels with no predicted samples. Use `zero_division` parameter to control this behavior.\n",
      "  _warn_prf(average, modifier, msg_start, len(result))\n"
     ]
    },
    {
     "name": "stdout",
     "output_type": "stream",
     "text": [
      "accuracy_score_baseline 0.48133333333333334\n",
      "recall_score_baseline 0.43081734817570255\n",
      "precision_score_baseline 0.31436167982498325\n",
      "f1_score_baseline 0.3634870020187038\n",
      "accuracy_score_fcg 0.6266666666666667\n",
      "recall_score_fcg 0.6554407608676577\n",
      "precision_score_fcg 0.7672529531790945\n",
      "f1_score_fcg 0.6331346331834888\n",
      "Experiment number: 5\n"
     ]
    },
    {
     "name": "stderr",
     "output_type": "stream",
     "text": [
      "C:\\Users\\fooli\\anaconda3\\envs\\gpu_env\\lib\\site-packages\\sklearn\\metrics\\_classification.py:1469: UndefinedMetricWarning: Precision is ill-defined and being set to 0.0 in labels with no predicted samples. Use `zero_division` parameter to control this behavior.\n",
      "  _warn_prf(average, modifier, msg_start, len(result))\n"
     ]
    },
    {
     "name": "stdout",
     "output_type": "stream",
     "text": [
      "accuracy_score_baseline 0.48133333333333334\n",
      "recall_score_baseline 0.43081734817570255\n",
      "precision_score_baseline 0.31436167982498325\n",
      "f1_score_baseline 0.3634870020187038\n",
      "accuracy_score_fcg 0.6266666666666667\n",
      "recall_score_fcg 0.6554407608676577\n",
      "precision_score_fcg 0.7672529531790945\n",
      "f1_score_fcg 0.6331346331834888\n",
      "Experiment number: 6\n"
     ]
    },
    {
     "name": "stderr",
     "output_type": "stream",
     "text": [
      "C:\\Users\\fooli\\anaconda3\\envs\\gpu_env\\lib\\site-packages\\sklearn\\metrics\\_classification.py:1469: UndefinedMetricWarning: Precision is ill-defined and being set to 0.0 in labels with no predicted samples. Use `zero_division` parameter to control this behavior.\n",
      "  _warn_prf(average, modifier, msg_start, len(result))\n"
     ]
    },
    {
     "name": "stdout",
     "output_type": "stream",
     "text": [
      "accuracy_score_baseline 0.48133333333333334\n",
      "recall_score_baseline 0.43081734817570255\n",
      "precision_score_baseline 0.31436167982498325\n",
      "f1_score_baseline 0.3634870020187038\n",
      "accuracy_score_fcg 0.6266666666666667\n",
      "recall_score_fcg 0.6554407608676577\n",
      "precision_score_fcg 0.7672529531790945\n",
      "f1_score_fcg 0.6331346331834888\n",
      "Experiment number: 7\n"
     ]
    },
    {
     "name": "stderr",
     "output_type": "stream",
     "text": [
      "C:\\Users\\fooli\\anaconda3\\envs\\gpu_env\\lib\\site-packages\\sklearn\\metrics\\_classification.py:1469: UndefinedMetricWarning: Precision is ill-defined and being set to 0.0 in labels with no predicted samples. Use `zero_division` parameter to control this behavior.\n",
      "  _warn_prf(average, modifier, msg_start, len(result))\n"
     ]
    },
    {
     "name": "stdout",
     "output_type": "stream",
     "text": [
      "accuracy_score_baseline 0.48133333333333334\n",
      "recall_score_baseline 0.43081734817570255\n",
      "precision_score_baseline 0.31436167982498325\n",
      "f1_score_baseline 0.3634870020187038\n",
      "accuracy_score_fcg 0.6266666666666667\n",
      "recall_score_fcg 0.6554407608676577\n",
      "precision_score_fcg 0.7672529531790945\n",
      "f1_score_fcg 0.6331346331834888\n",
      "Experiment number: 8\n"
     ]
    },
    {
     "name": "stderr",
     "output_type": "stream",
     "text": [
      "C:\\Users\\fooli\\anaconda3\\envs\\gpu_env\\lib\\site-packages\\sklearn\\metrics\\_classification.py:1469: UndefinedMetricWarning: Precision is ill-defined and being set to 0.0 in labels with no predicted samples. Use `zero_division` parameter to control this behavior.\n",
      "  _warn_prf(average, modifier, msg_start, len(result))\n"
     ]
    },
    {
     "name": "stdout",
     "output_type": "stream",
     "text": [
      "accuracy_score_baseline 0.48133333333333334\n",
      "recall_score_baseline 0.43081734817570255\n",
      "precision_score_baseline 0.31436167982498325\n",
      "f1_score_baseline 0.3634870020187038\n",
      "accuracy_score_fcg 0.6266666666666667\n",
      "recall_score_fcg 0.6554407608676577\n",
      "precision_score_fcg 0.7672529531790945\n",
      "f1_score_fcg 0.6331346331834888\n",
      "Experiment number: 9\n"
     ]
    },
    {
     "name": "stderr",
     "output_type": "stream",
     "text": [
      "C:\\Users\\fooli\\anaconda3\\envs\\gpu_env\\lib\\site-packages\\sklearn\\metrics\\_classification.py:1469: UndefinedMetricWarning: Precision is ill-defined and being set to 0.0 in labels with no predicted samples. Use `zero_division` parameter to control this behavior.\n",
      "  _warn_prf(average, modifier, msg_start, len(result))\n"
     ]
    },
    {
     "name": "stdout",
     "output_type": "stream",
     "text": [
      "accuracy_score_baseline 0.48133333333333334\n",
      "recall_score_baseline 0.43081734817570255\n",
      "precision_score_baseline 0.31436167982498325\n",
      "f1_score_baseline 0.3634870020187038\n",
      "accuracy_score_fcg 0.6266666666666667\n",
      "recall_score_fcg 0.6554407608676577\n",
      "precision_score_fcg 0.7672529531790945\n",
      "f1_score_fcg 0.6331346331834888\n",
      "Experiment number: 10\n"
     ]
    },
    {
     "name": "stderr",
     "output_type": "stream",
     "text": [
      "C:\\Users\\fooli\\anaconda3\\envs\\gpu_env\\lib\\site-packages\\sklearn\\metrics\\_classification.py:1469: UndefinedMetricWarning: Precision is ill-defined and being set to 0.0 in labels with no predicted samples. Use `zero_division` parameter to control this behavior.\n",
      "  _warn_prf(average, modifier, msg_start, len(result))\n"
     ]
    },
    {
     "name": "stdout",
     "output_type": "stream",
     "text": [
      "accuracy_score_baseline 0.48133333333333334\n",
      "recall_score_baseline 0.43081734817570255\n",
      "precision_score_baseline 0.31436167982498325\n",
      "f1_score_baseline 0.3634870020187038\n",
      "accuracy_score_fcg 0.6266666666666667\n",
      "recall_score_fcg 0.6554407608676577\n",
      "precision_score_fcg 0.7672529531790945\n",
      "f1_score_fcg 0.6331346331834888\n",
      "Experiment number: 11\n"
     ]
    },
    {
     "name": "stderr",
     "output_type": "stream",
     "text": [
      "C:\\Users\\fooli\\anaconda3\\envs\\gpu_env\\lib\\site-packages\\sklearn\\metrics\\_classification.py:1469: UndefinedMetricWarning: Precision is ill-defined and being set to 0.0 in labels with no predicted samples. Use `zero_division` parameter to control this behavior.\n",
      "  _warn_prf(average, modifier, msg_start, len(result))\n"
     ]
    },
    {
     "name": "stdout",
     "output_type": "stream",
     "text": [
      "accuracy_score_baseline 0.48133333333333334\n",
      "recall_score_baseline 0.43081734817570255\n",
      "precision_score_baseline 0.31436167982498325\n",
      "f1_score_baseline 0.3634870020187038\n",
      "accuracy_score_fcg 0.6266666666666667\n",
      "recall_score_fcg 0.6554407608676577\n",
      "precision_score_fcg 0.7672529531790945\n",
      "f1_score_fcg 0.6331346331834888\n",
      "Experiment number: 12\n"
     ]
    },
    {
     "name": "stderr",
     "output_type": "stream",
     "text": [
      "C:\\Users\\fooli\\anaconda3\\envs\\gpu_env\\lib\\site-packages\\sklearn\\metrics\\_classification.py:1469: UndefinedMetricWarning: Precision is ill-defined and being set to 0.0 in labels with no predicted samples. Use `zero_division` parameter to control this behavior.\n",
      "  _warn_prf(average, modifier, msg_start, len(result))\n"
     ]
    },
    {
     "name": "stdout",
     "output_type": "stream",
     "text": [
      "accuracy_score_baseline 0.48133333333333334\n",
      "recall_score_baseline 0.43081734817570255\n",
      "precision_score_baseline 0.31436167982498325\n",
      "f1_score_baseline 0.3634870020187038\n",
      "accuracy_score_fcg 0.6266666666666667\n",
      "recall_score_fcg 0.6554407608676577\n",
      "precision_score_fcg 0.7672529531790945\n",
      "f1_score_fcg 0.6331346331834888\n",
      "Experiment number: 13\n"
     ]
    },
    {
     "name": "stderr",
     "output_type": "stream",
     "text": [
      "C:\\Users\\fooli\\anaconda3\\envs\\gpu_env\\lib\\site-packages\\sklearn\\metrics\\_classification.py:1469: UndefinedMetricWarning: Precision is ill-defined and being set to 0.0 in labels with no predicted samples. Use `zero_division` parameter to control this behavior.\n",
      "  _warn_prf(average, modifier, msg_start, len(result))\n"
     ]
    },
    {
     "name": "stdout",
     "output_type": "stream",
     "text": [
      "accuracy_score_baseline 0.48133333333333334\n",
      "recall_score_baseline 0.43081734817570255\n",
      "precision_score_baseline 0.31436167982498325\n",
      "f1_score_baseline 0.3634870020187038\n",
      "accuracy_score_fcg 0.6266666666666667\n",
      "recall_score_fcg 0.6554407608676577\n",
      "precision_score_fcg 0.7672529531790945\n",
      "f1_score_fcg 0.6331346331834888\n",
      "Experiment number: 14\n"
     ]
    },
    {
     "name": "stderr",
     "output_type": "stream",
     "text": [
      "C:\\Users\\fooli\\anaconda3\\envs\\gpu_env\\lib\\site-packages\\sklearn\\metrics\\_classification.py:1469: UndefinedMetricWarning: Precision is ill-defined and being set to 0.0 in labels with no predicted samples. Use `zero_division` parameter to control this behavior.\n",
      "  _warn_prf(average, modifier, msg_start, len(result))\n"
     ]
    },
    {
     "name": "stdout",
     "output_type": "stream",
     "text": [
      "accuracy_score_baseline 0.48133333333333334\n",
      "recall_score_baseline 0.43081734817570255\n",
      "precision_score_baseline 0.31436167982498325\n",
      "f1_score_baseline 0.3634870020187038\n",
      "accuracy_score_fcg 0.6266666666666667\n",
      "recall_score_fcg 0.6554407608676577\n",
      "precision_score_fcg 0.7672529531790945\n",
      "f1_score_fcg 0.6331346331834888\n",
      "Experiment number: 15\n"
     ]
    },
    {
     "name": "stderr",
     "output_type": "stream",
     "text": [
      "C:\\Users\\fooli\\anaconda3\\envs\\gpu_env\\lib\\site-packages\\sklearn\\metrics\\_classification.py:1469: UndefinedMetricWarning: Precision is ill-defined and being set to 0.0 in labels with no predicted samples. Use `zero_division` parameter to control this behavior.\n",
      "  _warn_prf(average, modifier, msg_start, len(result))\n"
     ]
    },
    {
     "name": "stdout",
     "output_type": "stream",
     "text": [
      "accuracy_score_baseline 0.48133333333333334\n",
      "recall_score_baseline 0.43081734817570255\n",
      "precision_score_baseline 0.31436167982498325\n",
      "f1_score_baseline 0.3634870020187038\n",
      "accuracy_score_fcg 0.6266666666666667\n",
      "recall_score_fcg 0.6554407608676577\n",
      "precision_score_fcg 0.7672529531790945\n",
      "f1_score_fcg 0.6331346331834888\n",
      "Experiment number: 16\n"
     ]
    },
    {
     "name": "stderr",
     "output_type": "stream",
     "text": [
      "C:\\Users\\fooli\\anaconda3\\envs\\gpu_env\\lib\\site-packages\\sklearn\\metrics\\_classification.py:1469: UndefinedMetricWarning: Precision is ill-defined and being set to 0.0 in labels with no predicted samples. Use `zero_division` parameter to control this behavior.\n",
      "  _warn_prf(average, modifier, msg_start, len(result))\n"
     ]
    },
    {
     "name": "stdout",
     "output_type": "stream",
     "text": [
      "accuracy_score_baseline 0.48133333333333334\n",
      "recall_score_baseline 0.43081734817570255\n",
      "precision_score_baseline 0.31436167982498325\n",
      "f1_score_baseline 0.3634870020187038\n",
      "accuracy_score_fcg 0.6266666666666667\n",
      "recall_score_fcg 0.6554407608676577\n",
      "precision_score_fcg 0.7672529531790945\n",
      "f1_score_fcg 0.6331346331834888\n",
      "Experiment number: 17\n"
     ]
    },
    {
     "name": "stderr",
     "output_type": "stream",
     "text": [
      "C:\\Users\\fooli\\anaconda3\\envs\\gpu_env\\lib\\site-packages\\sklearn\\metrics\\_classification.py:1469: UndefinedMetricWarning: Precision is ill-defined and being set to 0.0 in labels with no predicted samples. Use `zero_division` parameter to control this behavior.\n",
      "  _warn_prf(average, modifier, msg_start, len(result))\n",
      "C:\\Users\\fooli\\anaconda3\\envs\\gpu_env\\lib\\site-packages\\sklearn\\metrics\\_classification.py:1469: UndefinedMetricWarning: Precision is ill-defined and being set to 0.0 in labels with no predicted samples. Use `zero_division` parameter to control this behavior.\n",
      "  _warn_prf(average, modifier, msg_start, len(result))\n"
     ]
    },
    {
     "name": "stdout",
     "output_type": "stream",
     "text": [
      "accuracy_score_baseline 0.48133333333333334\n",
      "recall_score_baseline 0.43081734817570255\n",
      "precision_score_baseline 0.31436167982498325\n",
      "f1_score_baseline 0.3634870020187038\n",
      "accuracy_score_fcg 0.6266666666666667\n",
      "recall_score_fcg 0.6554407608676577\n",
      "precision_score_fcg 0.7672529531790945\n",
      "f1_score_fcg 0.6331346331834888\n",
      "Experiment number: 18\n",
      "accuracy_score_baseline 0.48133333333333334\n",
      "recall_score_baseline 0.43081734817570255\n",
      "precision_score_baseline 0.31436167982498325\n",
      "f1_score_baseline 0.3634870020187038\n",
      "accuracy_score_fcg 0.6266666666666667\n",
      "recall_score_fcg 0.6554407608676577\n",
      "precision_score_fcg 0.7672529531790945\n",
      "f1_score_fcg 0.6331346331834888\n",
      "Experiment number: 19\n"
     ]
    },
    {
     "name": "stderr",
     "output_type": "stream",
     "text": [
      "C:\\Users\\fooli\\anaconda3\\envs\\gpu_env\\lib\\site-packages\\sklearn\\metrics\\_classification.py:1469: UndefinedMetricWarning: Precision is ill-defined and being set to 0.0 in labels with no predicted samples. Use `zero_division` parameter to control this behavior.\n",
      "  _warn_prf(average, modifier, msg_start, len(result))\n"
     ]
    },
    {
     "name": "stdout",
     "output_type": "stream",
     "text": [
      "accuracy_score_baseline 0.48133333333333334\n",
      "recall_score_baseline 0.43081734817570255\n",
      "precision_score_baseline 0.31436167982498325\n",
      "f1_score_baseline 0.3634870020187038\n",
      "accuracy_score_fcg 0.6266666666666667\n",
      "recall_score_fcg 0.6554407608676577\n",
      "precision_score_fcg 0.7672529531790945\n",
      "f1_score_fcg 0.6331346331834888\n",
      "Experiment number: 20\n"
     ]
    },
    {
     "name": "stderr",
     "output_type": "stream",
     "text": [
      "C:\\Users\\fooli\\anaconda3\\envs\\gpu_env\\lib\\site-packages\\sklearn\\metrics\\_classification.py:1469: UndefinedMetricWarning: Precision is ill-defined and being set to 0.0 in labels with no predicted samples. Use `zero_division` parameter to control this behavior.\n",
      "  _warn_prf(average, modifier, msg_start, len(result))\n"
     ]
    },
    {
     "name": "stdout",
     "output_type": "stream",
     "text": [
      "accuracy_score_baseline 0.48133333333333334\n",
      "recall_score_baseline 0.43081734817570255\n",
      "precision_score_baseline 0.31436167982498325\n",
      "f1_score_baseline 0.3634870020187038\n",
      "accuracy_score_fcg 0.6266666666666667\n",
      "recall_score_fcg 0.6554407608676577\n",
      "precision_score_fcg 0.7672529531790945\n",
      "f1_score_fcg 0.6331346331834888\n",
      "Experiment number: 21\n"
     ]
    },
    {
     "name": "stderr",
     "output_type": "stream",
     "text": [
      "C:\\Users\\fooli\\anaconda3\\envs\\gpu_env\\lib\\site-packages\\sklearn\\metrics\\_classification.py:1469: UndefinedMetricWarning: Precision is ill-defined and being set to 0.0 in labels with no predicted samples. Use `zero_division` parameter to control this behavior.\n",
      "  _warn_prf(average, modifier, msg_start, len(result))\n"
     ]
    },
    {
     "name": "stdout",
     "output_type": "stream",
     "text": [
      "accuracy_score_baseline 0.48133333333333334\n",
      "recall_score_baseline 0.43081734817570255\n",
      "precision_score_baseline 0.31436167982498325\n",
      "f1_score_baseline 0.3634870020187038\n",
      "accuracy_score_fcg 0.6266666666666667\n",
      "recall_score_fcg 0.6554407608676577\n",
      "precision_score_fcg 0.7672529531790945\n",
      "f1_score_fcg 0.6331346331834888\n",
      "Experiment number: 22\n"
     ]
    },
    {
     "name": "stderr",
     "output_type": "stream",
     "text": [
      "C:\\Users\\fooli\\anaconda3\\envs\\gpu_env\\lib\\site-packages\\sklearn\\metrics\\_classification.py:1469: UndefinedMetricWarning: Precision is ill-defined and being set to 0.0 in labels with no predicted samples. Use `zero_division` parameter to control this behavior.\n",
      "  _warn_prf(average, modifier, msg_start, len(result))\n"
     ]
    },
    {
     "name": "stdout",
     "output_type": "stream",
     "text": [
      "accuracy_score_baseline 0.48133333333333334\n",
      "recall_score_baseline 0.43081734817570255\n",
      "precision_score_baseline 0.31436167982498325\n",
      "f1_score_baseline 0.3634870020187038\n",
      "accuracy_score_fcg 0.6266666666666667\n",
      "recall_score_fcg 0.6554407608676577\n",
      "precision_score_fcg 0.7672529531790945\n",
      "f1_score_fcg 0.6331346331834888\n",
      "Experiment number: 23\n"
     ]
    },
    {
     "name": "stderr",
     "output_type": "stream",
     "text": [
      "C:\\Users\\fooli\\anaconda3\\envs\\gpu_env\\lib\\site-packages\\sklearn\\metrics\\_classification.py:1469: UndefinedMetricWarning: Precision is ill-defined and being set to 0.0 in labels with no predicted samples. Use `zero_division` parameter to control this behavior.\n",
      "  _warn_prf(average, modifier, msg_start, len(result))\n"
     ]
    },
    {
     "name": "stdout",
     "output_type": "stream",
     "text": [
      "accuracy_score_baseline 0.48133333333333334\n",
      "recall_score_baseline 0.43081734817570255\n",
      "precision_score_baseline 0.31436167982498325\n",
      "f1_score_baseline 0.3634870020187038\n",
      "accuracy_score_fcg 0.6266666666666667\n",
      "recall_score_fcg 0.6554407608676577\n",
      "precision_score_fcg 0.7672529531790945\n",
      "f1_score_fcg 0.6331346331834888\n",
      "Experiment number: 24\n"
     ]
    },
    {
     "name": "stderr",
     "output_type": "stream",
     "text": [
      "C:\\Users\\fooli\\anaconda3\\envs\\gpu_env\\lib\\site-packages\\sklearn\\metrics\\_classification.py:1469: UndefinedMetricWarning: Precision is ill-defined and being set to 0.0 in labels with no predicted samples. Use `zero_division` parameter to control this behavior.\n",
      "  _warn_prf(average, modifier, msg_start, len(result))\n"
     ]
    },
    {
     "name": "stdout",
     "output_type": "stream",
     "text": [
      "accuracy_score_baseline 0.48133333333333334\n",
      "recall_score_baseline 0.43081734817570255\n",
      "precision_score_baseline 0.31436167982498325\n",
      "f1_score_baseline 0.3634870020187038\n",
      "accuracy_score_fcg 0.6266666666666667\n",
      "recall_score_fcg 0.6554407608676577\n",
      "precision_score_fcg 0.7672529531790945\n",
      "f1_score_fcg 0.6331346331834888\n",
      "Experiment number: 25\n"
     ]
    },
    {
     "name": "stderr",
     "output_type": "stream",
     "text": [
      "C:\\Users\\fooli\\anaconda3\\envs\\gpu_env\\lib\\site-packages\\sklearn\\metrics\\_classification.py:1469: UndefinedMetricWarning: Precision is ill-defined and being set to 0.0 in labels with no predicted samples. Use `zero_division` parameter to control this behavior.\n",
      "  _warn_prf(average, modifier, msg_start, len(result))\n"
     ]
    },
    {
     "name": "stdout",
     "output_type": "stream",
     "text": [
      "accuracy_score_baseline 0.48133333333333334\n",
      "recall_score_baseline 0.43081734817570255\n",
      "precision_score_baseline 0.31436167982498325\n",
      "f1_score_baseline 0.3634870020187038\n",
      "accuracy_score_fcg 0.6266666666666667\n",
      "recall_score_fcg 0.6554407608676577\n",
      "precision_score_fcg 0.7672529531790945\n",
      "f1_score_fcg 0.6331346331834888\n",
      "Experiment number: 26\n"
     ]
    },
    {
     "name": "stderr",
     "output_type": "stream",
     "text": [
      "C:\\Users\\fooli\\anaconda3\\envs\\gpu_env\\lib\\site-packages\\sklearn\\metrics\\_classification.py:1469: UndefinedMetricWarning: Precision is ill-defined and being set to 0.0 in labels with no predicted samples. Use `zero_division` parameter to control this behavior.\n",
      "  _warn_prf(average, modifier, msg_start, len(result))\n"
     ]
    },
    {
     "name": "stdout",
     "output_type": "stream",
     "text": [
      "accuracy_score_baseline 0.48133333333333334\n",
      "recall_score_baseline 0.43081734817570255\n",
      "precision_score_baseline 0.31436167982498325\n",
      "f1_score_baseline 0.3634870020187038\n",
      "accuracy_score_fcg 0.6266666666666667\n",
      "recall_score_fcg 0.6554407608676577\n",
      "precision_score_fcg 0.7672529531790945\n",
      "f1_score_fcg 0.6331346331834888\n",
      "Experiment number: 27\n"
     ]
    },
    {
     "name": "stderr",
     "output_type": "stream",
     "text": [
      "C:\\Users\\fooli\\anaconda3\\envs\\gpu_env\\lib\\site-packages\\sklearn\\metrics\\_classification.py:1469: UndefinedMetricWarning: Precision is ill-defined and being set to 0.0 in labels with no predicted samples. Use `zero_division` parameter to control this behavior.\n",
      "  _warn_prf(average, modifier, msg_start, len(result))\n"
     ]
    },
    {
     "name": "stdout",
     "output_type": "stream",
     "text": [
      "accuracy_score_baseline 0.48133333333333334\n",
      "recall_score_baseline 0.43081734817570255\n",
      "precision_score_baseline 0.31436167982498325\n",
      "f1_score_baseline 0.3634870020187038\n",
      "accuracy_score_fcg 0.6266666666666667\n",
      "recall_score_fcg 0.6554407608676577\n",
      "precision_score_fcg 0.7672529531790945\n",
      "f1_score_fcg 0.6331346331834888\n",
      "Experiment number: 28\n"
     ]
    },
    {
     "name": "stderr",
     "output_type": "stream",
     "text": [
      "C:\\Users\\fooli\\anaconda3\\envs\\gpu_env\\lib\\site-packages\\sklearn\\metrics\\_classification.py:1469: UndefinedMetricWarning: Precision is ill-defined and being set to 0.0 in labels with no predicted samples. Use `zero_division` parameter to control this behavior.\n",
      "  _warn_prf(average, modifier, msg_start, len(result))\n"
     ]
    },
    {
     "name": "stdout",
     "output_type": "stream",
     "text": [
      "accuracy_score_baseline 0.48133333333333334\n",
      "recall_score_baseline 0.43081734817570255\n",
      "precision_score_baseline 0.31436167982498325\n",
      "f1_score_baseline 0.3634870020187038\n",
      "accuracy_score_fcg 0.6266666666666667\n",
      "recall_score_fcg 0.6554407608676577\n",
      "precision_score_fcg 0.7672529531790945\n",
      "f1_score_fcg 0.6331346331834888\n",
      "Experiment number: 29\n"
     ]
    },
    {
     "name": "stderr",
     "output_type": "stream",
     "text": [
      "C:\\Users\\fooli\\anaconda3\\envs\\gpu_env\\lib\\site-packages\\sklearn\\metrics\\_classification.py:1469: UndefinedMetricWarning: Precision is ill-defined and being set to 0.0 in labels with no predicted samples. Use `zero_division` parameter to control this behavior.\n",
      "  _warn_prf(average, modifier, msg_start, len(result))\n"
     ]
    },
    {
     "name": "stdout",
     "output_type": "stream",
     "text": [
      "accuracy_score_baseline 0.48133333333333334\n",
      "recall_score_baseline 0.43081734817570255\n",
      "precision_score_baseline 0.31436167982498325\n",
      "f1_score_baseline 0.3634870020187038\n",
      "accuracy_score_fcg 0.6266666666666667\n",
      "recall_score_fcg 0.6554407608676577\n",
      "precision_score_fcg 0.7672529531790945\n",
      "f1_score_fcg 0.6331346331834888\n",
      "Experiment number: 30\n"
     ]
    },
    {
     "name": "stderr",
     "output_type": "stream",
     "text": [
      "C:\\Users\\fooli\\anaconda3\\envs\\gpu_env\\lib\\site-packages\\sklearn\\metrics\\_classification.py:1469: UndefinedMetricWarning: Precision is ill-defined and being set to 0.0 in labels with no predicted samples. Use `zero_division` parameter to control this behavior.\n",
      "  _warn_prf(average, modifier, msg_start, len(result))\n"
     ]
    },
    {
     "name": "stdout",
     "output_type": "stream",
     "text": [
      "accuracy_score_baseline 0.48133333333333334\n",
      "recall_score_baseline 0.43081734817570255\n",
      "precision_score_baseline 0.31436167982498325\n",
      "f1_score_baseline 0.3634870020187038\n",
      "accuracy_score_fcg 0.6266666666666667\n",
      "recall_score_fcg 0.6554407608676577\n",
      "precision_score_fcg 0.7672529531790945\n",
      "f1_score_fcg 0.6331346331834888\n",
      "all_accuracy_score_baseline mean 0.4813333333333334\n",
      "all_recall_score_baseline mean 0.4308173481757026\n",
      "all_precision_score_baseline mean 0.31436167982498325\n",
      "all_f1_score_baseline mean 0.36348700201870393\n",
      "all_accuracy_score_fcg mean 0.6266666666666665\n",
      "all_recall_score_fcg mean 0.6554407608676579\n",
      "all_precision_score_fcg mean 0.7672529531790947\n",
      "all_f1_score_fcg mean 0.6331346331834886\n",
      "len plot_unit 30  len (all_test_score_baseline_accuracy) 30\n"
     ]
    },
    {
     "name": "stderr",
     "output_type": "stream",
     "text": [
      "C:\\Users\\fooli\\anaconda3\\envs\\gpu_env\\lib\\site-packages\\sklearn\\metrics\\_classification.py:1469: UndefinedMetricWarning: Precision is ill-defined and being set to 0.0 in labels with no predicted samples. Use `zero_division` parameter to control this behavior.\n",
      "  _warn_prf(average, modifier, msg_start, len(result))\n"
     ]
    },
    {
     "data": {
      "image/png": "[encoded data removed]",
      "text/plain": [
       "<Figure size 1200x500 with 4 Axes>"
      ]
     },
     "metadata": {},
     "output_type": "display_data"
    },
    {
     "name": "stdout",
     "output_type": "stream",
     "text": [
      "Accuracy Score T-Test\n",
      "                      Variable     N      Mean            SD            SE  \\\n",
      "0  all_accuracy_score_baseline  30.0  0.481333  5.646013e-17  1.030816e-17   \n",
      "1       all_accuracy_score_fcg  30.0  0.626667  2.258405e-16  4.123265e-17   \n",
      "2                     combined  60.0  0.554000  7.327990e-02  9.460394e-03   \n",
      "\n",
      "   95% Conf.  Interval  \n",
      "0   0.481333  0.481333  \n",
      "1   0.626667  0.626667  \n",
      "2   0.535070  0.572930  \n",
      "                                  Independent t-test       results\n",
      "0  Difference (all_accuracy_score_baseline - all_... -1.453000e-01\n",
      "1                              Degrees of freedom =   5.800000e+01\n",
      "2                                               t =  -3.419476e+15\n",
      "3                           Two side test p value =   0.000000e+00\n",
      "4                          Difference < 0 p value =   0.000000e+00\n",
      "5                          Difference > 0 p value =   1.000000e+00\n",
      "6                                       Cohen's d =  -8.829049e+14\n",
      "7                                       Hedge's g =  -8.714386e+14\n",
      "8                                  Glass's delta1 =  -2.574088e+15\n",
      "9                                Point-Biserial r =  -1.000000e+00\n",
      "Recall Score T-Test\n",
      "                    Variable     N      Mean            SD            SE  \\\n",
      "0  all_recall_score_baseline  30.0  0.430817  5.646013e-17  1.030816e-17   \n",
      "1       all_recall_score_fcg  30.0  0.655441  2.258405e-16  4.123265e-17   \n",
      "2                   combined  60.0  0.543129  1.132595e-01  1.462174e-02   \n",
      "\n",
      "   95% Conf.  Interval  \n",
      "0   0.430817  0.430817  \n",
      "1   0.655441  0.655441  \n",
      "2   0.513871  0.572387  \n",
      "                                  Independent t-test       results\n",
      "0  Difference (all_recall_score_baseline - all_re... -2.246000e-01\n",
      "1                              Degrees of freedom =   5.800000e+01\n",
      "2                                               t =  -5.285053e+15\n",
      "3                           Two side test p value =   0.000000e+00\n",
      "4                          Difference < 0 p value =   0.000000e+00\n",
      "5                          Difference > 0 p value =   1.000000e+00\n",
      "6                                       Cohen's d =  -1.364595e+15\n",
      "7                                       Hedge's g =  -1.346873e+15\n",
      "8                                  Glass's delta1 =  -3.978443e+15\n",
      "9                                Point-Biserial r =  -1.000000e+00\n",
      "Precision Score T-Test\n",
      "                       Variable     N      Mean            SD            SE  \\\n",
      "0  all_precision_score_baseline  30.0  0.314362  0.000000e+00  0.000000e+00   \n",
      "1       all_precision_score_fcg  30.0  0.767253  2.258405e-16  4.123265e-17   \n",
      "2                      combined  60.0  0.540807  2.283566e-01  2.948071e-02   \n",
      "\n",
      "   95% Conf.  Interval  \n",
      "0        NaN       NaN  \n",
      "1   0.767253  0.767253  \n",
      "2   0.481817  0.599798  \n",
      "                                  Independent t-test       results\n",
      "0  Difference (all_precision_score_baseline - all... -4.529000e-01\n",
      "1                              Degrees of freedom =   5.800000e+01\n",
      "2                                               t =  -1.098380e+16\n",
      "3                           Two side test p value =   0.000000e+00\n",
      "4                          Difference < 0 p value =   0.000000e+00\n",
      "5                          Difference > 0 p value =   1.000000e+00\n",
      "6                                       Cohen's d =  -2.836006e+15\n",
      "7                                       Hedge's g =  -2.799174e+15\n",
      "8                                  Glass's delta1 =           -inf\n",
      "9                                Point-Biserial r =  -1.000000e+00\n",
      "F1 Score T-Test\n",
      "                Variable     N      Mean            SD            SE  \\\n",
      "0  all_f1_score_baseline  30.0  0.363487  1.129203e-16  2.061632e-17   \n",
      "1       all_f1_score_fcg  30.0  0.633135  2.258405e-16  4.123265e-17   \n",
      "2               combined  60.0  0.498311  1.359616e-01  1.755257e-02   \n",
      "\n",
      "   95% Conf.  Interval  \n",
      "0   0.363487  0.363487  \n",
      "1   0.633135  0.633135  \n",
      "2   0.463188  0.533433  \n",
      "                                  Independent t-test       results\n",
      "0  Difference (all_f1_score_baseline - all_f1_sco... -2.696000e-01\n",
      "1                              Degrees of freedom =   5.800000e+01\n",
      "2                                               t =  -5.849253e+15\n",
      "3                           Two side test p value =   0.000000e+00\n",
      "4                          Difference < 0 p value =   0.000000e+00\n",
      "5                          Difference > 0 p value =   1.000000e+00\n",
      "6                                       Cohen's d =  -1.510271e+15\n",
      "7                                       Hedge's g =  -1.490657e+15\n",
      "8                                  Glass's delta1 =  -2.387947e+15\n",
      "9                                Point-Biserial r =  -1.000000e+00\n"
     ]
    },
    {
     "name": "stderr",
     "output_type": "stream",
     "text": [
      "C:\\Users\\fooli\\anaconda3\\envs\\gpu_env\\lib\\site-packages\\scipy\\stats\\_axis_nan_policy.py:523: RuntimeWarning: Precision loss occurred in moment calculation due to catastrophic cancellation. This occurs when the data are nearly identical. Results may be unreliable.\n",
      "  res = hypotest_fun_out(*samples, **kwds)\n",
      "C:\\Users\\fooli\\anaconda3\\envs\\gpu_env\\lib\\site-packages\\scipy\\stats\\_axis_nan_policy.py:523: RuntimeWarning: Precision loss occurred in moment calculation due to catastrophic cancellation. This occurs when the data are nearly identical. Results may be unreliable.\n",
      "  res = hypotest_fun_out(*samples, **kwds)\n",
      "C:\\Users\\fooli\\anaconda3\\envs\\gpu_env\\lib\\site-packages\\scipy\\stats\\_axis_nan_policy.py:523: RuntimeWarning: Precision loss occurred in moment calculation due to catastrophic cancellation. This occurs when the data are nearly identical. Results may be unreliable.\n",
      "  res = hypotest_fun_out(*samples, **kwds)\n",
      "C:\\Users\\fooli\\anaconda3\\envs\\gpu_env\\lib\\site-packages\\researchpy\\ttest.py:70: RuntimeWarning: divide by zero encountered in double_scalars\n",
      "  delta = (group1.mean() - group2.mean()) / group1.std()\n",
      "C:\\Users\\fooli\\anaconda3\\envs\\gpu_env\\lib\\site-packages\\scipy\\stats\\_distn_infrastructure.py:2241: RuntimeWarning: invalid value encountered in multiply\n",
      "  lower_bound = _a * scale + loc\n",
      "C:\\Users\\fooli\\anaconda3\\envs\\gpu_env\\lib\\site-packages\\scipy\\stats\\_distn_infrastructure.py:2242: RuntimeWarning: invalid value encountered in multiply\n",
      "  upper_bound = _b * scale + loc\n",
      "C:\\Users\\fooli\\anaconda3\\envs\\gpu_env\\lib\\site-packages\\scipy\\stats\\_axis_nan_policy.py:523: RuntimeWarning: Precision loss occurred in moment calculation due to catastrophic cancellation. This occurs when the data are nearly identical. Results may be unreliable.\n",
      "  res = hypotest_fun_out(*samples, **kwds)\n"
     ]
    }
   ],
   "source": [
    "import experiment\n",
    "scope_num = 30\n",
    "topology_ratio = 2\n",
    "\n",
    "experiment = experiment.Experiment()\n",
    "experiment.Ttest(dataread,scope_num,topology_ratio)"
   ]
  },
  {
   "cell_type": "code",
   "execution_count": null,
   "id": "e2a3b37e",
   "metadata": {},
   "outputs": [],
   "source": []
  },
  {
   "cell_type": "code",
   "execution_count": null,
   "id": "8942fe92",
   "metadata": {},
   "outputs": [],
   "source": []
  }
 ],
 "metadata": {
  "kernelspec": {
   "display_name": "Python (GPU)",
   "language": "python",
   "name": "gpu_env"
  },
  "language_info": {
   "codemirror_mode": {
    "name": "ipython",
    "version": 3
   },
   "file_extension": ".py",
   "mimetype": "text/x-python",
   "name": "python",
   "nbconvert_exporter": "python",
   "pygments_lexer": "ipython3",
   "version": "3.9.18"
  }
 },
 "nbformat": 4,
 "nbformat_minor": 5
}
